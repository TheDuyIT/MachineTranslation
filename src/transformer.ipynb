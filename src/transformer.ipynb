{
  "nbformat": 4,
  "nbformat_minor": 0,
  "metadata": {
    "accelerator": "GPU",
    "colab": {
      "name": "chinhsua.ipynb",
      "provenance": [],
      "collapsed_sections": [],
      "include_colab_link": true
    },
    "kernelspec": {
      "display_name": "Python 3",
      "language": "python",
      "name": "python3"
    },
    "language_info": {
      "codemirror_mode": {
        "name": "ipython",
        "version": 3
      },
      "file_extension": ".py",
      "mimetype": "text/x-python",
      "name": "python",
      "nbconvert_exporter": "python",
      "pygments_lexer": "ipython3",
      "version": "3.8.3"
    }
  },
  "cells": [
    {
      "cell_type": "markdown",
      "metadata": {
        "id": "view-in-github",
        "colab_type": "text"
      },
      "source": [
        "<a href=\"https://colab.research.google.com/github/TheDuyIT/MachineTranslation/blob/master/src/transformer.ipynb\" target=\"_parent\"><img src=\"https://colab.research.google.com/assets/colab-badge.svg\" alt=\"Open In Colab\"/></a>"
      ]
    },
    {
      "cell_type": "code",
      "metadata": {
        "id": "XFG0NDRu5mYQ"
      },
      "source": [
        "!pip install -q tfds-nightly\r\n",
        "# !pip install tensorflow-gpu"
      ],
      "execution_count": 6,
      "outputs": []
    },
    {
      "cell_type": "code",
      "metadata": {
        "colab": {
          "base_uri": "https://localhost:8080/"
        },
        "id": "kEATbN5DAYDT",
        "outputId": "282de67f-3edc-45a1-cb0e-f34288c744fa"
      },
      "source": [
        "!npx degit TheDuyIT/MachineTranslation -f"
      ],
      "execution_count": 7,
      "outputs": [
        {
          "output_type": "stream",
          "text": [
            "\u001b[?25l[..................] / rollbackFailedOptional: verb npm-session 92a4fc9778bdfc3\u001b[0m\u001b[K\r[..................] / rollbackFailedOptional: verb npm-session 92a4fc9778bdfc3\u001b[0m\u001b[K\r[#######...........] \\ extract:degit: verb lock using /root/.npm/_locks/staging\u001b[0m\u001b[K\r[#######...........] \\ extract:degit: verb lock using /root/.npm/_locks/staging\u001b[0m\u001b[K\r\r\u001b[K\u001b[?25hnpx: installed 1 in 0.73s\n",
            "\u001b[36m> destination directory is not empty. Using --force, continuing\u001b[39m\n",
            "\u001b[36m> cloned \u001b[1mTheDuyIT/MachineTranslation\u001b[22m#\u001b[1mmaster\u001b[22m\u001b[39m\n"
          ],
          "name": "stdout"
        }
      ]
    },
    {
      "cell_type": "code",
      "metadata": {
        "id": "kB9BXDZLyrMG"
      },
      "source": [
        "# from google.colab import drive\n",
        "# drive.mount('/content/drive')"
      ],
      "execution_count": 8,
      "outputs": []
    },
    {
      "cell_type": "code",
      "metadata": {
        "id": "JjJJyJTZYebt"
      },
      "source": [
        "import tensorflow_datasets as tfds\n",
        "import tensorflow as tf\n",
        "import unicodedata\n",
        "import time\n",
        "import re\n",
        "import numpy as np\n",
        "import matplotlib.pyplot as plt\n",
        "from src.process_data import DataFormatter, DataLoader"
      ],
      "execution_count": 9,
      "outputs": []
    },
    {
      "cell_type": "markdown",
      "metadata": {
        "id": "fd1NWMxjfsDd"
      },
      "source": [
        "## Setup input pipeline"
      ]
    },
    {
      "cell_type": "code",
      "metadata": {
        "id": "v2MJM8-jV6IA"
      },
      "source": [
        "loader = DataLoader()"
      ],
      "execution_count": 10,
      "outputs": []
    },
    {
      "cell_type": "code",
      "metadata": {
        "id": "ZpF0MBnRaq2o"
      },
      "source": [
        "content_en = loader.np_load('lst_cn_all_except_1001')\n",
        "content_vn = loader.np_load('lst_vi_all_except_1001')\n",
        "for i in range(len(content_vn)):\n",
        "  content_vn[i] = content_vn[i].lower()\n",
        "  # content_en.append(i['en'].lower())\n",
        "  # content_vn.append(i['vn'].lower())"
      ],
      "execution_count": 12,
      "outputs": []
    },
    {
      "cell_type": "code",
      "metadata": {
        "colab": {
          "base_uri": "https://localhost:8080/"
        },
        "id": "VP0PoNkyDIHp",
        "outputId": "d73a4222-55e0-4655-9c58-d611528ddae4"
      },
      "source": [
        "print(len(content_en))\r\n",
        "print(len(content_vn))"
      ],
      "execution_count": 13,
      "outputs": [
        {
          "output_type": "stream",
          "text": [
            "8376\n",
            "8376\n"
          ],
          "name": "stdout"
        }
      ]
    },
    {
      "cell_type": "code",
      "metadata": {
        "id": "P1guLOWvfLoC"
      },
      "source": [
        "a = tf.data.Dataset.from_tensor_slices(content_en)  # ==> [ 1, 2, 3 ]\n",
        "b = tf.data.Dataset.from_tensor_slices(content_vn)  # ==> [ 4, 5, 6 ]\n",
        "\n",
        "full_dataset = tf.data.Dataset.zip((a, b))"
      ],
      "execution_count": 14,
      "outputs": []
    },
    {
      "cell_type": "code",
      "metadata": {
        "id": "RTGUJVei9wjc"
      },
      "source": [
        "train_size = int(0.8*0.9*len(full_dataset)) + 2\n",
        "val_size = int(0.8*0.1*len(full_dataset))\n",
        "test_size = int(0.2*len(full_dataset))"
      ],
      "execution_count": 15,
      "outputs": []
    },
    {
      "cell_type": "code",
      "metadata": {
        "id": "g6Z3HImR9a-M"
      },
      "source": [
        "full_dataset = full_dataset.shuffle(buffer_size = 1000)\n",
        "train_examples = full_dataset\n",
        "test_dataset = full_dataset\n",
        "val_dataset = full_dataset\n",
        "# train_examples = full_dataset.take(train_size)\n",
        "# test_dataset = full_dataset.skip(train_size)\n",
        "# val_dataset = test_dataset.skip(val_size)\n",
        "# test_dataset = test_dataset.take(test_size)"
      ],
      "execution_count": 16,
      "outputs": []
    },
    {
      "cell_type": "code",
      "metadata": {
        "id": "KVBg5Q8tBk5z"
      },
      "source": [
        "# tokenizer_vn = tfds.deprecated.text.SubwordTextEncoder.load_from_file('tokenizer_en')\n",
        "# tokenizer_en = tfds.deprecated.text.SubwordTextEncoder.load_from_file('tokenizer_vn')\n",
        "tokenizer_en = tfds.deprecated.text.SubwordTextEncoder.build_from_corpus(\n",
        "    (en.numpy() for en, _ in train_examples), target_vocab_size=2**13)\n",
        "\n",
        "tokenizer_vn = tfds.deprecated.text.SubwordTextEncoder.build_from_corpus(\n",
        "    (vn.numpy() for _, vn in train_examples), target_vocab_size=2**13)"
      ],
      "execution_count": 17,
      "outputs": []
    },
    {
      "cell_type": "code",
      "metadata": {
        "id": "-9ddMZP5z3tp"
      },
      "source": [
        "# tokenizer_en.save_to_file('/content/drive/MyDrive/VinBigData/checkpoints/tokenizer_en')\r\n",
        "# tokenizer_vn.save_to_file('/content/drive/MyDrive/VinBigData/checkpoints/tokenizer_vn')"
      ],
      "execution_count": 18,
      "outputs": []
    },
    {
      "cell_type": "code",
      "metadata": {
        "id": "bcRp7VcQ5m6g"
      },
      "source": [
        "BUFFER_SIZE = 2000\n",
        "BATCH_SIZE = 128"
      ],
      "execution_count": 19,
      "outputs": []
    },
    {
      "cell_type": "code",
      "metadata": {
        "id": "UZwnPr4R055s"
      },
      "source": [
        "def encode(lang1, lang2):\n",
        "  lang1 = [tokenizer_en.vocab_size] + tokenizer_en.encode(\n",
        "      lang1.numpy()) + [tokenizer_en.vocab_size+1]\n",
        "\n",
        "  lang2 = [tokenizer_vn.vocab_size] + tokenizer_vn.encode(\n",
        "      lang2.numpy()) + [tokenizer_vn.vocab_size+1]\n",
        "  \n",
        "  return lang1, lang2"
      ],
      "execution_count": 20,
      "outputs": []
    },
    {
      "cell_type": "code",
      "metadata": {
        "id": "Mah1cS-P70Iz"
      },
      "source": [
        "def tf_encode(en, vn):\n",
        "  result_en, result_vn = tf.py_function(encode, [en, vn], [tf.int64, tf.int64])\n",
        "  result_en.set_shape([None])\n",
        "  result_vn.set_shape([None])\n",
        "\n",
        "  return result_en, result_vn"
      ],
      "execution_count": 21,
      "outputs": []
    },
    {
      "cell_type": "code",
      "metadata": {
        "id": "2QEgbjntk6Yf"
      },
      "source": [
        "MAX_LENGTH = 190\n"
      ],
      "execution_count": 22,
      "outputs": []
    },
    {
      "cell_type": "code",
      "metadata": {
        "id": "c081xPGv1CPI"
      },
      "source": [
        "def filter_max_length(x, y, max_length=MAX_LENGTH):\n",
        "  return tf.logical_and(tf.size(x) <= max_length,\n",
        "                        tf.size(y) <= max_length)"
      ],
      "execution_count": 23,
      "outputs": []
    },
    {
      "cell_type": "code",
      "metadata": {
        "id": "JKIPFkLr-Qsz"
      },
      "source": [
        "train_dataset = train_examples.map(tf_encode)\n",
        "train_dataset = train_dataset.filter(filter_max_length)\n",
        "# cache the dataset to memory to get a speedup while reading from it.\n",
        "train_dataset = train_dataset.cache()\n",
        "train_dataset = train_dataset.shuffle(BUFFER_SIZE).padded_batch(BATCH_SIZE)\n",
        "train_dataset = train_dataset.prefetch(tf.data.experimental.AUTOTUNE)\n",
        "\n",
        "\n",
        "val_dataset = val_dataset.map(tf_encode)\n",
        "val_dataset = val_dataset.filter(filter_max_length).padded_batch(BATCH_SIZE)\n",
        "\n",
        "test_dataset = test_dataset.map(tf_encode)\n",
        "test_dataset = test_dataset.filter(filter_max_length).padded_batch(BATCH_SIZE)"
      ],
      "execution_count": 24,
      "outputs": []
    },
    {
      "cell_type": "markdown",
      "metadata": {
        "id": "nBQuibYA4n0n"
      },
      "source": [
        "## Positional encoding\n",
        "\n",
        "Since this model doesn't contain any recurrence or convolution, positional encoding is added to give the model some information about the relative position of the words in the sentence. \n",
        "\n",
        "The positional encoding vector is added to the embedding vector. Embeddings represent a token in a d-dimensional space where tokens with similar meaning will be closer to each other. But the embeddings do not encode the relative position of words in a sentence. So after adding the positional encoding, words will be closer to each other based on the *similarity of their meaning and their position in the sentence*, in the d-dimensional space.\n",
        "\n",
        "See the notebook on [positional encoding](https://github.com/tensorflow/examples/blob/master/community/en/position_encoding.ipynb) to learn more about it. The formula for calculating the positional encoding is as follows:\n",
        "\n",
        "$$\\Large{PE_{(pos, 2i)} = sin(pos / 10000^{2i / d_{model}})} $$\n",
        "$$\\Large{PE_{(pos, 2i+1)} = cos(pos / 10000^{2i / d_{model}})} $$"
      ]
    },
    {
      "cell_type": "code",
      "metadata": {
        "id": "WhIOZjMNKujn"
      },
      "source": [
        "def get_angles(pos, i, d_model):\n",
        "  angle_rates = 1 / np.power(10000, (2 * (i//2)) / np.float32(d_model))\n",
        "  return pos * angle_rates"
      ],
      "execution_count": 25,
      "outputs": []
    },
    {
      "cell_type": "code",
      "metadata": {
        "id": "1Rz82wEs5biZ"
      },
      "source": [
        "def positional_encoding(position, d_model):\n",
        "  angle_rads = get_angles(np.arange(position)[:, np.newaxis],\n",
        "                          np.arange(d_model)[np.newaxis, :],\n",
        "                          d_model)\n",
        "  \n",
        "  # apply sin to even indices in the array; 2i\n",
        "  angle_rads[:, 0::2] = np.sin(angle_rads[:, 0::2])\n",
        "  \n",
        "  # apply cos to odd indices in the array; 2i+1\n",
        "  angle_rads[:, 1::2] = np.cos(angle_rads[:, 1::2])\n",
        "    \n",
        "  pos_encoding = angle_rads[np.newaxis, ...]\n",
        "    \n",
        "  return tf.cast(pos_encoding, dtype=tf.float32)"
      ],
      "execution_count": 26,
      "outputs": []
    },
    {
      "cell_type": "code",
      "metadata": {
        "id": "1kLCla68EloE",
        "colab": {
          "base_uri": "https://localhost:8080/",
          "height": 301
        },
        "outputId": "a95338b5-f882-4a33-fdaf-5b24f0a35016"
      },
      "source": [
        "pos_encoding = positional_encoding(50, 512)\n",
        "print (pos_encoding.shape)\n",
        "\n",
        "plt.pcolormesh(pos_encoding[0], cmap='RdBu')\n",
        "plt.xlabel('Depth')\n",
        "plt.xlim((0, 512))\n",
        "plt.ylabel('Position')\n",
        "plt.colorbar()\n",
        "plt.show()"
      ],
      "execution_count": 27,
      "outputs": [
        {
          "output_type": "stream",
          "text": [
            "(1, 50, 512)\n"
          ],
          "name": "stdout"
        },
        {
          "output_type": "display_data",
          "data": {
            "image/png": "[encoded data removed]",
            "text/plain": [
              "<Figure size 432x288 with 2 Axes>"
            ]
          },
          "metadata": {
            "tags": [],
            "needs_background": "light"
          }
        }
      ]
    },
    {
      "cell_type": "markdown",
      "metadata": {
        "id": "a_b4ou4TYqUN"
      },
      "source": [
        "## Masking"
      ]
    },
    {
      "cell_type": "code",
      "metadata": {
        "id": "U2i8-e1s8ti9"
      },
      "source": [
        "def create_padding_mask(seq):\n",
        "  seq = tf.cast(tf.math.equal(seq, 0), tf.float32)\n",
        "  \n",
        "  # add extra dimensions to add the padding\n",
        "  # to the attention logits.\n",
        "  return seq[:, tf.newaxis, tf.newaxis, :]  # (batch_size, 1, 1, seq_len)"
      ],
      "execution_count": 28,
      "outputs": []
    },
    {
      "cell_type": "code",
      "metadata": {
        "id": "dVxS8OPI9uI0"
      },
      "source": [
        "def create_look_ahead_mask(size):\n",
        "  mask = 1 - tf.linalg.band_part(tf.ones((size, size)), -1, 0)\n",
        "  return mask  # (seq_len, seq_len)"
      ],
      "execution_count": 29,
      "outputs": []
    },
    {
      "cell_type": "markdown",
      "metadata": {
        "id": "xluDl5cXYy4y"
      },
      "source": [
        "## Scaled dot product attention"
      ]
    },
    {
      "cell_type": "code",
      "metadata": {
        "id": "LazzUq3bJ5SH"
      },
      "source": [
        "def scaled_dot_product_attention(q, k, v, mask):\n",
        "  \"\"\"Calculate the attention weights.\n",
        "  q, k, v must have matching leading dimensions.\n",
        "  k, v must have matching penultimate dimension, i.e.: seq_len_k = seq_len_v.\n",
        "  The mask has different shapes depending on its type(padding or look ahead) \n",
        "  but it must be broadcastable for addition.\n",
        "  \n",
        "  Args:\n",
        "    q: query shape == (..., seq_len_q, depth)\n",
        "    k: key shape == (..., seq_len_k, depth)\n",
        "    v: value shape == (..., seq_len_v, depth_v)\n",
        "    mask: Float tensor with shape broadcastable \n",
        "          to (..., seq_len_q, seq_len_k). Defaults to None.\n",
        "    \n",
        "  Returns:\n",
        "    output, attention_weights\n",
        "  \"\"\"\n",
        "\n",
        "  matmul_qk = tf.matmul(q, k, transpose_b=True)  # (..., seq_len_q, seq_len_k)\n",
        "  \n",
        "  # scale matmul_qk\n",
        "  dk = tf.cast(tf.shape(k)[-1], tf.float32)\n",
        "  scaled_attention_logits = matmul_qk / tf.math.sqrt(dk)\n",
        "\n",
        "  # add the mask to the scaled tensor.\n",
        "  if mask is not None:\n",
        "    scaled_attention_logits += (mask * -1e9)  \n",
        "\n",
        "  # softmax is normalized on the last axis (seq_len_k) so that the scores\n",
        "  # add up to 1.\n",
        "  attention_weights = tf.nn.softmax(scaled_attention_logits, axis=-1)  # (..., seq_len_q, seq_len_k)\n",
        "\n",
        "  output = tf.matmul(attention_weights, v)  # (..., seq_len_q, depth_v)\n",
        "\n",
        "  return output, attention_weights"
      ],
      "execution_count": 30,
      "outputs": []
    },
    {
      "cell_type": "markdown",
      "metadata": {
        "id": "kmzGPEy64qmA"
      },
      "source": [
        "## Multi-head attention"
      ]
    },
    {
      "cell_type": "code",
      "metadata": {
        "id": "BSV3PPKsYecw"
      },
      "source": [
        "class MultiHeadAttention(tf.keras.layers.Layer):\n",
        "  def __init__(self, d_model, num_heads):\n",
        "    super(MultiHeadAttention, self).__init__()\n",
        "    self.num_heads = num_heads\n",
        "    self.d_model = d_model\n",
        "    \n",
        "    assert d_model % self.num_heads == 0\n",
        "    \n",
        "    self.depth = d_model // self.num_heads\n",
        "    \n",
        "    self.wq = tf.keras.layers.Dense(d_model)\n",
        "    self.wk = tf.keras.layers.Dense(d_model)\n",
        "    self.wv = tf.keras.layers.Dense(d_model)\n",
        "    \n",
        "    self.dense = tf.keras.layers.Dense(d_model)\n",
        "        \n",
        "  def split_heads(self, x, batch_size):\n",
        "    \"\"\"Split the last dimension into (num_heads, depth).\n",
        "    Transpose the result such that the shape is (batch_size, num_heads, seq_len, depth)\n",
        "    \"\"\"\n",
        "    x = tf.reshape(x, (batch_size, -1, self.num_heads, self.depth))\n",
        "    return tf.transpose(x, perm=[0, 2, 1, 3])\n",
        "    \n",
        "  def call(self, v, k, q, mask):\n",
        "    batch_size = tf.shape(q)[0]\n",
        "    \n",
        "    q = self.wq(q)  # (batch_size, seq_len, d_model)\n",
        "    k = self.wk(k)  # (batch_size, seq_len, d_model)\n",
        "    v = self.wv(v)  # (batch_size, seq_len, d_model)\n",
        "    \n",
        "    q = self.split_heads(q, batch_size)  # (batch_size, num_heads, seq_len_q, depth)\n",
        "    k = self.split_heads(k, batch_size)  # (batch_size, num_heads, seq_len_k, depth)\n",
        "    v = self.split_heads(v, batch_size)  # (batch_size, num_heads, seq_len_v, depth)\n",
        "    \n",
        "    # scaled_attention.shape == (batch_size, num_heads, seq_len_q, depth)\n",
        "    # attention_weights.shape == (batch_size, num_heads, seq_len_q, seq_len_k)\n",
        "    scaled_attention, attention_weights = scaled_dot_product_attention(\n",
        "        q, k, v, mask)\n",
        "    \n",
        "    scaled_attention = tf.transpose(scaled_attention, perm=[0, 2, 1, 3])  # (batch_size, seq_len_q, num_heads, depth)\n",
        "\n",
        "    concat_attention = tf.reshape(scaled_attention, \n",
        "                                  (batch_size, -1, self.d_model))  # (batch_size, seq_len_q, d_model)\n",
        "\n",
        "    output = self.dense(concat_attention)  # (batch_size, seq_len_q, d_model)\n",
        "        \n",
        "    return output, attention_weights"
      ],
      "execution_count": 31,
      "outputs": []
    },
    {
      "cell_type": "markdown",
      "metadata": {
        "id": "RdDqGayx67vv"
      },
      "source": [
        "## Point wise feed forward network"
      ]
    },
    {
      "cell_type": "markdown",
      "metadata": {
        "id": "gBqzJXGfHK3X"
      },
      "source": [
        "Point wise feed forward network consists of two fully-connected layers with a ReLU activation in between."
      ]
    },
    {
      "cell_type": "code",
      "metadata": {
        "id": "ET7xLt0yCT6Z"
      },
      "source": [
        "def point_wise_feed_forward_network(d_model, dff):\n",
        "  return tf.keras.Sequential([\n",
        "      tf.keras.layers.Dense(dff, activation='relu'),  # (batch_size, seq_len, dff)\n",
        "      tf.keras.layers.Dense(d_model)  # (batch_size, seq_len, d_model)\n",
        "  ])"
      ],
      "execution_count": 32,
      "outputs": []
    },
    {
      "cell_type": "markdown",
      "metadata": {
        "id": "7e7hKcxn6-zd"
      },
      "source": [
        "## Encoder and decoder"
      ]
    },
    {
      "cell_type": "markdown",
      "metadata": {
        "id": "QFv-FNYUmvpn"
      },
      "source": [
        "### Encoder layer\n",
        "\n",
        "Each encoder layer consists of sublayers:\n",
        "\n",
        "1.   Multi-head attention (with padding mask) \n",
        "2.    Point wise feed forward networks. \n",
        "\n",
        "Each of these sublayers has a residual connection around it followed by a layer normalization. Residual connections help in avoiding the vanishing gradient problem in deep networks.\n",
        "\n",
        "The output of each sublayer is `LayerNorm(x + Sublayer(x))`. The normalization is done on the `d_model` (last) axis. There are N encoder layers in the transformer."
      ]
    },
    {
      "cell_type": "code",
      "metadata": {
        "id": "ncyS-Ms3i2x_"
      },
      "source": [
        "class EncoderLayer(tf.keras.layers.Layer):\n",
        "  def __init__(self, d_model, num_heads, dff, rate=0.1):\n",
        "    super(EncoderLayer, self).__init__()\n",
        "\n",
        "    self.mha = MultiHeadAttention(d_model, num_heads)\n",
        "    self.ffn = point_wise_feed_forward_network(d_model, dff)\n",
        "\n",
        "    self.layernorm1 = tf.keras.layers.LayerNormalization(epsilon=1e-6)\n",
        "    self.layernorm2 = tf.keras.layers.LayerNormalization(epsilon=1e-6)\n",
        "    \n",
        "    self.dropout1 = tf.keras.layers.Dropout(rate)\n",
        "    self.dropout2 = tf.keras.layers.Dropout(rate)\n",
        "    \n",
        "  def call(self, x, training, mask):\n",
        "\n",
        "    attn_output, _ = self.mha(x, x, x, mask)  # (batch_size, input_seq_len, d_model)\n",
        "    attn_output = self.dropout1(attn_output, training=training)\n",
        "    out1 = self.layernorm1(x + attn_output)  # (batch_size, input_seq_len, d_model)\n",
        "    \n",
        "    ffn_output = self.ffn(out1)  # (batch_size, input_seq_len, d_model)\n",
        "    ffn_output = self.dropout2(ffn_output, training=training)\n",
        "    out2 = self.layernorm2(out1 + ffn_output)  # (batch_size, input_seq_len, d_model)\n",
        "    \n",
        "    return out2"
      ],
      "execution_count": 33,
      "outputs": []
    },
    {
      "cell_type": "markdown",
      "metadata": {
        "id": "6LO_48Owmx_o"
      },
      "source": [
        "### Decoder layer\n",
        "\n",
        "Each decoder layer consists of sublayers:\n",
        "\n",
        "1.   Masked multi-head attention (with look ahead mask and padding mask)\n",
        "2.   Multi-head attention (with padding mask). V (value) and K (key) receive the *encoder output* as inputs. Q (query) receives the *output from the masked multi-head attention sublayer.*\n",
        "3.   Point wise feed forward networks\n",
        "\n",
        "Each of these sublayers has a residual connection around it followed by a layer normalization. The output of each sublayer is `LayerNorm(x + Sublayer(x))`. The normalization is done on the `d_model` (last) axis.\n",
        "\n",
        "There are N decoder layers in the transformer.\n",
        "\n",
        "As Q receives the output from decoder's first attention block, and K receives the encoder output, the attention weights represent the importance given to the decoder's input based on the encoder's output. In other words, the decoder predicts the next word by looking at the encoder output and self-attending to its own output. See the demonstration above in the scaled dot product attention section."
      ]
    },
    {
      "cell_type": "code",
      "metadata": {
        "id": "9SoX0-vd1hue"
      },
      "source": [
        "class DecoderLayer(tf.keras.layers.Layer):\n",
        "  def __init__(self, d_model, num_heads, dff, rate=0.1):\n",
        "    super(DecoderLayer, self).__init__()\n",
        "\n",
        "    self.mha1 = MultiHeadAttention(d_model, num_heads)\n",
        "    self.mha2 = MultiHeadAttention(d_model, num_heads)\n",
        "\n",
        "    self.ffn = point_wise_feed_forward_network(d_model, dff)\n",
        " \n",
        "    self.layernorm1 = tf.keras.layers.LayerNormalization(epsilon=1e-6)\n",
        "    self.layernorm2 = tf.keras.layers.LayerNormalization(epsilon=1e-6)\n",
        "    self.layernorm3 = tf.keras.layers.LayerNormalization(epsilon=1e-6)\n",
        "    \n",
        "    self.dropout1 = tf.keras.layers.Dropout(rate)\n",
        "    self.dropout2 = tf.keras.layers.Dropout(rate)\n",
        "    self.dropout3 = tf.keras.layers.Dropout(rate)\n",
        "    \n",
        "    \n",
        "  def call(self, x, enc_output, training, \n",
        "           look_ahead_mask, padding_mask):\n",
        "    # enc_output.shape == (batch_size, input_seq_len, d_model)\n",
        "\n",
        "    attn1, attn_weights_block1 = self.mha1(x, x, x, look_ahead_mask)  # (batch_size, target_seq_len, d_model)\n",
        "    attn1 = self.dropout1(attn1, training=training)\n",
        "    out1 = self.layernorm1(attn1 + x)\n",
        "    \n",
        "    attn2, attn_weights_block2 = self.mha2(\n",
        "        enc_output, enc_output, out1, padding_mask)  # (batch_size, target_seq_len, d_model)\n",
        "    attn2 = self.dropout2(attn2, training=training)\n",
        "    out2 = self.layernorm2(attn2 + out1)  # (batch_size, target_seq_len, d_model)\n",
        "    \n",
        "    ffn_output = self.ffn(out2)  # (batch_size, target_seq_len, d_model)\n",
        "    ffn_output = self.dropout3(ffn_output, training=training)\n",
        "    out3 = self.layernorm3(ffn_output + out2)  # (batch_size, target_seq_len, d_model)\n",
        "    \n",
        "    return out3, attn_weights_block1, attn_weights_block2"
      ],
      "execution_count": 34,
      "outputs": []
    },
    {
      "cell_type": "markdown",
      "metadata": {
        "id": "SE1H51Ajm0q1"
      },
      "source": [
        "### Encoder\n",
        "\n",
        "The `Encoder` consists of:\n",
        "1.   Input Embedding\n",
        "2.   Positional Encoding\n",
        "3.   N encoder layers\n",
        "\n",
        "The input is put through an embedding which is summed with the positional encoding. The output of this summation is the input to the encoder layers. The output of the encoder is the input to the decoder."
      ]
    },
    {
      "cell_type": "code",
      "metadata": {
        "id": "jpEox7gJ8FCI"
      },
      "source": [
        "class Encoder(tf.keras.layers.Layer):\n",
        "  def __init__(self, num_layers, d_model, num_heads, dff, input_vocab_size,\n",
        "               maximum_position_encoding, rate=0.1):\n",
        "    super(Encoder, self).__init__()\n",
        "    self.d_model = d_model\n",
        "    self.num_layers = num_layers\n",
        "    \n",
        "    self.embedding = tf.keras.layers.Embedding(input_vocab_size, d_model)\n",
        "    self.pos_encoding = positional_encoding(maximum_position_encoding, \n",
        "                                            self.d_model)\n",
        "    \n",
        "    \n",
        "    self.enc_layers = [EncoderLayer(d_model, num_heads, dff, rate) \n",
        "                       for _ in range(num_layers)]\n",
        "  \n",
        "    self.dropout = tf.keras.layers.Dropout(rate)\n",
        "        \n",
        "  def call(self, x, training, mask):\n",
        "\n",
        "    seq_len = tf.shape(x)[1]\n",
        "    \n",
        "    # adding embedding and position encoding.\n",
        "    x = self.embedding(x)  # (batch_size, input_seq_len, d_model)\n",
        "    x *= tf.math.sqrt(tf.cast(self.d_model, tf.float32))\n",
        "    x += self.pos_encoding[:, :seq_len, :]\n",
        "\n",
        "    x = self.dropout(x, training=training)\n",
        "    \n",
        "    for i in range(self.num_layers):\n",
        "      x = self.enc_layers[i](x, training, mask)\n",
        "    \n",
        "    return x  # (batch_size, input_seq_len, d_model)"
      ],
      "execution_count": 35,
      "outputs": []
    },
    {
      "cell_type": "markdown",
      "metadata": {
        "id": "p-uO6ls8m2O5"
      },
      "source": [
        "### Decoder"
      ]
    },
    {
      "cell_type": "markdown",
      "metadata": {
        "id": "ZtT7PKzrXkNr"
      },
      "source": [
        " The `Decoder` consists of:\n",
        "1.   Output Embedding\n",
        "2.   Positional Encoding\n",
        "3.   N decoder layers\n",
        "\n",
        "The target is put through an embedding which is summed with the positional encoding. The output of this summation is the input to the decoder layers. The output of the decoder is the input to the final linear layer."
      ]
    },
    {
      "cell_type": "code",
      "metadata": {
        "id": "d5_d5-PLQXwY"
      },
      "source": [
        "class Decoder(tf.keras.layers.Layer):\n",
        "  def __init__(self, num_layers, d_model, num_heads, dff, target_vocab_size,\n",
        "               maximum_position_encoding, rate=0.1):\n",
        "    super(Decoder, self).__init__()\n",
        "\n",
        "    self.d_model = d_model\n",
        "    self.num_layers = num_layers\n",
        "    \n",
        "    self.embedding = tf.keras.layers.Embedding(target_vocab_size, d_model)\n",
        "    self.pos_encoding = positional_encoding(maximum_position_encoding, d_model)\n",
        "    \n",
        "    self.dec_layers = [DecoderLayer(d_model, num_heads, dff, rate) \n",
        "                       for _ in range(num_layers)]\n",
        "    self.dropout = tf.keras.layers.Dropout(rate)\n",
        "    \n",
        "  def call(self, x, enc_output, training, \n",
        "           look_ahead_mask, padding_mask):\n",
        "\n",
        "    seq_len = tf.shape(x)[1]\n",
        "    attention_weights = {}\n",
        "    \n",
        "    x = self.embedding(x)  # (batch_size, target_seq_len, d_model)\n",
        "    x *= tf.math.sqrt(tf.cast(self.d_model, tf.float32))\n",
        "    x += self.pos_encoding[:, :seq_len, :]\n",
        "    \n",
        "    x = self.dropout(x, training=training)\n",
        "\n",
        "    for i in range(self.num_layers):\n",
        "      x, block1, block2 = self.dec_layers[i](x, enc_output, training,\n",
        "                                             look_ahead_mask, padding_mask)\n",
        "      \n",
        "      attention_weights['decoder_layer{}_block1'.format(i+1)] = block1\n",
        "      attention_weights['decoder_layer{}_block2'.format(i+1)] = block2\n",
        "    \n",
        "    # x.shape == (batch_size, target_seq_len, d_model)\n",
        "    return x, attention_weights"
      ],
      "execution_count": 36,
      "outputs": []
    },
    {
      "cell_type": "markdown",
      "metadata": {
        "id": "y54xnJnuYgJ7"
      },
      "source": [
        "## Create the Transformer"
      ]
    },
    {
      "cell_type": "code",
      "metadata": {
        "id": "PED3bIpOYkBu"
      },
      "source": [
        "class Transformer(tf.keras.Model):\n",
        "  def __init__(self, num_layers, d_model, num_heads, dff, input_vocab_size, \n",
        "               target_vocab_size, pe_input, pe_target, rate=0.1):\n",
        "    super(Transformer, self).__init__()\n",
        "    \n",
        "    self.encoder = Encoder(num_layers, d_model, num_heads, dff, \n",
        "                           input_vocab_size, pe_input, rate)\n",
        "\n",
        "    self.decoder = Decoder(num_layers, d_model, num_heads, dff, \n",
        "                           target_vocab_size, pe_target, rate)\n",
        "\n",
        "    self.final_layer = tf.keras.layers.Dense(target_vocab_size)\n",
        "    \n",
        "  def call(self, inp, tar, training, enc_padding_mask, \n",
        "           look_ahead_mask, dec_padding_mask):\n",
        "    \n",
        "    enc_output = self.encoder(inp, training, enc_padding_mask)  # (batch_size, inp_seq_len, d_model)\n",
        "    # dec_output.shape == (batch_size, tar_seq_len, d_model)\n",
        "    dec_output, attention_weights = self.decoder(\n",
        "        tar, enc_output, training, look_ahead_mask, dec_padding_mask)\n",
        "    \n",
        "    final_output = self.final_layer(dec_output)  # (batch_size, tar_seq_len, target_vocab_size)\n",
        "    \n",
        "    return final_output, attention_weights"
      ],
      "execution_count": 37,
      "outputs": []
    },
    {
      "cell_type": "markdown",
      "metadata": {
        "id": "wsINyf1VEQLC"
      },
      "source": [
        "## Set hyperparameters"
      ]
    },
    {
      "cell_type": "code",
      "metadata": {
        "id": "lnJn5SLA2ahP"
      },
      "source": [
        "num_layers = 4\n",
        "d_model = 128\n",
        "dff = 512\n",
        "num_heads = 8\n",
        "\n",
        "input_vocab_size = tokenizer_en.vocab_size + 2\n",
        "target_vocab_size = tokenizer_vn.vocab_size + 2\n",
        "dropout_rate = 0.1"
      ],
      "execution_count": 38,
      "outputs": []
    },
    {
      "cell_type": "markdown",
      "metadata": {
        "id": "xYEGhEOtzn5W"
      },
      "source": [
        "## Optimizer"
      ]
    },
    {
      "cell_type": "markdown",
      "metadata": {
        "id": "GOmWW--yP3zx"
      },
      "source": [
        "Use the Adam optimizer with a custom learning rate scheduler according to the formula in the [paper](https://arxiv.org/abs/1706.03762).\n",
        "\n",
        "$$\\Large{lrate = d_{model}^{-0.5} * min(step{\\_}num^{-0.5}, step{\\_}num * warmup{\\_}steps^{-1.5})}$$\n"
      ]
    },
    {
      "cell_type": "code",
      "metadata": {
        "id": "iYQdOO1axwEI"
      },
      "source": [
        "class CustomSchedule(tf.keras.optimizers.schedules.LearningRateSchedule):\n",
        "  def __init__(self, d_model, warmup_steps=4000):\n",
        "    super(CustomSchedule, self).__init__()\n",
        "    \n",
        "    self.d_model = d_model\n",
        "    self.d_model = tf.cast(self.d_model, tf.float32)\n",
        "\n",
        "    self.warmup_steps = warmup_steps\n",
        "    \n",
        "  def __call__(self, step):\n",
        "    arg1 = tf.math.rsqrt(step)\n",
        "    arg2 = step * (self.warmup_steps ** -1.5)\n",
        "    \n",
        "    return tf.math.rsqrt(self.d_model) * tf.math.minimum(arg1, arg2)"
      ],
      "execution_count": 39,
      "outputs": []
    },
    {
      "cell_type": "code",
      "metadata": {
        "id": "7r4scdulztRx"
      },
      "source": [
        "learning_rate = CustomSchedule(d_model)\n",
        "\n",
        "optimizer = tf.keras.optimizers.Adam(learning_rate, beta_1=0.9, beta_2=0.98, \n",
        "                                     epsilon=1e-9)"
      ],
      "execution_count": 40,
      "outputs": []
    },
    {
      "cell_type": "markdown",
      "metadata": {
        "id": "YgkDE7hzo8r5"
      },
      "source": [
        "## Loss and metrics"
      ]
    },
    {
      "cell_type": "markdown",
      "metadata": {
        "id": "oxGJtoDuYIHL"
      },
      "source": [
        "Since the target sequences are padded, it is important to apply a padding mask when calculating the loss."
      ]
    },
    {
      "cell_type": "code",
      "metadata": {
        "id": "67oqVHiT0Eiu"
      },
      "source": [
        "from nltk.translate.bleu_score import sentence_bleu\n",
        "def loss_function(real, pred):\n",
        "  mask = tf.math.logical_not(tf.math.equal(real, 0))\n",
        "  loss_ = loss_object(real, pred)\n",
        "\n",
        "  mask = tf.cast(mask, dtype=loss_.dtype)\n",
        "  loss_ *= mask\n",
        "  return tf.reduce_sum(loss_)/tf.reduce_sum(mask)\n",
        "def accuracy_function(real, pred):\n",
        "  # print('000000000000000000000000000')\n",
        "  # print(real)\n",
        "  # print('111111111111111111111111111')\n",
        "  # print(pred)\n",
        "  # print('222222222222222222222222222')\n",
        "  # print(tf.argmax(pred, axis=2))\n",
        "  # print('333333333333333333333333333')\n",
        "\n",
        "  accuracies = tf.equal(real, tf.argmax(pred, axis=2))\n",
        "  # print(accuracies)\n",
        "  # print('333333333333333333333333333')\n",
        "  mask = tf.math.logical_not(tf.math.equal(real, 0))\n",
        "  accuracies = tf.math.logical_and(mask, accuracies)\n",
        "\n",
        "  accuracies = tf.cast(accuracies, dtype=tf.float32)\n",
        "  mask = tf.cast(mask, dtype=tf.float32)\n",
        "  return tf.reduce_sum(accuracies)/tf.reduce_sum(mask)\n",
        "# def accuracy_function(real, pred):\n",
        "#   candidate = tf.argmax(pred, axis=2)\n",
        "#   # print(real.)\n",
        "#   print(real.numpy()[0][:-1])\n",
        "#   print(tokenizer_vn.decode(real.numpy()[0][:-1]))\n",
        "#   print(candidate.numpy()[0][:-1])\n",
        "#   print(tokenizer_vn.decode(candidate.numpy()[0][:-1]))\n",
        "#   # print(candidate)\n",
        "#   # score = bleu_score(real, candidate)\n",
        "#   score = 12\n",
        "#   print(score)\n",
        "#   return tf.constant(score)\n",
        "# # bleu_function('real', 'pred')\n"
      ],
      "execution_count": 41,
      "outputs": []
    },
    {
      "cell_type": "code",
      "metadata": {
        "id": "sPfZsplvJ0sG"
      },
      "source": [
        "# dir(tokenizer_vn)"
      ],
      "execution_count": 42,
      "outputs": []
    },
    {
      "cell_type": "code",
      "metadata": {
        "id": "ggV3cc5-LyNX"
      },
      "source": [
        "# for i in content_vn[:12]:\r\n",
        "#   if 'mãnh_' in i:\r\n",
        "#     print(i)  "
      ],
      "execution_count": 43,
      "outputs": []
    },
    {
      "cell_type": "code",
      "metadata": {
        "id": "DIFfKbIEJ8P4"
      },
      "source": [
        "# for i in range(100000):\r\n",
        "#   print(tokenizer_vn._id_to_subword(i).encode('utf-8').decode('utf-8'))"
      ],
      "execution_count": 44,
      "outputs": []
    },
    {
      "cell_type": "code",
      "metadata": {
        "colab": {
          "base_uri": "https://localhost:8080/"
        },
        "id": "uOSeW1vcfTWa",
        "outputId": "caba9cba-3891-4eba-a37b-7dd5f7007673"
      },
      "source": [
        "from collections import Counter\r\n",
        "import math\r\n",
        "def n_gram_generator(sentence,n= 2,n_gram= False):\r\n",
        "    '''\r\n",
        "    N-Gram generator with parameters sentence\r\n",
        "    n is for number of n_grams\r\n",
        "    The n_gram parameter removes repeating n_grams \r\n",
        "    '''\r\n",
        "    sentence = sentence.lower() # converting to lower case\r\n",
        "    sent_arr = np.array(sentence.split()) # split to string arrays\r\n",
        "    length = len(sent_arr)\r\n",
        "\r\n",
        "    word_list = []\r\n",
        "    for i in range(length+1):\r\n",
        "        if i < n:\r\n",
        "            continue\r\n",
        "        word_range = list(range(i-n,i))\r\n",
        "        s_list = sent_arr[word_range]\r\n",
        "        string = ' '.join(s_list) # converting list to strings\r\n",
        "        word_list.append(string) # append to word_list\r\n",
        "        if n_gram:\r\n",
        "            word_list = list(set(word_list))\r\n",
        "    return word_list\r\n",
        "def bleu_score(original,machine_translated):\r\n",
        "    '''\r\n",
        "    Bleu score function given a orginal and a machine translated sentences\r\n",
        "    '''\r\n",
        "    mt_length = len(machine_translated.split())\r\n",
        "    o_length = len(original.split())\r\n",
        "\r\n",
        "    # Brevity Penalty \r\n",
        "    if mt_length>o_length:\r\n",
        "        BP=1\r\n",
        "    else:\r\n",
        "        penality=1-(mt_length/o_length)\r\n",
        "        BP=np.exp(penality)\r\n",
        "\r\n",
        "    # Clipped precision\r\n",
        "    clipped_precision_score = []\r\n",
        "    for i in range(1, 5):\r\n",
        "        original_n_gram = Counter(n_gram_generator(original,i))\r\n",
        "        machine_n_gram = Counter(n_gram_generator(machine_translated,i))\r\n",
        "\r\n",
        "        c = sum(machine_n_gram.values())\r\n",
        "        for j in machine_n_gram:\r\n",
        "            if j in original_n_gram:\r\n",
        "                if machine_n_gram[j] > original_n_gram[j]:\r\n",
        "                    machine_n_gram[j] = original_n_gram[j]\r\n",
        "            else:\r\n",
        "                machine_n_gram[j] = 0\r\n",
        "\r\n",
        "        #print (sum(machine_n_gram.values()), c)\r\n",
        "        clipped_precision_score.append(sum(machine_n_gram.values())/c)\r\n",
        "\r\n",
        "    #print (clipped_precision_score)\r\n",
        "\r\n",
        "    weights =[0.25]*4\r\n",
        "\r\n",
        "    s = (w_i * math.log(p_i) for w_i, p_i in zip(weights, clipped_precision_score))\r\n",
        "    s = BP * math.exp(math.fsum(s))\r\n",
        "    return s\r\n",
        "\r\n",
        "original = \"It is a guide to action which ensures that the military alwasy obeys the command of the party\"\r\n",
        "machine_translated = \"It is the guiding principle which guarantees the military forces alwasy being under the command of the party\"\r\n",
        "\r\n",
        "print (bleu_score(original, machine_translated))\r\n",
        "print (sentence_bleu([original.split()], machine_translated.split()))"
      ],
      "execution_count": 45,
      "outputs": [
        {
          "output_type": "stream",
          "text": [
            "0.27098211583470044\n",
            "0.27098211583470044\n"
          ],
          "name": "stdout"
        }
      ]
    },
    {
      "cell_type": "code",
      "metadata": {
        "id": "phlyxMnm-Tpx"
      },
      "source": [
        "loss_object = tf.keras.losses.SparseCategoricalCrossentropy(\n",
        "    from_logits=True, reduction='none')\n",
        "train_loss = tf.keras.metrics.Mean(name='train_loss')\n",
        "train_accuracy = tf.keras.metrics.Mean(\n",
        "    name='train_accuracy')"
      ],
      "execution_count": 46,
      "outputs": []
    },
    {
      "cell_type": "markdown",
      "metadata": {
        "id": "aeHumfr7zmMa"
      },
      "source": [
        "## Training and checkpointing"
      ]
    },
    {
      "cell_type": "code",
      "metadata": {
        "id": "UiysUa--4tOU"
      },
      "source": [
        "transformer = Transformer(num_layers, d_model, num_heads, dff,\n",
        "                          input_vocab_size, target_vocab_size, \n",
        "                          pe_input=input_vocab_size, \n",
        "                          pe_target=target_vocab_size,\n",
        "                          rate=dropout_rate)"
      ],
      "execution_count": 47,
      "outputs": []
    },
    {
      "cell_type": "code",
      "metadata": {
        "id": "ZOJUSB1T8GjM"
      },
      "source": [
        "def create_masks(inp, tar):\n",
        "  # Encoder padding mask\n",
        "  enc_padding_mask = create_padding_mask(inp)\n",
        "  \n",
        "  # Used in the 2nd attention block in the decoder.\n",
        "  # This padding mask is used to mask the encoder outputs.\n",
        "  dec_padding_mask = create_padding_mask(inp)\n",
        "  \n",
        "  # Used in the 1st attention block in the decoder.\n",
        "  # It is used to pad and mask future tokens in the input received by \n",
        "  # the decoder.\n",
        "  look_ahead_mask = create_look_ahead_mask(tf.shape(tar)[1])\n",
        "  dec_target_padding_mask = create_padding_mask(tar)\n",
        "  combined_mask = tf.maximum(dec_target_padding_mask, look_ahead_mask)\n",
        "  \n",
        "  return enc_padding_mask, combined_mask, dec_padding_mask"
      ],
      "execution_count": 48,
      "outputs": []
    },
    {
      "cell_type": "markdown",
      "metadata": {
        "id": "Fzuf06YZp66w"
      },
      "source": [
        "Create the checkpoint path and the checkpoint manager. This will be used to save checkpoints every `n` epochs."
      ]
    },
    {
      "cell_type": "code",
      "metadata": {
        "id": "hNhuYfllndLZ"
      },
      "source": [
        "checkpoint_path = \"/content/drive/MyDrive/VinBigData/checkpoints/train1\"\n",
        "\n",
        "ckpt = tf.train.Checkpoint(transformer=transformer,\n",
        "                           optimizer=optimizer)\n",
        "\n",
        "ckpt_manager = tf.train.CheckpointManager(ckpt, checkpoint_path, max_to_keep=5)\n",
        "\n",
        "# if a checkpoint exists, restore the latest checkpoint.\n",
        "if ckpt_manager.latest_checkpoint:\n",
        "  ckpt.restore(ckpt_manager.latest_checkpoint)\n",
        "  print ('Latest checkpoint restored!!')"
      ],
      "execution_count": 49,
      "outputs": []
    },
    {
      "cell_type": "code",
      "metadata": {
        "id": "LKpoA6q1sJFj"
      },
      "source": [
        "EPOCHS = 0"
      ],
      "execution_count": 50,
      "outputs": []
    },
    {
      "cell_type": "code",
      "metadata": {
        "id": "UWZIMEVZ8eTl"
      },
      "source": [
        "# The @tf.function trace-compiles train_step into a TF graph for faster\n",
        "# execution. The function specializes to the precise shape of the argument\n",
        "# tensors. To avoid re-tracing due to the variable sequence lengths o4/1AY0e-g5NwERYfvXHd5gYJ0PO1FU94gGYrmyMq14BU0Dlvo5oiSqu1suLElor variable\n",
        "# batch sizes (the last batch is smaller), use input_signature to specify\n",
        "# more generic shapes.\n",
        "\n",
        "train_step_signature = [\n",
        "    tf.TensorSpec(shape=(None, None), dtype=tf.int64),\n",
        "    tf.TensorSpec(shape=(None, None), dtype=tf.int64),\n",
        "]\n",
        "\n",
        "# @tf.function(input_signature=train_step_signature)\n",
        "def train_step(inp, tar):\n",
        "  # print('inner train')\n",
        "  tar_inp = tar[:, :-1]\n",
        "  tar_real = tar[:, 1:]\n",
        "  \n",
        "  enc_padding_mask, combined_mask, dec_padding_mask = create_masks(inp, tar_inp)\n",
        "  \n",
        "  with tf.GradientTape() as tape:\n",
        "    # print('---------------------------------')\n",
        "    predictions, _ = transformer(inp, tar_inp, \n",
        "                                 True, \n",
        "                                 enc_padding_mask, \n",
        "                                 combined_mask, \n",
        "                                 dec_padding_mask)\n",
        "    loss = loss_function(tar_real, predictions)\n",
        "  gradients = tape.gradient(loss, transformer.trainable_variables)    \n",
        "  optimizer.apply_gradients(zip(gradients, transformer.trainable_variables))\n",
        "  \n",
        "  train_loss(loss)\n",
        "  # print('--------------------')\n",
        "  # print(accuracy_function(tar_real, predictions))\n",
        "  # print('--------------------')\n",
        "  train_accuracy(accuracy_function(tar_real, predictions))"
      ],
      "execution_count": 51,
      "outputs": []
    },
    {
      "cell_type": "code",
      "metadata": {
        "id": "H315b1hp8e9D",
        "colab": {
          "base_uri": "https://localhost:8080/"
        },
        "outputId": "0c413971-4833-4a2b-e1f4-1dff2edf8bfa"
      },
      "source": [
        "EPOCHS = 100\n",
        "for epoch in range(EPOCHS):\n",
        "  start = time.time()\n",
        "  \n",
        "  train_loss.reset_states()\n",
        "  train_accuracy.reset_states()\n",
        "  \n",
        "  # inp -> en, tar -> vn\n",
        "  for (batch, (inp, tar)) in enumerate(train_dataset):\n",
        "    train_step(inp, tar)\n",
        "    \n",
        "    if batch % 50 == 0:\n",
        "      print ('Epoch {} Batch {} Loss {:.4f} Accuracy {:.4f}'.format(\n",
        "          epoch + 1, batch, train_loss.result(), train_accuracy.result()))\n",
        "      \n",
        "  if (epoch + 1) % 5 == 0:\n",
        "    ckpt_save_path = ckpt_manager.save()\n",
        "    print ('Saving checkpoint for epoch {} at {}'.format(epoch+1,\n",
        "                                                         ckpt_save_path))\n",
        "    \n",
        "  print ('Epoch {} Loss {:.4f} Accuracy {:.4f}'.format(epoch + 1, \n",
        "                                                train_loss.result(), \n",
        "                                                train_accuracy.result()))\n",
        "\n",
        "  print ('Time taken for 1 epoch: {} secs\\n'.format(time.time() - start))"
      ],
      "execution_count": 52,
      "outputs": [
        {
          "output_type": "stream",
          "text": [
            "Epoch 1 Batch 0 Loss 8.3686 Accuracy 0.0000\n",
            "Epoch 1 Batch 50 Loss 8.2930 Accuracy 0.0243\n",
            "Epoch 1 Loss 8.2540 Accuracy 0.0444\n",
            "Time taken for 1 epoch: 27.72817087173462 secs\n",
            "\n",
            "Epoch 2 Batch 0 Loss 8.1519 Accuracy 0.0538\n",
            "Epoch 2 Batch 50 Loss 7.9951 Accuracy 0.0822\n",
            "Epoch 2 Loss 7.9518 Accuracy 0.0886\n",
            "Time taken for 1 epoch: 21.233047485351562 secs\n",
            "\n",
            "Epoch 3 Batch 0 Loss 7.8496 Accuracy 0.0440\n",
            "Epoch 3 Batch 50 Loss 7.6209 Accuracy 0.0838\n",
            "Epoch 3 Loss 7.5671 Accuracy 0.0900\n",
            "Time taken for 1 epoch: 21.055925130844116 secs\n",
            "\n",
            "Epoch 4 Batch 0 Loss 7.3813 Accuracy 0.0504\n",
            "Epoch 4 Batch 50 Loss 7.1294 Accuracy 0.0839\n",
            "Epoch 4 Loss 7.0790 Accuracy 0.0900\n",
            "Time taken for 1 epoch: 20.95382523536682 secs\n",
            "\n",
            "Epoch 5 Batch 0 Loss 6.7852 Accuracy 0.0608\n",
            "Epoch 5 Batch 50 Loss 6.6319 Accuracy 0.0839\n",
            "Saving checkpoint for epoch 5 at /content/drive/MyDrive/VinBigData/checkpoints/train1/ckpt-1\n",
            "Epoch 5 Loss 6.6025 Accuracy 0.0895\n",
            "Time taken for 1 epoch: 21.63756561279297 secs\n",
            "\n",
            "Epoch 6 Batch 0 Loss 6.3609 Accuracy 0.0506\n",
            "Epoch 6 Batch 50 Loss 6.2471 Accuracy 0.0981\n",
            "Epoch 6 Loss 6.2463 Accuracy 0.1063\n",
            "Time taken for 1 epoch: 21.30776023864746 secs\n",
            "\n",
            "Epoch 7 Batch 0 Loss 6.1561 Accuracy 0.0889\n",
            "Epoch 7 Batch 50 Loss 6.0065 Accuracy 0.1364\n",
            "Epoch 7 Loss 6.0107 Accuracy 0.1424\n",
            "Time taken for 1 epoch: 21.37697982788086 secs\n",
            "\n",
            "Epoch 8 Batch 0 Loss 5.9742 Accuracy 0.1242\n",
            "Epoch 8 Batch 50 Loss 5.7803 Accuracy 0.1684\n",
            "Epoch 8 Loss 5.7904 Accuracy 0.1699\n",
            "Time taken for 1 epoch: 21.567977905273438 secs\n",
            "\n",
            "Epoch 9 Batch 0 Loss 5.6612 Accuracy 0.1546\n",
            "Epoch 9 Batch 50 Loss 5.5404 Accuracy 0.1866\n",
            "Epoch 9 Loss 5.5503 Accuracy 0.1881\n",
            "Time taken for 1 epoch: 21.484272480010986 secs\n",
            "\n",
            "Epoch 10 Batch 0 Loss 5.6754 Accuracy 0.1463\n",
            "Epoch 10 Batch 50 Loss 5.2986 Accuracy 0.2010\n",
            "Saving checkpoint for epoch 10 at /content/drive/MyDrive/VinBigData/checkpoints/train1/ckpt-2\n",
            "Epoch 10 Loss 5.3218 Accuracy 0.2010\n",
            "Time taken for 1 epoch: 21.830056190490723 secs\n",
            "\n",
            "Epoch 11 Batch 0 Loss 5.1752 Accuracy 0.1811\n",
            "Epoch 11 Batch 50 Loss 5.0894 Accuracy 0.2163\n",
            "Epoch 11 Loss 5.1121 Accuracy 0.2165\n",
            "Time taken for 1 epoch: 21.404953002929688 secs\n",
            "\n",
            "Epoch 12 Batch 0 Loss 4.9474 Accuracy 0.2011\n",
            "Epoch 12 Batch 50 Loss 4.9084 Accuracy 0.2285\n",
            "Epoch 12 Loss 4.9354 Accuracy 0.2290\n",
            "Time taken for 1 epoch: 21.714675426483154 secs\n",
            "\n",
            "Epoch 13 Batch 0 Loss 4.8597 Accuracy 0.2111\n",
            "Epoch 13 Batch 50 Loss 4.7476 Accuracy 0.2436\n",
            "Epoch 13 Loss 4.7667 Accuracy 0.2437\n",
            "Time taken for 1 epoch: 21.235024452209473 secs\n",
            "\n",
            "Epoch 14 Batch 0 Loss 4.7522 Accuracy 0.2151\n",
            "Epoch 14 Batch 50 Loss 4.5860 Accuracy 0.2564\n",
            "Epoch 14 Loss 4.6185 Accuracy 0.2560\n",
            "Time taken for 1 epoch: 21.40288996696472 secs\n",
            "\n",
            "Epoch 15 Batch 0 Loss 4.3953 Accuracy 0.2754\n",
            "Epoch 15 Batch 50 Loss 4.4215 Accuracy 0.2747\n",
            "Saving checkpoint for epoch 15 at /content/drive/MyDrive/VinBigData/checkpoints/train1/ckpt-3\n",
            "Epoch 15 Loss 4.4624 Accuracy 0.2726\n",
            "Time taken for 1 epoch: 21.76522922515869 secs\n",
            "\n",
            "Epoch 16 Batch 0 Loss 4.5721 Accuracy 0.2439\n",
            "Epoch 16 Batch 50 Loss 4.2720 Accuracy 0.2910\n",
            "Epoch 16 Loss 4.3070 Accuracy 0.2880\n",
            "Time taken for 1 epoch: 21.274011611938477 secs\n",
            "\n",
            "Epoch 17 Batch 0 Loss 4.2697 Accuracy 0.2720\n",
            "Epoch 17 Batch 50 Loss 4.1429 Accuracy 0.3043\n",
            "Epoch 17 Loss 4.1769 Accuracy 0.3022\n",
            "Time taken for 1 epoch: 21.5212824344635 secs\n",
            "\n",
            "Epoch 18 Batch 0 Loss 4.2756 Accuracy 0.2778\n",
            "Epoch 18 Batch 50 Loss 3.9885 Accuracy 0.3196\n",
            "Epoch 18 Loss 4.0223 Accuracy 0.3177\n",
            "Time taken for 1 epoch: 21.279850721359253 secs\n",
            "\n",
            "Epoch 19 Batch 0 Loss 3.9918 Accuracy 0.3035\n",
            "Epoch 19 Batch 50 Loss 3.8702 Accuracy 0.3316\n",
            "Epoch 19 Loss 3.8911 Accuracy 0.3304\n",
            "Time taken for 1 epoch: 21.611023902893066 secs\n",
            "\n",
            "Epoch 20 Batch 0 Loss 4.0703 Accuracy 0.2820\n",
            "Epoch 20 Batch 50 Loss 3.7103 Accuracy 0.3514\n",
            "Saving checkpoint for epoch 20 at /content/drive/MyDrive/VinBigData/checkpoints/train1/ckpt-4\n",
            "Epoch 20 Loss 3.7277 Accuracy 0.3503\n",
            "Time taken for 1 epoch: 21.19524645805359 secs\n",
            "\n",
            "Epoch 21 Batch 0 Loss 3.8052 Accuracy 0.3165\n",
            "Epoch 21 Batch 50 Loss 3.5862 Accuracy 0.3629\n",
            "Epoch 21 Loss 3.5930 Accuracy 0.3633\n",
            "Time taken for 1 epoch: 21.63409686088562 secs\n",
            "\n",
            "Epoch 22 Batch 0 Loss 3.7951 Accuracy 0.3168\n",
            "Epoch 22 Batch 50 Loss 3.4398 Accuracy 0.3813\n",
            "Epoch 22 Loss 3.4475 Accuracy 0.3809\n",
            "Time taken for 1 epoch: 20.87190818786621 secs\n",
            "\n",
            "Epoch 23 Batch 0 Loss 3.5072 Accuracy 0.3558\n",
            "Epoch 23 Batch 50 Loss 3.2989 Accuracy 0.3977\n",
            "Epoch 23 Loss 3.2958 Accuracy 0.3992\n",
            "Time taken for 1 epoch: 21.76092839241028 secs\n",
            "\n",
            "Epoch 24 Batch 0 Loss 3.1847 Accuracy 0.4104\n",
            "Epoch 24 Batch 50 Loss 3.1642 Accuracy 0.4150\n",
            "Epoch 24 Loss 3.1619 Accuracy 0.4162\n",
            "Time taken for 1 epoch: 21.447189331054688 secs\n",
            "\n",
            "Epoch 25 Batch 0 Loss 3.1441 Accuracy 0.3995\n",
            "Epoch 25 Batch 50 Loss 3.0205 Accuracy 0.4336\n",
            "Saving checkpoint for epoch 25 at /content/drive/MyDrive/VinBigData/checkpoints/train1/ckpt-5\n",
            "Epoch 25 Loss 3.0224 Accuracy 0.4346\n",
            "Time taken for 1 epoch: 22.10493016242981 secs\n",
            "\n",
            "Epoch 26 Batch 0 Loss 3.0439 Accuracy 0.4127\n",
            "Epoch 26 Batch 50 Loss 2.8930 Accuracy 0.4498\n",
            "Epoch 26 Loss 2.8699 Accuracy 0.4551\n",
            "Time taken for 1 epoch: 21.416293621063232 secs\n",
            "\n",
            "Epoch 27 Batch 0 Loss 3.0839 Accuracy 0.4234\n",
            "Epoch 27 Batch 50 Loss 2.7727 Accuracy 0.4656\n",
            "Epoch 27 Loss 2.7422 Accuracy 0.4722\n",
            "Time taken for 1 epoch: 21.34502387046814 secs\n",
            "\n",
            "Epoch 28 Batch 0 Loss 2.8575 Accuracy 0.4285\n",
            "Epoch 28 Batch 50 Loss 2.6400 Accuracy 0.4855\n",
            "Epoch 28 Loss 2.5896 Accuracy 0.4942\n",
            "Time taken for 1 epoch: 21.34371328353882 secs\n",
            "\n",
            "Epoch 29 Batch 0 Loss 2.6554 Accuracy 0.4697\n",
            "Epoch 29 Batch 50 Loss 2.5135 Accuracy 0.5010\n",
            "Epoch 29 Loss 2.4715 Accuracy 0.5098\n",
            "Time taken for 1 epoch: 21.150628566741943 secs\n",
            "\n",
            "Epoch 30 Batch 0 Loss 2.4354 Accuracy 0.4929\n",
            "Epoch 30 Batch 50 Loss 2.3793 Accuracy 0.5210\n",
            "Saving checkpoint for epoch 30 at /content/drive/MyDrive/VinBigData/checkpoints/train1/ckpt-6\n",
            "Epoch 30 Loss 2.3337 Accuracy 0.5304\n",
            "Time taken for 1 epoch: 21.343413591384888 secs\n",
            "\n",
            "Epoch 31 Batch 0 Loss 2.1655 Accuracy 0.5499\n",
            "Epoch 31 Batch 50 Loss 2.2719 Accuracy 0.5388\n",
            "Epoch 31 Loss 2.2280 Accuracy 0.5483\n",
            "Time taken for 1 epoch: 21.916539430618286 secs\n",
            "\n",
            "Epoch 32 Batch 0 Loss 2.5593 Accuracy 0.4822\n",
            "Epoch 32 Batch 50 Loss 2.1566 Accuracy 0.5570\n",
            "Epoch 32 Loss 2.0893 Accuracy 0.5707\n",
            "Time taken for 1 epoch: 21.328170776367188 secs\n",
            "\n",
            "Epoch 33 Batch 0 Loss 2.4902 Accuracy 0.4900\n",
            "Epoch 33 Batch 50 Loss 2.0536 Accuracy 0.5705\n",
            "Epoch 33 Loss 1.9728 Accuracy 0.5877\n",
            "Time taken for 1 epoch: 21.250929832458496 secs\n",
            "\n",
            "Epoch 34 Batch 0 Loss 2.1046 Accuracy 0.5584\n",
            "Epoch 34 Batch 50 Loss 1.9416 Accuracy 0.5899\n",
            "Epoch 34 Loss 1.8712 Accuracy 0.6049\n",
            "Time taken for 1 epoch: 21.77827787399292 secs\n",
            "\n",
            "Epoch 35 Batch 0 Loss 2.4674 Accuracy 0.4851\n",
            "Epoch 35 Batch 50 Loss 1.8372 Accuracy 0.6052\n",
            "Saving checkpoint for epoch 35 at /content/drive/MyDrive/VinBigData/checkpoints/train1/ckpt-7\n",
            "Epoch 35 Loss 1.7635 Accuracy 0.6219\n",
            "Time taken for 1 epoch: 22.154020071029663 secs\n",
            "\n",
            "Epoch 36 Batch 0 Loss 2.0314 Accuracy 0.5702\n",
            "Epoch 36 Batch 50 Loss 1.7312 Accuracy 0.6244\n",
            "Epoch 36 Loss 1.6463 Accuracy 0.6432\n",
            "Time taken for 1 epoch: 21.045133590698242 secs\n",
            "\n",
            "Epoch 37 Batch 0 Loss 1.9487 Accuracy 0.5716\n",
            "Epoch 37 Batch 50 Loss 1.6215 Accuracy 0.6429\n",
            "Epoch 37 Loss 1.5513 Accuracy 0.6578\n",
            "Time taken for 1 epoch: 21.161144495010376 secs\n",
            "\n",
            "Epoch 38 Batch 0 Loss 1.9327 Accuracy 0.5786\n",
            "Epoch 38 Batch 50 Loss 1.5383 Accuracy 0.6571\n",
            "Epoch 38 Loss 1.4667 Accuracy 0.6737\n",
            "Time taken for 1 epoch: 21.453659772872925 secs\n",
            "\n",
            "Epoch 39 Batch 0 Loss 1.8161 Accuracy 0.5832\n",
            "Epoch 39 Batch 50 Loss 1.4448 Accuracy 0.6740\n",
            "Epoch 39 Loss 1.3737 Accuracy 0.6907\n",
            "Time taken for 1 epoch: 21.314472675323486 secs\n",
            "\n",
            "Epoch 40 Batch 0 Loss 2.0502 Accuracy 0.5426\n",
            "Epoch 40 Batch 50 Loss 1.3736 Accuracy 0.6854\n",
            "Saving checkpoint for epoch 40 at /content/drive/MyDrive/VinBigData/checkpoints/train1/ckpt-8\n",
            "Epoch 40 Loss 1.3066 Accuracy 0.7001\n",
            "Time taken for 1 epoch: 21.91757297515869 secs\n",
            "\n",
            "Epoch 41 Batch 0 Loss 1.4701 Accuracy 0.6458\n",
            "Epoch 41 Batch 50 Loss 1.2857 Accuracy 0.7019\n",
            "Epoch 41 Loss 1.2230 Accuracy 0.7166\n",
            "Time taken for 1 epoch: 21.725026845932007 secs\n",
            "\n",
            "Epoch 42 Batch 0 Loss 1.6474 Accuracy 0.6189\n",
            "Epoch 42 Batch 50 Loss 1.2077 Accuracy 0.7148\n",
            "Epoch 42 Loss 1.1432 Accuracy 0.7312\n",
            "Time taken for 1 epoch: 21.495802402496338 secs\n",
            "\n",
            "Epoch 43 Batch 0 Loss 1.4405 Accuracy 0.6647\n",
            "Epoch 43 Batch 50 Loss 1.1672 Accuracy 0.7209\n",
            "Epoch 43 Loss 1.0930 Accuracy 0.7386\n",
            "Time taken for 1 epoch: 21.765847206115723 secs\n",
            "\n",
            "Epoch 44 Batch 0 Loss 1.5544 Accuracy 0.6347\n",
            "Epoch 44 Batch 50 Loss 1.0895 Accuracy 0.7368\n",
            "Epoch 44 Loss 1.0315 Accuracy 0.7508\n",
            "Time taken for 1 epoch: 21.23384118080139 secs\n",
            "\n",
            "Epoch 45 Batch 0 Loss 1.3018 Accuracy 0.6781\n",
            "Epoch 45 Batch 50 Loss 1.0495 Accuracy 0.7424\n",
            "Saving checkpoint for epoch 45 at /content/drive/MyDrive/VinBigData/checkpoints/train1/ckpt-9\n",
            "Epoch 45 Loss 0.9819 Accuracy 0.7594\n",
            "Time taken for 1 epoch: 22.07338047027588 secs\n",
            "\n",
            "Epoch 46 Batch 0 Loss 1.4714 Accuracy 0.6496\n",
            "Epoch 46 Batch 50 Loss 0.9768 Accuracy 0.7566\n",
            "Epoch 46 Loss 0.9111 Accuracy 0.7734\n",
            "Time taken for 1 epoch: 21.20846652984619 secs\n",
            "\n",
            "Epoch 47 Batch 0 Loss 1.3292 Accuracy 0.6658\n",
            "Epoch 47 Batch 50 Loss 0.9445 Accuracy 0.7620\n",
            "Epoch 47 Loss 0.8744 Accuracy 0.7790\n",
            "Time taken for 1 epoch: 21.179142475128174 secs\n",
            "\n",
            "Epoch 48 Batch 0 Loss 1.2026 Accuracy 0.6962\n",
            "Epoch 48 Batch 50 Loss 0.8830 Accuracy 0.7738\n",
            "Epoch 48 Loss 0.8369 Accuracy 0.7852\n",
            "Time taken for 1 epoch: 21.644752740859985 secs\n",
            "\n",
            "Epoch 49 Batch 0 Loss 1.0571 Accuracy 0.7280\n",
            "Epoch 49 Batch 50 Loss 0.8456 Accuracy 0.7819\n",
            "Epoch 49 Loss 0.7931 Accuracy 0.7954\n",
            "Time taken for 1 epoch: 21.17720937728882 secs\n",
            "\n",
            "Epoch 50 Batch 0 Loss 1.3356 Accuracy 0.6610\n",
            "Epoch 50 Batch 50 Loss 0.8005 Accuracy 0.7901\n",
            "Saving checkpoint for epoch 50 at /content/drive/MyDrive/VinBigData/checkpoints/train1/ckpt-10\n",
            "Epoch 50 Loss 0.7450 Accuracy 0.8051\n",
            "Time taken for 1 epoch: 21.708989143371582 secs\n",
            "\n",
            "Epoch 51 Batch 0 Loss 1.2012 Accuracy 0.7035\n",
            "Epoch 51 Batch 50 Loss 0.7785 Accuracy 0.7950\n",
            "Epoch 51 Loss 0.7282 Accuracy 0.8077\n",
            "Time taken for 1 epoch: 21.040124654769897 secs\n",
            "\n",
            "Epoch 52 Batch 0 Loss 1.0798 Accuracy 0.7102\n",
            "Epoch 52 Batch 50 Loss 0.7364 Accuracy 0.8031\n",
            "Epoch 52 Loss 0.6931 Accuracy 0.8141\n",
            "Time taken for 1 epoch: 20.993051052093506 secs\n",
            "\n",
            "Epoch 53 Batch 0 Loss 1.1637 Accuracy 0.6999\n",
            "Epoch 53 Batch 50 Loss 0.7183 Accuracy 0.8069\n",
            "Epoch 53 Loss 0.6667 Accuracy 0.8212\n",
            "Time taken for 1 epoch: 21.214341640472412 secs\n",
            "\n",
            "Epoch 54 Batch 0 Loss 1.0880 Accuracy 0.7178\n",
            "Epoch 54 Batch 50 Loss 0.6816 Accuracy 0.8155\n",
            "Epoch 54 Loss 0.6376 Accuracy 0.8273\n",
            "Time taken for 1 epoch: 22.019360780715942 secs\n",
            "\n",
            "Epoch 55 Batch 0 Loss 1.0930 Accuracy 0.7166\n",
            "Epoch 55 Batch 50 Loss 0.6458 Accuracy 0.8223\n",
            "Saving checkpoint for epoch 55 at /content/drive/MyDrive/VinBigData/checkpoints/train1/ckpt-11\n",
            "Epoch 55 Loss 0.6170 Accuracy 0.8308\n",
            "Time taken for 1 epoch: 21.400951862335205 secs\n",
            "\n",
            "Epoch 56 Batch 0 Loss 0.8640 Accuracy 0.7663\n",
            "Epoch 56 Batch 50 Loss 0.6446 Accuracy 0.8220\n",
            "Epoch 56 Loss 0.6002 Accuracy 0.8344\n",
            "Time taken for 1 epoch: 21.050426721572876 secs\n",
            "\n",
            "Epoch 57 Batch 0 Loss 0.9593 Accuracy 0.7259\n",
            "Epoch 57 Batch 50 Loss 0.6199 Accuracy 0.8280\n",
            "Epoch 57 Loss 0.5785 Accuracy 0.8399\n",
            "Time taken for 1 epoch: 21.39432668685913 secs\n",
            "\n",
            "Epoch 58 Batch 0 Loss 0.8424 Accuracy 0.7659\n",
            "Epoch 58 Batch 50 Loss 0.5984 Accuracy 0.8321\n",
            "Epoch 58 Loss 0.5605 Accuracy 0.8430\n",
            "Time taken for 1 epoch: 21.526293516159058 secs\n",
            "\n",
            "Epoch 59 Batch 0 Loss 0.8380 Accuracy 0.7612\n",
            "Epoch 59 Batch 50 Loss 0.5892 Accuracy 0.8343\n",
            "Epoch 59 Loss 0.5428 Accuracy 0.8470\n",
            "Time taken for 1 epoch: 21.464364767074585 secs\n",
            "\n",
            "Epoch 60 Batch 0 Loss 0.8775 Accuracy 0.7587\n",
            "Epoch 60 Batch 50 Loss 0.5642 Accuracy 0.8392\n",
            "Saving checkpoint for epoch 60 at /content/drive/MyDrive/VinBigData/checkpoints/train1/ckpt-12\n",
            "Epoch 60 Loss 0.5364 Accuracy 0.8477\n",
            "Time taken for 1 epoch: 21.485238075256348 secs\n",
            "\n",
            "Epoch 61 Batch 0 Loss 0.7537 Accuracy 0.7937\n",
            "Epoch 61 Batch 50 Loss 0.5415 Accuracy 0.8463\n",
            "Epoch 61 Loss 0.5077 Accuracy 0.8564\n",
            "Time taken for 1 epoch: 21.01808214187622 secs\n",
            "\n",
            "Epoch 62 Batch 0 Loss 0.7725 Accuracy 0.7780\n",
            "Epoch 62 Batch 50 Loss 0.5347 Accuracy 0.8460\n",
            "Epoch 62 Loss 0.5096 Accuracy 0.8536\n",
            "Time taken for 1 epoch: 21.736286163330078 secs\n",
            "\n",
            "Epoch 63 Batch 0 Loss 0.8667 Accuracy 0.7631\n",
            "Epoch 63 Batch 50 Loss 0.5101 Accuracy 0.8520\n",
            "Epoch 63 Loss 0.4817 Accuracy 0.8607\n",
            "Time taken for 1 epoch: 21.358319759368896 secs\n",
            "\n",
            "Epoch 64 Batch 0 Loss 0.6944 Accuracy 0.8047\n",
            "Epoch 64 Batch 50 Loss 0.4929 Accuracy 0.8582\n",
            "Epoch 64 Loss 0.4654 Accuracy 0.8666\n",
            "Time taken for 1 epoch: 21.17292857170105 secs\n",
            "\n",
            "Epoch 65 Batch 0 Loss 0.5405 Accuracy 0.8409\n",
            "Epoch 65 Batch 50 Loss 0.4595 Accuracy 0.8661\n",
            "Saving checkpoint for epoch 65 at /content/drive/MyDrive/VinBigData/checkpoints/train1/ckpt-13\n",
            "Epoch 65 Loss 0.4366 Accuracy 0.8726\n",
            "Time taken for 1 epoch: 21.308614253997803 secs\n",
            "\n",
            "Epoch 66 Batch 0 Loss 0.6223 Accuracy 0.8114\n",
            "Epoch 66 Batch 50 Loss 0.4381 Accuracy 0.8718\n",
            "Epoch 66 Loss 0.4130 Accuracy 0.8792\n",
            "Time taken for 1 epoch: 21.126928329467773 secs\n",
            "\n",
            "Epoch 67 Batch 0 Loss 0.6345 Accuracy 0.8186\n",
            "Epoch 67 Batch 50 Loss 0.4194 Accuracy 0.8761\n",
            "Epoch 67 Loss 0.3972 Accuracy 0.8830\n",
            "Time taken for 1 epoch: 20.64681601524353 secs\n",
            "\n",
            "Epoch 68 Batch 0 Loss 0.5356 Accuracy 0.8414\n",
            "Epoch 68 Batch 50 Loss 0.4162 Accuracy 0.8787\n",
            "Epoch 68 Loss 0.3878 Accuracy 0.8869\n",
            "Time taken for 1 epoch: 21.511595249176025 secs\n",
            "\n",
            "Epoch 69 Batch 0 Loss 0.6287 Accuracy 0.8206\n",
            "Epoch 69 Batch 50 Loss 0.3921 Accuracy 0.8846\n",
            "Epoch 69 Loss 0.3727 Accuracy 0.8905\n",
            "Time taken for 1 epoch: 21.316338539123535 secs\n",
            "\n",
            "Epoch 70 Batch 0 Loss 0.5555 Accuracy 0.8348\n",
            "Epoch 70 Batch 50 Loss 0.3842 Accuracy 0.8874\n",
            "Saving checkpoint for epoch 70 at /content/drive/MyDrive/VinBigData/checkpoints/train1/ckpt-14\n",
            "Epoch 70 Loss 0.3605 Accuracy 0.8947\n",
            "Time taken for 1 epoch: 20.771504163742065 secs\n",
            "\n",
            "Epoch 71 Batch 0 Loss 0.5181 Accuracy 0.8562\n",
            "Epoch 71 Batch 50 Loss 0.3474 Accuracy 0.8956\n",
            "Epoch 71 Loss 0.3311 Accuracy 0.9003\n",
            "Time taken for 1 epoch: 20.911385774612427 secs\n",
            "\n",
            "Epoch 72 Batch 0 Loss 0.4890 Accuracy 0.8636\n",
            "Epoch 72 Batch 50 Loss 0.3419 Accuracy 0.8986\n",
            "Epoch 72 Loss 0.3303 Accuracy 0.9026\n",
            "Time taken for 1 epoch: 20.970454216003418 secs\n",
            "\n",
            "Epoch 73 Batch 0 Loss 0.4763 Accuracy 0.8563\n",
            "Epoch 73 Batch 50 Loss 0.3498 Accuracy 0.8948\n",
            "Epoch 73 Loss 0.3319 Accuracy 0.9009\n",
            "Time taken for 1 epoch: 21.91467595100403 secs\n",
            "\n",
            "Epoch 74 Batch 0 Loss 0.4489 Accuracy 0.8622\n",
            "Epoch 74 Batch 50 Loss 0.3252 Accuracy 0.9024\n",
            "Epoch 74 Loss 0.3086 Accuracy 0.9080\n",
            "Time taken for 1 epoch: 21.154996633529663 secs\n",
            "\n",
            "Epoch 75 Batch 0 Loss 0.4664 Accuracy 0.8654\n",
            "Epoch 75 Batch 50 Loss 0.3041 Accuracy 0.9085\n",
            "Saving checkpoint for epoch 75 at /content/drive/MyDrive/VinBigData/checkpoints/train1/ckpt-15\n",
            "Epoch 75 Loss 0.2868 Accuracy 0.9142\n",
            "Time taken for 1 epoch: 20.93956995010376 secs\n",
            "\n",
            "Epoch 76 Batch 0 Loss 0.4365 Accuracy 0.8718\n",
            "Epoch 76 Batch 50 Loss 0.3074 Accuracy 0.9083\n",
            "Epoch 76 Loss 0.2913 Accuracy 0.9130\n",
            "Time taken for 1 epoch: 21.371999740600586 secs\n",
            "\n",
            "Epoch 77 Batch 0 Loss 0.3919 Accuracy 0.8789\n",
            "Epoch 77 Batch 50 Loss 0.2899 Accuracy 0.9131\n",
            "Epoch 77 Loss 0.2764 Accuracy 0.9177\n",
            "Time taken for 1 epoch: 21.381367921829224 secs\n",
            "\n",
            "Epoch 78 Batch 0 Loss 0.4496 Accuracy 0.8588\n",
            "Epoch 78 Batch 50 Loss 0.2891 Accuracy 0.9128\n",
            "Epoch 78 Loss 0.2707 Accuracy 0.9189\n",
            "Time taken for 1 epoch: 21.252256393432617 secs\n",
            "\n",
            "Epoch 79 Batch 0 Loss 0.3333 Accuracy 0.8963\n",
            "Epoch 79 Batch 50 Loss 0.2808 Accuracy 0.9152\n",
            "Epoch 79 Loss 0.2677 Accuracy 0.9197\n",
            "Time taken for 1 epoch: 21.17932152748108 secs\n",
            "\n",
            "Epoch 80 Batch 0 Loss 0.4332 Accuracy 0.8678\n",
            "Epoch 80 Batch 50 Loss 0.2565 Accuracy 0.9226\n",
            "Saving checkpoint for epoch 80 at /content/drive/MyDrive/VinBigData/checkpoints/train1/ckpt-16\n",
            "Epoch 80 Loss 0.2528 Accuracy 0.9244\n",
            "Time taken for 1 epoch: 21.371814727783203 secs\n",
            "\n",
            "Epoch 81 Batch 0 Loss 0.4258 Accuracy 0.8744\n",
            "Epoch 81 Batch 50 Loss 0.2665 Accuracy 0.9200\n",
            "Epoch 81 Loss 0.2540 Accuracy 0.9246\n",
            "Time taken for 1 epoch: 21.303715705871582 secs\n",
            "\n",
            "Epoch 82 Batch 0 Loss 0.3125 Accuracy 0.9018\n",
            "Epoch 82 Batch 50 Loss 0.2471 Accuracy 0.9256\n",
            "Epoch 82 Loss 0.2356 Accuracy 0.9292\n",
            "Time taken for 1 epoch: 21.07843852043152 secs\n",
            "\n",
            "Epoch 83 Batch 0 Loss 0.3738 Accuracy 0.8893\n",
            "Epoch 83 Batch 50 Loss 0.2455 Accuracy 0.9256\n",
            "Epoch 83 Loss 0.2331 Accuracy 0.9303\n",
            "Time taken for 1 epoch: 21.612685680389404 secs\n",
            "\n",
            "Epoch 84 Batch 0 Loss 0.3617 Accuracy 0.8961\n",
            "Epoch 84 Batch 50 Loss 0.2411 Accuracy 0.9271\n",
            "Epoch 84 Loss 0.2286 Accuracy 0.9310\n",
            "Time taken for 1 epoch: 21.175472259521484 secs\n",
            "\n",
            "Epoch 85 Batch 0 Loss 0.2685 Accuracy 0.9180\n",
            "Epoch 85 Batch 50 Loss 0.2264 Accuracy 0.9313\n",
            "Saving checkpoint for epoch 85 at /content/drive/MyDrive/VinBigData/checkpoints/train1/ckpt-17\n",
            "Epoch 85 Loss 0.2143 Accuracy 0.9352\n",
            "Time taken for 1 epoch: 21.053239583969116 secs\n",
            "\n",
            "Epoch 86 Batch 0 Loss 0.3082 Accuracy 0.9045\n",
            "Epoch 86 Batch 50 Loss 0.2188 Accuracy 0.9336\n",
            "Epoch 86 Loss 0.2124 Accuracy 0.9357\n",
            "Time taken for 1 epoch: 21.553282737731934 secs\n",
            "\n",
            "Epoch 87 Batch 0 Loss 0.3406 Accuracy 0.8965\n",
            "Epoch 87 Batch 50 Loss 0.2212 Accuracy 0.9327\n",
            "Epoch 87 Loss 0.2120 Accuracy 0.9356\n",
            "Time taken for 1 epoch: 20.631532907485962 secs\n",
            "\n",
            "Epoch 88 Batch 0 Loss 0.3359 Accuracy 0.8946\n",
            "Epoch 88 Batch 50 Loss 0.2144 Accuracy 0.9348\n",
            "Epoch 88 Loss 0.2063 Accuracy 0.9378\n",
            "Time taken for 1 epoch: 21.47014856338501 secs\n",
            "\n",
            "Epoch 89 Batch 0 Loss 0.3868 Accuracy 0.8849\n",
            "Epoch 89 Batch 50 Loss 0.2064 Accuracy 0.9380\n",
            "Epoch 89 Loss 0.1976 Accuracy 0.9407\n",
            "Time taken for 1 epoch: 21.07677960395813 secs\n",
            "\n",
            "Epoch 90 Batch 0 Loss 0.3094 Accuracy 0.9091\n",
            "Epoch 90 Batch 50 Loss 0.1977 Accuracy 0.9395\n",
            "Saving checkpoint for epoch 90 at /content/drive/MyDrive/VinBigData/checkpoints/train1/ckpt-18\n",
            "Epoch 90 Loss 0.1904 Accuracy 0.9420\n",
            "Time taken for 1 epoch: 21.43149209022522 secs\n",
            "\n",
            "Epoch 91 Batch 0 Loss 0.2553 Accuracy 0.9198\n",
            "Epoch 91 Batch 50 Loss 0.2071 Accuracy 0.9368\n",
            "Epoch 91 Loss 0.1936 Accuracy 0.9410\n",
            "Time taken for 1 epoch: 21.338830947875977 secs\n",
            "\n",
            "Epoch 92 Batch 0 Loss 0.2891 Accuracy 0.9121\n",
            "Epoch 92 Batch 50 Loss 0.1981 Accuracy 0.9389\n",
            "Epoch 92 Loss 0.1894 Accuracy 0.9420\n",
            "Time taken for 1 epoch: 21.725321054458618 secs\n",
            "\n",
            "Epoch 93 Batch 0 Loss 0.2599 Accuracy 0.9163\n",
            "Epoch 93 Batch 50 Loss 0.1894 Accuracy 0.9417\n",
            "Epoch 93 Loss 0.1807 Accuracy 0.9445\n",
            "Time taken for 1 epoch: 21.58039164543152 secs\n",
            "\n",
            "Epoch 94 Batch 0 Loss 0.2970 Accuracy 0.9107\n",
            "Epoch 94 Batch 50 Loss 0.1828 Accuracy 0.9451\n",
            "Epoch 94 Loss 0.1745 Accuracy 0.9479\n",
            "Time taken for 1 epoch: 20.75040292739868 secs\n",
            "\n",
            "Epoch 95 Batch 0 Loss 0.2408 Accuracy 0.9241\n",
            "Epoch 95 Batch 50 Loss 0.1840 Accuracy 0.9441\n",
            "Saving checkpoint for epoch 95 at /content/drive/MyDrive/VinBigData/checkpoints/train1/ckpt-19\n",
            "Epoch 95 Loss 0.1778 Accuracy 0.9462\n",
            "Time taken for 1 epoch: 21.843534231185913 secs\n",
            "\n",
            "Epoch 96 Batch 0 Loss 0.2389 Accuracy 0.9274\n",
            "Epoch 96 Batch 50 Loss 0.1758 Accuracy 0.9461\n",
            "Epoch 96 Loss 0.1675 Accuracy 0.9492\n",
            "Time taken for 1 epoch: 20.89719271659851 secs\n",
            "\n",
            "Epoch 97 Batch 0 Loss 0.2691 Accuracy 0.9157\n",
            "Epoch 97 Batch 50 Loss 0.1806 Accuracy 0.9448\n",
            "Epoch 97 Loss 0.1708 Accuracy 0.9479\n",
            "Time taken for 1 epoch: 20.655102014541626 secs\n",
            "\n",
            "Epoch 98 Batch 0 Loss 0.2944 Accuracy 0.9096\n",
            "Epoch 98 Batch 50 Loss 0.1706 Accuracy 0.9478\n",
            "Epoch 98 Loss 0.1606 Accuracy 0.9514\n",
            "Time taken for 1 epoch: 21.485100030899048 secs\n",
            "\n",
            "Epoch 99 Batch 0 Loss 0.2365 Accuracy 0.9260\n",
            "Epoch 99 Batch 50 Loss 0.1644 Accuracy 0.9505\n",
            "Epoch 99 Loss 0.1574 Accuracy 0.9526\n",
            "Time taken for 1 epoch: 20.903132677078247 secs\n",
            "\n",
            "Epoch 100 Batch 0 Loss 0.2911 Accuracy 0.9068\n",
            "Epoch 100 Batch 50 Loss 0.1654 Accuracy 0.9500\n",
            "Saving checkpoint for epoch 100 at /content/drive/MyDrive/VinBigData/checkpoints/train1/ckpt-20\n",
            "Epoch 100 Loss 0.1548 Accuracy 0.9532\n",
            "Time taken for 1 epoch: 21.341650247573853 secs\n",
            "\n"
          ],
          "name": "stdout"
        }
      ]
    },
    {
      "cell_type": "code",
      "metadata": {
        "id": "QPtAZFLpkw8z"
      },
      "source": [
        ""
      ],
      "execution_count": 52,
      "outputs": []
    },
    {
      "cell_type": "markdown",
      "metadata": {
        "id": "QfcsSWswSdGV"
      },
      "source": [
        "## Evaluate"
      ]
    },
    {
      "cell_type": "code",
      "metadata": {
        "id": "5buvMlnvyrFm"
      },
      "source": [
        "import time\n",
        "from tqdm import tqdm\n",
        "def evaluate(inp_sentence):\n",
        "  start_token = [tokenizer_en.vocab_size]\n",
        "  end_token = [tokenizer_en.vocab_size + 1]\n",
        "  \n",
        "  # inp sentence is eng, hence adding the start and end token\n",
        "  inp_sentence = start_token + tokenizer_en.encode(inp_sentence) + end_token\n",
        "  encoder_input = tf.expand_dims(inp_sentence, 0)\n",
        "  \n",
        "  # as the target is vn, the first word to the transformer should be the\n",
        "  # english start token.\n",
        "  decoder_input = [tokenizer_vn.vocab_size]\n",
        "  output = tf.expand_dims(decoder_input, 0)\n",
        "  \n",
        "  for i in range(MAX_LENGTH):\n",
        "    enc_padding_mask, combined_mask, dec_padding_mask = create_masks(\n",
        "        encoder_input, output)\n",
        "  \n",
        "    predictions, attention_weights = transformer(encoder_input, \n",
        "                                                 output,\n",
        "                                                 False,\n",
        "                                                 enc_padding_mask,\n",
        "                                                 combined_mask,\n",
        "                                                 dec_padding_mask)\n",
        "    \n",
        "    predictions = predictions[: ,-1:, :]  # (batch_size, 1, vocab_size)\n",
        "\n",
        "    predicted_id = tf.cast(tf.argmax(predictions, axis=-1), tf.int32)\n",
        "    \n",
        "    # return the result if the predicted_id is equal to the end token\n",
        "    if predicted_id == tokenizer_vn.vocab_size+1:\n",
        "      \n",
        "      return tf.squeeze(output, axis=0), attention_weights\n",
        "\n",
        "      \n",
        "    \n",
        "    # concatentate the predicted_id to the output which is given to the decoder\n",
        "    # as its input.\n",
        "    output = tf.concat([output, predicted_id], axis=-1)\n",
        "\n",
        "  return tf.squeeze(output, axis=0), attention_weights"
      ],
      "execution_count": 53,
      "outputs": []
    },
    {
      "cell_type": "code",
      "metadata": {
        "id": "lU2_yG_vBGza"
      },
      "source": [
        "def translate(sentence, plot=''):\n",
        "  result, attention_weights = evaluate(sentence)\n",
        "  predicted_sentence = tokenizer_vn.decode([i for i in result \n",
        "                                            if i < tokenizer_vn.vocab_size])  \n",
        "\n",
        "  print('Input: {}'.format(sentence))\n",
        "  print('Predicted translation: {}'.format(predicted_sentence))\n",
        "  \n",
        "  if plot:\n",
        "    plot_attention_weights(attention_weights, sentence, result, plot)"
      ],
      "execution_count": 54,
      "outputs": []
    },
    {
      "cell_type": "code",
      "metadata": {
        "id": "q-NvetisO_zp",
        "colab": {
          "base_uri": "https://localhost:8080/"
        },
        "outputId": "b4ebd519-5a8f-4266-e55c-b2c3dce3808c"
      },
      "source": [
        "print(translate('你好！'))"
      ],
      "execution_count": 55,
      "outputs": [
        {
          "output_type": "stream",
          "text": [
            "Input: 你好！\n",
            "Predicted translation: chào bạn!\n",
            "None\n"
          ],
          "name": "stdout"
        }
      ]
    },
    {
      "cell_type": "code",
      "metadata": {
        "id": "-KPmiEdURlkv",
        "colab": {
          "base_uri": "https://localhost:8080/"
        },
        "outputId": "16c6bb1f-4126-4590-dd29-2f851a817b09"
      },
      "source": [
        "print(translate('我爱你')) # anh yêu em"
      ],
      "execution_count": 56,
      "outputs": [
        {
          "output_type": "stream",
          "text": [
            "Input: 我爱你\n",
            "Predicted translation: yêu cậu chẳng cần lý do\n",
            "None\n"
          ],
          "name": "stdout"
        }
      ]
    },
    {
      "cell_type": "code",
      "metadata": {
        "id": "RBqE3S9yPapg",
        "colab": {
          "base_uri": "https://localhost:8080/"
        },
        "outputId": "153c0862-a8cd-4b76-e1b5-25e1bb70f29c"
      },
      "source": [
        "print(translate('听说越南的杂技很有意思，我还没看过呢。'))"
      ],
      "execution_count": 57,
      "outputs": [
        {
          "output_type": "stream",
          "text": [
            "Input: 听说越南的杂技很有意思，我还没看过呢。\n",
            "Predicted translation: nghe nói xiếc của việt nam rất thú vị, tôi vẫn chưa xem qua.\n",
            "None\n"
          ],
          "name": "stdout"
        }
      ]
    },
    {
      "cell_type": "code",
      "metadata": {
        "id": "F1JClUjSPynI",
        "colab": {
          "base_uri": "https://localhost:8080/"
        },
        "outputId": "fc5a591a-2135-4776-c327-6e0f1c0f5ef4"
      },
      "source": [
        "print(translate('你来过越南吗？你来越南以后去过什么地方？'))"
      ],
      "execution_count": 58,
      "outputs": [
        {
          "output_type": "stream",
          "text": [
            "Input: 你来过越南吗？你来越南以后去过什么地方？\n",
            "Predicted translation: bạn đã từng đến việt nam chưa? sau khi bạn tới việt nam đã từng đến nơi nào?\n",
            "None\n"
          ],
          "name": "stdout"
        }
      ]
    },
    {
      "cell_type": "code",
      "metadata": {
        "id": "_0mV1V2YQA1b",
        "colab": {
          "base_uri": "https://localhost:8080/"
        },
        "outputId": "89fd9059-75f4-436e-ee97-49d23c2cc424"
      },
      "source": [
        "print(translate('我是越南人')) # tôi là người VN"
      ],
      "execution_count": 59,
      "outputs": [
        {
          "output_type": "stream",
          "text": [
            "Input: 我是越南人\n",
            "Predicted translation: tôi là người việt nam\n",
            "None\n"
          ],
          "name": "stdout"
        }
      ]
    },
    {
      "cell_type": "code",
      "metadata": {
        "id": "YeV9sLi8T2Qy",
        "colab": {
          "base_uri": "https://localhost:8080/"
        },
        "outputId": "0fbd325a-7e47-4e65-9229-fc390df247b5"
      },
      "source": [
        "print(translate('我不是越南人')) # tôi không là người VN"
      ],
      "execution_count": 60,
      "outputs": [
        {
          "output_type": "stream",
          "text": [
            "Input: 我不是越南人\n",
            "Predicted translation: không phải em xứng trẻ\n",
            "None\n"
          ],
          "name": "stdout"
        }
      ]
    },
    {
      "cell_type": "code",
      "metadata": {
        "id": "PuLevzyESCef",
        "colab": {
          "base_uri": "https://localhost:8080/"
        },
        "outputId": "c0e94254-36f6-4be6-fcb5-5adff35384a8"
      },
      "source": [
        "print(translate('他是中国人')) # anh ta là người Trung Quốc"
      ],
      "execution_count": 61,
      "outputs": [
        {
          "output_type": "stream",
          "text": [
            "Input: 他是中国人\n",
            "Predicted translation: anh là người nước mắt\n",
            "None\n"
          ],
          "name": "stdout"
        }
      ]
    },
    {
      "cell_type": "code",
      "metadata": {
        "id": "EMPoGxdQQKiS",
        "colab": {
          "base_uri": "https://localhost:8080/"
        },
        "outputId": "3b37aea6-dbcc-47dc-c165-f9bb2ac3ac87"
      },
      "source": [
        "print(translate('越南北部的中国')) # Trung Quốc ở phía bắc Việt Nam"
      ],
      "execution_count": 62,
      "outputs": [
        {
          "output_type": "stream",
          "text": [
            "Input: 越南北部的中国\n",
            "Predicted translation: việt nam là cô, em gái tôi làm quen với văn hóa việt nam.\n",
            "None\n"
          ],
          "name": "stdout"
        }
      ]
    },
    {
      "cell_type": "code",
      "metadata": {
        "id": "9zbGb506PIN9",
        "colab": {
          "base_uri": "https://localhost:8080/"
        },
        "outputId": "9443392d-cdcd-49db-ef5c-4641dd420dbc"
      },
      "source": [
        "print(translate('明天我哥哥很忙。'))"
      ],
      "execution_count": 63,
      "outputs": [
        {
          "output_type": "stream",
          "text": [
            "Input: 明天我哥哥很忙。\n",
            "Predicted translation: ngày mai anh trai tôi rất bận.\n",
            "None\n"
          ],
          "name": "stdout"
        }
      ]
    },
    {
      "cell_type": "code",
      "metadata": {
        "id": "YsxrAlvFG8SZ",
        "colab": {
          "base_uri": "https://localhost:8080/"
        },
        "outputId": "757bb281-53f2-4bf0-9d2d-d84f79124658"
      },
      "source": [
        "print(translate('那是英文杂志。'))"
      ],
      "execution_count": 64,
      "outputs": [
        {
          "output_type": "stream",
          "text": [
            "Input: 那是英文杂志。\n",
            "Predicted translation: kia là tạp chí tiếng anh?\n",
            "None\n"
          ],
          "name": "stdout"
        }
      ]
    },
    {
      "cell_type": "code",
      "metadata": {
        "id": "t7x7m65BOcMX",
        "colab": {
          "base_uri": "https://localhost:8080/"
        },
        "outputId": "3d96b6d3-7ffa-4094-f1e5-407e6b05706b"
      },
      "source": [
        "print(translate('明天下了课我就去办公室找她。'))"
      ],
      "execution_count": 65,
      "outputs": [
        {
          "output_type": "stream",
          "text": [
            "Input: 明天下了课我就去办公室找她。\n",
            "Predicted translation: ngày mai tan học xong tôi sẽ đến văn phòng tìm cô ta.\n",
            "None\n"
          ],
          "name": "stdout"
        }
      ]
    },
    {
      "cell_type": "code",
      "metadata": {
        "id": "uSlVcHVBfh-m",
        "outputId": "f4abbd41-3949-46d7-f307-55ab1a07cc86",
        "colab": {
          "base_uri": "https://localhost:8080/"
        }
      },
      "source": [
        "print(translate('真正的失败从来都不是结果的不仅如人意，而是拥有的时候随意挥霍，和未曾用心尝试前的轻言放弃。'))"
      ],
      "execution_count": 71,
      "outputs": [
        {
          "output_type": "stream",
          "text": [
            "Input: 真正的失败从来都不是结果的不仅如人意，而是拥有的时候随意挥霍，和未曾用心尝试前的轻言放弃。\n",
            "Predicted translation: thất bại thật sự không phải là kết quả không được như ý muốn mà là khi ta đang nắm giữ trong tay nhưng không biết trân trọng mà lại tùy tiện và dễ dàng từ bỏ khi chưa nếm trải qua hay quyết tâm giữ lấy.\n",
            "None\n"
          ],
          "name": "stdout"
        }
      ]
    },
    {
      "cell_type": "code",
      "metadata": {
        "id": "0JQrqaPZO40H",
        "colab": {
          "base_uri": "https://localhost:8080/"
        },
        "outputId": "94b0fb16-e9f9-4048-fb1f-5817ef9314e4"
      },
      "source": [
        "print(translate('真正的失败从来都不是结果的不仅如人意，而是拥有的时候随意挥霍，和未曾用心尝试前的轻言放弃。'))"
      ],
      "execution_count": 70,
      "outputs": [
        {
          "output_type": "stream",
          "text": [
            "Input: 真正的失败从来都不是结果的不仅如人意，而是拥有的时候随意挥霍，和未曾用心尝试前的轻言放弃。\n",
            "Predicted translation: thất bại thật sự không phải là kết quả không được như ý muốn mà là khi ta đang nắm giữ trong tay nhưng không biết trân trọng mà lại tùy tiện và dễ dàng từ bỏ khi chưa nếm trải qua hay quyết tâm giữ lấy.\n",
            "None\n"
          ],
          "name": "stdout"
        }
      ]
    },
    {
      "cell_type": "code",
      "metadata": {
        "id": "pQ7zPBmBOQOS",
        "colab": {
          "base_uri": "https://localhost:8080/"
        },
        "outputId": "32cb0b39-f9a3-4a38-8391-4259295106e1"
      },
      "source": [
        "print(translate('你的名字写下来不过几厘米长，却贯穿了我这么长时光。其实你不知道，你一直是我的梦想。'))\r\n"
      ],
      "execution_count": 67,
      "outputs": [
        {
          "output_type": "stream",
          "text": [
            "Input: 你的名字写下来不过几厘米长，却贯穿了我这么长时光。其实你不知道，你一直是我的梦想。\n",
            "Predicted translation: tên của anh khi giọt nước mắt rơi xuống là mua, làm là giản như vậy. nhưng những gì có thể dùng hàng 1000 cái hương thơm của anh cười của em. thực ra không cười bật đèn xanh chỉ cần rẽ ngang từng yêu phạm sai lầm: thực hiện thực hiện trong tim cũng sa mạc khiến cho ước mơ màng ấy chỉ có mà chỉ có bản thân những lời yêu cầu tính lên. cho dù có bản thân yêu thích vô cùng hoa.\n",
            "None\n"
          ],
          "name": "stdout"
        }
      ]
    },
    {
      "cell_type": "code",
      "metadata": {
        "id": "0gtzO9ztf-AX",
        "outputId": "95693b4e-141d-477f-bbbd-fe6f31fc0c5e",
        "colab": {
          "base_uri": "https://localhost:8080/"
        }
      },
      "source": [
        "print(translate('写给自己的第二封信 人生，总会有不期而遇的温暖，和生生不息的希望。不管前方的路有多苦，只要走的方向正确，不管多么崎岖不平，都比站在原地更接近幸福。'))"
      ],
      "execution_count": 77,
      "outputs": [
        {
          "output_type": "stream",
          "text": [
            "Input: 写给自己的第二封信 人生，总会有不期而遇的温暖，和生生不息的希望。不管前方的路有多苦，只要走的方向正确，不管多么崎岖不平，都比站在原地更接近幸福。\n",
            "Predicted translation: đời người luôn có những điều ấm áp không mong mà tới, và cả những hi vọng không ngừng lớn lên. cho dù con đường phía trước có bao nhiêu khổ ải, chỉ cần hướng đi đúng thì dù trên đường đi có bao nhiêu chông gai gập ghềnh cũng còn gần với bến bờ hạnh phúc hơn chỉ đứng mãi ở vạch xuất phát.\n",
            "None\n"
          ],
          "name": "stdout"
        }
      ]
    },
    {
      "cell_type": "code",
      "metadata": {
        "id": "xPM5cqn6glrZ",
        "outputId": "a807852e-dacb-4824-c8f0-176153c9bd3d",
        "colab": {
          "base_uri": "https://localhost:8080/"
        }
      },
      "source": [
        "print(translate('如果你感到委屈，证明你还有底线；如果你感到迷茫，证明你还有追求；如果你感到痛苦，证明你还有力气；如果你感到绝望，证明你还要希望。 从某种意义上，你永远都不会被打倒，因为你还有你。'))"
      ],
      "execution_count": 79,
      "outputs": [
        {
          "output_type": "stream",
          "text": [
            "Input: 如果你感到委屈，证明你还有底线；如果你感到迷茫，证明你还有追求；如果你感到痛苦，证明你还有力气；如果你感到绝望，证明你还要希望。 从某种意义上，你永远都不会被打倒，因为你还有你。\n",
            "Predicted translation: nếu như bạn cảm thấy oan ức thì chứng tỏ bạn vẫn còn giới hạn. nếu như bạn cảm thấy mông lung lạc lối chứng tỏ bạn vẫn còn nhiều điều muốn theo đuổi. nếu như bạn cảm thấy đau khổ chứng tỏ bạn vẫn còn sức lực. nếu như bạn cảm thấy tuyệt vọng chứng tỏ bạn vẫn còn hy vọng. trên một tầng ý nghĩa nào đó, bạn vĩnh viễn sẽ không bị bất cứ điều gì đạp đổ bởi vì bạn vẫn còn bản thân mình.\n",
            "None\n"
          ],
          "name": "stdout"
        }
      ]
    },
    {
      "cell_type": "code",
      "metadata": {
        "id": "A9enwvl9hFCl",
        "outputId": "81f7c059-dcce-4d01-ef73-c88e49cf6de4",
        "colab": {
          "base_uri": "https://localhost:8080/"
        }
      },
      "source": [
        "print(translate('今天我的工作不太忙。'))"
      ],
      "execution_count": 80,
      "outputs": [
        {
          "output_type": "stream",
          "text": [
            "Input: 今天我的工作不太忙。\n",
            "Predicted translation: hôm nay công việc của tôi không bận lắm.\n",
            "None\n"
          ],
          "name": "stdout"
        }
      ]
    }
  ]
}