{
  "nbformat": 4,
  "nbformat_minor": 0,
  "metadata": {
    "accelerator": "GPU",
    "colab": {
      "name": "chinhsua.ipynb",
      "provenance": [],
      "collapsed_sections": [],
      "toc_visible": true,
      "include_colab_link": true
    },
    "kernelspec": {
      "display_name": "Python 3",
      "language": "python",
      "name": "python3"
    },
    "language_info": {
      "codemirror_mode": {
        "name": "ipython",
        "version": 3
      },
      "file_extension": ".py",
      "mimetype": "text/x-python",
      "name": "python",
      "nbconvert_exporter": "python",
      "pygments_lexer": "ipython3",
      "version": "3.8.3"
    }
  },
  "cells": [
    {
      "cell_type": "markdown",
      "metadata": {
        "id": "view-in-github",
        "colab_type": "text"
      },
      "source": [
        "<a href=\"https://colab.research.google.com/github/TheDuyIT/MachineTranslation/blob/master/src/transformer.ipynb\" target=\"_parent\"><img src=\"https://colab.research.google.com/assets/colab-badge.svg\" alt=\"Open In Colab\"/></a>"
      ]
    },
    {
      "cell_type": "code",
      "metadata": {
        "id": "XFG0NDRu5mYQ",
        "colab": {
          "base_uri": "https://localhost:8080/"
        },
        "outputId": "4ac42ad3-a4ab-4162-957a-fbd2183c8d29"
      },
      "source": [
        "!pip install -q tfds-nightly\r\n",
        "# !pip install tensorflow-gpu"
      ],
      "execution_count": 1,
      "outputs": [
        {
          "output_type": "stream",
          "text": [
            "\u001b[K     |████████████████████████████████| 3.8MB 20.3MB/s \n",
            "\u001b[?25h"
          ],
          "name": "stdout"
        }
      ]
    },
    {
      "cell_type": "code",
      "metadata": {
        "colab": {
          "base_uri": "https://localhost:8080/"
        },
        "id": "kEATbN5DAYDT",
        "outputId": "172b3042-55da-4578-8d19-d167baf2f47b"
      },
      "source": [
        "!npx degit TheDuyIT/MachineTranslation -f"
      ],
      "execution_count": 2,
      "outputs": [
        {
          "output_type": "stream",
          "text": [
            "\u001b[K\u001b[?25hnpx: installed 1 in 1.903s\n",
            "\u001b[36m> destination directory is not empty. Using --force, continuing\u001b[39m\n",
            "\u001b[36m> cloned \u001b[1mTheDuyIT/MachineTranslation\u001b[22m#\u001b[1mmaster\u001b[22m\u001b[39m\n"
          ],
          "name": "stdout"
        }
      ]
    },
    {
      "cell_type": "code",
      "metadata": {
        "id": "kB9BXDZLyrMG",
        "outputId": "68623013-76b5-469b-ad68-a7f65ab1882d",
        "colab": {
          "base_uri": "https://localhost:8080/"
        }
      },
      "source": [
        "from google.colab import drive\n",
        "drive.mount('/content/drive')"
      ],
      "execution_count": 19,
      "outputs": [
        {
          "output_type": "stream",
          "text": [
            "Drive already mounted at /content/drive; to attempt to forcibly remount, call drive.mount(\"/content/drive\", force_remount=True).\n"
          ],
          "name": "stdout"
        }
      ]
    },
    {
      "cell_type": "code",
      "metadata": {
        "id": "JjJJyJTZYebt"
      },
      "source": [
        "import tensorflow_datasets as tfds\n",
        "import tensorflow as tf\n",
        "import unicodedata\n",
        "import time\n",
        "import re\n",
        "import numpy as np\n",
        "import matplotlib.pyplot as plt\n",
        "from src.process_data import DataFormatter, DataLoader"
      ],
      "execution_count": 3,
      "outputs": []
    },
    {
      "cell_type": "markdown",
      "metadata": {
        "id": "fd1NWMxjfsDd"
      },
      "source": [
        "## Setup input pipeline"
      ]
    },
    {
      "cell_type": "code",
      "metadata": {
        "id": "v2MJM8-jV6IA"
      },
      "source": [
        "loader = DataLoader()"
      ],
      "execution_count": 4,
      "outputs": []
    },
    {
      "cell_type": "code",
      "metadata": {
        "id": "ZpF0MBnRaq2o"
      },
      "source": [
        "content_en = loader.np_load('lst_cn_1000_original')\n",
        "content_vn = loader.np_load('lst_vi_1000_original')\n",
        "for i in range(len(content_vn)):\n",
        "  content_vn[i] = content_vn[i].lower()\n",
        "  # content_en.append(i['en'].lower())\n",
        "  # content_vn.append(i['vn'].lower())"
      ],
      "execution_count": 11,
      "outputs": []
    },
    {
      "cell_type": "code",
      "metadata": {
        "colab": {
          "base_uri": "https://localhost:8080/"
        },
        "id": "VP0PoNkyDIHp",
        "outputId": "b8a75dad-5d45-4d34-e570-7a8ce08def26"
      },
      "source": [
        "print(len(content_en))\r\n",
        "print(len(content_vn))"
      ],
      "execution_count": 12,
      "outputs": [
        {
          "output_type": "stream",
          "text": [
            "4187\n",
            "4187\n"
          ],
          "name": "stdout"
        }
      ]
    },
    {
      "cell_type": "code",
      "metadata": {
        "id": "P1guLOWvfLoC"
      },
      "source": [
        "a = tf.data.Dataset.from_tensor_slices(content_en)  # ==> [ 1, 2, 3 ]\n",
        "b = tf.data.Dataset.from_tensor_slices(content_vn)  # ==> [ 4, 5, 6 ]\n",
        "\n",
        "full_dataset = tf.data.Dataset.zip((a, b))"
      ],
      "execution_count": 14,
      "outputs": []
    },
    {
      "cell_type": "code",
      "metadata": {
        "id": "RTGUJVei9wjc"
      },
      "source": [
        "train_size = int(0.8*0.9*len(full_dataset)) + 2\n",
        "val_size = int(0.8*0.1*len(full_dataset))\n",
        "test_size = int(0.2*len(full_dataset))"
      ],
      "execution_count": 15,
      "outputs": []
    },
    {
      "cell_type": "code",
      "metadata": {
        "id": "g6Z3HImR9a-M"
      },
      "source": [
        "full_dataset = full_dataset.shuffle(buffer_size = 1000)\n",
        "train_examples = full_dataset.take(train_size)\n",
        "test_dataset = full_dataset.skip(train_size)\n",
        "val_dataset = test_dataset.skip(val_size)\n",
        "test_dataset = test_dataset.take(test_size)"
      ],
      "execution_count": 16,
      "outputs": []
    },
    {
      "cell_type": "code",
      "metadata": {
        "id": "KVBg5Q8tBk5z"
      },
      "source": [
        "# tokenizer_vn = tfds.deprecated.text.SubwordTextEncoder.load_from_file('tokenizer_en')\n",
        "# tokenizer_en = tfds.deprecated.text.SubwordTextEncoder.load_from_file('tokenizer_vn')\n",
        "tokenizer_en = tfds.deprecated.text.SubwordTextEncoder.build_from_corpus(\n",
        "    (en.numpy() for pt, en in train_examples), target_vocab_size=2**13)\n",
        "\n",
        "tokenizer_vn = tfds.deprecated.text.SubwordTextEncoder.build_from_corpus(\n",
        "    (pt.numpy() for pt, en in train_examples), target_vocab_size=2**13)"
      ],
      "execution_count": 17,
      "outputs": []
    },
    {
      "cell_type": "code",
      "metadata": {
        "id": "-9ddMZP5z3tp"
      },
      "source": [
        "# tokenizer_en.save_to_file('/content/drive/MyDrive/VinBigData/checkpoints/tokenizer_en')\r\n",
        "# tokenizer_vn.save_to_file('/content/drive/MyDrive/VinBigData/checkpoints/tokenizer_vn')"
      ],
      "execution_count": 19,
      "outputs": []
    },
    {
      "cell_type": "code",
      "metadata": {
        "id": "bcRp7VcQ5m6g"
      },
      "source": [
        "BUFFER_SIZE = 2000\n",
        "BATCH_SIZE = 64"
      ],
      "execution_count": 20,
      "outputs": []
    },
    {
      "cell_type": "code",
      "metadata": {
        "id": "UZwnPr4R055s"
      },
      "source": [
        "def encode(lang1, lang2):\n",
        "  lang1 = [tokenizer_en.vocab_size] + tokenizer_en.encode(\n",
        "      lang1.numpy()) + [tokenizer_en.vocab_size+1]\n",
        "\n",
        "  lang2 = [tokenizer_vn.vocab_size] + tokenizer_vn.encode(\n",
        "      lang2.numpy()) + [tokenizer_vn.vocab_size+1]\n",
        "  \n",
        "  return lang1, lang2"
      ],
      "execution_count": 21,
      "outputs": []
    },
    {
      "cell_type": "code",
      "metadata": {
        "id": "Mah1cS-P70Iz"
      },
      "source": [
        "def tf_encode(en, vn):\n",
        "  result_en, result_vn = tf.py_function(encode, [en, vn], [tf.int64, tf.int64])\n",
        "  result_en.set_shape([None])\n",
        "  result_vn.set_shape([None])\n",
        "\n",
        "  return result_en, result_vn"
      ],
      "execution_count": 22,
      "outputs": []
    },
    {
      "cell_type": "code",
      "metadata": {
        "id": "2QEgbjntk6Yf"
      },
      "source": [
        "MAX_LENGTH = 190\n"
      ],
      "execution_count": 23,
      "outputs": []
    },
    {
      "cell_type": "code",
      "metadata": {
        "id": "c081xPGv1CPI"
      },
      "source": [
        "def filter_max_length(x, y, max_length=MAX_LENGTH):\n",
        "  return tf.logical_and(tf.size(x) <= max_length,\n",
        "                        tf.size(y) <= max_length)"
      ],
      "execution_count": 24,
      "outputs": []
    },
    {
      "cell_type": "code",
      "metadata": {
        "id": "JKIPFkLr-Qsz"
      },
      "source": [
        "train_dataset = train_examples.map(tf_encode)\n",
        "train_dataset = train_dataset.filter(filter_max_length)\n",
        "# cache the dataset to memory to get a speedup while reading from it.\n",
        "train_dataset = train_dataset.cache()\n",
        "train_dataset = train_dataset.shuffle(BUFFER_SIZE).padded_batch(BATCH_SIZE)\n",
        "train_dataset = train_dataset.prefetch(tf.data.experimental.AUTOTUNE)\n",
        "\n",
        "\n",
        "val_dataset = val_dataset.map(tf_encode)\n",
        "val_dataset = val_dataset.filter(filter_max_length).padded_batch(BATCH_SIZE)\n",
        "\n",
        "test_dataset = test_dataset.map(tf_encode)\n",
        "test_dataset = test_dataset.filter(filter_max_length).padded_batch(BATCH_SIZE)"
      ],
      "execution_count": 25,
      "outputs": []
    },
    {
      "cell_type": "markdown",
      "metadata": {
        "id": "nBQuibYA4n0n"
      },
      "source": [
        "## Positional encoding\n",
        "\n",
        "Since this model doesn't contain any recurrence or convolution, positional encoding is added to give the model some information about the relative position of the words in the sentence. \n",
        "\n",
        "The positional encoding vector is added to the embedding vector. Embeddings represent a token in a d-dimensional space where tokens with similar meaning will be closer to each other. But the embeddings do not encode the relative position of words in a sentence. So after adding the positional encoding, words will be closer to each other based on the *similarity of their meaning and their position in the sentence*, in the d-dimensional space.\n",
        "\n",
        "See the notebook on [positional encoding](https://github.com/tensorflow/examples/blob/master/community/en/position_encoding.ipynb) to learn more about it. The formula for calculating the positional encoding is as follows:\n",
        "\n",
        "$$\\Large{PE_{(pos, 2i)} = sin(pos / 10000^{2i / d_{model}})} $$\n",
        "$$\\Large{PE_{(pos, 2i+1)} = cos(pos / 10000^{2i / d_{model}})} $$"
      ]
    },
    {
      "cell_type": "code",
      "metadata": {
        "id": "WhIOZjMNKujn"
      },
      "source": [
        "def get_angles(pos, i, d_model):\n",
        "  angle_rates = 1 / np.power(10000, (2 * (i//2)) / np.float32(d_model))\n",
        "  return pos * angle_rates"
      ],
      "execution_count": 26,
      "outputs": []
    },
    {
      "cell_type": "code",
      "metadata": {
        "id": "1Rz82wEs5biZ"
      },
      "source": [
        "def positional_encoding(position, d_model):\n",
        "  angle_rads = get_angles(np.arange(position)[:, np.newaxis],\n",
        "                          np.arange(d_model)[np.newaxis, :],\n",
        "                          d_model)\n",
        "  \n",
        "  # apply sin to even indices in the array; 2i\n",
        "  angle_rads[:, 0::2] = np.sin(angle_rads[:, 0::2])\n",
        "  \n",
        "  # apply cos to odd indices in the array; 2i+1\n",
        "  angle_rads[:, 1::2] = np.cos(angle_rads[:, 1::2])\n",
        "    \n",
        "  pos_encoding = angle_rads[np.newaxis, ...]\n",
        "    \n",
        "  return tf.cast(pos_encoding, dtype=tf.float32)"
      ],
      "execution_count": 27,
      "outputs": []
    },
    {
      "cell_type": "code",
      "metadata": {
        "id": "1kLCla68EloE",
        "colab": {
          "base_uri": "https://localhost:8080/",
          "height": 301
        },
        "outputId": "0802e8c7-76d3-40e4-e1e2-899040fc87b2"
      },
      "source": [
        "pos_encoding = positional_encoding(50, 512)\n",
        "print (pos_encoding.shape)\n",
        "\n",
        "plt.pcolormesh(pos_encoding[0], cmap='RdBu')\n",
        "plt.xlabel('Depth')\n",
        "plt.xlim((0, 512))\n",
        "plt.ylabel('Position')\n",
        "plt.colorbar()\n",
        "plt.show()"
      ],
      "execution_count": 28,
      "outputs": [
        {
          "output_type": "stream",
          "text": [
            "(1, 50, 512)\n"
          ],
          "name": "stdout"
        },
        {
          "output_type": "display_data",
          "data": {
            "image/png": "[encoded data removed]",
            "text/plain": [
              "<Figure size 432x288 with 2 Axes>"
            ]
          },
          "metadata": {
            "tags": [],
            "needs_background": "light"
          }
        }
      ]
    },
    {
      "cell_type": "markdown",
      "metadata": {
        "id": "a_b4ou4TYqUN"
      },
      "source": [
        "## Masking"
      ]
    },
    {
      "cell_type": "code",
      "metadata": {
        "id": "U2i8-e1s8ti9"
      },
      "source": [
        "def create_padding_mask(seq):\n",
        "  seq = tf.cast(tf.math.equal(seq, 0), tf.float32)\n",
        "  \n",
        "  # add extra dimensions to add the padding\n",
        "  # to the attention logits.\n",
        "  return seq[:, tf.newaxis, tf.newaxis, :]  # (batch_size, 1, 1, seq_len)"
      ],
      "execution_count": 29,
      "outputs": []
    },
    {
      "cell_type": "code",
      "metadata": {
        "id": "dVxS8OPI9uI0"
      },
      "source": [
        "def create_look_ahead_mask(size):\n",
        "  mask = 1 - tf.linalg.band_part(tf.ones((size, size)), -1, 0)\n",
        "  return mask  # (seq_len, seq_len)"
      ],
      "execution_count": 30,
      "outputs": []
    },
    {
      "cell_type": "markdown",
      "metadata": {
        "id": "xluDl5cXYy4y"
      },
      "source": [
        "## Scaled dot product attention"
      ]
    },
    {
      "cell_type": "code",
      "metadata": {
        "id": "LazzUq3bJ5SH"
      },
      "source": [
        "def scaled_dot_product_attention(q, k, v, mask):\n",
        "  \"\"\"Calculate the attention weights.\n",
        "  q, k, v must have matching leading dimensions.\n",
        "  k, v must have matching penultimate dimension, i.e.: seq_len_k = seq_len_v.\n",
        "  The mask has different shapes depending on its type(padding or look ahead) \n",
        "  but it must be broadcastable for addition.\n",
        "  \n",
        "  Args:\n",
        "    q: query shape == (..., seq_len_q, depth)\n",
        "    k: key shape == (..., seq_len_k, depth)\n",
        "    v: value shape == (..., seq_len_v, depth_v)\n",
        "    mask: Float tensor with shape broadcastable \n",
        "          to (..., seq_len_q, seq_len_k). Defaults to None.\n",
        "    \n",
        "  Returns:\n",
        "    output, attention_weights\n",
        "  \"\"\"\n",
        "\n",
        "  matmul_qk = tf.matmul(q, k, transpose_b=True)  # (..., seq_len_q, seq_len_k)\n",
        "  \n",
        "  # scale matmul_qk\n",
        "  dk = tf.cast(tf.shape(k)[-1], tf.float32)\n",
        "  scaled_attention_logits = matmul_qk / tf.math.sqrt(dk)\n",
        "\n",
        "  # add the mask to the scaled tensor.\n",
        "  if mask is not None:\n",
        "    scaled_attention_logits += (mask * -1e9)  \n",
        "\n",
        "  # softmax is normalized on the last axis (seq_len_k) so that the scores\n",
        "  # add up to 1.\n",
        "  attention_weights = tf.nn.softmax(scaled_attention_logits, axis=-1)  # (..., seq_len_q, seq_len_k)\n",
        "\n",
        "  output = tf.matmul(attention_weights, v)  # (..., seq_len_q, depth_v)\n",
        "\n",
        "  return output, attention_weights"
      ],
      "execution_count": 31,
      "outputs": []
    },
    {
      "cell_type": "markdown",
      "metadata": {
        "id": "kmzGPEy64qmA"
      },
      "source": [
        "## Multi-head attention"
      ]
    },
    {
      "cell_type": "code",
      "metadata": {
        "id": "BSV3PPKsYecw"
      },
      "source": [
        "class MultiHeadAttention(tf.keras.layers.Layer):\n",
        "  def __init__(self, d_model, num_heads):\n",
        "    super(MultiHeadAttention, self).__init__()\n",
        "    self.num_heads = num_heads\n",
        "    self.d_model = d_model\n",
        "    \n",
        "    assert d_model % self.num_heads == 0\n",
        "    \n",
        "    self.depth = d_model // self.num_heads\n",
        "    \n",
        "    self.wq = tf.keras.layers.Dense(d_model)\n",
        "    self.wk = tf.keras.layers.Dense(d_model)\n",
        "    self.wv = tf.keras.layers.Dense(d_model)\n",
        "    \n",
        "    self.dense = tf.keras.layers.Dense(d_model)\n",
        "        \n",
        "  def split_heads(self, x, batch_size):\n",
        "    \"\"\"Split the last dimension into (num_heads, depth).\n",
        "    Transpose the result such that the shape is (batch_size, num_heads, seq_len, depth)\n",
        "    \"\"\"\n",
        "    x = tf.reshape(x, (batch_size, -1, self.num_heads, self.depth))\n",
        "    return tf.transpose(x, perm=[0, 2, 1, 3])\n",
        "    \n",
        "  def call(self, v, k, q, mask):\n",
        "    batch_size = tf.shape(q)[0]\n",
        "    \n",
        "    q = self.wq(q)  # (batch_size, seq_len, d_model)\n",
        "    k = self.wk(k)  # (batch_size, seq_len, d_model)\n",
        "    v = self.wv(v)  # (batch_size, seq_len, d_model)\n",
        "    \n",
        "    q = self.split_heads(q, batch_size)  # (batch_size, num_heads, seq_len_q, depth)\n",
        "    k = self.split_heads(k, batch_size)  # (batch_size, num_heads, seq_len_k, depth)\n",
        "    v = self.split_heads(v, batch_size)  # (batch_size, num_heads, seq_len_v, depth)\n",
        "    \n",
        "    # scaled_attention.shape == (batch_size, num_heads, seq_len_q, depth)\n",
        "    # attention_weights.shape == (batch_size, num_heads, seq_len_q, seq_len_k)\n",
        "    scaled_attention, attention_weights = scaled_dot_product_attention(\n",
        "        q, k, v, mask)\n",
        "    \n",
        "    scaled_attention = tf.transpose(scaled_attention, perm=[0, 2, 1, 3])  # (batch_size, seq_len_q, num_heads, depth)\n",
        "\n",
        "    concat_attention = tf.reshape(scaled_attention, \n",
        "                                  (batch_size, -1, self.d_model))  # (batch_size, seq_len_q, d_model)\n",
        "\n",
        "    output = self.dense(concat_attention)  # (batch_size, seq_len_q, d_model)\n",
        "        \n",
        "    return output, attention_weights"
      ],
      "execution_count": 32,
      "outputs": []
    },
    {
      "cell_type": "markdown",
      "metadata": {
        "id": "RdDqGayx67vv"
      },
      "source": [
        "## Point wise feed forward network"
      ]
    },
    {
      "cell_type": "markdown",
      "metadata": {
        "id": "gBqzJXGfHK3X"
      },
      "source": [
        "Point wise feed forward network consists of two fully-connected layers with a ReLU activation in between."
      ]
    },
    {
      "cell_type": "code",
      "metadata": {
        "id": "ET7xLt0yCT6Z"
      },
      "source": [
        "def point_wise_feed_forward_network(d_model, dff):\n",
        "  return tf.keras.Sequential([\n",
        "      tf.keras.layers.Dense(dff, activation='relu'),  # (batch_size, seq_len, dff)\n",
        "      tf.keras.layers.Dense(d_model)  # (batch_size, seq_len, d_model)\n",
        "  ])"
      ],
      "execution_count": 33,
      "outputs": []
    },
    {
      "cell_type": "markdown",
      "metadata": {
        "id": "7e7hKcxn6-zd"
      },
      "source": [
        "## Encoder and decoder"
      ]
    },
    {
      "cell_type": "markdown",
      "metadata": {
        "id": "QFv-FNYUmvpn"
      },
      "source": [
        "### Encoder layer\n",
        "\n",
        "Each encoder layer consists of sublayers:\n",
        "\n",
        "1.   Multi-head attention (with padding mask) \n",
        "2.    Point wise feed forward networks. \n",
        "\n",
        "Each of these sublayers has a residual connection around it followed by a layer normalization. Residual connections help in avoiding the vanishing gradient problem in deep networks.\n",
        "\n",
        "The output of each sublayer is `LayerNorm(x + Sublayer(x))`. The normalization is done on the `d_model` (last) axis. There are N encoder layers in the transformer."
      ]
    },
    {
      "cell_type": "code",
      "metadata": {
        "id": "ncyS-Ms3i2x_"
      },
      "source": [
        "class EncoderLayer(tf.keras.layers.Layer):\n",
        "  def __init__(self, d_model, num_heads, dff, rate=0.1):\n",
        "    super(EncoderLayer, self).__init__()\n",
        "\n",
        "    self.mha = MultiHeadAttention(d_model, num_heads)\n",
        "    self.ffn = point_wise_feed_forward_network(d_model, dff)\n",
        "\n",
        "    self.layernorm1 = tf.keras.layers.LayerNormalization(epsilon=1e-6)\n",
        "    self.layernorm2 = tf.keras.layers.LayerNormalization(epsilon=1e-6)\n",
        "    \n",
        "    self.dropout1 = tf.keras.layers.Dropout(rate)\n",
        "    self.dropout2 = tf.keras.layers.Dropout(rate)\n",
        "    \n",
        "  def call(self, x, training, mask):\n",
        "\n",
        "    attn_output, _ = self.mha(x, x, x, mask)  # (batch_size, input_seq_len, d_model)\n",
        "    attn_output = self.dropout1(attn_output, training=training)\n",
        "    out1 = self.layernorm1(x + attn_output)  # (batch_size, input_seq_len, d_model)\n",
        "    \n",
        "    ffn_output = self.ffn(out1)  # (batch_size, input_seq_len, d_model)\n",
        "    ffn_output = self.dropout2(ffn_output, training=training)\n",
        "    out2 = self.layernorm2(out1 + ffn_output)  # (batch_size, input_seq_len, d_model)\n",
        "    \n",
        "    return out2"
      ],
      "execution_count": 34,
      "outputs": []
    },
    {
      "cell_type": "markdown",
      "metadata": {
        "id": "6LO_48Owmx_o"
      },
      "source": [
        "### Decoder layer\n",
        "\n",
        "Each decoder layer consists of sublayers:\n",
        "\n",
        "1.   Masked multi-head attention (with look ahead mask and padding mask)\n",
        "2.   Multi-head attention (with padding mask). V (value) and K (key) receive the *encoder output* as inputs. Q (query) receives the *output from the masked multi-head attention sublayer.*\n",
        "3.   Point wise feed forward networks\n",
        "\n",
        "Each of these sublayers has a residual connection around it followed by a layer normalization. The output of each sublayer is `LayerNorm(x + Sublayer(x))`. The normalization is done on the `d_model` (last) axis.\n",
        "\n",
        "There are N decoder layers in the transformer.\n",
        "\n",
        "As Q receives the output from decoder's first attention block, and K receives the encoder output, the attention weights represent the importance given to the decoder's input based on the encoder's output. In other words, the decoder predicts the next word by looking at the encoder output and self-attending to its own output. See the demonstration above in the scaled dot product attention section."
      ]
    },
    {
      "cell_type": "code",
      "metadata": {
        "id": "9SoX0-vd1hue"
      },
      "source": [
        "class DecoderLayer(tf.keras.layers.Layer):\n",
        "  def __init__(self, d_model, num_heads, dff, rate=0.1):\n",
        "    super(DecoderLayer, self).__init__()\n",
        "\n",
        "    self.mha1 = MultiHeadAttention(d_model, num_heads)\n",
        "    self.mha2 = MultiHeadAttention(d_model, num_heads)\n",
        "\n",
        "    self.ffn = point_wise_feed_forward_network(d_model, dff)\n",
        " \n",
        "    self.layernorm1 = tf.keras.layers.LayerNormalization(epsilon=1e-6)\n",
        "    self.layernorm2 = tf.keras.layers.LayerNormalization(epsilon=1e-6)\n",
        "    self.layernorm3 = tf.keras.layers.LayerNormalization(epsilon=1e-6)\n",
        "    \n",
        "    self.dropout1 = tf.keras.layers.Dropout(rate)\n",
        "    self.dropout2 = tf.keras.layers.Dropout(rate)\n",
        "    self.dropout3 = tf.keras.layers.Dropout(rate)\n",
        "    \n",
        "    \n",
        "  def call(self, x, enc_output, training, \n",
        "           look_ahead_mask, padding_mask):\n",
        "    # enc_output.shape == (batch_size, input_seq_len, d_model)\n",
        "\n",
        "    attn1, attn_weights_block1 = self.mha1(x, x, x, look_ahead_mask)  # (batch_size, target_seq_len, d_model)\n",
        "    attn1 = self.dropout1(attn1, training=training)\n",
        "    out1 = self.layernorm1(attn1 + x)\n",
        "    \n",
        "    attn2, attn_weights_block2 = self.mha2(\n",
        "        enc_output, enc_output, out1, padding_mask)  # (batch_size, target_seq_len, d_model)\n",
        "    attn2 = self.dropout2(attn2, training=training)\n",
        "    out2 = self.layernorm2(attn2 + out1)  # (batch_size, target_seq_len, d_model)\n",
        "    \n",
        "    ffn_output = self.ffn(out2)  # (batch_size, target_seq_len, d_model)\n",
        "    ffn_output = self.dropout3(ffn_output, training=training)\n",
        "    out3 = self.layernorm3(ffn_output + out2)  # (batch_size, target_seq_len, d_model)\n",
        "    \n",
        "    return out3, attn_weights_block1, attn_weights_block2"
      ],
      "execution_count": 35,
      "outputs": []
    },
    {
      "cell_type": "markdown",
      "metadata": {
        "id": "SE1H51Ajm0q1"
      },
      "source": [
        "### Encoder\n",
        "\n",
        "The `Encoder` consists of:\n",
        "1.   Input Embedding\n",
        "2.   Positional Encoding\n",
        "3.   N encoder layers\n",
        "\n",
        "The input is put through an embedding which is summed with the positional encoding. The output of this summation is the input to the encoder layers. The output of the encoder is the input to the decoder."
      ]
    },
    {
      "cell_type": "code",
      "metadata": {
        "id": "jpEox7gJ8FCI"
      },
      "source": [
        "class Encoder(tf.keras.layers.Layer):\n",
        "  def __init__(self, num_layers, d_model, num_heads, dff, input_vocab_size,\n",
        "               maximum_position_encoding, rate=0.1):\n",
        "    super(Encoder, self).__init__()\n",
        "    self.d_model = d_model\n",
        "    self.num_layers = num_layers\n",
        "    \n",
        "    self.embedding = tf.keras.layers.Embedding(input_vocab_size, d_model)\n",
        "    self.pos_encoding = positional_encoding(maximum_position_encoding, \n",
        "                                            self.d_model)\n",
        "    \n",
        "    \n",
        "    self.enc_layers = [EncoderLayer(d_model, num_heads, dff, rate) \n",
        "                       for _ in range(num_layers)]\n",
        "  \n",
        "    self.dropout = tf.keras.layers.Dropout(rate)\n",
        "        \n",
        "  def call(self, x, training, mask):\n",
        "\n",
        "    seq_len = tf.shape(x)[1]\n",
        "    \n",
        "    # adding embedding and position encoding.\n",
        "    x = self.embedding(x)  # (batch_size, input_seq_len, d_model)\n",
        "    x *= tf.math.sqrt(tf.cast(self.d_model, tf.float32))\n",
        "    x += self.pos_encoding[:, :seq_len, :]\n",
        "\n",
        "    x = self.dropout(x, training=training)\n",
        "    \n",
        "    for i in range(self.num_layers):\n",
        "      x = self.enc_layers[i](x, training, mask)\n",
        "    \n",
        "    return x  # (batch_size, input_seq_len, d_model)"
      ],
      "execution_count": 36,
      "outputs": []
    },
    {
      "cell_type": "markdown",
      "metadata": {
        "id": "p-uO6ls8m2O5"
      },
      "source": [
        "### Decoder"
      ]
    },
    {
      "cell_type": "markdown",
      "metadata": {
        "id": "ZtT7PKzrXkNr"
      },
      "source": [
        " The `Decoder` consists of:\n",
        "1.   Output Embedding\n",
        "2.   Positional Encoding\n",
        "3.   N decoder layers\n",
        "\n",
        "The target is put through an embedding which is summed with the positional encoding. The output of this summation is the input to the decoder layers. The output of the decoder is the input to the final linear layer."
      ]
    },
    {
      "cell_type": "code",
      "metadata": {
        "id": "d5_d5-PLQXwY"
      },
      "source": [
        "class Decoder(tf.keras.layers.Layer):\n",
        "  def __init__(self, num_layers, d_model, num_heads, dff, target_vocab_size,\n",
        "               maximum_position_encoding, rate=0.1):\n",
        "    super(Decoder, self).__init__()\n",
        "\n",
        "    self.d_model = d_model\n",
        "    self.num_layers = num_layers\n",
        "    \n",
        "    self.embedding = tf.keras.layers.Embedding(target_vocab_size, d_model)\n",
        "    self.pos_encoding = positional_encoding(maximum_position_encoding, d_model)\n",
        "    \n",
        "    self.dec_layers = [DecoderLayer(d_model, num_heads, dff, rate) \n",
        "                       for _ in range(num_layers)]\n",
        "    self.dropout = tf.keras.layers.Dropout(rate)\n",
        "    \n",
        "  def call(self, x, enc_output, training, \n",
        "           look_ahead_mask, padding_mask):\n",
        "\n",
        "    seq_len = tf.shape(x)[1]\n",
        "    attention_weights = {}\n",
        "    \n",
        "    x = self.embedding(x)  # (batch_size, target_seq_len, d_model)\n",
        "    x *= tf.math.sqrt(tf.cast(self.d_model, tf.float32))\n",
        "    x += self.pos_encoding[:, :seq_len, :]\n",
        "    \n",
        "    x = self.dropout(x, training=training)\n",
        "\n",
        "    for i in range(self.num_layers):\n",
        "      x, block1, block2 = self.dec_layers[i](x, enc_output, training,\n",
        "                                             look_ahead_mask, padding_mask)\n",
        "      \n",
        "      attention_weights['decoder_layer{}_block1'.format(i+1)] = block1\n",
        "      attention_weights['decoder_layer{}_block2'.format(i+1)] = block2\n",
        "    \n",
        "    # x.shape == (batch_size, target_seq_len, d_model)\n",
        "    return x, attention_weights"
      ],
      "execution_count": 37,
      "outputs": []
    },
    {
      "cell_type": "markdown",
      "metadata": {
        "id": "y54xnJnuYgJ7"
      },
      "source": [
        "## Create the Transformer"
      ]
    },
    {
      "cell_type": "code",
      "metadata": {
        "id": "PED3bIpOYkBu"
      },
      "source": [
        "class Transformer(tf.keras.Model):\n",
        "  def __init__(self, num_layers, d_model, num_heads, dff, input_vocab_size, \n",
        "               target_vocab_size, pe_input, pe_target, rate=0.1):\n",
        "    super(Transformer, self).__init__()\n",
        "    \n",
        "    self.encoder = Encoder(num_layers, d_model, num_heads, dff, \n",
        "                           input_vocab_size, pe_input, rate)\n",
        "\n",
        "    self.decoder = Decoder(num_layers, d_model, num_heads, dff, \n",
        "                           target_vocab_size, pe_target, rate)\n",
        "\n",
        "    self.final_layer = tf.keras.layers.Dense(target_vocab_size)\n",
        "    \n",
        "  def call(self, inp, tar, training, enc_padding_mask, \n",
        "           look_ahead_mask, dec_padding_mask):\n",
        "    \n",
        "    enc_output = self.encoder(inp, training, enc_padding_mask)  # (batch_size, inp_seq_len, d_model)\n",
        "    # dec_output.shape == (batch_size, tar_seq_len, d_model)\n",
        "    dec_output, attention_weights = self.decoder(\n",
        "        tar, enc_output, training, look_ahead_mask, dec_padding_mask)\n",
        "    \n",
        "    final_output = self.final_layer(dec_output)  # (batch_size, tar_seq_len, target_vocab_size)\n",
        "    \n",
        "    return final_output, attention_weights"
      ],
      "execution_count": 38,
      "outputs": []
    },
    {
      "cell_type": "markdown",
      "metadata": {
        "id": "wsINyf1VEQLC"
      },
      "source": [
        "## Set hyperparameters"
      ]
    },
    {
      "cell_type": "code",
      "metadata": {
        "id": "lnJn5SLA2ahP"
      },
      "source": [
        "num_layers = 4\n",
        "d_model = 128\n",
        "dff = 512\n",
        "num_heads = 8\n",
        "\n",
        "input_vocab_size = tokenizer_en.vocab_size + 2\n",
        "target_vocab_size = tokenizer_vn.vocab_size + 2\n",
        "dropout_rate = 0.1"
      ],
      "execution_count": 39,
      "outputs": []
    },
    {
      "cell_type": "markdown",
      "metadata": {
        "id": "xYEGhEOtzn5W"
      },
      "source": [
        "## Optimizer"
      ]
    },
    {
      "cell_type": "markdown",
      "metadata": {
        "id": "GOmWW--yP3zx"
      },
      "source": [
        "Use the Adam optimizer with a custom learning rate scheduler according to the formula in the [paper](https://arxiv.org/abs/1706.03762).\n",
        "\n",
        "$$\\Large{lrate = d_{model}^{-0.5} * min(step{\\_}num^{-0.5}, step{\\_}num * warmup{\\_}steps^{-1.5})}$$\n"
      ]
    },
    {
      "cell_type": "code",
      "metadata": {
        "id": "iYQdOO1axwEI"
      },
      "source": [
        "class CustomSchedule(tf.keras.optimizers.schedules.LearningRateSchedule):\n",
        "  def __init__(self, d_model, warmup_steps=4000):\n",
        "    super(CustomSchedule, self).__init__()\n",
        "    \n",
        "    self.d_model = d_model\n",
        "    self.d_model = tf.cast(self.d_model, tf.float32)\n",
        "\n",
        "    self.warmup_steps = warmup_steps\n",
        "    \n",
        "  def __call__(self, step):\n",
        "    arg1 = tf.math.rsqrt(step)\n",
        "    arg2 = step * (self.warmup_steps ** -1.5)\n",
        "    \n",
        "    return tf.math.rsqrt(self.d_model) * tf.math.minimum(arg1, arg2)"
      ],
      "execution_count": 40,
      "outputs": []
    },
    {
      "cell_type": "code",
      "metadata": {
        "id": "7r4scdulztRx"
      },
      "source": [
        "learning_rate = CustomSchedule(d_model)\n",
        "\n",
        "optimizer = tf.keras.optimizers.Adam(learning_rate, beta_1=0.9, beta_2=0.98, \n",
        "                                     epsilon=1e-9)"
      ],
      "execution_count": 41,
      "outputs": []
    },
    {
      "cell_type": "markdown",
      "metadata": {
        "id": "YgkDE7hzo8r5"
      },
      "source": [
        "## Loss and metrics"
      ]
    },
    {
      "cell_type": "markdown",
      "metadata": {
        "id": "oxGJtoDuYIHL"
      },
      "source": [
        "Since the target sequences are padded, it is important to apply a padding mask when calculating the loss."
      ]
    },
    {
      "cell_type": "code",
      "metadata": {
        "id": "67oqVHiT0Eiu"
      },
      "source": [
        "def loss_function(real, pred):\n",
        "  mask = tf.math.logical_not(tf.math.equal(real, 0))\n",
        "  loss_ = loss_object(real, pred)\n",
        "\n",
        "  mask = tf.cast(mask, dtype=loss_.dtype)\n",
        "  loss_ *= mask\n",
        "  \n",
        "  return tf.reduce_sum(loss_)/tf.reduce_sum(mask)\n",
        "def accuracy_function(real, pred):\n",
        "  accuracies = tf.equal(real, tf.argmax(pred, axis=2))\n",
        "\n",
        "  mask = tf.math.logical_not(tf.math.equal(real, 0))\n",
        "  accuracies = tf.math.logical_and(mask, accuracies)\n",
        "\n",
        "  accuracies = tf.cast(accuracies, dtype=tf.float32)\n",
        "  mask = tf.cast(mask, dtype=tf.float32)\n",
        "  return tf.reduce_sum(accuracies)/tf.reduce_sum(mask)"
      ],
      "execution_count": 42,
      "outputs": []
    },
    {
      "cell_type": "code",
      "metadata": {
        "id": "phlyxMnm-Tpx"
      },
      "source": [
        "loss_object = tf.keras.losses.SparseCategoricalCrossentropy(\n",
        "    from_logits=True, reduction='none')\n",
        "train_loss = tf.keras.metrics.Mean(name='train_loss')\n",
        "train_accuracy = tf.keras.metrics.Mean(\n",
        "    name='train_accuracy')"
      ],
      "execution_count": 43,
      "outputs": []
    },
    {
      "cell_type": "markdown",
      "metadata": {
        "id": "aeHumfr7zmMa"
      },
      "source": [
        "## Training and checkpointing"
      ]
    },
    {
      "cell_type": "code",
      "metadata": {
        "id": "UiysUa--4tOU"
      },
      "source": [
        "transformer = Transformer(num_layers, d_model, num_heads, dff,\n",
        "                          input_vocab_size, target_vocab_size, \n",
        "                          pe_input=input_vocab_size, \n",
        "                          pe_target=target_vocab_size,\n",
        "                          rate=dropout_rate)"
      ],
      "execution_count": 44,
      "outputs": []
    },
    {
      "cell_type": "code",
      "metadata": {
        "id": "ZOJUSB1T8GjM"
      },
      "source": [
        "def create_masks(inp, tar):\n",
        "  # Encoder padding mask\n",
        "  enc_padding_mask = create_padding_mask(inp)\n",
        "  \n",
        "  # Used in the 2nd attention block in the decoder.\n",
        "  # This padding mask is used to mask the encoder outputs.\n",
        "  dec_padding_mask = create_padding_mask(inp)\n",
        "  \n",
        "  # Used in the 1st attention block in the decoder.\n",
        "  # It is used to pad and mask future tokens in the input received by \n",
        "  # the decoder.\n",
        "  look_ahead_mask = create_look_ahead_mask(tf.shape(tar)[1])\n",
        "  dec_target_padding_mask = create_padding_mask(tar)\n",
        "  combined_mask = tf.maximum(dec_target_padding_mask, look_ahead_mask)\n",
        "  \n",
        "  return enc_padding_mask, combined_mask, dec_padding_mask"
      ],
      "execution_count": 45,
      "outputs": []
    },
    {
      "cell_type": "markdown",
      "metadata": {
        "id": "Fzuf06YZp66w"
      },
      "source": [
        "Create the checkpoint path and the checkpoint manager. This will be used to save checkpoints every `n` epochs."
      ]
    },
    {
      "cell_type": "code",
      "metadata": {
        "id": "hNhuYfllndLZ"
      },
      "source": [
        "checkpoint_path = \"/content/drive/MyDrive/VinBigData/checkpoints/train1\"\n",
        "\n",
        "ckpt = tf.train.Checkpoint(transformer=transformer,\n",
        "                           optimizer=optimizer)\n",
        "\n",
        "ckpt_manager = tf.train.CheckpointManager(ckpt, checkpoint_path, max_to_keep=5)\n",
        "\n",
        "# if a checkpoint exists, restore the latest checkpoint.\n",
        "if ckpt_manager.latest_checkpoint:\n",
        "  ckpt.restore(ckpt_manager.latest_checkpoint)\n",
        "  print ('Latest checkpoint restored!!')"
      ],
      "execution_count": 46,
      "outputs": []
    },
    {
      "cell_type": "code",
      "metadata": {
        "id": "LKpoA6q1sJFj"
      },
      "source": [
        "EPOCHS = 0"
      ],
      "execution_count": 47,
      "outputs": []
    },
    {
      "cell_type": "code",
      "metadata": {
        "id": "UWZIMEVZ8eTl"
      },
      "source": [
        "# The @tf.function trace-compiles train_step into a TF graph for faster\n",
        "# execution. The function specializes to the precise shape of the argument\n",
        "# tensors. To avoid re-tracing due to the variable sequence lengths o4/1AY0e-g5NwERYfvXHd5gYJ0PO1FU94gGYrmyMq14BU0Dlvo5oiSqu1suLElor variable\n",
        "# batch sizes (the last batch is smaller), use input_signature to specify\n",
        "# more generic shapes.\n",
        "\n",
        "train_step_signature = [\n",
        "    tf.TensorSpec(shape=(None, None), dtype=tf.int64),\n",
        "    tf.TensorSpec(shape=(None, None), dtype=tf.int64),\n",
        "]\n",
        "\n",
        "# @tf.function(input_signature=train_step_signature)\n",
        "def train_step(inp, tar):\n",
        "  # print('inner train')\n",
        "  tar_inp = tar[:, :-1]\n",
        "  tar_real = tar[:, 1:]\n",
        "  \n",
        "  enc_padding_mask, combined_mask, dec_padding_mask = create_masks(inp, tar_inp)\n",
        "  \n",
        "  with tf.GradientTape() as tape:\n",
        "    # print('---------------------------------')\n",
        "    predictions, _ = transformer(inp, tar_inp, \n",
        "                                 True, \n",
        "                                 enc_padding_mask, \n",
        "                                 combined_mask, \n",
        "                                 dec_padding_mask)\n",
        "    loss = loss_function(tar_real, predictions)\n",
        "\n",
        "  gradients = tape.gradient(loss, transformer.trainable_variables)    \n",
        "  optimizer.apply_gradients(zip(gradients, transformer.trainable_variables))\n",
        "  \n",
        "  train_loss(loss)\n",
        "  train_accuracy(accuracy_function(tar_real, predictions))"
      ],
      "execution_count": 48,
      "outputs": []
    },
    {
      "cell_type": "code",
      "metadata": {
        "id": "H315b1hp8e9D",
        "colab": {
          "base_uri": "https://localhost:8080/"
        },
        "outputId": "bb762245-aa01-48bc-9a0d-ac7a8207d40d"
      },
      "source": [
        "EPOCHS = 2000\n",
        "for epoch in range(EPOCHS):\n",
        "  start = time.time()\n",
        "  \n",
        "  train_loss.reset_states()\n",
        "  train_accuracy.reset_states()\n",
        "  \n",
        "  # inp -> en, tar -> vn\n",
        "  for (batch, (inp, tar)) in enumerate(train_dataset):\n",
        "    train_step(inp, tar)\n",
        "    \n",
        "    if batch % 50 == 0:\n",
        "      print ('Epoch {} Batch {} Loss {:.4f} Accuracy {:.4f}'.format(\n",
        "          epoch + 1, batch, train_loss.result(), train_accuracy.result()))\n",
        "      \n",
        "  if (epoch + 1) % 5 == 0:\n",
        "    ckpt_save_path = ckpt_manager.save()\n",
        "    print ('Saving checkpoint for epoch {} at {}'.format(epoch+1,\n",
        "                                                         ckpt_save_path))\n",
        "    \n",
        "  print ('Epoch {} Loss {:.4f} Accuracy {:.4f}'.format(epoch + 1, \n",
        "                                                train_loss.result(), \n",
        "                                                train_accuracy.result()))\n",
        "\n",
        "  print ('Time taken for 1 epoch: {} secs\\n'.format(time.time() - start))"
      ],
      "execution_count": null,
      "outputs": [
        {
          "output_type": "stream",
          "text": [
            "Epoch 1 Batch 0 Loss 9.1431 Accuracy 0.0000\n",
            "Epoch 1 Loss 9.0765 Accuracy 0.0101\n",
            "Time taken for 1 epoch: 18.40452814102173 secs\n",
            "\n",
            "Epoch 2 Batch 0 Loss 8.9514 Accuracy 0.1180\n",
            "Epoch 2 Loss 8.7923 Accuracy 0.1426\n",
            "Time taken for 1 epoch: 13.794159889221191 secs\n",
            "\n",
            "Epoch 3 Batch 0 Loss 8.6332 Accuracy 0.1461\n",
            "Epoch 3 Loss 8.4711 Accuracy 0.1444\n",
            "Time taken for 1 epoch: 13.949857234954834 secs\n",
            "\n",
            "Epoch 4 Batch 0 Loss 8.2804 Accuracy 0.1430\n",
            "Epoch 4 Loss 8.0625 Accuracy 0.1445\n",
            "Time taken for 1 epoch: 13.927753925323486 secs\n",
            "\n",
            "Epoch 5 Batch 0 Loss 7.8045 Accuracy 0.1405\n",
            "Saving checkpoint for epoch 5 at /content/drive/MyDrive/VinBigData/checkpoints/train1/ckpt-1\n",
            "Epoch 5 Loss 7.5085 Accuracy 0.1444\n",
            "Time taken for 1 epoch: 14.153724670410156 secs\n",
            "\n",
            "Epoch 6 Batch 0 Loss 7.1795 Accuracy 0.1388\n",
            "Epoch 6 Loss 6.8058 Accuracy 0.1445\n",
            "Time taken for 1 epoch: 14.006246566772461 secs\n",
            "\n",
            "Epoch 7 Batch 0 Loss 6.3961 Accuracy 0.1442\n",
            "Epoch 7 Loss 5.9855 Accuracy 0.1514\n",
            "Time taken for 1 epoch: 13.894220352172852 secs\n",
            "\n",
            "Epoch 8 Batch 0 Loss 5.5446 Accuracy 0.1630\n",
            "Epoch 8 Loss 5.1549 Accuracy 0.1650\n",
            "Time taken for 1 epoch: 13.97383427619934 secs\n",
            "\n",
            "Epoch 9 Batch 0 Loss 4.7468 Accuracy 0.1756\n",
            "Epoch 9 Loss 4.4230 Accuracy 0.1777\n",
            "Time taken for 1 epoch: 14.019425630569458 secs\n",
            "\n",
            "Epoch 10 Batch 0 Loss 4.1104 Accuracy 0.1904\n",
            "Saving checkpoint for epoch 10 at /content/drive/MyDrive/VinBigData/checkpoints/train1/ckpt-2\n",
            "Epoch 10 Loss 3.8664 Accuracy 0.1975\n",
            "Time taken for 1 epoch: 14.362096071243286 secs\n",
            "\n",
            "Epoch 11 Batch 0 Loss 3.6460 Accuracy 0.2148\n",
            "Epoch 11 Loss 3.4409 Accuracy 0.2624\n",
            "Time taken for 1 epoch: 13.906708240509033 secs\n",
            "\n",
            "Epoch 12 Batch 0 Loss 3.2308 Accuracy 0.3069\n",
            "Epoch 12 Loss 3.0607 Accuracy 0.3367\n",
            "Time taken for 1 epoch: 13.881892204284668 secs\n",
            "\n",
            "Epoch 13 Batch 0 Loss 2.8715 Accuracy 0.3698\n",
            "Epoch 13 Loss 2.6974 Accuracy 0.3797\n",
            "Time taken for 1 epoch: 13.886498212814331 secs\n",
            "\n",
            "Epoch 14 Batch 0 Loss 2.5198 Accuracy 0.3825\n",
            "Epoch 14 Loss 2.3744 Accuracy 0.4073\n",
            "Time taken for 1 epoch: 14.071186542510986 secs\n",
            "\n",
            "Epoch 15 Batch 0 Loss 2.2492 Accuracy 0.4179\n",
            "Saving checkpoint for epoch 15 at /content/drive/MyDrive/VinBigData/checkpoints/train1/ckpt-3\n",
            "Epoch 15 Loss 2.1238 Accuracy 0.4313\n",
            "Time taken for 1 epoch: 14.055440902709961 secs\n",
            "\n",
            "Epoch 16 Batch 0 Loss 2.0208 Accuracy 0.4435\n",
            "Epoch 16 Loss 1.9529 Accuracy 0.4427\n",
            "Time taken for 1 epoch: 13.918891191482544 secs\n",
            "\n",
            "Epoch 17 Batch 0 Loss 1.9238 Accuracy 0.4479\n",
            "Epoch 17 Loss 1.8335 Accuracy 0.4543\n",
            "Time taken for 1 epoch: 13.963773727416992 secs\n",
            "\n",
            "Epoch 18 Batch 0 Loss 1.7250 Accuracy 0.4855\n",
            "Epoch 18 Loss 1.7473 Accuracy 0.4670\n",
            "Time taken for 1 epoch: 13.763843774795532 secs\n",
            "\n",
            "Epoch 19 Batch 0 Loss 1.7001 Accuracy 0.4782\n",
            "Epoch 19 Loss 1.6813 Accuracy 0.4798\n",
            "Time taken for 1 epoch: 13.881187438964844 secs\n",
            "\n",
            "Epoch 20 Batch 0 Loss 1.6325 Accuracy 0.4921\n",
            "Saving checkpoint for epoch 20 at /content/drive/MyDrive/VinBigData/checkpoints/train1/ckpt-4\n",
            "Epoch 20 Loss 1.6231 Accuracy 0.4920\n",
            "Time taken for 1 epoch: 14.323596715927124 secs\n",
            "\n",
            "Epoch 21 Batch 0 Loss 1.5966 Accuracy 0.4872\n",
            "Epoch 21 Loss 1.5758 Accuracy 0.5032\n",
            "Time taken for 1 epoch: 14.06230354309082 secs\n",
            "\n",
            "Epoch 22 Batch 0 Loss 1.5952 Accuracy 0.4929\n",
            "Epoch 22 Loss 1.5285 Accuracy 0.5161\n",
            "Time taken for 1 epoch: 13.711594343185425 secs\n",
            "\n",
            "Epoch 23 Batch 0 Loss 1.5173 Accuracy 0.5116\n",
            "Epoch 23 Loss 1.4879 Accuracy 0.5274\n",
            "Time taken for 1 epoch: 13.908786296844482 secs\n",
            "\n",
            "Epoch 24 Batch 0 Loss 1.4809 Accuracy 0.5227\n",
            "Epoch 24 Loss 1.4547 Accuracy 0.5360\n",
            "Time taken for 1 epoch: 13.941237688064575 secs\n",
            "\n",
            "Epoch 25 Batch 0 Loss 1.4470 Accuracy 0.5420\n",
            "Saving checkpoint for epoch 25 at /content/drive/MyDrive/VinBigData/checkpoints/train1/ckpt-5\n",
            "Epoch 25 Loss 1.4182 Accuracy 0.5462\n",
            "Time taken for 1 epoch: 14.326165437698364 secs\n",
            "\n",
            "Epoch 26 Batch 0 Loss 1.4065 Accuracy 0.5554\n",
            "Epoch 26 Loss 1.3862 Accuracy 0.5564\n",
            "Time taken for 1 epoch: 13.944384336471558 secs\n",
            "\n",
            "Epoch 27 Batch 0 Loss 1.3287 Accuracy 0.5812\n",
            "Epoch 27 Loss 1.3534 Accuracy 0.5664\n",
            "Time taken for 1 epoch: 13.859133005142212 secs\n",
            "\n",
            "Epoch 28 Batch 0 Loss 1.3127 Accuracy 0.5877\n",
            "Epoch 28 Loss 1.3261 Accuracy 0.5742\n",
            "Time taken for 1 epoch: 13.853686571121216 secs\n",
            "\n",
            "Epoch 29 Batch 0 Loss 1.2805 Accuracy 0.5944\n",
            "Epoch 29 Loss 1.2937 Accuracy 0.5839\n",
            "Time taken for 1 epoch: 13.993417024612427 secs\n",
            "\n",
            "Epoch 30 Batch 0 Loss 1.2837 Accuracy 0.5899\n",
            "Saving checkpoint for epoch 30 at /content/drive/MyDrive/VinBigData/checkpoints/train1/ckpt-6\n",
            "Epoch 30 Loss 1.2669 Accuracy 0.5928\n",
            "Time taken for 1 epoch: 14.125810623168945 secs\n",
            "\n",
            "Epoch 31 Batch 0 Loss 1.1831 Accuracy 0.6169\n",
            "Epoch 31 Loss 1.2392 Accuracy 0.6014\n",
            "Time taken for 1 epoch: 13.905577659606934 secs\n",
            "\n",
            "Epoch 32 Batch 0 Loss 1.2158 Accuracy 0.6144\n",
            "Epoch 32 Loss 1.2185 Accuracy 0.6080\n",
            "Time taken for 1 epoch: 13.859744548797607 secs\n",
            "\n",
            "Epoch 33 Batch 0 Loss 1.1603 Accuracy 0.6335\n",
            "Epoch 33 Loss 1.1901 Accuracy 0.6162\n",
            "Time taken for 1 epoch: 14.116874933242798 secs\n",
            "\n",
            "Epoch 34 Batch 0 Loss 1.2019 Accuracy 0.6085\n",
            "Epoch 34 Loss 1.1704 Accuracy 0.6224\n",
            "Time taken for 1 epoch: 13.91430377960205 secs\n",
            "\n",
            "Epoch 35 Batch 0 Loss 1.1953 Accuracy 0.6172\n",
            "Saving checkpoint for epoch 35 at /content/drive/MyDrive/VinBigData/checkpoints/train1/ckpt-7\n",
            "Epoch 35 Loss 1.1477 Accuracy 0.6295\n",
            "Time taken for 1 epoch: 14.204493045806885 secs\n",
            "\n",
            "Epoch 36 Batch 0 Loss 1.0908 Accuracy 0.6545\n",
            "Epoch 36 Loss 1.1243 Accuracy 0.6359\n",
            "Time taken for 1 epoch: 14.00606918334961 secs\n",
            "\n",
            "Epoch 37 Batch 0 Loss 1.0361 Accuracy 0.6622\n",
            "Epoch 37 Loss 1.1023 Accuracy 0.6432\n",
            "Time taken for 1 epoch: 13.974389791488647 secs\n",
            "\n",
            "Epoch 38 Batch 0 Loss 1.0587 Accuracy 0.6604\n",
            "Epoch 38 Loss 1.0824 Accuracy 0.6497\n",
            "Time taken for 1 epoch: 13.800700426101685 secs\n",
            "\n",
            "Epoch 39 Batch 0 Loss 1.0540 Accuracy 0.6625\n",
            "Epoch 39 Loss 1.0615 Accuracy 0.6563\n",
            "Time taken for 1 epoch: 13.864678859710693 secs\n",
            "\n",
            "Epoch 40 Batch 0 Loss 1.0133 Accuracy 0.6751\n",
            "Saving checkpoint for epoch 40 at /content/drive/MyDrive/VinBigData/checkpoints/train1/ckpt-8\n",
            "Epoch 40 Loss 1.0431 Accuracy 0.6609\n",
            "Time taken for 1 epoch: 14.105645179748535 secs\n",
            "\n",
            "Epoch 41 Batch 0 Loss 1.0307 Accuracy 0.6704\n",
            "Epoch 41 Loss 1.0284 Accuracy 0.6670\n",
            "Time taken for 1 epoch: 14.163119077682495 secs\n",
            "\n",
            "Epoch 42 Batch 0 Loss 0.9867 Accuracy 0.6862\n",
            "Epoch 42 Loss 1.0057 Accuracy 0.6734\n",
            "Time taken for 1 epoch: 13.817511081695557 secs\n",
            "\n",
            "Epoch 43 Batch 0 Loss 0.9510 Accuracy 0.6870\n",
            "Epoch 43 Loss 0.9882 Accuracy 0.6792\n",
            "Time taken for 1 epoch: 13.70974087715149 secs\n",
            "\n",
            "Epoch 44 Batch 0 Loss 0.9190 Accuracy 0.6986\n",
            "Epoch 44 Loss 0.9710 Accuracy 0.6844\n",
            "Time taken for 1 epoch: 13.802669286727905 secs\n",
            "\n",
            "Epoch 45 Batch 0 Loss 0.9721 Accuracy 0.6802\n",
            "Saving checkpoint for epoch 45 at /content/drive/MyDrive/VinBigData/checkpoints/train1/ckpt-9\n",
            "Epoch 45 Loss 0.9541 Accuracy 0.6894\n",
            "Time taken for 1 epoch: 14.049283266067505 secs\n",
            "\n",
            "Epoch 46 Batch 0 Loss 0.9345 Accuracy 0.6906\n",
            "Epoch 46 Loss 0.9402 Accuracy 0.6941\n",
            "Time taken for 1 epoch: 13.868837594985962 secs\n",
            "\n",
            "Epoch 47 Batch 0 Loss 0.8849 Accuracy 0.7243\n",
            "Epoch 47 Loss 0.9195 Accuracy 0.7003\n",
            "Time taken for 1 epoch: 14.142762422561646 secs\n",
            "\n",
            "Epoch 48 Batch 0 Loss 0.9319 Accuracy 0.6905\n",
            "Epoch 48 Loss 0.9068 Accuracy 0.7051\n",
            "Time taken for 1 epoch: 14.229949235916138 secs\n",
            "\n",
            "Epoch 49 Batch 0 Loss 0.8412 Accuracy 0.7269\n",
            "Epoch 49 Loss 0.8890 Accuracy 0.7108\n",
            "Time taken for 1 epoch: 14.111085891723633 secs\n",
            "\n",
            "Epoch 50 Batch 0 Loss 0.9198 Accuracy 0.7010\n",
            "Saving checkpoint for epoch 50 at /content/drive/MyDrive/VinBigData/checkpoints/train1/ckpt-10\n",
            "Epoch 50 Loss 0.8763 Accuracy 0.7145\n",
            "Time taken for 1 epoch: 13.924575805664062 secs\n",
            "\n",
            "Epoch 51 Batch 0 Loss 0.8405 Accuracy 0.7217\n",
            "Epoch 51 Loss 0.8573 Accuracy 0.7201\n",
            "Time taken for 1 epoch: 13.788003206253052 secs\n",
            "\n",
            "Epoch 52 Batch 0 Loss 0.8351 Accuracy 0.7294\n",
            "Epoch 52 Loss 0.8458 Accuracy 0.7234\n",
            "Time taken for 1 epoch: 13.618091583251953 secs\n",
            "\n",
            "Epoch 53 Batch 0 Loss 0.8035 Accuracy 0.7450\n",
            "Epoch 53 Loss 0.8310 Accuracy 0.7281\n",
            "Time taken for 1 epoch: 13.91859745979309 secs\n",
            "\n",
            "Epoch 54 Batch 0 Loss 0.7977 Accuracy 0.7359\n",
            "Epoch 54 Loss 0.8173 Accuracy 0.7320\n",
            "Time taken for 1 epoch: 13.82685375213623 secs\n",
            "\n",
            "Epoch 55 Batch 0 Loss 0.7316 Accuracy 0.7546\n",
            "Saving checkpoint for epoch 55 at /content/drive/MyDrive/VinBigData/checkpoints/train1/ckpt-11\n",
            "Epoch 55 Loss 0.7997 Accuracy 0.7376\n",
            "Time taken for 1 epoch: 14.32207727432251 secs\n",
            "\n",
            "Epoch 56 Batch 0 Loss 0.7754 Accuracy 0.7434\n",
            "Epoch 56 Loss 0.7876 Accuracy 0.7417\n",
            "Time taken for 1 epoch: 13.739268064498901 secs\n",
            "\n",
            "Epoch 57 Batch 0 Loss 0.7772 Accuracy 0.7510\n",
            "Epoch 57 Loss 0.7771 Accuracy 0.7445\n",
            "Time taken for 1 epoch: 13.796618938446045 secs\n",
            "\n",
            "Epoch 58 Batch 0 Loss 0.7146 Accuracy 0.7618\n",
            "Epoch 58 Loss 0.7614 Accuracy 0.7495\n",
            "Time taken for 1 epoch: 13.759052515029907 secs\n",
            "\n",
            "Epoch 59 Batch 0 Loss 0.7269 Accuracy 0.7550\n",
            "Epoch 59 Loss 0.7490 Accuracy 0.7538\n",
            "Time taken for 1 epoch: 13.91236424446106 secs\n",
            "\n",
            "Epoch 60 Batch 0 Loss 0.6847 Accuracy 0.7751\n",
            "Saving checkpoint for epoch 60 at /content/drive/MyDrive/VinBigData/checkpoints/train1/ckpt-12\n",
            "Epoch 60 Loss 0.7374 Accuracy 0.7571\n",
            "Time taken for 1 epoch: 14.068872928619385 secs\n",
            "\n",
            "Epoch 61 Batch 0 Loss 0.7282 Accuracy 0.7592\n",
            "Epoch 61 Loss 0.7202 Accuracy 0.7628\n",
            "Time taken for 1 epoch: 13.990490913391113 secs\n",
            "\n",
            "Epoch 62 Batch 0 Loss 0.6676 Accuracy 0.7816\n",
            "Epoch 62 Loss 0.7030 Accuracy 0.7690\n",
            "Time taken for 1 epoch: 13.87319803237915 secs\n",
            "\n",
            "Epoch 63 Batch 0 Loss 0.6953 Accuracy 0.7809\n",
            "Epoch 63 Loss 0.6986 Accuracy 0.7703\n",
            "Time taken for 1 epoch: 14.051029205322266 secs\n",
            "\n",
            "Epoch 64 Batch 0 Loss 0.5988 Accuracy 0.7992\n",
            "Epoch 64 Loss 0.6888 Accuracy 0.7736\n",
            "Time taken for 1 epoch: 13.89836072921753 secs\n",
            "\n",
            "Epoch 65 Batch 0 Loss 0.6180 Accuracy 0.7911\n",
            "Saving checkpoint for epoch 65 at /content/drive/MyDrive/VinBigData/checkpoints/train1/ckpt-13\n",
            "Epoch 65 Loss 0.6741 Accuracy 0.7772\n",
            "Time taken for 1 epoch: 14.424824953079224 secs\n",
            "\n",
            "Epoch 66 Batch 0 Loss 0.5535 Accuracy 0.8143\n",
            "Epoch 66 Loss 0.6668 Accuracy 0.7794\n",
            "Time taken for 1 epoch: 13.954172372817993 secs\n",
            "\n",
            "Epoch 67 Batch 0 Loss 0.6052 Accuracy 0.7990\n",
            "Epoch 67 Loss 0.6476 Accuracy 0.7848\n",
            "Time taken for 1 epoch: 13.84557032585144 secs\n",
            "\n",
            "Epoch 68 Batch 0 Loss 0.6076 Accuracy 0.7940\n",
            "Epoch 68 Loss 0.6413 Accuracy 0.7880\n",
            "Time taken for 1 epoch: 13.842091083526611 secs\n",
            "\n",
            "Epoch 69 Batch 0 Loss 0.5889 Accuracy 0.8024\n",
            "Epoch 69 Loss 0.6300 Accuracy 0.7902\n",
            "Time taken for 1 epoch: 14.063701868057251 secs\n",
            "\n",
            "Epoch 70 Batch 0 Loss 0.5534 Accuracy 0.8138\n",
            "Saving checkpoint for epoch 70 at /content/drive/MyDrive/VinBigData/checkpoints/train1/ckpt-14\n",
            "Epoch 70 Loss 0.6205 Accuracy 0.7935\n",
            "Time taken for 1 epoch: 14.150049924850464 secs\n",
            "\n",
            "Epoch 71 Batch 0 Loss 0.5667 Accuracy 0.8111\n",
            "Epoch 71 Loss 0.6054 Accuracy 0.7981\n",
            "Time taken for 1 epoch: 13.950756311416626 secs\n",
            "\n",
            "Epoch 72 Batch 0 Loss 0.5228 Accuracy 0.8229\n",
            "Epoch 72 Loss 0.5991 Accuracy 0.7994\n",
            "Time taken for 1 epoch: 13.971660614013672 secs\n",
            "\n",
            "Epoch 73 Batch 0 Loss 0.4587 Accuracy 0.8524\n",
            "Epoch 73 Loss 0.5851 Accuracy 0.8052\n",
            "Time taken for 1 epoch: 13.769481897354126 secs\n",
            "\n",
            "Epoch 74 Batch 0 Loss 0.5420 Accuracy 0.8189\n",
            "Epoch 74 Loss 0.5712 Accuracy 0.8097\n",
            "Time taken for 1 epoch: 13.776898384094238 secs\n",
            "\n",
            "Epoch 75 Batch 0 Loss 0.4686 Accuracy 0.8504\n",
            "Saving checkpoint for epoch 75 at /content/drive/MyDrive/VinBigData/checkpoints/train1/ckpt-15\n",
            "Epoch 75 Loss 0.5677 Accuracy 0.8101\n",
            "Time taken for 1 epoch: 14.090264320373535 secs\n",
            "\n",
            "Epoch 76 Batch 0 Loss 0.5128 Accuracy 0.8235\n",
            "Epoch 76 Loss 0.5572 Accuracy 0.8134\n",
            "Time taken for 1 epoch: 13.743674755096436 secs\n",
            "\n",
            "Epoch 77 Batch 0 Loss 0.4288 Accuracy 0.8625\n",
            "Epoch 77 Loss 0.5484 Accuracy 0.8160\n",
            "Time taken for 1 epoch: 13.875138998031616 secs\n",
            "\n",
            "Epoch 78 Batch 0 Loss 0.5243 Accuracy 0.8253\n",
            "Epoch 78 Loss 0.5388 Accuracy 0.8197\n",
            "Time taken for 1 epoch: 13.952674150466919 secs\n",
            "\n",
            "Epoch 79 Batch 0 Loss 0.4693 Accuracy 0.8395\n",
            "Epoch 79 Loss 0.5301 Accuracy 0.8216\n",
            "Time taken for 1 epoch: 13.899436235427856 secs\n",
            "\n",
            "Epoch 80 Batch 0 Loss 0.4481 Accuracy 0.8489\n",
            "Saving checkpoint for epoch 80 at /content/drive/MyDrive/VinBigData/checkpoints/train1/ckpt-16\n",
            "Epoch 80 Loss 0.5174 Accuracy 0.8253\n",
            "Time taken for 1 epoch: 14.189019441604614 secs\n",
            "\n",
            "Epoch 81 Batch 0 Loss 0.4878 Accuracy 0.8390\n",
            "Epoch 81 Loss 0.5091 Accuracy 0.8286\n",
            "Time taken for 1 epoch: 13.9274263381958 secs\n",
            "\n",
            "Epoch 82 Batch 0 Loss 0.4847 Accuracy 0.8359\n",
            "Epoch 82 Loss 0.5013 Accuracy 0.8312\n",
            "Time taken for 1 epoch: 13.806324243545532 secs\n",
            "\n",
            "Epoch 83 Batch 0 Loss 0.4429 Accuracy 0.8450\n",
            "Epoch 83 Loss 0.4999 Accuracy 0.8308\n",
            "Time taken for 1 epoch: 13.771885395050049 secs\n",
            "\n",
            "Epoch 84 Batch 0 Loss 0.4434 Accuracy 0.8509\n",
            "Epoch 84 Loss 0.4851 Accuracy 0.8350\n",
            "Time taken for 1 epoch: 13.90557312965393 secs\n",
            "\n",
            "Epoch 85 Batch 0 Loss 0.4640 Accuracy 0.8381\n",
            "Saving checkpoint for epoch 85 at /content/drive/MyDrive/VinBigData/checkpoints/train1/ckpt-17\n",
            "Epoch 85 Loss 0.4788 Accuracy 0.8386\n",
            "Time taken for 1 epoch: 13.8590989112854 secs\n",
            "\n",
            "Epoch 86 Batch 0 Loss 0.4109 Accuracy 0.8587\n",
            "Epoch 86 Loss 0.4691 Accuracy 0.8407\n",
            "Time taken for 1 epoch: 13.655472040176392 secs\n",
            "\n",
            "Epoch 87 Batch 0 Loss 0.4138 Accuracy 0.8521\n",
            "Epoch 87 Loss 0.4695 Accuracy 0.8409\n",
            "Time taken for 1 epoch: 13.933777093887329 secs\n",
            "\n",
            "Epoch 88 Batch 0 Loss 0.4174 Accuracy 0.8633\n",
            "Epoch 88 Loss 0.4577 Accuracy 0.8443\n",
            "Time taken for 1 epoch: 13.79243278503418 secs\n",
            "\n",
            "Epoch 89 Batch 0 Loss 0.4155 Accuracy 0.8586\n",
            "Epoch 89 Loss 0.4521 Accuracy 0.8472\n",
            "Time taken for 1 epoch: 13.829112768173218 secs\n",
            "\n",
            "Epoch 90 Batch 0 Loss 0.4308 Accuracy 0.8510\n",
            "Saving checkpoint for epoch 90 at /content/drive/MyDrive/VinBigData/checkpoints/train1/ckpt-18\n",
            "Epoch 90 Loss 0.4469 Accuracy 0.8482\n",
            "Time taken for 1 epoch: 14.075968980789185 secs\n",
            "\n",
            "Epoch 91 Batch 0 Loss 0.3732 Accuracy 0.8787\n",
            "Epoch 91 Loss 0.4367 Accuracy 0.8509\n",
            "Time taken for 1 epoch: 13.879771947860718 secs\n",
            "\n",
            "Epoch 92 Batch 0 Loss 0.3931 Accuracy 0.8702\n",
            "Epoch 92 Loss 0.4338 Accuracy 0.8528\n",
            "Time taken for 1 epoch: 13.788278102874756 secs\n",
            "\n",
            "Epoch 93 Batch 0 Loss 0.3658 Accuracy 0.8767\n",
            "Epoch 93 Loss 0.4216 Accuracy 0.8565\n",
            "Time taken for 1 epoch: 13.786492109298706 secs\n",
            "\n",
            "Epoch 94 Batch 0 Loss 0.3463 Accuracy 0.8858\n",
            "Epoch 94 Loss 0.4266 Accuracy 0.8549\n",
            "Time taken for 1 epoch: 13.77750277519226 secs\n",
            "\n",
            "Epoch 95 Batch 0 Loss 0.3837 Accuracy 0.8678\n",
            "Saving checkpoint for epoch 95 at /content/drive/MyDrive/VinBigData/checkpoints/train1/ckpt-19\n",
            "Epoch 95 Loss 0.4174 Accuracy 0.8570\n",
            "Time taken for 1 epoch: 14.174289226531982 secs\n",
            "\n",
            "Epoch 96 Batch 0 Loss 0.4165 Accuracy 0.8532\n",
            "Epoch 96 Loss 0.4098 Accuracy 0.8593\n",
            "Time taken for 1 epoch: 13.982798099517822 secs\n",
            "\n",
            "Epoch 97 Batch 0 Loss 0.3887 Accuracy 0.8713\n",
            "Epoch 97 Loss 0.4070 Accuracy 0.8611\n",
            "Time taken for 1 epoch: 13.773099184036255 secs\n",
            "\n",
            "Epoch 98 Batch 0 Loss 0.3483 Accuracy 0.8785\n",
            "Epoch 98 Loss 0.3942 Accuracy 0.8646\n",
            "Time taken for 1 epoch: 13.791417837142944 secs\n",
            "\n",
            "Epoch 99 Batch 0 Loss 0.3877 Accuracy 0.8732\n",
            "Epoch 99 Loss 0.3953 Accuracy 0.8641\n",
            "Time taken for 1 epoch: 13.668709754943848 secs\n",
            "\n",
            "Epoch 100 Batch 0 Loss 0.3167 Accuracy 0.8858\n",
            "Saving checkpoint for epoch 100 at /content/drive/MyDrive/VinBigData/checkpoints/train1/ckpt-20\n",
            "Epoch 100 Loss 0.3877 Accuracy 0.8672\n",
            "Time taken for 1 epoch: 14.040534496307373 secs\n",
            "\n",
            "Epoch 101 Batch 0 Loss 0.3271 Accuracy 0.8869\n",
            "Epoch 101 Loss 0.3764 Accuracy 0.8707\n",
            "Time taken for 1 epoch: 13.73763394355774 secs\n",
            "\n",
            "Epoch 102 Batch 0 Loss 0.3476 Accuracy 0.8796\n",
            "Epoch 102 Loss 0.3743 Accuracy 0.8705\n",
            "Time taken for 1 epoch: 13.706395149230957 secs\n",
            "\n",
            "Epoch 103 Batch 0 Loss 0.3290 Accuracy 0.8901\n",
            "Epoch 103 Loss 0.3637 Accuracy 0.8749\n",
            "Time taken for 1 epoch: 13.768386840820312 secs\n",
            "\n",
            "Epoch 104 Batch 0 Loss 0.3563 Accuracy 0.8757\n",
            "Epoch 104 Loss 0.3604 Accuracy 0.8762\n",
            "Time taken for 1 epoch: 13.575267553329468 secs\n",
            "\n",
            "Epoch 105 Batch 0 Loss 0.2972 Accuracy 0.8934\n",
            "Saving checkpoint for epoch 105 at /content/drive/MyDrive/VinBigData/checkpoints/train1/ckpt-21\n",
            "Epoch 105 Loss 0.3520 Accuracy 0.8775\n",
            "Time taken for 1 epoch: 13.949569940567017 secs\n",
            "\n",
            "Epoch 106 Batch 0 Loss 0.3505 Accuracy 0.8793\n",
            "Epoch 106 Loss 0.3459 Accuracy 0.8803\n",
            "Time taken for 1 epoch: 13.73637318611145 secs\n",
            "\n",
            "Epoch 107 Batch 0 Loss 0.3442 Accuracy 0.8760\n",
            "Epoch 107 Loss 0.3381 Accuracy 0.8828\n",
            "Time taken for 1 epoch: 13.588316202163696 secs\n",
            "\n",
            "Epoch 108 Batch 0 Loss 0.3003 Accuracy 0.8973\n",
            "Epoch 108 Loss 0.3296 Accuracy 0.8867\n",
            "Time taken for 1 epoch: 13.741624116897583 secs\n",
            "\n",
            "Epoch 109 Batch 0 Loss 0.2747 Accuracy 0.9033\n",
            "Epoch 109 Loss 0.3231 Accuracy 0.8878\n",
            "Time taken for 1 epoch: 13.761195421218872 secs\n",
            "\n",
            "Epoch 110 Batch 0 Loss 0.2935 Accuracy 0.9002\n",
            "Saving checkpoint for epoch 110 at /content/drive/MyDrive/VinBigData/checkpoints/train1/ckpt-22\n",
            "Epoch 110 Loss 0.3157 Accuracy 0.8916\n",
            "Time taken for 1 epoch: 13.844762086868286 secs\n",
            "\n",
            "Epoch 111 Batch 0 Loss 0.2506 Accuracy 0.9147\n",
            "Epoch 111 Loss 0.3065 Accuracy 0.8938\n",
            "Time taken for 1 epoch: 13.672977447509766 secs\n",
            "\n",
            "Epoch 112 Batch 0 Loss 0.2914 Accuracy 0.9021\n",
            "Epoch 112 Loss 0.2987 Accuracy 0.8967\n",
            "Time taken for 1 epoch: 13.671213388442993 secs\n",
            "\n",
            "Epoch 113 Batch 0 Loss 0.2436 Accuracy 0.9183\n",
            "Epoch 113 Loss 0.2935 Accuracy 0.8976\n",
            "Time taken for 1 epoch: 13.856167793273926 secs\n",
            "\n",
            "Epoch 114 Batch 0 Loss 0.2528 Accuracy 0.9153\n",
            "Epoch 114 Loss 0.2904 Accuracy 0.9000\n",
            "Time taken for 1 epoch: 13.712538003921509 secs\n",
            "\n",
            "Epoch 115 Batch 0 Loss 0.2519 Accuracy 0.9165\n",
            "Saving checkpoint for epoch 115 at /content/drive/MyDrive/VinBigData/checkpoints/train1/ckpt-23\n",
            "Epoch 115 Loss 0.2904 Accuracy 0.8985\n",
            "Time taken for 1 epoch: 14.131843090057373 secs\n",
            "\n",
            "Epoch 116 Batch 0 Loss 0.2624 Accuracy 0.9101\n",
            "Epoch 116 Loss 0.2798 Accuracy 0.9021\n",
            "Time taken for 1 epoch: 13.658782720565796 secs\n",
            "\n",
            "Epoch 117 Batch 0 Loss 0.2288 Accuracy 0.9204\n",
            "Epoch 117 Loss 0.2716 Accuracy 0.9059\n",
            "Time taken for 1 epoch: 13.691318035125732 secs\n",
            "\n",
            "Epoch 118 Batch 0 Loss 0.1928 Accuracy 0.9314\n",
            "Epoch 118 Loss 0.2677 Accuracy 0.9068\n",
            "Time taken for 1 epoch: 13.80315375328064 secs\n",
            "\n",
            "Epoch 119 Batch 0 Loss 0.2441 Accuracy 0.9112\n",
            "Epoch 119 Loss 0.2703 Accuracy 0.9063\n",
            "Time taken for 1 epoch: 13.742625713348389 secs\n",
            "\n",
            "Epoch 120 Batch 0 Loss 0.2673 Accuracy 0.9105\n",
            "Saving checkpoint for epoch 120 at /content/drive/MyDrive/VinBigData/checkpoints/train1/ckpt-24\n",
            "Epoch 120 Loss 0.2582 Accuracy 0.9105\n",
            "Time taken for 1 epoch: 13.928659677505493 secs\n",
            "\n",
            "Epoch 121 Batch 0 Loss 0.2245 Accuracy 0.9163\n",
            "Epoch 121 Loss 0.2562 Accuracy 0.9111\n",
            "Time taken for 1 epoch: 13.93547797203064 secs\n",
            "\n",
            "Epoch 122 Batch 0 Loss 0.2130 Accuracy 0.9259\n",
            "Epoch 122 Loss 0.2517 Accuracy 0.9125\n",
            "Time taken for 1 epoch: 13.918188571929932 secs\n",
            "\n",
            "Epoch 123 Batch 0 Loss 0.2165 Accuracy 0.9210\n",
            "Epoch 123 Loss 0.2459 Accuracy 0.9145\n",
            "Time taken for 1 epoch: 13.806950569152832 secs\n",
            "\n",
            "Epoch 124 Batch 0 Loss 0.1977 Accuracy 0.9312\n",
            "Epoch 124 Loss 0.2376 Accuracy 0.9172\n",
            "Time taken for 1 epoch: 13.736958265304565 secs\n",
            "\n",
            "Epoch 125 Batch 0 Loss 0.2139 Accuracy 0.9234\n",
            "Saving checkpoint for epoch 125 at /content/drive/MyDrive/VinBigData/checkpoints/train1/ckpt-25\n",
            "Epoch 125 Loss 0.2382 Accuracy 0.9165\n",
            "Time taken for 1 epoch: 14.031635761260986 secs\n",
            "\n",
            "Epoch 126 Batch 0 Loss 0.1898 Accuracy 0.9332\n",
            "Epoch 126 Loss 0.2313 Accuracy 0.9192\n",
            "Time taken for 1 epoch: 13.884780645370483 secs\n",
            "\n",
            "Epoch 127 Batch 0 Loss 0.1799 Accuracy 0.9356\n",
            "Epoch 127 Loss 0.2291 Accuracy 0.9197\n",
            "Time taken for 1 epoch: 13.720117568969727 secs\n",
            "\n",
            "Epoch 128 Batch 0 Loss 0.2110 Accuracy 0.9241\n",
            "Epoch 128 Loss 0.2263 Accuracy 0.9211\n",
            "Time taken for 1 epoch: 13.872364044189453 secs\n",
            "\n",
            "Epoch 129 Batch 0 Loss 0.2251 Accuracy 0.9225\n",
            "Epoch 129 Loss 0.2200 Accuracy 0.9231\n",
            "Time taken for 1 epoch: 13.760911703109741 secs\n",
            "\n",
            "Epoch 130 Batch 0 Loss 0.1831 Accuracy 0.9349\n",
            "Saving checkpoint for epoch 130 at /content/drive/MyDrive/VinBigData/checkpoints/train1/ckpt-26\n",
            "Epoch 130 Loss 0.2232 Accuracy 0.9221\n",
            "Time taken for 1 epoch: 13.894368410110474 secs\n",
            "\n",
            "Epoch 131 Batch 0 Loss 0.1838 Accuracy 0.9331\n",
            "Epoch 131 Loss 0.2114 Accuracy 0.9260\n",
            "Time taken for 1 epoch: 13.863612651824951 secs\n",
            "\n",
            "Epoch 132 Batch 0 Loss 0.1784 Accuracy 0.9364\n",
            "Epoch 132 Loss 0.2102 Accuracy 0.9267\n",
            "Time taken for 1 epoch: 13.706779956817627 secs\n",
            "\n",
            "Epoch 133 Batch 0 Loss 0.2057 Accuracy 0.9224\n",
            "Epoch 133 Loss 0.2081 Accuracy 0.9268\n",
            "Time taken for 1 epoch: 13.67613935470581 secs\n",
            "\n",
            "Epoch 134 Batch 0 Loss 0.1699 Accuracy 0.9402\n",
            "Epoch 134 Loss 0.2017 Accuracy 0.9294\n",
            "Time taken for 1 epoch: 13.71966004371643 secs\n",
            "\n",
            "Epoch 135 Batch 0 Loss 0.1821 Accuracy 0.9372\n",
            "Saving checkpoint for epoch 135 at /content/drive/MyDrive/VinBigData/checkpoints/train1/ckpt-27\n",
            "Epoch 135 Loss 0.1967 Accuracy 0.9317\n",
            "Time taken for 1 epoch: 14.214972496032715 secs\n",
            "\n",
            "Epoch 136 Batch 0 Loss 0.1623 Accuracy 0.9447\n",
            "Epoch 136 Loss 0.1994 Accuracy 0.9308\n",
            "Time taken for 1 epoch: 13.72253680229187 secs\n",
            "\n",
            "Epoch 137 Batch 0 Loss 0.1611 Accuracy 0.9425\n",
            "Epoch 137 Loss 0.1926 Accuracy 0.9329\n",
            "Time taken for 1 epoch: 13.756958246231079 secs\n",
            "\n",
            "Epoch 138 Batch 0 Loss 0.1715 Accuracy 0.9420\n",
            "Epoch 138 Loss 0.1854 Accuracy 0.9350\n",
            "Time taken for 1 epoch: 13.7782301902771 secs\n",
            "\n",
            "Epoch 139 Batch 0 Loss 0.1661 Accuracy 0.9429\n",
            "Epoch 139 Loss 0.1892 Accuracy 0.9338\n",
            "Time taken for 1 epoch: 13.775283098220825 secs\n",
            "\n",
            "Epoch 140 Batch 0 Loss 0.1933 Accuracy 0.9326\n",
            "Saving checkpoint for epoch 140 at /content/drive/MyDrive/VinBigData/checkpoints/train1/ckpt-28\n",
            "Epoch 140 Loss 0.1835 Accuracy 0.9361\n",
            "Time taken for 1 epoch: 13.932381629943848 secs\n",
            "\n",
            "Epoch 141 Batch 0 Loss 0.1512 Accuracy 0.9482\n",
            "Epoch 141 Loss 0.1819 Accuracy 0.9364\n",
            "Time taken for 1 epoch: 13.811326026916504 secs\n",
            "\n",
            "Epoch 142 Batch 0 Loss 0.1611 Accuracy 0.9443\n",
            "Epoch 142 Loss 0.1851 Accuracy 0.9364\n",
            "Time taken for 1 epoch: 13.85215449333191 secs\n",
            "\n",
            "Epoch 143 Batch 0 Loss 0.1559 Accuracy 0.9482\n",
            "Epoch 143 Loss 0.1735 Accuracy 0.9398\n",
            "Time taken for 1 epoch: 13.666375160217285 secs\n",
            "\n",
            "Epoch 144 Batch 0 Loss 0.1517 Accuracy 0.9444\n",
            "Epoch 144 Loss 0.1728 Accuracy 0.9399\n",
            "Time taken for 1 epoch: 13.75302767753601 secs\n",
            "\n",
            "Epoch 145 Batch 0 Loss 0.1431 Accuracy 0.9507\n",
            "Saving checkpoint for epoch 145 at /content/drive/MyDrive/VinBigData/checkpoints/train1/ckpt-29\n",
            "Epoch 145 Loss 0.1744 Accuracy 0.9400\n",
            "Time taken for 1 epoch: 14.118305206298828 secs\n",
            "\n",
            "Epoch 146 Batch 0 Loss 0.1345 Accuracy 0.9552\n",
            "Epoch 146 Loss 0.1713 Accuracy 0.9402\n",
            "Time taken for 1 epoch: 13.688033103942871 secs\n",
            "\n",
            "Epoch 147 Batch 0 Loss 0.1347 Accuracy 0.9543\n",
            "Epoch 147 Loss 0.1657 Accuracy 0.9424\n",
            "Time taken for 1 epoch: 13.715110778808594 secs\n",
            "\n",
            "Epoch 148 Batch 0 Loss 0.1522 Accuracy 0.9530\n",
            "Epoch 148 Loss 0.1636 Accuracy 0.9434\n",
            "Time taken for 1 epoch: 13.907888889312744 secs\n",
            "\n",
            "Epoch 149 Batch 0 Loss 0.1606 Accuracy 0.9432\n",
            "Epoch 149 Loss 0.1601 Accuracy 0.9439\n",
            "Time taken for 1 epoch: 13.788703680038452 secs\n",
            "\n",
            "Epoch 150 Batch 0 Loss 0.1351 Accuracy 0.9524\n",
            "Saving checkpoint for epoch 150 at /content/drive/MyDrive/VinBigData/checkpoints/train1/ckpt-30\n",
            "Epoch 150 Loss 0.1616 Accuracy 0.9439\n",
            "Time taken for 1 epoch: 13.906745433807373 secs\n",
            "\n",
            "Epoch 151 Batch 0 Loss 0.1565 Accuracy 0.9442\n",
            "Epoch 151 Loss 0.1617 Accuracy 0.9436\n",
            "Time taken for 1 epoch: 13.71802020072937 secs\n",
            "\n",
            "Epoch 152 Batch 0 Loss 0.1431 Accuracy 0.9508\n",
            "Epoch 152 Loss 0.1543 Accuracy 0.9467\n",
            "Time taken for 1 epoch: 13.675219297409058 secs\n",
            "\n",
            "Epoch 153 Batch 0 Loss 0.1197 Accuracy 0.9608\n",
            "Epoch 153 Loss 0.1522 Accuracy 0.9476\n",
            "Time taken for 1 epoch: 13.794346809387207 secs\n",
            "\n",
            "Epoch 154 Batch 0 Loss 0.1220 Accuracy 0.9569\n",
            "Epoch 154 Loss 0.1511 Accuracy 0.9472\n",
            "Time taken for 1 epoch: 13.895525455474854 secs\n",
            "\n",
            "Epoch 155 Batch 0 Loss 0.1211 Accuracy 0.9592\n",
            "Saving checkpoint for epoch 155 at /content/drive/MyDrive/VinBigData/checkpoints/train1/ckpt-31\n",
            "Epoch 155 Loss 0.1485 Accuracy 0.9491\n",
            "Time taken for 1 epoch: 14.044695377349854 secs\n",
            "\n",
            "Epoch 156 Batch 0 Loss 0.1256 Accuracy 0.9556\n",
            "Epoch 156 Loss 0.1461 Accuracy 0.9487\n",
            "Time taken for 1 epoch: 13.686256647109985 secs\n",
            "\n",
            "Epoch 157 Batch 0 Loss 0.1264 Accuracy 0.9546\n",
            "Epoch 157 Loss 0.1500 Accuracy 0.9481\n",
            "Time taken for 1 epoch: 13.715714693069458 secs\n",
            "\n",
            "Epoch 158 Batch 0 Loss 0.1099 Accuracy 0.9636\n",
            "Epoch 158 Loss 0.1447 Accuracy 0.9500\n",
            "Time taken for 1 epoch: 13.8718421459198 secs\n",
            "\n",
            "Epoch 159 Batch 0 Loss 0.1090 Accuracy 0.9664\n",
            "Epoch 159 Loss 0.1401 Accuracy 0.9514\n",
            "Time taken for 1 epoch: 13.660498857498169 secs\n",
            "\n",
            "Epoch 160 Batch 0 Loss 0.1171 Accuracy 0.9599\n",
            "Saving checkpoint for epoch 160 at /content/drive/MyDrive/VinBigData/checkpoints/train1/ckpt-32\n",
            "Epoch 160 Loss 0.1386 Accuracy 0.9515\n",
            "Time taken for 1 epoch: 13.999205112457275 secs\n",
            "\n",
            "Epoch 161 Batch 0 Loss 0.1095 Accuracy 0.9602\n",
            "Epoch 161 Loss 0.1399 Accuracy 0.9513\n",
            "Time taken for 1 epoch: 13.9919753074646 secs\n",
            "\n",
            "Epoch 162 Batch 0 Loss 0.1207 Accuracy 0.9529\n",
            "Epoch 162 Loss 0.1359 Accuracy 0.9524\n",
            "Time taken for 1 epoch: 13.69450831413269 secs\n",
            "\n",
            "Epoch 163 Batch 0 Loss 0.1089 Accuracy 0.9620\n",
            "Epoch 163 Loss 0.1357 Accuracy 0.9530\n",
            "Time taken for 1 epoch: 13.606705665588379 secs\n",
            "\n",
            "Epoch 164 Batch 0 Loss 0.1148 Accuracy 0.9621\n",
            "Epoch 164 Loss 0.1327 Accuracy 0.9540\n",
            "Time taken for 1 epoch: 13.642455339431763 secs\n",
            "\n",
            "Epoch 165 Batch 0 Loss 0.0988 Accuracy 0.9661\n",
            "Saving checkpoint for epoch 165 at /content/drive/MyDrive/VinBigData/checkpoints/train1/ckpt-33\n",
            "Epoch 165 Loss 0.1288 Accuracy 0.9555\n",
            "Time taken for 1 epoch: 14.006776332855225 secs\n",
            "\n",
            "Epoch 166 Batch 0 Loss 0.1111 Accuracy 0.9601\n",
            "Epoch 166 Loss 0.1328 Accuracy 0.9545\n",
            "Time taken for 1 epoch: 13.599063158035278 secs\n",
            "\n",
            "Epoch 167 Batch 0 Loss 0.1321 Accuracy 0.9555\n",
            "Epoch 167 Loss 0.1316 Accuracy 0.9536\n",
            "Time taken for 1 epoch: 13.89735460281372 secs\n",
            "\n",
            "Epoch 168 Batch 0 Loss 0.1004 Accuracy 0.9641\n",
            "Epoch 168 Loss 0.1265 Accuracy 0.9557\n",
            "Time taken for 1 epoch: 13.676904678344727 secs\n",
            "\n",
            "Epoch 169 Batch 0 Loss 0.0973 Accuracy 0.9657\n",
            "Epoch 169 Loss 0.1256 Accuracy 0.9560\n",
            "Time taken for 1 epoch: 13.91871428489685 secs\n",
            "\n",
            "Epoch 170 Batch 0 Loss 0.1133 Accuracy 0.9632\n",
            "Saving checkpoint for epoch 170 at /content/drive/MyDrive/VinBigData/checkpoints/train1/ckpt-34\n",
            "Epoch 170 Loss 0.1234 Accuracy 0.9576\n",
            "Time taken for 1 epoch: 13.831387519836426 secs\n",
            "\n",
            "Epoch 171 Batch 0 Loss 0.1002 Accuracy 0.9644\n",
            "Epoch 171 Loss 0.1208 Accuracy 0.9582\n",
            "Time taken for 1 epoch: 13.843736171722412 secs\n",
            "\n",
            "Epoch 172 Batch 0 Loss 0.1001 Accuracy 0.9626\n",
            "Epoch 172 Loss 0.1219 Accuracy 0.9571\n",
            "Time taken for 1 epoch: 13.642034769058228 secs\n",
            "\n",
            "Epoch 173 Batch 0 Loss 0.0972 Accuracy 0.9659\n",
            "Epoch 173 Loss 0.1148 Accuracy 0.9606\n",
            "Time taken for 1 epoch: 13.601493835449219 secs\n",
            "\n",
            "Epoch 174 Batch 0 Loss 0.1072 Accuracy 0.9641\n",
            "Epoch 174 Loss 0.1190 Accuracy 0.9589\n",
            "Time taken for 1 epoch: 13.714410305023193 secs\n",
            "\n",
            "Epoch 175 Batch 0 Loss 0.1137 Accuracy 0.9626\n",
            "Saving checkpoint for epoch 175 at /content/drive/MyDrive/VinBigData/checkpoints/train1/ckpt-35\n",
            "Epoch 175 Loss 0.1205 Accuracy 0.9588\n",
            "Time taken for 1 epoch: 13.8687744140625 secs\n",
            "\n",
            "Epoch 176 Batch 0 Loss 0.1157 Accuracy 0.9588\n",
            "Epoch 176 Loss 0.1166 Accuracy 0.9593\n",
            "Time taken for 1 epoch: 13.678508758544922 secs\n",
            "\n",
            "Epoch 177 Batch 0 Loss 0.1044 Accuracy 0.9637\n",
            "Epoch 177 Loss 0.1157 Accuracy 0.9602\n",
            "Time taken for 1 epoch: 13.824216604232788 secs\n",
            "\n",
            "Epoch 178 Batch 0 Loss 0.0975 Accuracy 0.9662\n",
            "Epoch 178 Loss 0.1129 Accuracy 0.9607\n",
            "Time taken for 1 epoch: 13.719630479812622 secs\n",
            "\n",
            "Epoch 179 Batch 0 Loss 0.0998 Accuracy 0.9664\n",
            "Epoch 179 Loss 0.1165 Accuracy 0.9593\n",
            "Time taken for 1 epoch: 13.650668621063232 secs\n",
            "\n",
            "Epoch 180 Batch 0 Loss 0.1143 Accuracy 0.9644\n",
            "Saving checkpoint for epoch 180 at /content/drive/MyDrive/VinBigData/checkpoints/train1/ckpt-36\n",
            "Epoch 180 Loss 0.1137 Accuracy 0.9607\n",
            "Time taken for 1 epoch: 14.064560890197754 secs\n",
            "\n",
            "Epoch 181 Batch 0 Loss 0.0953 Accuracy 0.9653\n",
            "Epoch 181 Loss 0.1096 Accuracy 0.9620\n",
            "Time taken for 1 epoch: 13.972370147705078 secs\n",
            "\n",
            "Epoch 182 Batch 0 Loss 0.0855 Accuracy 0.9712\n",
            "Epoch 182 Loss 0.1079 Accuracy 0.9624\n",
            "Time taken for 1 epoch: 13.626037836074829 secs\n",
            "\n",
            "Epoch 183 Batch 0 Loss 0.1002 Accuracy 0.9668\n",
            "Epoch 183 Loss 0.1103 Accuracy 0.9613\n",
            "Time taken for 1 epoch: 13.77043604850769 secs\n",
            "\n",
            "Epoch 184 Batch 0 Loss 0.0930 Accuracy 0.9668\n",
            "Epoch 184 Loss 0.1100 Accuracy 0.9617\n",
            "Time taken for 1 epoch: 13.66628122329712 secs\n",
            "\n",
            "Epoch 185 Batch 0 Loss 0.0952 Accuracy 0.9655\n",
            "Saving checkpoint for epoch 185 at /content/drive/MyDrive/VinBigData/checkpoints/train1/ckpt-37\n",
            "Epoch 185 Loss 0.1042 Accuracy 0.9638\n",
            "Time taken for 1 epoch: 13.914743423461914 secs\n",
            "\n",
            "Epoch 186 Batch 0 Loss 0.0910 Accuracy 0.9664\n",
            "Epoch 186 Loss 0.1060 Accuracy 0.9627\n",
            "Time taken for 1 epoch: 13.594559669494629 secs\n",
            "\n",
            "Epoch 187 Batch 0 Loss 0.0921 Accuracy 0.9664\n",
            "Epoch 187 Loss 0.1039 Accuracy 0.9641\n",
            "Time taken for 1 epoch: 13.875425100326538 secs\n",
            "\n",
            "Epoch 188 Batch 0 Loss 0.0887 Accuracy 0.9679\n",
            "Epoch 188 Loss 0.1050 Accuracy 0.9632\n",
            "Time taken for 1 epoch: 13.73543930053711 secs\n",
            "\n",
            "Epoch 189 Batch 0 Loss 0.0676 Accuracy 0.9763\n",
            "Epoch 189 Loss 0.1027 Accuracy 0.9646\n",
            "Time taken for 1 epoch: 13.979617595672607 secs\n",
            "\n",
            "Epoch 190 Batch 0 Loss 0.0841 Accuracy 0.9713\n",
            "Saving checkpoint for epoch 190 at /content/drive/MyDrive/VinBigData/checkpoints/train1/ckpt-38\n",
            "Epoch 190 Loss 0.0984 Accuracy 0.9663\n",
            "Time taken for 1 epoch: 14.184059381484985 secs\n",
            "\n",
            "Epoch 191 Batch 0 Loss 0.0853 Accuracy 0.9676\n",
            "Epoch 191 Loss 0.0958 Accuracy 0.9668\n",
            "Time taken for 1 epoch: 13.564894199371338 secs\n",
            "\n",
            "Epoch 192 Batch 0 Loss 0.0863 Accuracy 0.9678\n",
            "Epoch 192 Loss 0.1011 Accuracy 0.9649\n",
            "Time taken for 1 epoch: 13.757873296737671 secs\n",
            "\n",
            "Epoch 193 Batch 0 Loss 0.1071 Accuracy 0.9617\n",
            "Epoch 193 Loss 0.0990 Accuracy 0.9658\n",
            "Time taken for 1 epoch: 13.753590106964111 secs\n",
            "\n",
            "Epoch 194 Batch 0 Loss 0.0757 Accuracy 0.9740\n",
            "Epoch 194 Loss 0.0980 Accuracy 0.9667\n",
            "Time taken for 1 epoch: 13.743731021881104 secs\n",
            "\n",
            "Epoch 195 Batch 0 Loss 0.0809 Accuracy 0.9713\n",
            "Saving checkpoint for epoch 195 at /content/drive/MyDrive/VinBigData/checkpoints/train1/ckpt-39\n",
            "Epoch 195 Loss 0.0966 Accuracy 0.9667\n",
            "Time taken for 1 epoch: 14.116436004638672 secs\n",
            "\n",
            "Epoch 196 Batch 0 Loss 0.0657 Accuracy 0.9753\n",
            "Epoch 196 Loss 0.0943 Accuracy 0.9676\n",
            "Time taken for 1 epoch: 13.725484132766724 secs\n",
            "\n",
            "Epoch 197 Batch 0 Loss 0.0753 Accuracy 0.9750\n",
            "Epoch 197 Loss 0.0944 Accuracy 0.9671\n",
            "Time taken for 1 epoch: 13.667749881744385 secs\n",
            "\n",
            "Epoch 198 Batch 0 Loss 0.0748 Accuracy 0.9765\n",
            "Epoch 198 Loss 0.0931 Accuracy 0.9682\n",
            "Time taken for 1 epoch: 13.503977060317993 secs\n",
            "\n",
            "Epoch 199 Batch 0 Loss 0.0795 Accuracy 0.9696\n",
            "Epoch 199 Loss 0.0904 Accuracy 0.9688\n",
            "Time taken for 1 epoch: 13.740713596343994 secs\n",
            "\n",
            "Epoch 200 Batch 0 Loss 0.0813 Accuracy 0.9764\n",
            "Saving checkpoint for epoch 200 at /content/drive/MyDrive/VinBigData/checkpoints/train1/ckpt-40\n",
            "Epoch 200 Loss 0.0931 Accuracy 0.9677\n",
            "Time taken for 1 epoch: 13.934710025787354 secs\n",
            "\n",
            "Epoch 201 Batch 0 Loss 0.0810 Accuracy 0.9713\n"
          ],
          "name": "stdout"
        }
      ]
    },
    {
      "cell_type": "markdown",
      "metadata": {
        "id": "QfcsSWswSdGV"
      },
      "source": [
        "## Evaluate"
      ]
    },
    {
      "cell_type": "code",
      "metadata": {
        "id": "5buvMlnvyrFm"
      },
      "source": [
        "import time\n",
        "from tqdm import tqdm\n",
        "def evaluate(inp_sentence):\n",
        "  start_token = [tokenizer_en.vocab_size]\n",
        "  end_token = [tokenizer_en.vocab_size + 1]\n",
        "  \n",
        "  # inp sentence is eng, hence adding the start and end token\n",
        "  inp_sentence = start_token + tokenizer_en.encode(inp_sentence) + end_token\n",
        "  encoder_input = tf.expand_dims(inp_sentence, 0)\n",
        "  \n",
        "  # as the target is vn, the first word to the transformer should be the\n",
        "  # english start token.\n",
        "  decoder_input = [tokenizer_vn.vocab_size]\n",
        "  output = tf.expand_dims(decoder_input, 0)\n",
        "  \n",
        "  for i in range(MAX_LENGTH):\n",
        "    enc_padding_mask, combined_mask, dec_padding_mask = create_masks(\n",
        "        encoder_input, output)\n",
        "  \n",
        "    predictions, attention_weights = transformer(encoder_input, \n",
        "                                                 output,\n",
        "                                                 False,\n",
        "                                                 enc_padding_mask,\n",
        "                                                 combined_mask,\n",
        "                                                 dec_padding_mask)\n",
        "    \n",
        "    predictions = predictions[: ,-1:, :]  # (batch_size, 1, vocab_size)\n",
        "\n",
        "    predicted_id = tf.cast(tf.argmax(predictions, axis=-1), tf.int32)\n",
        "    \n",
        "    # return the result if the predicted_id is equal to the end token\n",
        "    if predicted_id == tokenizer_vn.vocab_size+1:\n",
        "      \n",
        "      return tf.squeeze(output, axis=0), attention_weights\n",
        "\n",
        "      \n",
        "    \n",
        "    # concatentate the predicted_id to the output which is given to the decoder\n",
        "    # as its input.\n",
        "    output = tf.concat([output, predicted_id], axis=-1)\n",
        "\n",
        "  return tf.squeeze(output, axis=0), attention_weights"
      ],
      "execution_count": null,
      "outputs": []
    },
    {
      "cell_type": "code",
      "metadata": {
        "id": "lU2_yG_vBGza"
      },
      "source": [
        "def translate(sentence, plot=''):\n",
        "  result, attention_weights = evaluate(sentence)\n",
        "  predicted_sentence = tokenizer_vn.decode([i for i in result \n",
        "                                            if i < tokenizer_vn.vocab_size])  \n",
        "\n",
        "  print('Input: {}'.format(sentence))\n",
        "  print('Predicted translation: {}'.format(predicted_sentence))\n",
        "  \n",
        "  if plot:\n",
        "    plot_attention_weights(attention_weights, sentence, result, plot)"
      ],
      "execution_count": null,
      "outputs": []
    },
    {
      "cell_type": "code",
      "metadata": {
        "id": "q-NvetisO_zp"
      },
      "source": [
        "print(translate('你好！'))"
      ],
      "execution_count": null,
      "outputs": []
    },
    {
      "cell_type": "code",
      "metadata": {
        "id": "-KPmiEdURlkv"
      },
      "source": [
        "print(translate('我爱你')) # anh yêu em"
      ],
      "execution_count": null,
      "outputs": []
    },
    {
      "cell_type": "code",
      "metadata": {
        "id": "RBqE3S9yPapg"
      },
      "source": [
        "print(translate('听说越南的杂技很有意思，我还没看过呢。'))"
      ],
      "execution_count": null,
      "outputs": []
    },
    {
      "cell_type": "code",
      "metadata": {
        "id": "F1JClUjSPynI"
      },
      "source": [
        "print(translate('你来过越南吗？你来越南以后去过什么地方？'))"
      ],
      "execution_count": null,
      "outputs": []
    },
    {
      "cell_type": "code",
      "metadata": {
        "id": "_0mV1V2YQA1b"
      },
      "source": [
        "print(translate('我是越南人')) # tôi là người VN"
      ],
      "execution_count": null,
      "outputs": []
    },
    {
      "cell_type": "code",
      "metadata": {
        "id": "YeV9sLi8T2Qy"
      },
      "source": [
        "print(translate('我不是越南人')) # tôi không là người VN"
      ],
      "execution_count": null,
      "outputs": []
    },
    {
      "cell_type": "code",
      "metadata": {
        "id": "PuLevzyESCef"
      },
      "source": [
        "print(translate('他是中国人')) # anh ta là người Trung Quốc"
      ],
      "execution_count": null,
      "outputs": []
    },
    {
      "cell_type": "code",
      "metadata": {
        "id": "EMPoGxdQQKiS"
      },
      "source": [
        "print(translate('越南北部的中国')) # Trung Quốc ở phía bắc Việt Nam"
      ],
      "execution_count": null,
      "outputs": []
    },
    {
      "cell_type": "code",
      "metadata": {
        "id": "9zbGb506PIN9"
      },
      "source": [
        "print(translate('明天我哥哥很忙。'))"
      ],
      "execution_count": null,
      "outputs": []
    },
    {
      "cell_type": "code",
      "metadata": {
        "id": "YsxrAlvFG8SZ"
      },
      "source": [
        "print(translate('那是英文杂志。'))"
      ],
      "execution_count": null,
      "outputs": []
    },
    {
      "cell_type": "code",
      "metadata": {
        "id": "t7x7m65BOcMX"
      },
      "source": [
        "print(translate('明天下了课我就去办公室找她。'))"
      ],
      "execution_count": null,
      "outputs": []
    },
    {
      "cell_type": "code",
      "metadata": {
        "id": "0JQrqaPZO40H"
      },
      "source": [
        "print(translate('真正的失败从来都不是结果的不仅如人意，而是拥有的时候随意挥霍，和未曾用心尝试前的轻言放弃。'))"
      ],
      "execution_count": null,
      "outputs": []
    },
    {
      "cell_type": "code",
      "metadata": {
        "id": "pQ7zPBmBOQOS"
      },
      "source": [
        "print(translate('你的名字写下来不过几厘米长，却贯穿了我这么长时光。其实你不知道，你一直是我的梦想。'))\r\n"
      ],
      "execution_count": null,
      "outputs": []
    }
  ]
}