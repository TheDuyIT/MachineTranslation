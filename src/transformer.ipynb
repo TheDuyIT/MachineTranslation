{
  "nbformat": 4,
  "nbformat_minor": 0,
  "metadata": {
    "accelerator": "GPU",
    "colab": {
      "name": "chinhsua.ipynb",
      "provenance": [],
      "collapsed_sections": [],
      "include_colab_link": true
    },
    "kernelspec": {
      "display_name": "Python 3",
      "language": "python",
      "name": "python3"
    },
    "language_info": {
      "codemirror_mode": {
        "name": "ipython",
        "version": 3
      },
      "file_extension": ".py",
      "mimetype": "text/x-python",
      "name": "python",
      "nbconvert_exporter": "python",
      "pygments_lexer": "ipython3",
      "version": "3.8.3"
    }
  },
  "cells": [
    {
      "cell_type": "markdown",
      "metadata": {
        "id": "view-in-github",
        "colab_type": "text"
      },
      "source": [
        "<a href=\"https://colab.research.google.com/github/TheDuyIT/MachineTranslation/blob/master/src/transformer.ipynb\" target=\"_parent\"><img src=\"https://colab.research.google.com/assets/colab-badge.svg\" alt=\"Open In Colab\"/></a>"
      ]
    },
    {
      "cell_type": "code",
      "metadata": {
        "id": "XFG0NDRu5mYQ"
      },
      "source": [
        "!pip install -q tfds-nightly\r\n",
        "# !pip install tensorflow-gpu"
      ],
      "execution_count": 251,
      "outputs": []
    },
    {
      "cell_type": "code",
      "metadata": {
        "colab": {
          "base_uri": "https://localhost:8080/"
        },
        "id": "kEATbN5DAYDT",
        "outputId": "27cd3b7b-925e-41f7-b67a-afca3eaaf483"
      },
      "source": [
        "!npx degit TheDuyIT/MachineTranslation -f"
      ],
      "execution_count": 252,
      "outputs": [
        {
          "output_type": "stream",
          "text": [
            "\u001b[K\u001b[?25hnpx: installed 1 in 0.786s\n",
            "\u001b[36m> destination directory is not empty. Using --force, continuing\u001b[39m\n",
            "\u001b[36m> cloned \u001b[1mTheDuyIT/MachineTranslation\u001b[22m#\u001b[1mmaster\u001b[22m\u001b[39m\n"
          ],
          "name": "stdout"
        }
      ]
    },
    {
      "cell_type": "code",
      "metadata": {
        "id": "kB9BXDZLyrMG"
      },
      "source": [
        "# from google.colab import drive\n",
        "# drive.mount('/content/drive')"
      ],
      "execution_count": 253,
      "outputs": []
    },
    {
      "cell_type": "code",
      "metadata": {
        "id": "JjJJyJTZYebt"
      },
      "source": [
        "import tensorflow_datasets as tfds\n",
        "import tensorflow as tf\n",
        "import unicodedata\n",
        "import time\n",
        "import re\n",
        "import numpy as np\n",
        "import matplotlib.pyplot as plt\n",
        "from src.process_data import DataFormatter, DataLoader"
      ],
      "execution_count": 254,
      "outputs": []
    },
    {
      "cell_type": "markdown",
      "metadata": {
        "id": "fd1NWMxjfsDd"
      },
      "source": [
        "## Setup input pipeline"
      ]
    },
    {
      "cell_type": "code",
      "metadata": {
        "id": "v2MJM8-jV6IA"
      },
      "source": [
        "loader = DataLoader()"
      ],
      "execution_count": 255,
      "outputs": []
    },
    {
      "cell_type": "code",
      "metadata": {
        "id": "ZpF0MBnRaq2o"
      },
      "source": [
        "content_en = loader.np_load('lst_cn_all_except_1001')\n",
        "content_vn = loader.np_load('lst_vi_all_except_1001')\n",
        "content_en = loader.np_load('lst_cn')\n",
        "content_vn = loader.np_load('lst_vi')\n",
        "def preproces_cn(s):\n",
        "  return re.sub('\\s+', ' ', ' '.join(s))\n",
        "for i in range(len(content_vn)):\n",
        "  content_vn[i] = content_vn[i].lower()\n",
        "  # content_en.append(i['en'].lower())\n",
        "  # content_vn.append(i['vn'].lower())\n",
        "for i in range(len(content_en)):\n",
        "  content_en[i] = preproces_cn(content_en[i])\n",
        "# content_en"
      ],
      "execution_count": 332,
      "outputs": []
    },
    {
      "cell_type": "code",
      "metadata": {
        "colab": {
          "base_uri": "https://localhost:8080/"
        },
        "id": "VP0PoNkyDIHp",
        "outputId": "6ae7c7d9-5514-420e-90fe-eab00b760138"
      },
      "source": [
        "print(len(content_en))\r\n",
        "print(len(content_vn))"
      ],
      "execution_count": 257,
      "outputs": [
        {
          "output_type": "stream",
          "text": [
            "3187\n",
            "3187\n"
          ],
          "name": "stdout"
        }
      ]
    },
    {
      "cell_type": "code",
      "metadata": {
        "id": "P1guLOWvfLoC"
      },
      "source": [
        "a = tf.data.Dataset.from_tensor_slices(content_en)  # ==> [ 1, 2, 3 ]\n",
        "b = tf.data.Dataset.from_tensor_slices(content_vn)  # ==> [ 4, 5, 6 ]\n",
        "\n",
        "full_dataset = tf.data.Dataset.zip((a, b))"
      ],
      "execution_count": 258,
      "outputs": []
    },
    {
      "cell_type": "code",
      "metadata": {
        "id": "RTGUJVei9wjc"
      },
      "source": [
        "train_size = int(0.8*0.9*len(full_dataset)) + 2\n",
        "val_size = int(0.8*0.1*len(full_dataset))\n",
        "test_size = int(0.2*len(full_dataset))"
      ],
      "execution_count": 259,
      "outputs": []
    },
    {
      "cell_type": "code",
      "metadata": {
        "id": "g6Z3HImR9a-M"
      },
      "source": [
        "full_dataset = full_dataset.shuffle(buffer_size = 1000)\n",
        "train_examples = full_dataset\n",
        "test_dataset = full_dataset\n",
        "val_dataset = full_dataset\n",
        "# train_examples = full_dataset.take(train_size)\n",
        "# test_dataset = full_dataset.skip(train_size)\n",
        "# val_dataset = test_dataset.skip(val_size)\n",
        "# test_dataset = test_dataset.take(test_size)"
      ],
      "execution_count": 260,
      "outputs": []
    },
    {
      "cell_type": "code",
      "metadata": {
        "id": "KVBg5Q8tBk5z"
      },
      "source": [
        "# tokenizer_vn = tfds.deprecated.text.SubwordTextEncoder.load_from_file('tokenizer_en')\n",
        "# tokenizer_en = tfds.deprecated.text.SubwordTextEncoder.load_from_file('tokenizer_vn')\n",
        "tokenizer_en = tfds.deprecated.text.SubwordTextEncoder.build_from_corpus(\n",
        "    (en.numpy() for en, _ in train_examples), target_vocab_size=2**13)\n",
        "\n",
        "tokenizer_vn = tfds.deprecated.text.SubwordTextEncoder.build_from_corpus(\n",
        "    (vn.numpy() for _, vn in train_examples), target_vocab_size=2**13)"
      ],
      "execution_count": 261,
      "outputs": []
    },
    {
      "cell_type": "code",
      "metadata": {
        "id": "uH_zOTI_3jg-"
      },
      "source": [
        "# for i in range(tokenizer_en.vocab_size):\r\n",
        "#   print(f'{i} ----> {tokenizer_en.decode([i])}')"
      ],
      "execution_count": 262,
      "outputs": []
    },
    {
      "cell_type": "code",
      "metadata": {
        "id": "-9ddMZP5z3tp"
      },
      "source": [
        "# tokenizer_en.save_to_file('/content/drive/MyDrive/VinBigData/checkpoints/tokenizer_en')\r\n",
        "# tokenizer_vn.save_to_file('/content/drive/MyDrive/VinBigData/checkpoints/tokenizer_vn')"
      ],
      "execution_count": 263,
      "outputs": []
    },
    {
      "cell_type": "code",
      "metadata": {
        "id": "bcRp7VcQ5m6g"
      },
      "source": [
        "BUFFER_SIZE = 2000\n",
        "BATCH_SIZE = 128"
      ],
      "execution_count": 264,
      "outputs": []
    },
    {
      "cell_type": "code",
      "metadata": {
        "id": "UZwnPr4R055s"
      },
      "source": [
        "def encode(lang1, lang2):\n",
        "  lang1 = [tokenizer_en.vocab_size] + tokenizer_en.encode(\n",
        "      lang1.numpy()) + [tokenizer_en.vocab_size+1]\n",
        "\n",
        "  lang2 = [tokenizer_vn.vocab_size] + tokenizer_vn.encode(\n",
        "      lang2.numpy()) + [tokenizer_vn.vocab_size+1]\n",
        "  \n",
        "  return lang1, lang2"
      ],
      "execution_count": 265,
      "outputs": []
    },
    {
      "cell_type": "code",
      "metadata": {
        "id": "Mah1cS-P70Iz"
      },
      "source": [
        "def tf_encode(en, vn):\n",
        "  result_en, result_vn = tf.py_function(encode, [en, vn], [tf.int64, tf.int64])\n",
        "  result_en.set_shape([None])\n",
        "  result_vn.set_shape([None])\n",
        "\n",
        "  return result_en, result_vn"
      ],
      "execution_count": 266,
      "outputs": []
    },
    {
      "cell_type": "code",
      "metadata": {
        "id": "2QEgbjntk6Yf"
      },
      "source": [
        "MAX_LENGTH = 190\n"
      ],
      "execution_count": 267,
      "outputs": []
    },
    {
      "cell_type": "code",
      "metadata": {
        "id": "c081xPGv1CPI"
      },
      "source": [
        "def filter_max_length(x, y, max_length=MAX_LENGTH):\n",
        "  return tf.logical_and(tf.size(x) <= max_length,\n",
        "                        tf.size(y) <= max_length)"
      ],
      "execution_count": 268,
      "outputs": []
    },
    {
      "cell_type": "code",
      "metadata": {
        "id": "JKIPFkLr-Qsz"
      },
      "source": [
        "train_dataset = train_examples.map(tf_encode)\n",
        "train_dataset = train_dataset.filter(filter_max_length)\n",
        "# cache the dataset to memory to get a speedup while reading from it.\n",
        "train_dataset = train_dataset.cache()\n",
        "train_dataset = train_dataset.shuffle(BUFFER_SIZE).padded_batch(BATCH_SIZE)\n",
        "train_dataset = train_dataset.prefetch(tf.data.experimental.AUTOTUNE)\n",
        "\n",
        "\n",
        "val_dataset = val_dataset.map(tf_encode)\n",
        "val_dataset = val_dataset.filter(filter_max_length).padded_batch(BATCH_SIZE)\n",
        "\n",
        "test_dataset = test_dataset.map(tf_encode)\n",
        "test_dataset = test_dataset.filter(filter_max_length).padded_batch(BATCH_SIZE)"
      ],
      "execution_count": 269,
      "outputs": []
    },
    {
      "cell_type": "markdown",
      "metadata": {
        "id": "nBQuibYA4n0n"
      },
      "source": [
        "## Positional encoding\n",
        "\n",
        "Since this model doesn't contain any recurrence or convolution, positional encoding is added to give the model some information about the relative position of the words in the sentence. \n",
        "\n",
        "The positional encoding vector is added to the embedding vector. Embeddings represent a token in a d-dimensional space where tokens with similar meaning will be closer to each other. But the embeddings do not encode the relative position of words in a sentence. So after adding the positional encoding, words will be closer to each other based on the *similarity of their meaning and their position in the sentence*, in the d-dimensional space.\n",
        "\n",
        "See the notebook on [positional encoding](https://github.com/tensorflow/examples/blob/master/community/en/position_encoding.ipynb) to learn more about it. The formula for calculating the positional encoding is as follows:\n",
        "\n",
        "$$\\Large{PE_{(pos, 2i)} = sin(pos / 10000^{2i / d_{model}})} $$\n",
        "$$\\Large{PE_{(pos, 2i+1)} = cos(pos / 10000^{2i / d_{model}})} $$"
      ]
    },
    {
      "cell_type": "code",
      "metadata": {
        "id": "WhIOZjMNKujn"
      },
      "source": [
        "def get_angles(pos, i, d_model):\n",
        "  angle_rates = 1 / np.power(10000, (2 * (i//2)) / np.float32(d_model))\n",
        "  return pos * angle_rates"
      ],
      "execution_count": 270,
      "outputs": []
    },
    {
      "cell_type": "code",
      "metadata": {
        "id": "1Rz82wEs5biZ"
      },
      "source": [
        "def positional_encoding(position, d_model):\n",
        "  angle_rads = get_angles(np.arange(position)[:, np.newaxis],\n",
        "                          np.arange(d_model)[np.newaxis, :],\n",
        "                          d_model)\n",
        "  \n",
        "  # apply sin to even indices in the array; 2i\n",
        "  angle_rads[:, 0::2] = np.sin(angle_rads[:, 0::2])\n",
        "  \n",
        "  # apply cos to odd indices in the array; 2i+1\n",
        "  angle_rads[:, 1::2] = np.cos(angle_rads[:, 1::2])\n",
        "    \n",
        "  pos_encoding = angle_rads[np.newaxis, ...]\n",
        "    \n",
        "  return tf.cast(pos_encoding, dtype=tf.float32)"
      ],
      "execution_count": 271,
      "outputs": []
    },
    {
      "cell_type": "code",
      "metadata": {
        "id": "1kLCla68EloE",
        "colab": {
          "base_uri": "https://localhost:8080/",
          "height": 301
        },
        "outputId": "7b48f0ed-b18e-4da4-b7e2-e41a403cedf5"
      },
      "source": [
        "pos_encoding = positional_encoding(50, 512)\n",
        "print (pos_encoding.shape)\n",
        "\n",
        "plt.pcolormesh(pos_encoding[0], cmap='RdBu')\n",
        "plt.xlabel('Depth')\n",
        "plt.xlim((0, 512))\n",
        "plt.ylabel('Position')\n",
        "plt.colorbar()\n",
        "plt.show()"
      ],
      "execution_count": 272,
      "outputs": [
        {
          "output_type": "stream",
          "text": [
            "(1, 50, 512)\n"
          ],
          "name": "stdout"
        },
        {
          "output_type": "display_data",
          "data": {
            "image/png": "[encoded data removed]",
            "text/plain": [
              "<Figure size 432x288 with 2 Axes>"
            ]
          },
          "metadata": {
            "tags": [],
            "needs_background": "light"
          }
        }
      ]
    },
    {
      "cell_type": "markdown",
      "metadata": {
        "id": "a_b4ou4TYqUN"
      },
      "source": [
        "## Masking"
      ]
    },
    {
      "cell_type": "code",
      "metadata": {
        "id": "U2i8-e1s8ti9"
      },
      "source": [
        "def create_padding_mask(seq):\n",
        "  seq = tf.cast(tf.math.equal(seq, 0), tf.float32)\n",
        "  \n",
        "  # add extra dimensions to add the padding\n",
        "  # to the attention logits.\n",
        "  return seq[:, tf.newaxis, tf.newaxis, :]  # (batch_size, 1, 1, seq_len)"
      ],
      "execution_count": 273,
      "outputs": []
    },
    {
      "cell_type": "code",
      "metadata": {
        "id": "dVxS8OPI9uI0"
      },
      "source": [
        "def create_look_ahead_mask(size):\n",
        "  mask = 1 - tf.linalg.band_part(tf.ones((size, size)), -1, 0)\n",
        "  return mask  # (seq_len, seq_len)"
      ],
      "execution_count": 274,
      "outputs": []
    },
    {
      "cell_type": "markdown",
      "metadata": {
        "id": "xluDl5cXYy4y"
      },
      "source": [
        "## Scaled dot product attention"
      ]
    },
    {
      "cell_type": "code",
      "metadata": {
        "id": "LazzUq3bJ5SH"
      },
      "source": [
        "def scaled_dot_product_attention(q, k, v, mask):\n",
        "  \"\"\"Calculate the attention weights.\n",
        "  q, k, v must have matching leading dimensions.\n",
        "  k, v must have matching penultimate dimension, i.e.: seq_len_k = seq_len_v.\n",
        "  The mask has different shapes depending on its type(padding or look ahead) \n",
        "  but it must be broadcastable for addition.\n",
        "  \n",
        "  Args:\n",
        "    q: query shape == (..., seq_len_q, depth)\n",
        "    k: key shape == (..., seq_len_k, depth)\n",
        "    v: value shape == (..., seq_len_v, depth_v)\n",
        "    mask: Float tensor with shape broadcastable \n",
        "          to (..., seq_len_q, seq_len_k). Defaults to None.\n",
        "    \n",
        "  Returns:\n",
        "    output, attention_weights\n",
        "  \"\"\"\n",
        "\n",
        "  matmul_qk = tf.matmul(q, k, transpose_b=True)  # (..., seq_len_q, seq_len_k)\n",
        "  \n",
        "  # scale matmul_qk\n",
        "  dk = tf.cast(tf.shape(k)[-1], tf.float32)\n",
        "  scaled_attention_logits = matmul_qk / tf.math.sqrt(dk)\n",
        "\n",
        "  # add the mask to the scaled tensor.\n",
        "  if mask is not None:\n",
        "    scaled_attention_logits += (mask * -1e9)  \n",
        "\n",
        "  # softmax is normalized on the last axis (seq_len_k) so that the scores\n",
        "  # add up to 1.\n",
        "  attention_weights = tf.nn.softmax(scaled_attention_logits, axis=-1)  # (..., seq_len_q, seq_len_k)\n",
        "\n",
        "  output = tf.matmul(attention_weights, v)  # (..., seq_len_q, depth_v)\n",
        "\n",
        "  return output, attention_weights"
      ],
      "execution_count": 275,
      "outputs": []
    },
    {
      "cell_type": "markdown",
      "metadata": {
        "id": "kmzGPEy64qmA"
      },
      "source": [
        "## Multi-head attention"
      ]
    },
    {
      "cell_type": "code",
      "metadata": {
        "id": "BSV3PPKsYecw"
      },
      "source": [
        "class MultiHeadAttention(tf.keras.layers.Layer):\n",
        "  def __init__(self, d_model, num_heads):\n",
        "    super(MultiHeadAttention, self).__init__()\n",
        "    self.num_heads = num_heads\n",
        "    self.d_model = d_model\n",
        "    \n",
        "    assert d_model % self.num_heads == 0\n",
        "    \n",
        "    self.depth = d_model // self.num_heads\n",
        "    \n",
        "    self.wq = tf.keras.layers.Dense(d_model)\n",
        "    self.wk = tf.keras.layers.Dense(d_model)\n",
        "    self.wv = tf.keras.layers.Dense(d_model)\n",
        "    \n",
        "    self.dense = tf.keras.layers.Dense(d_model)\n",
        "        \n",
        "  def split_heads(self, x, batch_size):\n",
        "    \"\"\"Split the last dimension into (num_heads, depth).\n",
        "    Transpose the result such that the shape is (batch_size, num_heads, seq_len, depth)\n",
        "    \"\"\"\n",
        "    x = tf.reshape(x, (batch_size, -1, self.num_heads, self.depth))\n",
        "    return tf.transpose(x, perm=[0, 2, 1, 3])\n",
        "    \n",
        "  def call(self, v, k, q, mask):\n",
        "    batch_size = tf.shape(q)[0]\n",
        "    \n",
        "    q = self.wq(q)  # (batch_size, seq_len, d_model)\n",
        "    k = self.wk(k)  # (batch_size, seq_len, d_model)\n",
        "    v = self.wv(v)  # (batch_size, seq_len, d_model)\n",
        "    \n",
        "    q = self.split_heads(q, batch_size)  # (batch_size, num_heads, seq_len_q, depth)\n",
        "    k = self.split_heads(k, batch_size)  # (batch_size, num_heads, seq_len_k, depth)\n",
        "    v = self.split_heads(v, batch_size)  # (batch_size, num_heads, seq_len_v, depth)\n",
        "    \n",
        "    # scaled_attention.shape == (batch_size, num_heads, seq_len_q, depth)\n",
        "    # attention_weights.shape == (batch_size, num_heads, seq_len_q, seq_len_k)\n",
        "    scaled_attention, attention_weights = scaled_dot_product_attention(\n",
        "        q, k, v, mask)\n",
        "    \n",
        "    scaled_attention = tf.transpose(scaled_attention, perm=[0, 2, 1, 3])  # (batch_size, seq_len_q, num_heads, depth)\n",
        "\n",
        "    concat_attention = tf.reshape(scaled_attention, \n",
        "                                  (batch_size, -1, self.d_model))  # (batch_size, seq_len_q, d_model)\n",
        "\n",
        "    output = self.dense(concat_attention)  # (batch_size, seq_len_q, d_model)\n",
        "        \n",
        "    return output, attention_weights"
      ],
      "execution_count": 276,
      "outputs": []
    },
    {
      "cell_type": "markdown",
      "metadata": {
        "id": "RdDqGayx67vv"
      },
      "source": [
        "## Point wise feed forward network"
      ]
    },
    {
      "cell_type": "markdown",
      "metadata": {
        "id": "gBqzJXGfHK3X"
      },
      "source": [
        "Point wise feed forward network consists of two fully-connected layers with a ReLU activation in between."
      ]
    },
    {
      "cell_type": "code",
      "metadata": {
        "id": "ET7xLt0yCT6Z"
      },
      "source": [
        "def point_wise_feed_forward_network(d_model, dff):\n",
        "  return tf.keras.Sequential([\n",
        "      tf.keras.layers.Dense(dff, activation='relu'),  # (batch_size, seq_len, dff)\n",
        "      tf.keras.layers.Dense(d_model)  # (batch_size, seq_len, d_model)\n",
        "  ])"
      ],
      "execution_count": 277,
      "outputs": []
    },
    {
      "cell_type": "markdown",
      "metadata": {
        "id": "7e7hKcxn6-zd"
      },
      "source": [
        "## Encoder and decoder"
      ]
    },
    {
      "cell_type": "markdown",
      "metadata": {
        "id": "QFv-FNYUmvpn"
      },
      "source": [
        "### Encoder layer\n",
        "\n",
        "Each encoder layer consists of sublayers:\n",
        "\n",
        "1.   Multi-head attention (with padding mask) \n",
        "2.    Point wise feed forward networks. \n",
        "\n",
        "Each of these sublayers has a residual connection around it followed by a layer normalization. Residual connections help in avoiding the vanishing gradient problem in deep networks.\n",
        "\n",
        "The output of each sublayer is `LayerNorm(x + Sublayer(x))`. The normalization is done on the `d_model` (last) axis. There are N encoder layers in the transformer."
      ]
    },
    {
      "cell_type": "code",
      "metadata": {
        "id": "ncyS-Ms3i2x_"
      },
      "source": [
        "class EncoderLayer(tf.keras.layers.Layer):\n",
        "  def __init__(self, d_model, num_heads, dff, rate=0.1):\n",
        "    super(EncoderLayer, self).__init__()\n",
        "\n",
        "    self.mha = MultiHeadAttention(d_model, num_heads)\n",
        "    self.ffn = point_wise_feed_forward_network(d_model, dff)\n",
        "\n",
        "    self.layernorm1 = tf.keras.layers.LayerNormalization(epsilon=1e-6)\n",
        "    self.layernorm2 = tf.keras.layers.LayerNormalization(epsilon=1e-6)\n",
        "    \n",
        "    self.dropout1 = tf.keras.layers.Dropout(rate)\n",
        "    self.dropout2 = tf.keras.layers.Dropout(rate)\n",
        "    \n",
        "  def call(self, x, training, mask):\n",
        "\n",
        "    attn_output, _ = self.mha(x, x, x, mask)  # (batch_size, input_seq_len, d_model)\n",
        "    attn_output = self.dropout1(attn_output, training=training)\n",
        "    out1 = self.layernorm1(x + attn_output)  # (batch_size, input_seq_len, d_model)\n",
        "    \n",
        "    ffn_output = self.ffn(out1)  # (batch_size, input_seq_len, d_model)\n",
        "    ffn_output = self.dropout2(ffn_output, training=training)\n",
        "    out2 = self.layernorm2(out1 + ffn_output)  # (batch_size, input_seq_len, d_model)\n",
        "    \n",
        "    return out2"
      ],
      "execution_count": 278,
      "outputs": []
    },
    {
      "cell_type": "markdown",
      "metadata": {
        "id": "6LO_48Owmx_o"
      },
      "source": [
        "### Decoder layer\n",
        "\n",
        "Each decoder layer consists of sublayers:\n",
        "\n",
        "1.   Masked multi-head attention (with look ahead mask and padding mask)\n",
        "2.   Multi-head attention (with padding mask). V (value) and K (key) receive the *encoder output* as inputs. Q (query) receives the *output from the masked multi-head attention sublayer.*\n",
        "3.   Point wise feed forward networks\n",
        "\n",
        "Each of these sublayers has a residual connection around it followed by a layer normalization. The output of each sublayer is `LayerNorm(x + Sublayer(x))`. The normalization is done on the `d_model` (last) axis.\n",
        "\n",
        "There are N decoder layers in the transformer.\n",
        "\n",
        "As Q receives the output from decoder's first attention block, and K receives the encoder output, the attention weights represent the importance given to the decoder's input based on the encoder's output. In other words, the decoder predicts the next word by looking at the encoder output and self-attending to its own output. See the demonstration above in the scaled dot product attention section."
      ]
    },
    {
      "cell_type": "code",
      "metadata": {
        "id": "9SoX0-vd1hue"
      },
      "source": [
        "class DecoderLayer(tf.keras.layers.Layer):\n",
        "  def __init__(self, d_model, num_heads, dff, rate=0.1):\n",
        "    super(DecoderLayer, self).__init__()\n",
        "\n",
        "    self.mha1 = MultiHeadAttention(d_model, num_heads)\n",
        "    self.mha2 = MultiHeadAttention(d_model, num_heads)\n",
        "\n",
        "    self.ffn = point_wise_feed_forward_network(d_model, dff)\n",
        " \n",
        "    self.layernorm1 = tf.keras.layers.LayerNormalization(epsilon=1e-6)\n",
        "    self.layernorm2 = tf.keras.layers.LayerNormalization(epsilon=1e-6)\n",
        "    self.layernorm3 = tf.keras.layers.LayerNormalization(epsilon=1e-6)\n",
        "    \n",
        "    self.dropout1 = tf.keras.layers.Dropout(rate)\n",
        "    self.dropout2 = tf.keras.layers.Dropout(rate)\n",
        "    self.dropout3 = tf.keras.layers.Dropout(rate)\n",
        "    \n",
        "    \n",
        "  def call(self, x, enc_output, training, \n",
        "           look_ahead_mask, padding_mask):\n",
        "    # enc_output.shape == (batch_size, input_seq_len, d_model)\n",
        "\n",
        "    attn1, attn_weights_block1 = self.mha1(x, x, x, look_ahead_mask)  # (batch_size, target_seq_len, d_model)\n",
        "    attn1 = self.dropout1(attn1, training=training)\n",
        "    out1 = self.layernorm1(attn1 + x)\n",
        "    \n",
        "    attn2, attn_weights_block2 = self.mha2(\n",
        "        enc_output, enc_output, out1, padding_mask)  # (batch_size, target_seq_len, d_model)\n",
        "    attn2 = self.dropout2(attn2, training=training)\n",
        "    out2 = self.layernorm2(attn2 + out1)  # (batch_size, target_seq_len, d_model)\n",
        "    \n",
        "    ffn_output = self.ffn(out2)  # (batch_size, target_seq_len, d_model)\n",
        "    ffn_output = self.dropout3(ffn_output, training=training)\n",
        "    out3 = self.layernorm3(ffn_output + out2)  # (batch_size, target_seq_len, d_model)\n",
        "    \n",
        "    return out3, attn_weights_block1, attn_weights_block2"
      ],
      "execution_count": 279,
      "outputs": []
    },
    {
      "cell_type": "markdown",
      "metadata": {
        "id": "SE1H51Ajm0q1"
      },
      "source": [
        "### Encoder\n",
        "\n",
        "The `Encoder` consists of:\n",
        "1.   Input Embedding\n",
        "2.   Positional Encoding\n",
        "3.   N encoder layers\n",
        "\n",
        "The input is put through an embedding which is summed with the positional encoding. The output of this summation is the input to the encoder layers. The output of the encoder is the input to the decoder."
      ]
    },
    {
      "cell_type": "code",
      "metadata": {
        "id": "jpEox7gJ8FCI"
      },
      "source": [
        "class Encoder(tf.keras.layers.Layer):\n",
        "  def __init__(self, num_layers, d_model, num_heads, dff, input_vocab_size,\n",
        "               maximum_position_encoding, rate=0.1):\n",
        "    super(Encoder, self).__init__()\n",
        "    self.d_model = d_model\n",
        "    self.num_layers = num_layers\n",
        "    \n",
        "    self.embedding = tf.keras.layers.Embedding(input_vocab_size, d_model)\n",
        "    self.pos_encoding = positional_encoding(maximum_position_encoding, \n",
        "                                            self.d_model)\n",
        "    \n",
        "    \n",
        "    self.enc_layers = [EncoderLayer(d_model, num_heads, dff, rate) \n",
        "                       for _ in range(num_layers)]\n",
        "  \n",
        "    self.dropout = tf.keras.layers.Dropout(rate)\n",
        "        \n",
        "  def call(self, x, training, mask):\n",
        "\n",
        "    seq_len = tf.shape(x)[1]\n",
        "    \n",
        "    # adding embedding and position encoding.\n",
        "    x = self.embedding(x)  # (batch_size, input_seq_len, d_model)\n",
        "    x *= tf.math.sqrt(tf.cast(self.d_model, tf.float32))\n",
        "    x += self.pos_encoding[:, :seq_len, :]\n",
        "\n",
        "    x = self.dropout(x, training=training)\n",
        "    \n",
        "    for i in range(self.num_layers):\n",
        "      x = self.enc_layers[i](x, training, mask)\n",
        "    \n",
        "    return x  # (batch_size, input_seq_len, d_model)"
      ],
      "execution_count": 280,
      "outputs": []
    },
    {
      "cell_type": "markdown",
      "metadata": {
        "id": "p-uO6ls8m2O5"
      },
      "source": [
        "### Decoder"
      ]
    },
    {
      "cell_type": "markdown",
      "metadata": {
        "id": "ZtT7PKzrXkNr"
      },
      "source": [
        " The `Decoder` consists of:\n",
        "1.   Output Embedding\n",
        "2.   Positional Encoding\n",
        "3.   N decoder layers\n",
        "\n",
        "The target is put through an embedding which is summed with the positional encoding. The output of this summation is the input to the decoder layers. The output of the decoder is the input to the final linear layer."
      ]
    },
    {
      "cell_type": "code",
      "metadata": {
        "id": "d5_d5-PLQXwY"
      },
      "source": [
        "class Decoder(tf.keras.layers.Layer):\n",
        "  def __init__(self, num_layers, d_model, num_heads, dff, target_vocab_size,\n",
        "               maximum_position_encoding, rate=0.1):\n",
        "    super(Decoder, self).__init__()\n",
        "\n",
        "    self.d_model = d_model\n",
        "    self.num_layers = num_layers\n",
        "    \n",
        "    self.embedding = tf.keras.layers.Embedding(target_vocab_size, d_model)\n",
        "    self.pos_encoding = positional_encoding(maximum_position_encoding, d_model)\n",
        "    \n",
        "    self.dec_layers = [DecoderLayer(d_model, num_heads, dff, rate) \n",
        "                       for _ in range(num_layers)]\n",
        "    self.dropout = tf.keras.layers.Dropout(rate)\n",
        "    \n",
        "  def call(self, x, enc_output, training, \n",
        "           look_ahead_mask, padding_mask):\n",
        "\n",
        "    seq_len = tf.shape(x)[1]\n",
        "    attention_weights = {}\n",
        "    \n",
        "    x = self.embedding(x)  # (batch_size, target_seq_len, d_model)\n",
        "    x *= tf.math.sqrt(tf.cast(self.d_model, tf.float32))\n",
        "    x += self.pos_encoding[:, :seq_len, :]\n",
        "    \n",
        "    x = self.dropout(x, training=training)\n",
        "\n",
        "    for i in range(self.num_layers):\n",
        "      x, block1, block2 = self.dec_layers[i](x, enc_output, training,\n",
        "                                             look_ahead_mask, padding_mask)\n",
        "      \n",
        "      attention_weights['decoder_layer{}_block1'.format(i+1)] = block1\n",
        "      attention_weights['decoder_layer{}_block2'.format(i+1)] = block2\n",
        "    \n",
        "    # x.shape == (batch_size, target_seq_len, d_model)\n",
        "    return x, attention_weights"
      ],
      "execution_count": 281,
      "outputs": []
    },
    {
      "cell_type": "markdown",
      "metadata": {
        "id": "y54xnJnuYgJ7"
      },
      "source": [
        "## Create the Transformer"
      ]
    },
    {
      "cell_type": "code",
      "metadata": {
        "id": "PED3bIpOYkBu"
      },
      "source": [
        "class Transformer(tf.keras.Model):\n",
        "  def __init__(self, num_layers, d_model, num_heads, dff, input_vocab_size, \n",
        "               target_vocab_size, pe_input, pe_target, rate=0.1):\n",
        "    super(Transformer, self).__init__()\n",
        "    \n",
        "    self.encoder = Encoder(num_layers, d_model, num_heads, dff, \n",
        "                           input_vocab_size, pe_input, rate)\n",
        "\n",
        "    self.decoder = Decoder(num_layers, d_model, num_heads, dff, \n",
        "                           target_vocab_size, pe_target, rate)\n",
        "\n",
        "    self.final_layer = tf.keras.layers.Dense(target_vocab_size)\n",
        "    \n",
        "  def call(self, inp, tar, training, enc_padding_mask, \n",
        "           look_ahead_mask, dec_padding_mask):\n",
        "    \n",
        "    enc_output = self.encoder(inp, training, enc_padding_mask)  # (batch_size, inp_seq_len, d_model)\n",
        "    # dec_output.shape == (batch_size, tar_seq_len, d_model)\n",
        "    dec_output, attention_weights = self.decoder(\n",
        "        tar, enc_output, training, look_ahead_mask, dec_padding_mask)\n",
        "    \n",
        "    final_output = self.final_layer(dec_output)  # (batch_size, tar_seq_len, target_vocab_size)\n",
        "    \n",
        "    return final_output, attention_weights"
      ],
      "execution_count": 282,
      "outputs": []
    },
    {
      "cell_type": "markdown",
      "metadata": {
        "id": "wsINyf1VEQLC"
      },
      "source": [
        "## Set hyperparameters"
      ]
    },
    {
      "cell_type": "code",
      "metadata": {
        "id": "lnJn5SLA2ahP"
      },
      "source": [
        "num_layers = 4\n",
        "d_model = 128\n",
        "dff = 512\n",
        "num_heads = 8\n",
        "\n",
        "input_vocab_size = tokenizer_en.vocab_size + 2\n",
        "target_vocab_size = tokenizer_vn.vocab_size + 2\n",
        "dropout_rate = 0.1"
      ],
      "execution_count": 283,
      "outputs": []
    },
    {
      "cell_type": "markdown",
      "metadata": {
        "id": "xYEGhEOtzn5W"
      },
      "source": [
        "## Optimizer"
      ]
    },
    {
      "cell_type": "markdown",
      "metadata": {
        "id": "GOmWW--yP3zx"
      },
      "source": [
        "Use the Adam optimizer with a custom learning rate scheduler according to the formula in the [paper](https://arxiv.org/abs/1706.03762).\n",
        "\n",
        "$$\\Large{lrate = d_{model}^{-0.5} * min(step{\\_}num^{-0.5}, step{\\_}num * warmup{\\_}steps^{-1.5})}$$\n"
      ]
    },
    {
      "cell_type": "code",
      "metadata": {
        "id": "iYQdOO1axwEI"
      },
      "source": [
        "class CustomSchedule(tf.keras.optimizers.schedules.LearningRateSchedule):\n",
        "  def __init__(self, d_model, warmup_steps=4000):\n",
        "    super(CustomSchedule, self).__init__()\n",
        "    \n",
        "    self.d_model = d_model\n",
        "    self.d_model = tf.cast(self.d_model, tf.float32)\n",
        "\n",
        "    self.warmup_steps = warmup_steps\n",
        "    \n",
        "  def __call__(self, step):\n",
        "    arg1 = tf.math.rsqrt(step)\n",
        "    arg2 = step * (self.warmup_steps ** -1.5)\n",
        "    \n",
        "    return tf.math.rsqrt(self.d_model) * tf.math.minimum(arg1, arg2)"
      ],
      "execution_count": 284,
      "outputs": []
    },
    {
      "cell_type": "code",
      "metadata": {
        "id": "7r4scdulztRx"
      },
      "source": [
        "learning_rate = CustomSchedule(d_model)\n",
        "\n",
        "optimizer = tf.keras.optimizers.Adam(learning_rate, beta_1=0.9, beta_2=0.98, \n",
        "                                     epsilon=1e-9)"
      ],
      "execution_count": 285,
      "outputs": []
    },
    {
      "cell_type": "markdown",
      "metadata": {
        "id": "YgkDE7hzo8r5"
      },
      "source": [
        "## Loss and metrics"
      ]
    },
    {
      "cell_type": "markdown",
      "metadata": {
        "id": "oxGJtoDuYIHL"
      },
      "source": [
        "Since the target sequences are padded, it is important to apply a padding mask when calculating the loss."
      ]
    },
    {
      "cell_type": "code",
      "metadata": {
        "id": "67oqVHiT0Eiu"
      },
      "source": [
        "from nltk.translate.bleu_score import sentence_bleu\n",
        "def loss_function(real, pred):\n",
        "  mask = tf.math.logical_not(tf.math.equal(real, 0))\n",
        "  loss_ = loss_object(real, pred)\n",
        "\n",
        "  mask = tf.cast(mask, dtype=loss_.dtype)\n",
        "  loss_ *= mask\n",
        "  return tf.reduce_sum(loss_)/tf.reduce_sum(mask)\n",
        "def accuracy_function(real, pred):\n",
        "  # print('000000000000000000000000000')\n",
        "  # print(real)\n",
        "  # print('111111111111111111111111111')\n",
        "  # print(pred)\n",
        "  # print('222222222222222222222222222')\n",
        "  # print(tf.argmax(pred, axis=2))\n",
        "  # print('333333333333333333333333333')\n",
        "\n",
        "  accuracies = tf.equal(real, tf.argmax(pred, axis=2))\n",
        "  # print(accuracies)\n",
        "  # print('333333333333333333333333333')\n",
        "  mask = tf.math.logical_not(tf.math.equal(real, 0))\n",
        "  accuracies = tf.math.logical_and(mask, accuracies)\n",
        "\n",
        "  accuracies = tf.cast(accuracies, dtype=tf.float32)\n",
        "  mask = tf.cast(mask, dtype=tf.float32)\n",
        "  return tf.reduce_sum(accuracies)/tf.reduce_sum(mask)\n",
        "# def accuracy_function(real, pred):\n",
        "#   candidate = tf.argmax(pred, axis=2)\n",
        "#   # print(real.)\n",
        "#   print(real.numpy()[0][:-1])\n",
        "#   print(tokenizer_vn.decode(real.numpy()[0][:-1]))\n",
        "#   print(candidate.numpy()[0][:-1])\n",
        "#   print(tokenizer_vn.decode(candidate.numpy()[0][:-1]))\n",
        "#   # print(candidate)\n",
        "#   # score = bleu_score(real, candidate)\n",
        "#   score = 12\n",
        "#   print(score)\n",
        "#   return tf.constant(score)\n",
        "# # bleu_function('real', 'pred')\n"
      ],
      "execution_count": 286,
      "outputs": []
    },
    {
      "cell_type": "code",
      "metadata": {
        "id": "sPfZsplvJ0sG"
      },
      "source": [
        "# dir(tokenizer_vn)"
      ],
      "execution_count": 287,
      "outputs": []
    },
    {
      "cell_type": "code",
      "metadata": {
        "id": "ggV3cc5-LyNX"
      },
      "source": [
        "# for i in content_vn[:12]:\r\n",
        "#   if 'mãnh_' in i:\r\n",
        "#     print(i)  "
      ],
      "execution_count": 288,
      "outputs": []
    },
    {
      "cell_type": "code",
      "metadata": {
        "id": "DIFfKbIEJ8P4"
      },
      "source": [
        "# for i in range(100000):\r\n",
        "#   print(tokenizer_vn._id_to_subword(i).encode('utf-8').decode('utf-8'))"
      ],
      "execution_count": 289,
      "outputs": []
    },
    {
      "cell_type": "code",
      "metadata": {
        "colab": {
          "base_uri": "https://localhost:8080/"
        },
        "id": "uOSeW1vcfTWa",
        "outputId": "3894c2b9-56de-476a-a58d-151145aee3ca"
      },
      "source": [
        "from collections import Counter\r\n",
        "import math\r\n",
        "def n_gram_generator(sentence,n= 2,n_gram= False):\r\n",
        "    '''\r\n",
        "    N-Gram generator with parameters sentence\r\n",
        "    n is for number of n_grams\r\n",
        "    The n_gram parameter removes repeating n_grams \r\n",
        "    '''\r\n",
        "    sentence = sentence.lower() # converting to lower case\r\n",
        "    sent_arr = np.array(sentence.split()) # split to string arrays\r\n",
        "    length = len(sent_arr)\r\n",
        "\r\n",
        "    word_list = []\r\n",
        "    for i in range(length+1):\r\n",
        "        if i < n:\r\n",
        "            continue\r\n",
        "        word_range = list(range(i-n,i))\r\n",
        "        s_list = sent_arr[word_range]\r\n",
        "        string = ' '.join(s_list) # converting list to strings\r\n",
        "        word_list.append(string) # append to word_list\r\n",
        "        if n_gram:\r\n",
        "            word_list = list(set(word_list))\r\n",
        "    return word_list\r\n",
        "def bleu_score(original,machine_translated):\r\n",
        "    '''\r\n",
        "    Bleu score function given a orginal and a machine translated sentences\r\n",
        "    '''\r\n",
        "    mt_length = len(machine_translated.split())\r\n",
        "    o_length = len(original.split())\r\n",
        "\r\n",
        "    # Brevity Penalty \r\n",
        "    if mt_length>o_length:\r\n",
        "        BP=1\r\n",
        "    else:\r\n",
        "        penality=1-(mt_length/o_length)\r\n",
        "        BP=np.exp(penality)\r\n",
        "\r\n",
        "    # Clipped precision\r\n",
        "    clipped_precision_score = []\r\n",
        "    for i in range(1, 5):\r\n",
        "        original_n_gram = Counter(n_gram_generator(original,i))\r\n",
        "        machine_n_gram = Counter(n_gram_generator(machine_translated,i))\r\n",
        "\r\n",
        "        c = sum(machine_n_gram.values())\r\n",
        "        for j in machine_n_gram:\r\n",
        "            if j in original_n_gram:\r\n",
        "                if machine_n_gram[j] > original_n_gram[j]:\r\n",
        "                    machine_n_gram[j] = original_n_gram[j]\r\n",
        "            else:\r\n",
        "                machine_n_gram[j] = 0\r\n",
        "\r\n",
        "        #print (sum(machine_n_gram.values()), c)\r\n",
        "        clipped_precision_score.append(sum(machine_n_gram.values())/c)\r\n",
        "\r\n",
        "    #print (clipped_precision_score)\r\n",
        "\r\n",
        "    weights =[0.25]*4\r\n",
        "\r\n",
        "    s = (w_i * math.log(p_i) for w_i, p_i in zip(weights, clipped_precision_score))\r\n",
        "    s = BP * math.exp(math.fsum(s))\r\n",
        "    return s\r\n",
        "\r\n",
        "original = \"It is a guide to action which ensures that the military alwasy obeys the command of the party\"\r\n",
        "machine_translated = \"It is the guiding principle which guarantees the military forces alwasy being under the command of the party\"\r\n",
        "\r\n",
        "print (bleu_score(original, machine_translated))\r\n",
        "print (sentence_bleu([original.split()], machine_translated.split()))"
      ],
      "execution_count": 290,
      "outputs": [
        {
          "output_type": "stream",
          "text": [
            "0.27098211583470044\n",
            "0.27098211583470044\n"
          ],
          "name": "stdout"
        }
      ]
    },
    {
      "cell_type": "code",
      "metadata": {
        "id": "phlyxMnm-Tpx"
      },
      "source": [
        "loss_object = tf.keras.losses.SparseCategoricalCrossentropy(\n",
        "    from_logits=True, reduction='none')\n",
        "train_loss = tf.keras.metrics.Mean(name='train_loss')\n",
        "train_accuracy = tf.keras.metrics.Mean(\n",
        "    name='train_accuracy')"
      ],
      "execution_count": 291,
      "outputs": []
    },
    {
      "cell_type": "markdown",
      "metadata": {
        "id": "aeHumfr7zmMa"
      },
      "source": [
        "## Training and checkpointing"
      ]
    },
    {
      "cell_type": "code",
      "metadata": {
        "id": "UiysUa--4tOU"
      },
      "source": [
        "transformer = Transformer(num_layers, d_model, num_heads, dff,\n",
        "                          input_vocab_size, target_vocab_size, \n",
        "                          pe_input=input_vocab_size, \n",
        "                          pe_target=target_vocab_size,\n",
        "                          rate=dropout_rate)"
      ],
      "execution_count": 292,
      "outputs": []
    },
    {
      "cell_type": "code",
      "metadata": {
        "id": "ZOJUSB1T8GjM"
      },
      "source": [
        "def create_masks(inp, tar):\n",
        "  # Encoder padding mask\n",
        "  enc_padding_mask = create_padding_mask(inp)\n",
        "  \n",
        "  # Used in the 2nd attention block in the decoder.\n",
        "  # This padding mask is used to mask the encoder outputs.\n",
        "  dec_padding_mask = create_padding_mask(inp)\n",
        "  \n",
        "  # Used in the 1st attention block in the decoder.\n",
        "  # It is used to pad and mask future tokens in the input received by \n",
        "  # the decoder.\n",
        "  look_ahead_mask = create_look_ahead_mask(tf.shape(tar)[1])\n",
        "  dec_target_padding_mask = create_padding_mask(tar)\n",
        "  combined_mask = tf.maximum(dec_target_padding_mask, look_ahead_mask)\n",
        "  \n",
        "  return enc_padding_mask, combined_mask, dec_padding_mask"
      ],
      "execution_count": 293,
      "outputs": []
    },
    {
      "cell_type": "markdown",
      "metadata": {
        "id": "Fzuf06YZp66w"
      },
      "source": [
        "Create the checkpoint path and the checkpoint manager. This will be used to save checkpoints every `n` epochs."
      ]
    },
    {
      "cell_type": "code",
      "metadata": {
        "id": "hNhuYfllndLZ"
      },
      "source": [
        "checkpoint_path = \"/content/drive/MyDrive/VinBigData/checkpoints/train121\"\n",
        "\n",
        "ckpt = tf.train.Checkpoint(transformer=transformer,\n",
        "                           optimizer=optimizer)\n",
        "\n",
        "ckpt_manager = tf.train.CheckpointManager(ckpt, checkpoint_path, max_to_keep=5)\n",
        "\n",
        "# if a checkpoint exists, restore the latest checkpoint.\n",
        "if ckpt_manager.latest_checkpoint:\n",
        "  ckpt.restore(ckpt_manager.latest_checkpoint)\n",
        "  print ('Latest checkpoint restored!!')"
      ],
      "execution_count": 294,
      "outputs": []
    },
    {
      "cell_type": "code",
      "metadata": {
        "id": "LKpoA6q1sJFj"
      },
      "source": [
        "EPOCHS = 0"
      ],
      "execution_count": 295,
      "outputs": []
    },
    {
      "cell_type": "code",
      "metadata": {
        "id": "UWZIMEVZ8eTl"
      },
      "source": [
        "# The @tf.function trace-compiles train_step into a TF graph for faster\n",
        "# execution. The function specializes to the precise shape of the argument\n",
        "# tensors. To avoid re-tracing due to the variable sequence lengths o4/1AY0e-g5NwERYfvXHd5gYJ0PO1FU94gGYrmyMq14BU0Dlvo5oiSqu1suLElor variable\n",
        "# batch sizes (the last batch is smaller), use input_signature to specify\n",
        "# more generic shapes.\n",
        "\n",
        "train_step_signature = [\n",
        "    tf.TensorSpec(shape=(None, None), dtype=tf.int64),\n",
        "    tf.TensorSpec(shape=(None, None), dtype=tf.int64),\n",
        "]\n",
        "\n",
        "# @tf.function(input_signature=train_step_signature)\n",
        "def train_step(inp, tar):\n",
        "  # print('inner train')\n",
        "  tar_inp = tar[:, :-1]\n",
        "  tar_real = tar[:, 1:]\n",
        "  \n",
        "  enc_padding_mask, combined_mask, dec_padding_mask = create_masks(inp, tar_inp)\n",
        "  \n",
        "  with tf.GradientTape() as tape:\n",
        "    # print('---------------------------------')\n",
        "    predictions, _ = transformer(inp, tar_inp, \n",
        "                                 True, \n",
        "                                 enc_padding_mask, \n",
        "                                 combined_mask, \n",
        "                                 dec_padding_mask)\n",
        "    loss = loss_function(tar_real, predictions)\n",
        "  gradients = tape.gradient(loss, transformer.trainable_variables)    \n",
        "  optimizer.apply_gradients(zip(gradients, transformer.trainable_variables))\n",
        "  \n",
        "  train_loss(loss)\n",
        "  # print('--------------------')\n",
        "  # print(accuracy_function(tar_real, predictions))\n",
        "  # print('--------------------')\n",
        "  train_accuracy(accuracy_function(tar_real, predictions))"
      ],
      "execution_count": 296,
      "outputs": []
    },
    {
      "cell_type": "code",
      "metadata": {
        "id": "H315b1hp8e9D",
        "colab": {
          "base_uri": "https://localhost:8080/"
        },
        "outputId": "454c1f15-3653-4332-ef3c-ddb83e130816"
      },
      "source": [
        "EPOCHS = 100\n",
        "for epoch in range(EPOCHS):\n",
        "  start = time.time()\n",
        "  \n",
        "  train_loss.reset_states()\n",
        "  train_accuracy.reset_states()\n",
        "  \n",
        "  # inp -> en, tar -> vn\n",
        "  for (batch, (inp, tar)) in enumerate(train_dataset):\n",
        "    train_step(inp, tar)\n",
        "    \n",
        "    if batch % 50 == 0:\n",
        "      print ('Epoch {} Batch {} Loss {:.4f} Accuracy {:.4f}'.format(\n",
        "          epoch + 1, batch, train_loss.result(), train_accuracy.result()))\n",
        "      \n",
        "  if (epoch + 1) % 5 == 0:\n",
        "    ckpt_save_path = ckpt_manager.save()\n",
        "    print ('Saving checkpoint for epoch {} at {}'.format(epoch+1,\n",
        "                                                         ckpt_save_path))\n",
        "    \n",
        "  print ('Epoch {} Loss {:.4f} Accuracy {:.4f}'.format(epoch + 1, \n",
        "                                                train_loss.result(), \n",
        "                                                train_accuracy.result()))\n",
        "\n",
        "  print ('Time taken for 1 epoch: {} secs\\n'.format(time.time() - start))"
      ],
      "execution_count": 297,
      "outputs": [
        {
          "output_type": "stream",
          "text": [
            "Epoch 1 Batch 0 Loss 7.9538 Accuracy 0.0000\n",
            "Epoch 1 Loss 7.9313 Accuracy 0.0003\n",
            "Time taken for 1 epoch: 12.374330997467041 secs\n",
            "\n",
            "Epoch 2 Batch 0 Loss 7.8744 Accuracy 0.0046\n",
            "Epoch 2 Loss 7.8170 Accuracy 0.0378\n",
            "Time taken for 1 epoch: 10.3084135055542 secs\n",
            "\n",
            "Epoch 3 Batch 0 Loss 7.7608 Accuracy 0.0445\n",
            "Epoch 3 Loss 7.6844 Accuracy 0.0543\n",
            "Time taken for 1 epoch: 10.576817035675049 secs\n",
            "\n",
            "Epoch 4 Batch 0 Loss 7.6444 Accuracy 0.0484\n",
            "Epoch 4 Loss 7.5618 Accuracy 0.0543\n",
            "Time taken for 1 epoch: 10.186123371124268 secs\n",
            "\n",
            "Epoch 5 Batch 0 Loss 7.4992 Accuracy 0.0546\n",
            "Saving checkpoint for epoch 5 at /content/drive/MyDrive/VinBigData/checkpoints/train121/ckpt-1\n",
            "Epoch 5 Loss 7.4337 Accuracy 0.0544\n",
            "Time taken for 1 epoch: 10.738738775253296 secs\n",
            "\n",
            "Epoch 6 Batch 0 Loss 7.3373 Accuracy 0.0579\n",
            "Epoch 6 Loss 7.2858 Accuracy 0.0543\n",
            "Time taken for 1 epoch: 10.485927820205688 secs\n",
            "\n",
            "Epoch 7 Batch 0 Loss 7.2103 Accuracy 0.0552\n",
            "Epoch 7 Loss 7.1167 Accuracy 0.0547\n",
            "Time taken for 1 epoch: 10.722557544708252 secs\n",
            "\n",
            "Epoch 8 Batch 0 Loss 7.0135 Accuracy 0.0544\n",
            "Epoch 8 Loss 6.9286 Accuracy 0.0553\n",
            "Time taken for 1 epoch: 10.639997482299805 secs\n",
            "\n",
            "Epoch 9 Batch 0 Loss 6.8079 Accuracy 0.0564\n",
            "Epoch 9 Loss 6.7244 Accuracy 0.0587\n",
            "Time taken for 1 epoch: 10.501258850097656 secs\n",
            "\n",
            "Epoch 10 Batch 0 Loss 6.6413 Accuracy 0.0549\n",
            "Saving checkpoint for epoch 10 at /content/drive/MyDrive/VinBigData/checkpoints/train121/ckpt-2\n",
            "Epoch 10 Loss 6.5300 Accuracy 0.0738\n",
            "Time taken for 1 epoch: 10.972184896469116 secs\n",
            "\n",
            "Epoch 11 Batch 0 Loss 6.5091 Accuracy 0.0825\n",
            "Epoch 11 Loss 6.3402 Accuracy 0.1103\n",
            "Time taken for 1 epoch: 10.35122275352478 secs\n",
            "\n",
            "Epoch 12 Batch 0 Loss 6.3363 Accuracy 0.1060\n",
            "Epoch 12 Loss 6.1756 Accuracy 0.1282\n",
            "Time taken for 1 epoch: 10.67746639251709 secs\n",
            "\n",
            "Epoch 13 Batch 0 Loss 5.9936 Accuracy 0.1632\n",
            "Epoch 13 Loss 6.0338 Accuracy 0.1405\n",
            "Time taken for 1 epoch: 10.622271060943604 secs\n",
            "\n",
            "Epoch 14 Batch 0 Loss 5.9831 Accuracy 0.1479\n",
            "Epoch 14 Loss 5.9109 Accuracy 0.1483\n",
            "Time taken for 1 epoch: 10.382065773010254 secs\n",
            "\n",
            "Epoch 15 Batch 0 Loss 5.7519 Accuracy 0.1775\n",
            "Saving checkpoint for epoch 15 at /content/drive/MyDrive/VinBigData/checkpoints/train121/ckpt-3\n",
            "Epoch 15 Loss 5.7968 Accuracy 0.1590\n",
            "Time taken for 1 epoch: 10.859923124313354 secs\n",
            "\n",
            "Epoch 16 Batch 0 Loss 5.6435 Accuracy 0.1668\n",
            "Epoch 16 Loss 5.6940 Accuracy 0.1654\n",
            "Time taken for 1 epoch: 10.617838859558105 secs\n",
            "\n",
            "Epoch 17 Batch 0 Loss 5.6191 Accuracy 0.1778\n",
            "Epoch 17 Loss 5.5950 Accuracy 0.1737\n",
            "Time taken for 1 epoch: 10.660927295684814 secs\n",
            "\n",
            "Epoch 18 Batch 0 Loss 5.4536 Accuracy 0.1990\n",
            "Epoch 18 Loss 5.4926 Accuracy 0.1814\n",
            "Time taken for 1 epoch: 10.469894409179688 secs\n",
            "\n",
            "Epoch 19 Batch 0 Loss 5.3175 Accuracy 0.2055\n",
            "Epoch 19 Loss 5.3726 Accuracy 0.1902\n",
            "Time taken for 1 epoch: 10.628889799118042 secs\n",
            "\n",
            "Epoch 20 Batch 0 Loss 5.3994 Accuracy 0.1888\n",
            "Saving checkpoint for epoch 20 at /content/drive/MyDrive/VinBigData/checkpoints/train121/ckpt-4\n",
            "Epoch 20 Loss 5.2616 Accuracy 0.2006\n",
            "Time taken for 1 epoch: 10.800593852996826 secs\n",
            "\n",
            "Epoch 21 Batch 0 Loss 5.3919 Accuracy 0.1840\n",
            "Epoch 21 Loss 5.1350 Accuracy 0.2129\n",
            "Time taken for 1 epoch: 10.556361436843872 secs\n",
            "\n",
            "Epoch 22 Batch 0 Loss 5.2710 Accuracy 0.1877\n",
            "Epoch 22 Loss 5.0196 Accuracy 0.2228\n",
            "Time taken for 1 epoch: 10.581240177154541 secs\n",
            "\n",
            "Epoch 23 Batch 0 Loss 5.0123 Accuracy 0.2276\n",
            "Epoch 23 Loss 4.9081 Accuracy 0.2329\n",
            "Time taken for 1 epoch: 10.341270208358765 secs\n",
            "\n",
            "Epoch 24 Batch 0 Loss 4.9319 Accuracy 0.2246\n",
            "Epoch 24 Loss 4.7931 Accuracy 0.2420\n",
            "Time taken for 1 epoch: 10.688220500946045 secs\n",
            "\n",
            "Epoch 25 Batch 0 Loss 4.8317 Accuracy 0.2385\n",
            "Saving checkpoint for epoch 25 at /content/drive/MyDrive/VinBigData/checkpoints/train121/ckpt-5\n",
            "Epoch 25 Loss 4.6926 Accuracy 0.2514\n",
            "Time taken for 1 epoch: 11.012120962142944 secs\n",
            "\n",
            "Epoch 26 Batch 0 Loss 4.5191 Accuracy 0.2682\n",
            "Epoch 26 Loss 4.5847 Accuracy 0.2590\n",
            "Time taken for 1 epoch: 10.678130388259888 secs\n",
            "\n",
            "Epoch 27 Batch 0 Loss 4.6410 Accuracy 0.2530\n",
            "Epoch 27 Loss 4.4896 Accuracy 0.2686\n",
            "Time taken for 1 epoch: 10.769013404846191 secs\n",
            "\n",
            "Epoch 28 Batch 0 Loss 4.2749 Accuracy 0.2919\n",
            "Epoch 28 Loss 4.3928 Accuracy 0.2764\n",
            "Time taken for 1 epoch: 10.852670907974243 secs\n",
            "\n",
            "Epoch 29 Batch 0 Loss 4.5279 Accuracy 0.2598\n",
            "Epoch 29 Loss 4.2919 Accuracy 0.2879\n",
            "Time taken for 1 epoch: 11.017279386520386 secs\n",
            "\n",
            "Epoch 30 Batch 0 Loss 4.4036 Accuracy 0.2642\n",
            "Saving checkpoint for epoch 30 at /content/drive/MyDrive/VinBigData/checkpoints/train121/ckpt-6\n",
            "Epoch 30 Loss 4.1938 Accuracy 0.2972\n",
            "Time taken for 1 epoch: 10.961847066879272 secs\n",
            "\n",
            "Epoch 31 Batch 0 Loss 4.0790 Accuracy 0.2986\n",
            "Epoch 31 Loss 4.1111 Accuracy 0.3068\n",
            "Time taken for 1 epoch: 10.412956714630127 secs\n",
            "\n",
            "Epoch 32 Batch 0 Loss 4.2329 Accuracy 0.2803\n",
            "Epoch 32 Loss 4.0150 Accuracy 0.3173\n",
            "Time taken for 1 epoch: 10.293681144714355 secs\n",
            "\n",
            "Epoch 33 Batch 0 Loss 4.0245 Accuracy 0.3046\n",
            "Epoch 33 Loss 3.9299 Accuracy 0.3246\n",
            "Time taken for 1 epoch: 10.61413049697876 secs\n",
            "\n",
            "Epoch 34 Batch 0 Loss 4.0422 Accuracy 0.3054\n",
            "Epoch 34 Loss 3.8483 Accuracy 0.3349\n",
            "Time taken for 1 epoch: 10.736675500869751 secs\n",
            "\n",
            "Epoch 35 Batch 0 Loss 3.8173 Accuracy 0.3345\n",
            "Saving checkpoint for epoch 35 at /content/drive/MyDrive/VinBigData/checkpoints/train121/ckpt-7\n",
            "Epoch 35 Loss 3.7704 Accuracy 0.3440\n",
            "Time taken for 1 epoch: 11.18940258026123 secs\n",
            "\n",
            "Epoch 36 Batch 0 Loss 3.8592 Accuracy 0.3307\n",
            "Epoch 36 Loss 3.6816 Accuracy 0.3553\n",
            "Time taken for 1 epoch: 10.631901025772095 secs\n",
            "\n",
            "Epoch 37 Batch 0 Loss 3.7595 Accuracy 0.3343\n",
            "Epoch 37 Loss 3.6007 Accuracy 0.3639\n",
            "Time taken for 1 epoch: 10.606522560119629 secs\n",
            "\n",
            "Epoch 38 Batch 0 Loss 3.6083 Accuracy 0.3644\n",
            "Epoch 38 Loss 3.5210 Accuracy 0.3729\n",
            "Time taken for 1 epoch: 10.572383642196655 secs\n",
            "\n",
            "Epoch 39 Batch 0 Loss 3.5607 Accuracy 0.3708\n",
            "Epoch 39 Loss 3.4528 Accuracy 0.3801\n",
            "Time taken for 1 epoch: 10.752146244049072 secs\n",
            "\n",
            "Epoch 40 Batch 0 Loss 3.5230 Accuracy 0.3736\n",
            "Saving checkpoint for epoch 40 at /content/drive/MyDrive/VinBigData/checkpoints/train121/ckpt-8\n",
            "Epoch 40 Loss 3.3830 Accuracy 0.3878\n",
            "Time taken for 1 epoch: 11.220349073410034 secs\n",
            "\n",
            "Epoch 41 Batch 0 Loss 3.5708 Accuracy 0.3493\n",
            "Epoch 41 Loss 3.2950 Accuracy 0.3984\n",
            "Time taken for 1 epoch: 10.602166891098022 secs\n",
            "\n",
            "Epoch 42 Batch 0 Loss 3.5191 Accuracy 0.3660\n",
            "Epoch 42 Loss 3.2228 Accuracy 0.4089\n",
            "Time taken for 1 epoch: 10.335139513015747 secs\n",
            "\n",
            "Epoch 43 Batch 0 Loss 3.4921 Accuracy 0.3578\n",
            "Epoch 43 Loss 3.1461 Accuracy 0.4171\n",
            "Time taken for 1 epoch: 10.65599274635315 secs\n",
            "\n",
            "Epoch 44 Batch 0 Loss 3.3148 Accuracy 0.3873\n",
            "Epoch 44 Loss 3.0819 Accuracy 0.4223\n",
            "Time taken for 1 epoch: 10.623327493667603 secs\n",
            "\n",
            "Epoch 45 Batch 0 Loss 3.2622 Accuracy 0.3998\n",
            "Saving checkpoint for epoch 45 at /content/drive/MyDrive/VinBigData/checkpoints/train121/ckpt-9\n",
            "Epoch 45 Loss 3.0178 Accuracy 0.4303\n",
            "Time taken for 1 epoch: 10.654874801635742 secs\n",
            "\n",
            "Epoch 46 Batch 0 Loss 2.8463 Accuracy 0.4594\n",
            "Epoch 46 Loss 2.9472 Accuracy 0.4394\n",
            "Time taken for 1 epoch: 10.756263494491577 secs\n",
            "\n",
            "Epoch 47 Batch 0 Loss 2.6463 Accuracy 0.4686\n",
            "Epoch 47 Loss 2.8854 Accuracy 0.4492\n",
            "Time taken for 1 epoch: 10.676257848739624 secs\n",
            "\n",
            "Epoch 48 Batch 0 Loss 2.9436 Accuracy 0.4340\n",
            "Epoch 48 Loss 2.8009 Accuracy 0.4587\n",
            "Time taken for 1 epoch: 10.658923864364624 secs\n",
            "\n",
            "Epoch 49 Batch 0 Loss 2.7979 Accuracy 0.4672\n",
            "Epoch 49 Loss 2.7466 Accuracy 0.4676\n",
            "Time taken for 1 epoch: 10.482728958129883 secs\n",
            "\n",
            "Epoch 50 Batch 0 Loss 2.7300 Accuracy 0.4691\n",
            "Saving checkpoint for epoch 50 at /content/drive/MyDrive/VinBigData/checkpoints/train121/ckpt-10\n",
            "Epoch 50 Loss 2.6809 Accuracy 0.4747\n",
            "Time taken for 1 epoch: 11.01320219039917 secs\n",
            "\n",
            "Epoch 51 Batch 0 Loss 2.5622 Accuracy 0.4836\n",
            "Epoch 51 Loss 2.6157 Accuracy 0.4836\n",
            "Time taken for 1 epoch: 10.636503458023071 secs\n",
            "\n",
            "Epoch 52 Batch 0 Loss 2.5410 Accuracy 0.5008\n",
            "Epoch 52 Loss 2.5411 Accuracy 0.4932\n",
            "Time taken for 1 epoch: 10.575396060943604 secs\n",
            "\n",
            "Epoch 53 Batch 0 Loss 2.5944 Accuracy 0.4813\n",
            "Epoch 53 Loss 2.4731 Accuracy 0.5057\n",
            "Time taken for 1 epoch: 10.542766809463501 secs\n",
            "\n",
            "Epoch 54 Batch 0 Loss 2.2314 Accuracy 0.5599\n",
            "Epoch 54 Loss 2.4095 Accuracy 0.5126\n",
            "Time taken for 1 epoch: 10.644601583480835 secs\n",
            "\n",
            "Epoch 55 Batch 0 Loss 2.4238 Accuracy 0.5081\n",
            "Saving checkpoint for epoch 55 at /content/drive/MyDrive/VinBigData/checkpoints/train121/ckpt-11\n",
            "Epoch 55 Loss 2.3464 Accuracy 0.5221\n",
            "Time taken for 1 epoch: 10.79708981513977 secs\n",
            "\n",
            "Epoch 56 Batch 0 Loss 2.4870 Accuracy 0.5064\n",
            "Epoch 56 Loss 2.2674 Accuracy 0.5353\n",
            "Time taken for 1 epoch: 10.658050298690796 secs\n",
            "\n",
            "Epoch 57 Batch 0 Loss 2.3322 Accuracy 0.5167\n",
            "Epoch 57 Loss 2.2213 Accuracy 0.5413\n",
            "Time taken for 1 epoch: 10.641966104507446 secs\n",
            "\n",
            "Epoch 58 Batch 0 Loss 2.5432 Accuracy 0.5009\n",
            "Epoch 58 Loss 2.1477 Accuracy 0.5536\n",
            "Time taken for 1 epoch: 10.61700963973999 secs\n",
            "\n",
            "Epoch 59 Batch 0 Loss 2.2281 Accuracy 0.5367\n",
            "Epoch 59 Loss 2.0812 Accuracy 0.5653\n",
            "Time taken for 1 epoch: 10.506973266601562 secs\n",
            "\n",
            "Epoch 60 Batch 0 Loss 2.0361 Accuracy 0.5803\n",
            "Saving checkpoint for epoch 60 at /content/drive/MyDrive/VinBigData/checkpoints/train121/ckpt-12\n",
            "Epoch 60 Loss 2.0208 Accuracy 0.5726\n",
            "Time taken for 1 epoch: 11.05151081085205 secs\n",
            "\n",
            "Epoch 61 Batch 0 Loss 2.1921 Accuracy 0.5438\n",
            "Epoch 61 Loss 1.9592 Accuracy 0.5834\n",
            "Time taken for 1 epoch: 10.676825523376465 secs\n",
            "\n",
            "Epoch 62 Batch 0 Loss 2.0237 Accuracy 0.5683\n",
            "Epoch 62 Loss 1.8944 Accuracy 0.5953\n",
            "Time taken for 1 epoch: 10.576432704925537 secs\n",
            "\n",
            "Epoch 63 Batch 0 Loss 2.0187 Accuracy 0.5655\n",
            "Epoch 63 Loss 1.8217 Accuracy 0.6060\n",
            "Time taken for 1 epoch: 10.540387630462646 secs\n",
            "\n",
            "Epoch 64 Batch 0 Loss 1.7160 Accuracy 0.6300\n",
            "Epoch 64 Loss 1.7745 Accuracy 0.6131\n",
            "Time taken for 1 epoch: 10.560116529464722 secs\n",
            "\n",
            "Epoch 65 Batch 0 Loss 1.7314 Accuracy 0.6243\n",
            "Saving checkpoint for epoch 65 at /content/drive/MyDrive/VinBigData/checkpoints/train121/ckpt-13\n",
            "Epoch 65 Loss 1.7112 Accuracy 0.6268\n",
            "Time taken for 1 epoch: 10.809411764144897 secs\n",
            "\n",
            "Epoch 66 Batch 0 Loss 1.7626 Accuracy 0.6063\n",
            "Epoch 66 Loss 1.6383 Accuracy 0.6389\n",
            "Time taken for 1 epoch: 10.609466791152954 secs\n",
            "\n",
            "Epoch 67 Batch 0 Loss 1.3763 Accuracy 0.6870\n",
            "Epoch 67 Loss 1.5858 Accuracy 0.6461\n",
            "Time taken for 1 epoch: 10.502711057662964 secs\n",
            "\n",
            "Epoch 68 Batch 0 Loss 1.4443 Accuracy 0.6842\n",
            "Epoch 68 Loss 1.5339 Accuracy 0.6586\n",
            "Time taken for 1 epoch: 10.700196504592896 secs\n",
            "\n",
            "Epoch 69 Batch 0 Loss 1.5376 Accuracy 0.6543\n",
            "Epoch 69 Loss 1.4789 Accuracy 0.6671\n",
            "Time taken for 1 epoch: 10.680037021636963 secs\n",
            "\n",
            "Epoch 70 Batch 0 Loss 1.5651 Accuracy 0.6538\n",
            "Saving checkpoint for epoch 70 at /content/drive/MyDrive/VinBigData/checkpoints/train121/ckpt-14\n",
            "Epoch 70 Loss 1.4317 Accuracy 0.6743\n",
            "Time taken for 1 epoch: 11.085002660751343 secs\n",
            "\n",
            "Epoch 71 Batch 0 Loss 1.4559 Accuracy 0.6737\n",
            "Epoch 71 Loss 1.3729 Accuracy 0.6864\n",
            "Time taken for 1 epoch: 10.655067682266235 secs\n",
            "\n",
            "Epoch 72 Batch 0 Loss 1.3514 Accuracy 0.6812\n",
            "Epoch 72 Loss 1.3078 Accuracy 0.6973\n",
            "Time taken for 1 epoch: 10.563554286956787 secs\n",
            "\n",
            "Epoch 73 Batch 0 Loss 1.3898 Accuracy 0.7024\n",
            "Epoch 73 Loss 1.2503 Accuracy 0.7121\n",
            "Time taken for 1 epoch: 10.434645652770996 secs\n",
            "\n",
            "Epoch 74 Batch 0 Loss 1.1235 Accuracy 0.7453\n",
            "Epoch 74 Loss 1.2043 Accuracy 0.7204\n",
            "Time taken for 1 epoch: 10.844686269760132 secs\n",
            "\n",
            "Epoch 75 Batch 0 Loss 1.3148 Accuracy 0.6926\n",
            "Saving checkpoint for epoch 75 at /content/drive/MyDrive/VinBigData/checkpoints/train121/ckpt-15\n",
            "Epoch 75 Loss 1.1609 Accuracy 0.7271\n",
            "Time taken for 1 epoch: 10.870618104934692 secs\n",
            "\n",
            "Epoch 76 Batch 0 Loss 1.1969 Accuracy 0.7285\n",
            "Epoch 76 Loss 1.1172 Accuracy 0.7341\n",
            "Time taken for 1 epoch: 10.623698234558105 secs\n",
            "\n",
            "Epoch 77 Batch 0 Loss 1.1717 Accuracy 0.7162\n",
            "Epoch 77 Loss 1.0590 Accuracy 0.7469\n",
            "Time taken for 1 epoch: 10.78504490852356 secs\n",
            "\n",
            "Epoch 78 Batch 0 Loss 1.0944 Accuracy 0.7354\n",
            "Epoch 78 Loss 1.0150 Accuracy 0.7562\n",
            "Time taken for 1 epoch: 10.580824375152588 secs\n",
            "\n",
            "Epoch 79 Batch 0 Loss 1.0049 Accuracy 0.7700\n",
            "Epoch 79 Loss 0.9669 Accuracy 0.7656\n",
            "Time taken for 1 epoch: 10.538845300674438 secs\n",
            "\n",
            "Epoch 80 Batch 0 Loss 1.0088 Accuracy 0.7504\n",
            "Saving checkpoint for epoch 80 at /content/drive/MyDrive/VinBigData/checkpoints/train121/ckpt-16\n",
            "Epoch 80 Loss 0.9267 Accuracy 0.7736\n",
            "Time taken for 1 epoch: 11.037614822387695 secs\n",
            "\n",
            "Epoch 81 Batch 0 Loss 0.9515 Accuracy 0.7662\n",
            "Epoch 81 Loss 0.8857 Accuracy 0.7847\n",
            "Time taken for 1 epoch: 10.765268325805664 secs\n",
            "\n",
            "Epoch 82 Batch 0 Loss 0.8056 Accuracy 0.8056\n",
            "Epoch 82 Loss 0.8380 Accuracy 0.7945\n",
            "Time taken for 1 epoch: 10.66441559791565 secs\n",
            "\n",
            "Epoch 83 Batch 0 Loss 0.7701 Accuracy 0.8033\n",
            "Epoch 83 Loss 0.8078 Accuracy 0.7970\n",
            "Time taken for 1 epoch: 10.41884469985962 secs\n",
            "\n",
            "Epoch 84 Batch 0 Loss 0.7799 Accuracy 0.8061\n",
            "Epoch 84 Loss 0.7723 Accuracy 0.8078\n",
            "Time taken for 1 epoch: 10.353018283843994 secs\n",
            "\n",
            "Epoch 85 Batch 0 Loss 0.7792 Accuracy 0.8079\n",
            "Saving checkpoint for epoch 85 at /content/drive/MyDrive/VinBigData/checkpoints/train121/ckpt-17\n",
            "Epoch 85 Loss 0.7326 Accuracy 0.8159\n",
            "Time taken for 1 epoch: 10.988797903060913 secs\n",
            "\n",
            "Epoch 86 Batch 0 Loss 0.6353 Accuracy 0.8398\n",
            "Epoch 86 Loss 0.7029 Accuracy 0.8220\n",
            "Time taken for 1 epoch: 10.528162956237793 secs\n",
            "\n",
            "Epoch 87 Batch 0 Loss 0.6485 Accuracy 0.8423\n",
            "Epoch 87 Loss 0.6771 Accuracy 0.8290\n",
            "Time taken for 1 epoch: 10.591395378112793 secs\n",
            "\n",
            "Epoch 88 Batch 0 Loss 0.6137 Accuracy 0.8427\n",
            "Epoch 88 Loss 0.6433 Accuracy 0.8342\n",
            "Time taken for 1 epoch: 10.546553611755371 secs\n",
            "\n",
            "Epoch 89 Batch 0 Loss 0.6621 Accuracy 0.8302\n",
            "Epoch 89 Loss 0.6010 Accuracy 0.8441\n",
            "Time taken for 1 epoch: 10.853645086288452 secs\n",
            "\n",
            "Epoch 90 Batch 0 Loss 0.5935 Accuracy 0.8506\n",
            "Saving checkpoint for epoch 90 at /content/drive/MyDrive/VinBigData/checkpoints/train121/ckpt-18\n",
            "Epoch 90 Loss 0.5652 Accuracy 0.8528\n",
            "Time taken for 1 epoch: 11.07473373413086 secs\n",
            "\n",
            "Epoch 91 Batch 0 Loss 0.5468 Accuracy 0.8625\n",
            "Epoch 91 Loss 0.5638 Accuracy 0.8528\n",
            "Time taken for 1 epoch: 10.66776990890503 secs\n",
            "\n",
            "Epoch 92 Batch 0 Loss 0.5732 Accuracy 0.8532\n",
            "Epoch 92 Loss 0.5400 Accuracy 0.8572\n",
            "Time taken for 1 epoch: 10.678160429000854 secs\n",
            "\n",
            "Epoch 93 Batch 0 Loss 0.5244 Accuracy 0.8683\n",
            "Epoch 93 Loss 0.5134 Accuracy 0.8631\n",
            "Time taken for 1 epoch: 10.773998260498047 secs\n",
            "\n",
            "Epoch 94 Batch 0 Loss 0.4535 Accuracy 0.8758\n",
            "Epoch 94 Loss 0.4846 Accuracy 0.8705\n",
            "Time taken for 1 epoch: 10.715343236923218 secs\n",
            "\n",
            "Epoch 95 Batch 0 Loss 0.4967 Accuracy 0.8657\n",
            "Saving checkpoint for epoch 95 at /content/drive/MyDrive/VinBigData/checkpoints/train121/ckpt-19\n",
            "Epoch 95 Loss 0.4568 Accuracy 0.8790\n",
            "Time taken for 1 epoch: 10.736374855041504 secs\n",
            "\n",
            "Epoch 96 Batch 0 Loss 0.4420 Accuracy 0.8769\n",
            "Epoch 96 Loss 0.4323 Accuracy 0.8834\n",
            "Time taken for 1 epoch: 10.355553388595581 secs\n",
            "\n",
            "Epoch 97 Batch 0 Loss 0.4257 Accuracy 0.8882\n",
            "Epoch 97 Loss 0.4272 Accuracy 0.8849\n",
            "Time taken for 1 epoch: 10.590009689331055 secs\n",
            "\n",
            "Epoch 98 Batch 0 Loss 0.3186 Accuracy 0.9130\n",
            "Epoch 98 Loss 0.4191 Accuracy 0.8859\n",
            "Time taken for 1 epoch: 10.580283403396606 secs\n",
            "\n",
            "Epoch 99 Batch 0 Loss 0.2924 Accuracy 0.9197\n",
            "Epoch 99 Loss 0.3900 Accuracy 0.8926\n",
            "Time taken for 1 epoch: 10.560614585876465 secs\n",
            "\n",
            "Epoch 100 Batch 0 Loss 0.3294 Accuracy 0.9077\n",
            "Saving checkpoint for epoch 100 at /content/drive/MyDrive/VinBigData/checkpoints/train121/ckpt-20\n",
            "Epoch 100 Loss 0.3645 Accuracy 0.9007\n",
            "Time taken for 1 epoch: 11.00630521774292 secs\n",
            "\n"
          ],
          "name": "stdout"
        }
      ]
    },
    {
      "cell_type": "code",
      "metadata": {
        "id": "QPtAZFLpkw8z"
      },
      "source": [
        ""
      ],
      "execution_count": 210,
      "outputs": []
    },
    {
      "cell_type": "markdown",
      "metadata": {
        "id": "QfcsSWswSdGV"
      },
      "source": [
        "## Evaluate"
      ]
    },
    {
      "cell_type": "code",
      "metadata": {
        "id": "5buvMlnvyrFm"
      },
      "source": [
        "import time\n",
        "from tqdm import tqdm\n",
        "def evaluate(inp_sentence):\n",
        "  start_token = [tokenizer_en.vocab_size]\n",
        "  end_token = [tokenizer_en.vocab_size + 1]\n",
        "  \n",
        "  # inp sentence is eng, hence adding the start and end token\n",
        "  inp_sentence = start_token + tokenizer_en.encode(inp_sentence) + end_token\n",
        "  encoder_input = tf.expand_dims(inp_sentence, 0)\n",
        "  \n",
        "  # as the target is vn, the first word to the transformer should be the\n",
        "  # english start token.\n",
        "  decoder_input = [tokenizer_vn.vocab_size]\n",
        "  output = tf.expand_dims(decoder_input, 0)\n",
        "  \n",
        "  for i in range(MAX_LENGTH):\n",
        "    enc_padding_mask, combined_mask, dec_padding_mask = create_masks(\n",
        "        encoder_input, output)\n",
        "  \n",
        "    predictions, attention_weights = transformer(encoder_input, \n",
        "                                                 output,\n",
        "                                                 False,\n",
        "                                                 enc_padding_mask,\n",
        "                                                 combined_mask,\n",
        "                                                 dec_padding_mask)\n",
        "    \n",
        "    predictions = predictions[: ,-1:, :]  # (batch_size, 1, vocab_size)\n",
        "\n",
        "    predicted_id = tf.cast(tf.argmax(predictions, axis=-1), tf.int32)\n",
        "    \n",
        "    # return the result if the predicted_id is equal to the end token\n",
        "    if predicted_id == tokenizer_vn.vocab_size+1:\n",
        "      \n",
        "      return tf.squeeze(output, axis=0), attention_weights\n",
        "\n",
        "      \n",
        "    \n",
        "    # concatentate the predicted_id to the output which is given to the decoder\n",
        "    # as its input.\n",
        "    output = tf.concat([output, predicted_id], axis=-1)\n",
        "\n",
        "  return tf.squeeze(output, axis=0), attention_weights"
      ],
      "execution_count": 298,
      "outputs": []
    },
    {
      "cell_type": "code",
      "metadata": {
        "id": "lU2_yG_vBGza"
      },
      "source": [
        "def translate(sentence, plot=''):\n",
        "  sentence = preproces_cn(sentence)\n",
        "  result, attention_weights = evaluate(sentence)\n",
        "  predicted_sentence = tokenizer_vn.decode([i for i in result \n",
        "                                            if i < tokenizer_vn.vocab_size])  \n",
        "\n",
        "  print('Input: {}'.format(sentence))\n",
        "  print('Predicted translation: {}'.format(predicted_sentence))\n",
        "  \n",
        "  if plot:\n",
        "    plot_attention_weights(attention_weights, sentence, result, plot)"
      ],
      "execution_count": 333,
      "outputs": []
    },
    {
      "cell_type": "code",
      "metadata": {
        "id": "q-NvetisO_zp",
        "colab": {
          "base_uri": "https://localhost:8080/"
        },
        "outputId": "15c973c8-ae62-41b7-e06e-8ffbc8cf610b"
      },
      "source": [
        "print(translate('你好！'))"
      ],
      "execution_count": 334,
      "outputs": [
        {
          "output_type": "stream",
          "text": [
            "Input: 你 好 ！\n",
            "Predicted translation: chào bạn!\n",
            "None\n"
          ],
          "name": "stdout"
        }
      ]
    },
    {
      "cell_type": "code",
      "metadata": {
        "id": "-KPmiEdURlkv",
        "colab": {
          "base_uri": "https://localhost:8080/"
        },
        "outputId": "7778b927-0f12-4f32-e6f1-03795a9d600d"
      },
      "source": [
        "print(translate('我爱你')) # anh yêu em"
      ],
      "execution_count": 335,
      "outputs": [
        {
          "output_type": "stream",
          "text": [
            "Input: 我 爱 你\n",
            "Predicted translation: tôi chính bạn của tôi.\n",
            "None\n"
          ],
          "name": "stdout"
        }
      ]
    },
    {
      "cell_type": "code",
      "metadata": {
        "id": "RBqE3S9yPapg",
        "colab": {
          "base_uri": "https://localhost:8080/"
        },
        "outputId": "601d9592-4e52-4888-9a0d-6fc80656028e"
      },
      "source": [
        "print(translate('听说越南的杂技很有意思，我还没看过呢。'))"
      ],
      "execution_count": 336,
      "outputs": [
        {
          "output_type": "stream",
          "text": [
            "Input: 听 说 越 南 的 杂 技 很 有 意 思 ， 我 还 没 看 过 呢 。\n",
            "Predicted translation: nghe nói xiếc của việt nam rất thú vị, tôi vẫn chưa xem qua.\n",
            "None\n"
          ],
          "name": "stdout"
        }
      ]
    },
    {
      "cell_type": "code",
      "metadata": {
        "id": "F1JClUjSPynI",
        "colab": {
          "base_uri": "https://localhost:8080/"
        },
        "outputId": "ee0646ca-5ac8-4ece-fa09-1e2f9a857499"
      },
      "source": [
        "print(translate('你来过越南吗？你来越南以后去过什么地方？'))"
      ],
      "execution_count": 337,
      "outputs": [
        {
          "output_type": "stream",
          "text": [
            "Input: 你 来 过 越 南 吗 ？ 你 来 越 南 以 后 去 过 什 么 地 方 ？\n",
            "Predicted translation: bạn đã từng tới việt nam chưa? sau khi bạn đã từng đến việt nam đã từng đến việt nam chưa?\n",
            "None\n"
          ],
          "name": "stdout"
        }
      ]
    },
    {
      "cell_type": "code",
      "metadata": {
        "id": "_0mV1V2YQA1b",
        "colab": {
          "base_uri": "https://localhost:8080/"
        },
        "outputId": "01bd5edf-ceda-4ec0-c522-fee971e4e816"
      },
      "source": [
        "print(translate('我是越南人')) # tôi là người VN"
      ],
      "execution_count": 338,
      "outputs": [
        {
          "output_type": "stream",
          "text": [
            "Input: 我 是 越 南 人\n",
            "Predicted translation: tôi là người việt nam.\n",
            "None\n"
          ],
          "name": "stdout"
        }
      ]
    },
    {
      "cell_type": "code",
      "metadata": {
        "id": "YeV9sLi8T2Qy",
        "colab": {
          "base_uri": "https://localhost:8080/"
        },
        "outputId": "ebba2dea-5fa1-4e2d-8697-2317194e9b01"
      },
      "source": [
        "print(translate('我不是越南人')) # tôi không là người VN"
      ],
      "execution_count": 339,
      "outputs": [
        {
          "output_type": "stream",
          "text": [
            "Input: 我 不 是 越 南 人\n",
            "Predicted translation: tôi không phải là người việt nam.\n",
            "None\n"
          ],
          "name": "stdout"
        }
      ]
    },
    {
      "cell_type": "code",
      "metadata": {
        "id": "PuLevzyESCef",
        "colab": {
          "base_uri": "https://localhost:8080/"
        },
        "outputId": "8e15ffee-80aa-42e9-db0c-b862aad2db5c"
      },
      "source": [
        "print(translate('我是中国人')) # anh ta là người Trung Quốc"
      ],
      "execution_count": 341,
      "outputs": [
        {
          "output_type": "stream",
          "text": [
            "Input: 我 是 中 国 人\n",
            "Predicted translation: tôi là người trung quốc của trung quốc.\n",
            "None\n"
          ],
          "name": "stdout"
        }
      ]
    },
    {
      "cell_type": "code",
      "metadata": {
        "id": "EMPoGxdQQKiS",
        "colab": {
          "base_uri": "https://localhost:8080/"
        },
        "outputId": "14cf7faa-2781-414a-d681-c882fc1b8db5"
      },
      "source": [
        "print(translate('越南北部的中国')) # Trung Quốc ở phía bắc Việt Nam"
      ],
      "execution_count": 342,
      "outputs": [
        {
          "output_type": "stream",
          "text": [
            "Input: 越 南 北 部 的 中 国\n",
            "Predicted translation: hà nội ở bắc kinh sinh trung quốc của tôi.\n",
            "None\n"
          ],
          "name": "stdout"
        }
      ]
    },
    {
      "cell_type": "code",
      "metadata": {
        "id": "9zbGb506PIN9",
        "colab": {
          "base_uri": "https://localhost:8080/"
        },
        "outputId": "b4946b07-cbf2-4365-ddbf-429d8c4b7d61"
      },
      "source": [
        "print(translate('明天我哥哥很忙。'))"
      ],
      "execution_count": 343,
      "outputs": [
        {
          "output_type": "stream",
          "text": [
            "Input: 明 天 我 哥 哥 很 忙 。\n",
            "Predicted translation: ngày mai anh trai tôi rất bận.\n",
            "None\n"
          ],
          "name": "stdout"
        }
      ]
    },
    {
      "cell_type": "code",
      "metadata": {
        "id": "YsxrAlvFG8SZ",
        "colab": {
          "base_uri": "https://localhost:8080/"
        },
        "outputId": "fe4bd3b9-6a62-42b3-9864-898c1dd362f3"
      },
      "source": [
        "print(translate('那是英文杂志。'))"
      ],
      "execution_count": 344,
      "outputs": [
        {
          "output_type": "stream",
          "text": [
            "Input: 那 是 英 文 杂 志 。\n",
            "Predicted translation: kia là tạp chí tiếng anh?\n",
            "None\n"
          ],
          "name": "stdout"
        }
      ]
    },
    {
      "cell_type": "code",
      "metadata": {
        "id": "t7x7m65BOcMX",
        "colab": {
          "base_uri": "https://localhost:8080/"
        },
        "outputId": "e4229964-3d41-439f-9120-718368d66d39"
      },
      "source": [
        "print(translate('明天下了课我就去办公室找她。'))"
      ],
      "execution_count": 345,
      "outputs": [
        {
          "output_type": "stream",
          "text": [
            "Input: 明 天 下 了 课 我 就 去 办 公 室 找 她 。\n",
            "Predicted translation: ngày mai tan học xong tôi sẽ đến văn phòng tìm cô ta.\n",
            "None\n"
          ],
          "name": "stdout"
        }
      ]
    },
    {
      "cell_type": "code",
      "metadata": {
        "id": "uSlVcHVBfh-m",
        "colab": {
          "base_uri": "https://localhost:8080/"
        },
        "outputId": "08172cba-5a27-456b-b351-17b6c31b1a84"
      },
      "source": [
        "print(translate('真正的失败从来都不是结果的不仅如人意，而是拥有的时候随意挥霍，和未曾用心尝试前的轻言放弃。'))"
      ],
      "execution_count": 346,
      "outputs": [
        {
          "output_type": "stream",
          "text": [
            "Input: 真 正 的 失 败 从 来 都 不 是 结 果 的 不 仅 如 人 意 ， 而 是 拥 有 的 时 候 随 意 挥 霍 ， 和 未 曾 用 心 尝 试 前 的 轻 言 放 弃 。\n",
            "Predicted translation: thất bại thật sự không phải là kết quả không được như ý muốn mà là khi ta đang nắm giữ trong tay nhưng không biết trân trọng mà lại tùy tiện và dễ dàng từ bỏ khi chưa nếm trải qua hay quyết tâm giữ lấy.\n",
            "None\n"
          ],
          "name": "stdout"
        }
      ]
    },
    {
      "cell_type": "code",
      "metadata": {
        "id": "0JQrqaPZO40H",
        "colab": {
          "base_uri": "https://localhost:8080/"
        },
        "outputId": "71d0d51c-ce3c-44d8-fc36-9a8d5cfadc91"
      },
      "source": [
        "print(translate('真正的失败从来都不是结果的不仅如人意，而是拥有的时候随意挥霍，和未曾用心尝试前的轻言放弃。'))"
      ],
      "execution_count": 323,
      "outputs": [
        {
          "output_type": "stream",
          "text": [
            "Input: 真 正 的 失 败 从 来 都 不 是 结 果 的 不 仅 如 人 意 ，而 是 拥 有 的 时 候 随 意 挥 霍 ，和 未 曾 用 心 尝 试 前 的 轻 言 放 弃 。\n",
            "Predicted translation: thất bại thật sự không phải là kết quả không được như ý muốn mà là khi ta đang nắm giữ trong tay nhưng không biết trân trọng mà lại tùy tiện và dễ dàng từ bỏ khi chưa nếm trải qua hay quyết tâm giữ lấy.\n",
            "None\n"
          ],
          "name": "stdout"
        }
      ]
    },
    {
      "cell_type": "code",
      "metadata": {
        "id": "pQ7zPBmBOQOS",
        "colab": {
          "base_uri": "https://localhost:8080/"
        },
        "outputId": "7626765f-31b6-401b-b185-05915a6fddf4"
      },
      "source": [
        "print(translate('你的名字写下来不过几厘米长，却贯穿了我这么长时光。其实你不知道，你一直是我的梦想。'))\r\n"
      ],
      "execution_count": 324,
      "outputs": [
        {
          "output_type": "stream",
          "text": [
            "Input: 你 的 名 字 写 下 来 不 过 几 厘 米 长 ，却 贯 穿 了 我 这 么 长 时 光 。其 实 你 不 知 道 ，你 一 直 是 我 的 梦 想 。\n",
            "Predicted translation: tên của anh khi viết xuống giấy trắng quá dài có vài centimét, nhưng lại xuyên suốt cả một quãng thời gian thanh xuân của em. thực ra anh không biết rằng anh chính là ước mơ của em.\n",
            "None\n"
          ],
          "name": "stdout"
        }
      ]
    },
    {
      "cell_type": "code",
      "metadata": {
        "id": "0gtzO9ztf-AX",
        "colab": {
          "base_uri": "https://localhost:8080/"
        },
        "outputId": "27d8ca09-e4e8-441a-a924-6f262f270c84"
      },
      "source": [
        "print(translate('写给自己的第二封信 人生，总会有不期而遇的温暖，和生生不息的希望。不管前方的路有多苦，只要走的方向正确，不管多么崎岖不平，都比站在原地更接近幸福。'))"
      ],
      "execution_count": 325,
      "outputs": [
        {
          "output_type": "stream",
          "text": [
            "Input: 写 给 自 己 的 第 二 封 信 人 生 ，总 会 有 不 期 而 遇 的 温 暖 ，和 生 生 不 息 的 希 望 。不 管 前 方 的 路 有 多 苦 ，只 要 走 的 方 向 正 确 ，不 管 多 么 崎 岖 不 平 ， 都 比 站 在 原 地 更 接 近 幸 福 。\n",
            "Predicted translation: những con đường đời người rồi cũng sẽ đi gặp những hi vọng phải đọc nhiều những hi vọng không ngừng nỗ lực. có những hi vọng vui vẻ. trên đời này chỉ cần đi qua những thứ đáng yêu. không ngừng lười biếng nuốt trọn vẹn thuộc về phía trước mặt trời và đi mãi vừa đi mãi mang theo đuổi. đời người đến những cảnh nó bất cứ mãi nó bất kể cao nhất.\n",
            "None\n"
          ],
          "name": "stdout"
        }
      ]
    },
    {
      "cell_type": "code",
      "metadata": {
        "id": "xPM5cqn6glrZ",
        "colab": {
          "base_uri": "https://localhost:8080/"
        },
        "outputId": "bc120e12-a3ab-4662-94d8-86d4dc1759b0"
      },
      "source": [
        "print(translate('如果你感到委屈，证明你还有底线；如果你感到迷茫，证明你还有追求；如果你感到痛苦，证明你还有力气；如果你感到绝望，证明你还要希望。 从某种意义上，你永远都不会被打倒，因为你还有你。'))"
      ],
      "execution_count": 228,
      "outputs": [
        {
          "output_type": "stream",
          "text": [
            "Input: 如果你感到委屈，证明你还有底线；如果你感到迷茫，证明你还有追求；如果你感到痛苦，证明你还有力气；如果你感到绝望，证明你还要希望。 从某种意义上，你永远都不会被打倒，因为你还有你。\n",
            "Predicted translation: những người đã cố gắng đều sẽ rất nhiều chuyện cho một điều bạn trong tương lai bạn cảm thấy thực hiện tại sự lựa chọn có rất nhiều thời gian muốn và mong muốn và có nhiều điều gì to : khi muốn cũng chẳng hề mua cây thông trông thấy nhưng vẫn có những gì bạn thì cũng chưa từng kẽ nhưng vẫn luôn được cảm thấy cảnh đẹp trong thâm tâm trạng thái độ của tôi. chúng ta nhưng lại ước mơ trong cuộc đời người khác mà là một điều lúc này vẫn chưa có một điều gì bạn mà là thiên hạ chỉ cần thiết phải mình căm ghét bỏ một điều rằng, bạn vẫn luôn mới cố gắng tỏ ra mạnh mẽ. cứ điều đó chính là những gì bạn của một cuộc sống riêng mình. 10 năm nữa. trong tim này, bạn của tuổi trẻ, đặc biệt đúng chưa. 10 năm nữa, bạn những gì mà là sự thật, cô ta vẫn còn trẻ bố mẹ của một giấc mơ của hiện tại \n",
            "None\n"
          ],
          "name": "stdout"
        }
      ]
    },
    {
      "cell_type": "code",
      "metadata": {
        "id": "A9enwvl9hFCl",
        "colab": {
          "base_uri": "https://localhost:8080/"
        },
        "outputId": "8b3a1e8a-18d6-414b-ba36-82d98c5a22c1"
      },
      "source": [
        "print(translate('今天我的工作不太忙。'))"
      ],
      "execution_count": 327,
      "outputs": [
        {
          "output_type": "stream",
          "text": [
            "Input: 今 天 我 的 工 作 不 太 忙 。\n",
            "Predicted translation: hôm nay công việc của tôi không bận lắm.\n",
            "None\n"
          ],
          "name": "stdout"
        }
      ]
    }
  ]
}