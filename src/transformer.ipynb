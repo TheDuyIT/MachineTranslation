{
  "nbformat": 4,
  "nbformat_minor": 0,
  "metadata": {
    "accelerator": "GPU",
    "colab": {
      "name": "chinhsua.ipynb",
      "provenance": [],
      "collapsed_sections": [],
      "toc_visible": true,
      "include_colab_link": true
    },
    "kernelspec": {
      "display_name": "Python 3",
      "language": "python",
      "name": "python3"
    },
    "language_info": {
      "codemirror_mode": {
        "name": "ipython",
        "version": 3
      },
      "file_extension": ".py",
      "mimetype": "text/x-python",
      "name": "python",
      "nbconvert_exporter": "python",
      "pygments_lexer": "ipython3",
      "version": "3.8.3"
    }
  },
  "cells": [
    {
      "cell_type": "markdown",
      "metadata": {
        "id": "view-in-github",
        "colab_type": "text"
      },
      "source": [
        "<a href=\"https://colab.research.google.com/github/TheDuyIT/MachineTranslation/blob/master/src/transformer.ipynb\" target=\"_parent\"><img src=\"https://colab.research.google.com/assets/colab-badge.svg\" alt=\"Open In Colab\"/></a>"
      ]
    },
    {
      "cell_type": "code",
      "metadata": {
        "id": "kEATbN5DAYDT",
        "outputId": "da95a205-8f60-431c-a6b7-a8430b9e9cde",
        "colab": {
          "base_uri": "https://localhost:8080/"
        }
      },
      "source": [
        "!npx degit TheDuyIT/MachineTranslation -f"
      ],
      "execution_count": 1,
      "outputs": [
        {
          "output_type": "stream",
          "text": [
            "\u001b[K\u001b[?25hnpx: installed 1 in 1.481s\n",
            "\u001b[36m> destination directory is not empty. Using --force, continuing\u001b[39m\n",
            "\u001b[36m> cloned \u001b[1mTheDuyIT/MachineTranslation\u001b[22m#\u001b[1mmaster\u001b[22m\u001b[39m\n"
          ],
          "name": "stdout"
        }
      ]
    },
    {
      "cell_type": "code",
      "metadata": {
        "id": "XFG0NDRu5mYQ",
        "outputId": "f6d0ddea-0abb-4543-c578-d9695918758b",
        "colab": {
          "base_uri": "https://localhost:8080/"
        }
      },
      "source": [
        "!pip install -q tfds-nightly\r\n",
        "# !pip install tensorflow-gpu"
      ],
      "execution_count": 2,
      "outputs": [
        {
          "output_type": "stream",
          "text": [
            "\u001b[K     |████████████████████████████████| 3.8MB 19.2MB/s \n",
            "\u001b[?25h"
          ],
          "name": "stdout"
        }
      ]
    },
    {
      "cell_type": "code",
      "metadata": {
        "id": "JjJJyJTZYebt"
      },
      "source": [
        "import tensorflow_datasets as tfds\n",
        "import tensorflow as tf\n",
        "import unicodedata\n",
        "import time\n",
        "import re\n",
        "import numpy as np\n",
        "import matplotlib.pyplot as plt\n",
        "from src.process_data import DataFormatter, DataLoader"
      ],
      "execution_count": 3,
      "outputs": []
    },
    {
      "cell_type": "markdown",
      "metadata": {
        "id": "fd1NWMxjfsDd"
      },
      "source": [
        "## Setup input pipeline"
      ]
    },
    {
      "cell_type": "code",
      "metadata": {
        "id": "v2MJM8-jV6IA"
      },
      "source": [
        "loader = DataLoader()"
      ],
      "execution_count": 4,
      "outputs": []
    },
    {
      "cell_type": "code",
      "metadata": {
        "id": "ZpF0MBnRaq2o"
      },
      "source": [
        "content_en = loader.np_load('lst_cn')\n",
        "content_vn = loader.np_load('lst_vi')\n",
        "for i in range(len(content_vn)):\n",
        "  content_vn[i] = content_vn[i].lower()\n",
        "  # content_en.append(i['en'].lower())\n",
        "  # content_vn.append(i['vn'].lower())"
      ],
      "execution_count": 5,
      "outputs": []
    },
    {
      "cell_type": "code",
      "metadata": {
        "id": "VP0PoNkyDIHp",
        "outputId": "804848fb-c1bd-4886-dc9a-0ecf084039e4",
        "colab": {
          "base_uri": "https://localhost:8080/"
        }
      },
      "source": [
        "print(len(content_en))\r\n",
        "print(len(content_vn))"
      ],
      "execution_count": 6,
      "outputs": [
        {
          "output_type": "stream",
          "text": [
            "3187\n",
            "3187\n"
          ],
          "name": "stdout"
        }
      ]
    },
    {
      "cell_type": "code",
      "metadata": {
        "id": "P1guLOWvfLoC"
      },
      "source": [
        "a = tf.data.Dataset.from_tensor_slices(content_en)  # ==> [ 1, 2, 3 ]\n",
        "b = tf.data.Dataset.from_tensor_slices(content_vn)  # ==> [ 4, 5, 6 ]\n",
        "\n",
        "full_dataset = tf.data.Dataset.zip((a, b))"
      ],
      "execution_count": 7,
      "outputs": []
    },
    {
      "cell_type": "code",
      "metadata": {
        "id": "RTGUJVei9wjc"
      },
      "source": [
        "train_size = int(0.8*0.9*len(full_dataset)) + 2\n",
        "val_size = int(0.8*0.1*len(full_dataset))\n",
        "test_size = int(0.2*len(full_dataset))"
      ],
      "execution_count": 8,
      "outputs": []
    },
    {
      "cell_type": "code",
      "metadata": {
        "id": "g6Z3HImR9a-M"
      },
      "source": [
        "full_dataset = full_dataset.shuffle(buffer_size = 1000)\n",
        "train_examples = full_dataset.take(train_size)\n",
        "test_dataset = full_dataset.skip(train_size)\n",
        "val_dataset = test_dataset.skip(val_size)\n",
        "test_dataset = test_dataset.take(test_size)"
      ],
      "execution_count": 9,
      "outputs": []
    },
    {
      "cell_type": "code",
      "metadata": {
        "id": "KVBg5Q8tBk5z"
      },
      "source": [
        "# tokenizer_vn = tfds.deprecated.text.SubwordTextEncoder.load_from_file('tokenizer_en')\n",
        "# tokenizer_en = tfds.deprecated.text.SubwordTextEncoder.load_from_file('tokenizer_vn')\n",
        "tokenizer_en = tfds.deprecated.text.SubwordTextEncoder.build_from_corpus(\n",
        "    (en.numpy() for pt, en in train_examples), target_vocab_size=2**13)\n",
        "\n",
        "tokenizer_vn = tfds.deprecated.text.SubwordTextEncoder.build_from_corpus(\n",
        "    (pt.numpy() for pt, en in train_examples), target_vocab_size=2**13)"
      ],
      "execution_count": 10,
      "outputs": []
    },
    {
      "cell_type": "code",
      "metadata": {
        "id": "bcRp7VcQ5m6g"
      },
      "source": [
        "BUFFER_SIZE = 2000\n",
        "BATCH_SIZE = 64"
      ],
      "execution_count": 11,
      "outputs": []
    },
    {
      "cell_type": "code",
      "metadata": {
        "id": "UZwnPr4R055s"
      },
      "source": [
        "def encode(lang1, lang2):\n",
        "  lang1 = [tokenizer_en.vocab_size] + tokenizer_en.encode(\n",
        "      lang1.numpy()) + [tokenizer_en.vocab_size+1]\n",
        "\n",
        "  lang2 = [tokenizer_vn.vocab_size] + tokenizer_vn.encode(\n",
        "      lang2.numpy()) + [tokenizer_vn.vocab_size+1]\n",
        "  \n",
        "  return lang1, lang2"
      ],
      "execution_count": 12,
      "outputs": []
    },
    {
      "cell_type": "code",
      "metadata": {
        "id": "Mah1cS-P70Iz"
      },
      "source": [
        "def tf_encode(en, vn):\n",
        "  result_en, result_vn = tf.py_function(encode, [en, vn], [tf.int64, tf.int64])\n",
        "  result_en.set_shape([None])\n",
        "  result_vn.set_shape([None])\n",
        "\n",
        "  return result_en, result_vn"
      ],
      "execution_count": 13,
      "outputs": []
    },
    {
      "cell_type": "code",
      "metadata": {
        "id": "2QEgbjntk6Yf"
      },
      "source": [
        "MAX_LENGTH = 190\n"
      ],
      "execution_count": 14,
      "outputs": []
    },
    {
      "cell_type": "code",
      "metadata": {
        "id": "c081xPGv1CPI"
      },
      "source": [
        "def filter_max_length(x, y, max_length=MAX_LENGTH):\n",
        "  return tf.logical_and(tf.size(x) <= max_length,\n",
        "                        tf.size(y) <= max_length)"
      ],
      "execution_count": 15,
      "outputs": []
    },
    {
      "cell_type": "code",
      "metadata": {
        "id": "JKIPFkLr-Qsz"
      },
      "source": [
        "train_dataset = train_examples.map(tf_encode)\n",
        "train_dataset = train_dataset.filter(filter_max_length)\n",
        "# cache the dataset to memory to get a speedup while reading from it.\n",
        "train_dataset = train_dataset.cache()\n",
        "train_dataset = train_dataset.shuffle(BUFFER_SIZE).padded_batch(BATCH_SIZE)\n",
        "train_dataset = train_dataset.prefetch(tf.data.experimental.AUTOTUNE)\n",
        "\n",
        "\n",
        "val_dataset = val_dataset.map(tf_encode)\n",
        "val_dataset = val_dataset.filter(filter_max_length).padded_batch(BATCH_SIZE)\n",
        "\n",
        "test_dataset = test_dataset.map(tf_encode)\n",
        "test_dataset = test_dataset.filter(filter_max_length).padded_batch(BATCH_SIZE)"
      ],
      "execution_count": 16,
      "outputs": []
    },
    {
      "cell_type": "markdown",
      "metadata": {
        "id": "nBQuibYA4n0n"
      },
      "source": [
        "## Positional encoding\n",
        "\n",
        "Since this model doesn't contain any recurrence or convolution, positional encoding is added to give the model some information about the relative position of the words in the sentence. \n",
        "\n",
        "The positional encoding vector is added to the embedding vector. Embeddings represent a token in a d-dimensional space where tokens with similar meaning will be closer to each other. But the embeddings do not encode the relative position of words in a sentence. So after adding the positional encoding, words will be closer to each other based on the *similarity of their meaning and their position in the sentence*, in the d-dimensional space.\n",
        "\n",
        "See the notebook on [positional encoding](https://github.com/tensorflow/examples/blob/master/community/en/position_encoding.ipynb) to learn more about it. The formula for calculating the positional encoding is as follows:\n",
        "\n",
        "$$\\Large{PE_{(pos, 2i)} = sin(pos / 10000^{2i / d_{model}})} $$\n",
        "$$\\Large{PE_{(pos, 2i+1)} = cos(pos / 10000^{2i / d_{model}})} $$"
      ]
    },
    {
      "cell_type": "code",
      "metadata": {
        "id": "WhIOZjMNKujn"
      },
      "source": [
        "def get_angles(pos, i, d_model):\n",
        "  angle_rates = 1 / np.power(10000, (2 * (i//2)) / np.float32(d_model))\n",
        "  return pos * angle_rates"
      ],
      "execution_count": 17,
      "outputs": []
    },
    {
      "cell_type": "code",
      "metadata": {
        "id": "1Rz82wEs5biZ"
      },
      "source": [
        "def positional_encoding(position, d_model):\n",
        "  angle_rads = get_angles(np.arange(position)[:, np.newaxis],\n",
        "                          np.arange(d_model)[np.newaxis, :],\n",
        "                          d_model)\n",
        "  \n",
        "  # apply sin to even indices in the array; 2i\n",
        "  angle_rads[:, 0::2] = np.sin(angle_rads[:, 0::2])\n",
        "  \n",
        "  # apply cos to odd indices in the array; 2i+1\n",
        "  angle_rads[:, 1::2] = np.cos(angle_rads[:, 1::2])\n",
        "    \n",
        "  pos_encoding = angle_rads[np.newaxis, ...]\n",
        "    \n",
        "  return tf.cast(pos_encoding, dtype=tf.float32)"
      ],
      "execution_count": 18,
      "outputs": []
    },
    {
      "cell_type": "code",
      "metadata": {
        "id": "1kLCla68EloE",
        "colab": {
          "base_uri": "https://localhost:8080/",
          "height": 301
        },
        "outputId": "3eff6595-c717-4f4a-ae10-40dd8399e2d2"
      },
      "source": [
        "pos_encoding = positional_encoding(50, 512)\n",
        "print (pos_encoding.shape)\n",
        "\n",
        "plt.pcolormesh(pos_encoding[0], cmap='RdBu')\n",
        "plt.xlabel('Depth')\n",
        "plt.xlim((0, 512))\n",
        "plt.ylabel('Position')\n",
        "plt.colorbar()\n",
        "plt.show()"
      ],
      "execution_count": 19,
      "outputs": [
        {
          "output_type": "stream",
          "text": [
            "(1, 50, 512)\n"
          ],
          "name": "stdout"
        },
        {
          "output_type": "display_data",
          "data": {
            "image/png": "[encoded data removed]",
            "text/plain": [
              "<Figure size 432x288 with 2 Axes>"
            ]
          },
          "metadata": {
            "tags": [],
            "needs_background": "light"
          }
        }
      ]
    },
    {
      "cell_type": "markdown",
      "metadata": {
        "id": "a_b4ou4TYqUN"
      },
      "source": [
        "## Masking"
      ]
    },
    {
      "cell_type": "code",
      "metadata": {
        "id": "U2i8-e1s8ti9"
      },
      "source": [
        "def create_padding_mask(seq):\n",
        "  seq = tf.cast(tf.math.equal(seq, 0), tf.float32)\n",
        "  \n",
        "  # add extra dimensions to add the padding\n",
        "  # to the attention logits.\n",
        "  return seq[:, tf.newaxis, tf.newaxis, :]  # (batch_size, 1, 1, seq_len)"
      ],
      "execution_count": 20,
      "outputs": []
    },
    {
      "cell_type": "code",
      "metadata": {
        "id": "dVxS8OPI9uI0"
      },
      "source": [
        "def create_look_ahead_mask(size):\n",
        "  mask = 1 - tf.linalg.band_part(tf.ones((size, size)), -1, 0)\n",
        "  return mask  # (seq_len, seq_len)"
      ],
      "execution_count": 21,
      "outputs": []
    },
    {
      "cell_type": "markdown",
      "metadata": {
        "id": "xluDl5cXYy4y"
      },
      "source": [
        "## Scaled dot product attention"
      ]
    },
    {
      "cell_type": "code",
      "metadata": {
        "id": "LazzUq3bJ5SH"
      },
      "source": [
        "def scaled_dot_product_attention(q, k, v, mask):\n",
        "  \"\"\"Calculate the attention weights.\n",
        "  q, k, v must have matching leading dimensions.\n",
        "  k, v must have matching penultimate dimension, i.e.: seq_len_k = seq_len_v.\n",
        "  The mask has different shapes depending on its type(padding or look ahead) \n",
        "  but it must be broadcastable for addition.\n",
        "  \n",
        "  Args:\n",
        "    q: query shape == (..., seq_len_q, depth)\n",
        "    k: key shape == (..., seq_len_k, depth)\n",
        "    v: value shape == (..., seq_len_v, depth_v)\n",
        "    mask: Float tensor with shape broadcastable \n",
        "          to (..., seq_len_q, seq_len_k). Defaults to None.\n",
        "    \n",
        "  Returns:\n",
        "    output, attention_weights\n",
        "  \"\"\"\n",
        "\n",
        "  matmul_qk = tf.matmul(q, k, transpose_b=True)  # (..., seq_len_q, seq_len_k)\n",
        "  \n",
        "  # scale matmul_qk\n",
        "  dk = tf.cast(tf.shape(k)[-1], tf.float32)\n",
        "  scaled_attention_logits = matmul_qk / tf.math.sqrt(dk)\n",
        "\n",
        "  # add the mask to the scaled tensor.\n",
        "  if mask is not None:\n",
        "    scaled_attention_logits += (mask * -1e9)  \n",
        "\n",
        "  # softmax is normalized on the last axis (seq_len_k) so that the scores\n",
        "  # add up to 1.\n",
        "  attention_weights = tf.nn.softmax(scaled_attention_logits, axis=-1)  # (..., seq_len_q, seq_len_k)\n",
        "\n",
        "  output = tf.matmul(attention_weights, v)  # (..., seq_len_q, depth_v)\n",
        "\n",
        "  return output, attention_weights"
      ],
      "execution_count": 22,
      "outputs": []
    },
    {
      "cell_type": "markdown",
      "metadata": {
        "id": "kmzGPEy64qmA"
      },
      "source": [
        "## Multi-head attention"
      ]
    },
    {
      "cell_type": "code",
      "metadata": {
        "id": "BSV3PPKsYecw"
      },
      "source": [
        "class MultiHeadAttention(tf.keras.layers.Layer):\n",
        "  def __init__(self, d_model, num_heads):\n",
        "    super(MultiHeadAttention, self).__init__()\n",
        "    self.num_heads = num_heads\n",
        "    self.d_model = d_model\n",
        "    \n",
        "    assert d_model % self.num_heads == 0\n",
        "    \n",
        "    self.depth = d_model // self.num_heads\n",
        "    \n",
        "    self.wq = tf.keras.layers.Dense(d_model)\n",
        "    self.wk = tf.keras.layers.Dense(d_model)\n",
        "    self.wv = tf.keras.layers.Dense(d_model)\n",
        "    \n",
        "    self.dense = tf.keras.layers.Dense(d_model)\n",
        "        \n",
        "  def split_heads(self, x, batch_size):\n",
        "    \"\"\"Split the last dimension into (num_heads, depth).\n",
        "    Transpose the result such that the shape is (batch_size, num_heads, seq_len, depth)\n",
        "    \"\"\"\n",
        "    x = tf.reshape(x, (batch_size, -1, self.num_heads, self.depth))\n",
        "    return tf.transpose(x, perm=[0, 2, 1, 3])\n",
        "    \n",
        "  def call(self, v, k, q, mask):\n",
        "    batch_size = tf.shape(q)[0]\n",
        "    \n",
        "    q = self.wq(q)  # (batch_size, seq_len, d_model)\n",
        "    k = self.wk(k)  # (batch_size, seq_len, d_model)\n",
        "    v = self.wv(v)  # (batch_size, seq_len, d_model)\n",
        "    \n",
        "    q = self.split_heads(q, batch_size)  # (batch_size, num_heads, seq_len_q, depth)\n",
        "    k = self.split_heads(k, batch_size)  # (batch_size, num_heads, seq_len_k, depth)\n",
        "    v = self.split_heads(v, batch_size)  # (batch_size, num_heads, seq_len_v, depth)\n",
        "    \n",
        "    # scaled_attention.shape == (batch_size, num_heads, seq_len_q, depth)\n",
        "    # attention_weights.shape == (batch_size, num_heads, seq_len_q, seq_len_k)\n",
        "    scaled_attention, attention_weights = scaled_dot_product_attention(\n",
        "        q, k, v, mask)\n",
        "    \n",
        "    scaled_attention = tf.transpose(scaled_attention, perm=[0, 2, 1, 3])  # (batch_size, seq_len_q, num_heads, depth)\n",
        "\n",
        "    concat_attention = tf.reshape(scaled_attention, \n",
        "                                  (batch_size, -1, self.d_model))  # (batch_size, seq_len_q, d_model)\n",
        "\n",
        "    output = self.dense(concat_attention)  # (batch_size, seq_len_q, d_model)\n",
        "        \n",
        "    return output, attention_weights"
      ],
      "execution_count": 23,
      "outputs": []
    },
    {
      "cell_type": "markdown",
      "metadata": {
        "id": "RdDqGayx67vv"
      },
      "source": [
        "## Point wise feed forward network"
      ]
    },
    {
      "cell_type": "markdown",
      "metadata": {
        "id": "gBqzJXGfHK3X"
      },
      "source": [
        "Point wise feed forward network consists of two fully-connected layers with a ReLU activation in between."
      ]
    },
    {
      "cell_type": "code",
      "metadata": {
        "id": "ET7xLt0yCT6Z"
      },
      "source": [
        "def point_wise_feed_forward_network(d_model, dff):\n",
        "  return tf.keras.Sequential([\n",
        "      tf.keras.layers.Dense(dff, activation='relu'),  # (batch_size, seq_len, dff)\n",
        "      tf.keras.layers.Dense(d_model)  # (batch_size, seq_len, d_model)\n",
        "  ])"
      ],
      "execution_count": 24,
      "outputs": []
    },
    {
      "cell_type": "markdown",
      "metadata": {
        "id": "7e7hKcxn6-zd"
      },
      "source": [
        "## Encoder and decoder"
      ]
    },
    {
      "cell_type": "markdown",
      "metadata": {
        "id": "QFv-FNYUmvpn"
      },
      "source": [
        "### Encoder layer\n",
        "\n",
        "Each encoder layer consists of sublayers:\n",
        "\n",
        "1.   Multi-head attention (with padding mask) \n",
        "2.    Point wise feed forward networks. \n",
        "\n",
        "Each of these sublayers has a residual connection around it followed by a layer normalization. Residual connections help in avoiding the vanishing gradient problem in deep networks.\n",
        "\n",
        "The output of each sublayer is `LayerNorm(x + Sublayer(x))`. The normalization is done on the `d_model` (last) axis. There are N encoder layers in the transformer."
      ]
    },
    {
      "cell_type": "code",
      "metadata": {
        "id": "ncyS-Ms3i2x_"
      },
      "source": [
        "class EncoderLayer(tf.keras.layers.Layer):\n",
        "  def __init__(self, d_model, num_heads, dff, rate=0.1):\n",
        "    super(EncoderLayer, self).__init__()\n",
        "\n",
        "    self.mha = MultiHeadAttention(d_model, num_heads)\n",
        "    self.ffn = point_wise_feed_forward_network(d_model, dff)\n",
        "\n",
        "    self.layernorm1 = tf.keras.layers.LayerNormalization(epsilon=1e-6)\n",
        "    self.layernorm2 = tf.keras.layers.LayerNormalization(epsilon=1e-6)\n",
        "    \n",
        "    self.dropout1 = tf.keras.layers.Dropout(rate)\n",
        "    self.dropout2 = tf.keras.layers.Dropout(rate)\n",
        "    \n",
        "  def call(self, x, training, mask):\n",
        "\n",
        "    attn_output, _ = self.mha(x, x, x, mask)  # (batch_size, input_seq_len, d_model)\n",
        "    attn_output = self.dropout1(attn_output, training=training)\n",
        "    out1 = self.layernorm1(x + attn_output)  # (batch_size, input_seq_len, d_model)\n",
        "    \n",
        "    ffn_output = self.ffn(out1)  # (batch_size, input_seq_len, d_model)\n",
        "    ffn_output = self.dropout2(ffn_output, training=training)\n",
        "    out2 = self.layernorm2(out1 + ffn_output)  # (batch_size, input_seq_len, d_model)\n",
        "    \n",
        "    return out2"
      ],
      "execution_count": 25,
      "outputs": []
    },
    {
      "cell_type": "markdown",
      "metadata": {
        "id": "6LO_48Owmx_o"
      },
      "source": [
        "### Decoder layer\n",
        "\n",
        "Each decoder layer consists of sublayers:\n",
        "\n",
        "1.   Masked multi-head attention (with look ahead mask and padding mask)\n",
        "2.   Multi-head attention (with padding mask). V (value) and K (key) receive the *encoder output* as inputs. Q (query) receives the *output from the masked multi-head attention sublayer.*\n",
        "3.   Point wise feed forward networks\n",
        "\n",
        "Each of these sublayers has a residual connection around it followed by a layer normalization. The output of each sublayer is `LayerNorm(x + Sublayer(x))`. The normalization is done on the `d_model` (last) axis.\n",
        "\n",
        "There are N decoder layers in the transformer.\n",
        "\n",
        "As Q receives the output from decoder's first attention block, and K receives the encoder output, the attention weights represent the importance given to the decoder's input based on the encoder's output. In other words, the decoder predicts the next word by looking at the encoder output and self-attending to its own output. See the demonstration above in the scaled dot product attention section."
      ]
    },
    {
      "cell_type": "code",
      "metadata": {
        "id": "9SoX0-vd1hue"
      },
      "source": [
        "class DecoderLayer(tf.keras.layers.Layer):\n",
        "  def __init__(self, d_model, num_heads, dff, rate=0.1):\n",
        "    super(DecoderLayer, self).__init__()\n",
        "\n",
        "    self.mha1 = MultiHeadAttention(d_model, num_heads)\n",
        "    self.mha2 = MultiHeadAttention(d_model, num_heads)\n",
        "\n",
        "    self.ffn = point_wise_feed_forward_network(d_model, dff)\n",
        " \n",
        "    self.layernorm1 = tf.keras.layers.LayerNormalization(epsilon=1e-6)\n",
        "    self.layernorm2 = tf.keras.layers.LayerNormalization(epsilon=1e-6)\n",
        "    self.layernorm3 = tf.keras.layers.LayerNormalization(epsilon=1e-6)\n",
        "    \n",
        "    self.dropout1 = tf.keras.layers.Dropout(rate)\n",
        "    self.dropout2 = tf.keras.layers.Dropout(rate)\n",
        "    self.dropout3 = tf.keras.layers.Dropout(rate)\n",
        "    \n",
        "    \n",
        "  def call(self, x, enc_output, training, \n",
        "           look_ahead_mask, padding_mask):\n",
        "    # enc_output.shape == (batch_size, input_seq_len, d_model)\n",
        "\n",
        "    attn1, attn_weights_block1 = self.mha1(x, x, x, look_ahead_mask)  # (batch_size, target_seq_len, d_model)\n",
        "    attn1 = self.dropout1(attn1, training=training)\n",
        "    out1 = self.layernorm1(attn1 + x)\n",
        "    \n",
        "    attn2, attn_weights_block2 = self.mha2(\n",
        "        enc_output, enc_output, out1, padding_mask)  # (batch_size, target_seq_len, d_model)\n",
        "    attn2 = self.dropout2(attn2, training=training)\n",
        "    out2 = self.layernorm2(attn2 + out1)  # (batch_size, target_seq_len, d_model)\n",
        "    \n",
        "    ffn_output = self.ffn(out2)  # (batch_size, target_seq_len, d_model)\n",
        "    ffn_output = self.dropout3(ffn_output, training=training)\n",
        "    out3 = self.layernorm3(ffn_output + out2)  # (batch_size, target_seq_len, d_model)\n",
        "    \n",
        "    return out3, attn_weights_block1, attn_weights_block2"
      ],
      "execution_count": 26,
      "outputs": []
    },
    {
      "cell_type": "markdown",
      "metadata": {
        "id": "SE1H51Ajm0q1"
      },
      "source": [
        "### Encoder\n",
        "\n",
        "The `Encoder` consists of:\n",
        "1.   Input Embedding\n",
        "2.   Positional Encoding\n",
        "3.   N encoder layers\n",
        "\n",
        "The input is put through an embedding which is summed with the positional encoding. The output of this summation is the input to the encoder layers. The output of the encoder is the input to the decoder."
      ]
    },
    {
      "cell_type": "code",
      "metadata": {
        "id": "jpEox7gJ8FCI"
      },
      "source": [
        "class Encoder(tf.keras.layers.Layer):\n",
        "  def __init__(self, num_layers, d_model, num_heads, dff, input_vocab_size,\n",
        "               maximum_position_encoding, rate=0.1):\n",
        "    super(Encoder, self).__init__()\n",
        "    self.d_model = d_model\n",
        "    self.num_layers = num_layers\n",
        "    \n",
        "    self.embedding = tf.keras.layers.Embedding(input_vocab_size, d_model)\n",
        "    self.pos_encoding = positional_encoding(maximum_position_encoding, \n",
        "                                            self.d_model)\n",
        "    \n",
        "    \n",
        "    self.enc_layers = [EncoderLayer(d_model, num_heads, dff, rate) \n",
        "                       for _ in range(num_layers)]\n",
        "  \n",
        "    self.dropout = tf.keras.layers.Dropout(rate)\n",
        "        \n",
        "  def call(self, x, training, mask):\n",
        "\n",
        "    seq_len = tf.shape(x)[1]\n",
        "    \n",
        "    # adding embedding and position encoding.\n",
        "    x = self.embedding(x)  # (batch_size, input_seq_len, d_model)\n",
        "    x *= tf.math.sqrt(tf.cast(self.d_model, tf.float32))\n",
        "    x += self.pos_encoding[:, :seq_len, :]\n",
        "\n",
        "    x = self.dropout(x, training=training)\n",
        "    \n",
        "    for i in range(self.num_layers):\n",
        "      x = self.enc_layers[i](x, training, mask)\n",
        "    \n",
        "    return x  # (batch_size, input_seq_len, d_model)"
      ],
      "execution_count": 27,
      "outputs": []
    },
    {
      "cell_type": "markdown",
      "metadata": {
        "id": "p-uO6ls8m2O5"
      },
      "source": [
        "### Decoder"
      ]
    },
    {
      "cell_type": "markdown",
      "metadata": {
        "id": "ZtT7PKzrXkNr"
      },
      "source": [
        " The `Decoder` consists of:\n",
        "1.   Output Embedding\n",
        "2.   Positional Encoding\n",
        "3.   N decoder layers\n",
        "\n",
        "The target is put through an embedding which is summed with the positional encoding. The output of this summation is the input to the decoder layers. The output of the decoder is the input to the final linear layer."
      ]
    },
    {
      "cell_type": "code",
      "metadata": {
        "id": "d5_d5-PLQXwY"
      },
      "source": [
        "class Decoder(tf.keras.layers.Layer):\n",
        "  def __init__(self, num_layers, d_model, num_heads, dff, target_vocab_size,\n",
        "               maximum_position_encoding, rate=0.1):\n",
        "    super(Decoder, self).__init__()\n",
        "\n",
        "    self.d_model = d_model\n",
        "    self.num_layers = num_layers\n",
        "    \n",
        "    self.embedding = tf.keras.layers.Embedding(target_vocab_size, d_model)\n",
        "    self.pos_encoding = positional_encoding(maximum_position_encoding, d_model)\n",
        "    \n",
        "    self.dec_layers = [DecoderLayer(d_model, num_heads, dff, rate) \n",
        "                       for _ in range(num_layers)]\n",
        "    self.dropout = tf.keras.layers.Dropout(rate)\n",
        "    \n",
        "  def call(self, x, enc_output, training, \n",
        "           look_ahead_mask, padding_mask):\n",
        "\n",
        "    seq_len = tf.shape(x)[1]\n",
        "    attention_weights = {}\n",
        "    \n",
        "    x = self.embedding(x)  # (batch_size, target_seq_len, d_model)\n",
        "    x *= tf.math.sqrt(tf.cast(self.d_model, tf.float32))\n",
        "    x += self.pos_encoding[:, :seq_len, :]\n",
        "    \n",
        "    x = self.dropout(x, training=training)\n",
        "\n",
        "    for i in range(self.num_layers):\n",
        "      x, block1, block2 = self.dec_layers[i](x, enc_output, training,\n",
        "                                             look_ahead_mask, padding_mask)\n",
        "      \n",
        "      attention_weights['decoder_layer{}_block1'.format(i+1)] = block1\n",
        "      attention_weights['decoder_layer{}_block2'.format(i+1)] = block2\n",
        "    \n",
        "    # x.shape == (batch_size, target_seq_len, d_model)\n",
        "    return x, attention_weights"
      ],
      "execution_count": 28,
      "outputs": []
    },
    {
      "cell_type": "markdown",
      "metadata": {
        "id": "y54xnJnuYgJ7"
      },
      "source": [
        "## Create the Transformer"
      ]
    },
    {
      "cell_type": "code",
      "metadata": {
        "id": "PED3bIpOYkBu"
      },
      "source": [
        "class Transformer(tf.keras.Model):\n",
        "  def __init__(self, num_layers, d_model, num_heads, dff, input_vocab_size, \n",
        "               target_vocab_size, pe_input, pe_target, rate=0.1):\n",
        "    super(Transformer, self).__init__()\n",
        "    \n",
        "    self.encoder = Encoder(num_layers, d_model, num_heads, dff, \n",
        "                           input_vocab_size, pe_input, rate)\n",
        "\n",
        "    self.decoder = Decoder(num_layers, d_model, num_heads, dff, \n",
        "                           target_vocab_size, pe_target, rate)\n",
        "\n",
        "    self.final_layer = tf.keras.layers.Dense(target_vocab_size)\n",
        "    \n",
        "  def call(self, inp, tar, training, enc_padding_mask, \n",
        "           look_ahead_mask, dec_padding_mask):\n",
        "    \n",
        "    enc_output = self.encoder(inp, training, enc_padding_mask)  # (batch_size, inp_seq_len, d_model)\n",
        "    # dec_output.shape == (batch_size, tar_seq_len, d_model)\n",
        "    dec_output, attention_weights = self.decoder(\n",
        "        tar, enc_output, training, look_ahead_mask, dec_padding_mask)\n",
        "    \n",
        "    final_output = self.final_layer(dec_output)  # (batch_size, tar_seq_len, target_vocab_size)\n",
        "    \n",
        "    return final_output, attention_weights"
      ],
      "execution_count": 29,
      "outputs": []
    },
    {
      "cell_type": "markdown",
      "metadata": {
        "id": "wsINyf1VEQLC"
      },
      "source": [
        "## Set hyperparameters"
      ]
    },
    {
      "cell_type": "code",
      "metadata": {
        "id": "lnJn5SLA2ahP"
      },
      "source": [
        "num_layers = 4\n",
        "d_model = 128\n",
        "dff = 512\n",
        "num_heads = 8\n",
        "\n",
        "input_vocab_size = tokenizer_en.vocab_size + 2\n",
        "target_vocab_size = tokenizer_vn.vocab_size + 2\n",
        "dropout_rate = 0.1"
      ],
      "execution_count": 30,
      "outputs": []
    },
    {
      "cell_type": "markdown",
      "metadata": {
        "id": "xYEGhEOtzn5W"
      },
      "source": [
        "## Optimizer"
      ]
    },
    {
      "cell_type": "markdown",
      "metadata": {
        "id": "GOmWW--yP3zx"
      },
      "source": [
        "Use the Adam optimizer with a custom learning rate scheduler according to the formula in the [paper](https://arxiv.org/abs/1706.03762).\n",
        "\n",
        "$$\\Large{lrate = d_{model}^{-0.5} * min(step{\\_}num^{-0.5}, step{\\_}num * warmup{\\_}steps^{-1.5})}$$\n"
      ]
    },
    {
      "cell_type": "code",
      "metadata": {
        "id": "iYQdOO1axwEI"
      },
      "source": [
        "class CustomSchedule(tf.keras.optimizers.schedules.LearningRateSchedule):\n",
        "  def __init__(self, d_model, warmup_steps=4000):\n",
        "    super(CustomSchedule, self).__init__()\n",
        "    \n",
        "    self.d_model = d_model\n",
        "    self.d_model = tf.cast(self.d_model, tf.float32)\n",
        "\n",
        "    self.warmup_steps = warmup_steps\n",
        "    \n",
        "  def __call__(self, step):\n",
        "    arg1 = tf.math.rsqrt(step)\n",
        "    arg2 = step * (self.warmup_steps ** -1.5)\n",
        "    \n",
        "    return tf.math.rsqrt(self.d_model) * tf.math.minimum(arg1, arg2)"
      ],
      "execution_count": 31,
      "outputs": []
    },
    {
      "cell_type": "code",
      "metadata": {
        "id": "7r4scdulztRx"
      },
      "source": [
        "learning_rate = CustomSchedule(d_model)\n",
        "\n",
        "optimizer = tf.keras.optimizers.Adam(learning_rate, beta_1=0.9, beta_2=0.98, \n",
        "                                     epsilon=1e-9)"
      ],
      "execution_count": 32,
      "outputs": []
    },
    {
      "cell_type": "markdown",
      "metadata": {
        "id": "YgkDE7hzo8r5"
      },
      "source": [
        "## Loss and metrics"
      ]
    },
    {
      "cell_type": "markdown",
      "metadata": {
        "id": "oxGJtoDuYIHL"
      },
      "source": [
        "Since the target sequences are padded, it is important to apply a padding mask when calculating the loss."
      ]
    },
    {
      "cell_type": "code",
      "metadata": {
        "id": "67oqVHiT0Eiu"
      },
      "source": [
        "def loss_function(real, pred):\n",
        "  mask = tf.math.logical_not(tf.math.equal(real, 0))\n",
        "  loss_ = loss_object(real, pred)\n",
        "\n",
        "  mask = tf.cast(mask, dtype=loss_.dtype)\n",
        "  loss_ *= mask\n",
        "  \n",
        "  return tf.reduce_sum(loss_)/tf.reduce_sum(mask)\n",
        "def accuracy_function(real, pred):\n",
        "  accuracies = tf.equal(real, tf.argmax(pred, axis=2))\n",
        "\n",
        "  mask = tf.math.logical_not(tf.math.equal(real, 0))\n",
        "  accuracies = tf.math.logical_and(mask, accuracies)\n",
        "\n",
        "  accuracies = tf.cast(accuracies, dtype=tf.float32)\n",
        "  mask = tf.cast(mask, dtype=tf.float32)\n",
        "  return tf.reduce_sum(accuracies)/tf.reduce_sum(mask)"
      ],
      "execution_count": 33,
      "outputs": []
    },
    {
      "cell_type": "code",
      "metadata": {
        "id": "phlyxMnm-Tpx"
      },
      "source": [
        "loss_object = tf.keras.losses.SparseCategoricalCrossentropy(\n",
        "    from_logits=True, reduction='none')\n",
        "train_loss = tf.keras.metrics.Mean(name='train_loss')\n",
        "train_accuracy = tf.keras.metrics.Mean(\n",
        "    name='train_accuracy')"
      ],
      "execution_count": 34,
      "outputs": []
    },
    {
      "cell_type": "markdown",
      "metadata": {
        "id": "aeHumfr7zmMa"
      },
      "source": [
        "## Training and checkpointing"
      ]
    },
    {
      "cell_type": "code",
      "metadata": {
        "id": "UiysUa--4tOU"
      },
      "source": [
        "transformer = Transformer(num_layers, d_model, num_heads, dff,\n",
        "                          input_vocab_size, target_vocab_size, \n",
        "                          pe_input=input_vocab_size, \n",
        "                          pe_target=target_vocab_size,\n",
        "                          rate=dropout_rate)"
      ],
      "execution_count": 35,
      "outputs": []
    },
    {
      "cell_type": "code",
      "metadata": {
        "id": "ZOJUSB1T8GjM"
      },
      "source": [
        "def create_masks(inp, tar):\n",
        "  # Encoder padding mask\n",
        "  enc_padding_mask = create_padding_mask(inp)\n",
        "  \n",
        "  # Used in the 2nd attention block in the decoder.\n",
        "  # This padding mask is used to mask the encoder outputs.\n",
        "  dec_padding_mask = create_padding_mask(inp)\n",
        "  \n",
        "  # Used in the 1st attention block in the decoder.\n",
        "  # It is used to pad and mask future tokens in the input received by \n",
        "  # the decoder.\n",
        "  look_ahead_mask = create_look_ahead_mask(tf.shape(tar)[1])\n",
        "  dec_target_padding_mask = create_padding_mask(tar)\n",
        "  combined_mask = tf.maximum(dec_target_padding_mask, look_ahead_mask)\n",
        "  \n",
        "  return enc_padding_mask, combined_mask, dec_padding_mask"
      ],
      "execution_count": 36,
      "outputs": []
    },
    {
      "cell_type": "markdown",
      "metadata": {
        "id": "Fzuf06YZp66w"
      },
      "source": [
        "Create the checkpoint path and the checkpoint manager. This will be used to save checkpoints every `n` epochs."
      ]
    },
    {
      "cell_type": "code",
      "metadata": {
        "id": "hNhuYfllndLZ"
      },
      "source": [
        "checkpoint_path = \"./checkpoints/train1\"\n",
        "\n",
        "ckpt = tf.train.Checkpoint(transformer=transformer,\n",
        "                           optimizer=optimizer)\n",
        "\n",
        "ckpt_manager = tf.train.CheckpointManager(ckpt, checkpoint_path, max_to_keep=5)\n",
        "\n",
        "# if a checkpoint exists, restore the latest checkpoint.\n",
        "if ckpt_manager.latest_checkpoint:\n",
        "  ckpt.restore(ckpt_manager.latest_checkpoint)\n",
        "  print ('Latest checkpoint restored!!')"
      ],
      "execution_count": 37,
      "outputs": []
    },
    {
      "cell_type": "code",
      "metadata": {
        "id": "LKpoA6q1sJFj"
      },
      "source": [
        "EPOCHS = 0"
      ],
      "execution_count": 38,
      "outputs": []
    },
    {
      "cell_type": "code",
      "metadata": {
        "id": "UWZIMEVZ8eTl"
      },
      "source": [
        "# The @tf.function trace-compiles train_step into a TF graph for faster\n",
        "# execution. The function specializes to the precise shape of the argument\n",
        "# tensors. To avoid re-tracing due to the variable sequence lengths o4/1AY0e-g5NwERYfvXHd5gYJ0PO1FU94gGYrmyMq14BU0Dlvo5oiSqu1suLElor variable\n",
        "# batch sizes (the last batch is smaller), use input_signature to specify\n",
        "# more generic shapes.\n",
        "\n",
        "train_step_signature = [\n",
        "    tf.TensorSpec(shape=(None, None), dtype=tf.int64),\n",
        "    tf.TensorSpec(shape=(None, None), dtype=tf.int64),\n",
        "]\n",
        "\n",
        "# @tf.function(input_signature=train_step_signature)\n",
        "def train_step(inp, tar):\n",
        "  # print('inner train')\n",
        "  tar_inp = tar[:, :-1]\n",
        "  tar_real = tar[:, 1:]\n",
        "  \n",
        "  enc_padding_mask, combined_mask, dec_padding_mask = create_masks(inp, tar_inp)\n",
        "  \n",
        "  with tf.GradientTape() as tape:\n",
        "    # print('---------------------------------')\n",
        "    predictions, _ = transformer(inp, tar_inp, \n",
        "                                 True, \n",
        "                                 enc_padding_mask, \n",
        "                                 combined_mask, \n",
        "                                 dec_padding_mask)\n",
        "    loss = loss_function(tar_real, predictions)\n",
        "\n",
        "  gradients = tape.gradient(loss, transformer.trainable_variables)    \n",
        "  optimizer.apply_gradients(zip(gradients, transformer.trainable_variables))\n",
        "  \n",
        "  train_loss(loss)\n",
        "  train_accuracy(accuracy_function(tar_real, predictions))"
      ],
      "execution_count": 39,
      "outputs": []
    },
    {
      "cell_type": "code",
      "metadata": {
        "id": "H315b1hp8e9D",
        "outputId": "5d14aa25-97fe-4d05-b131-6028e651ee1c",
        "colab": {
          "base_uri": "https://localhost:8080/"
        }
      },
      "source": [
        "EPOCHS = 200\n",
        "for epoch in range(EPOCHS):\n",
        "  start = time.time()\n",
        "  \n",
        "  train_loss.reset_states()\n",
        "  train_accuracy.reset_states()\n",
        "  \n",
        "  # inp -> en, tar -> vn\n",
        "  for (batch, (inp, tar)) in enumerate(train_dataset):\n",
        "    train_step(inp, tar)\n",
        "    \n",
        "    if batch % 50 == 0:\n",
        "      print ('Epoch {} Batch {} Loss {:.4f} Accuracy {:.4f}'.format(\n",
        "          epoch + 1, batch, train_loss.result(), train_accuracy.result()))\n",
        "      \n",
        "  if (epoch + 1) % 5 == 0:\n",
        "    ckpt_save_path = ckpt_manager.save()\n",
        "    print ('Saving checkpoint for epoch {} at {}'.format(epoch+1,\n",
        "                                                         ckpt_save_path))\n",
        "    \n",
        "  print ('Epoch {} Loss {:.4f} Accuracy {:.4f}'.format(epoch + 1, \n",
        "                                                train_loss.result(), \n",
        "                                                train_accuracy.result()))\n",
        "\n",
        "  print ('Time taken for 1 epoch: {} secs\\n'.format(time.time() - start))"
      ],
      "execution_count": 40,
      "outputs": [
        {
          "output_type": "stream",
          "text": [
            "Epoch 1 Batch 0 Loss 8.8403 Accuracy 0.0003\n",
            "Epoch 1 Loss 8.7799 Accuracy 0.0012\n",
            "Time taken for 1 epoch: 14.895096778869629 secs\n",
            "\n",
            "Epoch 2 Batch 0 Loss 8.6460 Accuracy 0.0098\n",
            "Epoch 2 Loss 8.4982 Accuracy 0.0764\n",
            "Time taken for 1 epoch: 10.817906856536865 secs\n",
            "\n",
            "Epoch 3 Batch 0 Loss 8.3478 Accuracy 0.1450\n",
            "Epoch 3 Loss 8.2209 Accuracy 0.1436\n",
            "Time taken for 1 epoch: 11.024872303009033 secs\n",
            "\n",
            "Epoch 4 Batch 0 Loss 8.0776 Accuracy 0.1469\n",
            "Epoch 4 Loss 7.9281 Accuracy 0.1441\n",
            "Time taken for 1 epoch: 10.94906735420227 secs\n",
            "\n",
            "Epoch 5 Batch 0 Loss 7.7542 Accuracy 0.1438\n",
            "Saving checkpoint for epoch 5 at ./checkpoints/train1/ckpt-1\n",
            "Epoch 5 Loss 7.5550 Accuracy 0.1440\n",
            "Time taken for 1 epoch: 11.120518684387207 secs\n",
            "\n",
            "Epoch 6 Batch 0 Loss 7.3285 Accuracy 0.1440\n",
            "Epoch 6 Loss 7.0831 Accuracy 0.1441\n",
            "Time taken for 1 epoch: 11.207841396331787 secs\n",
            "\n",
            "Epoch 7 Batch 0 Loss 6.8023 Accuracy 0.1457\n",
            "Epoch 7 Loss 6.5230 Accuracy 0.1440\n",
            "Time taken for 1 epoch: 10.90073847770691 secs\n",
            "\n",
            "Epoch 8 Batch 0 Loss 6.2044 Accuracy 0.1418\n",
            "Epoch 8 Loss 5.8907 Accuracy 0.1442\n",
            "Time taken for 1 epoch: 11.055084228515625 secs\n",
            "\n",
            "Epoch 9 Batch 0 Loss 5.5501 Accuracy 0.1453\n",
            "Epoch 9 Loss 5.2327 Accuracy 0.1510\n",
            "Time taken for 1 epoch: 10.96349549293518 secs\n",
            "\n",
            "Epoch 10 Batch 0 Loss 4.9059 Accuracy 0.1752\n",
            "Saving checkpoint for epoch 10 at ./checkpoints/train1/ckpt-2\n",
            "Epoch 10 Loss 4.6223 Accuracy 0.1857\n",
            "Time taken for 1 epoch: 11.19552493095398 secs\n",
            "\n",
            "Epoch 11 Batch 0 Loss 4.3245 Accuracy 0.1950\n",
            "Epoch 11 Loss 4.1098 Accuracy 0.2001\n",
            "Time taken for 1 epoch: 10.91055965423584 secs\n",
            "\n",
            "Epoch 12 Batch 0 Loss 3.8795 Accuracy 0.2088\n",
            "Epoch 12 Loss 3.7004 Accuracy 0.2302\n",
            "Time taken for 1 epoch: 10.879000663757324 secs\n",
            "\n",
            "Epoch 13 Batch 0 Loss 3.5850 Accuracy 0.2414\n",
            "Epoch 13 Loss 3.3557 Accuracy 0.2988\n",
            "Time taken for 1 epoch: 10.822674751281738 secs\n",
            "\n",
            "Epoch 14 Batch 0 Loss 3.1834 Accuracy 0.3592\n",
            "Epoch 14 Loss 3.0401 Accuracy 0.3638\n",
            "Time taken for 1 epoch: 11.118932723999023 secs\n",
            "\n",
            "Epoch 15 Batch 0 Loss 2.8790 Accuracy 0.3827\n",
            "Saving checkpoint for epoch 15 at ./checkpoints/train1/ckpt-3\n",
            "Epoch 15 Loss 2.7401 Accuracy 0.3921\n",
            "Time taken for 1 epoch: 11.442570209503174 secs\n",
            "\n",
            "Epoch 16 Batch 0 Loss 2.6296 Accuracy 0.3910\n",
            "Epoch 16 Loss 2.4662 Accuracy 0.4119\n",
            "Time taken for 1 epoch: 11.046864748001099 secs\n",
            "\n",
            "Epoch 17 Batch 0 Loss 2.3262 Accuracy 0.4285\n",
            "Epoch 17 Loss 2.2398 Accuracy 0.4243\n",
            "Time taken for 1 epoch: 11.094889163970947 secs\n",
            "\n",
            "Epoch 18 Batch 0 Loss 2.1654 Accuracy 0.4230\n",
            "Epoch 18 Loss 2.0615 Accuracy 0.4351\n",
            "Time taken for 1 epoch: 11.143800020217896 secs\n",
            "\n",
            "Epoch 19 Batch 0 Loss 1.9839 Accuracy 0.4417\n",
            "Epoch 19 Loss 1.9286 Accuracy 0.4478\n",
            "Time taken for 1 epoch: 10.998929262161255 secs\n",
            "\n",
            "Epoch 20 Batch 0 Loss 1.8987 Accuracy 0.4480\n",
            "Saving checkpoint for epoch 20 at ./checkpoints/train1/ckpt-4\n",
            "Epoch 20 Loss 1.8335 Accuracy 0.4578\n",
            "Time taken for 1 epoch: 11.19531774520874 secs\n",
            "\n",
            "Epoch 21 Batch 0 Loss 1.7685 Accuracy 0.4658\n",
            "Epoch 21 Loss 1.7575 Accuracy 0.4698\n",
            "Time taken for 1 epoch: 11.013421535491943 secs\n",
            "\n",
            "Epoch 22 Batch 0 Loss 1.7117 Accuracy 0.4720\n",
            "Epoch 22 Loss 1.6960 Accuracy 0.4803\n",
            "Time taken for 1 epoch: 10.95941424369812 secs\n",
            "\n",
            "Epoch 23 Batch 0 Loss 1.6689 Accuracy 0.4909\n",
            "Epoch 23 Loss 1.6446 Accuracy 0.4902\n",
            "Time taken for 1 epoch: 10.724063873291016 secs\n",
            "\n",
            "Epoch 24 Batch 0 Loss 1.6407 Accuracy 0.4830\n",
            "Epoch 24 Loss 1.6013 Accuracy 0.5004\n",
            "Time taken for 1 epoch: 10.914645433425903 secs\n",
            "\n",
            "Epoch 25 Batch 0 Loss 1.5415 Accuracy 0.5175\n",
            "Saving checkpoint for epoch 25 at ./checkpoints/train1/ckpt-5\n",
            "Epoch 25 Loss 1.5606 Accuracy 0.5103\n",
            "Time taken for 1 epoch: 11.215505838394165 secs\n",
            "\n",
            "Epoch 26 Batch 0 Loss 1.5607 Accuracy 0.5065\n",
            "Epoch 26 Loss 1.5256 Accuracy 0.5179\n",
            "Time taken for 1 epoch: 10.925386667251587 secs\n",
            "\n",
            "Epoch 27 Batch 0 Loss 1.5194 Accuracy 0.5312\n",
            "Epoch 27 Loss 1.4902 Accuracy 0.5275\n",
            "Time taken for 1 epoch: 11.03722071647644 secs\n",
            "\n",
            "Epoch 28 Batch 0 Loss 1.4448 Accuracy 0.5346\n",
            "Epoch 28 Loss 1.4590 Accuracy 0.5364\n",
            "Time taken for 1 epoch: 10.971632480621338 secs\n",
            "\n",
            "Epoch 29 Batch 0 Loss 1.4364 Accuracy 0.5519\n",
            "Epoch 29 Loss 1.4278 Accuracy 0.5456\n",
            "Time taken for 1 epoch: 10.928820610046387 secs\n",
            "\n",
            "Epoch 30 Batch 0 Loss 1.3935 Accuracy 0.5615\n",
            "Saving checkpoint for epoch 30 at ./checkpoints/train1/ckpt-6\n",
            "Epoch 30 Loss 1.4047 Accuracy 0.5517\n",
            "Time taken for 1 epoch: 11.328025341033936 secs\n",
            "\n",
            "Epoch 31 Batch 0 Loss 1.3672 Accuracy 0.5678\n",
            "Epoch 31 Loss 1.3780 Accuracy 0.5602\n",
            "Time taken for 1 epoch: 11.218001365661621 secs\n",
            "\n",
            "Epoch 32 Batch 0 Loss 1.3868 Accuracy 0.5503\n",
            "Epoch 32 Loss 1.3473 Accuracy 0.5708\n",
            "Time taken for 1 epoch: 11.038716554641724 secs\n",
            "\n",
            "Epoch 33 Batch 0 Loss 1.3204 Accuracy 0.5800\n",
            "Epoch 33 Loss 1.3183 Accuracy 0.5796\n",
            "Time taken for 1 epoch: 10.910989761352539 secs\n",
            "\n",
            "Epoch 34 Batch 0 Loss 1.3069 Accuracy 0.5809\n",
            "Epoch 34 Loss 1.2907 Accuracy 0.5871\n",
            "Time taken for 1 epoch: 10.89022421836853 secs\n",
            "\n",
            "Epoch 35 Batch 0 Loss 1.2539 Accuracy 0.5989\n",
            "Saving checkpoint for epoch 35 at ./checkpoints/train1/ckpt-7\n",
            "Epoch 35 Loss 1.2686 Accuracy 0.5933\n",
            "Time taken for 1 epoch: 11.144020318984985 secs\n",
            "\n",
            "Epoch 36 Batch 0 Loss 1.3164 Accuracy 0.5701\n",
            "Epoch 36 Loss 1.2439 Accuracy 0.6019\n",
            "Time taken for 1 epoch: 10.962680339813232 secs\n",
            "\n",
            "Epoch 37 Batch 0 Loss 1.2388 Accuracy 0.6040\n",
            "Epoch 37 Loss 1.2186 Accuracy 0.6105\n",
            "Time taken for 1 epoch: 10.855193614959717 secs\n",
            "\n",
            "Epoch 38 Batch 0 Loss 1.1669 Accuracy 0.6214\n",
            "Epoch 38 Loss 1.1979 Accuracy 0.6157\n",
            "Time taken for 1 epoch: 10.958400249481201 secs\n",
            "\n",
            "Epoch 39 Batch 0 Loss 1.1724 Accuracy 0.6259\n",
            "Epoch 39 Loss 1.1687 Accuracy 0.6255\n",
            "Time taken for 1 epoch: 11.13713002204895 secs\n",
            "\n",
            "Epoch 40 Batch 0 Loss 1.0795 Accuracy 0.6477\n",
            "Saving checkpoint for epoch 40 at ./checkpoints/train1/ckpt-8\n",
            "Epoch 40 Loss 1.1501 Accuracy 0.6296\n",
            "Time taken for 1 epoch: 11.173927307128906 secs\n",
            "\n",
            "Epoch 41 Batch 0 Loss 1.2024 Accuracy 0.6210\n",
            "Epoch 41 Loss 1.1321 Accuracy 0.6376\n",
            "Time taken for 1 epoch: 10.89570665359497 secs\n",
            "\n",
            "Epoch 42 Batch 0 Loss 1.0810 Accuracy 0.6540\n",
            "Epoch 42 Loss 1.1103 Accuracy 0.6436\n",
            "Time taken for 1 epoch: 10.794702768325806 secs\n",
            "\n",
            "Epoch 43 Batch 0 Loss 1.0810 Accuracy 0.6479\n",
            "Epoch 43 Loss 1.0916 Accuracy 0.6483\n",
            "Time taken for 1 epoch: 11.079543113708496 secs\n",
            "\n",
            "Epoch 44 Batch 0 Loss 1.0450 Accuracy 0.6607\n",
            "Epoch 44 Loss 1.0702 Accuracy 0.6565\n",
            "Time taken for 1 epoch: 10.963871240615845 secs\n",
            "\n",
            "Epoch 45 Batch 0 Loss 1.0565 Accuracy 0.6550\n",
            "Saving checkpoint for epoch 45 at ./checkpoints/train1/ckpt-9\n",
            "Epoch 45 Loss 1.0537 Accuracy 0.6603\n",
            "Time taken for 1 epoch: 11.552918910980225 secs\n",
            "\n",
            "Epoch 46 Batch 0 Loss 1.0507 Accuracy 0.6646\n",
            "Epoch 46 Loss 1.0339 Accuracy 0.6667\n",
            "Time taken for 1 epoch: 11.136128902435303 secs\n",
            "\n",
            "Epoch 47 Batch 0 Loss 1.0406 Accuracy 0.6674\n",
            "Epoch 47 Loss 1.0178 Accuracy 0.6730\n",
            "Time taken for 1 epoch: 11.156644344329834 secs\n",
            "\n",
            "Epoch 48 Batch 0 Loss 1.0087 Accuracy 0.6730\n",
            "Epoch 48 Loss 1.0023 Accuracy 0.6764\n",
            "Time taken for 1 epoch: 11.003163576126099 secs\n",
            "\n",
            "Epoch 49 Batch 0 Loss 1.0449 Accuracy 0.6635\n",
            "Epoch 49 Loss 0.9853 Accuracy 0.6812\n",
            "Time taken for 1 epoch: 11.028508424758911 secs\n",
            "\n",
            "Epoch 50 Batch 0 Loss 0.9561 Accuracy 0.6944\n",
            "Saving checkpoint for epoch 50 at ./checkpoints/train1/ckpt-10\n",
            "Epoch 50 Loss 0.9691 Accuracy 0.6874\n",
            "Time taken for 1 epoch: 11.212075471878052 secs\n",
            "\n",
            "Epoch 51 Batch 0 Loss 0.8395 Accuracy 0.7288\n",
            "Epoch 51 Loss 0.9536 Accuracy 0.6925\n",
            "Time taken for 1 epoch: 10.829628944396973 secs\n",
            "\n",
            "Epoch 52 Batch 0 Loss 0.9183 Accuracy 0.7027\n",
            "Epoch 52 Loss 0.9364 Accuracy 0.6963\n",
            "Time taken for 1 epoch: 10.917294979095459 secs\n",
            "\n",
            "Epoch 53 Batch 0 Loss 0.9081 Accuracy 0.7125\n",
            "Epoch 53 Loss 0.9223 Accuracy 0.7017\n",
            "Time taken for 1 epoch: 10.946324825286865 secs\n",
            "\n",
            "Epoch 54 Batch 0 Loss 0.8375 Accuracy 0.7311\n",
            "Epoch 54 Loss 0.9081 Accuracy 0.7064\n",
            "Time taken for 1 epoch: 11.006640672683716 secs\n",
            "\n",
            "Epoch 55 Batch 0 Loss 0.8263 Accuracy 0.7345\n",
            "Saving checkpoint for epoch 55 at ./checkpoints/train1/ckpt-11\n",
            "Epoch 55 Loss 0.8909 Accuracy 0.7117\n",
            "Time taken for 1 epoch: 11.288648128509521 secs\n",
            "\n",
            "Epoch 56 Batch 0 Loss 0.8680 Accuracy 0.7187\n",
            "Epoch 56 Loss 0.8758 Accuracy 0.7156\n",
            "Time taken for 1 epoch: 10.731979131698608 secs\n",
            "\n",
            "Epoch 57 Batch 0 Loss 0.8161 Accuracy 0.7282\n",
            "Epoch 57 Loss 0.8628 Accuracy 0.7189\n",
            "Time taken for 1 epoch: 10.804841756820679 secs\n",
            "\n",
            "Epoch 58 Batch 0 Loss 0.8178 Accuracy 0.7380\n",
            "Epoch 58 Loss 0.8477 Accuracy 0.7239\n",
            "Time taken for 1 epoch: 10.958762884140015 secs\n",
            "\n",
            "Epoch 59 Batch 0 Loss 0.8243 Accuracy 0.7317\n",
            "Epoch 59 Loss 0.8365 Accuracy 0.7283\n",
            "Time taken for 1 epoch: 11.051390409469604 secs\n",
            "\n",
            "Epoch 60 Batch 0 Loss 0.8030 Accuracy 0.7432\n",
            "Saving checkpoint for epoch 60 at ./checkpoints/train1/ckpt-12\n",
            "Epoch 60 Loss 0.8192 Accuracy 0.7345\n",
            "Time taken for 1 epoch: 11.472478151321411 secs\n",
            "\n",
            "Epoch 61 Batch 0 Loss 0.7502 Accuracy 0.7550\n",
            "Epoch 61 Loss 0.8070 Accuracy 0.7379\n",
            "Time taken for 1 epoch: 11.089296340942383 secs\n",
            "\n",
            "Epoch 62 Batch 0 Loss 0.8098 Accuracy 0.7349\n",
            "Epoch 62 Loss 0.7973 Accuracy 0.7405\n",
            "Time taken for 1 epoch: 11.009462118148804 secs\n",
            "\n",
            "Epoch 63 Batch 0 Loss 0.7914 Accuracy 0.7373\n",
            "Epoch 63 Loss 0.7836 Accuracy 0.7433\n",
            "Time taken for 1 epoch: 11.00521206855774 secs\n",
            "\n",
            "Epoch 64 Batch 0 Loss 0.6901 Accuracy 0.7758\n",
            "Epoch 64 Loss 0.7601 Accuracy 0.7515\n",
            "Time taken for 1 epoch: 11.14414358139038 secs\n",
            "\n",
            "Epoch 65 Batch 0 Loss 0.7703 Accuracy 0.7501\n",
            "Saving checkpoint for epoch 65 at ./checkpoints/train1/ckpt-13\n",
            "Epoch 65 Loss 0.7477 Accuracy 0.7550\n",
            "Time taken for 1 epoch: 11.237721920013428 secs\n",
            "\n",
            "Epoch 66 Batch 0 Loss 0.7454 Accuracy 0.7555\n",
            "Epoch 66 Loss 0.7442 Accuracy 0.7563\n",
            "Time taken for 1 epoch: 10.910070180892944 secs\n",
            "\n",
            "Epoch 67 Batch 0 Loss 0.6877 Accuracy 0.7728\n",
            "Epoch 67 Loss 0.7376 Accuracy 0.7584\n",
            "Time taken for 1 epoch: 11.054227590560913 secs\n",
            "\n",
            "Epoch 68 Batch 0 Loss 0.7422 Accuracy 0.7592\n",
            "Epoch 68 Loss 0.7186 Accuracy 0.7639\n",
            "Time taken for 1 epoch: 10.864299535751343 secs\n",
            "\n",
            "Epoch 69 Batch 0 Loss 0.6462 Accuracy 0.7833\n",
            "Epoch 69 Loss 0.7025 Accuracy 0.7695\n",
            "Time taken for 1 epoch: 11.054389715194702 secs\n",
            "\n",
            "Epoch 70 Batch 0 Loss 0.7240 Accuracy 0.7673\n",
            "Saving checkpoint for epoch 70 at ./checkpoints/train1/ckpt-14\n",
            "Epoch 70 Loss 0.6946 Accuracy 0.7713\n",
            "Time taken for 1 epoch: 11.235840559005737 secs\n",
            "\n",
            "Epoch 71 Batch 0 Loss 0.6436 Accuracy 0.7860\n",
            "Epoch 71 Loss 0.6802 Accuracy 0.7766\n",
            "Time taken for 1 epoch: 10.85270380973816 secs\n",
            "\n",
            "Epoch 72 Batch 0 Loss 0.6835 Accuracy 0.7783\n",
            "Epoch 72 Loss 0.6690 Accuracy 0.7789\n",
            "Time taken for 1 epoch: 10.969654560089111 secs\n",
            "\n",
            "Epoch 73 Batch 0 Loss 0.6728 Accuracy 0.7751\n",
            "Epoch 73 Loss 0.6575 Accuracy 0.7825\n",
            "Time taken for 1 epoch: 10.740336179733276 secs\n",
            "\n",
            "Epoch 74 Batch 0 Loss 0.6030 Accuracy 0.7993\n",
            "Epoch 74 Loss 0.6442 Accuracy 0.7875\n",
            "Time taken for 1 epoch: 11.010009288787842 secs\n",
            "\n",
            "Epoch 75 Batch 0 Loss 0.6116 Accuracy 0.8031\n",
            "Saving checkpoint for epoch 75 at ./checkpoints/train1/ckpt-15\n",
            "Epoch 75 Loss 0.6378 Accuracy 0.7882\n",
            "Time taken for 1 epoch: 11.280194997787476 secs\n",
            "\n",
            "Epoch 76 Batch 0 Loss 0.6148 Accuracy 0.7849\n",
            "Epoch 76 Loss 0.6199 Accuracy 0.7939\n",
            "Time taken for 1 epoch: 10.929390907287598 secs\n",
            "\n",
            "Epoch 77 Batch 0 Loss 0.6182 Accuracy 0.7942\n",
            "Epoch 77 Loss 0.6085 Accuracy 0.7985\n",
            "Time taken for 1 epoch: 10.961936950683594 secs\n",
            "\n",
            "Epoch 78 Batch 0 Loss 0.6086 Accuracy 0.7970\n",
            "Epoch 78 Loss 0.6019 Accuracy 0.8001\n",
            "Time taken for 1 epoch: 10.757850885391235 secs\n",
            "\n",
            "Epoch 79 Batch 0 Loss 0.5996 Accuracy 0.8011\n",
            "Epoch 79 Loss 0.5887 Accuracy 0.8040\n",
            "Time taken for 1 epoch: 10.818501949310303 secs\n",
            "\n",
            "Epoch 80 Batch 0 Loss 0.6066 Accuracy 0.8019\n",
            "Saving checkpoint for epoch 80 at ./checkpoints/train1/ckpt-16\n",
            "Epoch 80 Loss 0.5837 Accuracy 0.8064\n",
            "Time taken for 1 epoch: 11.242710828781128 secs\n",
            "\n",
            "Epoch 81 Batch 0 Loss 0.6034 Accuracy 0.8007\n",
            "Epoch 81 Loss 0.5699 Accuracy 0.8105\n",
            "Time taken for 1 epoch: 10.926235914230347 secs\n",
            "\n",
            "Epoch 82 Batch 0 Loss 0.5530 Accuracy 0.8141\n",
            "Epoch 82 Loss 0.5613 Accuracy 0.8131\n",
            "Time taken for 1 epoch: 11.071836471557617 secs\n",
            "\n",
            "Epoch 83 Batch 0 Loss 0.5161 Accuracy 0.8324\n",
            "Epoch 83 Loss 0.5596 Accuracy 0.8132\n",
            "Time taken for 1 epoch: 11.147930145263672 secs\n",
            "\n",
            "Epoch 84 Batch 0 Loss 0.5091 Accuracy 0.8288\n",
            "Epoch 84 Loss 0.5412 Accuracy 0.8194\n",
            "Time taken for 1 epoch: 11.01039171218872 secs\n",
            "\n",
            "Epoch 85 Batch 0 Loss 0.5011 Accuracy 0.8265\n",
            "Saving checkpoint for epoch 85 at ./checkpoints/train1/ckpt-17\n",
            "Epoch 85 Loss 0.5339 Accuracy 0.8209\n",
            "Time taken for 1 epoch: 11.195326566696167 secs\n",
            "\n",
            "Epoch 86 Batch 0 Loss 0.5156 Accuracy 0.8283\n",
            "Epoch 86 Loss 0.5193 Accuracy 0.8274\n",
            "Time taken for 1 epoch: 11.00606083869934 secs\n",
            "\n",
            "Epoch 87 Batch 0 Loss 0.4956 Accuracy 0.8362\n",
            "Epoch 87 Loss 0.5109 Accuracy 0.8285\n",
            "Time taken for 1 epoch: 10.879891872406006 secs\n",
            "\n",
            "Epoch 88 Batch 0 Loss 0.5818 Accuracy 0.8031\n",
            "Epoch 88 Loss 0.5052 Accuracy 0.8296\n",
            "Time taken for 1 epoch: 10.970746517181396 secs\n",
            "\n",
            "Epoch 89 Batch 0 Loss 0.4769 Accuracy 0.8388\n",
            "Epoch 89 Loss 0.5020 Accuracy 0.8312\n",
            "Time taken for 1 epoch: 10.888362884521484 secs\n",
            "\n",
            "Epoch 90 Batch 0 Loss 0.4169 Accuracy 0.8621\n",
            "Saving checkpoint for epoch 90 at ./checkpoints/train1/ckpt-18\n",
            "Epoch 90 Loss 0.4944 Accuracy 0.8333\n",
            "Time taken for 1 epoch: 11.300596237182617 secs\n",
            "\n",
            "Epoch 91 Batch 0 Loss 0.5270 Accuracy 0.8259\n",
            "Epoch 91 Loss 0.4771 Accuracy 0.8396\n",
            "Time taken for 1 epoch: 11.133239030838013 secs\n",
            "\n",
            "Epoch 92 Batch 0 Loss 0.4078 Accuracy 0.8587\n",
            "Epoch 92 Loss 0.4726 Accuracy 0.8399\n",
            "Time taken for 1 epoch: 10.795897006988525 secs\n",
            "\n",
            "Epoch 93 Batch 0 Loss 0.4415 Accuracy 0.8534\n",
            "Epoch 93 Loss 0.4624 Accuracy 0.8439\n",
            "Time taken for 1 epoch: 10.904139041900635 secs\n",
            "\n",
            "Epoch 94 Batch 0 Loss 0.4651 Accuracy 0.8432\n",
            "Epoch 94 Loss 0.4547 Accuracy 0.8460\n",
            "Time taken for 1 epoch: 10.827132225036621 secs\n",
            "\n",
            "Epoch 95 Batch 0 Loss 0.4229 Accuracy 0.8541\n",
            "Saving checkpoint for epoch 95 at ./checkpoints/train1/ckpt-19\n",
            "Epoch 95 Loss 0.4431 Accuracy 0.8486\n",
            "Time taken for 1 epoch: 11.246583461761475 secs\n",
            "\n",
            "Epoch 96 Batch 0 Loss 0.4267 Accuracy 0.8528\n",
            "Epoch 96 Loss 0.4386 Accuracy 0.8504\n",
            "Time taken for 1 epoch: 10.784687280654907 secs\n",
            "\n",
            "Epoch 97 Batch 0 Loss 0.4177 Accuracy 0.8587\n",
            "Epoch 97 Loss 0.4367 Accuracy 0.8516\n",
            "Time taken for 1 epoch: 10.882168769836426 secs\n",
            "\n",
            "Epoch 98 Batch 0 Loss 0.3930 Accuracy 0.8661\n",
            "Epoch 98 Loss 0.4281 Accuracy 0.8542\n",
            "Time taken for 1 epoch: 10.994129419326782 secs\n",
            "\n",
            "Epoch 99 Batch 0 Loss 0.4260 Accuracy 0.8534\n",
            "Epoch 99 Loss 0.4168 Accuracy 0.8574\n",
            "Time taken for 1 epoch: 10.828502416610718 secs\n",
            "\n",
            "Epoch 100 Batch 0 Loss 0.3946 Accuracy 0.8701\n",
            "Saving checkpoint for epoch 100 at ./checkpoints/train1/ckpt-20\n",
            "Epoch 100 Loss 0.4139 Accuracy 0.8585\n",
            "Time taken for 1 epoch: 10.950884819030762 secs\n",
            "\n",
            "Epoch 101 Batch 0 Loss 0.4018 Accuracy 0.8611\n",
            "Epoch 101 Loss 0.4100 Accuracy 0.8600\n",
            "Time taken for 1 epoch: 11.02244257926941 secs\n",
            "\n",
            "Epoch 102 Batch 0 Loss 0.3379 Accuracy 0.8814\n",
            "Epoch 102 Loss 0.4076 Accuracy 0.8606\n",
            "Time taken for 1 epoch: 11.082957744598389 secs\n",
            "\n",
            "Epoch 103 Batch 0 Loss 0.3594 Accuracy 0.8755\n",
            "Epoch 103 Loss 0.3923 Accuracy 0.8660\n",
            "Time taken for 1 epoch: 11.071168422698975 secs\n",
            "\n",
            "Epoch 104 Batch 0 Loss 0.3477 Accuracy 0.8765\n",
            "Epoch 104 Loss 0.3882 Accuracy 0.8661\n",
            "Time taken for 1 epoch: 11.123575448989868 secs\n",
            "\n",
            "Epoch 105 Batch 0 Loss 0.3511 Accuracy 0.8809\n",
            "Saving checkpoint for epoch 105 at ./checkpoints/train1/ckpt-21\n",
            "Epoch 105 Loss 0.3829 Accuracy 0.8691\n",
            "Time taken for 1 epoch: 11.47917652130127 secs\n",
            "\n",
            "Epoch 106 Batch 0 Loss 0.3986 Accuracy 0.8654\n",
            "Epoch 106 Loss 0.3739 Accuracy 0.8721\n",
            "Time taken for 1 epoch: 10.908019065856934 secs\n",
            "\n",
            "Epoch 107 Batch 0 Loss 0.3605 Accuracy 0.8750\n",
            "Epoch 107 Loss 0.3722 Accuracy 0.8724\n",
            "Time taken for 1 epoch: 11.004301309585571 secs\n",
            "\n",
            "Epoch 108 Batch 0 Loss 0.3308 Accuracy 0.8880\n",
            "Epoch 108 Loss 0.3667 Accuracy 0.8727\n",
            "Time taken for 1 epoch: 11.055532455444336 secs\n",
            "\n",
            "Epoch 109 Batch 0 Loss 0.3277 Accuracy 0.8876\n",
            "Epoch 109 Loss 0.3653 Accuracy 0.8748\n",
            "Time taken for 1 epoch: 11.047669172286987 secs\n",
            "\n",
            "Epoch 110 Batch 0 Loss 0.3102 Accuracy 0.8919\n",
            "Saving checkpoint for epoch 110 at ./checkpoints/train1/ckpt-22\n",
            "Epoch 110 Loss 0.3548 Accuracy 0.8790\n",
            "Time taken for 1 epoch: 11.147003173828125 secs\n",
            "\n",
            "Epoch 111 Batch 0 Loss 0.3593 Accuracy 0.8763\n",
            "Epoch 111 Loss 0.3509 Accuracy 0.8789\n",
            "Time taken for 1 epoch: 10.83386492729187 secs\n",
            "\n",
            "Epoch 112 Batch 0 Loss 0.3484 Accuracy 0.8800\n",
            "Epoch 112 Loss 0.3467 Accuracy 0.8807\n",
            "Time taken for 1 epoch: 11.005417346954346 secs\n",
            "\n",
            "Epoch 113 Batch 0 Loss 0.2725 Accuracy 0.9076\n",
            "Epoch 113 Loss 0.3463 Accuracy 0.8809\n",
            "Time taken for 1 epoch: 10.980613470077515 secs\n",
            "\n",
            "Epoch 114 Batch 0 Loss 0.3104 Accuracy 0.8935\n",
            "Epoch 114 Loss 0.3481 Accuracy 0.8806\n",
            "Time taken for 1 epoch: 10.841127872467041 secs\n",
            "\n",
            "Epoch 115 Batch 0 Loss 0.3461 Accuracy 0.8798\n",
            "Saving checkpoint for epoch 115 at ./checkpoints/train1/ckpt-23\n",
            "Epoch 115 Loss 0.3378 Accuracy 0.8831\n",
            "Time taken for 1 epoch: 11.167302131652832 secs\n",
            "\n",
            "Epoch 116 Batch 0 Loss 0.2947 Accuracy 0.9004\n",
            "Epoch 116 Loss 0.3328 Accuracy 0.8860\n",
            "Time taken for 1 epoch: 11.062881469726562 secs\n",
            "\n",
            "Epoch 117 Batch 0 Loss 0.2975 Accuracy 0.8975\n",
            "Epoch 117 Loss 0.3249 Accuracy 0.8883\n",
            "Time taken for 1 epoch: 10.707277059555054 secs\n",
            "\n",
            "Epoch 118 Batch 0 Loss 0.3046 Accuracy 0.8885\n",
            "Epoch 118 Loss 0.3272 Accuracy 0.8864\n",
            "Time taken for 1 epoch: 10.929847955703735 secs\n",
            "\n",
            "Epoch 119 Batch 0 Loss 0.2979 Accuracy 0.9002\n",
            "Epoch 119 Loss 0.3136 Accuracy 0.8914\n",
            "Time taken for 1 epoch: 10.902621984481812 secs\n",
            "\n",
            "Epoch 120 Batch 0 Loss 0.2697 Accuracy 0.9069\n",
            "Saving checkpoint for epoch 120 at ./checkpoints/train1/ckpt-24\n",
            "Epoch 120 Loss 0.3127 Accuracy 0.8923\n",
            "Time taken for 1 epoch: 11.471275568008423 secs\n",
            "\n",
            "Epoch 121 Batch 0 Loss 0.3147 Accuracy 0.8894\n",
            "Epoch 121 Loss 0.3128 Accuracy 0.8917\n",
            "Time taken for 1 epoch: 10.878512859344482 secs\n",
            "\n",
            "Epoch 122 Batch 0 Loss 0.3095 Accuracy 0.8941\n",
            "Epoch 122 Loss 0.3096 Accuracy 0.8924\n",
            "Time taken for 1 epoch: 10.936734676361084 secs\n",
            "\n",
            "Epoch 123 Batch 0 Loss 0.2971 Accuracy 0.8927\n",
            "Epoch 123 Loss 0.3022 Accuracy 0.8947\n",
            "Time taken for 1 epoch: 10.956163167953491 secs\n",
            "\n",
            "Epoch 124 Batch 0 Loss 0.2771 Accuracy 0.9025\n",
            "Epoch 124 Loss 0.2972 Accuracy 0.8965\n",
            "Time taken for 1 epoch: 10.835177659988403 secs\n",
            "\n",
            "Epoch 125 Batch 0 Loss 0.2354 Accuracy 0.9182\n",
            "Saving checkpoint for epoch 125 at ./checkpoints/train1/ckpt-25\n",
            "Epoch 125 Loss 0.2977 Accuracy 0.8969\n",
            "Time taken for 1 epoch: 11.102234125137329 secs\n",
            "\n",
            "Epoch 126 Batch 0 Loss 0.2419 Accuracy 0.9197\n",
            "Epoch 126 Loss 0.2836 Accuracy 0.9009\n",
            "Time taken for 1 epoch: 10.89051079750061 secs\n",
            "\n",
            "Epoch 127 Batch 0 Loss 0.2310 Accuracy 0.9203\n",
            "Epoch 127 Loss 0.2813 Accuracy 0.9020\n",
            "Time taken for 1 epoch: 10.966068029403687 secs\n",
            "\n",
            "Epoch 128 Batch 0 Loss 0.2654 Accuracy 0.9084\n",
            "Epoch 128 Loss 0.2763 Accuracy 0.9039\n",
            "Time taken for 1 epoch: 11.05145812034607 secs\n",
            "\n",
            "Epoch 129 Batch 0 Loss 0.2902 Accuracy 0.8984\n",
            "Epoch 129 Loss 0.2683 Accuracy 0.9072\n",
            "Time taken for 1 epoch: 10.95651912689209 secs\n",
            "\n",
            "Epoch 130 Batch 0 Loss 0.2399 Accuracy 0.9184\n",
            "Saving checkpoint for epoch 130 at ./checkpoints/train1/ckpt-26\n",
            "Epoch 130 Loss 0.2634 Accuracy 0.9088\n",
            "Time taken for 1 epoch: 11.342501640319824 secs\n",
            "\n",
            "Epoch 131 Batch 0 Loss 0.2116 Accuracy 0.9267\n",
            "Epoch 131 Loss 0.2553 Accuracy 0.9108\n",
            "Time taken for 1 epoch: 10.793063640594482 secs\n",
            "\n",
            "Epoch 132 Batch 0 Loss 0.2785 Accuracy 0.9046\n",
            "Epoch 132 Loss 0.2538 Accuracy 0.9117\n",
            "Time taken for 1 epoch: 11.22262167930603 secs\n",
            "\n",
            "Epoch 133 Batch 0 Loss 0.2237 Accuracy 0.9216\n",
            "Epoch 133 Loss 0.2470 Accuracy 0.9147\n",
            "Time taken for 1 epoch: 10.958369255065918 secs\n",
            "\n",
            "Epoch 134 Batch 0 Loss 0.2204 Accuracy 0.9241\n",
            "Epoch 134 Loss 0.2408 Accuracy 0.9160\n",
            "Time taken for 1 epoch: 10.839178562164307 secs\n",
            "\n",
            "Epoch 135 Batch 0 Loss 0.1889 Accuracy 0.9325\n",
            "Saving checkpoint for epoch 135 at ./checkpoints/train1/ckpt-27\n",
            "Epoch 135 Loss 0.2340 Accuracy 0.9185\n",
            "Time taken for 1 epoch: 11.184481620788574 secs\n",
            "\n",
            "Epoch 136 Batch 0 Loss 0.1942 Accuracy 0.9294\n",
            "Epoch 136 Loss 0.2347 Accuracy 0.9188\n",
            "Time taken for 1 epoch: 10.828859090805054 secs\n",
            "\n",
            "Epoch 137 Batch 0 Loss 0.1975 Accuracy 0.9339\n",
            "Epoch 137 Loss 0.2292 Accuracy 0.9210\n",
            "Time taken for 1 epoch: 10.808196544647217 secs\n",
            "\n",
            "Epoch 138 Batch 0 Loss 0.1887 Accuracy 0.9352\n",
            "Epoch 138 Loss 0.2273 Accuracy 0.9209\n",
            "Time taken for 1 epoch: 10.6437406539917 secs\n",
            "\n",
            "Epoch 139 Batch 0 Loss 0.2005 Accuracy 0.9320\n",
            "Epoch 139 Loss 0.2204 Accuracy 0.9239\n",
            "Time taken for 1 epoch: 10.703574180603027 secs\n",
            "\n",
            "Epoch 140 Batch 0 Loss 0.1956 Accuracy 0.9302\n",
            "Saving checkpoint for epoch 140 at ./checkpoints/train1/ckpt-28\n",
            "Epoch 140 Loss 0.2182 Accuracy 0.9244\n",
            "Time taken for 1 epoch: 11.202908754348755 secs\n",
            "\n",
            "Epoch 141 Batch 0 Loss 0.1998 Accuracy 0.9284\n",
            "Epoch 141 Loss 0.2184 Accuracy 0.9238\n",
            "Time taken for 1 epoch: 10.886483669281006 secs\n",
            "\n",
            "Epoch 142 Batch 0 Loss 0.1891 Accuracy 0.9326\n",
            "Epoch 142 Loss 0.2123 Accuracy 0.9261\n",
            "Time taken for 1 epoch: 10.97191309928894 secs\n",
            "\n",
            "Epoch 143 Batch 0 Loss 0.1929 Accuracy 0.9309\n",
            "Epoch 143 Loss 0.2062 Accuracy 0.9282\n",
            "Time taken for 1 epoch: 11.01565933227539 secs\n",
            "\n",
            "Epoch 144 Batch 0 Loss 0.1973 Accuracy 0.9310\n",
            "Epoch 144 Loss 0.2048 Accuracy 0.9291\n",
            "Time taken for 1 epoch: 10.852851629257202 secs\n",
            "\n",
            "Epoch 145 Batch 0 Loss 0.1659 Accuracy 0.9421\n",
            "Saving checkpoint for epoch 145 at ./checkpoints/train1/ckpt-29\n",
            "Epoch 145 Loss 0.2001 Accuracy 0.9307\n",
            "Time taken for 1 epoch: 11.09657621383667 secs\n",
            "\n",
            "Epoch 146 Batch 0 Loss 0.1760 Accuracy 0.9401\n",
            "Epoch 146 Loss 0.1963 Accuracy 0.9321\n",
            "Time taken for 1 epoch: 10.814343452453613 secs\n",
            "\n",
            "Epoch 147 Batch 0 Loss 0.1888 Accuracy 0.9377\n",
            "Epoch 147 Loss 0.1952 Accuracy 0.9326\n",
            "Time taken for 1 epoch: 10.751824617385864 secs\n",
            "\n",
            "Epoch 148 Batch 0 Loss 0.1614 Accuracy 0.9396\n",
            "Epoch 148 Loss 0.1899 Accuracy 0.9331\n",
            "Time taken for 1 epoch: 10.756487131118774 secs\n",
            "\n",
            "Epoch 149 Batch 0 Loss 0.1503 Accuracy 0.9517\n",
            "Epoch 149 Loss 0.1868 Accuracy 0.9354\n",
            "Time taken for 1 epoch: 10.885552406311035 secs\n",
            "\n",
            "Epoch 150 Batch 0 Loss 0.1752 Accuracy 0.9406\n",
            "Saving checkpoint for epoch 150 at ./checkpoints/train1/ckpt-30\n",
            "Epoch 150 Loss 0.1863 Accuracy 0.9362\n",
            "Time taken for 1 epoch: 11.120504379272461 secs\n",
            "\n",
            "Epoch 151 Batch 0 Loss 0.1717 Accuracy 0.9408\n",
            "Epoch 151 Loss 0.1820 Accuracy 0.9366\n",
            "Time taken for 1 epoch: 10.90515422821045 secs\n",
            "\n",
            "Epoch 152 Batch 0 Loss 0.1571 Accuracy 0.9451\n",
            "Epoch 152 Loss 0.1851 Accuracy 0.9362\n",
            "Time taken for 1 epoch: 10.749366998672485 secs\n",
            "\n",
            "Epoch 153 Batch 0 Loss 0.1562 Accuracy 0.9461\n",
            "Epoch 153 Loss 0.1719 Accuracy 0.9403\n",
            "Time taken for 1 epoch: 10.788457870483398 secs\n",
            "\n",
            "Epoch 154 Batch 0 Loss 0.1442 Accuracy 0.9507\n",
            "Epoch 154 Loss 0.1696 Accuracy 0.9408\n",
            "Time taken for 1 epoch: 10.714409828186035 secs\n",
            "\n",
            "Epoch 155 Batch 0 Loss 0.1412 Accuracy 0.9557\n",
            "Saving checkpoint for epoch 155 at ./checkpoints/train1/ckpt-31\n",
            "Epoch 155 Loss 0.1688 Accuracy 0.9411\n",
            "Time taken for 1 epoch: 11.105499505996704 secs\n",
            "\n",
            "Epoch 156 Batch 0 Loss 0.1177 Accuracy 0.9612\n",
            "Epoch 156 Loss 0.1704 Accuracy 0.9403\n",
            "Time taken for 1 epoch: 10.772686243057251 secs\n",
            "\n",
            "Epoch 157 Batch 0 Loss 0.1381 Accuracy 0.9528\n",
            "Epoch 157 Loss 0.1676 Accuracy 0.9409\n",
            "Time taken for 1 epoch: 10.836806297302246 secs\n",
            "\n",
            "Epoch 158 Batch 0 Loss 0.1342 Accuracy 0.9498\n",
            "Epoch 158 Loss 0.1629 Accuracy 0.9433\n",
            "Time taken for 1 epoch: 10.882379531860352 secs\n",
            "\n",
            "Epoch 159 Batch 0 Loss 0.1336 Accuracy 0.9539\n",
            "Epoch 159 Loss 0.1579 Accuracy 0.9447\n",
            "Time taken for 1 epoch: 11.165793657302856 secs\n",
            "\n",
            "Epoch 160 Batch 0 Loss 0.1618 Accuracy 0.9419\n",
            "Saving checkpoint for epoch 160 at ./checkpoints/train1/ckpt-32\n",
            "Epoch 160 Loss 0.1604 Accuracy 0.9444\n",
            "Time taken for 1 epoch: 11.123887062072754 secs\n",
            "\n",
            "Epoch 161 Batch 0 Loss 0.1118 Accuracy 0.9589\n",
            "Epoch 161 Loss 0.1537 Accuracy 0.9472\n",
            "Time taken for 1 epoch: 10.845156192779541 secs\n",
            "\n",
            "Epoch 162 Batch 0 Loss 0.1204 Accuracy 0.9602\n",
            "Epoch 162 Loss 0.1566 Accuracy 0.9458\n",
            "Time taken for 1 epoch: 10.63498306274414 secs\n",
            "\n",
            "Epoch 163 Batch 0 Loss 0.1539 Accuracy 0.9501\n",
            "Epoch 163 Loss 0.1492 Accuracy 0.9486\n",
            "Time taken for 1 epoch: 10.822543621063232 secs\n",
            "\n",
            "Epoch 164 Batch 0 Loss 0.1254 Accuracy 0.9567\n",
            "Epoch 164 Loss 0.1450 Accuracy 0.9498\n",
            "Time taken for 1 epoch: 10.954854011535645 secs\n",
            "\n",
            "Epoch 165 Batch 0 Loss 0.1293 Accuracy 0.9556\n",
            "Saving checkpoint for epoch 165 at ./checkpoints/train1/ckpt-33\n",
            "Epoch 165 Loss 0.1471 Accuracy 0.9491\n",
            "Time taken for 1 epoch: 11.142023801803589 secs\n",
            "\n",
            "Epoch 166 Batch 0 Loss 0.1109 Accuracy 0.9618\n",
            "Epoch 166 Loss 0.1455 Accuracy 0.9502\n",
            "Time taken for 1 epoch: 10.880119323730469 secs\n",
            "\n",
            "Epoch 167 Batch 0 Loss 0.1325 Accuracy 0.9530\n",
            "Epoch 167 Loss 0.1411 Accuracy 0.9513\n",
            "Time taken for 1 epoch: 10.944805383682251 secs\n",
            "\n",
            "Epoch 168 Batch 0 Loss 0.1274 Accuracy 0.9549\n",
            "Epoch 168 Loss 0.1432 Accuracy 0.9500\n",
            "Time taken for 1 epoch: 10.794010400772095 secs\n",
            "\n",
            "Epoch 169 Batch 0 Loss 0.1311 Accuracy 0.9546\n",
            "Epoch 169 Loss 0.1412 Accuracy 0.9512\n",
            "Time taken for 1 epoch: 10.825070142745972 secs\n",
            "\n",
            "Epoch 170 Batch 0 Loss 0.1333 Accuracy 0.9571\n",
            "Saving checkpoint for epoch 170 at ./checkpoints/train1/ckpt-34\n",
            "Epoch 170 Loss 0.1385 Accuracy 0.9524\n",
            "Time taken for 1 epoch: 10.962737321853638 secs\n",
            "\n",
            "Epoch 171 Batch 0 Loss 0.1230 Accuracy 0.9549\n",
            "Epoch 171 Loss 0.1336 Accuracy 0.9543\n",
            "Time taken for 1 epoch: 11.011029243469238 secs\n",
            "\n",
            "Epoch 172 Batch 0 Loss 0.1372 Accuracy 0.9502\n",
            "Epoch 172 Loss 0.1342 Accuracy 0.9540\n",
            "Time taken for 1 epoch: 10.776517629623413 secs\n",
            "\n",
            "Epoch 173 Batch 0 Loss 0.1014 Accuracy 0.9659\n",
            "Epoch 173 Loss 0.1338 Accuracy 0.9538\n",
            "Time taken for 1 epoch: 10.914442300796509 secs\n",
            "\n",
            "Epoch 174 Batch 0 Loss 0.1203 Accuracy 0.9570\n",
            "Epoch 174 Loss 0.1323 Accuracy 0.9540\n",
            "Time taken for 1 epoch: 10.719237327575684 secs\n",
            "\n",
            "Epoch 175 Batch 0 Loss 0.0997 Accuracy 0.9632\n",
            "Saving checkpoint for epoch 175 at ./checkpoints/train1/ckpt-35\n",
            "Epoch 175 Loss 0.1314 Accuracy 0.9548\n",
            "Time taken for 1 epoch: 11.17220425605774 secs\n",
            "\n",
            "Epoch 176 Batch 0 Loss 0.1118 Accuracy 0.9617\n",
            "Epoch 176 Loss 0.1295 Accuracy 0.9550\n",
            "Time taken for 1 epoch: 10.881672620773315 secs\n",
            "\n",
            "Epoch 177 Batch 0 Loss 0.1134 Accuracy 0.9566\n",
            "Epoch 177 Loss 0.1242 Accuracy 0.9570\n",
            "Time taken for 1 epoch: 10.754264116287231 secs\n",
            "\n",
            "Epoch 178 Batch 0 Loss 0.1169 Accuracy 0.9585\n",
            "Epoch 178 Loss 0.1316 Accuracy 0.9549\n",
            "Time taken for 1 epoch: 10.834989786148071 secs\n",
            "\n",
            "Epoch 179 Batch 0 Loss 0.1355 Accuracy 0.9546\n",
            "Epoch 179 Loss 0.1275 Accuracy 0.9560\n",
            "Time taken for 1 epoch: 11.103972911834717 secs\n",
            "\n",
            "Epoch 180 Batch 0 Loss 0.1241 Accuracy 0.9546\n",
            "Saving checkpoint for epoch 180 at ./checkpoints/train1/ckpt-36\n",
            "Epoch 180 Loss 0.1208 Accuracy 0.9581\n",
            "Time taken for 1 epoch: 11.13489317893982 secs\n",
            "\n",
            "Epoch 181 Batch 0 Loss 0.1108 Accuracy 0.9628\n",
            "Epoch 181 Loss 0.1241 Accuracy 0.9571\n",
            "Time taken for 1 epoch: 10.663557529449463 secs\n",
            "\n",
            "Epoch 182 Batch 0 Loss 0.1082 Accuracy 0.9615\n",
            "Epoch 182 Loss 0.1174 Accuracy 0.9590\n",
            "Time taken for 1 epoch: 10.760632991790771 secs\n",
            "\n",
            "Epoch 183 Batch 0 Loss 0.1055 Accuracy 0.9622\n",
            "Epoch 183 Loss 0.1181 Accuracy 0.9593\n",
            "Time taken for 1 epoch: 10.595606088638306 secs\n",
            "\n",
            "Epoch 184 Batch 0 Loss 0.1243 Accuracy 0.9546\n",
            "Epoch 184 Loss 0.1125 Accuracy 0.9615\n",
            "Time taken for 1 epoch: 10.886220693588257 secs\n",
            "\n",
            "Epoch 185 Batch 0 Loss 0.0846 Accuracy 0.9695\n",
            "Saving checkpoint for epoch 185 at ./checkpoints/train1/ckpt-37\n",
            "Epoch 185 Loss 0.1163 Accuracy 0.9596\n",
            "Time taken for 1 epoch: 11.106049537658691 secs\n",
            "\n",
            "Epoch 186 Batch 0 Loss 0.1009 Accuracy 0.9643\n",
            "Epoch 186 Loss 0.1149 Accuracy 0.9600\n",
            "Time taken for 1 epoch: 10.861281633377075 secs\n",
            "\n",
            "Epoch 187 Batch 0 Loss 0.1020 Accuracy 0.9638\n",
            "Epoch 187 Loss 0.1165 Accuracy 0.9596\n",
            "Time taken for 1 epoch: 10.794312477111816 secs\n",
            "\n",
            "Epoch 188 Batch 0 Loss 0.0957 Accuracy 0.9673\n",
            "Epoch 188 Loss 0.1104 Accuracy 0.9617\n",
            "Time taken for 1 epoch: 10.846763849258423 secs\n",
            "\n",
            "Epoch 189 Batch 0 Loss 0.1080 Accuracy 0.9637\n",
            "Epoch 189 Loss 0.1059 Accuracy 0.9637\n",
            "Time taken for 1 epoch: 10.716299533843994 secs\n",
            "\n",
            "Epoch 190 Batch 0 Loss 0.0965 Accuracy 0.9686\n",
            "Saving checkpoint for epoch 190 at ./checkpoints/train1/ckpt-38\n",
            "Epoch 190 Loss 0.1087 Accuracy 0.9627\n",
            "Time taken for 1 epoch: 11.169772148132324 secs\n",
            "\n",
            "Epoch 191 Batch 0 Loss 0.0946 Accuracy 0.9645\n",
            "Epoch 191 Loss 0.1084 Accuracy 0.9621\n",
            "Time taken for 1 epoch: 10.934963941574097 secs\n",
            "\n",
            "Epoch 192 Batch 0 Loss 0.1214 Accuracy 0.9589\n",
            "Epoch 192 Loss 0.1100 Accuracy 0.9623\n",
            "Time taken for 1 epoch: 10.79646110534668 secs\n",
            "\n",
            "Epoch 193 Batch 0 Loss 0.0989 Accuracy 0.9692\n",
            "Epoch 193 Loss 0.1065 Accuracy 0.9633\n",
            "Time taken for 1 epoch: 10.899689435958862 secs\n",
            "\n",
            "Epoch 194 Batch 0 Loss 0.0843 Accuracy 0.9707\n",
            "Epoch 194 Loss 0.1019 Accuracy 0.9643\n",
            "Time taken for 1 epoch: 10.849381685256958 secs\n",
            "\n",
            "Epoch 195 Batch 0 Loss 0.0813 Accuracy 0.9703\n",
            "Saving checkpoint for epoch 195 at ./checkpoints/train1/ckpt-39\n",
            "Epoch 195 Loss 0.1003 Accuracy 0.9655\n",
            "Time taken for 1 epoch: 10.989854097366333 secs\n",
            "\n",
            "Epoch 196 Batch 0 Loss 0.0787 Accuracy 0.9747\n",
            "Epoch 196 Loss 0.1027 Accuracy 0.9650\n",
            "Time taken for 1 epoch: 10.79083251953125 secs\n",
            "\n",
            "Epoch 197 Batch 0 Loss 0.0928 Accuracy 0.9667\n",
            "Epoch 197 Loss 0.0969 Accuracy 0.9669\n",
            "Time taken for 1 epoch: 11.011150598526001 secs\n",
            "\n",
            "Epoch 198 Batch 0 Loss 0.1014 Accuracy 0.9641\n",
            "Epoch 198 Loss 0.0980 Accuracy 0.9667\n",
            "Time taken for 1 epoch: 10.726337671279907 secs\n",
            "\n",
            "Epoch 199 Batch 0 Loss 0.0903 Accuracy 0.9725\n",
            "Epoch 199 Loss 0.1019 Accuracy 0.9649\n",
            "Time taken for 1 epoch: 10.781978368759155 secs\n",
            "\n",
            "Epoch 200 Batch 0 Loss 0.1008 Accuracy 0.9629\n",
            "Saving checkpoint for epoch 200 at ./checkpoints/train1/ckpt-40\n",
            "Epoch 200 Loss 0.1016 Accuracy 0.9648\n",
            "Time taken for 1 epoch: 11.138213872909546 secs\n",
            "\n"
          ],
          "name": "stdout"
        }
      ]
    },
    {
      "cell_type": "markdown",
      "metadata": {
        "id": "QfcsSWswSdGV"
      },
      "source": [
        "## Evaluate"
      ]
    },
    {
      "cell_type": "code",
      "metadata": {
        "id": "5buvMlnvyrFm"
      },
      "source": [
        "import time\n",
        "from tqdm import tqdm\n",
        "def evaluate(inp_sentence):\n",
        "  start_token = [tokenizer_en.vocab_size]\n",
        "  end_token = [tokenizer_en.vocab_size + 1]\n",
        "  \n",
        "  # inp sentence is eng, hence adding the start and end token\n",
        "  inp_sentence = start_token + tokenizer_en.encode(inp_sentence) + end_token\n",
        "  encoder_input = tf.expand_dims(inp_sentence, 0)\n",
        "  \n",
        "  # as the target is vn, the first word to the transformer should be the\n",
        "  # english start token.\n",
        "  decoder_input = [tokenizer_vn.vocab_size]\n",
        "  output = tf.expand_dims(decoder_input, 0)\n",
        "  \n",
        "  for i in range(MAX_LENGTH):\n",
        "    enc_padding_mask, combined_mask, dec_padding_mask = create_masks(\n",
        "        encoder_input, output)\n",
        "  \n",
        "    predictions, attention_weights = transformer(encoder_input, \n",
        "                                                 output,\n",
        "                                                 False,\n",
        "                                                 enc_padding_mask,\n",
        "                                                 combined_mask,\n",
        "                                                 dec_padding_mask)\n",
        "    \n",
        "    predictions = predictions[: ,-1:, :]  # (batch_size, 1, vocab_size)\n",
        "\n",
        "    predicted_id = tf.cast(tf.argmax(predictions, axis=-1), tf.int32)\n",
        "    \n",
        "    # return the result if the predicted_id is equal to the end token\n",
        "    if predicted_id == tokenizer_vn.vocab_size+1:\n",
        "      \n",
        "      return tf.squeeze(output, axis=0), attention_weights\n",
        "\n",
        "      \n",
        "    \n",
        "    # concatentate the predicted_id to the output which is given to the decoder\n",
        "    # as its input.\n",
        "    output = tf.concat([output, predicted_id], axis=-1)\n",
        "\n",
        "  return tf.squeeze(output, axis=0), attention_weights"
      ],
      "execution_count": 41,
      "outputs": []
    },
    {
      "cell_type": "code",
      "metadata": {
        "id": "lU2_yG_vBGza"
      },
      "source": [
        "def translate(sentence, plot=''):\n",
        "  result, attention_weights = evaluate(sentence)\n",
        "  predicted_sentence = tokenizer_vn.decode([i for i in result \n",
        "                                            if i < tokenizer_vn.vocab_size])  \n",
        "\n",
        "  print('Input: {}'.format(sentence))\n",
        "  print('Predicted translation: {}'.format(predicted_sentence))\n",
        "  \n",
        "  if plot:\n",
        "    plot_attention_weights(attention_weights, sentence, result, plot)"
      ],
      "execution_count": 42,
      "outputs": []
    },
    {
      "cell_type": "code",
      "metadata": {
        "id": "YsxrAlvFG8SZ",
        "colab": {
          "base_uri": "https://localhost:8080/"
        },
        "outputId": "f625db9e-3ad4-44dd-e688-7762d04ad327"
      },
      "source": [
        "print(translate('我有一百多本汉语书，你的汉语书比我多吗？'))"
      ],
      "execution_count": 43,
      "outputs": [
        {
          "output_type": "stream",
          "text": [
            "Input: 我有一百多本汉语书，你的汉语书比我多吗？\n",
            "Predicted translation: tôi có một chiếc lap, cô ta một có tiếng trung được học kia tếng?\n",
            "None\n"
          ],
          "name": "stdout"
        }
      ]
    },
    {
      "cell_type": "code",
      "metadata": {
        "id": "Mw1cffB8MnmV",
        "colab": {
          "base_uri": "https://localhost:8080/",
          "height": 183
        },
        "outputId": "b363b7f7-a4b0-4e6e-fe5b-89484f37254b"
      },
      "source": [
        "\n",
        "translate(data[13412]['en'])"
      ],
      "execution_count": 44,
      "outputs": [
        {
          "output_type": "error",
          "ename": "NameError",
          "evalue": "ignored",
          "traceback": [
            "\u001b[0;31m---------------------------------------------------------------------------\u001b[0m",
            "\u001b[0;31mNameError\u001b[0m                                 Traceback (most recent call last)",
            "\u001b[0;32m<ipython-input-44-2aba3bf900f6>\u001b[0m in \u001b[0;36m<module>\u001b[0;34m()\u001b[0m\n\u001b[1;32m      1\u001b[0m \u001b[0;34m\u001b[0m\u001b[0m\n\u001b[0;32m----> 2\u001b[0;31m \u001b[0mtranslate\u001b[0m\u001b[0;34m(\u001b[0m\u001b[0mdata\u001b[0m\u001b[0;34m[\u001b[0m\u001b[0;36m13412\u001b[0m\u001b[0;34m]\u001b[0m\u001b[0;34m[\u001b[0m\u001b[0;34m'en'\u001b[0m\u001b[0;34m]\u001b[0m\u001b[0;34m)\u001b[0m\u001b[0;34m\u001b[0m\u001b[0;34m\u001b[0m\u001b[0m\n\u001b[0m",
            "\u001b[0;31mNameError\u001b[0m: name 'data' is not defined"
          ]
        }
      ]
    }
  ]
}