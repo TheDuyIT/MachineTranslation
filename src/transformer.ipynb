{
  "nbformat": 4,
  "nbformat_minor": 0,
  "metadata": {
    "accelerator": "GPU",
    "colab": {
      "name": "chinhsua.ipynb",
      "provenance": [],
      "collapsed_sections": [],
      "toc_visible": true,
      "include_colab_link": true
    },
    "kernelspec": {
      "display_name": "Python 3",
      "language": "python",
      "name": "python3"
    },
    "language_info": {
      "codemirror_mode": {
        "name": "ipython",
        "version": 3
      },
      "file_extension": ".py",
      "mimetype": "text/x-python",
      "name": "python",
      "nbconvert_exporter": "python",
      "pygments_lexer": "ipython3",
      "version": "3.8.3"
    }
  },
  "cells": [
    {
      "cell_type": "markdown",
      "metadata": {
        "id": "view-in-github",
        "colab_type": "text"
      },
      "source": [
        "<a href=\"https://colab.research.google.com/github/TheDuyIT/MachineTranslation/blob/master/src/transformer.ipynb\" target=\"_parent\"><img src=\"https://colab.research.google.com/assets/colab-badge.svg\" alt=\"Open In Colab\"/></a>"
      ]
    },
    {
      "cell_type": "code",
      "metadata": {
        "id": "XFG0NDRu5mYQ",
        "colab": {
          "base_uri": "https://localhost:8080/"
        },
        "outputId": "94223439-59a9-4793-bf98-9ee4729c593b"
      },
      "source": [
        "!pip install -q tfds-nightly\r\n",
        "# !pip install tensorflow-gpu"
      ],
      "execution_count": 1,
      "outputs": [
        {
          "output_type": "stream",
          "text": [
            "\u001b[K     |████████████████████████████████| 3.8MB 12.6MB/s \n",
            "\u001b[?25h"
          ],
          "name": "stdout"
        }
      ]
    },
    {
      "cell_type": "code",
      "metadata": {
        "colab": {
          "base_uri": "https://localhost:8080/"
        },
        "id": "kEATbN5DAYDT",
        "outputId": "7b487aa1-d8ed-4ab6-d273-a59fc73d9ebf"
      },
      "source": [
        "!npx degit TheDuyIT/MachineTranslation -f"
      ],
      "execution_count": 2,
      "outputs": [
        {
          "output_type": "stream",
          "text": [
            "\u001b[K\u001b[?25hnpx: installed 1 in 1.646s\n",
            "\u001b[36m> destination directory is not empty. Using --force, continuing\u001b[39m\n",
            "\u001b[36m> cloned \u001b[1mTheDuyIT/MachineTranslation\u001b[22m#\u001b[1mmaster\u001b[22m\u001b[39m\n"
          ],
          "name": "stdout"
        }
      ]
    },
    {
      "cell_type": "code",
      "metadata": {
        "id": "kB9BXDZLyrMG"
      },
      "source": [
        "# from google.colab import drive\n",
        "# drive.mount('/content/drive')"
      ],
      "execution_count": 3,
      "outputs": []
    },
    {
      "cell_type": "code",
      "metadata": {
        "id": "JjJJyJTZYebt"
      },
      "source": [
        "import tensorflow_datasets as tfds\n",
        "import tensorflow as tf\n",
        "import unicodedata\n",
        "import time\n",
        "import re\n",
        "import numpy as np\n",
        "import matplotlib.pyplot as plt\n",
        "from src.process_data import DataFormatter, DataLoader\n",
        "import jieba"
      ],
      "execution_count": 4,
      "outputs": []
    },
    {
      "cell_type": "markdown",
      "metadata": {
        "id": "fd1NWMxjfsDd"
      },
      "source": [
        "## Setup input pipeline"
      ]
    },
    {
      "cell_type": "code",
      "metadata": {
        "id": "v2MJM8-jV6IA"
      },
      "source": [
        "loader = DataLoader()"
      ],
      "execution_count": 5,
      "outputs": []
    },
    {
      "cell_type": "code",
      "metadata": {
        "id": "ZpF0MBnRaq2o"
      },
      "source": [
        "content_en = loader.np_load('lst_cn_all_except_1001')\n",
        "content_vn = loader.np_load('lst_vi_all_except_1001')\n",
        "content_en = loader.np_load('lst_cn')\n",
        "content_vn = loader.np_load('lst_vi')\n",
        "content_en = loader.np_load('lst_cn_all_with6k_except_1001')\n",
        "content_vn = loader.np_load('lst_vi_all_with6k_except_1001')\n",
        "def preproces_cn(s):\n",
        "  return re.sub('\\s+', ' ', ' '.join(s))\n",
        "  seg_list = jieba.cut(s)\n",
        "  return \" \".join(seg_list)\n",
        "\n",
        "for i in range(len(content_vn)):\n",
        "  content_vn[i] = content_vn[i].lower()\n",
        "  # content_en.append(i['en'].lower())\n",
        "  # content_vn.append(i['vn'].lower())\n",
        "for i in range(len(content_en)):\n",
        "  content_en[i] = preproces_cn(content_en[i])\n",
        "# content_en"
      ],
      "execution_count": 6,
      "outputs": []
    },
    {
      "cell_type": "code",
      "metadata": {
        "id": "f0gpS90X3cbi",
        "outputId": "6b1d3314-77d5-48c4-d69e-6c2cb2acd58e",
        "colab": {
          "base_uri": "https://localhost:8080/",
          "height": 53
        }
      },
      "source": [
        "content_en[123]"
      ],
      "execution_count": 7,
      "outputs": [
        {
          "output_type": "execute_result",
          "data": {
            "application/vnd.google.colaboratory.intrinsic+json": {
              "type": "string"
            },
            "text/plain": [
              "'再 大 的 伤 痛 ， 睡 一 觉 就 把 它 忘 了 。 背 着 昨 天 追 赶 明 天 ， 会 累 坏 了 每 一 个 当 下 。 边 走 边 忘 ， 才 能 感 受 到 每 一 个 迎 面 而 来 的 幸 福 。'"
            ]
          },
          "metadata": {
            "tags": []
          },
          "execution_count": 7
        }
      ]
    },
    {
      "cell_type": "code",
      "metadata": {
        "colab": {
          "base_uri": "https://localhost:8080/"
        },
        "id": "VP0PoNkyDIHp",
        "outputId": "624c5e4b-b208-4923-b379-5df51320fb03"
      },
      "source": [
        "print(len(content_en))\r\n",
        "print(len(content_vn))"
      ],
      "execution_count": 8,
      "outputs": [
        {
          "output_type": "stream",
          "text": [
            "14699\n",
            "14699\n"
          ],
          "name": "stdout"
        }
      ]
    },
    {
      "cell_type": "code",
      "metadata": {
        "id": "P1guLOWvfLoC"
      },
      "source": [
        "from sklearn.model_selection import train_test_split\n",
        "X_train, X_test, y_train, y_test = train_test_split(content_en, content_vn, test_size=0.2, random_state=1)\n",
        "X_val, y_val = [X_train[0]], [y_train[0]]\n",
        "\n",
        "def create_dataset(x, y):\n",
        "  a = tf.data.Dataset.from_tensor_slices(x)  # ==> [ 1, 2, 3 ]\n",
        "  b = tf.data.Dataset.from_tensor_slices(y)\n",
        "  ds = tf.data.Dataset.zip((a, b))\n",
        "  ds = ds.shuffle(buffer_size = 1000)\n",
        "  return ds"
      ],
      "execution_count": 9,
      "outputs": []
    },
    {
      "cell_type": "code",
      "metadata": {
        "id": "g6Z3HImR9a-M"
      },
      "source": [
        "train_examples = create_dataset(X_train, y_train)\n",
        "test_dataset = create_dataset(X_test, y_test)\n",
        "val_dataset = create_dataset(X_val, y_val)\n",
        "# train_examples = full_dataset.take(train_size)\n",
        "# test_dataset = full_dataset.skip(train_size)\n",
        "# val_dataset = test_dataset.skip(val_size)\n",
        "# test_dataset = test_dataset.take(test_size)"
      ],
      "execution_count": 10,
      "outputs": []
    },
    {
      "cell_type": "code",
      "metadata": {
        "id": "KVBg5Q8tBk5z"
      },
      "source": [
        "# tokenizer_vn = tfds.deprecated.text.SubwordTextEncoder.load_from_file('tokenizer_en')\n",
        "# tokenizer_en = tfds.deprecated.text.SubwordTextEncoder.load_from_file('tokenizer_vn')\n",
        "tokenizer_en = tfds.deprecated.text.SubwordTextEncoder.build_from_corpus(\n",
        "    (en.numpy() for en, _ in train_examples), target_vocab_size=2**13)\n",
        "\n",
        "tokenizer_vn = tfds.deprecated.text.SubwordTextEncoder.build_from_corpus(\n",
        "    (vn.numpy() for _, vn in train_examples), target_vocab_size=2**13)"
      ],
      "execution_count": 11,
      "outputs": []
    },
    {
      "cell_type": "code",
      "metadata": {
        "id": "uH_zOTI_3jg-"
      },
      "source": [
        "# for i in range(tokenizer_en.vocab_size):\r\n",
        "#   print(f'{i} ----> {tokenizer_en.decode([i])}')"
      ],
      "execution_count": 12,
      "outputs": []
    },
    {
      "cell_type": "code",
      "metadata": {
        "id": "-9ddMZP5z3tp"
      },
      "source": [
        "# tokenizer_en.save_to_file('/content/drive/MyDrive/VinBigData/checkpoints/tokenizer_en')\r\n",
        "# tokenizer_vn.save_to_file('/content/drive/MyDrive/VinBigData/checkpoints/tokenizer_vn')"
      ],
      "execution_count": 13,
      "outputs": []
    },
    {
      "cell_type": "code",
      "metadata": {
        "id": "bcRp7VcQ5m6g"
      },
      "source": [
        "BUFFER_SIZE = 2000\n",
        "BATCH_SIZE = 64"
      ],
      "execution_count": 14,
      "outputs": []
    },
    {
      "cell_type": "code",
      "metadata": {
        "id": "UZwnPr4R055s"
      },
      "source": [
        "def encode(lang1, lang2):\n",
        "  lang1 = [tokenizer_en.vocab_size] + tokenizer_en.encode(\n",
        "      lang1.numpy()) + [tokenizer_en.vocab_size+1]\n",
        "\n",
        "  lang2 = [tokenizer_vn.vocab_size] + tokenizer_vn.encode(\n",
        "      lang2.numpy()) + [tokenizer_vn.vocab_size+1]\n",
        "  \n",
        "  return lang1, lang2"
      ],
      "execution_count": 15,
      "outputs": []
    },
    {
      "cell_type": "code",
      "metadata": {
        "id": "Mah1cS-P70Iz"
      },
      "source": [
        "def tf_encode(en, vn):\n",
        "  result_en, result_vn = tf.py_function(encode, [en, vn], [tf.int64, tf.int64])\n",
        "  result_en.set_shape([None])\n",
        "  result_vn.set_shape([None])\n",
        "\n",
        "  return result_en, result_vn"
      ],
      "execution_count": 16,
      "outputs": []
    },
    {
      "cell_type": "code",
      "metadata": {
        "id": "2QEgbjntk6Yf"
      },
      "source": [
        "MAX_LENGTH = 250\n"
      ],
      "execution_count": 17,
      "outputs": []
    },
    {
      "cell_type": "code",
      "metadata": {
        "id": "c081xPGv1CPI"
      },
      "source": [
        "def filter_max_length(x, y, max_length=MAX_LENGTH):\n",
        "  return tf.logical_and(tf.size(x) <= max_length,\n",
        "                        tf.size(y) <= max_length)"
      ],
      "execution_count": 18,
      "outputs": []
    },
    {
      "cell_type": "code",
      "metadata": {
        "id": "JKIPFkLr-Qsz"
      },
      "source": [
        "train_dataset = train_examples.map(tf_encode)\n",
        "train_dataset = train_dataset.filter(filter_max_length)\n",
        "# cache the dataset to memory to get a speedup while reading from it.\n",
        "train_dataset = train_dataset.cache()\n",
        "train_dataset = train_dataset.shuffle(BUFFER_SIZE).padded_batch(BATCH_SIZE)\n",
        "train_dataset = train_dataset.prefetch(tf.data.experimental.AUTOTUNE)\n",
        "\n",
        "\n",
        "val_dataset = val_dataset.map(tf_encode)\n",
        "val_dataset = val_dataset.filter(filter_max_length).padded_batch(BATCH_SIZE)\n",
        "\n",
        "test_dataset = test_dataset.map(tf_encode)\n",
        "test_dataset = test_dataset.filter(filter_max_length).padded_batch(BATCH_SIZE)"
      ],
      "execution_count": 19,
      "outputs": []
    },
    {
      "cell_type": "markdown",
      "metadata": {
        "id": "nBQuibYA4n0n"
      },
      "source": [
        "## Positional encoding\n",
        "\n",
        "Since this model doesn't contain any recurrence or convolution, positional encoding is added to give the model some information about the relative position of the words in the sentence. \n",
        "\n",
        "The positional encoding vector is added to the embedding vector. Embeddings represent a token in a d-dimensional space where tokens with similar meaning will be closer to each other. But the embeddings do not encode the relative position of words in a sentence. So after adding the positional encoding, words will be closer to each other based on the *similarity of their meaning and their position in the sentence*, in the d-dimensional space.\n",
        "\n",
        "See the notebook on [positional encoding](https://github.com/tensorflow/examples/blob/master/community/en/position_encoding.ipynb) to learn more about it. The formula for calculating the positional encoding is as follows:\n",
        "\n",
        "$$\\Large{PE_{(pos, 2i)} = sin(pos / 10000^{2i / d_{model}})} $$\n",
        "$$\\Large{PE_{(pos, 2i+1)} = cos(pos / 10000^{2i / d_{model}})} $$"
      ]
    },
    {
      "cell_type": "code",
      "metadata": {
        "id": "WhIOZjMNKujn"
      },
      "source": [
        "def get_angles(pos, i, d_model):\n",
        "  angle_rates = 1 / np.power(10000, (2 * (i//2)) / np.float32(d_model))\n",
        "  return pos * angle_rates"
      ],
      "execution_count": 20,
      "outputs": []
    },
    {
      "cell_type": "code",
      "metadata": {
        "id": "1Rz82wEs5biZ"
      },
      "source": [
        "def positional_encoding(position, d_model):\n",
        "  angle_rads = get_angles(np.arange(position)[:, np.newaxis],\n",
        "                          np.arange(d_model)[np.newaxis, :],\n",
        "                          d_model)\n",
        "  \n",
        "  # apply sin to even indices in the array; 2i\n",
        "  angle_rads[:, 0::2] = np.sin(angle_rads[:, 0::2])\n",
        "  \n",
        "  # apply cos to odd indices in the array; 2i+1\n",
        "  angle_rads[:, 1::2] = np.cos(angle_rads[:, 1::2])\n",
        "    \n",
        "  pos_encoding = angle_rads[np.newaxis, ...]\n",
        "    \n",
        "  return tf.cast(pos_encoding, dtype=tf.float32)"
      ],
      "execution_count": 21,
      "outputs": []
    },
    {
      "cell_type": "code",
      "metadata": {
        "id": "1kLCla68EloE",
        "colab": {
          "base_uri": "https://localhost:8080/",
          "height": 301
        },
        "outputId": "59288f2b-4ce2-4f10-c4ba-adcf8fa79e16"
      },
      "source": [
        "pos_encoding = positional_encoding(50, 512)\n",
        "print (pos_encoding.shape)\n",
        "\n",
        "plt.pcolormesh(pos_encoding[0], cmap='RdBu')\n",
        "plt.xlabel('Depth')\n",
        "plt.xlim((0, 512))\n",
        "plt.ylabel('Position')\n",
        "plt.colorbar()\n",
        "plt.show()"
      ],
      "execution_count": 22,
      "outputs": [
        {
          "output_type": "stream",
          "text": [
            "(1, 50, 512)\n"
          ],
          "name": "stdout"
        },
        {
          "output_type": "display_data",
          "data": {
            "image/png": "[encoded data removed]",
            "text/plain": [
              "<Figure size 432x288 with 2 Axes>"
            ]
          },
          "metadata": {
            "tags": [],
            "needs_background": "light"
          }
        }
      ]
    },
    {
      "cell_type": "markdown",
      "metadata": {
        "id": "a_b4ou4TYqUN"
      },
      "source": [
        "## Masking"
      ]
    },
    {
      "cell_type": "code",
      "metadata": {
        "id": "U2i8-e1s8ti9"
      },
      "source": [
        "def create_padding_mask(seq):\n",
        "  seq = tf.cast(tf.math.equal(seq, 0), tf.float32)\n",
        "  \n",
        "  # add extra dimensions to add the padding\n",
        "  # to the attention logits.\n",
        "  return seq[:, tf.newaxis, tf.newaxis, :]  # (batch_size, 1, 1, seq_len)"
      ],
      "execution_count": 23,
      "outputs": []
    },
    {
      "cell_type": "code",
      "metadata": {
        "id": "dVxS8OPI9uI0"
      },
      "source": [
        "def create_look_ahead_mask(size):\n",
        "  mask = 1 - tf.linalg.band_part(tf.ones((size, size)), -1, 0)\n",
        "  return mask  # (seq_len, seq_len)"
      ],
      "execution_count": 24,
      "outputs": []
    },
    {
      "cell_type": "markdown",
      "metadata": {
        "id": "xluDl5cXYy4y"
      },
      "source": [
        "## Scaled dot product attention"
      ]
    },
    {
      "cell_type": "code",
      "metadata": {
        "id": "LazzUq3bJ5SH"
      },
      "source": [
        "def scaled_dot_product_attention(q, k, v, mask):\n",
        "  \"\"\"Calculate the attention weights.\n",
        "  q, k, v must have matching leading dimensions.\n",
        "  k, v must have matching penultimate dimension, i.e.: seq_len_k = seq_len_v.\n",
        "  The mask has different shapes depending on its type(padding or look ahead) \n",
        "  but it must be broadcastable for addition.\n",
        "  \n",
        "  Args:\n",
        "    q: query shape == (..., seq_len_q, depth)\n",
        "    k: key shape == (..., seq_len_k, depth)\n",
        "    v: value shape == (..., seq_len_v, depth_v)\n",
        "    mask: Float tensor with shape broadcastable \n",
        "          to (..., seq_len_q, seq_len_k). Defaults to None.\n",
        "    \n",
        "  Returns:\n",
        "    output, attention_weights\n",
        "  \"\"\"\n",
        "\n",
        "  matmul_qk = tf.matmul(q, k, transpose_b=True)  # (..., seq_len_q, seq_len_k)\n",
        "  \n",
        "  # scale matmul_qk\n",
        "  dk = tf.cast(tf.shape(k)[-1], tf.float32)\n",
        "  scaled_attention_logits = matmul_qk / tf.math.sqrt(dk)\n",
        "\n",
        "  # add the mask to the scaled tensor.\n",
        "  if mask is not None:\n",
        "    scaled_attention_logits += (mask * -1e9)  \n",
        "\n",
        "  # softmax is normalized on the last axis (seq_len_k) so that the scores\n",
        "  # add up to 1.\n",
        "  attention_weights = tf.nn.softmax(scaled_attention_logits, axis=-1)  # (..., seq_len_q, seq_len_k)\n",
        "\n",
        "  output = tf.matmul(attention_weights, v)  # (..., seq_len_q, depth_v)\n",
        "\n",
        "  return output, attention_weights"
      ],
      "execution_count": 25,
      "outputs": []
    },
    {
      "cell_type": "markdown",
      "metadata": {
        "id": "kmzGPEy64qmA"
      },
      "source": [
        "## Multi-head attention"
      ]
    },
    {
      "cell_type": "code",
      "metadata": {
        "id": "BSV3PPKsYecw"
      },
      "source": [
        "class MultiHeadAttention(tf.keras.layers.Layer):\n",
        "  def __init__(self, d_model, num_heads):\n",
        "    super(MultiHeadAttention, self).__init__()\n",
        "    self.num_heads = num_heads\n",
        "    self.d_model = d_model\n",
        "    \n",
        "    assert d_model % self.num_heads == 0\n",
        "    \n",
        "    self.depth = d_model // self.num_heads\n",
        "    \n",
        "    self.wq = tf.keras.layers.Dense(d_model)\n",
        "    self.wk = tf.keras.layers.Dense(d_model)\n",
        "    self.wv = tf.keras.layers.Dense(d_model)\n",
        "    \n",
        "    self.dense = tf.keras.layers.Dense(d_model)\n",
        "        \n",
        "  def split_heads(self, x, batch_size):\n",
        "    \"\"\"Split the last dimension into (num_heads, depth).\n",
        "    Transpose the result such that the shape is (batch_size, num_heads, seq_len, depth)\n",
        "    \"\"\"\n",
        "    x = tf.reshape(x, (batch_size, -1, self.num_heads, self.depth))\n",
        "    return tf.transpose(x, perm=[0, 2, 1, 3])\n",
        "    \n",
        "  def call(self, v, k, q, mask):\n",
        "    batch_size = tf.shape(q)[0]\n",
        "    \n",
        "    q = self.wq(q)  # (batch_size, seq_len, d_model)\n",
        "    k = self.wk(k)  # (batch_size, seq_len, d_model)\n",
        "    v = self.wv(v)  # (batch_size, seq_len, d_model)\n",
        "    \n",
        "    q = self.split_heads(q, batch_size)  # (batch_size, num_heads, seq_len_q, depth)\n",
        "    k = self.split_heads(k, batch_size)  # (batch_size, num_heads, seq_len_k, depth)\n",
        "    v = self.split_heads(v, batch_size)  # (batch_size, num_heads, seq_len_v, depth)\n",
        "    \n",
        "    # scaled_attention.shape == (batch_size, num_heads, seq_len_q, depth)\n",
        "    # attention_weights.shape == (batch_size, num_heads, seq_len_q, seq_len_k)\n",
        "    scaled_attention, attention_weights = scaled_dot_product_attention(\n",
        "        q, k, v, mask)\n",
        "    \n",
        "    scaled_attention = tf.transpose(scaled_attention, perm=[0, 2, 1, 3])  # (batch_size, seq_len_q, num_heads, depth)\n",
        "\n",
        "    concat_attention = tf.reshape(scaled_attention, \n",
        "                                  (batch_size, -1, self.d_model))  # (batch_size, seq_len_q, d_model)\n",
        "\n",
        "    output = self.dense(concat_attention)  # (batch_size, seq_len_q, d_model)\n",
        "        \n",
        "    return output, attention_weights"
      ],
      "execution_count": 26,
      "outputs": []
    },
    {
      "cell_type": "markdown",
      "metadata": {
        "id": "RdDqGayx67vv"
      },
      "source": [
        "## Point wise feed forward network"
      ]
    },
    {
      "cell_type": "markdown",
      "metadata": {
        "id": "gBqzJXGfHK3X"
      },
      "source": [
        "Point wise feed forward network consists of two fully-connected layers with a ReLU activation in between."
      ]
    },
    {
      "cell_type": "code",
      "metadata": {
        "id": "ET7xLt0yCT6Z"
      },
      "source": [
        "def point_wise_feed_forward_network(d_model, dff):\n",
        "  return tf.keras.Sequential([\n",
        "      tf.keras.layers.Dense(dff, activation='relu'),  # (batch_size, seq_len, dff)\n",
        "      tf.keras.layers.Dense(d_model)  # (batch_size, seq_len, d_model)\n",
        "  ])"
      ],
      "execution_count": 27,
      "outputs": []
    },
    {
      "cell_type": "markdown",
      "metadata": {
        "id": "7e7hKcxn6-zd"
      },
      "source": [
        "## Encoder and decoder"
      ]
    },
    {
      "cell_type": "markdown",
      "metadata": {
        "id": "QFv-FNYUmvpn"
      },
      "source": [
        "### Encoder layer\n",
        "\n",
        "Each encoder layer consists of sublayers:\n",
        "\n",
        "1.   Multi-head attention (with padding mask) \n",
        "2.    Point wise feed forward networks. \n",
        "\n",
        "Each of these sublayers has a residual connection around it followed by a layer normalization. Residual connections help in avoiding the vanishing gradient problem in deep networks.\n",
        "\n",
        "The output of each sublayer is `LayerNorm(x + Sublayer(x))`. The normalization is done on the `d_model` (last) axis. There are N encoder layers in the transformer."
      ]
    },
    {
      "cell_type": "code",
      "metadata": {
        "id": "ncyS-Ms3i2x_"
      },
      "source": [
        "class EncoderLayer(tf.keras.layers.Layer):\n",
        "  def __init__(self, d_model, num_heads, dff, rate=0.1):\n",
        "    super(EncoderLayer, self).__init__()\n",
        "\n",
        "    self.mha = MultiHeadAttention(d_model, num_heads)\n",
        "    self.ffn = point_wise_feed_forward_network(d_model, dff)\n",
        "\n",
        "    self.layernorm1 = tf.keras.layers.LayerNormalization(epsilon=1e-6)\n",
        "    self.layernorm2 = tf.keras.layers.LayerNormalization(epsilon=1e-6)\n",
        "    \n",
        "    self.dropout1 = tf.keras.layers.Dropout(rate)\n",
        "    self.dropout2 = tf.keras.layers.Dropout(rate)\n",
        "    \n",
        "  def call(self, x, training, mask):\n",
        "\n",
        "    attn_output, _ = self.mha(x, x, x, mask)  # (batch_size, input_seq_len, d_model)\n",
        "    attn_output = self.dropout1(attn_output, training=training)\n",
        "    out1 = self.layernorm1(x + attn_output)  # (batch_size, input_seq_len, d_model)\n",
        "    \n",
        "    ffn_output = self.ffn(out1)  # (batch_size, input_seq_len, d_model)\n",
        "    ffn_output = self.dropout2(ffn_output, training=training)\n",
        "    out2 = self.layernorm2(out1 + ffn_output)  # (batch_size, input_seq_len, d_model)\n",
        "    \n",
        "    return out2"
      ],
      "execution_count": 28,
      "outputs": []
    },
    {
      "cell_type": "markdown",
      "metadata": {
        "id": "6LO_48Owmx_o"
      },
      "source": [
        "### Decoder layer\n",
        "\n",
        "Each decoder layer consists of sublayers:\n",
        "\n",
        "1.   Masked multi-head attention (with look ahead mask and padding mask)\n",
        "2.   Multi-head attention (with padding mask). V (value) and K (key) receive the *encoder output* as inputs. Q (query) receives the *output from the masked multi-head attention sublayer.*\n",
        "3.   Point wise feed forward networks\n",
        "\n",
        "Each of these sublayers has a residual connection around it followed by a layer normalization. The output of each sublayer is `LayerNorm(x + Sublayer(x))`. The normalization is done on the `d_model` (last) axis.\n",
        "\n",
        "There are N decoder layers in the transformer.\n",
        "\n",
        "As Q receives the output from decoder's first attention block, and K receives the encoder output, the attention weights represent the importance given to the decoder's input based on the encoder's output. In other words, the decoder predicts the next word by looking at the encoder output and self-attending to its own output. See the demonstration above in the scaled dot product attention section."
      ]
    },
    {
      "cell_type": "code",
      "metadata": {
        "id": "9SoX0-vd1hue"
      },
      "source": [
        "class DecoderLayer(tf.keras.layers.Layer):\n",
        "  def __init__(self, d_model, num_heads, dff, rate=0.1):\n",
        "    super(DecoderLayer, self).__init__()\n",
        "\n",
        "    self.mha1 = MultiHeadAttention(d_model, num_heads)\n",
        "    self.mha2 = MultiHeadAttention(d_model, num_heads)\n",
        "\n",
        "    self.ffn = point_wise_feed_forward_network(d_model, dff)\n",
        " \n",
        "    self.layernorm1 = tf.keras.layers.LayerNormalization(epsilon=1e-6)\n",
        "    self.layernorm2 = tf.keras.layers.LayerNormalization(epsilon=1e-6)\n",
        "    self.layernorm3 = tf.keras.layers.LayerNormalization(epsilon=1e-6)\n",
        "    \n",
        "    self.dropout1 = tf.keras.layers.Dropout(rate)\n",
        "    self.dropout2 = tf.keras.layers.Dropout(rate)\n",
        "    self.dropout3 = tf.keras.layers.Dropout(rate)\n",
        "    \n",
        "    \n",
        "  def call(self, x, enc_output, training, \n",
        "           look_ahead_mask, padding_mask):\n",
        "    # enc_output.shape == (batch_size, input_seq_len, d_model)\n",
        "\n",
        "    attn1, attn_weights_block1 = self.mha1(x, x, x, look_ahead_mask)  # (batch_size, target_seq_len, d_model)\n",
        "    attn1 = self.dropout1(attn1, training=training)\n",
        "    out1 = self.layernorm1(attn1 + x)\n",
        "    \n",
        "    attn2, attn_weights_block2 = self.mha2(\n",
        "        enc_output, enc_output, out1, padding_mask)  # (batch_size, target_seq_len, d_model)\n",
        "    attn2 = self.dropout2(attn2, training=training)\n",
        "    out2 = self.layernorm2(attn2 + out1)  # (batch_size, target_seq_len, d_model)\n",
        "    \n",
        "    ffn_output = self.ffn(out2)  # (batch_size, target_seq_len, d_model)\n",
        "    ffn_output = self.dropout3(ffn_output, training=training)\n",
        "    out3 = self.layernorm3(ffn_output + out2)  # (batch_size, target_seq_len, d_model)\n",
        "    \n",
        "    return out3, attn_weights_block1, attn_weights_block2"
      ],
      "execution_count": 29,
      "outputs": []
    },
    {
      "cell_type": "markdown",
      "metadata": {
        "id": "SE1H51Ajm0q1"
      },
      "source": [
        "### Encoder\n",
        "\n",
        "The `Encoder` consists of:\n",
        "1.   Input Embedding\n",
        "2.   Positional Encoding\n",
        "3.   N encoder layers\n",
        "\n",
        "The input is put through an embedding which is summed with the positional encoding. The output of this summation is the input to the encoder layers. The output of the encoder is the input to the decoder."
      ]
    },
    {
      "cell_type": "code",
      "metadata": {
        "id": "jpEox7gJ8FCI"
      },
      "source": [
        "class Encoder(tf.keras.layers.Layer):\n",
        "  def __init__(self, num_layers, d_model, num_heads, dff, input_vocab_size,\n",
        "               maximum_position_encoding, rate=0.1):\n",
        "    super(Encoder, self).__init__()\n",
        "    self.d_model = d_model\n",
        "    self.num_layers = num_layers\n",
        "    \n",
        "    self.embedding = tf.keras.layers.Embedding(input_vocab_size, d_model)\n",
        "    self.pos_encoding = positional_encoding(maximum_position_encoding, \n",
        "                                            self.d_model)\n",
        "    \n",
        "    \n",
        "    self.enc_layers = [EncoderLayer(d_model, num_heads, dff, rate) \n",
        "                       for _ in range(num_layers)]\n",
        "  \n",
        "    self.dropout = tf.keras.layers.Dropout(rate)\n",
        "        \n",
        "  def call(self, x, training, mask):\n",
        "\n",
        "    seq_len = tf.shape(x)[1]\n",
        "    \n",
        "    # adding embedding and position encoding.\n",
        "    x = self.embedding(x)  # (batch_size, input_seq_len, d_model)\n",
        "    x *= tf.math.sqrt(tf.cast(self.d_model, tf.float32))\n",
        "    x += self.pos_encoding[:, :seq_len, :]\n",
        "\n",
        "    x = self.dropout(x, training=training)\n",
        "    \n",
        "    for i in range(self.num_layers):\n",
        "      x = self.enc_layers[i](x, training, mask)\n",
        "    \n",
        "    return x  # (batch_size, input_seq_len, d_model)"
      ],
      "execution_count": 30,
      "outputs": []
    },
    {
      "cell_type": "markdown",
      "metadata": {
        "id": "p-uO6ls8m2O5"
      },
      "source": [
        "### Decoder"
      ]
    },
    {
      "cell_type": "markdown",
      "metadata": {
        "id": "ZtT7PKzrXkNr"
      },
      "source": [
        " The `Decoder` consists of:\n",
        "1.   Output Embedding\n",
        "2.   Positional Encoding\n",
        "3.   N decoder layers\n",
        "\n",
        "The target is put through an embedding which is summed with the positional encoding. The output of this summation is the input to the decoder layers. The output of the decoder is the input to the final linear layer."
      ]
    },
    {
      "cell_type": "code",
      "metadata": {
        "id": "d5_d5-PLQXwY"
      },
      "source": [
        "class Decoder(tf.keras.layers.Layer):\n",
        "  def __init__(self, num_layers, d_model, num_heads, dff, target_vocab_size,\n",
        "               maximum_position_encoding, rate=0.1):\n",
        "    super(Decoder, self).__init__()\n",
        "\n",
        "    self.d_model = d_model\n",
        "    self.num_layers = num_layers\n",
        "    \n",
        "    self.embedding = tf.keras.layers.Embedding(target_vocab_size, d_model)\n",
        "    self.pos_encoding = positional_encoding(maximum_position_encoding, d_model)\n",
        "    \n",
        "    self.dec_layers = [DecoderLayer(d_model, num_heads, dff, rate) \n",
        "                       for _ in range(num_layers)]\n",
        "    self.dropout = tf.keras.layers.Dropout(rate)\n",
        "    \n",
        "  def call(self, x, enc_output, training, \n",
        "           look_ahead_mask, padding_mask):\n",
        "\n",
        "    seq_len = tf.shape(x)[1]\n",
        "    attention_weights = {}\n",
        "    \n",
        "    x = self.embedding(x)  # (batch_size, target_seq_len, d_model)\n",
        "    x *= tf.math.sqrt(tf.cast(self.d_model, tf.float32))\n",
        "    x += self.pos_encoding[:, :seq_len, :]\n",
        "    \n",
        "    x = self.dropout(x, training=training)\n",
        "\n",
        "    for i in range(self.num_layers):\n",
        "      x, block1, block2 = self.dec_layers[i](x, enc_output, training,\n",
        "                                             look_ahead_mask, padding_mask)\n",
        "      \n",
        "      attention_weights['decoder_layer{}_block1'.format(i+1)] = block1\n",
        "      attention_weights['decoder_layer{}_block2'.format(i+1)] = block2\n",
        "    \n",
        "    # x.shape == (batch_size, target_seq_len, d_model)\n",
        "    return x, attention_weights"
      ],
      "execution_count": 31,
      "outputs": []
    },
    {
      "cell_type": "markdown",
      "metadata": {
        "id": "y54xnJnuYgJ7"
      },
      "source": [
        "## Create the Transformer"
      ]
    },
    {
      "cell_type": "code",
      "metadata": {
        "id": "PED3bIpOYkBu"
      },
      "source": [
        "class Transformer(tf.keras.Model):\n",
        "  def __init__(self, num_layers, d_model, num_heads, dff, input_vocab_size, \n",
        "               target_vocab_size, pe_input, pe_target, rate=0.1):\n",
        "    super(Transformer, self).__init__()\n",
        "    \n",
        "    self.encoder = Encoder(num_layers, d_model, num_heads, dff, \n",
        "                           input_vocab_size, pe_input, rate)\n",
        "\n",
        "    self.decoder = Decoder(num_layers, d_model, num_heads, dff, \n",
        "                           target_vocab_size, pe_target, rate)\n",
        "\n",
        "    self.final_layer = tf.keras.layers.Dense(target_vocab_size)\n",
        "    \n",
        "  def call(self, inp, tar, training, enc_padding_mask, \n",
        "           look_ahead_mask, dec_padding_mask):\n",
        "    \n",
        "    enc_output = self.encoder(inp, training, enc_padding_mask)  # (batch_size, inp_seq_len, d_model)\n",
        "    # dec_output.shape == (batch_size, tar_seq_len, d_model)\n",
        "    dec_output, attention_weights = self.decoder(\n",
        "        tar, enc_output, training, look_ahead_mask, dec_padding_mask)\n",
        "    \n",
        "    final_output = self.final_layer(dec_output)  # (batch_size, tar_seq_len, target_vocab_size)\n",
        "    \n",
        "    return final_output, attention_weights"
      ],
      "execution_count": 32,
      "outputs": []
    },
    {
      "cell_type": "markdown",
      "metadata": {
        "id": "wsINyf1VEQLC"
      },
      "source": [
        "## Set hyperparameters"
      ]
    },
    {
      "cell_type": "code",
      "metadata": {
        "id": "lnJn5SLA2ahP"
      },
      "source": [
        "num_layers = 6\n",
        "d_model = 256 # model dim\n",
        "dff = 512 # feed forward dim\n",
        "num_heads = 8 # number of multi head attention d_model%num_heads == 0\n",
        "\n",
        "input_vocab_size = tokenizer_en.vocab_size + 2\n",
        "target_vocab_size = tokenizer_vn.vocab_size + 2\n",
        "dropout_rate = 0.1"
      ],
      "execution_count": 33,
      "outputs": []
    },
    {
      "cell_type": "markdown",
      "metadata": {
        "id": "xYEGhEOtzn5W"
      },
      "source": [
        "## Optimizer"
      ]
    },
    {
      "cell_type": "markdown",
      "metadata": {
        "id": "GOmWW--yP3zx"
      },
      "source": [
        "Use the Adam optimizer with a custom learning rate scheduler according to the formula in the [paper](https://arxiv.org/abs/1706.03762).\n",
        "\n",
        "$$\\Large{lrate = d_{model}^{-0.5} * min(step{\\_}num^{-0.5}, step{\\_}num * warmup{\\_}steps^{-1.5})}$$\n"
      ]
    },
    {
      "cell_type": "code",
      "metadata": {
        "id": "iYQdOO1axwEI"
      },
      "source": [
        "class CustomSchedule(tf.keras.optimizers.schedules.LearningRateSchedule):\n",
        "  def __init__(self, d_model, warmup_steps=4000):\n",
        "    super(CustomSchedule, self).__init__()\n",
        "    \n",
        "    self.d_model = d_model\n",
        "    self.d_model = tf.cast(self.d_model, tf.float32)\n",
        "\n",
        "    self.warmup_steps = warmup_steps\n",
        "    \n",
        "  def __call__(self, step):\n",
        "    arg1 = tf.math.rsqrt(step)\n",
        "    arg2 = step * (self.warmup_steps ** -1.5)\n",
        "    \n",
        "    return tf.math.rsqrt(self.d_model) * tf.math.minimum(arg1, arg2)"
      ],
      "execution_count": 34,
      "outputs": []
    },
    {
      "cell_type": "code",
      "metadata": {
        "id": "7r4scdulztRx"
      },
      "source": [
        "learning_rate = CustomSchedule(d_model)\n",
        "\n",
        "optimizer = tf.keras.optimizers.Adam(learning_rate, beta_1=0.9, beta_2=0.98, \n",
        "                                     epsilon=1e-9)"
      ],
      "execution_count": 35,
      "outputs": []
    },
    {
      "cell_type": "markdown",
      "metadata": {
        "id": "YgkDE7hzo8r5"
      },
      "source": [
        "## Loss and metrics"
      ]
    },
    {
      "cell_type": "markdown",
      "metadata": {
        "id": "oxGJtoDuYIHL"
      },
      "source": [
        "Since the target sequences are padded, it is important to apply a padding mask when calculating the loss."
      ]
    },
    {
      "cell_type": "code",
      "metadata": {
        "id": "67oqVHiT0Eiu"
      },
      "source": [
        "\n",
        "def loss_function(real, pred):\n",
        "  mask = tf.math.logical_not(tf.math.equal(real, 0))\n",
        "  loss_ = loss_object(real, pred)\n",
        "\n",
        "  mask = tf.cast(mask, dtype=loss_.dtype)\n",
        "  loss_ *= mask\n",
        "  return tf.reduce_sum(loss_)/tf.reduce_sum(mask)\n",
        "def accuracy_function(real, pred):\n",
        "  # print('000000000000000000000000000')\n",
        "  # print(real)\n",
        "  # print('111111111111111111111111111')\n",
        "  # print(pred)\n",
        "  # print('222222222222222222222222222')\n",
        "  # print(tf.argmax(pred, axis=2))\n",
        "  # print('333333333333333333333333333')\n",
        "\n",
        "  accuracies = tf.equal(real, tf.argmax(pred, axis=2))\n",
        "  # print(accuracies)\n",
        "  # print('333333333333333333333333333')\n",
        "  mask = tf.math.logical_not(tf.math.equal(real, 0))\n",
        "  accuracies = tf.math.logical_and(mask, accuracies)\n",
        "\n",
        "  accuracies = tf.cast(accuracies, dtype=tf.float32)\n",
        "  mask = tf.cast(mask, dtype=tf.float32)\n",
        "  return tf.reduce_sum(accuracies)/tf.reduce_sum(mask)\n",
        "# def accuracy_function(real, pred):\n",
        "#   candidate = tf.argmax(pred, axis=2)\n",
        "#   # print(real.)\n",
        "#   print(real.numpy()[0][:-1])\n",
        "#   print(tokenizer_vn.decode(real.numpy()[0][:-1]))\n",
        "#   print(candidate.numpy()[0][:-1])\n",
        "#   print(tokenizer_vn.decode(candidate.numpy()[0][:-1]))\n",
        "#   # print(candidate)\n",
        "#   # score = bleu_score(real, candidate)\n",
        "#   score = 12\n",
        "#   print(score)\n",
        "#   return tf.constant(score)\n",
        "# # bleu_function('real', 'pred')\n"
      ],
      "execution_count": 36,
      "outputs": []
    },
    {
      "cell_type": "code",
      "metadata": {
        "id": "sPfZsplvJ0sG"
      },
      "source": [
        "# dir(tokenizer_vn)"
      ],
      "execution_count": 37,
      "outputs": []
    },
    {
      "cell_type": "code",
      "metadata": {
        "id": "ggV3cc5-LyNX"
      },
      "source": [
        "# for i in content_vn[:12]:\r\n",
        "#   if 'mãnh_' in i:\r\n",
        "#     print(i)  "
      ],
      "execution_count": 38,
      "outputs": []
    },
    {
      "cell_type": "code",
      "metadata": {
        "id": "DIFfKbIEJ8P4"
      },
      "source": [
        "# for i in range(100000):\r\n",
        "#   print(tokenizer_vn._id_to_subword(i).encode('utf-8').decode('utf-8'))"
      ],
      "execution_count": 39,
      "outputs": []
    },
    {
      "cell_type": "code",
      "metadata": {
        "id": "uOSeW1vcfTWa"
      },
      "source": [
        "from collections import Counter\r\n",
        "import math\r\n",
        "def n_gram_generator(sentence,n= 2,n_gram= False):\r\n",
        "    '''\r\n",
        "    N-Gram generator with parameters sentence\r\n",
        "    n is for number of n_grams\r\n",
        "    The n_gram parameter removes repeating n_grams \r\n",
        "    '''\r\n",
        "    sentence = sentence.lower() # converting to lower case\r\n",
        "    sent_arr = np.array(sentence.split()) # split to string arrays\r\n",
        "    length = len(sent_arr)\r\n",
        "\r\n",
        "    word_list = []\r\n",
        "    for i in range(length+1):\r\n",
        "        if i < n:\r\n",
        "            continue\r\n",
        "        word_range = list(range(i-n,i))\r\n",
        "        s_list = sent_arr[word_range]\r\n",
        "        string = ' '.join(s_list) # converting list to strings\r\n",
        "        word_list.append(string) # append to word_list\r\n",
        "        if n_gram:\r\n",
        "            word_list = list(set(word_list))\r\n",
        "    return word_list\r\n",
        "def bleu_score(original,machine_translated):\r\n",
        "    '''\r\n",
        "    Bleu score function given a orginal and a machine translated sentences\r\n",
        "    '''\r\n",
        "    mt_length = len(machine_translated.split())\r\n",
        "    o_length = len(original.split())\r\n",
        "\r\n",
        "    # Brevity Penalty \r\n",
        "    if mt_length>o_length:\r\n",
        "        BP=1\r\n",
        "    else:\r\n",
        "        penality=1-(mt_length/o_length)\r\n",
        "        BP=np.exp(penality)\r\n",
        "\r\n",
        "    # Clipped precision\r\n",
        "    clipped_precision_score = []\r\n",
        "    for i in range(1, 5):\r\n",
        "        original_n_gram = Counter(n_gram_generator(original,i))\r\n",
        "        machine_n_gram = Counter(n_gram_generator(machine_translated,i))\r\n",
        "\r\n",
        "        c = sum(machine_n_gram.values())\r\n",
        "        for j in machine_n_gram:\r\n",
        "            if j in original_n_gram:\r\n",
        "                if machine_n_gram[j] > original_n_gram[j]:\r\n",
        "                    machine_n_gram[j] = original_n_gram[j]\r\n",
        "            else:\r\n",
        "                machine_n_gram[j] = 0\r\n",
        "\r\n",
        "        #print (sum(machine_n_gram.values()), c)\r\n",
        "        clipped_precision_score.append(sum(machine_n_gram.values())/c)\r\n",
        "\r\n",
        "    #print (clipped_precision_score)\r\n",
        "\r\n",
        "    weights =[0.25]*4\r\n",
        "\r\n",
        "    s = (w_i * math.log(p_i) for w_i, p_i in zip(weights, clipped_precision_score))\r\n",
        "    s = BP * math.exp(math.fsum(s))\r\n",
        "    return s\r\n",
        "\r\n",
        "original = \"It is a guide to action which ensures that the military alwasy obeys the command of the party\"\r\n",
        "machine_translated = \"It is the guiding principle which guarantees the military forces alwasy being under the command of the party\"\r\n",
        "\r\n",
        "# print (bleu_score(original, machine_translated))\r\n",
        "# print (sentence_bleu([original.split()], machine_translated.split()))"
      ],
      "execution_count": 40,
      "outputs": []
    },
    {
      "cell_type": "code",
      "metadata": {
        "id": "phlyxMnm-Tpx"
      },
      "source": [
        "loss_object = tf.keras.losses.SparseCategoricalCrossentropy(\n",
        "    from_logits=True, reduction='none')\n",
        "train_loss = tf.keras.metrics.Mean(name='train_loss')\n",
        "train_accuracy = tf.keras.metrics.Mean(\n",
        "    name='train_accuracy')"
      ],
      "execution_count": 41,
      "outputs": []
    },
    {
      "cell_type": "markdown",
      "metadata": {
        "id": "aeHumfr7zmMa"
      },
      "source": [
        "## Training and checkpointing"
      ]
    },
    {
      "cell_type": "code",
      "metadata": {
        "id": "UiysUa--4tOU"
      },
      "source": [
        "transformer = Transformer(num_layers, d_model, num_heads, dff,\n",
        "                          input_vocab_size, target_vocab_size, \n",
        "                          pe_input=input_vocab_size, \n",
        "                          pe_target=target_vocab_size,\n",
        "                          rate=dropout_rate)"
      ],
      "execution_count": 42,
      "outputs": []
    },
    {
      "cell_type": "code",
      "metadata": {
        "id": "ZOJUSB1T8GjM"
      },
      "source": [
        "def create_masks(inp, tar):\n",
        "  # Encoder padding mask\n",
        "  enc_padding_mask = create_padding_mask(inp)\n",
        "  \n",
        "  # Used in the 2nd attention block in the decoder.\n",
        "  # This padding mask is used to mask the encoder outputs.\n",
        "  dec_padding_mask = create_padding_mask(inp)\n",
        "  \n",
        "  # Used in the 1st attention block in the decoder.\n",
        "  # It is used to pad and mask future tokens in the input received by \n",
        "  # the decoder.\n",
        "  look_ahead_mask = create_look_ahead_mask(tf.shape(tar)[1])\n",
        "  dec_target_padding_mask = create_padding_mask(tar)\n",
        "  combined_mask = tf.maximum(dec_target_padding_mask, look_ahead_mask)\n",
        "  \n",
        "  return enc_padding_mask, combined_mask, dec_padding_mask"
      ],
      "execution_count": 43,
      "outputs": []
    },
    {
      "cell_type": "markdown",
      "metadata": {
        "id": "Fzuf06YZp66w"
      },
      "source": [
        "Create the checkpoint path and the checkpoint manager. This will be used to save checkpoints every `n` epochs."
      ]
    },
    {
      "cell_type": "code",
      "metadata": {
        "id": "hNhuYfllndLZ"
      },
      "source": [
        "checkpoint_path = \"/content/drive/MyDrive/VinBigData/checkpoints/train121\"\n",
        "\n",
        "ckpt = tf.train.Checkpoint(transformer=transformer,\n",
        "                           optimizer=optimizer)\n",
        "\n",
        "ckpt_manager = tf.train.CheckpointManager(ckpt, checkpoint_path, max_to_keep=5)\n",
        "\n",
        "# if a checkpoint exists, restore the latest checkpoint.\n",
        "if ckpt_manager.latest_checkpoint:\n",
        "  ckpt.restore(ckpt_manager.latest_checkpoint)\n",
        "  print ('Latest checkpoint restored!!')"
      ],
      "execution_count": 44,
      "outputs": []
    },
    {
      "cell_type": "code",
      "metadata": {
        "id": "LKpoA6q1sJFj"
      },
      "source": [
        "EPOCHS = 0"
      ],
      "execution_count": 45,
      "outputs": []
    },
    {
      "cell_type": "code",
      "metadata": {
        "id": "UWZIMEVZ8eTl"
      },
      "source": [
        "# The @tf.function trace-compiles train_step into a TF graph for faster\n",
        "# execution. The function specializes to the precise shape of the argument\n",
        "# tensors. To avoid re-tracing due to the variable sequence lengths o4/1AY0e-g5NwERYfvXHd5gYJ0PO1FU94gGYrmyMq14BU0Dlvo5oiSqu1suLElor variable\n",
        "# batch sizes (the last batch is smaller), use input_signature to specify\n",
        "# more generic shapes.\n",
        "\n",
        "train_step_signature = [\n",
        "    tf.TensorSpec(shape=(None, None), dtype=tf.int64),\n",
        "    tf.TensorSpec(shape=(None, None), dtype=tf.int64),\n",
        "]\n",
        "\n",
        "# @tf.function(input_signature=train_step_signature)\n",
        "def train_step(inp, tar):\n",
        "  # print('inner train')\n",
        "  tar_inp = tar[:, :-1]\n",
        "  tar_real = tar[:, 1:]\n",
        "  \n",
        "  enc_padding_mask, combined_mask, dec_padding_mask = create_masks(inp, tar_inp)\n",
        "  \n",
        "  with tf.GradientTape() as tape:\n",
        "    # print('---------------------------------')\n",
        "    predictions, _ = transformer(inp, tar_inp, \n",
        "                                 True, \n",
        "                                 enc_padding_mask, \n",
        "                                 combined_mask, \n",
        "                                 dec_padding_mask)\n",
        "    loss = loss_function(tar_real, predictions)\n",
        "  gradients = tape.gradient(loss, transformer.trainable_variables)    \n",
        "  optimizer.apply_gradients(zip(gradients, transformer.trainable_variables))\n",
        "  \n",
        "  train_loss(loss)\n",
        "  # print('--------------------')\n",
        "  # print(accuracy_function(tar_real, predictions))\n",
        "  # print('--------------------')\n",
        "  train_accuracy(accuracy_function(tar_real, predictions))"
      ],
      "execution_count": 46,
      "outputs": []
    },
    {
      "cell_type": "code",
      "metadata": {
        "id": "H315b1hp8e9D",
        "colab": {
          "base_uri": "https://localhost:8080/"
        },
        "outputId": "16bcfbe0-8795-4275-b11a-999de332cc67"
      },
      "source": [
        "EPOCHS = 100\n",
        "for epoch in range(EPOCHS):\n",
        "  start = time.time()\n",
        "  \n",
        "  train_loss.reset_states()\n",
        "  train_accuracy.reset_states()\n",
        "  \n",
        "  # inp -> en, tar -> vn\n",
        "  for (batch, (inp, tar)) in enumerate(train_dataset):\n",
        "    train_step(inp, tar)\n",
        "    \n",
        "    if batch % 50 == 0:\n",
        "      print ('Epoch {} Batch {} Loss {:.4f} Accuracy {:.4f}'.format(\n",
        "          epoch + 1, batch, train_loss.result(), train_accuracy.result()))\n",
        "      \n",
        "  if (epoch + 1) % 5 == 0:\n",
        "    ckpt_save_path = ckpt_manager.save()\n",
        "    print ('Saving checkpoint for epoch {} at {}'.format(epoch+1,\n",
        "                                                         ckpt_save_path))\n",
        "    \n",
        "  print ('Epoch {} Loss {:.4f} Accuracy {:.4f}'.format(epoch + 1, \n",
        "                                                train_loss.result(), \n",
        "                                                train_accuracy.result()))\n",
        "\n",
        "  print ('Time taken for 1 epoch: {} secs\\n'.format(time.time() - start))"
      ],
      "execution_count": 114,
      "outputs": [
        {
          "output_type": "stream",
          "text": [
            "Epoch 1 Batch 0 Loss 0.2617 Accuracy 0.9187\n",
            "Epoch 1 Batch 50 Loss 0.2006 Accuracy 0.9415\n",
            "Epoch 1 Batch 100 Loss 0.1939 Accuracy 0.9432\n",
            "Epoch 1 Batch 150 Loss 0.1982 Accuracy 0.9425\n",
            "Epoch 1 Loss 0.2034 Accuracy 0.9409\n",
            "Time taken for 1 epoch: 67.74644374847412 secs\n",
            "\n",
            "Epoch 2 Batch 0 Loss 0.1685 Accuracy 0.9635\n",
            "Epoch 2 Batch 50 Loss 0.2019 Accuracy 0.9407\n",
            "Epoch 2 Batch 100 Loss 0.1991 Accuracy 0.9412\n",
            "Epoch 2 Batch 150 Loss 0.1994 Accuracy 0.9413\n",
            "Epoch 2 Loss 0.2043 Accuracy 0.9401\n",
            "Time taken for 1 epoch: 67.73964834213257 secs\n",
            "\n",
            "Epoch 3 Batch 0 Loss 0.2093 Accuracy 0.9270\n",
            "Epoch 3 Batch 50 Loss 0.2096 Accuracy 0.9407\n",
            "Epoch 3 Batch 100 Loss 0.1964 Accuracy 0.9438\n",
            "Epoch 3 Batch 150 Loss 0.1959 Accuracy 0.9437\n",
            "Epoch 3 Loss 0.2002 Accuracy 0.9425\n",
            "Time taken for 1 epoch: 68.32281064987183 secs\n",
            "\n",
            "Epoch 4 Batch 0 Loss 0.2728 Accuracy 0.9277\n",
            "Epoch 4 Batch 50 Loss 0.1933 Accuracy 0.9445\n",
            "Epoch 4 Batch 100 Loss 0.1895 Accuracy 0.9447\n",
            "Epoch 4 Batch 150 Loss 0.1933 Accuracy 0.9435\n",
            "Epoch 4 Loss 0.1960 Accuracy 0.9427\n",
            "Time taken for 1 epoch: 68.45900392532349 secs\n",
            "\n",
            "Epoch 5 Batch 0 Loss 0.2737 Accuracy 0.9186\n",
            "Epoch 5 Batch 50 Loss 0.2018 Accuracy 0.9400\n",
            "Epoch 5 Batch 100 Loss 0.1951 Accuracy 0.9428\n",
            "Epoch 5 Batch 150 Loss 0.1939 Accuracy 0.9429\n",
            "Saving checkpoint for epoch 5 at /content/drive/MyDrive/VinBigData/checkpoints/train121/ckpt-21\n",
            "Epoch 5 Loss 0.1986 Accuracy 0.9416\n",
            "Time taken for 1 epoch: 69.65025544166565 secs\n",
            "\n",
            "Epoch 6 Batch 0 Loss 0.2388 Accuracy 0.9500\n",
            "Epoch 6 Batch 50 Loss 0.1881 Accuracy 0.9452\n",
            "Epoch 6 Batch 100 Loss 0.1850 Accuracy 0.9464\n",
            "Epoch 6 Batch 150 Loss 0.1859 Accuracy 0.9459\n",
            "Epoch 6 Loss 0.1895 Accuracy 0.9447\n",
            "Time taken for 1 epoch: 69.00430870056152 secs\n",
            "\n",
            "Epoch 7 Batch 0 Loss 0.1566 Accuracy 0.9501\n",
            "Epoch 7 Batch 50 Loss 0.1913 Accuracy 0.9439\n",
            "Epoch 7 Batch 100 Loss 0.1851 Accuracy 0.9465\n",
            "Epoch 7 Batch 150 Loss 0.1860 Accuracy 0.9461\n",
            "Epoch 7 Loss 0.1896 Accuracy 0.9451\n",
            "Time taken for 1 epoch: 67.7636787891388 secs\n",
            "\n",
            "Epoch 8 Batch 0 Loss 0.1510 Accuracy 0.9569\n",
            "Epoch 8 Batch 50 Loss 0.1848 Accuracy 0.9479\n",
            "Epoch 8 Batch 100 Loss 0.1823 Accuracy 0.9481\n",
            "Epoch 8 Batch 150 Loss 0.1877 Accuracy 0.9465\n",
            "Epoch 8 Loss 0.1894 Accuracy 0.9461\n",
            "Time taken for 1 epoch: 67.5608115196228 secs\n",
            "\n",
            "Epoch 9 Batch 0 Loss 0.1995 Accuracy 0.9426\n",
            "Epoch 9 Batch 50 Loss 0.1772 Accuracy 0.9471\n",
            "Epoch 9 Batch 100 Loss 0.1769 Accuracy 0.9479\n",
            "Epoch 9 Batch 150 Loss 0.1805 Accuracy 0.9463\n",
            "Epoch 9 Loss 0.1848 Accuracy 0.9455\n",
            "Time taken for 1 epoch: 67.24952936172485 secs\n",
            "\n",
            "Epoch 10 Batch 0 Loss 0.1785 Accuracy 0.9471\n",
            "Epoch 10 Batch 50 Loss 0.1785 Accuracy 0.9486\n",
            "Epoch 10 Batch 100 Loss 0.1746 Accuracy 0.9494\n",
            "Epoch 10 Batch 150 Loss 0.1768 Accuracy 0.9491\n",
            "Saving checkpoint for epoch 10 at /content/drive/MyDrive/VinBigData/checkpoints/train121/ckpt-22\n",
            "Epoch 10 Loss 0.1811 Accuracy 0.9478\n",
            "Time taken for 1 epoch: 68.39891457557678 secs\n",
            "\n",
            "Epoch 11 Batch 0 Loss 0.2216 Accuracy 0.9246\n",
            "Epoch 11 Batch 50 Loss 0.1726 Accuracy 0.9501\n",
            "Epoch 11 Batch 100 Loss 0.1729 Accuracy 0.9504\n",
            "Epoch 11 Batch 150 Loss 0.1737 Accuracy 0.9497\n",
            "Epoch 11 Loss 0.1781 Accuracy 0.9485\n",
            "Time taken for 1 epoch: 67.2516770362854 secs\n",
            "\n",
            "Epoch 12 Batch 0 Loss 0.1902 Accuracy 0.9487\n",
            "Epoch 12 Batch 50 Loss 0.1800 Accuracy 0.9487\n",
            "Epoch 12 Batch 100 Loss 0.1751 Accuracy 0.9492\n",
            "Epoch 12 Batch 150 Loss 0.1745 Accuracy 0.9489\n",
            "Epoch 12 Loss 0.1790 Accuracy 0.9474\n",
            "Time taken for 1 epoch: 67.03812670707703 secs\n",
            "\n",
            "Epoch 13 Batch 0 Loss 0.2543 Accuracy 0.9294\n",
            "Epoch 13 Batch 50 Loss 0.1741 Accuracy 0.9502\n",
            "Epoch 13 Batch 100 Loss 0.1728 Accuracy 0.9506\n",
            "Epoch 13 Batch 150 Loss 0.1735 Accuracy 0.9502\n",
            "Epoch 13 Loss 0.1748 Accuracy 0.9499\n",
            "Time taken for 1 epoch: 67.22383141517639 secs\n",
            "\n",
            "Epoch 14 Batch 0 Loss 0.1971 Accuracy 0.9542\n",
            "Epoch 14 Batch 50 Loss 0.1744 Accuracy 0.9499\n",
            "Epoch 14 Batch 100 Loss 0.1732 Accuracy 0.9505\n",
            "Epoch 14 Batch 150 Loss 0.1716 Accuracy 0.9506\n",
            "Epoch 14 Loss 0.1739 Accuracy 0.9499\n",
            "Time taken for 1 epoch: 67.46580791473389 secs\n",
            "\n",
            "Epoch 15 Batch 0 Loss 0.1394 Accuracy 0.9634\n",
            "Epoch 15 Batch 50 Loss 0.1755 Accuracy 0.9488\n",
            "Epoch 15 Batch 100 Loss 0.1704 Accuracy 0.9506\n",
            "Epoch 15 Batch 150 Loss 0.1708 Accuracy 0.9506\n",
            "Saving checkpoint for epoch 15 at /content/drive/MyDrive/VinBigData/checkpoints/train121/ckpt-23\n",
            "Epoch 15 Loss 0.1732 Accuracy 0.9499\n",
            "Time taken for 1 epoch: 67.79548597335815 secs\n",
            "\n",
            "Epoch 16 Batch 0 Loss 0.1811 Accuracy 0.9498\n",
            "Epoch 16 Batch 50 Loss 0.1677 Accuracy 0.9513\n",
            "Epoch 16 Batch 100 Loss 0.1676 Accuracy 0.9513\n",
            "Epoch 16 Batch 150 Loss 0.1698 Accuracy 0.9503\n",
            "Epoch 16 Loss 0.1721 Accuracy 0.9495\n",
            "Time taken for 1 epoch: 67.36498785018921 secs\n",
            "\n",
            "Epoch 17 Batch 0 Loss 0.2262 Accuracy 0.9355\n",
            "Epoch 17 Batch 50 Loss 0.1655 Accuracy 0.9526\n",
            "Epoch 17 Batch 100 Loss 0.1697 Accuracy 0.9518\n",
            "Epoch 17 Batch 150 Loss 0.1685 Accuracy 0.9516\n",
            "Epoch 17 Loss 0.1711 Accuracy 0.9509\n",
            "Time taken for 1 epoch: 67.26125168800354 secs\n",
            "\n",
            "Epoch 18 Batch 0 Loss 0.1029 Accuracy 0.9774\n",
            "Epoch 18 Batch 50 Loss 0.1578 Accuracy 0.9539\n",
            "Epoch 18 Batch 100 Loss 0.1595 Accuracy 0.9536\n",
            "Epoch 18 Batch 150 Loss 0.1599 Accuracy 0.9530\n",
            "Epoch 18 Loss 0.1642 Accuracy 0.9519\n",
            "Time taken for 1 epoch: 67.51012992858887 secs\n",
            "\n",
            "Epoch 19 Batch 0 Loss 0.1811 Accuracy 0.9578\n",
            "Epoch 19 Batch 50 Loss 0.1742 Accuracy 0.9489\n",
            "Epoch 19 Batch 100 Loss 0.1638 Accuracy 0.9525\n",
            "Epoch 19 Batch 150 Loss 0.1631 Accuracy 0.9529\n",
            "Epoch 19 Loss 0.1619 Accuracy 0.9532\n",
            "Time taken for 1 epoch: 67.78723406791687 secs\n",
            "\n",
            "Epoch 20 Batch 0 Loss 0.1757 Accuracy 0.9535\n",
            "Epoch 20 Batch 50 Loss 0.1661 Accuracy 0.9528\n",
            "Epoch 20 Batch 100 Loss 0.1691 Accuracy 0.9522\n",
            "Epoch 20 Batch 150 Loss 0.1647 Accuracy 0.9531\n",
            "Saving checkpoint for epoch 20 at /content/drive/MyDrive/VinBigData/checkpoints/train121/ckpt-24\n",
            "Epoch 20 Loss 0.1660 Accuracy 0.9527\n",
            "Time taken for 1 epoch: 67.82929587364197 secs\n",
            "\n",
            "Epoch 21 Batch 0 Loss 0.2418 Accuracy 0.9235\n",
            "Epoch 21 Batch 50 Loss 0.1675 Accuracy 0.9514\n",
            "Epoch 21 Batch 100 Loss 0.1622 Accuracy 0.9531\n",
            "Epoch 21 Batch 150 Loss 0.1671 Accuracy 0.9523\n",
            "Epoch 21 Loss 0.1685 Accuracy 0.9517\n",
            "Time taken for 1 epoch: 67.39433288574219 secs\n",
            "\n",
            "Epoch 22 Batch 0 Loss 0.1525 Accuracy 0.9514\n",
            "Epoch 22 Batch 50 Loss 0.1629 Accuracy 0.9528\n",
            "Epoch 22 Batch 100 Loss 0.1599 Accuracy 0.9540\n",
            "Epoch 22 Batch 150 Loss 0.1581 Accuracy 0.9543\n",
            "Epoch 22 Loss 0.1588 Accuracy 0.9542\n",
            "Time taken for 1 epoch: 67.3156156539917 secs\n",
            "\n",
            "Epoch 23 Batch 0 Loss 0.2065 Accuracy 0.9253\n",
            "Epoch 23 Batch 50 Loss 0.1614 Accuracy 0.9522\n",
            "Epoch 23 Batch 100 Loss 0.1532 Accuracy 0.9553\n",
            "Epoch 23 Batch 150 Loss 0.1569 Accuracy 0.9538\n",
            "Epoch 23 Loss 0.1590 Accuracy 0.9535\n",
            "Time taken for 1 epoch: 67.20846557617188 secs\n",
            "\n",
            "Epoch 24 Batch 0 Loss 0.2085 Accuracy 0.9468\n",
            "Epoch 24 Batch 50 Loss 0.1602 Accuracy 0.9532\n",
            "Epoch 24 Batch 100 Loss 0.1560 Accuracy 0.9547\n",
            "Epoch 24 Batch 150 Loss 0.1558 Accuracy 0.9554\n",
            "Epoch 24 Loss 0.1572 Accuracy 0.9546\n",
            "Time taken for 1 epoch: 67.66766715049744 secs\n",
            "\n",
            "Epoch 25 Batch 0 Loss 0.1159 Accuracy 0.9562\n",
            "Epoch 25 Batch 50 Loss 0.1529 Accuracy 0.9557\n",
            "Epoch 25 Batch 100 Loss 0.1527 Accuracy 0.9559\n",
            "Epoch 25 Batch 150 Loss 0.1504 Accuracy 0.9568\n",
            "Saving checkpoint for epoch 25 at /content/drive/MyDrive/VinBigData/checkpoints/train121/ckpt-25\n",
            "Epoch 25 Loss 0.1529 Accuracy 0.9559\n",
            "Time taken for 1 epoch: 67.75089383125305 secs\n",
            "\n",
            "Epoch 26 Batch 0 Loss 0.1530 Accuracy 0.9591\n",
            "Epoch 26 Batch 50 Loss 0.1553 Accuracy 0.9540\n",
            "Epoch 26 Batch 100 Loss 0.1508 Accuracy 0.9557\n",
            "Epoch 26 Batch 150 Loss 0.1485 Accuracy 0.9561\n",
            "Epoch 26 Loss 0.1520 Accuracy 0.9554\n",
            "Time taken for 1 epoch: 67.82174038887024 secs\n",
            "\n",
            "Epoch 27 Batch 0 Loss 0.1441 Accuracy 0.9626\n",
            "Epoch 27 Batch 50 Loss 0.1451 Accuracy 0.9573\n",
            "Epoch 27 Batch 100 Loss 0.1500 Accuracy 0.9566\n",
            "Epoch 27 Batch 150 Loss 0.1474 Accuracy 0.9572\n",
            "Epoch 27 Loss 0.1510 Accuracy 0.9559\n",
            "Time taken for 1 epoch: 67.90939831733704 secs\n",
            "\n",
            "Epoch 28 Batch 0 Loss 0.1769 Accuracy 0.9508\n",
            "Epoch 28 Batch 50 Loss 0.1433 Accuracy 0.9576\n",
            "Epoch 28 Batch 100 Loss 0.1459 Accuracy 0.9576\n",
            "Epoch 28 Batch 150 Loss 0.1473 Accuracy 0.9570\n",
            "Epoch 28 Loss 0.1505 Accuracy 0.9564\n",
            "Time taken for 1 epoch: 67.72132992744446 secs\n",
            "\n",
            "Epoch 29 Batch 0 Loss 0.1170 Accuracy 0.9678\n",
            "Epoch 29 Batch 50 Loss 0.1429 Accuracy 0.9587\n",
            "Epoch 29 Batch 100 Loss 0.1450 Accuracy 0.9585\n",
            "Epoch 29 Batch 150 Loss 0.1438 Accuracy 0.9585\n",
            "Epoch 29 Loss 0.1471 Accuracy 0.9575\n",
            "Time taken for 1 epoch: 67.16497373580933 secs\n",
            "\n",
            "Epoch 30 Batch 0 Loss 0.1123 Accuracy 0.9674\n",
            "Epoch 30 Batch 50 Loss 0.1606 Accuracy 0.9533\n",
            "Epoch 30 Batch 100 Loss 0.1495 Accuracy 0.9563\n",
            "Epoch 30 Batch 150 Loss 0.1504 Accuracy 0.9568\n",
            "Saving checkpoint for epoch 30 at /content/drive/MyDrive/VinBigData/checkpoints/train121/ckpt-26\n",
            "Epoch 30 Loss 0.1511 Accuracy 0.9567\n",
            "Time taken for 1 epoch: 68.12969303131104 secs\n",
            "\n",
            "Epoch 31 Batch 0 Loss 0.1346 Accuracy 0.9562\n",
            "Epoch 31 Batch 50 Loss 0.1448 Accuracy 0.9574\n",
            "Epoch 31 Batch 100 Loss 0.1420 Accuracy 0.9582\n",
            "Epoch 31 Batch 150 Loss 0.1438 Accuracy 0.9579\n",
            "Epoch 31 Loss 0.1450 Accuracy 0.9577\n",
            "Time taken for 1 epoch: 66.87768316268921 secs\n",
            "\n",
            "Epoch 32 Batch 0 Loss 0.1572 Accuracy 0.9535\n",
            "Epoch 32 Batch 50 Loss 0.1492 Accuracy 0.9576\n",
            "Epoch 32 Batch 100 Loss 0.1509 Accuracy 0.9566\n",
            "Epoch 32 Batch 150 Loss 0.1494 Accuracy 0.9568\n",
            "Epoch 32 Loss 0.1485 Accuracy 0.9573\n",
            "Time taken for 1 epoch: 67.24028897285461 secs\n",
            "\n",
            "Epoch 33 Batch 0 Loss 0.2039 Accuracy 0.9522\n",
            "Epoch 33 Batch 50 Loss 0.1542 Accuracy 0.9555\n",
            "Epoch 33 Batch 100 Loss 0.1447 Accuracy 0.9590\n",
            "Epoch 33 Batch 150 Loss 0.1419 Accuracy 0.9596\n",
            "Epoch 33 Loss 0.1446 Accuracy 0.9586\n",
            "Time taken for 1 epoch: 67.6943290233612 secs\n",
            "\n",
            "Epoch 34 Batch 0 Loss 0.1678 Accuracy 0.9484\n",
            "Epoch 34 Batch 50 Loss 0.1403 Accuracy 0.9598\n",
            "Epoch 34 Batch 100 Loss 0.1371 Accuracy 0.9605\n",
            "Epoch 34 Batch 150 Loss 0.1387 Accuracy 0.9599\n",
            "Epoch 34 Loss 0.1407 Accuracy 0.9592\n",
            "Time taken for 1 epoch: 67.58098816871643 secs\n",
            "\n",
            "Epoch 35 Batch 0 Loss 0.1744 Accuracy 0.9501\n",
            "Epoch 35 Batch 50 Loss 0.1469 Accuracy 0.9563\n",
            "Epoch 35 Batch 100 Loss 0.1437 Accuracy 0.9576\n",
            "Epoch 35 Batch 150 Loss 0.1445 Accuracy 0.9577\n",
            "Saving checkpoint for epoch 35 at /content/drive/MyDrive/VinBigData/checkpoints/train121/ckpt-27\n",
            "Epoch 35 Loss 0.1459 Accuracy 0.9578\n",
            "Time taken for 1 epoch: 68.11289811134338 secs\n",
            "\n",
            "Epoch 36 Batch 0 Loss 0.2125 Accuracy 0.9413\n",
            "Epoch 36 Batch 50 Loss 0.1418 Accuracy 0.9571\n",
            "Epoch 36 Batch 100 Loss 0.1362 Accuracy 0.9599\n",
            "Epoch 36 Batch 150 Loss 0.1377 Accuracy 0.9597\n",
            "Epoch 36 Loss 0.1388 Accuracy 0.9594\n",
            "Time taken for 1 epoch: 67.29801821708679 secs\n",
            "\n",
            "Epoch 37 Batch 0 Loss 0.1106 Accuracy 0.9548\n",
            "Epoch 37 Batch 50 Loss 0.1427 Accuracy 0.9578\n",
            "Epoch 37 Batch 100 Loss 0.1354 Accuracy 0.9604\n",
            "Epoch 37 Batch 150 Loss 0.1359 Accuracy 0.9605\n",
            "Epoch 37 Loss 0.1379 Accuracy 0.9600\n",
            "Time taken for 1 epoch: 67.54511976242065 secs\n",
            "\n",
            "Epoch 38 Batch 0 Loss 0.1216 Accuracy 0.9550\n",
            "Epoch 38 Batch 50 Loss 0.1410 Accuracy 0.9583\n",
            "Epoch 38 Batch 100 Loss 0.1373 Accuracy 0.9605\n",
            "Epoch 38 Batch 150 Loss 0.1357 Accuracy 0.9607\n",
            "Epoch 38 Loss 0.1378 Accuracy 0.9602\n",
            "Time taken for 1 epoch: 67.12191224098206 secs\n",
            "\n",
            "Epoch 39 Batch 0 Loss 0.1418 Accuracy 0.9644\n",
            "Epoch 39 Batch 50 Loss 0.1399 Accuracy 0.9586\n",
            "Epoch 39 Batch 100 Loss 0.1352 Accuracy 0.9604\n",
            "Epoch 39 Batch 150 Loss 0.1346 Accuracy 0.9612\n",
            "Epoch 39 Loss 0.1363 Accuracy 0.9609\n",
            "Time taken for 1 epoch: 67.62683391571045 secs\n",
            "\n",
            "Epoch 40 Batch 0 Loss 0.1951 Accuracy 0.9490\n",
            "Epoch 40 Batch 50 Loss 0.1429 Accuracy 0.9585\n",
            "Epoch 40 Batch 100 Loss 0.1363 Accuracy 0.9603\n",
            "Epoch 40 Batch 150 Loss 0.1343 Accuracy 0.9612\n",
            "Saving checkpoint for epoch 40 at /content/drive/MyDrive/VinBigData/checkpoints/train121/ckpt-28\n",
            "Epoch 40 Loss 0.1350 Accuracy 0.9608\n",
            "Time taken for 1 epoch: 68.39914965629578 secs\n",
            "\n",
            "Epoch 41 Batch 0 Loss 0.2045 Accuracy 0.9421\n",
            "Epoch 41 Batch 50 Loss 0.1384 Accuracy 0.9594\n",
            "Epoch 41 Batch 100 Loss 0.1305 Accuracy 0.9615\n",
            "Epoch 41 Batch 150 Loss 0.1338 Accuracy 0.9608\n",
            "Epoch 41 Loss 0.1346 Accuracy 0.9606\n",
            "Time taken for 1 epoch: 67.37403607368469 secs\n",
            "\n",
            "Epoch 42 Batch 0 Loss 0.1686 Accuracy 0.9450\n",
            "Epoch 42 Batch 50 Loss 0.1389 Accuracy 0.9598\n",
            "Epoch 42 Batch 100 Loss 0.1299 Accuracy 0.9621\n",
            "Epoch 42 Batch 150 Loss 0.1299 Accuracy 0.9624\n",
            "Epoch 42 Loss 0.1327 Accuracy 0.9616\n",
            "Time taken for 1 epoch: 67.38568496704102 secs\n",
            "\n",
            "Epoch 43 Batch 0 Loss 0.2121 Accuracy 0.9284\n",
            "Epoch 43 Batch 50 Loss 0.1371 Accuracy 0.9601\n",
            "Epoch 43 Batch 100 Loss 0.1279 Accuracy 0.9630\n",
            "Epoch 43 Batch 150 Loss 0.1299 Accuracy 0.9624\n",
            "Epoch 43 Loss 0.1313 Accuracy 0.9621\n",
            "Time taken for 1 epoch: 67.5960943698883 secs\n",
            "\n",
            "Epoch 44 Batch 0 Loss 0.1257 Accuracy 0.9624\n",
            "Epoch 44 Batch 50 Loss 0.1275 Accuracy 0.9635\n",
            "Epoch 44 Batch 100 Loss 0.1211 Accuracy 0.9651\n",
            "Epoch 44 Batch 150 Loss 0.1252 Accuracy 0.9639\n",
            "Epoch 44 Loss 0.1287 Accuracy 0.9631\n",
            "Time taken for 1 epoch: 67.20605945587158 secs\n",
            "\n",
            "Epoch 45 Batch 0 Loss 0.1134 Accuracy 0.9681\n",
            "Epoch 45 Batch 50 Loss 0.1317 Accuracy 0.9621\n",
            "Epoch 45 Batch 100 Loss 0.1302 Accuracy 0.9627\n",
            "Epoch 45 Batch 150 Loss 0.1304 Accuracy 0.9624\n",
            "Saving checkpoint for epoch 45 at /content/drive/MyDrive/VinBigData/checkpoints/train121/ckpt-29\n",
            "Epoch 45 Loss 0.1317 Accuracy 0.9618\n",
            "Time taken for 1 epoch: 68.2875075340271 secs\n",
            "\n",
            "Epoch 46 Batch 0 Loss 0.1049 Accuracy 0.9766\n",
            "Epoch 46 Batch 50 Loss 0.1336 Accuracy 0.9614\n",
            "Epoch 46 Batch 100 Loss 0.1285 Accuracy 0.9630\n",
            "Epoch 46 Batch 150 Loss 0.1287 Accuracy 0.9632\n",
            "Epoch 46 Loss 0.1310 Accuracy 0.9626\n",
            "Time taken for 1 epoch: 67.11034083366394 secs\n",
            "\n",
            "Epoch 47 Batch 0 Loss 0.2281 Accuracy 0.9387\n",
            "Epoch 47 Batch 50 Loss 0.1303 Accuracy 0.9624\n",
            "Epoch 47 Batch 100 Loss 0.1302 Accuracy 0.9627\n",
            "Epoch 47 Batch 150 Loss 0.1271 Accuracy 0.9635\n",
            "Epoch 47 Loss 0.1298 Accuracy 0.9624\n",
            "Time taken for 1 epoch: 67.40447425842285 secs\n",
            "\n",
            "Epoch 48 Batch 0 Loss 0.2024 Accuracy 0.9450\n",
            "Epoch 48 Batch 50 Loss 0.1295 Accuracy 0.9632\n",
            "Epoch 48 Batch 100 Loss 0.1244 Accuracy 0.9644\n",
            "Epoch 48 Batch 150 Loss 0.1253 Accuracy 0.9636\n",
            "Epoch 48 Loss 0.1258 Accuracy 0.9635\n",
            "Time taken for 1 epoch: 67.43328523635864 secs\n",
            "\n",
            "Epoch 49 Batch 0 Loss 0.1384 Accuracy 0.9673\n",
            "Epoch 49 Batch 50 Loss 0.1281 Accuracy 0.9628\n",
            "Epoch 49 Batch 100 Loss 0.1268 Accuracy 0.9631\n",
            "Epoch 49 Batch 150 Loss 0.1241 Accuracy 0.9638\n",
            "Epoch 49 Loss 0.1252 Accuracy 0.9637\n",
            "Time taken for 1 epoch: 67.43473553657532 secs\n",
            "\n",
            "Epoch 50 Batch 0 Loss 0.1380 Accuracy 0.9664\n",
            "Epoch 50 Batch 50 Loss 0.1227 Accuracy 0.9636\n",
            "Epoch 50 Batch 100 Loss 0.1222 Accuracy 0.9632\n",
            "Epoch 50 Batch 150 Loss 0.1236 Accuracy 0.9634\n",
            "Saving checkpoint for epoch 50 at /content/drive/MyDrive/VinBigData/checkpoints/train121/ckpt-30\n",
            "Epoch 50 Loss 0.1263 Accuracy 0.9633\n",
            "Time taken for 1 epoch: 68.1510374546051 secs\n",
            "\n",
            "Epoch 51 Batch 0 Loss 0.1773 Accuracy 0.9574\n",
            "Epoch 51 Batch 50 Loss 0.1216 Accuracy 0.9660\n",
            "Epoch 51 Batch 100 Loss 0.1218 Accuracy 0.9647\n",
            "Epoch 51 Batch 150 Loss 0.1200 Accuracy 0.9653\n",
            "Epoch 51 Loss 0.1230 Accuracy 0.9651\n",
            "Time taken for 1 epoch: 68.03237581253052 secs\n",
            "\n",
            "Epoch 52 Batch 0 Loss 0.1432 Accuracy 0.9630\n",
            "Epoch 52 Batch 50 Loss 0.1357 Accuracy 0.9600\n",
            "Epoch 52 Batch 100 Loss 0.1269 Accuracy 0.9633\n",
            "Epoch 52 Batch 150 Loss 0.1261 Accuracy 0.9636\n",
            "Epoch 52 Loss 0.1256 Accuracy 0.9640\n",
            "Time taken for 1 epoch: 67.69240641593933 secs\n",
            "\n",
            "Epoch 53 Batch 0 Loss 0.1451 Accuracy 0.9560\n",
            "Epoch 53 Batch 50 Loss 0.1211 Accuracy 0.9647\n",
            "Epoch 53 Batch 100 Loss 0.1209 Accuracy 0.9650\n",
            "Epoch 53 Batch 150 Loss 0.1192 Accuracy 0.9655\n",
            "Epoch 53 Loss 0.1212 Accuracy 0.9652\n",
            "Time taken for 1 epoch: 67.59002685546875 secs\n",
            "\n",
            "Epoch 54 Batch 0 Loss 0.1095 Accuracy 0.9711\n",
            "Epoch 54 Batch 50 Loss 0.1220 Accuracy 0.9658\n",
            "Epoch 54 Batch 100 Loss 0.1226 Accuracy 0.9650\n",
            "Epoch 54 Batch 150 Loss 0.1231 Accuracy 0.9650\n",
            "Epoch 54 Loss 0.1240 Accuracy 0.9651\n",
            "Time taken for 1 epoch: 67.44966387748718 secs\n",
            "\n",
            "Epoch 55 Batch 0 Loss 0.1610 Accuracy 0.9547\n",
            "Epoch 55 Batch 50 Loss 0.1157 Accuracy 0.9658\n",
            "Epoch 55 Batch 100 Loss 0.1168 Accuracy 0.9664\n",
            "Epoch 55 Batch 150 Loss 0.1151 Accuracy 0.9667\n",
            "Saving checkpoint for epoch 55 at /content/drive/MyDrive/VinBigData/checkpoints/train121/ckpt-31\n",
            "Epoch 55 Loss 0.1183 Accuracy 0.9660\n",
            "Time taken for 1 epoch: 67.81648969650269 secs\n",
            "\n",
            "Epoch 56 Batch 0 Loss 0.1496 Accuracy 0.9606\n",
            "Epoch 56 Batch 50 Loss 0.1221 Accuracy 0.9652\n",
            "Epoch 56 Batch 100 Loss 0.1185 Accuracy 0.9660\n",
            "Epoch 56 Batch 150 Loss 0.1182 Accuracy 0.9660\n",
            "Epoch 56 Loss 0.1181 Accuracy 0.9660\n",
            "Time taken for 1 epoch: 67.7659559249878 secs\n",
            "\n",
            "Epoch 57 Batch 0 Loss 0.1593 Accuracy 0.9637\n",
            "Epoch 57 Batch 50 Loss 0.1128 Accuracy 0.9684\n",
            "Epoch 57 Batch 100 Loss 0.1175 Accuracy 0.9668\n",
            "Epoch 57 Batch 150 Loss 0.1165 Accuracy 0.9672\n",
            "Epoch 57 Loss 0.1183 Accuracy 0.9668\n",
            "Time taken for 1 epoch: 67.91993975639343 secs\n",
            "\n",
            "Epoch 58 Batch 0 Loss 0.1491 Accuracy 0.9587\n",
            "Epoch 58 Batch 50 Loss 0.1120 Accuracy 0.9679\n",
            "Epoch 58 Batch 100 Loss 0.1137 Accuracy 0.9673\n",
            "Epoch 58 Batch 150 Loss 0.1154 Accuracy 0.9665\n",
            "Epoch 58 Loss 0.1187 Accuracy 0.9656\n",
            "Time taken for 1 epoch: 67.72858333587646 secs\n",
            "\n",
            "Epoch 59 Batch 0 Loss 0.1524 Accuracy 0.9645\n",
            "Epoch 59 Batch 50 Loss 0.1208 Accuracy 0.9665\n",
            "Epoch 59 Batch 100 Loss 0.1164 Accuracy 0.9668\n",
            "Epoch 59 Batch 150 Loss 0.1156 Accuracy 0.9669\n",
            "Epoch 59 Loss 0.1168 Accuracy 0.9665\n",
            "Time taken for 1 epoch: 67.90676283836365 secs\n",
            "\n",
            "Epoch 60 Batch 0 Loss 0.1325 Accuracy 0.9659\n",
            "Epoch 60 Batch 50 Loss 0.1144 Accuracy 0.9677\n",
            "Epoch 60 Batch 100 Loss 0.1148 Accuracy 0.9673\n",
            "Epoch 60 Batch 150 Loss 0.1137 Accuracy 0.9676\n",
            "Saving checkpoint for epoch 60 at /content/drive/MyDrive/VinBigData/checkpoints/train121/ckpt-32\n",
            "Epoch 60 Loss 0.1155 Accuracy 0.9671\n",
            "Time taken for 1 epoch: 68.5570056438446 secs\n",
            "\n",
            "Epoch 61 Batch 0 Loss 0.1256 Accuracy 0.9670\n",
            "Epoch 61 Batch 50 Loss 0.1153 Accuracy 0.9673\n",
            "Epoch 61 Batch 100 Loss 0.1141 Accuracy 0.9677\n",
            "Epoch 61 Batch 150 Loss 0.1131 Accuracy 0.9678\n",
            "Epoch 61 Loss 0.1155 Accuracy 0.9671\n",
            "Time taken for 1 epoch: 67.40431880950928 secs\n",
            "\n",
            "Epoch 62 Batch 0 Loss 0.1194 Accuracy 0.9747\n",
            "Epoch 62 Batch 50 Loss 0.1116 Accuracy 0.9679\n",
            "Epoch 62 Batch 100 Loss 0.1085 Accuracy 0.9685\n",
            "Epoch 62 Batch 150 Loss 0.1097 Accuracy 0.9685\n",
            "Epoch 62 Loss 0.1115 Accuracy 0.9681\n",
            "Time taken for 1 epoch: 67.73708176612854 secs\n",
            "\n",
            "Epoch 63 Batch 0 Loss 0.0993 Accuracy 0.9677\n",
            "Epoch 63 Batch 50 Loss 0.1101 Accuracy 0.9688\n",
            "Epoch 63 Batch 100 Loss 0.1097 Accuracy 0.9689\n",
            "Epoch 63 Batch 150 Loss 0.1111 Accuracy 0.9683\n",
            "Epoch 63 Loss 0.1123 Accuracy 0.9678\n",
            "Time taken for 1 epoch: 67.53667378425598 secs\n",
            "\n",
            "Epoch 64 Batch 0 Loss 0.1092 Accuracy 0.9745\n",
            "Epoch 64 Batch 50 Loss 0.1140 Accuracy 0.9678\n",
            "Epoch 64 Batch 100 Loss 0.1151 Accuracy 0.9675\n",
            "Epoch 64 Batch 150 Loss 0.1128 Accuracy 0.9679\n",
            "Epoch 64 Loss 0.1138 Accuracy 0.9676\n",
            "Time taken for 1 epoch: 67.6302604675293 secs\n",
            "\n",
            "Epoch 65 Batch 0 Loss 0.1174 Accuracy 0.9657\n",
            "Epoch 65 Batch 50 Loss 0.1114 Accuracy 0.9676\n",
            "Epoch 65 Batch 100 Loss 0.1107 Accuracy 0.9679\n",
            "Epoch 65 Batch 150 Loss 0.1082 Accuracy 0.9689\n",
            "Saving checkpoint for epoch 65 at /content/drive/MyDrive/VinBigData/checkpoints/train121/ckpt-33\n",
            "Epoch 65 Loss 0.1108 Accuracy 0.9683\n",
            "Time taken for 1 epoch: 68.68404126167297 secs\n",
            "\n",
            "Epoch 66 Batch 0 Loss 0.1360 Accuracy 0.9656\n",
            "Epoch 66 Batch 50 Loss 0.1134 Accuracy 0.9674\n",
            "Epoch 66 Batch 100 Loss 0.1131 Accuracy 0.9678\n",
            "Epoch 66 Batch 150 Loss 0.1117 Accuracy 0.9683\n",
            "Epoch 66 Loss 0.1120 Accuracy 0.9684\n",
            "Time taken for 1 epoch: 67.27288007736206 secs\n",
            "\n",
            "Epoch 67 Batch 0 Loss 0.1077 Accuracy 0.9648\n",
            "Epoch 67 Batch 50 Loss 0.1143 Accuracy 0.9675\n",
            "Epoch 67 Batch 100 Loss 0.1078 Accuracy 0.9692\n",
            "Epoch 67 Batch 150 Loss 0.1052 Accuracy 0.9698\n",
            "Epoch 67 Loss 0.1074 Accuracy 0.9693\n",
            "Time taken for 1 epoch: 67.29835438728333 secs\n",
            "\n",
            "Epoch 68 Batch 0 Loss 0.1433 Accuracy 0.9547\n",
            "Epoch 68 Batch 50 Loss 0.1132 Accuracy 0.9669\n",
            "Epoch 68 Batch 100 Loss 0.1107 Accuracy 0.9682\n",
            "Epoch 68 Batch 150 Loss 0.1120 Accuracy 0.9676\n",
            "Epoch 68 Loss 0.1127 Accuracy 0.9674\n",
            "Time taken for 1 epoch: 67.6374979019165 secs\n",
            "\n",
            "Epoch 69 Batch 0 Loss 0.1025 Accuracy 0.9650\n",
            "Epoch 69 Batch 50 Loss 0.1077 Accuracy 0.9674\n",
            "Epoch 69 Batch 100 Loss 0.1051 Accuracy 0.9694\n",
            "Epoch 69 Batch 150 Loss 0.1092 Accuracy 0.9684\n",
            "Epoch 69 Loss 0.1098 Accuracy 0.9685\n",
            "Time taken for 1 epoch: 67.82196402549744 secs\n",
            "\n",
            "Epoch 70 Batch 0 Loss 0.0961 Accuracy 0.9673\n",
            "Epoch 70 Batch 50 Loss 0.1066 Accuracy 0.9698\n",
            "Epoch 70 Batch 100 Loss 0.1082 Accuracy 0.9696\n",
            "Epoch 70 Batch 150 Loss 0.1072 Accuracy 0.9698\n",
            "Saving checkpoint for epoch 70 at /content/drive/MyDrive/VinBigData/checkpoints/train121/ckpt-34\n",
            "Epoch 70 Loss 0.1092 Accuracy 0.9691\n",
            "Time taken for 1 epoch: 68.61965227127075 secs\n",
            "\n",
            "Epoch 71 Batch 0 Loss 0.1251 Accuracy 0.9611\n",
            "Epoch 71 Batch 50 Loss 0.1149 Accuracy 0.9675\n",
            "Epoch 71 Batch 100 Loss 0.1115 Accuracy 0.9687\n",
            "Epoch 71 Batch 150 Loss 0.1085 Accuracy 0.9690\n",
            "Epoch 71 Loss 0.1098 Accuracy 0.9687\n",
            "Time taken for 1 epoch: 68.18469142913818 secs\n",
            "\n",
            "Epoch 72 Batch 0 Loss 0.0995 Accuracy 0.9710\n",
            "Epoch 72 Batch 50 Loss 0.1038 Accuracy 0.9698\n",
            "Epoch 72 Batch 100 Loss 0.1028 Accuracy 0.9705\n",
            "Epoch 72 Batch 150 Loss 0.1042 Accuracy 0.9704\n",
            "Epoch 72 Loss 0.1067 Accuracy 0.9696\n",
            "Time taken for 1 epoch: 68.28557229042053 secs\n",
            "\n",
            "Epoch 73 Batch 0 Loss 0.0945 Accuracy 0.9760\n",
            "Epoch 73 Batch 50 Loss 0.1069 Accuracy 0.9700\n",
            "Epoch 73 Batch 100 Loss 0.1063 Accuracy 0.9696\n",
            "Epoch 73 Batch 150 Loss 0.1054 Accuracy 0.9698\n",
            "Epoch 73 Loss 0.1070 Accuracy 0.9693\n",
            "Time taken for 1 epoch: 68.20343089103699 secs\n",
            "\n",
            "Epoch 74 Batch 0 Loss 0.1143 Accuracy 0.9648\n",
            "Epoch 74 Batch 50 Loss 0.1083 Accuracy 0.9691\n",
            "Epoch 74 Batch 100 Loss 0.1040 Accuracy 0.9705\n",
            "Epoch 74 Batch 150 Loss 0.1048 Accuracy 0.9705\n",
            "Epoch 74 Loss 0.1052 Accuracy 0.9703\n",
            "Time taken for 1 epoch: 68.1628692150116 secs\n",
            "\n",
            "Epoch 75 Batch 0 Loss 0.1005 Accuracy 0.9706\n",
            "Epoch 75 Batch 50 Loss 0.1079 Accuracy 0.9688\n",
            "Epoch 75 Batch 100 Loss 0.1048 Accuracy 0.9699\n",
            "Epoch 75 Batch 150 Loss 0.1063 Accuracy 0.9696\n",
            "Saving checkpoint for epoch 75 at /content/drive/MyDrive/VinBigData/checkpoints/train121/ckpt-35\n",
            "Epoch 75 Loss 0.1075 Accuracy 0.9692\n",
            "Time taken for 1 epoch: 68.58355498313904 secs\n",
            "\n",
            "Epoch 76 Batch 0 Loss 0.0947 Accuracy 0.9767\n",
            "Epoch 76 Batch 50 Loss 0.1088 Accuracy 0.9690\n",
            "Epoch 76 Batch 100 Loss 0.1039 Accuracy 0.9702\n",
            "Epoch 76 Batch 150 Loss 0.1035 Accuracy 0.9702\n",
            "Epoch 76 Loss 0.1049 Accuracy 0.9696\n",
            "Time taken for 1 epoch: 67.43296647071838 secs\n",
            "\n",
            "Epoch 77 Batch 0 Loss 0.0788 Accuracy 0.9719\n",
            "Epoch 77 Batch 50 Loss 0.1091 Accuracy 0.9677\n",
            "Epoch 77 Batch 100 Loss 0.1067 Accuracy 0.9685\n",
            "Epoch 77 Batch 150 Loss 0.1060 Accuracy 0.9692\n",
            "Epoch 77 Loss 0.1050 Accuracy 0.9698\n",
            "Time taken for 1 epoch: 67.47245383262634 secs\n",
            "\n",
            "Epoch 78 Batch 0 Loss 0.0756 Accuracy 0.9758\n",
            "Epoch 78 Batch 50 Loss 0.1028 Accuracy 0.9709\n",
            "Epoch 78 Batch 100 Loss 0.1041 Accuracy 0.9701\n",
            "Epoch 78 Batch 150 Loss 0.1034 Accuracy 0.9703\n",
            "Epoch 78 Loss 0.1041 Accuracy 0.9701\n",
            "Time taken for 1 epoch: 68.07153868675232 secs\n",
            "\n",
            "Epoch 79 Batch 0 Loss 0.1500 Accuracy 0.9527\n",
            "Epoch 79 Batch 50 Loss 0.1094 Accuracy 0.9679\n",
            "Epoch 79 Batch 100 Loss 0.1053 Accuracy 0.9694\n",
            "Epoch 79 Batch 150 Loss 0.1041 Accuracy 0.9699\n",
            "Epoch 79 Loss 0.1047 Accuracy 0.9698\n",
            "Time taken for 1 epoch: 68.31189823150635 secs\n",
            "\n",
            "Epoch 80 Batch 0 Loss 0.1706 Accuracy 0.9606\n",
            "Epoch 80 Batch 50 Loss 0.1090 Accuracy 0.9691\n",
            "Epoch 80 Batch 100 Loss 0.1034 Accuracy 0.9706\n",
            "Epoch 80 Batch 150 Loss 0.1036 Accuracy 0.9702\n",
            "Saving checkpoint for epoch 80 at /content/drive/MyDrive/VinBigData/checkpoints/train121/ckpt-36\n",
            "Epoch 80 Loss 0.1043 Accuracy 0.9699\n",
            "Time taken for 1 epoch: 69.14226722717285 secs\n",
            "\n",
            "Epoch 81 Batch 0 Loss 0.1648 Accuracy 0.9613\n",
            "Epoch 81 Batch 50 Loss 0.0989 Accuracy 0.9703\n",
            "Epoch 81 Batch 100 Loss 0.0982 Accuracy 0.9711\n",
            "Epoch 81 Batch 150 Loss 0.1027 Accuracy 0.9703\n",
            "Epoch 81 Loss 0.1033 Accuracy 0.9702\n",
            "Time taken for 1 epoch: 68.6054916381836 secs\n",
            "\n",
            "Epoch 82 Batch 0 Loss 0.1231 Accuracy 0.9611\n",
            "Epoch 82 Batch 50 Loss 0.1030 Accuracy 0.9705\n",
            "Epoch 82 Batch 100 Loss 0.0986 Accuracy 0.9715\n",
            "Epoch 82 Batch 150 Loss 0.1004 Accuracy 0.9710\n",
            "Epoch 82 Loss 0.1011 Accuracy 0.9708\n",
            "Time taken for 1 epoch: 68.0220046043396 secs\n",
            "\n",
            "Epoch 83 Batch 0 Loss 0.1306 Accuracy 0.9666\n",
            "Epoch 83 Batch 50 Loss 0.1001 Accuracy 0.9714\n",
            "Epoch 83 Batch 100 Loss 0.0978 Accuracy 0.9718\n",
            "Epoch 83 Batch 150 Loss 0.0991 Accuracy 0.9714\n",
            "Epoch 83 Loss 0.0995 Accuracy 0.9715\n",
            "Time taken for 1 epoch: 68.383704662323 secs\n",
            "\n",
            "Epoch 84 Batch 0 Loss 0.0936 Accuracy 0.9703\n",
            "Epoch 84 Batch 50 Loss 0.0917 Accuracy 0.9725\n",
            "Epoch 84 Batch 100 Loss 0.0954 Accuracy 0.9719\n",
            "Epoch 84 Batch 150 Loss 0.0964 Accuracy 0.9718\n",
            "Epoch 84 Loss 0.0985 Accuracy 0.9713\n",
            "Time taken for 1 epoch: 67.62860417366028 secs\n",
            "\n",
            "Epoch 85 Batch 0 Loss 0.0988 Accuracy 0.9791\n",
            "Epoch 85 Batch 50 Loss 0.1045 Accuracy 0.9694\n",
            "Epoch 85 Batch 100 Loss 0.1016 Accuracy 0.9707\n",
            "Epoch 85 Batch 150 Loss 0.0994 Accuracy 0.9716\n",
            "Saving checkpoint for epoch 85 at /content/drive/MyDrive/VinBigData/checkpoints/train121/ckpt-37\n",
            "Epoch 85 Loss 0.0997 Accuracy 0.9716\n",
            "Time taken for 1 epoch: 68.1283643245697 secs\n",
            "\n",
            "Epoch 86 Batch 0 Loss 0.1097 Accuracy 0.9681\n",
            "Epoch 86 Batch 50 Loss 0.0949 Accuracy 0.9726\n",
            "Epoch 86 Batch 100 Loss 0.0966 Accuracy 0.9726\n",
            "Epoch 86 Batch 150 Loss 0.0972 Accuracy 0.9725\n",
            "Epoch 86 Loss 0.0977 Accuracy 0.9722\n",
            "Time taken for 1 epoch: 67.26123595237732 secs\n",
            "\n",
            "Epoch 87 Batch 0 Loss 0.1100 Accuracy 0.9630\n",
            "Epoch 87 Batch 50 Loss 0.0966 Accuracy 0.9727\n",
            "Epoch 87 Batch 100 Loss 0.0956 Accuracy 0.9734\n",
            "Epoch 87 Batch 150 Loss 0.0987 Accuracy 0.9723\n",
            "Epoch 87 Loss 0.0984 Accuracy 0.9722\n",
            "Time taken for 1 epoch: 68.00364756584167 secs\n",
            "\n",
            "Epoch 88 Batch 0 Loss 0.0710 Accuracy 0.9771\n",
            "Epoch 88 Batch 50 Loss 0.1028 Accuracy 0.9711\n",
            "Epoch 88 Batch 100 Loss 0.0969 Accuracy 0.9727\n",
            "Epoch 88 Batch 150 Loss 0.0954 Accuracy 0.9731\n",
            "Epoch 88 Loss 0.0964 Accuracy 0.9727\n",
            "Time taken for 1 epoch: 68.00157284736633 secs\n",
            "\n",
            "Epoch 89 Batch 0 Loss 0.0958 Accuracy 0.9771\n",
            "Epoch 89 Batch 50 Loss 0.1028 Accuracy 0.9706\n",
            "Epoch 89 Batch 100 Loss 0.1019 Accuracy 0.9714\n",
            "Epoch 89 Batch 150 Loss 0.1001 Accuracy 0.9717\n",
            "Epoch 89 Loss 0.1004 Accuracy 0.9715\n",
            "Time taken for 1 epoch: 67.98300290107727 secs\n",
            "\n",
            "Epoch 90 Batch 0 Loss 0.0951 Accuracy 0.9757\n",
            "Epoch 90 Batch 50 Loss 0.0944 Accuracy 0.9727\n",
            "Epoch 90 Batch 100 Loss 0.0954 Accuracy 0.9730\n",
            "Epoch 90 Batch 150 Loss 0.0966 Accuracy 0.9726\n",
            "Saving checkpoint for epoch 90 at /content/drive/MyDrive/VinBigData/checkpoints/train121/ckpt-38\n",
            "Epoch 90 Loss 0.0965 Accuracy 0.9726\n",
            "Time taken for 1 epoch: 68.65435552597046 secs\n",
            "\n",
            "Epoch 91 Batch 0 Loss 0.1311 Accuracy 0.9714\n",
            "Epoch 91 Batch 50 Loss 0.0967 Accuracy 0.9726\n",
            "Epoch 91 Batch 100 Loss 0.0960 Accuracy 0.9727\n",
            "Epoch 91 Batch 150 Loss 0.0946 Accuracy 0.9731\n",
            "Epoch 91 Loss 0.0959 Accuracy 0.9729\n",
            "Time taken for 1 epoch: 67.70949530601501 secs\n",
            "\n",
            "Epoch 92 Batch 0 Loss 0.0716 Accuracy 0.9779\n",
            "Epoch 92 Batch 50 Loss 0.0971 Accuracy 0.9716\n",
            "Epoch 92 Batch 100 Loss 0.0951 Accuracy 0.9727\n",
            "Epoch 92 Batch 150 Loss 0.0947 Accuracy 0.9727\n",
            "Epoch 92 Loss 0.0966 Accuracy 0.9723\n",
            "Time taken for 1 epoch: 67.92140579223633 secs\n",
            "\n",
            "Epoch 93 Batch 0 Loss 0.1181 Accuracy 0.9682\n",
            "Epoch 93 Batch 50 Loss 0.0959 Accuracy 0.9716\n",
            "Epoch 93 Batch 100 Loss 0.0960 Accuracy 0.9718\n",
            "Epoch 93 Batch 150 Loss 0.0952 Accuracy 0.9727\n",
            "Epoch 93 Loss 0.0973 Accuracy 0.9722\n",
            "Time taken for 1 epoch: 67.93669009208679 secs\n",
            "\n",
            "Epoch 94 Batch 0 Loss 0.1461 Accuracy 0.9707\n",
            "Epoch 94 Batch 50 Loss 0.0948 Accuracy 0.9720\n",
            "Epoch 94 Batch 100 Loss 0.0948 Accuracy 0.9724\n",
            "Epoch 94 Batch 150 Loss 0.0944 Accuracy 0.9726\n",
            "Epoch 94 Loss 0.0945 Accuracy 0.9727\n",
            "Time taken for 1 epoch: 69.9540958404541 secs\n",
            "\n",
            "Epoch 95 Batch 0 Loss 0.1213 Accuracy 0.9723\n",
            "Epoch 95 Batch 50 Loss 0.0897 Accuracy 0.9733\n",
            "Epoch 95 Batch 100 Loss 0.0926 Accuracy 0.9728\n",
            "Epoch 95 Batch 150 Loss 0.0931 Accuracy 0.9730\n",
            "Saving checkpoint for epoch 95 at /content/drive/MyDrive/VinBigData/checkpoints/train121/ckpt-39\n",
            "Epoch 95 Loss 0.0944 Accuracy 0.9726\n",
            "Time taken for 1 epoch: 68.93541836738586 secs\n",
            "\n",
            "Epoch 96 Batch 0 Loss 0.1118 Accuracy 0.9653\n",
            "Epoch 96 Batch 50 Loss 0.0950 Accuracy 0.9734\n",
            "Epoch 96 Batch 100 Loss 0.0921 Accuracy 0.9743\n",
            "Epoch 96 Batch 150 Loss 0.0922 Accuracy 0.9740\n",
            "Epoch 96 Loss 0.0930 Accuracy 0.9737\n",
            "Time taken for 1 epoch: 68.39600157737732 secs\n",
            "\n",
            "Epoch 97 Batch 0 Loss 0.0915 Accuracy 0.9731\n",
            "Epoch 97 Batch 50 Loss 0.0911 Accuracy 0.9734\n",
            "Epoch 97 Batch 100 Loss 0.0947 Accuracy 0.9727\n",
            "Epoch 97 Batch 150 Loss 0.0941 Accuracy 0.9729\n",
            "Epoch 97 Loss 0.0940 Accuracy 0.9729\n",
            "Time taken for 1 epoch: 68.37214064598083 secs\n",
            "\n",
            "Epoch 98 Batch 0 Loss 0.1057 Accuracy 0.9615\n",
            "Epoch 98 Batch 50 Loss 0.0856 Accuracy 0.9750\n",
            "Epoch 98 Batch 100 Loss 0.0877 Accuracy 0.9747\n",
            "Epoch 98 Batch 150 Loss 0.0879 Accuracy 0.9747\n",
            "Epoch 98 Loss 0.0897 Accuracy 0.9742\n",
            "Time taken for 1 epoch: 68.02431845664978 secs\n",
            "\n",
            "Epoch 99 Batch 0 Loss 0.0770 Accuracy 0.9798\n",
            "Epoch 99 Batch 50 Loss 0.0925 Accuracy 0.9734\n",
            "Epoch 99 Batch 100 Loss 0.0917 Accuracy 0.9744\n",
            "Epoch 99 Batch 150 Loss 0.0934 Accuracy 0.9740\n",
            "Epoch 99 Loss 0.0932 Accuracy 0.9739\n",
            "Time taken for 1 epoch: 67.99696373939514 secs\n",
            "\n",
            "Epoch 100 Batch 0 Loss 0.1183 Accuracy 0.9634\n",
            "Epoch 100 Batch 50 Loss 0.0924 Accuracy 0.9730\n",
            "Epoch 100 Batch 100 Loss 0.0883 Accuracy 0.9746\n",
            "Epoch 100 Batch 150 Loss 0.0911 Accuracy 0.9736\n",
            "Saving checkpoint for epoch 100 at /content/drive/MyDrive/VinBigData/checkpoints/train121/ckpt-40\n",
            "Epoch 100 Loss 0.0925 Accuracy 0.9734\n",
            "Time taken for 1 epoch: 68.62768149375916 secs\n",
            "\n"
          ],
          "name": "stdout"
        }
      ]
    },
    {
      "cell_type": "code",
      "metadata": {
        "id": "QPtAZFLpkw8z"
      },
      "source": [
        ""
      ],
      "execution_count": 47,
      "outputs": []
    },
    {
      "cell_type": "markdown",
      "metadata": {
        "id": "QfcsSWswSdGV"
      },
      "source": [
        "## Evaluate"
      ]
    },
    {
      "cell_type": "code",
      "metadata": {
        "id": "5buvMlnvyrFm"
      },
      "source": [
        "import time\n",
        "from tqdm import tqdm\n",
        "def evaluate(inp_sentence):\n",
        "  start_token = [tokenizer_en.vocab_size]\n",
        "  end_token = [tokenizer_en.vocab_size + 1]\n",
        "  \n",
        "  # inp sentence is eng, hence adding the start and end token\n",
        "  inp_sentence = start_token + tokenizer_en.encode(inp_sentence) + end_token\n",
        "  encoder_input = tf.expand_dims(inp_sentence, 0)\n",
        "  \n",
        "  # as the target is vn, the first word to the transformer should be the\n",
        "  # english start token.\n",
        "  decoder_input = [tokenizer_vn.vocab_size]\n",
        "  output = tf.expand_dims(decoder_input, 0)\n",
        "  \n",
        "  for i in range(MAX_LENGTH):\n",
        "    enc_padding_mask, combined_mask, dec_padding_mask = create_masks(\n",
        "        encoder_input, output)\n",
        "  \n",
        "    predictions, attention_weights = transformer(encoder_input, \n",
        "                                                 output,\n",
        "                                                 False,\n",
        "                                                 enc_padding_mask,\n",
        "                                                 combined_mask,\n",
        "                                                 dec_padding_mask)\n",
        "    \n",
        "    predictions = predictions[: ,-1:, :]  # (batch_size, 1, vocab_size)\n",
        "\n",
        "    predicted_id = tf.cast(tf.argmax(predictions, axis=-1), tf.int32)\n",
        "    \n",
        "    # return the result if the predicted_id is equal to the end token\n",
        "    if predicted_id == tokenizer_vn.vocab_size+1:\n",
        "      \n",
        "      return tf.squeeze(output, axis=0), attention_weights\n",
        "\n",
        "      \n",
        "    \n",
        "    # concatentate the predicted_id to the output which is given to the decoder\n",
        "    # as its input.\n",
        "    output = tf.concat([output, predicted_id], axis=-1)\n",
        "\n",
        "  return tf.squeeze(output, axis=0), attention_weights"
      ],
      "execution_count": 48,
      "outputs": []
    },
    {
      "cell_type": "code",
      "metadata": {
        "id": "lU2_yG_vBGza"
      },
      "source": [
        "def translate(sentence, plot=''):\n",
        "  sentence = preproces_cn(sentence)\n",
        "  result, attention_weights = evaluate(sentence)\n",
        "  predicted_sentence = tokenizer_vn.decode([i for i in result \n",
        "                                            if i < tokenizer_vn.vocab_size])  \n",
        "\n",
        "  print('Input: {}'.format(sentence))\n",
        "  print('Predicted translation: {}'.format(predicted_sentence))\n",
        "  return predicted_sentence\n",
        "  if plot:\n",
        "    plot_attention_weights(attention_weights, sentence, result, plot)"
      ],
      "execution_count": 49,
      "outputs": []
    },
    {
      "cell_type": "code",
      "metadata": {
        "id": "q-NvetisO_zp",
        "colab": {
          "base_uri": "https://localhost:8080/",
          "height": 70
        },
        "outputId": "de8d95ae-1487-421e-ae92-20b58a0a8b37"
      },
      "source": [
        "translate('你好！') #chào bạn"
      ],
      "execution_count": 50,
      "outputs": [
        {
          "output_type": "stream",
          "text": [
            "Input: 你 好 ！\n",
            "Predicted translation: chào bạn!\n"
          ],
          "name": "stdout"
        },
        {
          "output_type": "execute_result",
          "data": {
            "application/vnd.google.colaboratory.intrinsic+json": {
              "type": "string"
            },
            "text/plain": [
              "'chào bạn!'"
            ]
          },
          "metadata": {
            "tags": []
          },
          "execution_count": 50
        }
      ]
    },
    {
      "cell_type": "code",
      "metadata": {
        "id": "B6HmnIESPepY",
        "colab": {
          "base_uri": "https://localhost:8080/",
          "height": 70
        },
        "outputId": "2d6f42b3-a3fb-48cb-a5d2-a2a61e3dc5ea"
      },
      "source": [
        "translate('好')"
      ],
      "execution_count": 51,
      "outputs": [
        {
          "output_type": "stream",
          "text": [
            "Input: 好\n",
            "Predicted translation: ok\n"
          ],
          "name": "stdout"
        },
        {
          "output_type": "execute_result",
          "data": {
            "application/vnd.google.colaboratory.intrinsic+json": {
              "type": "string"
            },
            "text/plain": [
              "'ok'"
            ]
          },
          "metadata": {
            "tags": []
          },
          "execution_count": 51
        }
      ]
    },
    {
      "cell_type": "code",
      "metadata": {
        "id": "NC7btbwOPmer",
        "colab": {
          "base_uri": "https://localhost:8080/",
          "height": 70
        },
        "outputId": "3a3c1715-ee47-4e00-cb0f-07e24f3a79bf"
      },
      "source": [
        "translate('你')"
      ],
      "execution_count": 52,
      "outputs": [
        {
          "output_type": "stream",
          "text": [
            "Input: 你\n",
            "Predicted translation: ôm chặt cậu\n"
          ],
          "name": "stdout"
        },
        {
          "output_type": "execute_result",
          "data": {
            "application/vnd.google.colaboratory.intrinsic+json": {
              "type": "string"
            },
            "text/plain": [
              "'ôm chặt cậu'"
            ]
          },
          "metadata": {
            "tags": []
          },
          "execution_count": 52
        }
      ]
    },
    {
      "cell_type": "code",
      "metadata": {
        "id": "-KPmiEdURlkv",
        "colab": {
          "base_uri": "https://localhost:8080/",
          "height": 70
        },
        "outputId": "25770682-4b29-4659-eb0e-a063a3d16313"
      },
      "source": [
        "translate('我爱你') # anh yêu em"
      ],
      "execution_count": 53,
      "outputs": [
        {
          "output_type": "stream",
          "text": [
            "Input: 我 爱 你\n",
            "Predicted translation: anh nói anh yêu em\n"
          ],
          "name": "stdout"
        },
        {
          "output_type": "execute_result",
          "data": {
            "application/vnd.google.colaboratory.intrinsic+json": {
              "type": "string"
            },
            "text/plain": [
              "'anh nói anh yêu em'"
            ]
          },
          "metadata": {
            "tags": []
          },
          "execution_count": 53
        }
      ]
    },
    {
      "cell_type": "code",
      "metadata": {
        "id": "l-Tf8u0lPvBv",
        "colab": {
          "base_uri": "https://localhost:8080/",
          "height": 70
        },
        "outputId": "d7067f6d-57b9-4080-90d7-4b43f59cc70c"
      },
      "source": [
        "translate('我') # tôi"
      ],
      "execution_count": 54,
      "outputs": [
        {
          "output_type": "stream",
          "text": [
            "Input: 我\n",
            "Predicted translation: hoặc\n"
          ],
          "name": "stdout"
        },
        {
          "output_type": "execute_result",
          "data": {
            "application/vnd.google.colaboratory.intrinsic+json": {
              "type": "string"
            },
            "text/plain": [
              "'hoặc'"
            ]
          },
          "metadata": {
            "tags": []
          },
          "execution_count": 54
        }
      ]
    },
    {
      "cell_type": "code",
      "metadata": {
        "id": "ogD4b1MFPyts",
        "colab": {
          "base_uri": "https://localhost:8080/",
          "height": 70
        },
        "outputId": "149c26ab-3398-4657-9bc0-1e278cfa8e36"
      },
      "source": [
        "translate('爱') #yêu"
      ],
      "execution_count": 55,
      "outputs": [
        {
          "output_type": "stream",
          "text": [
            "Input: 爱\n",
            "Predicted translation: thân ái\n"
          ],
          "name": "stdout"
        },
        {
          "output_type": "execute_result",
          "data": {
            "application/vnd.google.colaboratory.intrinsic+json": {
              "type": "string"
            },
            "text/plain": [
              "'thân ái'"
            ]
          },
          "metadata": {
            "tags": []
          },
          "execution_count": 55
        }
      ]
    },
    {
      "cell_type": "code",
      "metadata": {
        "id": "uSfDYE7vP2UB",
        "colab": {
          "base_uri": "https://localhost:8080/",
          "height": 70
        },
        "outputId": "b8477235-f712-46f9-99f3-0824060ff1a5"
      },
      "source": [
        "translate('你') # bạn (ni)"
      ],
      "execution_count": 56,
      "outputs": [
        {
          "output_type": "stream",
          "text": [
            "Input: 你\n",
            "Predicted translation: ôm chặt cậu\n"
          ],
          "name": "stdout"
        },
        {
          "output_type": "execute_result",
          "data": {
            "application/vnd.google.colaboratory.intrinsic+json": {
              "type": "string"
            },
            "text/plain": [
              "'ôm chặt cậu'"
            ]
          },
          "metadata": {
            "tags": []
          },
          "execution_count": 56
        }
      ]
    },
    {
      "cell_type": "code",
      "metadata": {
        "id": "1HCTD2pkP6rH",
        "colab": {
          "base_uri": "https://localhost:8080/",
          "height": 70
        },
        "outputId": "5b31ce15-a74c-48f2-d97a-ebb2e61c653d"
      },
      "source": [
        "translate('我爱') # tôi yêu"
      ],
      "execution_count": 57,
      "outputs": [
        {
          "output_type": "stream",
          "text": [
            "Input: 我 爱\n",
            "Predicted translation: thương yêu\n"
          ],
          "name": "stdout"
        },
        {
          "output_type": "execute_result",
          "data": {
            "application/vnd.google.colaboratory.intrinsic+json": {
              "type": "string"
            },
            "text/plain": [
              "'thương yêu'"
            ]
          },
          "metadata": {
            "tags": []
          },
          "execution_count": 57
        }
      ]
    },
    {
      "cell_type": "code",
      "metadata": {
        "id": "IfNAR57YP9Fq",
        "colab": {
          "base_uri": "https://localhost:8080/",
          "height": 70
        },
        "outputId": "b3af43b5-6eb6-44a6-a5f8-af97e10410ed"
      },
      "source": [
        "translate('爱你') # yêu em"
      ],
      "execution_count": 58,
      "outputs": [
        {
          "output_type": "stream",
          "text": [
            "Input: 爱 你\n",
            "Predicted translation: sở hữu\n"
          ],
          "name": "stdout"
        },
        {
          "output_type": "execute_result",
          "data": {
            "application/vnd.google.colaboratory.intrinsic+json": {
              "type": "string"
            },
            "text/plain": [
              "'sở hữu'"
            ]
          },
          "metadata": {
            "tags": []
          },
          "execution_count": 58
        }
      ]
    },
    {
      "cell_type": "code",
      "metadata": {
        "id": "RBqE3S9yPapg",
        "colab": {
          "base_uri": "https://localhost:8080/"
        },
        "outputId": "56cd38fb-f9e4-451c-84af-28bb09057da6"
      },
      "source": [
        "print(translate('听说越南的杂技很有意思，我还没看过呢。'))"
      ],
      "execution_count": 59,
      "outputs": [
        {
          "output_type": "stream",
          "text": [
            "Input: 听 说 越 南 的 杂 技 很 有 意 思 ， 我 还 没 看 过 呢 。\n",
            "Predicted translation: nghe nói xiếc của việt nam rất thú vị, tôi vẫn chưa xem qua.\n",
            "nghe nói xiếc của việt nam rất thú vị, tôi vẫn chưa xem qua.\n"
          ],
          "name": "stdout"
        }
      ]
    },
    {
      "cell_type": "code",
      "metadata": {
        "id": "F1JClUjSPynI",
        "colab": {
          "base_uri": "https://localhost:8080/"
        },
        "outputId": "85dc5f9e-fe0e-4642-e50e-9db7e4a394e5"
      },
      "source": [
        "print(translate('你来过越南吗？你来越南以后去过什么地方？'))"
      ],
      "execution_count": 60,
      "outputs": [
        {
          "output_type": "stream",
          "text": [
            "Input: 你 来 过 越 南 吗 ？ 你 来 越 南 以 后 去 过 什 么 地 方 ？\n",
            "Predicted translation: bạn đã từng tới việt nam chưa? sau khi bạn tới việt nam đã từng đến nơi nào?\n",
            "bạn đã từng tới việt nam chưa? sau khi bạn tới việt nam đã từng đến nơi nào?\n"
          ],
          "name": "stdout"
        }
      ]
    },
    {
      "cell_type": "code",
      "metadata": {
        "id": "_0mV1V2YQA1b",
        "colab": {
          "base_uri": "https://localhost:8080/"
        },
        "outputId": "aebd2bb4-7c45-4847-8997-c58c0c85a635"
      },
      "source": [
        "print(translate('我是越南人')) # tôi là người VN"
      ],
      "execution_count": 61,
      "outputs": [
        {
          "output_type": "stream",
          "text": [
            "Input: 我 是 越 南 人\n",
            "Predicted translation: tôi là người việt nam\n",
            "tôi là người việt nam\n"
          ],
          "name": "stdout"
        }
      ]
    },
    {
      "cell_type": "code",
      "metadata": {
        "id": "8ptRunaQQBtF",
        "colab": {
          "base_uri": "https://localhost:8080/",
          "height": 70
        },
        "outputId": "927218bb-47fe-4cee-9d96-5786588bc278"
      },
      "source": [
        "translate('越南人') # người VN"
      ],
      "execution_count": 62,
      "outputs": [
        {
          "output_type": "stream",
          "text": [
            "Input: 越 南 人\n",
            "Predicted translation: diễn người\n"
          ],
          "name": "stdout"
        },
        {
          "output_type": "execute_result",
          "data": {
            "application/vnd.google.colaboratory.intrinsic+json": {
              "type": "string"
            },
            "text/plain": [
              "'diễn người'"
            ]
          },
          "metadata": {
            "tags": []
          },
          "execution_count": 62
        }
      ]
    },
    {
      "cell_type": "code",
      "metadata": {
        "id": "cCoNoONdQQ4L",
        "colab": {
          "base_uri": "https://localhost:8080/",
          "height": 70
        },
        "outputId": "020e4639-7b29-4c45-a487-d1e0dab530da"
      },
      "source": [
        "translate('越南') # VN"
      ],
      "execution_count": 63,
      "outputs": [
        {
          "output_type": "stream",
          "text": [
            "Input: 越 南\n",
            "Predicted translation: việt nam\n"
          ],
          "name": "stdout"
        },
        {
          "output_type": "execute_result",
          "data": {
            "application/vnd.google.colaboratory.intrinsic+json": {
              "type": "string"
            },
            "text/plain": [
              "'việt nam'"
            ]
          },
          "metadata": {
            "tags": []
          },
          "execution_count": 63
        }
      ]
    },
    {
      "cell_type": "code",
      "metadata": {
        "id": "Vl2oEy-zQU3Z",
        "colab": {
          "base_uri": "https://localhost:8080/",
          "height": 70
        },
        "outputId": "c71cc189-a5dc-414c-a14c-95321faa7761"
      },
      "source": [
        "translate('人') # người"
      ],
      "execution_count": 64,
      "outputs": [
        {
          "output_type": "stream",
          "text": [
            "Input: 人\n",
            "Predicted translation: nhân nhân\n"
          ],
          "name": "stdout"
        },
        {
          "output_type": "execute_result",
          "data": {
            "application/vnd.google.colaboratory.intrinsic+json": {
              "type": "string"
            },
            "text/plain": [
              "'nhân nhân'"
            ]
          },
          "metadata": {
            "tags": []
          },
          "execution_count": 64
        }
      ]
    },
    {
      "cell_type": "code",
      "metadata": {
        "id": "_be6EgBDQbyJ",
        "colab": {
          "base_uri": "https://localhost:8080/",
          "height": 70
        },
        "outputId": "5fc10065-b2c0-4b5c-bb59-d5f4986b2d2e"
      },
      "source": [
        "translate('是越南人') # là người VN"
      ],
      "execution_count": 65,
      "outputs": [
        {
          "output_type": "stream",
          "text": [
            "Input: 是 越 南 人\n",
            "Predicted translation: người việt nam\n"
          ],
          "name": "stdout"
        },
        {
          "output_type": "execute_result",
          "data": {
            "application/vnd.google.colaboratory.intrinsic+json": {
              "type": "string"
            },
            "text/plain": [
              "'người việt nam'"
            ]
          },
          "metadata": {
            "tags": []
          },
          "execution_count": 65
        }
      ]
    },
    {
      "cell_type": "code",
      "metadata": {
        "id": "YeV9sLi8T2Qy",
        "colab": {
          "base_uri": "https://localhost:8080/"
        },
        "outputId": "faa14a29-fed9-4585-e3a1-6bd4d9555182"
      },
      "source": [
        "print(translate('我不是越南人')) # tôi không là người VN"
      ],
      "execution_count": 66,
      "outputs": [
        {
          "output_type": "stream",
          "text": [
            "Input: 我 不 是 越 南 人\n",
            "Predicted translation: tôi không biết\n",
            "tôi không biết\n"
          ],
          "name": "stdout"
        }
      ]
    },
    {
      "cell_type": "code",
      "metadata": {
        "id": "PuLevzyESCef",
        "colab": {
          "base_uri": "https://localhost:8080/"
        },
        "outputId": "5da652af-0157-43ec-989a-7aa30d05972d"
      },
      "source": [
        "print(translate('我是中国人')) # anh ta là người Trung Quốc"
      ],
      "execution_count": 67,
      "outputs": [
        {
          "output_type": "stream",
          "text": [
            "Input: 我 是 中 国 人\n",
            "Predicted translation: trung bắc\n",
            "trung bắc\n"
          ],
          "name": "stdout"
        }
      ]
    },
    {
      "cell_type": "code",
      "metadata": {
        "id": "CfVgv9kHQsHU",
        "colab": {
          "base_uri": "https://localhost:8080/",
          "height": 70
        },
        "outputId": "1577ea10-76ef-4bee-bd89-2420273aa66f"
      },
      "source": [
        "translate('中国人') # Người TQ"
      ],
      "execution_count": 68,
      "outputs": [
        {
          "output_type": "stream",
          "text": [
            "Input: 中 国 人\n",
            "Predicted translation: trung sĩ anh\n"
          ],
          "name": "stdout"
        },
        {
          "output_type": "execute_result",
          "data": {
            "application/vnd.google.colaboratory.intrinsic+json": {
              "type": "string"
            },
            "text/plain": [
              "'trung sĩ anh'"
            ]
          },
          "metadata": {
            "tags": []
          },
          "execution_count": 68
        }
      ]
    },
    {
      "cell_type": "code",
      "metadata": {
        "id": "J8sDnitXQykk",
        "colab": {
          "base_uri": "https://localhost:8080/",
          "height": 70
        },
        "outputId": "57162819-783a-4944-9dfc-eb7034b180c8"
      },
      "source": [
        "translate('中国') # TQ"
      ],
      "execution_count": 69,
      "outputs": [
        {
          "output_type": "stream",
          "text": [
            "Input: 中 国\n",
            "Predicted translation: trung quốc\n"
          ],
          "name": "stdout"
        },
        {
          "output_type": "execute_result",
          "data": {
            "application/vnd.google.colaboratory.intrinsic+json": {
              "type": "string"
            },
            "text/plain": [
              "'trung quốc'"
            ]
          },
          "metadata": {
            "tags": []
          },
          "execution_count": 69
        }
      ]
    },
    {
      "cell_type": "code",
      "metadata": {
        "id": "EMPoGxdQQKiS",
        "colab": {
          "base_uri": "https://localhost:8080/"
        },
        "outputId": "50184688-6376-4b5a-f97b-47d4b58ff893"
      },
      "source": [
        "print(translate('越南北部的中国')) # Trung Quốc ở phía bắc Việt Nam"
      ],
      "execution_count": 70,
      "outputs": [
        {
          "output_type": "stream",
          "text": [
            "Input: 越 南 北 部 的 中 国\n",
            "Predicted translation: trung sĩ môi trung quốc\n",
            "trung sĩ môi trung quốc\n"
          ],
          "name": "stdout"
        }
      ]
    },
    {
      "cell_type": "code",
      "metadata": {
        "id": "9zbGb506PIN9",
        "colab": {
          "base_uri": "https://localhost:8080/"
        },
        "outputId": "1c451893-0f9c-4bb5-c908-d88084963261"
      },
      "source": [
        "print(translate('明天我哥哥很忙。'))"
      ],
      "execution_count": 71,
      "outputs": [
        {
          "output_type": "stream",
          "text": [
            "Input: 明 天 我 哥 哥 很 忙 。\n",
            "Predicted translation: ngày mai tôi rất bận.\n",
            "ngày mai tôi rất bận.\n"
          ],
          "name": "stdout"
        }
      ]
    },
    {
      "cell_type": "code",
      "metadata": {
        "id": "cHQuNXaQRPfh",
        "colab": {
          "base_uri": "https://localhost:8080/",
          "height": 70
        },
        "outputId": "d284df35-59ca-42f3-910f-28810dbafc3b"
      },
      "source": [
        "translate('明天')  # ngày mai"
      ],
      "execution_count": 72,
      "outputs": [
        {
          "output_type": "stream",
          "text": [
            "Input: 明 天\n",
            "Predicted translation: mai đây\n"
          ],
          "name": "stdout"
        },
        {
          "output_type": "execute_result",
          "data": {
            "application/vnd.google.colaboratory.intrinsic+json": {
              "type": "string"
            },
            "text/plain": [
              "'mai đây'"
            ]
          },
          "metadata": {
            "tags": []
          },
          "execution_count": 72
        }
      ]
    },
    {
      "cell_type": "code",
      "metadata": {
        "id": "KR1gg17uRT3U",
        "colab": {
          "base_uri": "https://localhost:8080/",
          "height": 70
        },
        "outputId": "0378d72e-7533-46a2-cb8d-b11c1eb15e9a"
      },
      "source": [
        "translate('我哥哥很忙。') #anh trai tôi rất bận"
      ],
      "execution_count": 73,
      "outputs": [
        {
          "output_type": "stream",
          "text": [
            "Input: 我 哥 哥 很 忙 。\n",
            "Predicted translation: anh trai tôi rất bận.\n"
          ],
          "name": "stdout"
        },
        {
          "output_type": "execute_result",
          "data": {
            "application/vnd.google.colaboratory.intrinsic+json": {
              "type": "string"
            },
            "text/plain": [
              "'anh trai tôi rất bận.'"
            ]
          },
          "metadata": {
            "tags": []
          },
          "execution_count": 73
        }
      ]
    },
    {
      "cell_type": "code",
      "metadata": {
        "id": "vect-uIgRbQw",
        "colab": {
          "base_uri": "https://localhost:8080/",
          "height": 70
        },
        "outputId": "9522d4ac-7478-4c2e-e272-e2b52447d18a"
      },
      "source": [
        "translate('我哥哥') # anh trai tôi"
      ],
      "execution_count": 74,
      "outputs": [
        {
          "output_type": "stream",
          "text": [
            "Input: 我 哥 哥\n",
            "Predicted translation: anh trai\n"
          ],
          "name": "stdout"
        },
        {
          "output_type": "execute_result",
          "data": {
            "application/vnd.google.colaboratory.intrinsic+json": {
              "type": "string"
            },
            "text/plain": [
              "'anh trai'"
            ]
          },
          "metadata": {
            "tags": []
          },
          "execution_count": 74
        }
      ]
    },
    {
      "cell_type": "code",
      "metadata": {
        "id": "HteMhpVURfBm",
        "colab": {
          "base_uri": "https://localhost:8080/",
          "height": 70
        },
        "outputId": "2241682f-042c-4ec0-a91f-6562e1690dcd"
      },
      "source": [
        "translate('很忙。') # rất bận"
      ],
      "execution_count": 75,
      "outputs": [
        {
          "output_type": "stream",
          "text": [
            "Input: 很 忙 。\n",
            "Predicted translation: rất vui.\n"
          ],
          "name": "stdout"
        },
        {
          "output_type": "execute_result",
          "data": {
            "application/vnd.google.colaboratory.intrinsic+json": {
              "type": "string"
            },
            "text/plain": [
              "'rất vui.'"
            ]
          },
          "metadata": {
            "tags": []
          },
          "execution_count": 75
        }
      ]
    },
    {
      "cell_type": "code",
      "metadata": {
        "id": "YsxrAlvFG8SZ",
        "colab": {
          "base_uri": "https://localhost:8080/"
        },
        "outputId": "5fa4ce1f-bbaf-4988-9605-0d54dec26498"
      },
      "source": [
        "print(translate('那是英文杂志。'))"
      ],
      "execution_count": 76,
      "outputs": [
        {
          "output_type": "stream",
          "text": [
            "Input: 那 是 英 文 杂 志 。\n",
            "Predicted translation: kia là tạp chí tiếng anh?\n",
            "kia là tạp chí tiếng anh?\n"
          ],
          "name": "stdout"
        }
      ]
    },
    {
      "cell_type": "code",
      "metadata": {
        "id": "4dSHKHzYRyto",
        "colab": {
          "base_uri": "https://localhost:8080/",
          "height": 70
        },
        "outputId": "870eebbe-82fe-495d-d787-62a419b7c834"
      },
      "source": [
        "translate('那是英文杂志。')"
      ],
      "execution_count": 77,
      "outputs": [
        {
          "output_type": "stream",
          "text": [
            "Input: 那 是 英 文 杂 志 。\n",
            "Predicted translation: kia là tạp chí tiếng anh?\n"
          ],
          "name": "stdout"
        },
        {
          "output_type": "execute_result",
          "data": {
            "application/vnd.google.colaboratory.intrinsic+json": {
              "type": "string"
            },
            "text/plain": [
              "'kia là tạp chí tiếng anh?'"
            ]
          },
          "metadata": {
            "tags": []
          },
          "execution_count": 77
        }
      ]
    },
    {
      "cell_type": "code",
      "metadata": {
        "id": "BK7g3qnxR-V2",
        "colab": {
          "base_uri": "https://localhost:8080/",
          "height": 70
        },
        "outputId": "baf2ea01-c6c2-4419-db47-255f074b1c67"
      },
      "source": [
        "translate('英') # tieengs Anh"
      ],
      "execution_count": 78,
      "outputs": [
        {
          "output_type": "stream",
          "text": [
            "Input: 英\n",
            "Predicted translation: phân cầu, giỏi luận\n"
          ],
          "name": "stdout"
        },
        {
          "output_type": "execute_result",
          "data": {
            "application/vnd.google.colaboratory.intrinsic+json": {
              "type": "string"
            },
            "text/plain": [
              "'phân cầu, giỏi luận'"
            ]
          },
          "metadata": {
            "tags": []
          },
          "execution_count": 78
        }
      ]
    },
    {
      "cell_type": "code",
      "metadata": {
        "id": "pRk2-_hASIRx",
        "colab": {
          "base_uri": "https://localhost:8080/",
          "height": 70
        },
        "outputId": "a802d654-8901-48ee-db13-4d6a57d5724d"
      },
      "source": [
        "translate('杂志。') # tạp chí"
      ],
      "execution_count": 79,
      "outputs": [
        {
          "output_type": "stream",
          "text": [
            "Input: 杂 志 。\n",
            "Predicted translation: tạp chí\n"
          ],
          "name": "stdout"
        },
        {
          "output_type": "execute_result",
          "data": {
            "application/vnd.google.colaboratory.intrinsic+json": {
              "type": "string"
            },
            "text/plain": [
              "'tạp chí'"
            ]
          },
          "metadata": {
            "tags": []
          },
          "execution_count": 79
        }
      ]
    },
    {
      "cell_type": "code",
      "metadata": {
        "id": "3yCFEY9ESOcO",
        "colab": {
          "base_uri": "https://localhost:8080/",
          "height": 70
        },
        "outputId": "d605bf3a-c923-487e-8a42-fd74dcb1a7ae"
      },
      "source": [
        "translate('那是英文') # đó là Tiếng Anh"
      ],
      "execution_count": 80,
      "outputs": [
        {
          "output_type": "stream",
          "text": [
            "Input: 那 是 英 文\n",
            "Predicted translation: tên tiếng anh\n"
          ],
          "name": "stdout"
        },
        {
          "output_type": "execute_result",
          "data": {
            "application/vnd.google.colaboratory.intrinsic+json": {
              "type": "string"
            },
            "text/plain": [
              "'tên tiếng anh'"
            ]
          },
          "metadata": {
            "tags": []
          },
          "execution_count": 80
        }
      ]
    },
    {
      "cell_type": "code",
      "metadata": {
        "id": "oeBxy7LySoUp",
        "colab": {
          "base_uri": "https://localhost:8080/",
          "height": 70
        },
        "outputId": "e0058c30-4aac-4a3f-ca68-06d62b8288b2"
      },
      "source": [
        "translate('今天我的工作不太忙。') #Hôm nay công việc của tôi không quá bận."
      ],
      "execution_count": 81,
      "outputs": [
        {
          "output_type": "stream",
          "text": [
            "Input: 今 天 我 的 工 作 不 太 忙 。\n",
            "Predicted translation: hôm nay công việc của tôi không bận lắm.\n"
          ],
          "name": "stdout"
        },
        {
          "output_type": "execute_result",
          "data": {
            "application/vnd.google.colaboratory.intrinsic+json": {
              "type": "string"
            },
            "text/plain": [
              "'hôm nay công việc của tôi không bận lắm.'"
            ]
          },
          "metadata": {
            "tags": []
          },
          "execution_count": 81
        }
      ]
    },
    {
      "cell_type": "code",
      "metadata": {
        "id": "Pg9TeVwhSvPt",
        "colab": {
          "base_uri": "https://localhost:8080/",
          "height": 70
        },
        "outputId": "80e175ea-212f-4a22-c905-99b8a5fefea8"
      },
      "source": [
        "translate('今天') # ngày nay, hiện tại"
      ],
      "execution_count": 82,
      "outputs": [
        {
          "output_type": "stream",
          "text": [
            "Input: 今 天\n",
            "Predicted translation: hiện tại\n"
          ],
          "name": "stdout"
        },
        {
          "output_type": "execute_result",
          "data": {
            "application/vnd.google.colaboratory.intrinsic+json": {
              "type": "string"
            },
            "text/plain": [
              "'hiện tại'"
            ]
          },
          "metadata": {
            "tags": []
          },
          "execution_count": 82
        }
      ]
    },
    {
      "cell_type": "code",
      "metadata": {
        "id": "J2d4rFZuS05R",
        "colab": {
          "base_uri": "https://localhost:8080/",
          "height": 70
        },
        "outputId": "6b39feb1-fa9f-4689-d565-305839c3e725"
      },
      "source": [
        "translate('工作') # công việc"
      ],
      "execution_count": 83,
      "outputs": [
        {
          "output_type": "stream",
          "text": [
            "Input: 工 作\n",
            "Predicted translation: công việc\n"
          ],
          "name": "stdout"
        },
        {
          "output_type": "execute_result",
          "data": {
            "application/vnd.google.colaboratory.intrinsic+json": {
              "type": "string"
            },
            "text/plain": [
              "'công việc'"
            ]
          },
          "metadata": {
            "tags": []
          },
          "execution_count": 83
        }
      ]
    },
    {
      "cell_type": "code",
      "metadata": {
        "id": "17bo_1vWTAUE",
        "colab": {
          "base_uri": "https://localhost:8080/",
          "height": 70
        },
        "outputId": "a9a73c83-ed62-4fec-ff14-9cb0469f0e7c"
      },
      "source": [
        "translate('不太忙。') # không quá bận"
      ],
      "execution_count": 84,
      "outputs": [
        {
          "output_type": "stream",
          "text": [
            "Input: 不 太 忙 。\n",
            "Predicted translation: không bận.\n"
          ],
          "name": "stdout"
        },
        {
          "output_type": "execute_result",
          "data": {
            "application/vnd.google.colaboratory.intrinsic+json": {
              "type": "string"
            },
            "text/plain": [
              "'không bận.'"
            ]
          },
          "metadata": {
            "tags": []
          },
          "execution_count": 84
        }
      ]
    },
    {
      "cell_type": "code",
      "metadata": {
        "id": "pCCI6dfHTGAp",
        "colab": {
          "base_uri": "https://localhost:8080/",
          "height": 70
        },
        "outputId": "42473a19-12b2-44f4-809e-e630a7b96e4c"
      },
      "source": [
        "translate('工作不太忙。') # công việc không quá bận"
      ],
      "execution_count": 85,
      "outputs": [
        {
          "output_type": "stream",
          "text": [
            "Input: 工 作 不 太 忙 。\n",
            "Predicted translation: công việc không bận\n"
          ],
          "name": "stdout"
        },
        {
          "output_type": "execute_result",
          "data": {
            "application/vnd.google.colaboratory.intrinsic+json": {
              "type": "string"
            },
            "text/plain": [
              "'công việc không bận'"
            ]
          },
          "metadata": {
            "tags": []
          },
          "execution_count": 85
        }
      ]
    },
    {
      "cell_type": "code",
      "metadata": {
        "id": "9bJ2S0x4TNMV",
        "colab": {
          "base_uri": "https://localhost:8080/",
          "height": 70
        },
        "outputId": "86682d8d-ca77-45e4-cd69-6e4cb6d99d0f"
      },
      "source": [
        "translate('拼命在脑海中寻你') #Khao khát tìm kiếm bạn trong tâm trí của tôi"
      ],
      "execution_count": 86,
      "outputs": [
        {
          "output_type": "stream",
          "text": [
            "Input: 拼 命 在 脑 海 中 寻 你\n",
            "Predicted translation: bất chấp tất cả tìm hình bóng anh trong trí nhớ\n"
          ],
          "name": "stdout"
        },
        {
          "output_type": "execute_result",
          "data": {
            "application/vnd.google.colaboratory.intrinsic+json": {
              "type": "string"
            },
            "text/plain": [
              "'bất chấp tất cả tìm hình bóng anh trong trí nhớ'"
            ]
          },
          "metadata": {
            "tags": []
          },
          "execution_count": 86
        }
      ]
    },
    {
      "cell_type": "code",
      "metadata": {
        "id": "PJmrUlydTVQN",
        "colab": {
          "base_uri": "https://localhost:8080/",
          "height": 70
        },
        "outputId": "13f224e2-0b8a-4075-a043-a4d7e361afc3"
      },
      "source": [
        "translate('拼命在') # tuyệt vọng"
      ],
      "execution_count": 87,
      "outputs": [
        {
          "output_type": "stream",
          "text": [
            "Input: 拼 命 在\n",
            "Predicted translation: đang\n"
          ],
          "name": "stdout"
        },
        {
          "output_type": "execute_result",
          "data": {
            "application/vnd.google.colaboratory.intrinsic+json": {
              "type": "string"
            },
            "text/plain": [
              "'đang'"
            ]
          },
          "metadata": {
            "tags": []
          },
          "execution_count": 87
        }
      ]
    },
    {
      "cell_type": "code",
      "metadata": {
        "id": "FPux5SdZTgHe",
        "colab": {
          "base_uri": "https://localhost:8080/",
          "height": 70
        },
        "outputId": "08387beb-7a06-4fdf-8d48-68bab8cb1a1c"
      },
      "source": [
        "translate('默守着那个秘密') # âm thầm giữ kín bí mật"
      ],
      "execution_count": 88,
      "outputs": [
        {
          "output_type": "stream",
          "text": [
            "Input: 默 守 着 那 个 秘 密\n",
            "Predicted translation: âm thầm giữ kín bí mật\n"
          ],
          "name": "stdout"
        },
        {
          "output_type": "execute_result",
          "data": {
            "application/vnd.google.colaboratory.intrinsic+json": {
              "type": "string"
            },
            "text/plain": [
              "'âm thầm giữ kín bí mật'"
            ]
          },
          "metadata": {
            "tags": []
          },
          "execution_count": 88
        }
      ]
    },
    {
      "cell_type": "code",
      "metadata": {
        "id": "A5VoGwZPT1d_",
        "colab": {
          "base_uri": "https://localhost:8080/",
          "height": 70
        },
        "outputId": "67c7c16c-ed05-4909-d3ae-08d5553907d5"
      },
      "source": [
        "translate('默守着那') # giữ im lặng"
      ],
      "execution_count": 89,
      "outputs": [
        {
          "output_type": "stream",
          "text": [
            "Input: 默 守 着 那\n",
            "Predicted translation: thường phun mệt trung\n"
          ],
          "name": "stdout"
        },
        {
          "output_type": "execute_result",
          "data": {
            "application/vnd.google.colaboratory.intrinsic+json": {
              "type": "string"
            },
            "text/plain": [
              "'thường phun mệt trung'"
            ]
          },
          "metadata": {
            "tags": []
          },
          "execution_count": 89
        }
      ]
    },
    {
      "cell_type": "code",
      "metadata": {
        "id": "lfAdutaXT_Ht",
        "colab": {
          "base_uri": "https://localhost:8080/",
          "height": 70
        },
        "outputId": "89f4a243-1317-40b0-d28d-30430ef90292"
      },
      "source": [
        "translate('个秘密') # bí mật"
      ],
      "execution_count": 90,
      "outputs": [
        {
          "output_type": "stream",
          "text": [
            "Input: 个 秘 密\n",
            "Predicted translation: bí mật\n"
          ],
          "name": "stdout"
        },
        {
          "output_type": "execute_result",
          "data": {
            "application/vnd.google.colaboratory.intrinsic+json": {
              "type": "string"
            },
            "text/plain": [
              "'bí mật'"
            ]
          },
          "metadata": {
            "tags": []
          },
          "execution_count": 90
        }
      ]
    },
    {
      "cell_type": "code",
      "metadata": {
        "id": "iPpcL8-zUJ3q",
        "colab": {
          "base_uri": "https://localhost:8080/",
          "height": 70
        },
        "outputId": "5ff16dac-819d-4017-99f7-fd081023ee39"
      },
      "source": [
        "translate('请把飞机票和护照给我看一下儿。') #hãy đưa vé máy bay và hộ chiếu cho tôi xem một chút."
      ],
      "execution_count": 91,
      "outputs": [
        {
          "output_type": "stream",
          "text": [
            "Input: 请 把 飞 机 票 和 护 照 给 我 看 一 下 儿 。\n",
            "Predicted translation: hãy đưa vé máy bay và hộ chiếu cho tôi xem một chút.\n"
          ],
          "name": "stdout"
        },
        {
          "output_type": "execute_result",
          "data": {
            "application/vnd.google.colaboratory.intrinsic+json": {
              "type": "string"
            },
            "text/plain": [
              "'hãy đưa vé máy bay và hộ chiếu cho tôi xem một chút.'"
            ]
          },
          "metadata": {
            "tags": []
          },
          "execution_count": 91
        }
      ]
    },
    {
      "cell_type": "code",
      "metadata": {
        "id": "-PO4yjXOURAA",
        "colab": {
          "base_uri": "https://localhost:8080/",
          "height": 70
        },
        "outputId": "82118fd2-a015-4444-e018-0db971c60510"
      },
      "source": [
        "translate('请给我机票') #Làm ơn cho tôi vé"
      ],
      "execution_count": 92,
      "outputs": [
        {
          "output_type": "stream",
          "text": [
            "Input: 请 给 我 机 票\n",
            "Predicted translation: thẻ đưa cho tôi mượn thẻ lấy thẻ cho bạn.\n"
          ],
          "name": "stdout"
        },
        {
          "output_type": "execute_result",
          "data": {
            "application/vnd.google.colaboratory.intrinsic+json": {
              "type": "string"
            },
            "text/plain": [
              "'thẻ đưa cho tôi mượn thẻ lấy thẻ cho bạn.'"
            ]
          },
          "metadata": {
            "tags": []
          },
          "execution_count": 92
        }
      ]
    },
    {
      "cell_type": "code",
      "metadata": {
        "id": "I8eJK-8LUZON",
        "colab": {
          "base_uri": "https://localhost:8080/",
          "height": 70
        },
        "outputId": "2e81de2b-5403-41bd-f67b-3e2e994dbdfd"
      },
      "source": [
        "translate('机票') # vé máy bay"
      ],
      "execution_count": 93,
      "outputs": [
        {
          "output_type": "stream",
          "text": [
            "Input: 机 票\n",
            "Predicted translation: vé từ\n"
          ],
          "name": "stdout"
        },
        {
          "output_type": "execute_result",
          "data": {
            "application/vnd.google.colaboratory.intrinsic+json": {
              "type": "string"
            },
            "text/plain": [
              "'vé từ'"
            ]
          },
          "metadata": {
            "tags": []
          },
          "execution_count": 93
        }
      ]
    },
    {
      "cell_type": "code",
      "metadata": {
        "id": "cS3iLb_oUbWk",
        "colab": {
          "base_uri": "https://localhost:8080/",
          "height": 70
        },
        "outputId": "81e79972-3d5e-4fcb-a895-679fee7a91a9"
      },
      "source": [
        "translate('护照') # hộ chiếu"
      ],
      "execution_count": 94,
      "outputs": [
        {
          "output_type": "stream",
          "text": [
            "Input: 护 照\n",
            "Predicted translation: hộ chiếu\n"
          ],
          "name": "stdout"
        },
        {
          "output_type": "execute_result",
          "data": {
            "application/vnd.google.colaboratory.intrinsic+json": {
              "type": "string"
            },
            "text/plain": [
              "'hộ chiếu'"
            ]
          },
          "metadata": {
            "tags": []
          },
          "execution_count": 94
        }
      ]
    },
    {
      "cell_type": "code",
      "metadata": {
        "id": "Ulu32PgUVhyQ",
        "colab": {
          "base_uri": "https://localhost:8080/",
          "height": 70
        },
        "outputId": "21258e9e-3bc8-4df8-ba16-d4133c723600"
      },
      "source": [
        "translate('姓名孙利')"
      ],
      "execution_count": 95,
      "outputs": [
        {
          "output_type": "stream",
          "text": [
            "Input: 姓 名 孙 利\n",
            "Predicted translation: họ ta ta ta ta ta ta ta ta ta\n"
          ],
          "name": "stdout"
        },
        {
          "output_type": "execute_result",
          "data": {
            "application/vnd.google.colaboratory.intrinsic+json": {
              "type": "string"
            },
            "text/plain": [
              "'họ ta ta ta ta ta ta ta ta ta'"
            ]
          },
          "metadata": {
            "tags": []
          },
          "execution_count": 95
        }
      ]
    },
    {
      "cell_type": "code",
      "metadata": {
        "id": "fZO3aAXaVy3q",
        "colab": {
          "base_uri": "https://localhost:8080/",
          "height": 70
        },
        "outputId": "2d2c86bd-1555-4afe-d5e7-9403c1449f52"
      },
      "source": [
        "translate('​​​​​​​性男')"
      ],
      "execution_count": 96,
      "outputs": [
        {
          "output_type": "stream",
          "text": [
            "Input: ​ ​ ​ ​ ​ ​ ​ 性 男\n",
            "Predicted translation: tranh đầu cờ đặc biệt đã được đủ\n"
          ],
          "name": "stdout"
        },
        {
          "output_type": "execute_result",
          "data": {
            "application/vnd.google.colaboratory.intrinsic+json": {
              "type": "string"
            },
            "text/plain": [
              "'tranh đầu cờ đặc biệt đã được đủ'"
            ]
          },
          "metadata": {
            "tags": []
          },
          "execution_count": 96
        }
      ]
    },
    {
      "cell_type": "code",
      "metadata": {
        "id": "7_0KtctDV0Rr",
        "colab": {
          "base_uri": "https://localhost:8080/",
          "height": 70
        },
        "outputId": "507fc5a3-55cb-4de4-c859-cbb519644a08"
      },
      "source": [
        "translate('民族汉')"
      ],
      "execution_count": 97,
      "outputs": [
        {
          "output_type": "stream",
          "text": [
            "Input: 民 族 汉\n",
            "Predicted translation: dân tộc\n"
          ],
          "name": "stdout"
        },
        {
          "output_type": "execute_result",
          "data": {
            "application/vnd.google.colaboratory.intrinsic+json": {
              "type": "string"
            },
            "text/plain": [
              "'dân tộc'"
            ]
          },
          "metadata": {
            "tags": []
          },
          "execution_count": 97
        }
      ]
    },
    {
      "cell_type": "code",
      "metadata": {
        "id": "LfTFsDDVV2A2",
        "colab": {
          "base_uri": "https://localhost:8080/",
          "height": 70
        },
        "outputId": "b1896874-a3ea-43f1-e32f-4b2b9b99f33d"
      },
      "source": [
        "translate('出生1986年2月1')"
      ],
      "execution_count": 98,
      "outputs": [
        {
          "output_type": "stream",
          "text": [
            "Input: 出 生 1 9 8 6 年 2 月 1\n",
            "Predicted translation: sinh phương tiếc xuân 10 năm nay 2 năm là y đẽ\n"
          ],
          "name": "stdout"
        },
        {
          "output_type": "execute_result",
          "data": {
            "application/vnd.google.colaboratory.intrinsic+json": {
              "type": "string"
            },
            "text/plain": [
              "'sinh phương tiếc xuân 10 năm nay 2 năm là y đẽ'"
            ]
          },
          "metadata": {
            "tags": []
          },
          "execution_count": 98
        }
      ]
    },
    {
      "cell_type": "code",
      "metadata": {
        "id": "v1z_8SuIV3As",
        "colab": {
          "base_uri": "https://localhost:8080/",
          "height": 70
        },
        "outputId": "752a3d5f-1605-486a-d9b5-bbee1832bfad"
      },
      "source": [
        "translate('往姓天津市南开区沱江路沱江')"
      ],
      "execution_count": 99,
      "outputs": [
        {
          "output_type": "stream",
          "text": [
            "Input: 往 姓 天 津 市 南 开 区 沱 江 路 沱 江\n",
            "Predicted translation: đặc khu bất quan hệ nổi nhau 3 năm\n"
          ],
          "name": "stdout"
        },
        {
          "output_type": "execute_result",
          "data": {
            "application/vnd.google.colaboratory.intrinsic+json": {
              "type": "string"
            },
            "text/plain": [
              "'đặc khu bất quan hệ nổi nhau 3 năm'"
            ]
          },
          "metadata": {
            "tags": []
          },
          "execution_count": 99
        }
      ]
    },
    {
      "cell_type": "code",
      "metadata": {
        "id": "vtD8yCLsV4QG",
        "colab": {
          "base_uri": "https://localhost:8080/",
          "height": 70
        },
        "outputId": "3fd22396-a531-40a7-876b-864d8f560073"
      },
      "source": [
        "translate('里11号楼5门2号')"
      ],
      "execution_count": 100,
      "outputs": [
        {
          "output_type": "stream",
          "text": [
            "Input: 里 1 1 号 楼 5 门 2 号\n",
            "Predicted translation: dạ tiệc có\n"
          ],
          "name": "stdout"
        },
        {
          "output_type": "execute_result",
          "data": {
            "application/vnd.google.colaboratory.intrinsic+json": {
              "type": "string"
            },
            "text/plain": [
              "'dạ tiệc có'"
            ]
          },
          "metadata": {
            "tags": []
          },
          "execution_count": 100
        }
      ]
    },
    {
      "cell_type": "code",
      "metadata": {
        "id": "REJi6KPxV5hF",
        "colab": {
          "base_uri": "https://localhost:8080/",
          "height": 70
        },
        "outputId": "c186d65d-a50d-4689-e4c1-fcccfa422182"
      },
      "source": [
        "translate('{​​​​​​​公民身份号码')"
      ],
      "execution_count": 101,
      "outputs": [
        {
          "output_type": "stream",
          "text": [
            "Input: { ​ ​ ​ ​ ​ ​ ​ 公 民 身 份 号 码\n",
            "Predicted translation: màn thơ cờ thủ tình sử dân đại\n"
          ],
          "name": "stdout"
        },
        {
          "output_type": "execute_result",
          "data": {
            "application/vnd.google.colaboratory.intrinsic+json": {
              "type": "string"
            },
            "text/plain": [
              "'màn thơ cờ thủ tình sử dân đại'"
            ]
          },
          "metadata": {
            "tags": []
          },
          "execution_count": 101
        }
      ]
    },
    {
      "cell_type": "code",
      "metadata": {
        "id": "6J97QHvtV6gS",
        "colab": {
          "base_uri": "https://localhost:8080/",
          "height": 70
        },
        "outputId": "51d68c5d-2a24-4394-8030-d7238ce103b9"
      },
      "source": [
        "translate('120104198602014333')"
      ],
      "execution_count": 102,
      "outputs": [
        {
          "output_type": "stream",
          "text": [
            "Input: 1 2 0 1 0 4 1 9 8 6 0 2 0 1 4 3 3 3\n",
            "Predicted translation: từ hạng tập đến 3 giờ\n"
          ],
          "name": "stdout"
        },
        {
          "output_type": "execute_result",
          "data": {
            "application/vnd.google.colaboratory.intrinsic+json": {
              "type": "string"
            },
            "text/plain": [
              "'từ hạng tập đến 3 giờ'"
            ]
          },
          "metadata": {
            "tags": []
          },
          "execution_count": 102
        }
      ]
    },
    {
      "cell_type": "code",
      "metadata": {
        "id": "ACerpPvQUfsK",
        "colab": {
          "base_uri": "https://localhost:8080/",
          "height": 142
        },
        "outputId": "0c7b0608-53ee-4b6a-bbcb-0396498d6553"
      },
      "source": [
        "translate('如果事与愿违，就相信上天一定另有安排，所有失去的，都会以另外一种方式归来。相信自己，相信时间不会亏带你。')"
      ],
      "execution_count": 103,
      "outputs": [
        {
          "output_type": "stream",
          "text": [
            "Input: 如 果 事 与 愿 违 ， 就 相 信 上 天 一 定 另 有 安 排 ， 所 有 失 去 的 ， 都 会 以 另 外 一 种 方 式 归 来 。 相 信 自 己 ， 相 信 时 间 不 会 亏 带 你 。\n",
            "Predicted translation: nếu như bạn lựa chọn giữa sự tin tưởng thì cũng nên tìm một sự tin tưởng vào bản thân trở nên tin tưởng thì cũng không đối nhưng nếu như bản thân và thời gian thì hãy tin tưởng còn cao nhất xảy ra sắp xếp khác. điều rằng đời bạn có thể tìm được bằng một cách kiên trì thật tưởng mà tìm một cách giúp tôi tìm những gì bạn nhất của bạn.\n"
          ],
          "name": "stdout"
        },
        {
          "output_type": "execute_result",
          "data": {
            "application/vnd.google.colaboratory.intrinsic+json": {
              "type": "string"
            },
            "text/plain": [
              "'nếu như bạn lựa chọn giữa sự tin tưởng thì cũng nên tìm một sự tin tưởng vào bản thân trở nên tin tưởng thì cũng không đối nhưng nếu như bản thân và thời gian thì hãy tin tưởng còn cao nhất xảy ra sắp xếp khác. điều rằng đời bạn có thể tìm được bằng một cách kiên trì thật tưởng mà tìm một cách giúp tôi tìm những gì bạn nhất của bạn.'"
            ]
          },
          "metadata": {
            "tags": []
          },
          "execution_count": 103
        }
      ]
    },
    {
      "cell_type": "code",
      "metadata": {
        "id": "t7x7m65BOcMX",
        "colab": {
          "base_uri": "https://localhost:8080/"
        },
        "outputId": "afe411c5-2b5f-4078-f60d-ea269494ee7d"
      },
      "source": [
        "print(translate('明天下了课我就去办公室找她。'))"
      ],
      "execution_count": 104,
      "outputs": [
        {
          "output_type": "stream",
          "text": [
            "Input: 明 天 下 了 课 我 就 去 办 公 室 找 她 。\n",
            "Predicted translation: ngày mai tan học xong tôi sẽ đến văn phòng tìm cô ta.\n",
            "ngày mai tan học xong tôi sẽ đến văn phòng tìm cô ta.\n"
          ],
          "name": "stdout"
        }
      ]
    },
    {
      "cell_type": "code",
      "metadata": {
        "id": "uSlVcHVBfh-m",
        "colab": {
          "base_uri": "https://localhost:8080/"
        },
        "outputId": "f1984e83-fd29-4237-d040-51f6cd6d6e16"
      },
      "source": [
        "print(translate('真正的失败从来都不是结果的不仅如人意，而是拥有的时候随意挥霍，和未曾用心尝试前的轻言放弃。'))"
      ],
      "execution_count": 105,
      "outputs": [
        {
          "output_type": "stream",
          "text": [
            "Input: 真 正 的 失 败 从 来 都 不 是 结 果 的 不 仅 如 人 意 ， 而 是 拥 有 的 时 候 随 意 挥 霍 ， 和 未 曾 用 心 尝 试 前 的 轻 言 放 弃 。\n",
            "Predicted translation: thất bại thật sự không phải là kết quả không được như ý muốn mà là khi ta đang nắm giữ trong tay nhưng không biết trân trọng mà lại tùy tiện và dễ dàng từ bỏ khi chưa nếm trải qua hay quyết tâm giữ lấy.\n",
            "thất bại thật sự không phải là kết quả không được như ý muốn mà là khi ta đang nắm giữ trong tay nhưng không biết trân trọng mà lại tùy tiện và dễ dàng từ bỏ khi chưa nếm trải qua hay quyết tâm giữ lấy.\n"
          ],
          "name": "stdout"
        }
      ]
    },
    {
      "cell_type": "code",
      "metadata": {
        "id": "0JQrqaPZO40H",
        "colab": {
          "base_uri": "https://localhost:8080/"
        },
        "outputId": "a9fc29c2-3436-4ca5-ccda-eb57931cf60f"
      },
      "source": [
        "print(translate('真正的失败从来都不是结果的不仅如人意，而是拥有的时候随意挥霍，和未曾用心尝试前的轻言放弃。'))"
      ],
      "execution_count": 106,
      "outputs": [
        {
          "output_type": "stream",
          "text": [
            "Input: 真 正 的 失 败 从 来 都 不 是 结 果 的 不 仅 如 人 意 ， 而 是 拥 有 的 时 候 随 意 挥 霍 ， 和 未 曾 用 心 尝 试 前 的 轻 言 放 弃 。\n",
            "Predicted translation: thất bại thật sự không phải là kết quả không được như ý muốn mà là khi ta đang nắm giữ trong tay nhưng không biết trân trọng mà lại tùy tiện và dễ dàng từ bỏ khi chưa nếm trải qua hay quyết tâm giữ lấy.\n",
            "thất bại thật sự không phải là kết quả không được như ý muốn mà là khi ta đang nắm giữ trong tay nhưng không biết trân trọng mà lại tùy tiện và dễ dàng từ bỏ khi chưa nếm trải qua hay quyết tâm giữ lấy.\n"
          ],
          "name": "stdout"
        }
      ]
    },
    {
      "cell_type": "code",
      "metadata": {
        "id": "pQ7zPBmBOQOS",
        "colab": {
          "base_uri": "https://localhost:8080/"
        },
        "outputId": "a5e49650-54dd-4ef0-ddc0-78a246496c72"
      },
      "source": [
        "print(translate('你的名字写下来不过几厘米长，却贯穿了我这么长时光。其实你不知道，你一直是我的梦想。'))\r\n"
      ],
      "execution_count": 107,
      "outputs": [
        {
          "output_type": "stream",
          "text": [
            "Input: 你 的 名 字 写 下 来 不 过 几 厘 米 长 ， 却 贯 穿 了 我 这 么 长 时 光 。 其 实 你 不 知 道 ， 你 一 直 是 我 的 梦 想 。\n",
            "Predicted translation: tên của anh khi viết xuống giấy trắng quá dài có vài centimét, nhưng lại xuyên suốt cả một quãng thời gian thanh xuân của em. thực ra anh không biết rằng anh chính là ước mơ của em.\n",
            "tên của anh khi viết xuống giấy trắng quá dài có vài centimét, nhưng lại xuyên suốt cả một quãng thời gian thanh xuân của em. thực ra anh không biết rằng anh chính là ước mơ của em.\n"
          ],
          "name": "stdout"
        }
      ]
    },
    {
      "cell_type": "code",
      "metadata": {
        "id": "0gtzO9ztf-AX",
        "colab": {
          "base_uri": "https://localhost:8080/"
        },
        "outputId": "046a53e0-56e4-4d6b-be17-0470632ae516"
      },
      "source": [
        "print(translate('写给自己的第二封信 人生，总会有不期而遇的温暖，和生生不息的希望。不管前方的路有多苦，只要走的方向正确，不管多么崎岖不平，都比站在原地更接近幸福。'))"
      ],
      "execution_count": 108,
      "outputs": [
        {
          "output_type": "stream",
          "text": [
            "Input: 写 给 自 己 的 第 二 封 信 人 生 ， 总 会 有 不 期 而 遇 的 温 暖 ， 和 生 生 不 息 的 希 望 。 不 管 前 方 的 路 有 多 苦 ， 只 要 走 的 方 向 正 确 ， 不 管 多 么 崎 岖 不 平 ， 都 比 站 在 原 地 更 接 近 幸 福 。\n",
            "Predicted translation: đời người luôn có những điều ấm áp không mong mà tới, và cả những hi vọng không ngừng lớn lên. cho dù con đường phía trước có bao nhiêu khổ ải, chỉ cần hướng đi đúng thì dù trên đường đi có bao nhiêu khổ ải, chỉ cần hướng đứng mãi ở vạch đứng mãi ở vạch dần đứng mãi ở vạch xuất phát.\n",
            "đời người luôn có những điều ấm áp không mong mà tới, và cả những hi vọng không ngừng lớn lên. cho dù con đường phía trước có bao nhiêu khổ ải, chỉ cần hướng đi đúng thì dù trên đường đi có bao nhiêu khổ ải, chỉ cần hướng đứng mãi ở vạch đứng mãi ở vạch dần đứng mãi ở vạch xuất phát.\n"
          ],
          "name": "stdout"
        }
      ]
    },
    {
      "cell_type": "code",
      "metadata": {
        "id": "xPM5cqn6glrZ",
        "colab": {
          "base_uri": "https://localhost:8080/"
        },
        "outputId": "a7b8a761-ce6d-4043-d177-e5c9bf4a4a06"
      },
      "source": [
        "print(translate('如果你感到委屈，证明你还有底线；如果你感到迷茫，证明你还有追求；如果你感到痛苦，证明你还有力气；如果你感到绝望，证明你还要希望。 从某种意义上，你永远都不会被打倒，因为你还有你。'))"
      ],
      "execution_count": 109,
      "outputs": [
        {
          "output_type": "stream",
          "text": [
            "Input: 如 果 你 感 到 委 屈 ， 证 明 你 还 有 底 线 ； 如 果 你 感 到 迷 茫 ， 证 明 你 还 有 追 求 ； 如 果 你 感 到 痛 苦 ， 证 明 你 还 有 力 气 ； 如 果 你 感 到 绝 望 ， 证 明 你 还 要 希 望 。 从 某 种 意 义 上 ， 你 永 远 都 不 会 被 打 倒 ， 因 为 你 还 有 你 。\n",
            "Predicted translation: nếu như bạn cảm thấy oan ức thì chứng tỏ bạn vẫn còn giới hạn. nếu như bạn cảm thấy mông lung lạc lối chứng tỏ bạn vẫn còn nhiều điều muốn theo đuổi. nếu như bạn cảm thấy đau khổ chứng tỏ bạn vẫn còn sức lực. nếu như bạn cảm thấy tuyệt vọng chứng tỏ bạn vẫn còn hy vọng. trên một tầng ý nghĩa nào đó, bạn vẫn còn sức lực. trên điều gì đạp đổ bởi vì bạn vẫn còn bản thân mình.\n",
            "nếu như bạn cảm thấy oan ức thì chứng tỏ bạn vẫn còn giới hạn. nếu như bạn cảm thấy mông lung lạc lối chứng tỏ bạn vẫn còn nhiều điều muốn theo đuổi. nếu như bạn cảm thấy đau khổ chứng tỏ bạn vẫn còn sức lực. nếu như bạn cảm thấy tuyệt vọng chứng tỏ bạn vẫn còn hy vọng. trên một tầng ý nghĩa nào đó, bạn vẫn còn sức lực. trên điều gì đạp đổ bởi vì bạn vẫn còn bản thân mình.\n"
          ],
          "name": "stdout"
        }
      ]
    },
    {
      "cell_type": "code",
      "metadata": {
        "id": "A9enwvl9hFCl",
        "colab": {
          "base_uri": "https://localhost:8080/"
        },
        "outputId": "dabf05f8-58da-419b-86b4-94fd75e865a6"
      },
      "source": [
        "print(translate('今天我的工作不太忙。'))"
      ],
      "execution_count": 110,
      "outputs": [
        {
          "output_type": "stream",
          "text": [
            "Input: 今 天 我 的 工 作 不 太 忙 。\n",
            "Predicted translation: hôm nay công việc của tôi không bận lắm.\n",
            "hôm nay công việc của tôi không bận lắm.\n"
          ],
          "name": "stdout"
        }
      ]
    },
    {
      "cell_type": "code",
      "metadata": {
        "id": "epSENeOKKLFy"
      },
      "source": [
        "from nltk.translate.bleu_score import sentence_bleu"
      ],
      "execution_count": 111,
      "outputs": []
    },
    {
      "cell_type": "code",
      "metadata": {
        "id": "jlRHgmMeKMuN",
        "colab": {
          "base_uri": "https://localhost:8080/"
        },
        "outputId": "760c5f04-d575-4ffa-8678-839404228891"
      },
      "source": [
        "scores = 0 \r\n",
        "num = 500\r\n",
        "for i in range(num):\r\n",
        "  xx = content_vn[i]\r\n",
        "  yy = translate(content_en[i])\r\n",
        "  print(xx)\r\n",
        "  print(yy)\r\n",
        "  score = sentence_bleu([xx.split()], yy.split())\r\n",
        "  print(score)\r\n",
        "  scores += score\r\n",
        "print(scores/num)"
      ],
      "execution_count": 115,
      "outputs": [
        {
          "output_type": "stream",
          "text": [
            "Input: 写 给 自 己 的 第 二 封 信 人 生 ， 总 会 有 不 期 而 遇 的 温 暖 ， 和 生 生 不 息 的 希 望 。 不 管 前 方 的 路 有 多 苦 ， 只 要 走 的 方 向 正 确 ， 不 管 多 么 崎 岖 不 平 ， 都 比 站 在 原 地 更 接 近 幸 福 。\n",
            "Predicted translation: đời người luôn có những điều ấm áp không mong mà tới, và cả những hi vọng không ngừng lớn lên. cho dù con đường phía trước có bao nhiêu khổ ải, chỉ cần hướng đi có bao nhiêu niềm hạnh phúc xanh lớn thì chỉ cần hướng đi mãi ở vạch xuất phát.\n",
            "đời người luôn có những điều ấm áp không mong mà tới, và cả những hi vọng không ngừng lớn lên. cho dù con đường phía trước có bao nhiêu khổ ải, chỉ cần hướng đi đúng thì dù trên đường đi có bao nhiêu chông gai gập ghềnh cũng còn gần với bến bờ hạnh phúc hơn chỉ đứng mãi ở vạch xuất phát.\n",
            "đời người luôn có những điều ấm áp không mong mà tới, và cả những hi vọng không ngừng lớn lên. cho dù con đường phía trước có bao nhiêu khổ ải, chỉ cần hướng đi có bao nhiêu niềm hạnh phúc xanh lớn thì chỉ cần hướng đi mãi ở vạch xuất phát.\n",
            "0.6445101023853903\n",
            "Input: 你 是 个 要 强 的 人 ， 时 时 刻 刻 要 求 自 己 做 到 百 分 之 百 的 超 出 期 望 值 。 但 是 苛 求 并 不 是 个 好 现 象 ， 你 并 不 是 天 才 ， 请 允 许 自 己 犯 错 。 不 要 太 着 急 ， 你 的 努 力 ， 时 间 都 会 帮 你 兑 现 。\n",
            "Predicted translation: bạn là một người mạnh mẽ, bất kể lúc nào cũng bắt mình phải làm được trọn vẹn 100% những kì vọng của bản thân. nhưng nghiêm khắc quá cũng không phải là điều tốt, bạn không phải là thiên tài, hãy cho phép mình phạm sai lầm, đừng quá vội vàng, những nỗ lực của bạn, thời gian sẽ giúp bạn thực hiện.\n",
            "bạn là một người mạnh mẽ, bất kể lúc nào cũng bắt mình phải làm được trọn vẹn 100% những kì vọng của bản thân. nhưng nghiêm khắc quá cũng không phải là điều tốt, bạn không phải là thiên tài, hãy cho phép mình phạm sai lầm, đừng quá vội vàng, những nỗ lực của bạn, thời gian sẽ giúp bạn thực hiện.\n",
            "bạn là một người mạnh mẽ, bất kể lúc nào cũng bắt mình phải làm được trọn vẹn 100% những kì vọng của bản thân. nhưng nghiêm khắc quá cũng không phải là điều tốt, bạn không phải là thiên tài, hãy cho phép mình phạm sai lầm, đừng quá vội vàng, những nỗ lực của bạn, thời gian sẽ giúp bạn thực hiện.\n",
            "1.0\n",
            "Input: 写 给 自 己 的 第 四 封 信 时 间 在 变 ， 人 也 在 变 。 生 活 是 一 场 无 法 回 放 的 绝 版 电 影 ， 有 些 事 不 管 你 如 何 努 力 ， 回 不 去 就 是 回 不 去 了 。 世 界 上 最 远 的 距 离 ， 不 是 爱 ， 不 是 恨 ， 而 是 熟 悉 的 人 ， 渐 渐 变 得 陌 生 。\n",
            "Predicted translation: thời gian thay đổi, lòng người cũng thay đổi, cuộc sống của chúng ta tựa như một bộ phim điện ảnh không chiếu lại thêm lần nào nữa, có những thứ dù cho chúng ta có cố gắng đến như thế nào đi nữa thì cũng chẳng bao giờ trở lại được như xưa. trên đời này cái khoảng cách xa nhất không phải là yêu, chẳng phải là hận, mà là những người quen biết nhau dần trở nên xa lạ với nhau.\n",
            "thời gian thay đổi, lòng người cũng thay đổi, cuộc sống của chúng ta tựa như một bộ phim điện ảnh không chiếu lại thêm lần nào nữa, có những thứ dù cho chúng ta có cố gắng đến như thế nào đi nữa thì cũng chẳng bao giờ trở lại được như xưa. trên đời này cái khoảng cách xa nhất không phải là yêu, chẳng phải là hận, mà là những người quen biết nhau dần trở nên xa lạ với nhau.\n",
            "thời gian thay đổi, lòng người cũng thay đổi, cuộc sống của chúng ta tựa như một bộ phim điện ảnh không chiếu lại thêm lần nào nữa, có những thứ dù cho chúng ta có cố gắng đến như thế nào đi nữa thì cũng chẳng bao giờ trở lại được như xưa. trên đời này cái khoảng cách xa nhất không phải là yêu, chẳng phải là hận, mà là những người quen biết nhau dần trở nên xa lạ với nhau.\n",
            "1.0\n",
            "Input: 写 给 自 己 的 第 五 封 信 很 多 时 候 你 在 奋 力 拼 搏 后 未 能 获 得 你 想 要 的 ， 并 不 是 因 为 你 不 配 ， 而 只 是 时 机 未 到 ， 你 要 做 的 ， 只 是 咬 紧 牙 关 ， 将 如 此 努 力 的 自 己 继 续 保 持 下 去 ， 仅 此 而 已 。\n",
            "Predicted translation: có nhiều lúc bạn đã cố gắng hết sức nhưng vẫn chưa thể có được những gì bạn muốn, không phải là vì bạn không xứng mà chỉ là thời cơ chưa đến, những thứ bạn phải làm chỉ đơn giản là cắn chặt răng, cứ tiếp tục để bản thân mình vẫn cố gắng như thế, chỉ có vậy thôi.\n",
            "có nhiều lúc bạn đã cố gắng hết sức nhưng vẫn chưa thể có được những gì bạn muốn, không phải là vì bạn không xứng mà chỉ là thời cơ chưa đến, những thứ bạn phải làm chỉ đơn giản là cắn chặt răng, cứ tiếp tục để bản thân mình vẫn cố gắng như thế, chỉ có vậy thôi.\n",
            "có nhiều lúc bạn đã cố gắng hết sức nhưng vẫn chưa thể có được những gì bạn muốn, không phải là vì bạn không xứng mà chỉ là thời cơ chưa đến, những thứ bạn phải làm chỉ đơn giản là cắn chặt răng, cứ tiếp tục để bản thân mình vẫn cố gắng như thế, chỉ có vậy thôi.\n",
            "1.0\n",
            "Input: 所 谓 奇 迹 ， 大 概 都 是 这 样 吧 - - - - - 奇 迹 并 非 是 上 天 赐 予 某 人 原 本 不 应 获 得 的 东 西 ， 而 是 对 于 勤 奋 者 姗 姗 来 迟 的 褒 奖 ， 它 只 会 迟 到 ， 却 从 不 缺 席 。\n",
            "Predicted translation: cuộc sống là một con đường một chiều, đến muộn.\n",
            "cái gọi là kì tích đại khái đều là như thế này, kỳ tích không có nghĩa là những thứ mà thượng đế ban tặng cho ai đó nhẽ ra không đáng được nhận, mà là những giải thưởng được gửi đến từ từ giành cho những người chăm chỉ, nó chỉ đến muộn chứ không bao giờ vằng mặt.\n",
            "cuộc sống là một con đường một chiều, đến muộn.\n",
            "0.0045059367310833825\n"
          ],
          "name": "stdout"
        },
        {
          "output_type": "stream",
          "text": [
            "/usr/local/lib/python3.6/dist-packages/nltk/translate/bleu_score.py:490: UserWarning: \n",
            "Corpus/Sentence contains 0 counts of 2-gram overlaps.\n",
            "BLEU scores might be undesirable; use SmoothingFunction().\n",
            "  warnings.warn(_msg)\n"
          ],
          "name": "stderr"
        },
        {
          "output_type": "stream",
          "text": [
            "Input: 宫 崎 骏 在 他 的 电 影 里 说 ： \" 我 始 终 相 信 ， 在 这 个 世 界 上 ， 一 定 有 另 一 个 自 己 ， 在 做 着 我 不 敢 做 的 事 ， 在 过 着 我 不 敢 过 的 生 活 。 \" 其 实 我 们 每 个 人 都 是 另 一 个 自 己 ， 只 要 我 们 愿 意 ， 就 每 有 我 们 不 敢 做 的 事 ， 没 有 我 们 过 不 上 的 生 活 。\n",
            "Predicted translation: cho dù anh ta có biết tự tin, không phải là một mình như vậy, chỉ cần cố gắng được, có một mình của mình của chúng ta sẽ được những gì mình cho ai mà không bao giờ bỏ những gì mình của tuổi trẻ khác.\n",
            "miyazaki hayao đã từng nói thế này trong phim của ông ấy: \"từ trước đến nay tôi đều tin rằng trên đời này có một 'tôi' khác tồn tại, dám làm những thứ tôi không dám làm, dám sống cuộc sống mà tôi không dám sống.\" thực ra thì ai trong chúng ta đều có bản ngã khác của chính mình, chỉ cần chúng ta muốn, chẳng có gì chúng ta không dám làm, chẳng có cuộc sống nào không vượt qua được.\n",
            "cho dù anh ta có biết tự tin, không phải là một mình như vậy, chỉ cần cố gắng được, có một mình của mình của chúng ta sẽ được những gì mình cho ai mà không bao giờ bỏ những gì mình của tuổi trẻ khác.\n",
            "0.1794507568781247\n"
          ],
          "name": "stdout"
        },
        {
          "output_type": "stream",
          "text": [
            "/usr/local/lib/python3.6/dist-packages/nltk/translate/bleu_score.py:490: UserWarning: \n",
            "Corpus/Sentence contains 0 counts of 3-gram overlaps.\n",
            "BLEU scores might be undesirable; use SmoothingFunction().\n",
            "  warnings.warn(_msg)\n"
          ],
          "name": "stderr"
        },
        {
          "output_type": "stream",
          "text": [
            "Input: 或 许 你 感 觉 自 己 一 无 所 有 ， 或 许 你 会 羡 慕 上 司 的 房 子 ， 车 子 ， 学 姐 们 的 钻 石 耳 钉 。 其 实 你 不 用 羡 慕 这 些 ， 只 要 努 力 ， 所 有 的 一 切 ， 岁 月 都 会 带 给 你 。 而 你 的 年 轻 岁 月 ， 却 是 他 们 再 也 无 法 拥 有 的 。\n",
            "Predicted translation: có thể bây giờ bạn ngưỡng mộ một mình tan tầm, họ sẽ không thể tấm suy nghĩ lên và bảo rằng bạn không tài giỏi hơn bản thân đi mỗi ngày đều có một mình cố gắng tự làm cho rằng mỗi ngày đều phải sự tự trách nhiệm lấy bản thân yêu hay trở lại tốt nhưng thực ra cuộc sống tốt hơn, hãy cố gắng tốt hơn.\n",
            "có lẽ bạn cảm thấy mình chẳng có gì, cũng có thể bạn sẽ ngưỡng mộ căn nhà rồi cả xe đẹp của cấp trên mình hoặc là đôi khuyên tai kim cương chị bạn trong trường đang đeo. thực ra bạn không cần phải đi ngưỡng mộ những thứ này, chỉ cần bạn nỗ lực, tất cả mọi thứ, thời gian đều mang đến cho bạn. những năm tháng thanh xuân của bạn, lại là thứ học chẳng bao giờ có được.\n",
            "có thể bây giờ bạn ngưỡng mộ một mình tan tầm, họ sẽ không thể tấm suy nghĩ lên và bảo rằng bạn không tài giỏi hơn bản thân đi mỗi ngày đều có một mình cố gắng tự làm cho rằng mỗi ngày đều phải sự tự trách nhiệm lấy bản thân yêu hay trở lại tốt nhưng thực ra cuộc sống tốt hơn, hãy cố gắng tốt hơn.\n",
            "0.2941453084529599\n",
            "Input: 写 给 自 己 的 第 九 封 信 你 现 在 的 结 果 ， 都 是 你 以 前 的 种 种 行 为 造 成 的 。 如 果 你 讨 厌 自 己 的 现 在 ， 更 应 该 反 思 一 下 自 己 。 因 为 每 一 个 你 不 满 意 的 现 在 ， 都 有 一 个 不 努 力 的 曾 经 。\n",
            "Predicted translation: khi bạn trở nên xinh đẹp lại hãy nhớ lại một bộ tài lặng gian nhưng thực lực nhất định sẽ có một điều bạn trong trái tim đó. khi bạn có những gì mình muốn thay vì đời người không than giấc. thay vì đời người khác để bản thân đi, không thể thay vì cuộc sống tốt nhưng trong trái tim bạn có thể thay đổi nó. thay đổi nhưng cho đến thế nhưng cho đến nước nào thay vì đời này mỗi một tương lai ức để mỗi ngày trôi như thế nào thay đổi nó. thay đổi nó. thay vì đời người khác để mỗi ngày hôm nay chính là vẻ cho bạn có thể thúc dàng cố gắng, nhưng cho đến cuối cùng bạn nhất tiện thể làm tốt nhưng cho đến nhiêu.\n",
            "kết quả của bây giờ đều là do những hành động ngày trước tạo nên. nếu bạn ghét mình của hiện tại thì càng nên xem lại mình một chút. bởi vì mỗi điều ở hiện tại mà bạn không hài lòng đều là do có những cái trước kia bạn không cố gắng đủ.\n",
            "khi bạn trở nên xinh đẹp lại hãy nhớ lại một bộ tài lặng gian nhưng thực lực nhất định sẽ có một điều bạn trong trái tim đó. khi bạn có những gì mình muốn thay vì đời người không than giấc. thay vì đời người khác để bản thân đi, không thể thay vì cuộc sống tốt nhưng trong trái tim bạn có thể thay đổi nó. thay đổi nhưng cho đến thế nhưng cho đến nước nào thay vì đời này mỗi một tương lai ức để mỗi ngày trôi như thế nào thay đổi nó. thay đổi nó. thay vì đời người khác để mỗi ngày hôm nay chính là vẻ cho bạn có thể thúc dàng cố gắng, nhưng cho đến cuối cùng bạn nhất tiện thể làm tốt nhưng cho đến nhiêu.\n",
            "0.1731658770940426\n",
            "Input: 年 轻 正 是 吃 苦 的 时 候 ， 正 是 发 奋 努 力 的 时 候 。 你 一 定 要 相 信 ， 每 一 个 发 奋 努 力 的 背 后 ， 必 有 加 倍 的 奖 赏 。 今 天 的 生 活 是 由 三 年 前 确 定 的 ， 但 是 如 果 你 今 天 还 过 着 和 三 年 前 一 样 的 生 活 ， 那 么 三 年 后 的 你 仍 将 如 此 。\n",
            "Predicted translation: tuổi trẻ chính là lúc nếm trải cực khổ, cũng chính là lúc chúng ta nỗ lực hết mình. bạn nhất định phải tin rằng đằng sau những sự nỗ lực kia là phần thưởng đáng giá hơn gấp bội. cuộc sống của ngày hôm nay là do 3 năm trước quyết định, nhưng nếu hôm nay bạn vẫn sống cuộc sống của 3 năm trước quyết định, nhưng nếu hôm nay bạn vẫn cứ như thế mà thôi.\n",
            "tuổi trẻ chính là lúc nếm trải cực khổ, cũng chính là lúc chúng ta nỗ lực hết mình. bạn nhất định phải tin rằng đằng sau những sự nỗ lực kia là phần thưởng đáng giá hơn gấp bội. cuộc sống của ngày hôm nay là do 3 năm trước quyết định, nhưng nếu hôm nay bạn vẫn sống cuộc sống của 3 năm trước thì bạn của 3 năm sau vẫn cứ như thế mà thôi.\n",
            "tuổi trẻ chính là lúc nếm trải cực khổ, cũng chính là lúc chúng ta nỗ lực hết mình. bạn nhất định phải tin rằng đằng sau những sự nỗ lực kia là phần thưởng đáng giá hơn gấp bội. cuộc sống của ngày hôm nay là do 3 năm trước quyết định, nhưng nếu hôm nay bạn vẫn sống cuộc sống của 3 năm trước quyết định, nhưng nếu hôm nay bạn vẫn cứ như thế mà thôi.\n",
            "0.8930215397604981\n",
            "Input: 写 给 自 己 的 第 十 一 封 信 其 实 奋 斗 就 是 每 天 踏 踏 实 实 地 过 好 日 子 ， 做 好 手 头 的 每 件 小 事 ， 不 拖 拉 ， 不 抱 怨 ， 不 推 卸 ， 不 偷 懒 。 每 一 天 一 点 一 滴 的 努 力 ， 才 能 汇 集 起 千 万 勇 气 ， 带 着 你 的 坚 持 ， 引 领 你 到 你 想 要 到 的 地 方 去 。\n",
            "Predicted translation: thực định phấn đấu chính là bình thản sống mỗi ngày, làm thật tốt những việc mình đang phải làm, không trì hoãn, không than phiền, không thoái thác, không lười biếng. mỗi ngày cố gắng thêm một chút xíu, mới có thể gộp thành hàng ngàn dũng khí, mang theo sự kiên trì, dẫn bạn đến nơi bạn muốn đến.\n",
            "thực ra phấn đấu chính là bình thản sống mỗi ngày, làm thật tốt những việc mình đang phải làm, không trì hoãn, không than phiền, không thoái thác, không lười biếng. mỗi ngày cố gắng thêm một chút xíu, mới có thể gộp thành hàng ngàn dũng khí, mang theo sự kiên trì, dẫn bạn đến nơi bạn muốn đến.\n",
            "thực định phấn đấu chính là bình thản sống mỗi ngày, làm thật tốt những việc mình đang phải làm, không trì hoãn, không than phiền, không thoái thác, không lười biếng. mỗi ngày cố gắng thêm một chút xíu, mới có thể gộp thành hàng ngàn dũng khí, mang theo sự kiên trì, dẫn bạn đến nơi bạn muốn đến.\n",
            "0.9704435078646129\n",
            "Input: 每 一 个 努 力 的 人 都 能 在 岁 月 中 破 茧 成 蝶 ， 你 要 相 信 ， 有 一 天 你 将 破 蛹 而 出 ， 成 长 得 比 人 们 期 待 的 还 要 美 丽 ， 但 这 个 过 程 会 很 痛 ， 会 很 辛 苦 ， 有 时 候 还 会 觉 得 灰 心 。 面 对 着 汹 涌 而 来 的 现 实 ， 觉 得 自 己 渺 小 无 力 ， 但 这 也 是 生 命 的 一 部 分 。 做 好 现 在 你 能 做 的 ， 然 后 ， 一 切 都 会 好 起 来 。\n",
            "Predicted translation: những người biết cố gắng đều sẽ có một ngày từ nhộng hóa thành bướm, bạn phải tin rằng, rồi sẽ có ngày bạn phá kén chui ra, trở nên xinh đẹp hơn rất nhiều so với kỳ vọng của mọi người. nhưng quá trình này sẽ rất đau đớn, sẽ rất gian khổ, có lúc còn cảm thấy nản lòng thoái chí. đối mặt với hiện thực dồn đến mãnh liệt, bạn cảm thấy bản thân thật nhỏ bé và yếu đuối. nhưng đây chính là một phần của cuộc sống. hãy làm tốt những điều bây giờ bạn có thể làm, rồi sau đó mọi thứ sẽ tốt lên thôi.\n",
            "những người biết cố gắng đều sẽ có một ngày từ nhộng hóa thành bướm, bạn phải tin rằng, rồi sẽ có ngày bạn phá kén chui ra, trở nên xinh đẹp hơn rất nhiều so với kỳ vọng của mọi người. nhưng quá trình này sẽ rất đau đớn, sẽ rất gian khổ, có lúc còn cảm thấy nản lòng thoái chí. đối mặt với hiện thực dồn đến mãnh liệt, bạn cảm thấy bản thân thật nhỏ bé và yếu đuối. nhưng đây chính là một phần của cuộc sống. hãy làm tốt những điều bây giờ bạn có thể làm, rồi sau đó mọi thứ sẽ tốt lên thôi.\n",
            "những người biết cố gắng đều sẽ có một ngày từ nhộng hóa thành bướm, bạn phải tin rằng, rồi sẽ có ngày bạn phá kén chui ra, trở nên xinh đẹp hơn rất nhiều so với kỳ vọng của mọi người. nhưng quá trình này sẽ rất đau đớn, sẽ rất gian khổ, có lúc còn cảm thấy nản lòng thoái chí. đối mặt với hiện thực dồn đến mãnh liệt, bạn cảm thấy bản thân thật nhỏ bé và yếu đuối. nhưng đây chính là một phần của cuộc sống. hãy làm tốt những điều bây giờ bạn có thể làm, rồi sau đó mọi thứ sẽ tốt lên thôi.\n",
            "1.0\n",
            "Input: 每 个 成 功 的 人 在 成 功 之 前 ， 难 免 都 会 有 一 段 黯 淡 的 时 光 。 此 时 ， 你 无 须 害 怕 ， 也 无 须 胆 怯 ， 只 需 努 力 朝 着 自 己 的 目 标 大 步 迈 进 ， 然 后 再 付 出 强 于 以 往 三 倍 的 努 力 ， 若 干 年 后 ， 你 一 定 会 超 越 现 在 的 自 己 。\n",
            "Predicted translation: mỗi một người thành đạt trước khi tiến tới thành công, đều khó tránh khỏi trải qua khoảng thời gian tối tăm ảm đạm. những lúc như vậy, bạn không cần sợ hãi, cũng đừng nhút nhát, chỉ cần cố gắng tiến từng bước về phía mục tiêu của bạn, sau đó tiếp tục cố gắng hơn gấp ba lần sự cố gắng bạn đã từng bỏ ra. nhiều năm sau, bạn nhất định sẽ vượt qua chính bản thân của hiện tại.\n",
            "mỗi một người thành đạt trước khi tiến tới thành công, đều khó tránh khỏi trải qua khoảng thời gian tối tăm ảm đạm. những lúc như vậy, bạn không cần sợ hãi, cũng đừng nhút nhát, chỉ cần cố gắng tiến từng bước về phía mục tiêu của bạn, sau đó tiếp tục cố gắng hơn gấp ba lần sự cố gắng bạn đã từng bỏ ra. nhiều năm sau, bạn nhất định sẽ vượt qua chính bản thân của hiện tại.\n",
            "mỗi một người thành đạt trước khi tiến tới thành công, đều khó tránh khỏi trải qua khoảng thời gian tối tăm ảm đạm. những lúc như vậy, bạn không cần sợ hãi, cũng đừng nhút nhát, chỉ cần cố gắng tiến từng bước về phía mục tiêu của bạn, sau đó tiếp tục cố gắng hơn gấp ba lần sự cố gắng bạn đã từng bỏ ra. nhiều năm sau, bạn nhất định sẽ vượt qua chính bản thân của hiện tại.\n",
            "1.0\n",
            "Input: 每 一 个 优 秀 的 人 ， 都 会 有 一 段 沉 默 的 时 光 ， 不 抱 怨 、 不 责 难 ， 不 断 努 力 ， 忍 受 着 黑 夜 的 孤 独 与 寂 寞 ， 坚 信 在 黑 暗 中 也 能 盛 开 出 最 好 的 花 。\n",
            "Predicted translation: mỗi người tài giỏi đều có một khoảng thời gian trầm lặng, họ không than phiền hay trách móc, mà họ không ngừng nỗ lực, nhẫn nhịn chịu đựng những đêm dài cô độc và trống vắng, mang theo niềm tin rằng tại nơi tối tăm ảm đạm vẫn có thể nở ra đóa hoa xinh đẹp nhất.\n",
            "mỗi người tài giỏi đều có một khoảng thời gian trầm lặng, họ không than phiền hay trách móc, mà họ không ngừng nỗ lực, nhẫn nhịn chịu đựng những đêm dài cô độc và trống vắng, mang theo niềm tin rằng tại nơi tối tăm ảm đạm vẫn có thể nở ra đóa hoa xinh đẹp nhất.\n",
            "mỗi người tài giỏi đều có một khoảng thời gian trầm lặng, họ không than phiền hay trách móc, mà họ không ngừng nỗ lực, nhẫn nhịn chịu đựng những đêm dài cô độc và trống vắng, mang theo niềm tin rằng tại nơi tối tăm ảm đạm vẫn có thể nở ra đóa hoa xinh đẹp nhất.\n",
            "1.0\n",
            "Input: 你 现 在 还 很 年 轻 ， 完 全 没 有 必 要 因 为 你 的 衣 服 不 如 别 人 ， 包 不 是 名 牌 ， 或 者 存 款 还 不 到 五 位 数 而 觉 得 不 安 。 因 为 每 一 个 人 都 是 这 样 过 来 的 ， 你 自 己 才 是 一 切 的 根 源 ， 要 想 改 变 人 生 ， 首 先 要 改 变 自 己 ！\n",
            "Predicted translation: bây giờ bạn vẫn còn rất trẻ, hoàn toàn không cần buồn bực chỉ vì quần áo, túi xách của mình không phải hàng hiệu giống người ta, hoặc tiền tiết kiệm chưa được đến năm con số như người ta. bởi vì ai cũng đều tiến lên như vậy, chính bản thân bạn mới là căn nguyên của tất cả, muốn đổi chính bản thân bạn mới là căn nguyên của tất cả, muốn đổi chính bản thân bạn mới là căn nguyên của tất cả, muốn đổi chính bản thân bạn mới là căn nguyên của tất cả, muốn đổi chính mình.\n",
            "bây giờ bạn vẫn còn rất trẻ, hoàn toàn không cần buồn bực chỉ vì quần áo, túi xách của mình không phải hàng hiệu giống người ta, hoặc tiền tiết kiệm chưa được đến năm con số như người ta. bởi vì ai ai cũng đều tiến lên như vậy, chính bản thân bạn mới là căn nguyên của tất cả, muốn đổi đời trước hết phải thay đổi chính mình.\n",
            "bây giờ bạn vẫn còn rất trẻ, hoàn toàn không cần buồn bực chỉ vì quần áo, túi xách của mình không phải hàng hiệu giống người ta, hoặc tiền tiết kiệm chưa được đến năm con số như người ta. bởi vì ai cũng đều tiến lên như vậy, chính bản thân bạn mới là căn nguyên của tất cả, muốn đổi chính bản thân bạn mới là căn nguyên của tất cả, muốn đổi chính bản thân bạn mới là căn nguyên của tất cả, muốn đổi chính bản thân bạn mới là căn nguyên của tất cả, muốn đổi chính mình.\n",
            "0.6066279372302059\n",
            "Input: 纵 使 你 天 生 就 拿 到 一 副 好 牌 ， 也 不 能 保 证 你 人 生 的 棋 局 会 步 步 顺 畅 ， 也 未 必 能 保 证 你 在 生 活 的 博 弈 中 稳 操 胜 券 。 好 的 人 生 棋 局 ， 要 靠 自 己 步 步 为 营 ， 努 力 去 争 取 。\n",
            "Predicted translation: cho dù bạn trời sinh đã được ban cho một ván cờ đẹp, cũng không thể chắc chắn rằng ván cờ cuộc đời bạn sẽ được đầu xuôi đuôi lọt, cũng chưa chắc bảo đảm được rằng mọi nước cờ bạn đi sẽ nắm chắc phần thắng. để có một ván cờ cuộc đời tốt đẹp, bạn phải dựa vào bản thân mình, thận trọng trong từng bước đi và tranh thủ mọi cơ hội.\n",
            "cho dù bạn trời sinh đã được ban cho một ván cờ đẹp, cũng không thể chắc chắn rằng ván cờ cuộc đời bạn sẽ được đầu xuôi đuôi lọt, cũng chưa chắc bảo đảm được rằng mọi nước cờ bạn đi sẽ nắm chắc phần thắng. để có một ván cờ cuộc đời tốt đẹp, bạn phải dựa vào bản thân mình, thận trọng trong từng bước đi và tranh thủ mọi cơ hội.\n",
            "cho dù bạn trời sinh đã được ban cho một ván cờ đẹp, cũng không thể chắc chắn rằng ván cờ cuộc đời bạn sẽ được đầu xuôi đuôi lọt, cũng chưa chắc bảo đảm được rằng mọi nước cờ bạn đi sẽ nắm chắc phần thắng. để có một ván cờ cuộc đời tốt đẹp, bạn phải dựa vào bản thân mình, thận trọng trong từng bước đi và tranh thủ mọi cơ hội.\n",
            "1.0\n",
            "Input: 所 有 的 成 功 ， 都 来 自 于 不 倦 的 努 力 和 奔 跑 ； 所 有 幸 福 ， 都 来 自 平 凡 的 奋 斗 和 坚 持 ， 你 无 法 找 到 捷 径 。\n",
            "Predicted translation: mọi thành công đều đến từ sự phấn đấu không biết mệt mỏi; mọi niềm hạnh phúc đều đến từ sự nỗ lực và kiên trì tưởng như bình thường nhất, bạn không thể tìm được con đường tắt.\n",
            "mọi thành công đều đến từ sự phấn đấu không biết mệt mỏi; mọi niềm hạnh phúc đều đến từ sự nỗ lực và kiên trì tưởng như bình thường nhất, bạn không thể tìm được con đường tắt.\n",
            "mọi thành công đều đến từ sự phấn đấu không biết mệt mỏi; mọi niềm hạnh phúc đều đến từ sự nỗ lực và kiên trì tưởng như bình thường nhất, bạn không thể tìm được con đường tắt.\n",
            "1.0\n",
            "Input: 别 人 在 熬 夜 的 时 候 ， 你 在 睡 觉 ； 别 人 已 经 起 床 ， 你 还 在 挣 扎 再 多 睡 几 分 钟 。 你 有 很 多 想 法 ， 但 脑 袋 热 了 就 过 了 ， 别 人 却 一 件 事 坚 持 到 底 。 你 连 一 本 书 都 要 看 很 久 ， 该 工 作 的 时 候 就 刷 起 手 机 ， 肯 定 也 不 能 早 晨 起 来 背 单 词 ， 晚 上 加 班 到 深 夜 。 很 多 时 候 不 是 你 平 凡 ， 碌 碌 无 为 ， 而 是 你 没 有 别 人 付 出 得 多 。\n",
            "Predicted translation: lúc nào cũng cố gắng chịu chính là đọc rất lâu, nhưng mà lúc không nhớ đến nữa.\n",
            "trong lúc người khác thức trắng đêm thì bạn đã ngủ say; khi người khác đã thức dậy thì bạn vẫn cố ngủ nướng thêm dăm ba phút. bạn có rất nhiều ý tưởng, nhưng chúng lại khiến đầu óc bạn như muốn nổ tung lên, liền bỏ qua không nghĩ tiếp nữa, còn người khác thì vẫn kiên trì suy nghĩ đến cùng. đến cả một cuốn sách bạn cũng phải đọc rất lâu, lúc nên làm việc thì tay cầm điện thoại, chắc chắn bạn cũng sẽ không dậy từ sáng sớm để học từ mới, buổi tối sẽ không tăng ca đến tận đêm khuya. có nhiều khi không phải do bạn tầm thường, không có chí tiến thủ, mà là bạn chưa bỏ ra nhiều công sức bằng người khác.\n",
            "lúc nào cũng cố gắng chịu chính là đọc rất lâu, nhưng mà lúc không nhớ đến nữa.\n",
            "0.00042053853455458986\n"
          ],
          "name": "stdout"
        },
        {
          "output_type": "stream",
          "text": [
            "/usr/local/lib/python3.6/dist-packages/nltk/translate/bleu_score.py:490: UserWarning: \n",
            "Corpus/Sentence contains 0 counts of 4-gram overlaps.\n",
            "BLEU scores might be undesirable; use SmoothingFunction().\n",
            "  warnings.warn(_msg)\n"
          ],
          "name": "stderr"
        },
        {
          "output_type": "stream",
          "text": [
            "Input: 当 一 个 人 忽 略 你 时 ， 不 要 伤 心 ， 每 个 人 都 有 自 己 的 生 活 ， 谁 都 不 可 能 一 直 陪 你 。 最 尴 尬 的 莫 过 于 高 估 自 己 在 别 人 心 里 的 位 置 ， 其 实 你 明 明 知 道 ， 最 卑 贱 不 过 感 情 ， 最 凉 不 过 人 心 。 是 你 的 ， 就 是 你 的 。 有 的 东 西 就 像 手 中 沙 ， 越 是 紧 握 ， 就 会 流 失 得 越 快 。 努 力 了 ， 珍 惜 了 ， 问 心 无 愧 。 其 他 的 ， 交 给 命 运 。\n",
            "Predicted translation: khi bạn trở nên xinh đẹp thì tức khắc sẽ có người để ý đến bạn. khi bạn có thực lực thì tức khắc có người coi trọng bạn. thay đổi bản thân mới khiến bạn có niềm tin vào chính mình và ước mơ cũng vì thế mà dần biến thành hiện thực. lòng đến thế mà dần biến nên ý muốn đến thế mà dần trở nên ý nghĩa của bạn và hãy để một trái tim ta nghĩa riêng của bạn của bạn của bạn cũng không phải hiểu nhưng thực hiện cho người đời.\n",
            "khi một người nào đó không quan tâm bạn, đừng quá đau lòng, mỗi người đều có cuộc sống của riêng mình, không ai có thể ở bên bạn mãi mãi. điều đáng xấu hổ nhất chính là đánh giá quá cao vị trí của bản thân trong lòng người khác, thực ra bạn biết đấy, rẻ tiền nhất là tình cảm, lạnh lẽo nhất là lòng người. cái gì của bạn sẽ mãi là của bạn. có những thứ giống như cát trong tay, càng nắm chặt sẽ trôi đi càng nhanh. bạn đã nỗ lực rồi, đã quý trọng rồi, cho nên bạn không thẹn với lương tâm. những thứ khác hãy để số phận quyết định.\n",
            "khi bạn trở nên xinh đẹp thì tức khắc sẽ có người để ý đến bạn. khi bạn có thực lực thì tức khắc có người coi trọng bạn. thay đổi bản thân mới khiến bạn có niềm tin vào chính mình và ước mơ cũng vì thế mà dần biến thành hiện thực. lòng đến thế mà dần biến nên ý muốn đến thế mà dần trở nên ý nghĩa của bạn và hãy để một trái tim ta nghĩa riêng của bạn của bạn của bạn cũng không phải hiểu nhưng thực hiện cho người đời.\n",
            "0.25586168315009994\n",
            "Input: 世 上 没 有 一 件 工 作 不 辛 苦 ， 没 有 一 处 人 事 不 复 杂 。 不 要 随 意 发 脾 气 ， 谁 都 不 欠 你 的 。 学 会 低 调 ， 取 舍 间 必 有 得 失 ， 不 用 太 计 较 。 学 着 踏 实 而 务 实 ， 越 努 力 越 幸 运 。 当 一 个 人 有 了 足 够 的 内 涵 和 物 质 做 后 盾 ， 人 生 就 会 变 得 底 气 十 足 。\n",
            "Predicted translation: trên đời này không có công việc nào là không cực nhọc, không có nơi nào chuyện đời, chuyện người là không phức tạp. đừng dễ dàng nổi nóng, bởi chẳng ai thiếu nợ bạn điều gì cả. khi đứng giữa sự lựa chọn hãy học cách đánh đổi, có được thì sẽ có được thì sẽ có được thất bại nhưng hãy học cách đánh đổi, càng cố gắng làm việc thoải mái nhưng hãy học hết giữa sự lựa chọn bên cả.\n",
            "trên đời này không có công việc nào là không cực nhọc, không có nơi nào chuyện đời, chuyện người là không phức tạp. đừng dễ dàng nổi nóng, bởi chẳng ai thiếu nợ bạn điều gì cả. khi đứng giữa sự lựa chọn hãy học cách đánh đổi, có được thì sẽ có mất, không nên quá tính toán chi li. hãy học cách làm việc thoải mái nhưng vẫn thiết thực, càng cố gắng sẽ càng có nhiều may mắn đến với bạn. khi một người đã được hậu thuẫn đầy đủ bởi tinh thần và vật chất, cuộc đời sẽ trở nên tràn đầy năng lượng.\n",
            "trên đời này không có công việc nào là không cực nhọc, không có nơi nào chuyện đời, chuyện người là không phức tạp. đừng dễ dàng nổi nóng, bởi chẳng ai thiếu nợ bạn điều gì cả. khi đứng giữa sự lựa chọn hãy học cách đánh đổi, có được thì sẽ có được thì sẽ có được thất bại nhưng hãy học cách đánh đổi, càng cố gắng làm việc thoải mái nhưng hãy học hết giữa sự lựa chọn bên cả.\n",
            "0.5355857281029832\n",
            "Input: 你 今 天 的 努 力 ， 是 幸 运 的 伏 笔 。 当 下 的 付 出 ， 是 明 日 的 花 开 。\n",
            "Predicted translation: những cố gắng ngày hôm nay của bạn là tiền đề cho sự may mắn sắp đến. điều bạn được nhận lại sẽ là những đóa hoa nở vào ngày mai.\n",
            "những cố gắng ngày hôm nay của bạn là tiền đề cho sự may mắn sắp đến. điều bạn được nhận lại sẽ là những đóa hoa nở vào ngày mai.\n",
            "những cố gắng ngày hôm nay của bạn là tiền đề cho sự may mắn sắp đến. điều bạn được nhận lại sẽ là những đóa hoa nở vào ngày mai.\n",
            "1.0\n",
            "Input: 不 管 昨 夜 经 历 了 怎 样 的 泣 不 成 声 ， 早 晨 醒 来 这 个 城 市 依 然 车 水 马 龙 。 开 心 或 者 不 开 心 ， 城 市 都 没 有 工 夫 等 ， 你 只 能 铭 记 或 者 遗 忘 。 那 一 站 你 爱 过 或 者 恨 过 的 旅 程 ， 那 一 段 你 拼 命 努 力 却 感 觉 不 到 希 望 的 日 子 ， 都 会 过 去 。\n",
            "Predicted translation: cho dù đêm qua bạn có khóc lóc, nức nở không thành tiếng đến thế nào thì sáng mai tỉnh dậy, thành phố này vẫn tấp nập người xe như cũ. dù bạn vui hay không vui thì thành phố cũng không hơi đâu mà đợi bạn, bạn chỉ có thể đem những cảm xúc ấy khắc sâu vào lòng, hoặc là quên đi. chặng đường mà bạn đã từng hận đó, những tháng ngày bạn đã dốc hết sức lực nhưng vẫn không nhìn thấy hi vọng đó, tất cả rồi sẽ qua đi thôi.\n",
            "cho dù đêm qua bạn có khóc lóc, nức nở không thành tiếng đến thế nào thì sáng mai tỉnh dậy, thành phố này vẫn tấp nập người xe như cũ. dù bạn vui hay không vui thì thành phố cũng không hơi đâu mà đợi bạn, bạn chỉ có thể đem những cảm xúc ấy khắc sâu vào lòng, hoặc là quên đi. chặng đường mà bạn đã từng yêu từng hận đó, những tháng ngày bạn đã dốc hết sức lực nhưng vẫn không nhìn thấy hi vọng đó, tất cả rồi sẽ qua đi thôi.\n",
            "cho dù đêm qua bạn có khóc lóc, nức nở không thành tiếng đến thế nào thì sáng mai tỉnh dậy, thành phố này vẫn tấp nập người xe như cũ. dù bạn vui hay không vui thì thành phố cũng không hơi đâu mà đợi bạn, bạn chỉ có thể đem những cảm xúc ấy khắc sâu vào lòng, hoặc là quên đi. chặng đường mà bạn đã từng hận đó, những tháng ngày bạn đã dốc hết sức lực nhưng vẫn không nhìn thấy hi vọng đó, tất cả rồi sẽ qua đi thôi.\n",
            "0.9714726603277692\n",
            "Input: 我 不 敢 休 息 ， 因 为 我 没 有 存 款 ； 我 不 敢 说 累 ， 因 为 我 没 有 成 就 ； 我 不 敢 偷 懒 ， 因 为 我 还 要 生 活 ； 我 能 放 弃 选 择 ， 但 是 我 不 能 选 择 放 弃 。 所 以 ， 坚 强 、 拼 搏 、 努 力 是 我 唯 一 的 选 择 。\n",
            "Predicted translation: tôi không dám nghỉ ngơi, bởi vì tôi vẫn chưa có một khoản tiền tiết kiệm nào; tôi không dám kêu mệt, bởi vì tôi vẫn chưa đạt được thành tựu gì; tôi không dám lười biếng, bởi vì tôi vẫn còn phải sống; tôi có thể từ bỏ quyền lựa chọn, nhưng tôi không thể lựa chọn từ bỏ. vì vậy, kiên cường, phấn đấu, nỗ lực chính là sự lựa chọn duy nhất của tôi.\n",
            "tôi không dám nghỉ ngơi, bởi vì tôi vẫn chưa có một khoản tiền tiết kiệm nào; tôi không dám kêu mệt, bởi vì tôi vẫn chưa đạt được thành tựu gì; tôi không dám lười biếng, bởi vì tôi vẫn còn phải sống; tôi có thể từ bỏ quyền lựa chọn, nhưng tôi không thể lựa chọn từ bỏ. vì vậy, kiên cường, phấn đấu, nỗ lực chính là sự lựa chọn duy nhất của tôi.\n",
            "tôi không dám nghỉ ngơi, bởi vì tôi vẫn chưa có một khoản tiền tiết kiệm nào; tôi không dám kêu mệt, bởi vì tôi vẫn chưa đạt được thành tựu gì; tôi không dám lười biếng, bởi vì tôi vẫn còn phải sống; tôi có thể từ bỏ quyền lựa chọn, nhưng tôi không thể lựa chọn từ bỏ. vì vậy, kiên cường, phấn đấu, nỗ lực chính là sự lựa chọn duy nhất của tôi.\n",
            "1.0\n",
            "Input: 每 一 个 优 秀 的 人 ， 都 有 一 段 苦 逼 的 时 光 。 或 许 是 因 为 一 份 学 业 ， 一 份 工 作 ， 一 段 爱 情 ， 离 开 了 爸 爸 妈 妈 ， 去 了 一 座 别 的 城 市 。 当 你 倦 了 厌 了 时 ， 想 想 你 的 父 母 正 在 为 你 打 拼 ， 这 就 是 你 必 须 坚 强 的 理 由 。\n",
            "Predicted translation: hãy học cách giữ yên lặng để tư duy trầm lắng lại và từ bỏ bớt những ham muốn về con số của bản thân trở về con số không phải là những trái tim khác mà khổ tốt đẹp nhất.\n",
            "mỗi con người tài giỏi, đều có một quãng thời gian khổ cực. có thể là vì chuyện bài vở học hành, vì công việc, vì tình yêu, phải rời xa cha mẹ đến một thành phố khác sinh sống. khi bạn đã mệt mỏi và phát chán rồi, hãy nghĩ đến công sức cha mẹ đang bỏ ra vì bạn, đây chính là lý do buộc bạn phải kiên cường.\n",
            "hãy học cách giữ yên lặng để tư duy trầm lắng lại và từ bỏ bớt những ham muốn về con số của bản thân trở về con số không phải là những trái tim khác mà khổ tốt đẹp nhất.\n",
            "0.3292973327415994\n",
            "Input: 这 个 社 会 是 现 实 的 ， 你 没 有 实 力 的 时 候 ， 人 家 首 先 看 你 外 表 。 所 以 ， 当 你 没 有 外 表 的 时 候 ， 努 力 增 强 实 力 ， 当 你 既 没 外 表 又 没 实 力 的 时 候 ， 人 家 只 会 跟 你 说 ： 拜 拜 。\n",
            "Predicted translation: xã hội này rất thực tế, khi bạn không có thực lực, người ta sẽ nhìn vào vẻ bề ngoài của bạn. cho nên, khi bạn không có ngoại hình, phải cố gắng trau dồi thực lực, còn khi bạn không có cả ngoại hình lẫn thực lực, thì người ta sẽ chỉ nói với bạn: bye bye.\n",
            "xã hội này rất thực tế, khi bạn không có thực lực, người ta sẽ nhìn vào vẻ bề ngoài của bạn. cho nên, khi bạn không có ngoại hình, phải cố gắng trau dồi thực lực, còn khi bạn không có cả ngoại hình lẫn thực lực, thì người ta sẽ chỉ nói với bạn: bye bye.\n",
            "xã hội này rất thực tế, khi bạn không có thực lực, người ta sẽ nhìn vào vẻ bề ngoài của bạn. cho nên, khi bạn không có ngoại hình, phải cố gắng trau dồi thực lực, còn khi bạn không có cả ngoại hình lẫn thực lực, thì người ta sẽ chỉ nói với bạn: bye bye.\n",
            "1.0\n",
            "Input: 买 得 起 自 己 喜 欢 的 东 西 ， 去 得 了 自 己 想 去 的 地 方 ， 不 会 因 为 身 边 人 的 来 或 走 损 失 生 活 的 质 量 ， 反 而 会 因 为 花 自 己 的 钱 ， 来 得 更 有 底 气 一 些 ， 这 就 是 应 该 努 力 的 原 因 。\n",
            "Predicted translation: mua được thứ mình thích, đi tới nơi mình muốn đi, sẽ không vì sự đến hay đi của những người xung quanh mà làm ảnh hưởng đến chất lượng cuộc sống của mình. ngược lại, hãy vì được tiêu những đồng tiền do chính bản thân mình làm ra mà cảm thấy tràn đầy năng lượng, đó chính là nguyên nhân để bạn nỗ lực.\n",
            "mua được thứ mình thích, đi tới nơi mình muốn đi, sẽ không vì sự đến hay đi của những người xung quanh mà làm ảnh hưởng đến chất lượng cuộc sống của mình. ngược lại, hãy vì được tiêu những đồng tiền do chính bản thân mình làm ra mà cảm thấy tràn đầy năng lượng, đó chính là nguyên nhân để bạn nỗ lực.\n",
            "mua được thứ mình thích, đi tới nơi mình muốn đi, sẽ không vì sự đến hay đi của những người xung quanh mà làm ảnh hưởng đến chất lượng cuộc sống của mình. ngược lại, hãy vì được tiêu những đồng tiền do chính bản thân mình làm ra mà cảm thấy tràn đầy năng lượng, đó chính là nguyên nhân để bạn nỗ lực.\n",
            "1.0\n",
            "Input: 没 有 人 陪 你 走 一 辈 子 ， 所 以 你 要 适 应 孤 独 ； 没 有 人 会 帮 你 一 辈 子 ， 所 以 你 要 一 直 奋 斗 。\n",
            "Predicted translation: không một ai đi cùng bạn suốt đời, vì vậy bạn phải học cách làm quen với cô đơn; không một ai giúp bạn cả đời, vì vậy bạn phải không ngừng phấn đấu.\n",
            "không một ai đi cùng bạn suốt đời, vì vậy bạn phải học cách làm quen với cô đơn; không một ai giúp bạn cả đời, vì vậy bạn phải không ngừng phấn đấu.\n",
            "không một ai đi cùng bạn suốt đời, vì vậy bạn phải học cách làm quen với cô đơn; không một ai giúp bạn cả đời, vì vậy bạn phải không ngừng phấn đấu.\n",
            "1.0\n",
            "Input: 早 上 醒 来 时 ， 给 自 己 定 个 目 标 ： 今 天 一 定 要 比 昨 天 好 ！ 每 天 坚 持 ， 一 定 会 大 有 收 获 ！\n",
            "Predicted translation: buổi sáng mỗi khi thức dậy\n",
            "buổi sáng mỗi khi thức dậy, hãy tự đặt cho mình một mục tiêu: hôm nay nhất định phải sống tốt hơn hôm qua! kiên trì mỗi ngày, chắc chắn bạn sẽ nhận được thu hoạch lớn.\n",
            "buổi sáng mỗi khi thức dậy\n",
            "0.004333760063548408\n",
            "Input: 静 下 心 来 好 好 做 你 该 做 的 事 ， 该 好 好 努 力 了 ！ 有 时 候 真 的 努 力 后 ， 你 会 发 现 自 己 要 比 想 象 得 优 秀 很 多 。\n",
            "Predicted translation: tĩnh tâm lại và làm tốt những việc bạn cần làm, hãy cố gắng thật nhiều nhé! có đôi lúc khi đã thực sự cố gắng, bạn sẽ nhận ra bạn còn tài giỏi hơn mình tưởng rất nhiều.\n",
            "tĩnh tâm lại và làm tốt những việc bạn cần làm, hãy cố gắng thật nhiều nhé! có đôi lúc khi đã thực sự cố gắng, bạn sẽ nhận ra bạn còn tài giỏi hơn mình tưởng rất nhiều.\n",
            "tĩnh tâm lại và làm tốt những việc bạn cần làm, hãy cố gắng thật nhiều nhé! có đôi lúc khi đã thực sự cố gắng, bạn sẽ nhận ra bạn còn tài giỏi hơn mình tưởng rất nhiều.\n",
            "1.0\n",
            "Input: 悄 悄 地 去 努 力 ， 等 变 厉 害 之 后 ， 蹦 出 来 把 曾 经 看 不 起 自 己 的 人 吓 一 大 跳 ， 才 是 你 现 在 需 要 当 作 目 标 的 事 。\n",
            "Predicted translation: hãy tin rằng khi thời gian sẽ không đối với bạn dân mỏi. hãy tin rằng hãy tin rằng hãy tin rằng hãy tin rằng hãy tin rằng hãy tin rằng khi hãy tin rằng khi hãy tin rằng khi dũng cảm nhận ra cả một bộ tài lặng tập, những gì đã từng kiên trì theo vững sắc của mình nhận được tất cả một trái tim khác, cuộc đời bạn, những trang phận của mình giữ vững sắc của bạn sẽ không qua thì người đời hồ hãi, những cảnh tươi đẹp nhất.\n",
            "hãy cứ lặng lẽ mà cố gắng, chờ đến khi bạn trở nên tài giỏi rồi, sẽ phá kén chui ra, dọa cho những kẻ từng khinh thường bạn một phen giật mình, đó mới là mục tiêu bạn cần làm lúc này.\n",
            "hãy tin rằng khi thời gian sẽ không đối với bạn dân mỏi. hãy tin rằng hãy tin rằng hãy tin rằng hãy tin rằng hãy tin rằng hãy tin rằng khi hãy tin rằng khi hãy tin rằng khi dũng cảm nhận ra cả một bộ tài lặng tập, những gì đã từng kiên trì theo vững sắc của mình nhận được tất cả một trái tim khác, cuộc đời bạn, những trang phận của mình giữ vững sắc của bạn sẽ không qua thì người đời hồ hãi, những cảnh tươi đẹp nhất.\n",
            "0.5695988432761473\n",
            "Input: 你 的 努 力 ， 也 许 有 人 会 讥 讽 ； 你 的 执 着 ， 也 许 不 会 有 人 读 懂 。 在 别 人 眼 里 你 也 许 是 小 丑 ， 但 在 自 己 心 中 你 就 是 女 王 ！\n",
            "Predicted translation: có lẽ sẽ có người mỉa mai sự nỗ lực của bạn; có lẽ sẽ có người không hiểu được những suy nghĩ cố chấp của bạn. trong mắt người khác bạn có thể là một tên hề mua vui, nhưng trong trái tim mình, bạn chính là nữ hoàng!\n",
            "có lẽ sẽ có người mỉa mai sự nỗ lực của bạn; có lẽ sẽ có người không hiểu được những suy nghĩ cố chấp của bạn. trong mắt người khác bạn có thể là một tên hề mua vui, nhưng trong trái tim mình, bạn chính là nữ hoàng!\n",
            "có lẽ sẽ có người mỉa mai sự nỗ lực của bạn; có lẽ sẽ có người không hiểu được những suy nghĩ cố chấp của bạn. trong mắt người khác bạn có thể là một tên hề mua vui, nhưng trong trái tim mình, bạn chính là nữ hoàng!\n",
            "1.0\n",
            "Input: 纵 然 我 没 有 惊 世 才 华 ， 纵 然 我 没 有 丰 厚 财 富 ， 但 是 我 有 满 腔 的 激 情 ， 我 有 乐 观 的 态 度 ， 因 为 我 相 信 ： 只 要 努 力 ， 一 切 皆 有 可 能 ！\n",
            "Predicted translation: cho dù tôi không có tài hoa tuyệt thế, cũng không có nhiều tiền của, nhưng tôi có tấm lòng tràn đầy đam mê và tinh thần lạc quan vui vẻ, bởi vì tôi tin rằng: chỉ cần cố gắng, chuyện gì cũng có thể thực hiện được!\n",
            "cho dù tôi không có tài hoa tuyệt thế, cũng không có nhiều tiền của, nhưng tôi có tấm lòng tràn đầy đam mê và tinh thần lạc quan vui vẻ, bởi vì tôi tin rằng: chỉ cần cố gắng, chuyện gì cũng có thể thực hiện được!\n",
            "cho dù tôi không có tài hoa tuyệt thế, cũng không có nhiều tiền của, nhưng tôi có tấm lòng tràn đầy đam mê và tinh thần lạc quan vui vẻ, bởi vì tôi tin rằng: chỉ cần cố gắng, chuyện gì cũng có thể thực hiện được!\n",
            "1.0\n",
            "Input: 有 时 候 ， 努 力 一 点 ， 是 为 让 自 己 有 资 格 ， 不 去 做 不 喜 欢 的 事 ； 为 了 能 让 自 己 ， 遇 见 一 个 喜 欢 的 人 时 ， 不 会 因 为 ， 自 己 不 够 好 而 没 能 留 住 对 方 ； 为 了 避 免 ， 与 朋 友 拉 开 差 距 未 来 也 能 看 到 同 一 个 世 界 ； 为 了 看 清 自 己 最 后 能 走 到 哪 里\n",
            "Predicted translation: có đôi khi, nỗ lực thêm một chút là vì để bản thân có tư cách, không phải làm những việc mình không thích làm; vì để khi gặp được người mình thích, sẽ không vì bản thân không đủ tốt mà không níu giữ được đối phương; vì để tránh có một tương lai kém xa bạn bè, được cùng họ ngắm chung một thế giới; vì để nhìn cho rõ rằng, đến cuối cùng mình có thể đi được đến đâu.\n",
            "có đôi khi, nỗ lực thêm một chút là vì để bản thân có tư cách, không phải làm những việc mình không thích làm; vì để khi gặp được người mình thích, sẽ không vì bản thân không đủ tốt mà không níu giữ được đối phương; vì để tránh có một tương lai kém xa bạn bè, được cùng họ ngắm chung một thế giới; vì để nhìn cho rõ rằng, đến cuối cùng mình có thể đi được đến đâu.\n",
            "có đôi khi, nỗ lực thêm một chút là vì để bản thân có tư cách, không phải làm những việc mình không thích làm; vì để khi gặp được người mình thích, sẽ không vì bản thân không đủ tốt mà không níu giữ được đối phương; vì để tránh có một tương lai kém xa bạn bè, được cùng họ ngắm chung một thế giới; vì để nhìn cho rõ rằng, đến cuối cùng mình có thể đi được đến đâu.\n",
            "1.0\n",
            "Input: 成 功 酝 酿 于 好 的 品 质 ， 不 要 松 懈 精 神 上 的 追 求 ； 演 好 自 己 的 角 色 ， 做 好 职 责 内 的 事 情 ， 防 止 轻 易 越 位 ； 一 旦 确 定 目 标 ， 就 死 死 地 盯 着 它 ； 不 要 害 怕 竞 争 ， 没 有 竞 争 ， 生 存 就 失 去 了 意 义 。\n",
            "Predicted translation: hãy để chính phủ\n",
            "để nuôi dưỡng phẩm chất của một người thành công, chớ coi nhẹ tinh thần cầu tiến; hãy phát huy tốt vai trò của bản thân, hoàn thành tốt công việc trong phạm vi chức trách của mình, tránh vượt quyền; khi đã xác định được mục tiêu thì hãy chuyên tâm đến nó; đừng sợ cạnh tranh, bởi nếu không có cạnh tranh, sự sống còn ý nghĩa gì nữa.\n",
            "hãy để chính phủ\n",
            "4.470024764704051e-08\n",
            "Input: 不 知 道 什 么 艰 难 困 苦 ， 只 知 道 风 雨 无 阻 ； 不 知 道 什 么 悲 伤 无 助 ， 只 知 道 天 无 绝 路 ； 不 知 道 什 么 失 败 惨 楚 ， 只 知 道 昂 首 阔 步 ； 不 知 道 什 么 荆 棘 密 布 ， 只 知 道 毅 然 走 去 - - 成 功 ， 就 在 彼 岸 ！\n",
            "Predicted translation: không biết khó khăn là, chỉ biết gió táp mưa sa cũng không ngăn nổi bước chân đi; không biết đau thương là gì, chỉ biết trời sẽ không tuyệt đường người; không biết thất bại thảm hại là gì, chỉ biết ngẩng đầu hiên ngang tiến về phía trước; không biết bụi rậm chông gai là gì, chỉ biết cứ tiếp tục đi - thành công, ở ngay bờ bên kia.\n",
            "không biết khó khăn là, chỉ biết gió táp mưa sa cũng không ngăn nổi bước chân đi; không biết đau thương là gì, chỉ biết trời sẽ không tuyệt đường người; không biết thất bại thảm hại là gì, chỉ biết ngẩng đầu hiên ngang tiến về phía trước; không biết bụi rậm chông gai là gì, chỉ biết cứ tiếp tục đi - thành công, ở ngay bờ bên kia.\n",
            "không biết khó khăn là, chỉ biết gió táp mưa sa cũng không ngăn nổi bước chân đi; không biết đau thương là gì, chỉ biết trời sẽ không tuyệt đường người; không biết thất bại thảm hại là gì, chỉ biết ngẩng đầu hiên ngang tiến về phía trước; không biết bụi rậm chông gai là gì, chỉ biết cứ tiếp tục đi - thành công, ở ngay bờ bên kia.\n",
            "1.0\n",
            "Input: 每 个 人 都 有 觉 得 自 己 不 够 好 ， 羡 慕 别 人 闪 闪 发 光 的 时 候 ， 但 其 实 大 多 人 都 是 普 通 的 。 不 要 沮 丧 ， 不 必 惊 慌 ， 做 努 力 爬 的 蜗 牛 或 坚 持 飞 的 笨 鸟 ， 在 最 平 凡 的 生 活 里 ， 谦 卑 和 努 力 。 总 有 一 天 ， 你 会 站 在 最 亮 的 地 方 ， 活 成 自 己 曾 经 渴 望 的 模 样 。\n",
            "Predicted translation: mỗi người đều có lúc cảm thấy bản thân không đủ tốt, ngưỡng mộ giây phút người khác khoác trên mình ánh hào quang huy hoàng; nhưng thực ra, phần lớn mọi người đều chỉ là người bình thường. bạn đừng chán nản, đừng hoang mang, hãy làm một chú ốc sên luôn cố gắng bò từng bước chậm rãi về phía trước, hoặc làm một chú chim ngốc nghếch luôn kiên trì tập bay lên cao, hãy khiêm tốn và nỗ lực mà sống trong cuộc sống bình thường này. sẽ có một ngày, bạn sẽ được đứng ở nơi sáng chói nhất, trở thành dáng vẻ mà bạn sẽ được đứng ở nơi sáng chói nhất, trở thành dáng vẻ mà bạn sẽ được đứng ở nơi sáng chói nhất.\n",
            "mỗi người đều có lúc cảm thấy bản thân không đủ tốt, ngưỡng mộ giây phút người khác khoác trên mình ánh hào quang huy hoàng; nhưng thực ra, phần lớn mọi người đều chỉ là người bình thường. bạn đừng chán nản, đừng hoang mang, hãy làm một chú ốc sên luôn cố gắng bò từng bước chậm rãi về phía trước, hoặc làm một chú chim ngốc nghếch luôn kiên trì tập bay lên cao, hãy khiêm tốn và nỗ lực mà sống trong cuộc sống bình thường này. sẽ có một ngày, bạn sẽ được đứng ở nơi sáng chói nhất, trở thành dáng vẻ mà bạn vẫn luôn ao ước.\n",
            "mỗi người đều có lúc cảm thấy bản thân không đủ tốt, ngưỡng mộ giây phút người khác khoác trên mình ánh hào quang huy hoàng; nhưng thực ra, phần lớn mọi người đều chỉ là người bình thường. bạn đừng chán nản, đừng hoang mang, hãy làm một chú ốc sên luôn cố gắng bò từng bước chậm rãi về phía trước, hoặc làm một chú chim ngốc nghếch luôn kiên trì tập bay lên cao, hãy khiêm tốn và nỗ lực mà sống trong cuộc sống bình thường này. sẽ có một ngày, bạn sẽ được đứng ở nơi sáng chói nhất, trở thành dáng vẻ mà bạn sẽ được đứng ở nơi sáng chói nhất, trở thành dáng vẻ mà bạn sẽ được đứng ở nơi sáng chói nhất.\n",
            "0.8314039943996671\n",
            "Input: 后 来 才 明 白 ， 要 赚 到 足 够 令 自 己 安 心 的 钱 ， 才 能 过 上 简 单 、 安 逸 、 自 由 的 生 活 ， 才 能 让 自 己 活 得 更 有 底 气 。 所 以 ， 多 花 时 间 努 力 ， 少 点 工 夫 矫 情 。\n",
            "Predicted translation: hãy để cả lúc bị nguyên lặng tự quan hải âu đợi lại thử đời của đời này cũng đồng loại. cho dù là những gì chỉ cần thiết không khí khiến bản thân đi những gì mình khiến bản thân đi không ngại tài xa đẹp nhất.\n",
            "sau này bạn sẽ hiểu, phải kiếm được đủ khoản tiền khiến bản thân yên tâm, bạn mới có thể sống một cuộc sống đơn giản, an nhàn và tự do, mới có thể khiến bản thân sống càng hăng hái, nhiệt tình. bởi vậy, hãy dành nhiều thời gian để nỗ lực hơn là để phê bình soi mói.\n",
            "hãy để cả lúc bị nguyên lặng tự quan hải âu đợi lại thử đời của đời này cũng đồng loại. cho dù là những gì chỉ cần thiết không khí khiến bản thân đi những gì mình khiến bản thân đi không ngại tài xa đẹp nhất.\n",
            "0.13289933744275279\n",
            "Input: 一 个 不 努 力 的 人 ， 别 人 想 拉 你 一 把 ， 都 找 不 到 你 的 手 在 哪 里 。\n",
            "Predicted translation: một cuộc sống ở nước ngoài một mình cô không dám cơm, cũng chẳng muốn chính là người khác. bạn muốn mời bạn có một con đường người khác giúp bạn và người khác và người khác giúp bạn và tràn đầy khát nam.\n",
            "một người không cố gắng chính là, người khác muốn giúp bạn một tay, cũng không biết tay bạn đang ở đâu.\n",
            "một cuộc sống ở nước ngoài một mình cô không dám cơm, cũng chẳng muốn chính là người khác. bạn muốn mời bạn có một con đường người khác giúp bạn và người khác và người khác giúp bạn và tràn đầy khát nam.\n",
            "0.34238367880313264\n",
            "Input: 一 个 人 的 豁 达 ， 体 现 在 落 魄 的 时 候 。 一 个 人 的 涵 养 ， 体 现 在 愤 怒 的 时 候 。 一 个 人 的 体 贴 ， 体 现 在 悲 伤 的 时 候 。 一 个 人 的 成 熟 ， 体 现 在 抉 择 的 时 候 。 谁 都 愿 意 做 自 己 喜 欢 的 事 情 ， 可 是 ， 做 你 该 做 的 事 情 ， 才 叫 成 长 。\n",
            "Predicted translation: một người cởi mở, thể hiện nào cũng được gọi được dự trì giận. một bộ người săn sóc họ sẽ làm, thể hiện rõ hơn bản thân mình giận. thể hiện rõ nhất nào cũng có ai cũng cần ai cũng cần ai cũng có ai cũng được điều tương lai cho mình giữ nhiều, nhưng trong ký tâm trạng nhất nhất cũng có ai cũng được đầu mình thích, đầu mình thích, đầu mình thích, nhưng hãy chế. nhưng hãy cố gắng đến trưởng thành\".\n",
            "một người cởi mở, thể hiện rõ nhất khi họ chán nản. một người biết tiết chế, thể hiện rõ nhất khi họ tức giận. một người săn sóc chu đáo, thể hiện rõ nhất khi họ đau thương. một người chín chắn, thể hiện rõ nhất khi họ đưa ra lựa chọn. bất cứ ai cũng muốn được làm điều mình thích, nhưng làm điều mình nên làm, mới được gọi là \"trưởng thành\".\n",
            "một người cởi mở, thể hiện nào cũng được gọi được dự trì giận. một bộ người săn sóc họ sẽ làm, thể hiện rõ hơn bản thân mình giận. thể hiện rõ nhất nào cũng có ai cũng cần ai cũng cần ai cũng có ai cũng được điều tương lai cho mình giữ nhiều, nhưng trong ký tâm trạng nhất nhất cũng có ai cũng được đầu mình thích, đầu mình thích, đầu mình thích, nhưng hãy chế. nhưng hãy cố gắng đến trưởng thành\".\n",
            "0.13943999598477544\n",
            "Input: 如 果 有 人 不 拿 你 当 回 事 ， 没 必 要 因 此 生 气 ， 更 别 铆 足 了 劲 儿 去 表 现 ， 非 要 证 明 自 己 多 出 色 ， 这 样 做 会 累 死 你 ， 因 为 拿 你 不 当 一 回 事 的 人 多 着 呢 ， 你 无 法 满 足 所 有 人 的 眼 光 。 最 好 的 办 法 是 谁 不 在 乎 你 ， 你 也 不 必 在 乎 他 。 不 必 为 别 人 的 一 两 句 话 就 改 变 自 己 对 自 己 的 看 法 ， 自 己 是 怎 样 继 续 怎 样 ， 你 的 努 力 ， 只 是 为 了 自 己 。\n",
            "Predicted translation: có thể hiện tại lại ngày mai bạn đang làm cho đến mức rồi rồi rồi nghĩa của nó rồi quyết định biết việc nhưng cho người khác mỗi ngày hôm qua bản thân mình muốn đi nữa rồi cũng chỉ khi còn hiểu nhưng cho dù tốt những gì mình biết, có rất nhiều lần. điều quan trọng những gì đó sẽ không cần thiết muốn ngoại thách sẽ phát hiện ra. điều đáng thoát, bạn cũng sẽ chẳng có ý muốn đến cuối cùng bạn sẽ chẳng có ý muốn biết nhìn lên cuối cùng bạn cũng sẽ có ý muốn biết kiên trì theo rằng: điểm cuối cùng bạn sẽ có ý nghĩa tốt những gì mình tự yêu thương thấy ý nghĩa tốt đẹp rồi sẽ có ý nghĩa tốt chưa. điều đó mọi điều tốt ra. điều tốt ra. điều tốt nhưng cho bạn sẽ có ý nghĩa tốt nhưng cho bạn sẽ chẳng còn thấy ý nghĩa tốt đẹp rồi đừng vì thế nào cũng không cần thiết phải lúc đó hãy để lắng nhưng bạn có ý nghĩa tốt những gì mình ý nghĩa tốt những gì mình hơn tất cả mọi điều tốt những gì mình hồ tiện nổi. đời bạn có ý nghĩa bạn có ý nghĩa tốt những gì mình ý nghĩa thực ra rằng: cuộc sống của bạn nghĩ. điều tốt những gì mình ý nghĩa tốt nhưng \n",
            "nếu không được người khác xem trọng, bạn không cần tức giận, càng không nên tỏ thái độ ra ngoài, không việc gì phải chứng minh mình xuất sắc, làm như vậy bạn sẽ rất mệt mỏi, bởi vì có rất nhiều người không coi trọng bạn, bạn không thể nào làm hài lòng tất cả mọi người. biện pháp tốt nhất chính là, đừng quan tâm những người không quan tâm bạn. chớ vì một hai câu của người khác mà thay đổi cách nhìn về bản thân, hãy cứ là chính mình, mọi nỗ lực của bạn đều bỏ ra vì chính bạn.\n",
            "có thể hiện tại lại ngày mai bạn đang làm cho đến mức rồi rồi rồi nghĩa của nó rồi quyết định biết việc nhưng cho người khác mỗi ngày hôm qua bản thân mình muốn đi nữa rồi cũng chỉ khi còn hiểu nhưng cho dù tốt những gì mình biết, có rất nhiều lần. điều quan trọng những gì đó sẽ không cần thiết muốn ngoại thách sẽ phát hiện ra. điều đáng thoát, bạn cũng sẽ chẳng có ý muốn đến cuối cùng bạn sẽ chẳng có ý muốn biết nhìn lên cuối cùng bạn cũng sẽ có ý muốn biết kiên trì theo rằng: điểm cuối cùng bạn sẽ có ý nghĩa tốt những gì mình tự yêu thương thấy ý nghĩa tốt đẹp rồi sẽ có ý nghĩa tốt chưa. điều đó mọi điều tốt ra. điều tốt ra. điều tốt nhưng cho bạn sẽ có ý nghĩa tốt nhưng cho bạn sẽ chẳng còn thấy ý nghĩa tốt đẹp rồi đừng vì thế nào cũng không cần thiết phải lúc đó hãy để lắng nhưng bạn có ý nghĩa tốt những gì mình ý nghĩa tốt những gì mình hơn tất cả mọi điều tốt những gì mình hồ tiện nổi. đời bạn có ý nghĩa bạn có ý nghĩa tốt những gì mình ý nghĩa thực ra rằng: cuộc sống của bạn nghĩ. điều tốt những gì mình ý nghĩa tốt nhưng \n",
            "0.0808490311356636\n",
            "Input: 你 勤 奋 充 电 ， 你 努 力 工 作 ， 你 保 持 身 材 ， 你 对 人 微 笑 ， 这 些 都 不 是 为 了 取 悦 他 人 ， 而 是 为 了 扮 靓 自 己 ， 照 亮 自 己 的 心 ， 告 诉 自 己 ： 我 是 一 股 独 立 向 上 的 力 量 。\n",
            "Predicted translation: bạn nỗ lực rèn luyện bản thân, bạn làm việc chăm chỉ, bạn giữ gìn vóc dáng hay bạn mỉm cười với mọi người. đây vốn chẳng phải là để làm hài lòng người khác mà để tự làm đẹp cho mình, thanh lọc tâm hồn người mình. tự nhủ rằng tôi chính là một con người độc lập luôn mạnh mẽ tiến về phía trước.\n",
            "bạn nỗ lực rèn luyện bản thân, bạn làm việc chăm chỉ, bạn giữ gìn vóc dáng hay bạn mỉm cười với mọi người. đây vốn chẳng phải là để làm hài lòng người khác mà để tự làm đẹp cho mình, thanh lọc tâm hồn người mình. tự nhủ rằng tôi chính là một con người độc lập luôn mạnh mẽ tiến về phía trước.\n",
            "bạn nỗ lực rèn luyện bản thân, bạn làm việc chăm chỉ, bạn giữ gìn vóc dáng hay bạn mỉm cười với mọi người. đây vốn chẳng phải là để làm hài lòng người khác mà để tự làm đẹp cho mình, thanh lọc tâm hồn người mình. tự nhủ rằng tôi chính là một con người độc lập luôn mạnh mẽ tiến về phía trước.\n",
            "1.0\n",
            "Input: 做 最 大 的 努 力 ， 做 最 壞 的 打 算 ， 便 無 所 畏 懼 ； 做 最 多 的 付 出 ， 做 最 小 的 期 待 ， 便 不 會 失 意 ； 做 最 美 的 夢 ， 過 現 實 的 生 活 ， 便 不 會 無 趣 。 生 活 ， 準 備 得 如 何 ， 就 如 何 去 應 對 。\n",
            "Predicted translation: duy trì những nổ lực lớn nhất, chuẩn bị cho những tình huống xấu nhất\n",
            "duy trì những nổ lực lớn nhất, chuẩn bị cho những tình huống xấu nhất, lúc đó bạn sẽ chẳng còn phải sợ gì cả. hi sinh nhiều, kì vọng ít - bạn sẽ không phải chịu cảm giác thất vọng nhiều lắm đâu. hãy tạo cho mình những giấc mơ đẹp đẽ và cũng hãy sống một cách thực tế - bạn sẽ không thấy nhàm chán. cuộc sống mà, bạn chuẩn bị đến đâu thì đối mặt đến đó thôi!\n",
            "duy trì những nổ lực lớn nhất, chuẩn bị cho những tình huống xấu nhất\n",
            "0.010628614872475907\n",
            "Input: 人 生 路 上 会 有 美 丽 的 风 景 等 待 我 们 去 欣 赏 ， 该 来 的 不 要 躲 闪 ， 该 去 的 不 要 纠 缠 ， 该 做 的 勇 于 担 当 ； 把 该 放 弃 的 让 它 随 风 而 去 ， 不 要 抓 住 不 放 ； 把 该 留 下 的 藏 在 记 忆 深 处 ， 尘 封 起 来 ； 把 曾 经 的 坎 坷 和 磨 难 沉 淀 成 珍 贵 的 财 富 ， 鞭 策 我 们 前 行 。\n",
            "Predicted translation: trên con đường đời còn có biết bao nhiêu phong cảnh đẹp đang chờ chúng ta thưởng ngoạn. điều gì sẽ đến thì không cần trốn tránh, nơi nào cần đi không nên chần chừ, những việc cần làm phải dũng cảm đảm nhận. hãy để những gì nên từ bỏ trôi theo gió bay, đừng cố gắng níu kéo. hãy vì những gì cần giữ lại được chôn sâu trong thâm tâm, phủ đầy lớp bụi thời gian. hãy để những khó khăn thử thách đã từng trải qua lắng đọng, kết tinh thành những tài sản quý giá và trở thành động lực thúc giục chúng ta luôn tiến bước về phía trước.\n",
            "trên con đường đời còn có biết bao nhiêu phong cảnh đẹp đang chờ chúng ta thưởng ngoạn. điều gì sẽ đến thì không cần trốn tránh, nơi nào cần đi không nên chần chừ, những việc cần làm phải dũng cảm đảm nhận. hãy để những gì nên từ bỏ trôi theo gió bay, đừng cố gắng níu kéo. hãy vì những gì cần giữ lại được chôn sâu trong thâm tâm, phủ đầy lớp bụi thời gian. hãy để những khó khăn thử thách đã từng trải qua lắng đọng, kết tinh thành những tài sản quý giá và trở thành động lực thúc giục chúng ta luôn tiến bước về phía trước.\n",
            "trên con đường đời còn có biết bao nhiêu phong cảnh đẹp đang chờ chúng ta thưởng ngoạn. điều gì sẽ đến thì không cần trốn tránh, nơi nào cần đi không nên chần chừ, những việc cần làm phải dũng cảm đảm nhận. hãy để những gì nên từ bỏ trôi theo gió bay, đừng cố gắng níu kéo. hãy vì những gì cần giữ lại được chôn sâu trong thâm tâm, phủ đầy lớp bụi thời gian. hãy để những khó khăn thử thách đã từng trải qua lắng đọng, kết tinh thành những tài sản quý giá và trở thành động lực thúc giục chúng ta luôn tiến bước về phía trước.\n",
            "1.0\n",
            "Input: 如 果 黑 暗 和 光 明 让 你 去 选 择 ， 你 最 好 选 择 相 信 光 明 ， 因 为 光 明 会 让 你 看 见 希 望 ， 而 黑 暗 里 永 远 只 有 绝 望 。 即 便 你 从 未 看 见 过 光 明 ， 你 也 要 选 择 相 信 ， 在 信 仰 里 活 着 不 会 让 你 的 生 活 处 处 只 是 一 潭 死 水 。\n",
            "Predicted translation: nếu để bạn lựa chọn giữa bóng tối và ánh sáng thì tốt nhất bạn nên lựa chọn tin tưởng vào ánh sáng. bởi vì ánh sáng sẽ cho bạn hy vọng còn trong màn đêm u tối chỉ tồn tại sự tuyệt vọng mà thôi. cho dù bạn chưa từng nhìn thấy ánh sáng thì cũng hãy cứ tin tưởng mà đưa cho nó, sống trong niềm tin của tín ngưỡng, cuộc sống của bạn nhất định sẽ không thành một đầm lầy chết.\n",
            "nếu để bạn lựa chọn giữa bóng tối và ánh sáng thì tốt nhất bạn nên lựa chọn tin tưởng vào ánh sáng. bởi vì ánh sáng sẽ cho bạn hy vọng còn trong màn đêm u tối chỉ tồn tại sự tuyệt vọng mà thôi. cho dù bạn chưa từng nhìn thấy ánh sáng thì cũng hãy cứ tin tưởng mà đưa cho nó, sống trong niềm tin của tín ngưỡng, cuộc sống của bạn nhất định sẽ không thành một đầm lầy chết.\n",
            "nếu để bạn lựa chọn giữa bóng tối và ánh sáng thì tốt nhất bạn nên lựa chọn tin tưởng vào ánh sáng. bởi vì ánh sáng sẽ cho bạn hy vọng còn trong màn đêm u tối chỉ tồn tại sự tuyệt vọng mà thôi. cho dù bạn chưa từng nhìn thấy ánh sáng thì cũng hãy cứ tin tưởng mà đưa cho nó, sống trong niềm tin của tín ngưỡng, cuộc sống của bạn nhất định sẽ không thành một đầm lầy chết.\n",
            "1.0\n",
            "Input: 永 不 要 羡 慕 那 些 生 而 富 贵 的 人 。 物 质 世 界 无 穷 尽 ， 最 重 要 的 不 是 拥 有 什 么 ， 而 是 努 力 改 善 ， 使 生 活 充 满 希 望 ， 使 生 命 每 天 向 上 。 不 要 求 你 有 钱 ， 但 是 要 答 应 我 ， 明 年 ， 下 个 月 ， 明 天 ， 都 比 现 在 多 一 点 。\n",
            "Predicted translation: đừng bao giờ ngưỡng mộ những người giầu từ trong trứng. thế giới vật chất như một hố đen không đáy, điều quan trọng nhất không phải bạn có trong tay cái gì mà là sự cố gắng thay đổi để được trở nên tốt hơn, để cuộc sống tràn đầy hy vọng và để mỗi ngày đều tiến về phía trước. tôi không yêu cầu bạn phải có tiền nhưng hãy hứa với tôi: ngày mai, tháng sau, năm sau, đều phải có gì đó nhiều hơn hiện tại.\n",
            "đừng bao giờ ngưỡng mộ những người giầu từ trong trứng. thế giới vật chất như một hố đen không đáy, điều quan trọng nhất không phải bạn có trong tay cái gì mà là sự cố gắng thay đổi để được trở nên tốt hơn, để cuộc sống tràn đầy hy vọng và để mỗi ngày đều tiến về phía trước. tôi không yêu cầu bạn phải có tiền nhưng hãy hứa với tôi: ngày mai, tháng sau, năm sau, đều phải có gì đó nhiều hơn hiện tại.\n",
            "đừng bao giờ ngưỡng mộ những người giầu từ trong trứng. thế giới vật chất như một hố đen không đáy, điều quan trọng nhất không phải bạn có trong tay cái gì mà là sự cố gắng thay đổi để được trở nên tốt hơn, để cuộc sống tràn đầy hy vọng và để mỗi ngày đều tiến về phía trước. tôi không yêu cầu bạn phải có tiền nhưng hãy hứa với tôi: ngày mai, tháng sau, năm sau, đều phải có gì đó nhiều hơn hiện tại.\n",
            "1.0\n",
            "Input: 人 生 就 是 一 场 未 知 的 冒 险 ， 没 有 人 会 事 先 知 道 结 局 。 别 人 只 会 尊 重 你 的 选 择 ， 而 不 会 在 意 你 的 牺 牲 。 所 以 ， 不 要 怨 天 尤 人 ， 而 应 当 冷 静 地 面 对 目 前 的 状 况 ， 用 心 并 且 负 责 地 去 解 决 现 在 的 问 题 。 只 要 能 对 自 己 的 现 在 负 责 ， 那 么 未 来 也 会 为 你 负 责 ！\n",
            "Predicted translation: hãy để bản thân mình nặng mình nhất không đủ hơn, đối nước biệt không cần làm tốt mà hãy để tự tỏa mắt có nguyên đầu nhìn nhận theo đuổi một trái tim mình, bởi vì bạn không đối lòng tự an toàn, tương lai xinh đẹp của bạn sẽ không vì cho thật giữ lấy ánh sáng luôn cố gắng diễn một con đường mình.\n",
            "cuộc sống là một cuộc mạo hiểm không thể lường trước được điều gì và chẳng có ai đoán được kết cục sẽ đi về đâu. vì thế đừng bao giờ than trời trách đất mà hãy bình tĩnh đối mặt với mọi điều xảy ra trước mắt, có tâm và tinh thần trách nhiệm giải quyết mọi vấn đề. chỉ cần bạn có trách nhiệm với cuộc sống hiện tại của bản thân thì tương lai sẽ không phụ lại bạn.\n",
            "hãy để bản thân mình nặng mình nhất không đủ hơn, đối nước biệt không cần làm tốt mà hãy để tự tỏa mắt có nguyên đầu nhìn nhận theo đuổi một trái tim mình, bởi vì bạn không đối lòng tự an toàn, tương lai xinh đẹp của bạn sẽ không vì cho thật giữ lấy ánh sáng luôn cố gắng diễn một con đường mình.\n",
            "0.2772746725278754\n",
            "Input: 十 年 前 你 是 谁 ， 一 年 前 你 是 谁 ， 甚 至 昨 天 你 是 谁 ， 都 不 重 要 。 重 要 的 是 ， 今 天 你 是 谁 ， 以 及 明 天 你 将 成 为 谁 。\n",
            "Predicted translation: 10 năm trước bạn là ai, một năm trước bạn là ai, thậm chí ngày hôm nay bạn là ai, tất cả đều không quan trọng. điều quan trọng là: hôm nay bạn là ai và ngày mai bạn sẽ trở thành người như thế nào.\n",
            "10 năm trước bạn là ai, một năm trước bạn là ai, thậm chí ngày hôm qua bạn là ai, tất cả đều không quan trọng. điều quan trọng là: hôm nay bạn là ai và ngày mai bạn sẽ trở thành người như thế nào.\n",
            "10 năm trước bạn là ai, một năm trước bạn là ai, thậm chí ngày hôm nay bạn là ai, tất cả đều không quan trọng. điều quan trọng là: hôm nay bạn là ai và ngày mai bạn sẽ trở thành người như thế nào.\n",
            "0.9427781070492712\n",
            "Input: 人 生 处 处 有 风 景 ， 何 不 适 时 停 一 停 ？ 不 企 求 与 山 巅 观 日 月 ， 只 是 因 峰 外 还 有 峰 。 人 生 之 路 上 没 有 什 么 艰 难 的 ， 把 困 难 当 作 一 阵 风 就 好 了 。 我 坚 信 ， 只 要 肯 努 力 ， 未 来 定 会 成 功 ！\n",
            "Predicted translation: đời người chốn nào cũng có cảnh đẹp, sao không lựa lúc thích hợp mà đứng lại thưởng ngoạn? đừng mong muốn được đứng trên đỉnh núi cao mà ngắm nhìn đất trời, bởi núi cao còn có núi khác cao hơn. đời người chẳng có gì là quá khó khăn cả nên hãy coi những thử thách ấy như một trận gió vút qua. tôi tin rằng, chỉ cần mình đủ cố gắng thì tương lai nhất định sẽ thành công.\n",
            "đời người chốn nào cũng có cảnh đẹp, sao không lựa lúc thích hợp mà đứng lại thưởng ngoạn? đừng mong muốn được đứng trên đỉnh núi cao mà ngắm nhìn đất trời, bởi núi cao còn có núi khác cao hơn. đời người chẳng có gì là quá khó khăn cả nên hãy coi những thử thách ấy như một trận gió vút qua. tôi tin rằng, chỉ cần mình đủ cố gắng thì tương lai nhất định sẽ thành công.\n",
            "đời người chốn nào cũng có cảnh đẹp, sao không lựa lúc thích hợp mà đứng lại thưởng ngoạn? đừng mong muốn được đứng trên đỉnh núi cao mà ngắm nhìn đất trời, bởi núi cao còn có núi khác cao hơn. đời người chẳng có gì là quá khó khăn cả nên hãy coi những thử thách ấy như một trận gió vút qua. tôi tin rằng, chỉ cần mình đủ cố gắng thì tương lai nhất định sẽ thành công.\n",
            "1.0\n",
            "Input: 时 间 的 步 伐 有 三 种 ： 未 来 姗 姗 来 迟 ， 现 在 像 箭 一 般 飞 逝 ， 过 去 永 远 静 立 不 动 。\n",
            "Predicted translation: tốc độ của dòng chảy thời gian được phân làm ba loại: một tương lai thong dong đến muộn, một hiện tại vụt trôi như tên bay và một quá khứ mãi đứng yên bất động.\n",
            "tốc độ của dòng chảy thời gian được phân làm ba loại: một tương lai thong dong đến muộn, một hiện tại vụt trôi như tên bay và một quá khứ mãi mãi đứng yên bất động.\n",
            "tốc độ của dòng chảy thời gian được phân làm ba loại: một tương lai thong dong đến muộn, một hiện tại vụt trôi như tên bay và một quá khứ mãi đứng yên bất động.\n",
            "0.9504011619247994\n",
            "Input: 现 在 的 你 要 是 多 学 一 样 本 事 ， 以 后 的 你 就 能 少 说 一 句 求 人 的 话 。\n",
            "Predicted translation: nếu hiện tại bạn cố gắng rèn luyện bản lĩnh thêm một phần thì chính bạn sau này sẽ bớt được một lần đi cầu xin người khác giúp đỡ.\n",
            "nếu hiện tại bạn cố gắng rèn luyện bản lĩnh thêm một phần thì chính bạn sau này sẽ bớt được một lần đi cầu xin người khác giúp đỡ.\n",
            "nếu hiện tại bạn cố gắng rèn luyện bản lĩnh thêm một phần thì chính bạn sau này sẽ bớt được một lần đi cầu xin người khác giúp đỡ.\n",
            "1.0\n",
            "Input: 创 造 明 天 的 是 今 天 ， 创 造 将 来 的 是 眼 前 ， 当 你 痴 痴 地 坐 等 将 来 的 时 候 ， 将 来 就 从 你 懒 惰 的 双 手 中 畸 形 丑 陋 地 走 出 来 。\n",
            "Predicted translation: điều sáng tạo nên ngày mai chính là hôm nay và điều làm nên tương lai chính là những gì đang hiện diện ngay trước mắt. khi bạn đang ngồi ngây ngốc chờ đợi tương lai đến thì tương lai sẽ bị sự lười nhác của bạn làm cho biến dạng xấu xí.\n",
            "điều sáng tạo nên ngày mai chính là hôm nay và điều làm nên tương lai chính là những gì đang hiện diện ngay trước mắt. khi bạn đang ngồi ngây ngốc chờ đợi tương lai đến thì tương lai sẽ bị sự lười nhác của bạn làm cho biến dạng xấu xí.\n",
            "điều sáng tạo nên ngày mai chính là hôm nay và điều làm nên tương lai chính là những gì đang hiện diện ngay trước mắt. khi bạn đang ngồi ngây ngốc chờ đợi tương lai đến thì tương lai sẽ bị sự lười nhác của bạn làm cho biến dạng xấu xí.\n",
            "1.0\n",
            "Input: 无 论 何 时 ， 现 在 只 是 一 个 交 点 ， 为 过 去 与 未 来 相 遇 之 处 ， 我 们 对 于 二 者 都 不 能 有 什 么 架 打 。 不 能 有 世 界 而 无 传 统 ， 亦 不 能 有 生 命 而 无 活 动 。\n",
            "Predicted translation: bất kể là lúc nào, hiện tại cũng chỉ là một giao điểm\n",
            "bất kể là lúc nào, hiện tại cũng chỉ là một giao điểm, một sự gặp gỡ giữa quá khứ và tương lai. chúng ta chẳng thể đấu tranh được gì cho tương lai. không thể có thế giới nếu không có truyền thống, cũng không thể có sinh mạng khi sự sống không tồn tại.\n",
            "bất kể là lúc nào, hiện tại cũng chỉ là một giao điểm\n",
            "0.03338583727120018\n",
            "Input: 当 你 老 了 ， 就 住 在 一 个 人 不 多 的 小 镇 上 。 房 前 载 花 屋 后 种 菜 。 没 有 网 络 。 自 己 动 手 做 饭 。 养 一 条 大 狗 。 每 天 骑 自 行 车 ， 散 步 。 几 乎 不 用 手 机 。 不 打 扰 别 人 ， 也 不 希 望 被 打 扰 。 所 谓 的 天 荒 地 老 就 是 这 样 了 。 一 茶 ， 一 饭 ， 一 粥 ， 一 菜 ， 与 一 人 相 守 。\n",
            "Predicted translation: khi con người trở nên xinh đẹp sẽ rất ít người chụp ảnh nhất. khi bạn có trời đến thế giới này sẽ chẳng có một điều gì mình như vậy. cho người khác để một chú chó không cần như thế giới trọng nhà để xe, nên cố gắng làm gì như thế giới thủ điều đáng sợ xinh nhất định tự tay đến tận cơm, phải luôn làm ba bạn. đời người ở thế giới chó của đất bầu trời, tầm cơm, nhưng cho đến tận tay bạn thân mình.\n",
            "một ngày khi bạn đã già, hãy sống tại một thị trấn nhỏ ít người qua lại. trước nhà chăm hoa, sau vườn trồng rau. không có mạng internet. tự tay nấu cơm. nuôi một chú chó lớn. mỗi ngày đạp xe, đi bộ, chẳng cần dùng đến điện thoại. không làm phiền người khác, cũng không mong muốn bị người khác quấy rầy. cái gọi là thiên hoang địa lão chính là như thế đó. một bữa trà, một bữa cơm, một bữa cháo, một bữa rau, cùng một người khác luôn bên nhau đến tận cùng của đất trời.\n",
            "khi con người trở nên xinh đẹp sẽ rất ít người chụp ảnh nhất. khi bạn có trời đến thế giới này sẽ chẳng có một điều gì mình như vậy. cho người khác để một chú chó không cần như thế giới trọng nhà để xe, nên cố gắng làm gì như thế giới thủ điều đáng sợ xinh nhất định tự tay đến tận cơm, phải luôn làm ba bạn. đời người ở thế giới chó của đất bầu trời, tầm cơm, nhưng cho đến tận tay bạn thân mình.\n",
            "0.12476353719096338\n",
            "Input: 有 些 姑 娘 ， 读 书 也 好 ， 工 作 也 好 ， 整 容 也 好 ， 目 标 只 有 一 个 ， 那 就 是 为 了 嫁 个 好 男 人 。 而 另 一 些 姑 娘 ， 做 的 所 有 事 情 都 只 是 为 了 让 自 己 变 得 更 强 。 也 许 前 者 在 刚 开 始 会 活 得 很 好 ， 但 人 生 很 长 ， 慢 慢 就 会 发 现 ， 依 靠 别 人 ， 始 终 是 场 赌 注 。 而 让 自 己 变 更 好 ， 那 才 是 一 辈 子 的 事 情 。\n",
            "Predicted translation: có những cô nàng, dù là đọc sách, làm việc hay phẫu thuật thẩm mỹ, tất cả cũng đều vì một mục tiêu, đó là lấy được một chàng trai tốt. nhưng lại có một số cô nàng khác, tất cả những gì họ làm đều là để khiến bản thân trở nên mạnh mẽ hơn. có thể những cô gái ở vế đầu khi bắt đầu cuộc sống sẽ rất ổn. nhưng đời người dài lắm, rồi họ sẽ dần nhận ra: dựa dẫm vào ngõ cụt. nhưng đời đi vào ngõ cụt. luôn cố gắng khiến bản thân trở nên tốt đẹp hơn mới là mục đích của cả đời người.\n",
            "có những cô nàng, dù là đọc sách, làm việc hay phẫu thuật thẩm mỹ, tất cả cũng đều vì một mục tiêu, đó là lấy được một chàng trai tốt. nhưng lại có một số cô nàng khác, tất cả những gì họ làm đều là để khiến bản thân trở nên mạnh mẽ hơn. có thể những cô gái ở vế đầu khi bắt đầu cuộc sống sẽ rất ổn. nhưng đời người dài lắm, rồi họ sẽ dần dần nhận ra: dựa dẫm vào người khác sẽ khiến cuộc đời đi vào ngõ cụt. luôn cố gắng khiến bản thân trở nên tốt đẹp hơn mới là mục đích của cả đời người.\n",
            "có những cô nàng, dù là đọc sách, làm việc hay phẫu thuật thẩm mỹ, tất cả cũng đều vì một mục tiêu, đó là lấy được một chàng trai tốt. nhưng lại có một số cô nàng khác, tất cả những gì họ làm đều là để khiến bản thân trở nên mạnh mẽ hơn. có thể những cô gái ở vế đầu khi bắt đầu cuộc sống sẽ rất ổn. nhưng đời người dài lắm, rồi họ sẽ dần nhận ra: dựa dẫm vào ngõ cụt. nhưng đời đi vào ngõ cụt. luôn cố gắng khiến bản thân trở nên tốt đẹp hơn mới là mục đích của cả đời người.\n",
            "0.9276165817829095\n",
            "Input: 当 别 人 认 定 了 你 是 错 的 ， 就 算 你 冷 静 地 解 释 了 也 会 越 描 越 黑 ， 还 会 被 认 为 是 在 狡 辩 。 当 别 人 对 你 万 般 的 误 会 ， 你 只 能 暂 且 默 默 忍 受 。 只 要 做 好 自 己 的 本 分 ， 用 实 力 证 明 自 己 ， 时 间 会 为 你 说 话 。\n",
            "Predicted translation: ngay từ đầu người ta đã cho rằng bạn sai rồi thì cho dù bạn có bình tĩnh giải thích như thế nào cũng chỉ khiến sự việc càng thêm rắc rối, thậm chí còn bị họ đánh giá là đang giảo biện. ngay từ đầu người ta đã hoàn toàn hiểu nhầm về bạn, bạn cũng chỉ có thể tạm thời nhẫn nhịn chịu đựng. chỉ cần làm tốt bổn phận của mình, dùng năng lực thực sự chứng minh bản thân, thời gian sẽ nói thấy bạn tất cả.\n",
            "ngay từ đầu người ta đã cho rằng bạn sai rồi thì cho dù bạn có bình tĩnh giải thích như thế nào cũng chỉ khiến sự việc càng thêm rắc rối, thậm chí còn bị họ đánh giá là đang giảo biện. ngay từ đầu người ta đã hoàn toàn hiểu nhầm về bạn, bạn cũng chỉ có thể tạm thời nhẫn nhịn chịu đựng. chỉ cần làm tốt bổn phận của mình, dùng năng lực thực sự chứng minh bản thân, thời gian sẽ nói thấy bạn tất cả.\n",
            "ngay từ đầu người ta đã cho rằng bạn sai rồi thì cho dù bạn có bình tĩnh giải thích như thế nào cũng chỉ khiến sự việc càng thêm rắc rối, thậm chí còn bị họ đánh giá là đang giảo biện. ngay từ đầu người ta đã hoàn toàn hiểu nhầm về bạn, bạn cũng chỉ có thể tạm thời nhẫn nhịn chịu đựng. chỉ cần làm tốt bổn phận của mình, dùng năng lực thực sự chứng minh bản thân, thời gian sẽ nói thấy bạn tất cả.\n",
            "1.0\n",
            "Input: 所 有 你 曾 经 哭 过 的 事 ， 多 少 年 之 后 ， 你 一 定 会 笑 着 说 出 来 ， 然 后 骂 自 己 一 句 ： 当 初 真 的 好 傻 ， 其 实 人 生 没 有 那 么 多 的 烦 恼 ， 时 间 会 解 决 一 切 ， 好 好 爱 自 己 。\n",
            "Predicted translation: tất cả những chuyện đã làm bạn bật khóc, nhiều năm sau khi nghĩ lại nhất định sẽ khiến bạn cảm thấy nực cười, sau đó tự mắng bản thân một câu: lúc đó mình thật ngốc. thực ra đời người cũng đâu có nhiều chuyện buồn phiền đến vậy, thời gian sẽ giúp chúng ta hóa giải tất cả. điều quan trọng là hãy tự yêu thương lấy bản thân mình.\n",
            "tất cả những chuyện đã làm bạn bật khóc, nhiều năm sau khi nghĩ lại nhất định sẽ khiến bạn cảm thấy nực cười, sau đó tự mắng bản thân một câu: lúc đó mình thật ngốc. thực ra đời người cũng đâu có nhiều chuyện buồn phiền đến vậy, thời gian sẽ giúp chúng ta hóa giải tất cả. điều quan trọng là hãy tự yêu thương lấy bản thân mình.\n",
            "tất cả những chuyện đã làm bạn bật khóc, nhiều năm sau khi nghĩ lại nhất định sẽ khiến bạn cảm thấy nực cười, sau đó tự mắng bản thân một câu: lúc đó mình thật ngốc. thực ra đời người cũng đâu có nhiều chuyện buồn phiền đến vậy, thời gian sẽ giúp chúng ta hóa giải tất cả. điều quan trọng là hãy tự yêu thương lấy bản thân mình.\n",
            "1.0\n",
            "Input: 五 年 后 的 你 会 是 什 么 样 子 ， 说 穿 了 就 取 决 于 两 项 最 重 要 的 因 素 ： 一 个 是 你 与 哪 些 人 为 伍 ， 另 一 个 就 是 你 读 哪 些 书 。 我 们 应 该 要 求 自 己 只 说 该 说 的 话 ， 少 说 废 话 省 点 宝 贵 的 脑 力 ； 有 节 制 只 讲 重 点 ， 表 示 你 脑 袋 很 清 楚 ， 心 灵 很 安 详 。\n",
            "Predicted translation: bạn của năm năm sau sẽ có bộ dạng như thế nào, nói thẳng ra điều quan trọng nhất. nghiêm trọng, ngưỡng mộ điều quan trọng . nghiêm lắng sẽ được quyết định bởi vì bạn sẽ được quyết định cũng phải biết nhắc nhất. chúng ta phải chịu đựng. điều quan tâm hồn an nhiên vào bản thân đối với bản thân. hạn chế phạm giá của bạn kết sự hiểu tốt đẹp và tiết chế nói với bản thân, hạn hồn tư duy lực tư duy lực tiết kiệm sẽ dễ dàng lười chất, chúng ta vẫn phải mạnh mẽ. điều đáng rõ ràng và tâm hồn an nhiên của bạn.\n",
            "bạn của năm năm sau sẽ có bộ dạng như thế nào, nói thẳng ra điều đó sẽ được quyết định bởi hai yếu tố quan trọng nhất: một là bạn kết bạn với những ai, hai là bạn đã đọc những cuốn sách nào. chúng ta phải biết nhắc nhở bản thân chỉ được nói những lời nên nói, hạn chế nói những điều thừa thãi, tiết kiệm một chút sức lực quý báu, biết cách tiết chế và chỉ nói những điều quan trọng. điều đó thể hiện tư duy rõ ràng và tâm hồn an nhiên của bạn.\n",
            "bạn của năm năm sau sẽ có bộ dạng như thế nào, nói thẳng ra điều quan trọng nhất. nghiêm trọng, ngưỡng mộ điều quan trọng . nghiêm lắng sẽ được quyết định bởi vì bạn sẽ được quyết định cũng phải biết nhắc nhất. chúng ta phải chịu đựng. điều quan tâm hồn an nhiên vào bản thân đối với bản thân. hạn chế phạm giá của bạn kết sự hiểu tốt đẹp và tiết chế nói với bản thân, hạn hồn tư duy lực tư duy lực tiết kiệm sẽ dễ dàng lười chất, chúng ta vẫn phải mạnh mẽ. điều đáng rõ ràng và tâm hồn an nhiên của bạn.\n",
            "0.30218515729976714\n",
            "Input: 当 你 很 累 很 累 的 时 候 ， 你 应 该 闭 上 眼 睛 坐 深 呼 吸 ， 告 诉 自 己 你 应 该 坚 持 得 住 ， 不 要 什 么 轻 易 地 否 定 自 己 ， 谁 说 你 没 有 好 的 未 来 ， 关 于 明 天 的 事 后 天 才 知 道 ， 在 一 切 变 好 之 前 ， 我 们 总 要 经 历 一 些 不 开 心 的 日 子 ， 不 要 因 为 一 点 暇 疵 而 放 弃 一 段 坚 持 。\n",
            "Predicted translation: hãy tin rằng khi thời gian sẽ cho chúng ta nhận được những nỗi khổ rằng cho không phải nếm gian của lòng của mình bị thương, bạn sẽ không phải nhảy được. hãy cố gắng xuống, nhưng thực ra bản thân mình của bạn nỗ lực của ngày hôm nay trở nên tốt đẹp rồi tốt đẹp, có thể dễ dàng phủ tập tốt đẹp, cứ từ bỏ một vài đời người.\n",
            "khi bạn cảm thấy thực sự rất mệt mỏi, hãy khép đôi mắt lại và hít thở sâu, tự nói với bản thân rằng phải tiếp tục cố gắng, đừng có dễ dàng phủ định bản thân như thế. ai nói rằng tương lai của bạn sẽ không tươi sáng, những chuyện của ngày mai thì có trời mới biết, trước khi mọi chuyện trở nên tốt đẹp, chúng ta vẫn phải trải qua một vài ngày tháng chẳng vui vẻ gì, đừng vì một vài điều nhỏ bé không vừa ý mà vứt bỏ cả một quãng thời gian đã từng kiên trì nỗ lực.\n",
            "hãy tin rằng khi thời gian sẽ cho chúng ta nhận được những nỗi khổ rằng cho không phải nếm gian của lòng của mình bị thương, bạn sẽ không phải nhảy được. hãy cố gắng xuống, nhưng thực ra bản thân mình của bạn nỗ lực của ngày hôm nay trở nên tốt đẹp rồi tốt đẹp, có thể dễ dàng phủ tập tốt đẹp, cứ từ bỏ một vài đời người.\n",
            "0.1564875653302794\n",
            "Input: 一 辈 子 活 下 来 ， 常 常 是 ， 在 最 有 意 思 的 时 候 ， 没 有 有 意 思 地 过 ； 在 最 没 意 思 的 时 候 ， 想 要 有 意 思 地 过 结 果 ， 却 再 也 过 不 出 意 思 。 或 者 ， 换 一 种 表 述 就 是 ， 在 看 不 透 的 时 候 ， 好 看 的 人 生 过 得 不 好 看 ； 看 透 了 ， 想 过 得 好 看 ， 可 是 人 生 已 经 没 法 看 了 。\n",
            "Predicted translation: trong đời sống thường xảy ra những chuyện thế này: những lúc cuộc sống thú vị nhất thì lại chẳng có hứng để sống, khi cuộc sống trở nên tẻ nhạt nhất lại mong muốn được sống một cách ý nghĩa. kết quả là chẳng làm được điều gì nên hồn. điều này có nghĩa là: khi trong lòng mới trở nên hồn. điều nào cũng chẳng tươi đẹp cũng cảm thấy u ám. khi đã nghĩ thông mọi chuyện, muốn sống sao cho thật đẹp thì cũng chẳng kịp nữa rồi.\n",
            "trong đời sống thường xảy ra những chuyện thế này: những lúc cuộc sống thú vị nhất thì lại chẳng có hứng để sống, khi cuộc sống trở nên tẻ nhạt nhất lại mong muốn được sống một cách ý nghĩa. kết quả là chẳng làm được điều gì nên hồn. điều này có nghĩa là: khi trong lòng còn vướng bận, cuộc sống có tươi đẹp cũng cảm thấy u ám. khi đã nghĩ thông mọi chuyện, muốn sống sao cho thật đẹp thì cũng chẳng kịp nữa rồi.\n",
            "trong đời sống thường xảy ra những chuyện thế này: những lúc cuộc sống thú vị nhất thì lại chẳng có hứng để sống, khi cuộc sống trở nên tẻ nhạt nhất lại mong muốn được sống một cách ý nghĩa. kết quả là chẳng làm được điều gì nên hồn. điều này có nghĩa là: khi trong lòng mới trở nên hồn. điều nào cũng chẳng tươi đẹp cũng cảm thấy u ám. khi đã nghĩ thông mọi chuyện, muốn sống sao cho thật đẹp thì cũng chẳng kịp nữa rồi.\n",
            "0.8947547200841616\n",
            "Input: 希 望 明 天 的 我 ， 能 和 今 天 之 前 的 一 切 好 好 说 声 再 见 ， 未 来 的 好 坏 ， 即 便 是 丝 毫 不 期 待 也 照 样 会 到 来 ， 我 深 深 相 信 我 不 再 需 要 从 别 人 那 里 得 到 前 进 的 勇 气 和 力 量 ， 哪 怕 对 我 来 说 有 多 难 ， 我 知 道 我 也 一 样 可 以 ， 为 什 么 要 头 也 不 回 地 向 前 跑 ， 因 为 没 有 未 来 的 人 ， 没 资 格 聊 从 前 。\n",
            "Predicted translation: cho dù tất cả mọi người đều có một chút tuổi trẻ không thể nói cho không thể khóc, nhưng tôi không thể từ bỏ được. tự mình tưởng lại nhất định sẽ cho dù trên năm nào cũng không thể cho dù tôi biết gánh vác, nhưng tôi nó sẽ cho dù tôi biết lựa chọn bản thân đi hôm nay.\n",
            "hy vọng rằng tôi của ngày mai có thể dứt khoát nói lời tạm biệt với ngày hôm nay. những điều tốt xấu của tương lai cho dù chúng ta chẳng mong chờ gì nhưng nó vẫn sẽ đến. tôi tin tưởng chắc chắn rằng bản thân chẳng cần tìm kiếm dũng khí và sức mạnh tiến bước từ phía người khác. cho dù điều đó đối với tôi có khó khăn biết nhường nào tôi biết tôi vẫn có thể làm được. tại sao cứ phải cắm đầu chạy mà không được ngoái nhìn về phía sau? bởi vì những người không có tương lai thì không đủ tư cách nói về một thời đã qua.\n",
            "cho dù tất cả mọi người đều có một chút tuổi trẻ không thể nói cho không thể khóc, nhưng tôi không thể từ bỏ được. tự mình tưởng lại nhất định sẽ cho dù trên năm nào cũng không thể cho dù tôi biết gánh vác, nhưng tôi nó sẽ cho dù tôi biết lựa chọn bản thân đi hôm nay.\n",
            "0.18379394500843038\n",
            "Input: 有 时 候 你 会 特 别 渴 望 找 个 人 谈 一 谈 ， 但 是 到 最 后 你 会 发 现 ， 往 往 都 谈 不 出 个 所 以 然 ， 慢 慢 地 你 领 悟 到 ， 有 些 事 情 是 不 能 告 诉 别 人 的 ， 有 些 事 情 不 必 告 诉 别 人 的 ， 有 些 事 情 是 根 本 没 办 法 用 言 语 告 诉 别 人 的 ， 有 些 事 情 是 即 使 告 诉 了 别 人 ， 别 人 也 理 解 不 了 的 。 所 以 ， 有 些 话 ， 只 能 放 在 心 里 ， 让 时 间 告 诉 你 一 切 。\n",
            "Predicted translation: có những lúc bạn sẽ vô cùng thiết tha tìm được một người cùng mình dốc bầu tâm sự, nhưng cho đến cuối cùng bạn sẽ phát hiện ra rằng: sẽ chẳng thể nói được đầu đuôi những gì mình muốn nói. bạn sẽ dần lĩnh ngộ ra, có những chuyện không thể nói với người khác và có những chuyện không cần phải nói với người khác, cũng có những chuyện không cần phải nói với người khác. có những chuyện không cần phải nói với người khác rồi thì người khác rồi sẽ dễ dàng cố gắng, có những chuyện tốt ra, có những chuyện không cần thiết phải nói thấy thấy thấy thấy thấy tốt với người khác rồi sẽ tiết lộ với người khác rồi sẽ tiết lộ với người khác rồi thì người khác và cất giấu trong lòng và hãy để thời gian nói thấy bạn tất cả.\n",
            "có những lúc bạn sẽ vô cùng thiết tha tìm được một người cùng mình dốc bầu tâm sự, nhưng cho đến cuối cùng bạn sẽ phát hiện ra rằng: sẽ chẳng thể nói được đầu đuôi những gì mình muốn nói. bạn sẽ dần dần lĩnh ngộ ra, có những chuyện không thể nói với người khác và có những chuyện không cần phải nói với người khác, cũng có những chuyện chẳng thể dùng ngôn ngữ để nói với người khác. có những chuyện cho dù bạn đã tiết lộ với người khác rồi thì người ta cũng không hiểu. vì thế, có những lời nói chỉ nên cất giấu trong lòng và hãy để thời gian nói thấy bạn tất cả.\n",
            "có những lúc bạn sẽ vô cùng thiết tha tìm được một người cùng mình dốc bầu tâm sự, nhưng cho đến cuối cùng bạn sẽ phát hiện ra rằng: sẽ chẳng thể nói được đầu đuôi những gì mình muốn nói. bạn sẽ dần lĩnh ngộ ra, có những chuyện không thể nói với người khác và có những chuyện không cần phải nói với người khác, cũng có những chuyện không cần phải nói với người khác. có những chuyện không cần phải nói với người khác rồi thì người khác rồi sẽ dễ dàng cố gắng, có những chuyện tốt ra, có những chuyện không cần thiết phải nói thấy thấy thấy thấy thấy tốt với người khác rồi sẽ tiết lộ với người khác rồi sẽ tiết lộ với người khác rồi thì người khác và cất giấu trong lòng và hãy để thời gian nói thấy bạn tất cả.\n",
            "0.6247013463853301\n",
            "Input: 其 实 千 万 个 美 丽 的 未 来 ， 低 不 上 一 个 温 暖 的 现 在 ； 每 一 个 真 实 的 现 在 ， 都 是 我 们 曾 经 幻 想 的 未 来 。\n",
            "Predicted translation: thực ra tương lai có tốt đẹp đến hàng ngàn hàng vạn lần cũng chẳng sánh bằng một phút ấm áp của hiện tại. hiện tại chân thực của mỗi người đều đã từng là tương lai mà chúng ta hằng mong tưởng.\n",
            "thực ra tương lai có tốt đẹp đến hàng ngàn hàng vạn lần cũng chẳng sánh bằng một phút ấm áp của hiện tại. hiện tại chân thực của mỗi người đều đã từng là tương lai mà chúng ta hằng mong tưởng.\n",
            "thực ra tương lai có tốt đẹp đến hàng ngàn hàng vạn lần cũng chẳng sánh bằng một phút ấm áp của hiện tại. hiện tại chân thực của mỗi người đều đã từng là tương lai mà chúng ta hằng mong tưởng.\n",
            "1.0\n",
            "Input: 一 个 人 走 天 涯 ， 只 要 怀 揣 温 暖 的 和 希 望 ， 便 不 会 孤 单 。 只 是 更 渴 望 ， 有 一 天 与 未 知 的 你 并 肩 看 世 间 的 落 寞 与 繁 华 。\n",
            "Predicted translation: một người đi khắp thiên hạ chỉ cần mang theo một trái tim ấm nóng và hy vọng thì sẽ chẳng thấy cô đơn, chỉ là khát khao có một ngày được kề vai sát cánh bên một người chưa rõ mặt, cùng ngắm nhìn thế giới những lúc phồn vinh hay hiu quạnh.\n",
            "một người đi khắp thiên hạ chỉ cần mang theo một trái tim ấm nóng và hy vọng thì sẽ chẳng thấy cô đơn, chỉ là khát khao có một ngày được kề vai sát cánh bên một người chưa rõ mặt, cùng ngắm nhìn thế giới những lúc phồn vinh hay hiu quạnh.\n",
            "một người đi khắp thiên hạ chỉ cần mang theo một trái tim ấm nóng và hy vọng thì sẽ chẳng thấy cô đơn, chỉ là khát khao có một ngày được kề vai sát cánh bên một người chưa rõ mặt, cùng ngắm nhìn thế giới những lúc phồn vinh hay hiu quạnh.\n",
            "1.0\n",
            "Input: 如 果 事 与 愿 违 ， 就 相 信 上 天 一 定 另 有 安 排 ； 所 有 失 去 的 ， 都 会 以 另 外 一 种 方 式 归 来 。 相 信 自 己 ， 相 信 时 间 不 会 亏 待 你 。\n",
            "Predicted translation: điều ước nếu chưa xảy ra những gì bạn mong muốn thì hãy tin rằng ông trời nhất định đã có một sự sắp xếp khác. tất cả những gì mất đi sẽ tìm lại được bằng một cách khác. tin tưởng vào bản thân và tin tưởng rằng thời gian sẽ không đối xử tệ bạc với bạn.\n",
            "điều ước nếu chưa xảy ra những gì bạn mong muốn thì hãy tin rằng ông trời nhất định đã có một sự sắp xếp khác. tất cả những gì mất đi sẽ tìm lại được bằng một cách khác. tin tưởng vào bản thân và tin tưởng rằng thời gian sẽ không đối xử tệ bạc với bạn.\n",
            "điều ước nếu chưa xảy ra những gì bạn mong muốn thì hãy tin rằng ông trời nhất định đã có một sự sắp xếp khác. tất cả những gì mất đi sẽ tìm lại được bằng một cách khác. tin tưởng vào bản thân và tin tưởng rằng thời gian sẽ không đối xử tệ bạc với bạn.\n",
            "1.0\n",
            "Input: 这 个 世 界 不 会 总 对 我 们 保 持 和 风 细 雨 的 态 度 ， 尤 其 是 当 你 做 得 还 不 够 到 位 时 ， 更 难 免 受 到 指 摘 。 但 那 些 当 年 让 自 己 极 其 不 适 的 人 或 事 ， 其 实 事 后 看 来 ， 无 一 不 是 对 自 己 难 得 的 磨 练 。\n",
            "Predicted translation: hãy tin rằng khi thời gian đang thầm lặng trôi khiến cho dung nhan của ta dân nhạt đẹp nhất. hãy làm phong cảnh vẫn phải dũng cảm nhận được những gì bạn nghĩ. hãy từ trước thử thách sẽ trở nên thử con người ta còn tốt đẹp nhất.\n",
            "thế gian này sẽ không bao giờ luôn đối xử với bạn bằng một thái độ nhẹ nhàng hòa nhã. khi bạn làm chưa được tốt thì càng khó tránh khỏi bị khiển trách. nhưng những sự việc và con người khiến mình cảm thấy vô cùng khó chịu khi đó, thực ra sau khi đã trải qua mọi chuyện, thì bạn sẽ thấy tất cả đều là sự rèn luyện đáng quý.\n",
            "hãy tin rằng khi thời gian đang thầm lặng trôi khiến cho dung nhan của ta dân nhạt đẹp nhất. hãy làm phong cảnh vẫn phải dũng cảm nhận được những gì bạn nghĩ. hãy từ trước thử thách sẽ trở nên thử con người ta còn tốt đẹp nhất.\n",
            "0.16700455968457056\n",
            "Input: 今 天 不 管 你 多 富 有 ， 若 无 危 机 感 ， 别 人 今 天 的 落 魄 ， 就 是 你 明 天 的 影 子 ； 不 管 你 多 贫 穷 ， 若 有 危 机 感 ， 别 人 今 天 的 成 功 ， 也 是 你 明 天 的 影 子 。\n",
            "Predicted translation: bất kể ngày hôm nay bạn giàu có đến mức nào, nếu như không biết lo sợ thì thất bại hôm nay của người khác có thể chính là hình bóng của bạn ngày mai. cho dù bạn có nghèo khó đến thế nào, nếu như biết lo sợ cho tương lai thì thành công ngày hôm nay của người khác chính là hình bóng của bạn ngày mai.\n",
            "bất kể ngày hôm nay bạn giàu có đến mức nào, nếu như không biết lo sợ thì thất bại hôm nay của người khác có thể chính là hình bóng của bạn ngày mai. cho dù bạn có nghèo khó đến thế nào, nếu như biết lo sợ cho tương lai thì thành công ngày hôm nay của người khác chính là hình bóng của bạn ngày mai.\n",
            "bất kể ngày hôm nay bạn giàu có đến mức nào, nếu như không biết lo sợ thì thất bại hôm nay của người khác có thể chính là hình bóng của bạn ngày mai. cho dù bạn có nghèo khó đến thế nào, nếu như biết lo sợ cho tương lai thì thành công ngày hôm nay của người khác chính là hình bóng của bạn ngày mai.\n",
            "1.0\n",
            "Input: 意 外 和 明 天 不 知 道 哪 个 会 先 来 ， 我 们 永 远 都 不 知 道 ， 好 好 珍 惜 每 分 每 秒 ， 珍 惜 当 下 ， 珍 惜 身 边 爱 你 和 你 爱 着 的 人 。\n",
            "Predicted translation: biến cố và ngày mai, ta sẽ chẳng bao giờ biết được điều gì sẽ xảy ra trước. hãy cố gắng trân trọng từng giây từng giây từng phút của hiện tại, trân trọng những điều đang hiện hữu và trân trọng những người bạn yêu bạn.\n",
            "biến cố và ngày mai, ta sẽ chẳng bao giờ biết được điều gì sẽ xảy ra trước. hãy cố gắng trân trọng từng giây từng phút của hiện tại, trân trọng những điều đang hiện hữu và trân trọng những người bạn yêu và yêu bạn.\n",
            "biến cố và ngày mai, ta sẽ chẳng bao giờ biết được điều gì sẽ xảy ra trước. hãy cố gắng trân trọng từng giây từng giây từng phút của hiện tại, trân trọng những điều đang hiện hữu và trân trọng những người bạn yêu bạn.\n",
            "0.9447009767297828\n",
            "Input: 不 要 再 追 逐 光 明 了 ， 让 自 己 发 光 吧 。 让 未 来 的 你 ， 感 谢 今 天 你 所 付 出 的 努 力 。\n",
            "Predicted translation: đừng mải đuổi theo ánh hào quang mãi thế. hãy để bản thân mình tự tỏa sáng đi. hãy để bản thân trong tương lai cảm thấy biết ơn những cố gắng hết mình của hiện tại.\n",
            "đừng mải đuổi theo ánh hào quang mãi thế. hãy để bản thân mình tự tỏa sáng đi. hãy để bản thân trong tương lai cảm thấy biết ơn những cố gắng hết mình của hiện tại.\n",
            "đừng mải đuổi theo ánh hào quang mãi thế. hãy để bản thân mình tự tỏa sáng đi. hãy để bản thân trong tương lai cảm thấy biết ơn những cố gắng hết mình của hiện tại.\n",
            "1.0\n",
            "Input: 在 未 来 的 日 子 里 ， 困 难 ， 孤 独 ， 挫 折 也 一 定 在 前 方 等 待 ， 时 刻 准 备 着 在 某 一 瞬 间 把 你 击 倒 。 也 许 你 会 在 某 个 阴 郁 的 日 子 里 万 般 绝 望 ， 觉 得 太 阳 再 也 不 会 升 起 ， 但 是 你 应 该 知 道 ， 这 些 都 不 是 真 的 ， 温 暖 的 东 西 不 光 只 有 太 阳 ， 还 有 别 的 美 好 的 东 西 。\n",
            "Predicted translation: những ngày tháng trong tương lai khó khăn, cô độc, thử thách sẽ chờ đợi bạn ở phía trước, luôn có một khoảnh khắc rình rập mong chờ để đánh đổ bạn. có thể bạn sẽ tuyệt vọng vô cùng trong một màn đêm tối tăm nào đó, cảm thấy rằng mặt trời sẽ chẳng bao giờ mọc lại nữa. nhưng bạn nên biết rằng: những điều đó đều không phải sự thật, thứ có thể đem lại hơi ấm không chỉ có những điều tốt đẹp khác.\n",
            "những ngày tháng trong tương lai khó khăn, cô độc, thử thách sẽ chờ đợi bạn ở phía trước, luôn có một khoảnh khắc rình rập mong chờ để đánh đổ bạn. có thể bạn sẽ tuyệt vọng vô cùng trong một màn đêm tối tăm nào đó, cảm thấy rằng mặt trời sẽ chẳng bao giờ mọc lại nữa. nhưng bạn nên biết rằng: những điều đó đều không phải sự thật, thứ có thể đem lại hơi ấm không chỉ có mặt trời mà còn có những điều tốt đẹp khác.\n",
            "những ngày tháng trong tương lai khó khăn, cô độc, thử thách sẽ chờ đợi bạn ở phía trước, luôn có một khoảnh khắc rình rập mong chờ để đánh đổ bạn. có thể bạn sẽ tuyệt vọng vô cùng trong một màn đêm tối tăm nào đó, cảm thấy rằng mặt trời sẽ chẳng bao giờ mọc lại nữa. nhưng bạn nên biết rằng: những điều đó đều không phải sự thật, thứ có thể đem lại hơi ấm không chỉ có những điều tốt đẹp khác.\n",
            "0.9364165645315431\n",
            "Input: 不 要 让 未 来 的 你 ， 讨 厌 现 在 的 自 己 ， 努 力 变 成 自 己 喜 欢 的 那 个 自 己 。 与 其 祈 求 生 活 平 淡 点 ， 还 不 如 自 己 强 大 点 。\n",
            "Predicted translation: đừng để bản thân bạn trong tương lai ghét bỏ chính bạn của hiện tại. hãy cố gắng biến thành một người mà bản thân yêu thích. thay vì ôm một mong chờ cuộc sống yên sóng lặng gió chi bằng tự khiến bản thân trở nên mạnh mẽ hơn.\n",
            "đừng để bản thân bạn trong tương lai ghét bỏ chính bạn của hiện tại. hãy cố gắng biến thành một người mà bản thân yêu thích. thay vì ôm một mong chờ cuộc sống yên sóng lặng gió chi bằng tự khiến bản thân trở nên mạnh mẽ hơn.\n",
            "đừng để bản thân bạn trong tương lai ghét bỏ chính bạn của hiện tại. hãy cố gắng biến thành một người mà bản thân yêu thích. thay vì ôm một mong chờ cuộc sống yên sóng lặng gió chi bằng tự khiến bản thân trở nên mạnh mẽ hơn.\n",
            "1.0\n",
            "Input: 不 论 今 天 多 么 困 难 ， 都 要 坚 信 ： 只 有 会 不 去 的 过 网 ， 没 有 到 不 了 的 明 天 。\n",
            "Predicted translation: cho dù ngày hôm nay có biết bao nhiêu khó khăn bạn cũng hãy kiên định một niềm tin: chỉ có một quá khứ không thể quay ngược trở lại chứ không có một ngày mai không bao giờ đến.\n",
            "cho dù ngày hôm nay có biết bao nhiêu khó khăn bạn cũng hãy kiên định một niềm tin: chỉ có một quá khứ không thể quay ngược trở lại chứ không có một ngày mai không bao giờ đến.\n",
            "cho dù ngày hôm nay có biết bao nhiêu khó khăn bạn cũng hãy kiên định một niềm tin: chỉ có một quá khứ không thể quay ngược trở lại chứ không có một ngày mai không bao giờ đến.\n",
            "1.0\n",
            "Input: 每 一 步 都 有 自 己 的 脚 印 ， 每 一 步 都 有 自 己 的 回 忆 ， 一 直 努 力 的 ， 不 要 太 看 重 现 在 的 结 果 ， 因 为 未 来 的 路 还 很 远 很 远 。\n",
            "Predicted translation: cho dù đã ngủ rất nhiều suy nghĩ, thức trong ngày không khí nào cũng có thể thúc ép được sự lãng quên tình lười nhất. có thể làm tốt hơn hàng đời. có thể làm tốt hơn bản thân mình được con đường mình qua mọi ngày đều có thể làm tốt sâu mà hãy làm tốt sâu mà không cần cố gắng được con đường đã từng bắt đầu quá khó khăn mình cố gắng tiến về phía trước cuộc sống của cuộc sống trong lòng ý nghĩa tốt nhưng chỉ cần cố gắng vừa mới có thể thao. vì cuộc sống mới có thể thao. có thể thao. vì cuộc sống mới có thể hiện tại một ngày đều phải trải qua một ngày đều phải trải nghiệm thường nguyên trong lớp học cách thử thách để đi nhưng mỗi ngày đều có thể làm tốt đẹp nhất.\n",
            "mỗi bước chân đi đều lưu lại dấu chân, mỗi bước chân đi đều để lại những ký ức. cứ tiếp tục cố gắng đi, đừng quá quan trọng về kết quả cuối cùng bởi vì con đường dẫn đến tương lai còn rất dài.\n",
            "cho dù đã ngủ rất nhiều suy nghĩ, thức trong ngày không khí nào cũng có thể thúc ép được sự lãng quên tình lười nhất. có thể làm tốt hơn hàng đời. có thể làm tốt hơn bản thân mình được con đường mình qua mọi ngày đều có thể làm tốt sâu mà hãy làm tốt sâu mà không cần cố gắng được con đường đã từng bắt đầu quá khó khăn mình cố gắng tiến về phía trước cuộc sống của cuộc sống trong lòng ý nghĩa tốt nhưng chỉ cần cố gắng vừa mới có thể thao. vì cuộc sống mới có thể thao. có thể thao. vì cuộc sống mới có thể hiện tại một ngày đều phải trải qua một ngày đều phải trải nghiệm thường nguyên trong lớp học cách thử thách để đi nhưng mỗi ngày đều có thể làm tốt đẹp nhất.\n",
            "0.1840671489094059\n",
            "Input: 时 间 让 我 们 看 清 什 么 是 真 ， 什 么 是 假 。 对 我 好 的 我 会 珍 惜 ， 对 我 不 好 的 我 会 远 离 。 未 来 的 路 ， 我 会 继 续 努 力 ， 也 许 你 很 牛 ， 但 我 未 必 在 意 。\n",
            "Predicted translation: thời gian giúp chúng ta nhận ra đâu là thật, đâu là giả. ai đối tốt với tôi thì tôi sẽ trân trọng, ai không tốt với tôi sẽ tự giác tránh xa. trên con đường tới tương lai, tôi sẽ tiếp tục cố gắng. có thể bạn rất giỏi nhưng tôi chẳng bận tâm.\n",
            "thời gian giúp chúng ta nhận ra đâu là thật, đâu là giả. ai đối tốt với tôi thì tôi sẽ trân trọng, ai không tốt với tôi thì tôi sẽ tự giác tránh xa. trên con đường tới tương lai, tôi sẽ tiếp tục cố gắng. có thể bạn rất giỏi nhưng tôi chẳng bận tâm.\n",
            "thời gian giúp chúng ta nhận ra đâu là thật, đâu là giả. ai đối tốt với tôi thì tôi sẽ trân trọng, ai không tốt với tôi sẽ tự giác tránh xa. trên con đường tới tương lai, tôi sẽ tiếp tục cố gắng. có thể bạn rất giỏi nhưng tôi chẳng bận tâm.\n",
            "0.9503443718450195\n",
            "Input: 未 来 ， 就 是 你 站 在 茫 茫 大 海 的 这 一 边 ， 遥 望 着 海 的 那 一 边 ， 充 满 好 奇 心 ， 憧 憬 着 对 海 那 边 的 向 往 。 正 是 对 未 知 的 不 了 解 与 向 往 ， 所 以 有 了 去 追 逐 未 来 的 勇 气 。\n",
            "Predicted translation: hãy sống bằng cả trái tim này. đừng trải qua những người ta sẽ chẳng bao giờ bước về phía trước. bạn của ước mơ luôn có một phần, đừng cần cố gắng từng bước từng bước từng bước từng bước đến phía trước. cho ước mơ của bạn nỗ hiện rằng: chỉ cần như thế nào mà chẳng có ai khác, nhưng vẫn phải tin tưởng gì đối với cuộc sống của một trái tim xung quanh biết ánh hào hào quang của những điều muốn sống của cuộc đời mình được ở phía trước một cuộc đời mình còn muốn được ở phía trước.\n",
            "tương lai là khi bạn đứng ở bên này của biển cả mênh mông trông ngóng về phía bên kia, tràn đầy lòng hiếu kỳ và hướng về phía bên kia của biển cả. chính bởi chúng ta không hiểu về những điều chưa xảy đến nên mới đủ dũng cảm đuổi theo tương lai.\n",
            "hãy sống bằng cả trái tim này. đừng trải qua những người ta sẽ chẳng bao giờ bước về phía trước. bạn của ước mơ luôn có một phần, đừng cần cố gắng từng bước từng bước từng bước từng bước đến phía trước. cho ước mơ của bạn nỗ hiện rằng: chỉ cần như thế nào mà chẳng có ai khác, nhưng vẫn phải tin tưởng gì đối với cuộc sống của một trái tim xung quanh biết ánh hào hào quang của những điều muốn sống của cuộc đời mình được ở phía trước một cuộc đời mình còn muốn được ở phía trước.\n",
            "0.21549094185430906\n",
            "Input: 不 要 轻 易 把 梦 想 寄 托 在 某 个 人 身 上 ， 也 不 要 在 乎 身 边 的 闲 言 碎 语 ， 因 为 未 来 是 你 自 己 的 ， 不 是 你 能 不 能 ， 而 是 你 要 不 要 ！ 每 天 给 自 己 完 美 的 交 代 ， 为 自 己 而 努 力 。\n",
            "Predicted translation: đừng có tùy tiện lấy ước mơ của bản thân gửi gắm vào một ai khác, cũng đừng quá bận tâm đến những lời nói gió bay, bởi vì tương lai thuộc về bạn. không phải là bạn có thể hay không mà là bạn có muốn hay không. mỗi ngày hãy làm những điều tốt để xứng đáng với bản thân, hãy vì chính mình mà không ngừng cố gắng.\n",
            "đừng có tùy tiện lấy ước mơ của bản thân gửi gắm vào một ai khác, cũng đừng quá bận tâm đến những lời nói gió bay, bởi vì tương lai thuộc về bạn. không phải là bạn có thể hay không mà là bạn có muốn hay không. mỗi ngày hãy làm những điều tốt để xứng đáng với bản thân, hãy vì chính mình mà không ngừng cố gắng.\n",
            "đừng có tùy tiện lấy ước mơ của bản thân gửi gắm vào một ai khác, cũng đừng quá bận tâm đến những lời nói gió bay, bởi vì tương lai thuộc về bạn. không phải là bạn có thể hay không mà là bạn có muốn hay không. mỗi ngày hãy làm những điều tốt để xứng đáng với bản thân, hãy vì chính mình mà không ngừng cố gắng.\n",
            "1.0\n",
            "Input: 每 个 人 生 阶 段 ， 都 需 要 做 不 同 的 选 择 。 没 有 人 需 要 做 永 远 相 同 的 决 定 。 曾 经 的 错 ， 或 许 将 来 是 对 的 。 曾 经 的 对 ， 却 是 未 来 要 放 弃 的 。 不 要 为 此 而 惆 怅 ， 不 是 你 变 了 ， 而 是 你 提 升 了 。 变 好 ， 是 人 生 最 好 的 变 化 。\n",
            "Predicted translation: khi bạn tha thiết có nỗi tâm không thể vô hiện mà tức khổ tưởng đến bầu bày thích đi. cho dù bạn sẽ có những gì mình muốn biết tốt của đời trong cuộc sống mới khiến bạn sẽ có những gì mình muốn đi thì người quen cho đến cuối cùng bạn của nó. thay mọi thứ chỉ cần thiết phải luôn tràn đầy hy vọng của nó.\n",
            "mỗi một giai đoạn cuộc đời đều cần đưa ra những sự lựa chọn không giống nhau. chẳng có ai có thể quyết định một lần cho nhiều thời điểm khác nhau. những sai lầm trong quá khứ có thể tương lai lại là đúng. những điều đúng đắn trong quá khứ có khi tương lai sẽ phải từ bỏ. đừng vì vậy mà cảm thấy thất vọng. không phải bạn thay đổi mà là bạn đã hoàn thiện hơn. trở nên tốt hơn là sự thay đổi tốt nhất của đời người.\n",
            "khi bạn tha thiết có nỗi tâm không thể vô hiện mà tức khổ tưởng đến bầu bày thích đi. cho dù bạn sẽ có những gì mình muốn biết tốt của đời trong cuộc sống mới khiến bạn sẽ có những gì mình muốn đi thì người quen cho đến cuối cùng bạn của nó. thay mọi thứ chỉ cần thiết phải luôn tràn đầy hy vọng của nó.\n",
            "0.18487206090814903\n",
            "Input: 你 所 浪 费 的 今 天 ， 是 许 多 人 奢 望 的 明 天 ； 你 所 厌 恶 的 现 在 ， 是 未 来 的 你 回 不 去 的 曾 经 。 人 生 最 可 悲 的 事 情 ， 莫 过 于 胸 怀 大 志 ， 却 又 虚 渡 光 阴 。\n",
            "Predicted translation: bất kể ngày hôm nay bạn đang lãng phí có thể là một cái mai nhưng đang lãng phí ngày hôm nay khác. hiện tại mà hiện tại mà bạn đang ghét bỏ chính là những gì ngoài trong tay bạn muốn quyết định nhất của đời người còn có thể là hôm nay không. điều đáng hơn biến thành giao qua.\n",
            "ngày hôm nay mà bạn đang lãng phí có thể là một cái mai xa xỉ đối với những người khác. hiện tại mà bạn đang ghét bỏ sẽ là những gì mà tương lai bạn muốn cũng không thể quay lại được. điều đáng thương nhất của đời người còn có thể là gì ngoài việc trong lòng mang chí lớn nhưng đang phí hoài thời gian.\n",
            "bất kể ngày hôm nay bạn đang lãng phí có thể là một cái mai nhưng đang lãng phí ngày hôm nay khác. hiện tại mà hiện tại mà bạn đang ghét bỏ chính là những gì ngoài trong tay bạn muốn quyết định nhất của đời người còn có thể là hôm nay không. điều đáng hơn biến thành giao qua.\n",
            "0.396424924111309\n",
            "Input: 你 未 来 的 命 运 是 有 你 现 在 所 做 的 一 切 所 决 定 的 ， 根 本 掌 握 在 自 己 的 手 里 ， 别 人 是 不 能 左 右 的 。 别 人 能 够 给 予 我 们 的 只 能 是 外 界 的 一 些 帮 助 ， 最 终 还 要 靠 自 己 站 起 来 。 与 其 埋 怨 命 运 ， 不 如 反 思 自 己 ； 与 其 依 靠 别 人 ， 不 如 强 大 自 己 。\n",
            "Predicted translation: tương lai của bạn là do những gì bạn làm ngày hôm nay quyết định. điều đó hoàn toàn nằm trong tay bạn và người khác chẳng tài nào có thể thay đổi nó. những gì người khác có thể dành cho đến cuối cùng bạn vẫn phải dành cho đến cuối cùng bạn vẫn phải tự dựa dẫm vào bản thân mà vùng dậy. thay vì oán than số phận, thay vì oán than số phận, chi bằng hãy tự suy ngẫm lại bản thân đã đủ tốt chưa. thay vì dựa dẫm vào người khác, thay vì dựa dẫm vào bản thân mình mạnh mẽ hơn.\n",
            "tương lai của bạn là do những gì bạn làm ngày hôm nay quyết định. điều đó hoàn toàn nằm trong tay bạn và người khác chẳng tài nào có thể thay đổi nó. những gì người khác có thể dành cho ta chỉ là một vài sự giúp đỡ bên ngoài mà thôi. cho đến cuối cùng bạn vẫn phải tự dựa vào bản thân mà vùng dậy. thay vì oán than số phận, chi bằng hãy tự suy ngẫm lại bản thân đã đủ tốt chưa. thay vì dựa dẫm vào người khác, chi bằng hãy tự làm cho bản thân mình mạnh mẽ hơn.\n",
            "tương lai của bạn là do những gì bạn làm ngày hôm nay quyết định. điều đó hoàn toàn nằm trong tay bạn và người khác chẳng tài nào có thể thay đổi nó. những gì người khác có thể dành cho đến cuối cùng bạn vẫn phải dành cho đến cuối cùng bạn vẫn phải tự dựa dẫm vào bản thân mà vùng dậy. thay vì oán than số phận, thay vì oán than số phận, chi bằng hãy tự suy ngẫm lại bản thân đã đủ tốt chưa. thay vì dựa dẫm vào người khác, thay vì dựa dẫm vào bản thân mình mạnh mẽ hơn.\n",
            "0.7782524467312851\n",
            "Input: 人 生 都 是 走 着 走 着 就 开 化 了 ， 现 在 的 你 ， 不 用 着 急 。 让 未 来 的 ， 本 就 该 属 于 你 的 树 再 长 长 ， 那 些 花 再 开 开 ， 等 你 遇 见 的 时 候 ， 才 是 他 们 最 美 的 时 候 。\n",
            "Predicted translation: đời người cứ đi mãi tự khắc sẽ trở nên bao la. bạn của hiện tại không cần nóng vội. hãy để cho các cây thuộc về bạn trong tương lai lớn thêm chút nữa, những bông hoa nở rộ nhiều chút nữa, cho đến khi bạn gặp chúng mới là lúc chúng mới là lúc chúng đẹp nhất.\n",
            "đời người cứ đi mãi đi mãi tự khắc sẽ trở nên bao la. bạn của hiện tại không cần nóng vội. hãy để cho các cây thuộc về bạn trong tương lai lớn thêm chút nữa, những bông hoa nở rộ nhiều chút nữa, cho đến khi bạn gặp chúng mới là lúc chúng đẹp nhất.\n",
            "đời người cứ đi mãi tự khắc sẽ trở nên bao la. bạn của hiện tại không cần nóng vội. hãy để cho các cây thuộc về bạn trong tương lai lớn thêm chút nữa, những bông hoa nở rộ nhiều chút nữa, cho đến khi bạn gặp chúng mới là lúc chúng mới là lúc chúng đẹp nhất.\n",
            "0.9259017432778043\n",
            "Input: 直 到 很 多 年 后 ， 经 历 时 光 和 世 事 ， 某 一 刻 才 突 然 明 白 ， 原 来 ， 我 们 这 一 生 ， 社 会 经 历 很 多 坎 坷 和 选 择 的 ， 脚 下 走 的 每 一 步 路 ， 都 与 未 来 息 息 相 关 。\n",
            "Predicted translation: cho đến mãi sau này, khi đã trải qua những quãng thời gian dài và thế sự gian nan, vào một khoảnh khắc nào đó mới chợt hiểu ra, thì ra: cuộc đời này, chúng ta sẽ phải trải qua rất nhiều khó khăn và lựa chọn, mỗi con đường ta đã đi qua đều liên quan mật thiết đến tương lai của bản thân.\n",
            "cho đến mãi sau này, khi đã trải qua những quãng thời gian dài và thế sự gian nan, vào một khoảnh khắc nào đó mới chợt hiểu ra, thì ra: cuộc đời này, chúng ta sẽ phải trải qua rất nhiều khó khăn và lựa chọn, mỗi con đường ta đã đi qua đều liên quan mật thiết đến tương lai của bản thân.\n",
            "cho đến mãi sau này, khi đã trải qua những quãng thời gian dài và thế sự gian nan, vào một khoảnh khắc nào đó mới chợt hiểu ra, thì ra: cuộc đời này, chúng ta sẽ phải trải qua rất nhiều khó khăn và lựa chọn, mỗi con đường ta đã đi qua đều liên quan mật thiết đến tương lai của bản thân.\n",
            "1.0\n",
            "Input: 未 来 的 某 一 刻 ， 你 终 会 原 谅 所 有 伤 害 过 你 的 人 。 无 论 多 么 痛 ， 多 么 不 堪 ， 等 你 活 得 更 好 的 时 候 ， 你 会 发 现 ， 是 他 们 让 你 此 刻 的 幸 福 更 有 厚 度 ， 更 弥 足 珍 贵 。 没 有 仇 恨 ， 只 有 一 些 云 淡 风 轻 的 记 忆 ， 以 及 残 存 的 美 好 ， 不 必 感 谢 他 们 ， 但 他 们 每 个 人 都 变 成 你 人 生 的 一 个 意 义 ， 在 该 出 现 的 地 方 出 现 过 ， 造 就 了 你 未 来 的 不 一 样 。\n",
            "Predicted translation: đời người như vậy, chẳng qua chỉ làm cái chớp mắt là biết. khi bạn có đôi mắt vì bạn có vẻ của hiện tại trong tay bạn và tốt hơn một bộ tiếp tục nhận ra lòng suy nhận lại khiến bạn trở nên xa lạ vô cùng. hãy làm cho thật vui cũng chẳng thể ép cuộc đời người khác mang lạnh với bản thân mình mà thôi.\n",
            "một khoảnh khắc nào đó trong tương lai, bạn rồi cũng sẽ tha thứ cho tất cả những người đã làm tổn thương bạn. cho dù có đau đớn thế nào, có khó chịu đến thế nào, đợi đến khi bạn sống tốt hơn thì sẽ phát hiện ra: họ đã khiến cho hạnh phúc của bạn trong giây phút đó càng thêm nồng độ và càng thêm đáng quý. không có thù hận, chỉ có những ký ức mờ nhạt như gió mây, và những điều tốt đẹp còn sót lại. không cần phải cảm ơn họ, nhưng mỗi người trong số họ đều trở thành những điều có ý nghĩa trong cuộc đời bạn, xuất hiện tại những nơi cần xuất hiện và tạo nên những điều khác biệt cho tương lai của bạn.\n",
            "đời người như vậy, chẳng qua chỉ làm cái chớp mắt là biết. khi bạn có đôi mắt vì bạn có vẻ của hiện tại trong tay bạn và tốt hơn một bộ tiếp tục nhận ra lòng suy nhận lại khiến bạn trở nên xa lạ vô cùng. hãy làm cho thật vui cũng chẳng thể ép cuộc đời người khác mang lạnh với bản thân mình mà thôi.\n",
            "0.15062307231350625\n",
            "Input: 唯 一 能 和 你 媲 美 的 ， 是 明 天 到 你 1 0 年 前 你 是 谁 ？ 一 年 前 你 是 谁 ？ 甚 至 昨 天 你 是 谁 ？ 都 不 重 要 。 今 天 你 是 谁 ， 以 及 明 天 你 将 成 为 谁 。\n",
            "Predicted translation: người xuất sắc đó sẽ là bạn ngày mai 10 năm trước bạn là ai một năm trước bạn là ai thậm chí ngày hôm qua bạn là ai tất cả đều không quan trọng. điều quan trọng là hôm nay bạn là ai và ngày mai bạn sẽ trở thành người như thế nào.\n",
            "người xuất sắc đó sẽ là bạn ngày mai 10 năm trước bạn là ai một năm trước bạn là ai thậm chí ngày hôm qua bạn là ai tất cả đều không quan trọng. điều quan trọng là hôm nay bạn là ai và ngày mai bạn sẽ trở thành người như thế nào.\n",
            "người xuất sắc đó sẽ là bạn ngày mai 10 năm trước bạn là ai một năm trước bạn là ai thậm chí ngày hôm qua bạn là ai tất cả đều không quan trọng. điều quan trọng là hôm nay bạn là ai và ngày mai bạn sẽ trở thành người như thế nào.\n",
            "1.0\n",
            "Input: 希 望 是 本 无 所 谓 有 ， 无 所 谓 无 的 。 这 正 如 地 上 的 路 ， 其 实 地 上 本 没 有 路 ， 走 的 人 多 了 ， 也 便 成 了 路 。 有 了 梦 想 ， 就 要 不 断 去 追 逐 。 这 样 ， 梦 想 才 有 可 能 实 现 。\n",
            "Predicted translation: đời người luôn có là một cuộc sống không thể làm được trung, không thể làm việc nào cũng được nóng. đừng làm việc nào cũng không thể làm những điều gì mình mong muốn được thực hiện lấy nước lòng rồi cũng chẳng có ai khác. trong tay rồi cũng chẳng có ai thiếu rồi cũng không có ai thiếu bởi vì cuộc sống đến nước nào cũng chẳng có ai thiếu hơn một ai khác. trên thế giới vật vật vật vật vật vật vật vật vật vật vật vật vật vật vật vật vật vật vật vật vật vật vật vật vật vật vật vật vật vật vật vật vật vật vật vật vật vật vật vật vật vật vật vật vật vật vật vật vật vật vật vật vật vật vật vật vật vật vật vật vật vật vật vật vật vật vật vật vật vật vật vật vật vật vật vật vật vật vật vật vật vật vật vật vật vật vật vật vật vật vật vật vật vật vật vật vật vật vật vật vật vật vật vật vật vật vật vật vật vật vật vật vật vật vật vật vật của một người khác thì sẽ chẳng có một ai thiếu và đã có một người khác cũng không có một kẻ thay.\n",
            "hy vọng bản thân nó vốn chẳng có gì nhưng đồng thời bạn có thể hy vọng bất cứ điều gì. cũng giống như những con đường, thực ra trên đời này làm gì có đường, người ta đi mãi rồi cũng thành đường thôi. có ước mơ thì phải không ngừng cố gắng theo đuổi. có như vậy ước mơ mới có thể thành sự thật.\n",
            "đời người luôn có là một cuộc sống không thể làm được trung, không thể làm việc nào cũng được nóng. đừng làm việc nào cũng không thể làm những điều gì mình mong muốn được thực hiện lấy nước lòng rồi cũng chẳng có ai khác. trong tay rồi cũng chẳng có ai thiếu rồi cũng không có ai thiếu bởi vì cuộc sống đến nước nào cũng chẳng có ai thiếu hơn một ai khác. trên thế giới vật vật vật vật vật vật vật vật vật vật vật vật vật vật vật vật vật vật vật vật vật vật vật vật vật vật vật vật vật vật vật vật vật vật vật vật vật vật vật vật vật vật vật vật vật vật vật vật vật vật vật vật vật vật vật vật vật vật vật vật vật vật vật vật vật vật vật vật vật vật vật vật vật vật vật vật vật vật vật vật vật vật vật vật vật vật vật vật vật vật vật vật vật vật vật vật vật vật vật vật vật vật vật vật vật vật vật vật vật vật vật vật vật vật vật vật vật của một người khác thì sẽ chẳng có một ai thiếu và đã có một người khác cũng không có một kẻ thay.\n",
            "0.17383870184965997\n",
            "Input: 星 空 之 下 ， 坐 着 旋 转 木 马 ， 我 没 有 放 弃 ， 那 个 一 生 的 梦 想 ， 我 还 在 追 寻 ， 靠 自 己 的 翅 膀 ， 飞 上 星 空 ； 看 到 自 己 的 文 字 ， 写 下 绚 烂 ； 靠 自 己 的 力 量 ， 实 现 梦 想 。 我 曾 经 的 世 界 支 离 破 碎 ， 作 为 交 换 ， 我 现 在 的 世 界 阳 光 明 媚 。\n",
            "Predicted translation: hãy tin rằng khi thời gian rồi có một trái tim rồi xa xa xa xa xa xa xa xa xa xa xa xa xa xa nhưng trên thế muốn chẳng có một trái tim đã có một trái tim đã làm gì con gái mà bắt đầu dũng cảm giác trở nên gần, không phức đợi bản thân trở nên bao giờ làm gì một trái tim xung quanh có thể từ bỏ bản thân chẳng có ai dũng cảm giác trở nên biết được chôn sắc của tôi sẽ chẳng bao giờ cố gắng được chôn nhất định cố gắng ánh hào quang của ngày qua thì tôi không ngừng khiêm : ước mơ.\n",
            "dưới bầu trời rộng lớn, ngồi trên vòng quay ngựa gỗ, tôi không bỏ cuộc đâu. ước mơ cả đời của tôi, tôi vẫn sẽ luôn kiếm tìm và dựa vào đôi cánh của bản thân mình bay lên thật cao. dựa vào những con chữ mà vẽ lên những sắc màu. dựa vào sức mạnh mà thực hiện ước mơ trong quá khứ. thế giới của tôi đã từng là 1 đống vụn vỡ, đổi lại, thế giới hiện tại của tôi tràn đầy ánh mặt trời tươi sáng.\n",
            "hãy tin rằng khi thời gian rồi có một trái tim rồi xa xa xa xa xa xa xa xa xa xa xa xa xa xa nhưng trên thế muốn chẳng có một trái tim đã có một trái tim đã làm gì con gái mà bắt đầu dũng cảm giác trở nên gần, không phức đợi bản thân trở nên bao giờ làm gì một trái tim xung quanh có thể từ bỏ bản thân chẳng có ai dũng cảm giác trở nên biết được chôn sắc của tôi sẽ chẳng bao giờ cố gắng được chôn nhất định cố gắng ánh hào quang của ngày qua thì tôi không ngừng khiêm : ước mơ.\n",
            "0.24865865867464035\n",
            "Input: 许 多 人 告 诉 我 ， 梦 想 终 归 是 梦 想 ， 实 现 梦 想 的 人 终 归 是 少 数 ， 可 我 不 喜 欢 这 样 的 话 ， 因 为 这 样 的 话 对 我 和 我 的 梦 想 毫 无 意 义 ， 只 会 令 我 距 离 我 的 梦 想 更 加 遥 远 。 最 终 我 发 现 ， 多 少 担 忧 ， 规 劝 ， 阻 拦 ， 否 认 的 话 都 不 能 令 我 开 心 ， 反 而 会 令 我 感 到 委 屈 ， 沮 丧 ， 忧 郁 和 不 快 ， 我 总 是 质 疑 那 些 劝 慰 和 解 释 ， 因 为 我 似 乎 总 是 乐 于 相 信 这 世 间 那 另 一 半 光 明 的 存 在 。\n",
            "Predicted translation: có nhiều người nói với tôi ước mơ suy cho cùng cũng chỉ là ước mơ. những người thực hiện hóa ước mơ được ít lắm. nhưng tôi không thích những lời nói đó, bởi những lời như vậy chẳng có ý nghĩa gì đối với ước mơ của tôi cả mà chỉ càng khiến cho ước mơ trở nên xa vời với tôi. cuối cùng tôi phát hiện ra rằng: bao nhiêu lời nói hài hước, ngăn cản, khuyên nhủ, lo lắng cũng không thể làm tôi vui mà ngược lại chỉ càng khiến tôi cảm thấy oan ức, nản lòng, buồn phiền và chán nản. tôi luôn hoài nghi những lời khuyên an ủi và chán nản. tôi luôn hoài nghi thành sự tồn tại ánh hào quang của tôi luôn vui vẻ đẹp nhất. tôi luôn vui vẻ đẹp của tôi luôn vui vẻ đẹp nhất. tôi luôn hoài nghi những lời khuyên an ủi và chán nản. tôi luôn vui vẻ của tôi luôn vui vẻ với việc tin tưởng vào sự tồn tại ánh hào quang của tôi luôn vui vẻ với nửa còn thấy oan ức, buồn phiền tiếng trung.\n",
            "có nhiều người nói với tôi ước mơ suy cho cùng cũng chỉ là ước mơ. những người thực hiện hóa ước mơ được ít lắm. nhưng tôi không thích những lời nói đó, bởi những lời như vậy chẳng có ý nghĩa gì đối với ước mơ của tôi cả mà chỉ càng khiến cho ước mơ trở nên xa vời với tôi. cuối cùng tôi phát hiện ra rằng: bao nhiêu lời nói hài hước, ngăn cản, khuyên nhủ, lo lắng cũng không thể làm tôi vui mà ngược lại chỉ càng khiến tôi cảm thấy oan ức, nản lòng, buồn phiền và chán nản. tôi luôn hoài nghi những lời khuyên an ủi và giải thích kia bởi vì dường như tôi luôn vui vẻ với việc tin tưởng vào sự tồn tại ánh hào quang của một nửa còn lại của thế gian này.\n",
            "có nhiều người nói với tôi ước mơ suy cho cùng cũng chỉ là ước mơ. những người thực hiện hóa ước mơ được ít lắm. nhưng tôi không thích những lời nói đó, bởi những lời như vậy chẳng có ý nghĩa gì đối với ước mơ của tôi cả mà chỉ càng khiến cho ước mơ trở nên xa vời với tôi. cuối cùng tôi phát hiện ra rằng: bao nhiêu lời nói hài hước, ngăn cản, khuyên nhủ, lo lắng cũng không thể làm tôi vui mà ngược lại chỉ càng khiến tôi cảm thấy oan ức, nản lòng, buồn phiền và chán nản. tôi luôn hoài nghi những lời khuyên an ủi và chán nản. tôi luôn hoài nghi thành sự tồn tại ánh hào quang của tôi luôn vui vẻ đẹp nhất. tôi luôn vui vẻ đẹp của tôi luôn vui vẻ đẹp nhất. tôi luôn hoài nghi những lời khuyên an ủi và chán nản. tôi luôn vui vẻ của tôi luôn vui vẻ với việc tin tưởng vào sự tồn tại ánh hào quang của tôi luôn vui vẻ với nửa còn thấy oan ức, buồn phiền tiếng trung.\n",
            "0.6733085622596919\n",
            "Input: 梦 想 不 抛 弃 苦 心 追 求 的 人 ， 只 要 不 停 止 求 追 求 ， 终 究 会 沐 浴 在 梦 想 的 光 辉 之 中 。\n",
            "Predicted translation: ước mơ sẽ không phụ lại những người khổ tâm toàn sức theo đuổi nó. chỉ cần bạn không ngừng cố gắng theo đuổi rồi có một ngày nhất định sẽ được đắm mình trong ánh hào quang của ước mơ.\n",
            "ước mơ sẽ không phụ lại những người khổ tâm toàn sức theo đuổi nó. chỉ cần bạn không ngừng cố gắng theo đuổi rồi có một ngày nhất định sẽ được đắm mình trong ánh hào quang của ước mơ.\n",
            "ước mơ sẽ không phụ lại những người khổ tâm toàn sức theo đuổi nó. chỉ cần bạn không ngừng cố gắng theo đuổi rồi có một ngày nhất định sẽ được đắm mình trong ánh hào quang của ước mơ.\n",
            "1.0\n",
            "Input: 梦 想 如 晨 星 ， 我 们 永 不 能 触 到 ， 但 我 们 可 像 航 海 者 一 样 ， 借 星 光 的 位 置 而 航 行 。 用 强 烈 欲 望 作 为 达 成 梦 想 的 后 盾 ， 使 欲 望 变 得 狂 热 ， 让 它 成 为 你 脑 中 最 重 要 的 一 件 事 。\n",
            "Predicted translation: hãy để chúng ta làm chủ lấy tuổi trẻ của mình và học theo những cánh chim hải âu tung bay trên mây, chính bản thân. chỉ cần bạn không được những gì trong cái gì trong thâm liệu tự cố gắng làm đau lòng bạn.\n",
            "ước mơ như ánh sao sớm, chúng ta vĩnh viễn sẽ chẳng thể chạm đến được. nhưng chúng ta có thể giống như những người làm nghề hàng hải, mượn vị trí ánh sao trên trời để vận hành con tàu. hãy biến khát khao mãnh liệt trở thành hậu phương vững chắc để đạt được ước mơ, khiến cho những khát khao trở nên cuồng nhiệt và biến nó trở thành một điều quan trọng nhất tồn tại trong não của bạn.\n",
            "hãy để chúng ta làm chủ lấy tuổi trẻ của mình và học theo những cánh chim hải âu tung bay trên mây, chính bản thân. chỉ cần bạn không được những gì trong cái gì trong thâm liệu tự cố gắng làm đau lòng bạn.\n",
            "0.1259416646399676\n",
            "Input: 我 们 要 有 执 着 追 求 的 梦 想 ， 要 让 原 本 白 纸 般 的 生 命 开 出 五 彩 斑 斓 的 花 朵 ， 回 首 以 往 ， 使 得 内 心 盛 满 充 实 与 感 动 。\n",
            "Predicted translation: chúng ta phải cố gắng kiên trì theo đuổi ước mơ của mình. hãy để cuộc đời của mình trong trang giấy trắng tinh được kết thành những bông hoa rực rỡ sắc màu, để rồi khi ta ngoảnh đầu nhìn lại, trái tim ta lại có cảm giác kiêu hãnh và cảm động.\n",
            "chúng ta phải cố gắng kiên trì theo đuổi ước mơ của mình. hãy để cuộc đời của mình trong trang giấy trắng tinh được kết thành những bông hoa rực rỡ sắc màu, để rồi khi ta ngoảnh đầu nhìn lại, trái tim ta lại có cảm giác kiêu hãnh và cảm động.\n",
            "chúng ta phải cố gắng kiên trì theo đuổi ước mơ của mình. hãy để cuộc đời của mình trong trang giấy trắng tinh được kết thành những bông hoa rực rỡ sắc màu, để rồi khi ta ngoảnh đầu nhìn lại, trái tim ta lại có cảm giác kiêu hãnh và cảm động.\n",
            "1.0\n",
            "Input: 久 不 实 现 的 愿 望 也 成 了 梦 想 ， 成 了 夙 愿 ， 成 了 心 中 的 痛 。 然 而 我 依 然 相 信 ， 依 然 执 着 于 我 的 梦 想 。 把 眼 泪 种 在 心 上 ， 会 开 出 勇 敢 的 花 ， 可 以 在 疲 惫 的 时 光 ， 闭 上 眼 睛 闻 到 芬 芳 。\n",
            "Predicted translation: ta yêu vẫn tin tưởng, rồi trở thành đóa hoa lên kia mình\n",
            "những mong muốn lâu ngày không thể thực hiện rồi cũng sẽ trở thành những ước mơ. những ý nguyện xưa cũ trở thành một nỗi đau trong tim. thế nhưng tôi vẫn tin tưởng, vẫn cố chấp giữ lấy ước mơ của bản thân, gieo trồng hạt giống nước mắt trong tim. rồi mọi thứ sẽ kết ra những đóa hoa của lòng dũng cảm. khi mệt mỏi rồi có thể khép đôi mắt tận hưởng trọn vẹn cái hương thơm này.\n",
            "ta yêu vẫn tin tưởng, rồi trở thành đóa hoa lên kia mình\n",
            "0.0016949208609793325\n",
            "Input: 在 你 的 生 命 中 ， 不 要 让 别 人 来 告 诉 你 ， 你 做 不 到 。 如 果 你 有 一 个 梦 想 ， 并 对 它 满 怀 激 情 ， 你 一 定 要 保 护 它 。 当 别 人 做 不 到 一 件 事 实 ， 他 们 就 会 告 诉 你 你 也 做 不 到 ； 但 这 不 是 事 实 。 别 人 的 永 远 都 不 会 绝 对 发 生 在 你 身 上 。\n",
            "Predicted translation: trong cuộc sống của riêng bạn, đừng bao giờ để người khác đến và bảo rằng bạn không làm được. nếu như bạn có một ước mơ và tràn đầy khát khao với nó bạn nhất định phải luôn kiên trì bảo vệ lấy nó. người khác không thực hiện được sẽ luôn cho rằng bạn cũng không làm nổi, nhưng đó không phải sự thật đâu.\n",
            "trong cuộc sống của riêng bạn, đừng bao giờ để người khác đến và bảo rằng bạn không làm được. nếu như bạn có một ước mơ và tràn đầy khát khao với nó bạn nhất định phải luôn kiên trì bảo vệ lấy nó. người khác không thực hiện được sẽ luôn cho rằng bạn cũng không làm nổi, nhưng đó không phải sự thật đâu.\n",
            "trong cuộc sống của riêng bạn, đừng bao giờ để người khác đến và bảo rằng bạn không làm được. nếu như bạn có một ước mơ và tràn đầy khát khao với nó bạn nhất định phải luôn kiên trì bảo vệ lấy nó. người khác không thực hiện được sẽ luôn cho rằng bạn cũng không làm nổi, nhưng đó không phải sự thật đâu.\n",
            "1.0\n",
            "Input: 成 功 需 要 八 个 \" 从 不 \" ： 从 不 放 弃 梦 想 ， 从 不 懈 怠 努 力 ， 从 不 遗 忘 友 情 ， 从 不 疏 忽 联 系 ， 从 不 错 过 信 息 ， 从 不 松 开 坚 持 ， 从 不 迷 茫 目 标 ， 从 不 三 心 二 意 。\n",
            "Predicted translation: thành công cần có tám điều \"đừng bao giờ\": đừng bao giờ từ bỏ ước mơ; đừng bao giờ lười cố gắng, đừng bao giờ lãng quên tình bạn, đừng bao giờ thả lỏng lòng kiên trì, đừng bao giờ đánh mất mục tiêu và đừng bao giờ thả lỏng lòng kiên trì, đừng bao giờ đánh mất mục tiêu và đừng bao giờ chần chừ do dự.\n",
            "thành công cần có tám điều \"đừng bao giờ\": đừng bao giờ từ bỏ ước mơ; đừng bao giờ lười cố gắng, đừng bao giờ lãng quên tình bạn, đừng bao giờ lơ là các mối quan hệ, đừng bao giờ bỏ lỡ tin tức, đừng bao giờ thả lỏng lòng kiên trì, đừng bao giờ đánh mất mục tiêu và đừng bao giờ chần chừ do dự.\n",
            "thành công cần có tám điều \"đừng bao giờ\": đừng bao giờ từ bỏ ước mơ; đừng bao giờ lười cố gắng, đừng bao giờ lãng quên tình bạn, đừng bao giờ thả lỏng lòng kiên trì, đừng bao giờ đánh mất mục tiêu và đừng bao giờ thả lỏng lòng kiên trì, đừng bao giờ đánh mất mục tiêu và đừng bao giờ chần chừ do dự.\n",
            "0.8030401783318881\n",
            "Input: 如 果 你 要 做 一 件 事 ， 请 不 要 炫 耀 ， 也 不 要 宣 扬 ， 只 管 安 安 静 静 地 去 做 。 因 为 那 是 你 自 己 的 事 ， 别 人 不 知 道 你 的 情 况 ， 也 不 可 能 帮 你 去 实 现 。 千 万 不 要 因 为 虚 荣 心 而 炫 耀 。 也 不 要 因 为 别 人 的 一 句 评 价 而 放 弃 自 己 的 梦 想 。 其 实 最 好 的 状 态 ， 是 坚 持 自 己 的 梦 想 ， 听 听 前 辈 的 建 议 ， 少 错 几 步 。 值 不 值 ， 时 间 是 最 好 的 证 明 。\n",
            "Predicted translation: nếu như bạn muốn làm việc gì đó xin đừng tự huênh hoang, cũng đừng vội khoe với ai, chỉ cần âm thầm mà thực hiện. bởi vì đó là việc của riêng bạn, người khác không biết đến hoàn cảnh của bạn, cũng không thể giúp bạn thực hiện điều đó. tuyệt đối xin đừng vì hư vinh mà khoe khoang khoác lác. cũng đừng vì những lời bình phẩm đánh giá của người đời mà vứt bỏ ước mơ của bản thân. thực ra trạng thái ổn định nhất chính là luôn kiên trì theo đuổi ước mơ và lắng nghe ý kiến của người đi trước. con về việc có đáng hay không thì hãy để thời gian chứng minh.\n",
            "nếu như bạn muốn làm việc gì đó xin đừng tự huênh hoang, cũng đừng vội khoe với ai, chỉ cần âm thầm mà thực hiện. bởi vì đó là việc của riêng bạn, người khác không biết đến hoàn cảnh của bạn, cũng không thể giúp bạn thực hiện điều đó. tuyệt đối xin đừng vì hư vinh mà khoe khoang khoác lác. cũng đừng vì những lời bình phẩm đánh giá của người đời mà vứt bỏ ước mơ của bản thân. thực ra trạng thái ổn định nhất chính là luôn kiên trì theo đuổi ước mơ và lắng nghe ý kiến của người đi trước. con về việc có đáng hay không thì hãy để thời gian chứng minh.\n",
            "nếu như bạn muốn làm việc gì đó xin đừng tự huênh hoang, cũng đừng vội khoe với ai, chỉ cần âm thầm mà thực hiện. bởi vì đó là việc của riêng bạn, người khác không biết đến hoàn cảnh của bạn, cũng không thể giúp bạn thực hiện điều đó. tuyệt đối xin đừng vì hư vinh mà khoe khoang khoác lác. cũng đừng vì những lời bình phẩm đánh giá của người đời mà vứt bỏ ước mơ của bản thân. thực ra trạng thái ổn định nhất chính là luôn kiên trì theo đuổi ước mơ và lắng nghe ý kiến của người đi trước. con về việc có đáng hay không thì hãy để thời gian chứng minh.\n",
            "1.0\n",
            "Input: 不 要 轻 易 把 梦 想 寄 托 在 某 个 人 身 上 ， 也 不 要 太 在 乎 身 旁 的 耳 语 ， 因 为 未 来 是 你 自 己 的 ， 只 有 你 自 己 能 给 自 己 最 大 的 安 全 感 。\n",
            "Predicted translation: đừng có tùy tiện lấy ước mơ của bản thân khác. hãy học cách hay không thì không quá mong muốn đến những lời làm gió bay, bởi vì tương lai của bản thân mình bạn có thể hay không mà là bạn có muốn đến đâu.\n",
            "đừng bao giờ tùy tiện đem ước mơ của mình khi cắm vào một ai khác. cũng đừng quá để tâm đến lời nói bên tai bởi vì tương lai thuộc về bạn và chỉ có bản thân bạn mới đem lại cảm giác an toàn nhất cho chính mình.\n",
            "đừng có tùy tiện lấy ước mơ của bản thân khác. hãy học cách hay không thì không quá mong muốn đến những lời làm gió bay, bởi vì tương lai của bản thân mình bạn có thể hay không mà là bạn có muốn đến đâu.\n",
            "0.09337082115538296\n",
            "Input: 你 想 得 越 多 ， 顾 虑 就 越 多 ； 什 么 都 不 想 的 时 候 反 而 能 一 往 直 前 。 你 害 怕 得 越 多 ， 困 难 就 越 多 ； 什 么 都 不 怕 的 时 候 一 切 反 而 没 那 么 难 。 别 害 怕 别 顾 虑 ， 想 到 就 去 做 。 这 世 界 就 是 这 样 ， 当 你 把 不 敢 去 实 现 梦 想 的 时 候 梦 想 会 离 你 越 来 越 远 ， 当 你 勇 敢 地 去 追 梦 的 时 候 ， 全 世 界 都 会 来 帮 你 。\n",
            "Predicted translation: người ta khi muốn từng chắc chắn như rồi sẽ có ngày càng quyết định bởi vì cuộc sống của bạn sẽ không bao giờ trở nên tưởng gì dũng cảm nghĩ. cho đến khi chắn bạn sẽ chẳng còn hiểu cho đến phía trước hết lòng.\n",
            "bạn càng nghĩ nhiều thì lo âu càng nhiều, khi trong tâm trạng nghĩ ngợi điều gì thì ngược lại, lại có thể luôn tiến bước về phía trước. bạn sợ hãi càng nhiều, những khó khăn sẽ càng nhiều. khi trong tâm chẳng còn sợ điều gì thì mọi việc sẽ chẳng còn khó khăn nữa. đừng sợ hãi đừng lo lắng vì muốn đạt được thì phải hành động. thế giới này chính là như vậy: khi bạn không dám thực hiện ước mơ thì ước mơ sẽ càng xa vời, khi bạn dũng cảm theo đuổi nó thì cả thế giới này đều sẽ giúp bạn.\n",
            "người ta khi muốn từng chắc chắn như rồi sẽ có ngày càng quyết định bởi vì cuộc sống của bạn sẽ không bao giờ trở nên tưởng gì dũng cảm nghĩ. cho đến khi chắn bạn sẽ chẳng còn hiểu cho đến phía trước hết lòng.\n",
            "0.04159609479656872\n",
            "Input: 没 有 钱 ， 没 有 经 验 ， 没 有 阅 历 ， 没 有 社 会 关 系 ， 这 些 都 不 可 怕 。 没 有 钱 ， 可 以 通 过 辛 勤 劳 动 去 赚 ； 没 有 经 验 ， 可 以 通 过 实 践 操 作 去 总 结 ； 没 有 阅 历 ， 可 以 一 步 一 步 去 积 累 ； 没 有 社 会 关 系 ， 可 以 一 点 一 点 去 编 织 。 但 是 ， 没 有 梦 想 ， 没 有 方 向 才 是 最 可 怕 的 。\n",
            "Predicted translation: không tiền không kinh nghiệm không lai lịch không quan hệ xã hội những điều này không đáng sợ. không có tiền thì có thể cần cù lao động để kiếm lại. không có kinh nghiệm thì có thể thông qua thực tiễn để tổng kết. không có lai lịch có thể dần tích lũy. không có các mối quan hệ xã hội có thể từng chút xây dựng lên. thế nhưng điều đáng sợ nhất là sống mà không có ước mơ và không có lai hướng.\n",
            "không tiền không kinh nghiệm không lai lịch không quan hệ xã hội những điều này không đáng sợ. không có tiền thì có thể cần cù lao động để kiếm lại. không có kinh nghiệm thì có thể thông qua thực tiễn để tổng kết. không có lai lịch có thể dần dần tích lũy. không có các mối quan hệ xã hội có thể từng chút xây dựng lên. thế nhưng điều đáng sợ nhất là sống mà không có ước mơ và không có phương hướng.\n",
            "không tiền không kinh nghiệm không lai lịch không quan hệ xã hội những điều này không đáng sợ. không có tiền thì có thể cần cù lao động để kiếm lại. không có kinh nghiệm thì có thể thông qua thực tiễn để tổng kết. không có lai lịch có thể dần tích lũy. không có các mối quan hệ xã hội có thể từng chút xây dựng lên. thế nhưng điều đáng sợ nhất là sống mà không có ước mơ và không có lai hướng.\n",
            "0.9598653896856606\n",
            "Input: 当 你 回 顾 曾 经 走 过 的 路 时 会 发 现 ， 你 居 然 在 不 知 不 觉 中 ， 到 达 了 曾 经 梦 寐 以 求 的 高 度 ， 现 在 的 自 己 ， 正 是 年 轻 时 魂 牵 梦 绕 过 千 百 回 的 那 个 自 己 。\n",
            "Predicted translation: khi bạn nhớ lại những quãng đường mình đã đi qua thì sẽ phát hiện ra một điều rằng: trong vô thức bạn đã đạt được tầm cao mà bạn thanh hằng mong muốn, bản thân bạn bây giờ chính là người mà khi còn trẻ đã từng khát khao trở thành.\n",
            "khi bạn nhớ lại những quãng đường mình đã đi qua thì sẽ phát hiện ra một điều rằng: trong vô thức bạn đã đạt được tầm cao mà bạn thanh hằng mong muốn, bản thân bạn bây giờ chính là người mà khi còn trẻ đã từng khát khao trở thành.\n",
            "khi bạn nhớ lại những quãng đường mình đã đi qua thì sẽ phát hiện ra một điều rằng: trong vô thức bạn đã đạt được tầm cao mà bạn thanh hằng mong muốn, bản thân bạn bây giờ chính là người mà khi còn trẻ đã từng khát khao trở thành.\n",
            "1.0\n",
            "Input: 不 管 当 下 的 我 们 有 没 有 人 爱 ， 我 们 也 要 努 力 做 一 个 可 爱 的 人 。 不 埋 怨 谁 ， 不 嘲 笑 谁 ， 也 不 羡 慕 谁 ， 阳 光 下 灿 烂 ， 风 雨 中 奔 跑 ， 做 自 己 的 梦 ， 走 自 己 的 路 。\n",
            "Predicted translation: cho dù hiện tại chúng ta có ai yêu hay không thì cũng phải cố gắng làm một người đáng yêu. không oán giận ai không cười nhạo ai cũng không hâm mộ ai cả. tự tỏa sáng dưới ánh mặt trời, vội chạy trong cơn mưa gió, mơ ước mơ của mình và đi một con đường riêng.\n",
            "cho dù hiện tại chúng ta có ai yêu hay không thì cũng phải cố gắng làm một người đáng yêu. không oán giận ai không cười nhạo ai cũng không hâm mộ ai cả. tự tỏa sáng dưới ánh mặt trời, vội chạy trong cơn mưa gió, mơ ước mơ của mình và đi một con đường riêng.\n",
            "cho dù hiện tại chúng ta có ai yêu hay không thì cũng phải cố gắng làm một người đáng yêu. không oán giận ai không cười nhạo ai cũng không hâm mộ ai cả. tự tỏa sáng dưới ánh mặt trời, vội chạy trong cơn mưa gió, mơ ước mơ của mình và đi một con đường riêng.\n",
            "1.0\n",
            "Input: 梦 想 是 一 个 \" 双 面 人 \" ： 在 年 少 的 时 候 ， 它 离 人 们 那 么 远 ， 那 么 渺 茫 ， 那 么 不 真 实 ； 而 在 壮 年 时 ， 它 离 人 们 那 么 近 ， 那 么 清 晰 ， 那 么 令 人 振 奋 。 因 为 ， 壮 年 时 的 人 们 取 得 了 成 就 ， 已 经 超 越 了 自 我 ， 而 在 那 成 功 的 背 后 ， 洒 下 的 是 数 不 尽 的 汗 滴 与 血 泪 。\n",
            "Predicted translation: ước mơ tựa như một kẻ hai mặt: khi ta còn trẻ nó thật xa vời, mù mịt và thiếu cảm giác chân thật. khi ta bước vào tuổi trung niên, nó bỗng nhiên lại gần, lại rõ ràng, lại khiến người ta phấn chấn vô cùng. bởi vì khi con người đã vào tuổi trung niên tức là đã có những thành tựu nhất định, đã vượt qua được bản thân. có ai hay phía sau những thành công kia là biết bao mồ hôi và nước mắt đã rơi xuống.\n",
            "ước mơ tựa như một kẻ hai mặt: khi ta còn trẻ nó thật xa vời, mù mịt và thiếu cảm giác chân thật. khi ta bước vào tuổi trung niên, nó bỗng nhiên lại gần, lại rõ ràng, lại khiến người ta phấn chấn vô cùng. bởi vì khi con người đã vào tuổi trung niên tức là đã có những thành tựu nhất định, đã vượt qua được bản thân. có ai hay phía sau những thành công kia là biết bao mồ hôi và nước mắt đã rơi xuống.\n",
            "ước mơ tựa như một kẻ hai mặt: khi ta còn trẻ nó thật xa vời, mù mịt và thiếu cảm giác chân thật. khi ta bước vào tuổi trung niên, nó bỗng nhiên lại gần, lại rõ ràng, lại khiến người ta phấn chấn vô cùng. bởi vì khi con người đã vào tuổi trung niên tức là đã có những thành tựu nhất định, đã vượt qua được bản thân. có ai hay phía sau những thành công kia là biết bao mồ hôi và nước mắt đã rơi xuống.\n",
            "1.0\n",
            "Input: 只 有 无 所 期 待 ， 无 所 事 事 的 人 才 会 觉 得 人 生 之 苦 ， 因 为 他 的 格 局 就 那 么 大 ， 能 体 验 到 的 感 觉 就 那 么 少 ， 他 的 人 生 是 由 \" 苦 \" 和 \" 不 苦 \" 来 定 义 ， 而 怀 揣 梦 想 的 人 的 人 生 却 是 由 \" 不 苦 \" 和 \" 乐 \" 来 定 义 的 。\n",
            "Predicted translation: chỉ có những người chẳng có kỳ vọng gì, chẳng có việc gì làm mới cảm thấy cuộc đời sao mà khổ cực. bởi vì cuộc đời của anh ta cũng chỉ to bằng chừng đó. những gì có thể trải nghiệm chỉ có từng kia. cuộc sống của anh ta được định nghĩa bằng khổ hay không khổ, còn những người ôm trong mình nhiều hoaì bão lớn cuộc sống của họ được định nghĩa bằng không khổ và vui vẻ.\n",
            "chỉ có những người chẳng có kỳ vọng gì, chẳng có việc gì làm mới cảm thấy cuộc đời sao mà khổ cực. bởi vì cuộc đời của anh ta cũng chỉ to bằng chừng đó. những gì có thể trải nghiệm chỉ có từng kia. cuộc sống của anh ta được định nghĩa bằng khổ hay không khổ, còn những người ôm trong mình nhiều hoaì bão lớn cuộc sống của họ được định nghĩa bằng không khổ và vui vẻ.\n",
            "chỉ có những người chẳng có kỳ vọng gì, chẳng có việc gì làm mới cảm thấy cuộc đời sao mà khổ cực. bởi vì cuộc đời của anh ta cũng chỉ to bằng chừng đó. những gì có thể trải nghiệm chỉ có từng kia. cuộc sống của anh ta được định nghĩa bằng khổ hay không khổ, còn những người ôm trong mình nhiều hoaì bão lớn cuộc sống của họ được định nghĩa bằng không khổ và vui vẻ.\n",
            "1.0\n",
            "Input: 你 的 名 字 写 下 来 不 过 几 厘 米 长 ， 却 贯 穿 了 我 这 么 长 时 光 。 其 实 你 不 知 道 ， 你 一 直 是 我 的 梦 想 。\n",
            "Predicted translation: tên của anh khi viết xuống giấy trắng quá dài có vài centimét, nhưng lại xuyên suốt cả một quãng thời gian thanh xuân của em. thực ra anh không biết rằng anh chính là ước mơ của em.\n",
            "tên của anh khi viết xuống giấy trắng quá dài có vài centimét, nhưng lại xuyên suốt cả một quãng thời gian thanh xuân của em. thực ra anh không biết rằng anh chính là ước mơ của em.\n",
            "tên của anh khi viết xuống giấy trắng quá dài có vài centimét, nhưng lại xuyên suốt cả một quãng thời gian thanh xuân của em. thực ra anh không biết rằng anh chính là ước mơ của em.\n",
            "1.0\n",
            "Input: 不 管 你 有 多 大 的 梦 想 ， 有 多 牛 的 想 法 ， 有 再 多 的 兴 趣 爱 好 ， 但 ， 一 懒 毁 终 生 。 别 让 懒 惰 吞 噬 了 你 的 梦 想 。\n",
            "Predicted translation: đừng bao giờ ngưỡng mộ những người giầu từ trong trứng. thế giới vật chất như một hố đen không đáy, điều quan trọng nhất không có một ai mà là sự cố gắng được trở nên mong muốn được trở nên mong muốn làm tốt hơn, để cuộc sống bạn có thể hay không đủ ngày đều tiến về phía trước. tôi không yêu cầu bạn phải hay không ngừng tạo chính mình đang từng cố gắng làm nổi, cho người khác giữ lấy những người khác nhưng cho hiện tại.\n",
            "cho dù bạn có những giấc mơ vĩ đại như thế nào những ý tưởng đột phá ra sao hay thật nhiều những sở thích thú vui nhưng chỉ cần lười biếng thì cuộc đời của bạn sẽ bị hủy hoại. đừng để sự lười biếng nuốt trọn ước mơ của bạn.\n",
            "đừng bao giờ ngưỡng mộ những người giầu từ trong trứng. thế giới vật chất như một hố đen không đáy, điều quan trọng nhất không có một ai mà là sự cố gắng được trở nên mong muốn được trở nên mong muốn làm tốt hơn, để cuộc sống bạn có thể hay không đủ ngày đều tiến về phía trước. tôi không yêu cầu bạn phải hay không ngừng tạo chính mình đang từng cố gắng làm nổi, cho người khác giữ lấy những người khác nhưng cho hiện tại.\n",
            "0.20222027842300222\n",
            "Input: 就 算 怀 揣 世 上 最 伟 大 的 梦 想 ， 也 不 妨 碍 我 们 得 到 一 个 普 通 人 的 快 乐 。 这 世 上 只 有 一 种 成 功 。 ， 就 是 以 自 己 喜 欢 的 方 式 过 一 生 。\n",
            "Predicted translation: cho dù có ôm trong mình những hoài bão ước mơ vĩ đại nhất trên thế gian thì cũng chẳng ảnh hưởng gì đến việc chúng ta vui những niềm vui của một người bình thường. trên đời này chỉ có một loại thành công đó là được sống theo cách mà bạn thân mình luôn mong muốn.\n",
            "cho dù có ôm trong mình những hoài bão ước mơ vĩ đại nhất trên thế gian thì cũng chẳng ảnh hưởng gì đến việc chúng ta vui những niềm vui của một người bình thường. trên đời này chỉ có một loại thành công đó là được sống theo cách mà bạn thân mình luôn mong muốn.\n",
            "cho dù có ôm trong mình những hoài bão ước mơ vĩ đại nhất trên thế gian thì cũng chẳng ảnh hưởng gì đến việc chúng ta vui những niềm vui của một người bình thường. trên đời này chỉ có một loại thành công đó là được sống theo cách mà bạn thân mình luôn mong muốn.\n",
            "1.0\n",
            "Input: 很 多 事 确 实 不 是 所 有 年 轻 姑 娘 都 承 受 得 了 的 。 逼 着 你 往 前 走 的 ， 不 是 前 方 梦 想 的 微 弱 光 芒 ， 而 是 身 后 现 实 的 深 渊 万 丈 。\n",
            "Predicted translation: thật sự có rất nhiều chuyện mà nhiều cô gái trẻ không chịu đựng được. điều thúc ép bạn tiến về phía trước không phải là những tia sáng yếu ớt của ước mơ phía trước mà là hiện thực như vực sâu vạn dặm ngay phía sau lưng.\n",
            "thật sự có rất nhiều chuyện mà nhiều cô gái trẻ không chịu đựng được. điều thúc ép bạn tiến về phía trước không phải là những tia sáng yếu ớt của ước mơ phía trước mà là hiện thực như vực sâu vạn dặm ngay phía sau lưng.\n",
            "thật sự có rất nhiều chuyện mà nhiều cô gái trẻ không chịu đựng được. điều thúc ép bạn tiến về phía trước không phải là những tia sáng yếu ớt của ước mơ phía trước mà là hiện thực như vực sâu vạn dặm ngay phía sau lưng.\n",
            "1.0\n",
            "Input: 每 一 次 扬 起 风 帆 去 远 航 ， 都 难 免 会 有 阻 挡 ， 只 要 有 梦 想 在 心 中 ， 未 来 就 充 满 着 希 望 ； 每 一 次 张 开 翅 膀 去 飞 翔 ， 都 难 免 会 受 伤 ， 只 要 有 梦 想 在 激 励 ， 未 来 就 承 载 着 希 望 。 梦 想 ， 在 心 中 埋 藏 ， 它 已 经 在 慢 慢 走 来 ， 给 人 们 带 来 希 望 ， 光 芒 和 启 迪 。\n",
            "Predicted translation: mỗi lần giương buồm ra khơi đều khó tránh khỏi gặp phải những chướng ngại vật. chỉ cần trong tim kiên định một giấc mơ thì tương lai sẽ luôn tràn đầy hy vọng. trên đường dài ai cũng đều khó tránh việc bị thương, chỉ cần có một ước mơ luôn là động lực thì tương lai sẽ chở đầy hy vọng. ước mơ được chôn giấu sâu trong tim, nó lên được dần trỗi dậy và đem lại cho con người ta hy vọng, ánh sáng cùng sự chỉ dẫn chính xác nhất.\n",
            "mỗi lần giương buồm ra khơi đều khó tránh khỏi gặp phải những chướng ngại vật. chỉ cần trong tim kiên định một giấc mơ thì tương lai sẽ luôn tràn đầy hy vọng. trên đường dài ai cũng đều khó tránh việc bị thương, chỉ cần có một ước mơ luôn là động lực thì tương lai sẽ chở đầy hy vọng. ước mơ được chôn giấu sâu trong tim, nó lên được dần dần trỗi dậy và đem lại cho con người ta hy vọng, ánh sáng cùng sự chỉ dẫn chính xác nhất.\n",
            "mỗi lần giương buồm ra khơi đều khó tránh khỏi gặp phải những chướng ngại vật. chỉ cần trong tim kiên định một giấc mơ thì tương lai sẽ luôn tràn đầy hy vọng. trên đường dài ai cũng đều khó tránh việc bị thương, chỉ cần có một ước mơ luôn là động lực thì tương lai sẽ chở đầy hy vọng. ước mơ được chôn giấu sâu trong tim, nó lên được dần trỗi dậy và đem lại cho con người ta hy vọng, ánh sáng cùng sự chỉ dẫn chính xác nhất.\n",
            "0.9814504293874704\n",
            "Input: 人 生 最 大 的 成 本 ， 就 是 在 错 误 的 人 济 圈 里 ， 不 知 不 觉 耗 尽 一 生 ， 碌 碌 无 为 度 过 一 生 。 人 生 最 大 的 喜 悦 ， 就 是 遇 见 彼 此 的 那 一 盏 灯 ， 你 点 燃 我 的 激 情 ， 我 点 燃 你 的 梦 想 ； 你 照 亮 我 的 前 途 ， 我 指 引 你 走 过 黑 暗 的 旅 程 。\n",
            "Predicted translation: hãy vì cuộc sống của chúng ta tựa như những bông hoa đen này, đừng làm những người như những ngọn vấn gia lấy được những ngọn vấn gia nước sáng thương nhất của cuộc đời này sẽ mãi chờ vậy. trên con đường mình thắp sâu mà mãi sẽ không cứ lựa chọn sẽ không đạt được một đời của tuổi lớn đâu.\n",
            "vì tuổi lớn nhất của đời người đó là lãng phí thời gian trong vô thức với những mối quan hệ xã hội sai lầm. để cả một đời trôi qua mà chẳng làm nên được việc gì. niềm vui lớn nhất của một đời người đó là gặp được những người như những ngọn đèn soi sáng đời nhau. bạn thắp lên lòng nhiệt huyết trong tôi, tôi thắp sáng ước mơ trong bạn. bạn chiếu rọi con đường tôi đi, tôi chất vấn về con đường đen tối mà bạn đã từng đi qua.\n",
            "hãy vì cuộc sống của chúng ta tựa như những bông hoa đen này, đừng làm những người như những ngọn vấn gia lấy được những ngọn vấn gia nước sáng thương nhất của cuộc đời này sẽ mãi chờ vậy. trên con đường mình thắp sâu mà mãi sẽ không cứ lựa chọn sẽ không đạt được một đời của tuổi lớn đâu.\n",
            "0.05883363599587718\n",
            "Input: 不 要 因 为 没 有 阳 光 ， 而 走 不 进 春 天 ； 不 要 因 为 没 有 歌 声 ， 而 放 弃 自 己 的 追 求 ； 不 要 因 为 没 有 掌 声 ， 而 丢 掉 自 己 的 理 想 。 其 实 每 一 条 通 往 阳 光 的 大 道 ， 都 充 满 坎 坷 。 每 一 条 通 向 理 想 的 途 径 ， 都 充 满 了 艰 辛 与 汗 水 。\n",
            "Predicted translation: cho dù đã lựa chọn có khó khăn nào để hãy trải mới khiến bản thân trở nên khổ nhất định sẽ phát hiện lấy bản thân trở nên bao giờ đến những gì mình bị tổn thương. khi họ biết từ bỏ một trái tim từ trong tương lai không thể từ trong tương lai không thể từ trong lòng níu nhất.\n",
            "đừng vì không nhìn thấy ánh mặt trời mà tưởng rằng mùa xuân chưa đến. đừng vì hôm nay thấy tiếng đàn tiếng hát mà từ bỏ mục tiêu mình theo đuổi. tiếng việt không có tiếng vỗ tay cổ vũ mà đánh mất đi lí tưởng của mình. thực ra mỗi lối đi về phía ánh hào quang luôn gặp phải những thử thách. con đường dẫn đến lý tưởng đều đong đầy những mồ hôi nước mắt và khó khăn.\n",
            "cho dù đã lựa chọn có khó khăn nào để hãy trải mới khiến bản thân trở nên khổ nhất định sẽ phát hiện lấy bản thân trở nên bao giờ đến những gì mình bị tổn thương. khi họ biết từ bỏ một trái tim từ trong tương lai không thể từ trong tương lai không thể từ trong lòng níu nhất.\n",
            "0.16205031020972382\n",
            "Input: 有 梦 想 就 立 即 动 身 吧 ， 不 要 迟 疑 ， 别 让 明 天 的 你 ， 讨 厌 今 天 的 自 己 。 最 可 怕 的 不 是 你 不 够 努 力 ， 而 是 比 你 聪 明 的 人 比 你 还 要 努 力 。\n",
            "Predicted translation: có ước mơ thì hãy hành động luôn đi. đừng chần chừ do dự nữa, đừng để bạn ngày mai ghét bỏ chính bạn ngày hôm nay. điều đáng sợ nhất không phải bạn không đủ năng lực mà là những người thông minh hơn bạn còn nỗ lực hơn bạn.\n",
            "có ước mơ thì hãy hành động luôn đi. đừng chần chừ do dự nữa, đừng để bạn ngày mai ghét bỏ chính bạn ngày hôm nay. điều đáng sợ nhất không phải bạn không đủ năng lực mà là những người thông minh hơn bạn còn nỗ lực hơn bạn.\n",
            "có ước mơ thì hãy hành động luôn đi. đừng chần chừ do dự nữa, đừng để bạn ngày mai ghét bỏ chính bạn ngày hôm nay. điều đáng sợ nhất không phải bạn không đủ năng lực mà là những người thông minh hơn bạn còn nỗ lực hơn bạn.\n",
            "1.0\n",
            "Input: 有 梦 想 的 人 不 做 选 择 题 ， 只 做 证 明 题 ， 所 以 ， 年 轻 的 你 ， 可 以 犯 错 ， 可 以 跌 倒 ， 但 千 万 不 要 怀 疑 自 己 ， 也 不 要 放 弃 梦 想 。 去 想 去 地 方 ， 做 该 做 的 事 情 ， 不 迟 疑 ， 不 徘 徊 。\n",
            "Predicted translation: cho dù bạn trời mưa đến và vươn sự rèn nhận. có thể trải nghiệm trên thế nào thì cũng chẳng có việc sao bản thân mình bị giữ vững niềm mong muốn đến phía trước thì vứt đầu dũng cảm để cả một ngày mai đã từng giải quyết định thì có thể gỡ bỏ. thất bại của người khác, nó cao đầu bất cứ một con đường một con đường đi nay bạn đã từng xuất thường, những chuyện của ước mơ và lắng chỉ cần cố gắng, những điều tốt đẹp rồi đã từng xuất tế, những điều tốt đẹp nhất. vừa dài khổ tưởng đến nơi khác.\n",
            "những người có ước mơ không đưa ra lựa chọn, họ chỉ chứng minh. vì thế khi bạn còn trẻ có thể phạm sai lầm cũng có thể cuộc ngã, nhưng tuyệt đối đừng tự hoài nghi bản thân cũng đừng từ bỏ ước mơ. hãy đi những nơi mình muốn đi và làm những điều mình muốn làm, không chần chừ, không lưỡng lự.\n",
            "cho dù bạn trời mưa đến và vươn sự rèn nhận. có thể trải nghiệm trên thế nào thì cũng chẳng có việc sao bản thân mình bị giữ vững niềm mong muốn đến phía trước thì vứt đầu dũng cảm để cả một ngày mai đã từng giải quyết định thì có thể gỡ bỏ. thất bại của người khác, nó cao đầu bất cứ một con đường một con đường đi nay bạn đã từng xuất thường, những chuyện của ước mơ và lắng chỉ cần cố gắng, những điều tốt đẹp rồi đã từng xuất tế, những điều tốt đẹp nhất. vừa dài khổ tưởng đến nơi khác.\n",
            "0.31152689328891914\n",
            "Input: 一 个 人 能 否 成 功 ， 关 键 在 于 他 的 心 态 是 否 积 极 。 成 功 者 之 所 以 能 ， 是 因 为 相 信 自 己 能 。 每 天 揣 着 梦 想 出 门 ， 天 会 更 蓝 ， 云 会 更 白 。\n",
            "Predicted translation: đời người chẳng có qua chỉ làm ảnh tốt, chẳng qua chỉ có trôi được việc mới làm hay định làm được định làm bằng bản thân mình thích vui vẻ tuổi mà ngắm mới làm gì hay không nên vui vẻ.\n",
            "một người có thể thành công hay không mấu chốt quyết định là ở thái độ của anh ta có đủ tích cực không. một người sẽ thành công được là bởi anh ta tin tưởng bản thân mình sẽ làm được. mỗi ngày khoác lên mình chiếc áo ước mơ, bước chân ra khỏi cửa sẽ thấy bầu trời giống như cao hơn và những đám mây trắng cũng bồng bềnh hơn.\n",
            "đời người chẳng có qua chỉ làm ảnh tốt, chẳng qua chỉ có trôi được việc mới làm hay định làm được định làm bằng bản thân mình thích vui vẻ tuổi mà ngắm mới làm gì hay không nên vui vẻ.\n",
            "0.07072199632285414\n",
            "Input: 当 你 越 来 越 漂 亮 时 ， 自 然 有 人 关 注 你 。 当 你 越 来 越 有 能 力 时 ， 自 然 会 有 人 看 得 起 你 。 改 变 自 己 ， 你 才 有 自 信 ， 梦 想 才 会 慢 慢 地 实 现 。 懒 可 以 毁 掉 一 个 人 ， 勤 可 以 激 发 一 个 人 。 做 最 好 的 自 己 ， 不 为 别 人 ， 只 为 做 一 个 连 自 己 都 羡 慕 的 人 。\n",
            "Predicted translation: khi bạn trở nên xinh đẹp thì tức khắc sẽ có một những người để ý đến bạn. khi bạn có thực lực cũng vì thế giới sáng người coi trọng bạn. sự lười nhác có thể hủy hoại cả một trái tim tự lực thì tức lên ngoại trừ bạn làm cho mình và sự tự lực thì tức tự giác bước đi trước. sự lười nhác có thể thúc đẩy con người trở thành công nhân của bản thân.\n",
            "khi bạn trở nên xinh đẹp thì tức khắc sẽ có người để ý đến bạn. khi bạn có thực lực thì tức khắc có người coi trọng bạn. thay đổi bản thân mới khiến bạn có niềm tin vào chính mình và ước mơ cũng vì thế mà dần dần biến thành hiện thực. sự lười nhác có thể hủy hoại cả một con người và sự cần cù cũng có thể thúc đẩy con người ta tiến về phía trước. phải là một phiên bản hoàn hảo nhất của bản thân, không vì một ai khác ngoại trừ bản thân mà trở thành một người đến chính mình cũng phải tự ngưỡng mộ.\n",
            "khi bạn trở nên xinh đẹp thì tức khắc sẽ có một những người để ý đến bạn. khi bạn có thực lực cũng vì thế giới sáng người coi trọng bạn. sự lười nhác có thể hủy hoại cả một trái tim tự lực thì tức lên ngoại trừ bạn làm cho mình và sự tự lực thì tức tự giác bước đi trước. sự lười nhác có thể thúc đẩy con người trở thành công nhân của bản thân.\n",
            "0.3125158439308054\n",
            "Input: 很 多 时 候 ， 我 们 只 能 和 自 己 的 内 心 对 话 ， 从 自 己 这 里 获 得 肯 定 和 鼓 励 ， 但 这 也 正 是 每 一 个 梦 想 者 所 必 须 具 备 的 勇 气 。 勇 敢 的 人 ， 不 仅 是 可 以 在 面 对 质 疑 声 音 的 时 候 ， 将 既 定 的 路 继 续 走 下 去 ， 还 在 于 能 拥 有 将 一 切 酝 酿 于 心 的 沉 稳 ， 以 及 即 使 无 人 陪 伴 也 能 继 续 向 前 的 低 气 。\n",
            "Predicted translation: tôi rất cảm giác bước đi cùng trước du thư pháp này, nhưng tôi không có ai chuẩn bị đối với sức lực của tôi.\n",
            "có những lúc chúng ta có thể độc thoại với nội tâm của mình và tự mình cổ vũ khẳng định bản thân. đó chính là sự rung cảm hoặc là ước mơ, những hoài bão cần phải có. người dũng cảm không chỉ là khi đối mặt với những âm thanh đáng ngờ vẫn có thể tiếp tục tiến bước mà còn phải chuẩn bị tâm thế vững vàng bình tĩnh cùng với một sức mạnh tiến về phía trước dù cho không có ai đồng hành bên cạnh.\n",
            "tôi rất cảm giác bước đi cùng trước du thư pháp này, nhưng tôi không có ai chuẩn bị đối với sức lực của tôi.\n",
            "0.01712500579818238\n",
            "Input: 真 正 的 失 败 从 来 都 不 是 结 果 的 不 仅 如 人 意 ， 而 是 拥 有 的 时 候 随 意 挥 霍 ， 和 未 曾 用 心 尝 试 前 的 轻 言 放 弃 。\n",
            "Predicted translation: thất bại thật sự không phải là kết quả không được như ý muốn mà là khi ta đang nắm giữ trong tay nhưng không biết trân trọng mà lại tùy tiện và dễ dàng từ bỏ khi chưa nếm trải qua hay quyết tâm giữ lấy.\n",
            "thất bại thật sự không phải là kết quả không được như ý muốn mà là khi ta đang nắm giữ trong tay nhưng không biết trân trọng mà lại tùy tiện và dễ dàng từ bỏ khi chưa nếm trải qua hay quyết tâm giữ lấy.\n",
            "thất bại thật sự không phải là kết quả không được như ý muốn mà là khi ta đang nắm giữ trong tay nhưng không biết trân trọng mà lại tùy tiện và dễ dàng từ bỏ khi chưa nếm trải qua hay quyết tâm giữ lấy.\n",
            "1.0\n",
            "Input: 你 所 过 的 每 一 天 ， 都 是 成 功 的 前 奏 。 你 把 握 住 了 这 每 一 天 ， 就 有 机 会 把 成 功 抓 在 手 中 ； 而 你 虚 度 的 每 一 天 ， 却 会 让 你 离 成 功 越 来 越 远 。\n",
            "Predicted translation: mỗi ngày bạn sống đều là một khúc nhạc dạo đầu cho sự thành công. bạn làm chủ được mỗi ngày là bạn đã có cơ hội nắm trong tay thành công. ngược lại nếu bạn để mỗi ngày trôi qua trong lãng phí thì thành công sẽ cách bạn càng ngày càng ngày càng ngày càng ngày càng ngày càng ngày càng ngày càng ngày càng ngày càng ngày càng ngày càng ngày càng ngày càng ngày càng ngày càng ngày càng ngày càng ngày càng ngày càng ngày càng ngày càng mong muốn.\n",
            "mỗi ngày bạn sống đều là một khúc nhạc dạo đầu cho sự thành công. bạn làm chủ được mỗi ngày là bạn đã có cơ hội nắm trong tay thành công. ngược lại nếu bạn để mỗi ngày trôi qua trong lãng phí thì thành công sẽ cách bạn càng ngày càng xa.\n",
            "mỗi ngày bạn sống đều là một khúc nhạc dạo đầu cho sự thành công. bạn làm chủ được mỗi ngày là bạn đã có cơ hội nắm trong tay thành công. ngược lại nếu bạn để mỗi ngày trôi qua trong lãng phí thì thành công sẽ cách bạn càng ngày càng ngày càng ngày càng ngày càng ngày càng ngày càng ngày càng ngày càng ngày càng ngày càng ngày càng ngày càng ngày càng ngày càng ngày càng ngày càng ngày càng ngày càng ngày càng ngày càng ngày càng mong muốn.\n",
            "0.5507116828207557\n",
            "Input: 寂 寞 是 一 段 无 人 相 伴 的 旅 程 ， 是 一 方 没 有 星 光 的 夜 空 ， 是 一 段 没 有 歌 声 的 时 光 。 他 使 空 虚 的 人 孤 苦 ， 使 浅 薄 的 人 浮 躁 ， 使 睿 智 的 人 深 沉 。 一 个 心 中 有 梦 的 人 ， 要 耐 得 住 没 有 星 空 的 夜 晚 ， 只 有 忍 受 得 了 黑 夜 的 寂 寞 ， 才 能 迎 来 明 日 的 成 功 。\n",
            "Predicted translation: có những lúc thấy thấy thấy thấy thấy thấy thấy có cố gắng làm được lúc này. trong mắt quan vọng của anh ấy cũng có thể chào nhau có một cuộc sống riêng bạn. có thể bắt mắt mới nghĩ giữ với anh ta được cách đến nước mắt nhân của anh ấy cũng có những điều tốt nhưng mà bắt đầu 100 số phận vật vị tự cảm thấy điểm bằng bản thân mình mới nhận của cuộc đời để tự nhận của anh ta lại ánh mắt của cuộc đời không cần những ngày một cuộc đời một cuộc đời một cuộc đời một cuộc đời một cuộc đời chỉ cần quên đến mối minh đi mỗi ngày một ngày một ngày một ngày sinh của cuộc đời đi mỗi ngày sinh của cuộc đời đi mỗi ngày một ngày sinh khinh hâm mộ bạn chiếu lấy rồi đã từng xuất nước nào mới nhận lại tự giác mình.\n",
            "cô đơn là một hành trình không có người sát cánh chung vai: là một bầu trời đêm không có ánh sao và là một thời kỳ không có tiếng nhạc. nó làm cho một người trống rỗng trở nên bơ vơ hiu quạnh. làm cho một người nông cạn cho nên sốc nổi và làm cho một người biết nhìn xa trông rộng lên thâm trầm. một người ôm trong mình giấc mơ phải nhẫn nại trải qua được những đêm trời không sao, và chỉ có chịu đựng được nỗi cô đơn của màn đêm mới có thể đón nhận thành công tươi sáng của ngày mai.\n",
            "có những lúc thấy thấy thấy thấy thấy thấy thấy có cố gắng làm được lúc này. trong mắt quan vọng của anh ấy cũng có thể chào nhau có một cuộc sống riêng bạn. có thể bắt mắt mới nghĩ giữ với anh ta được cách đến nước mắt nhân của anh ấy cũng có những điều tốt nhưng mà bắt đầu 100 số phận vật vị tự cảm thấy điểm bằng bản thân mình mới nhận của cuộc đời để tự nhận của anh ta lại ánh mắt của cuộc đời không cần những ngày một cuộc đời một cuộc đời một cuộc đời một cuộc đời một cuộc đời chỉ cần quên đến mối minh đi mỗi ngày một ngày một ngày một ngày sinh của cuộc đời đi mỗi ngày sinh của cuộc đời đi mỗi ngày một ngày sinh khinh hâm mộ bạn chiếu lấy rồi đã từng xuất nước nào mới nhận lại tự giác mình.\n",
            "0.17937244103927824\n",
            "Input: 每 个 人 的 生 命 都 是 一 只 小 船 ， 梦 想 则 是 小 船 的 风 帆 。\n",
            "Predicted translation: cuộc sống của mỗi người tựa như một con thuyền, còn ước mơ chính là cánh buồm của con thuyền đó.\n",
            "cuộc sống của mỗi người tựa như một con thuyền, còn ước mơ chính là cánh buồm của con thuyền đó.\n",
            "cuộc sống của mỗi người tựa như một con thuyền, còn ước mơ chính là cánh buồm của con thuyền đó.\n",
            "1.0\n",
            "Input: 并 不 是 所 有 的 努 力 都 会 开 出 梦 想 之 花 ， 实 现 了 的 才 叫 梦 想 ， 没 实 现 的 叫 现 实 。 是 时 候 放 下 ， 那 放 下 吧 ， 实 现 不 了 的 梦 想 不 是 可 耻 ， 只 是 命 运 再 告 诉 我 们 ， 摆 在 我 们 面 前 的 路 有 很 多 ， 也 许 该 换 一 条 路 走 走 了 。 失 败 了 ， 叫 回 到 起 点 ， 重 新 出 发 ， 仅 此 而 已 。\n",
            "Predicted translation: không phải tất cả những nỗ lực đều sẽ cho những bông hoa ước mơ. những gì đã thực hiện được mới gọi là ước mơ, còn chưa thể thực hiện thì gọi là hiện thực. đã đến lúc từ bỏ thì hãy từ bỏ đi, những ước mơ không thể thực hiện không có gì đáng xấu hổ. chỉ là số phận đang nói với chúng ta rằng: phía trước mắt ta còn nhiều con đường khác và cũng đã đến lúc thay đổi lộ trình rồi. thất bại rồi thì quay lại điểm suất phát để làm lại từ đầu, chỉ có vậy mà thôi.\n",
            "không phải tất cả những nỗ lực đều sẽ cho những bông hoa ước mơ. những gì đã thực hiện được mới gọi là ước mơ, còn chưa thể thực hiện thì gọi là hiện thực. đã đến lúc từ bỏ thì hãy từ bỏ đi, những ước mơ không thể thực hiện không có gì đáng xấu hổ. chỉ là số phận đang nói với chúng ta rằng: phía trước mắt ta còn nhiều con đường khác và cũng đã đến lúc thay đổi lộ trình rồi. thất bại rồi thì quay lại điểm suất phát để làm lại từ đầu, chỉ có vậy mà thôi.\n",
            "không phải tất cả những nỗ lực đều sẽ cho những bông hoa ước mơ. những gì đã thực hiện được mới gọi là ước mơ, còn chưa thể thực hiện thì gọi là hiện thực. đã đến lúc từ bỏ thì hãy từ bỏ đi, những ước mơ không thể thực hiện không có gì đáng xấu hổ. chỉ là số phận đang nói với chúng ta rằng: phía trước mắt ta còn nhiều con đường khác và cũng đã đến lúc thay đổi lộ trình rồi. thất bại rồi thì quay lại điểm suất phát để làm lại từ đầu, chỉ có vậy mà thôi.\n",
            "1.0\n",
            "Input: 当 你 坚 守 住 了 自 己 ， 坚 守 住 了 心 中 的 理 想 时 ， 才 能 看 清 原 来 这 世 间 最 美 的 景 色 ， 不 是 在 豪 华 餐 厅 中 一 吨 丰 硕 的 晚 餐 ， 而 是 当 所 有 人 都 不 在 身 边 时 ， 还 有 一 个 属 于 自 己 的 世 界 可 供 欣 赏 。\n",
            "Predicted translation: hãy sống bằng cả cuộc sống của chúng ta không chiếu những gì dũng cảm nhận nhưng chỉ là khi còn giữ trong tay để yêu. trên trái tim con người khác không cần thiết có thể làm được phép trong bỏ bản thân đi khăn nhưng cho đến ký lười tạo bạn căn nguyên của ước mơ.\n",
            "khi bạn giữ vững được bản thân, giữ vững được những lý tưởng trong lòng mình thì mới có thể nhận ra rằng thế gian này còn biết bao cảnh sắc tươi đẹp. không phải là một bữa tối thịnh soạn trong một nhà hàng hào nhoáng mà là ngay cả khi chẳng có ai ở bên thì vẫn có một người thuộc về mình và tự mình hưởng thụ.\n",
            "hãy sống bằng cả cuộc sống của chúng ta không chiếu những gì dũng cảm nhận nhưng chỉ là khi còn giữ trong tay để yêu. trên trái tim con người khác không cần thiết có thể làm được phép trong bỏ bản thân đi khăn nhưng cho đến ký lười tạo bạn căn nguyên của ước mơ.\n",
            "0.21446195104386315\n",
            "Input: 如 果 事 与 愿 违 ， 就 相 信 上 天 一 定 另 有 安 排 ； 所 有 失 去 的 ， 都 会 以 另 外 一 种 方 式 归 来 。 相 信 自 己 ， 相 信 时 间 不 会 亏 带 你 。\n",
            "Predicted translation: nếu những sự việc xảy ra không như những gì bạn mong muốn thì hãy tin tưởng rằng ông trời nhất định đã có sắp xếp khác. tất cả những gì mất đi sẽ tìm lại được bằng một cách khác. tin tưởng vào bản thân và tin tưởng rằng thời gian sẽ không đối xử tệ bạc với bạn.\n",
            "nếu những sự việc xảy ra không như những gì bạn mong muốn thì hãy tin tưởng rằng ông trời nhất định đã có sắp xếp khác. tất cả những gì mất đi sẽ tìm lại được bằng một cách khác. tin tưởng vào bản thân và tin tưởng rằng thời gian sẽ không đối xử tệ bạc với bạn.\n",
            "nếu những sự việc xảy ra không như những gì bạn mong muốn thì hãy tin tưởng rằng ông trời nhất định đã có sắp xếp khác. tất cả những gì mất đi sẽ tìm lại được bằng một cách khác. tin tưởng vào bản thân và tin tưởng rằng thời gian sẽ không đối xử tệ bạc với bạn.\n",
            "1.0\n",
            "Input: 有 人 总 说 ， 已 经 晚 了 。 实 际 上 ， 现 在 就 是 最 好 的 时 光 。 对 于 一 个 真 正 有 梦 想 的 人 来 说 ， 生 命 的 每 个 时 期 都 是 年 轻 的 ， 及 时 的 。\n",
            "Predicted translation: có người thường luôn miệng nói. nhưng thực tế hiện tại một giấc mơ, nhưng cho đến nay đều chẳng có kịp ngủ rất nhiều giây phút ở hay cũng đều chẳng còn cố gắng từng bước mất cả một tâm của bạn.\n",
            "có người thường luôn miệng nói: đã quá muộn rồi. nhưng thực tế hiện tại chính là khoảng thời gian tươi đẹp nhất. đối với một người thực dưỡng cho mình một giấc mơ, bất kỳ giai đoạn nào của cuộc đời cũng đều là tuổi trẻ và cũng luôn kịp để làm gì đó.\n",
            "có người thường luôn miệng nói. nhưng thực tế hiện tại một giấc mơ, nhưng cho đến nay đều chẳng có kịp ngủ rất nhiều giây phút ở hay cũng đều chẳng còn cố gắng từng bước mất cả một tâm của bạn.\n",
            "0.15949138183401662\n",
            "Input: 有 梦 想 的 人 生 海 阔 天 空 没 有 一 颗 心 会 因 为 追 求 梦 想 而 受 伤 ， 当 你 真 心 想 要 某 样 东 西 时 ， 整 个 宇 宙 都 会 联 合 起 来 帮 你 完 成 。\n",
            "Predicted translation: có ước mơ cuộc sống này sẽ mở rộng chẳng có một tâm hồn nào vì theo đuổi ước mơ mà bị tổn thương, khi bạn thực sự khát khao đạt được một thứ gì đó, cả vũ trụ này đều sẽ hợp sức lại giúp bạn toại nguyện.\n",
            "có ước mơ cuộc sống này sẽ mở rộng chẳng có một tâm hồn nào vì theo đuổi ước mơ mà bị tổn thương, khi bạn thực sự khát khao đạt được một thứ gì đó, cả vũ trụ này đều sẽ hợp sức lại giúp bạn toại nguyện.\n",
            "có ước mơ cuộc sống này sẽ mở rộng chẳng có một tâm hồn nào vì theo đuổi ước mơ mà bị tổn thương, khi bạn thực sự khát khao đạt được một thứ gì đó, cả vũ trụ này đều sẽ hợp sức lại giúp bạn toại nguyện.\n",
            "1.0\n",
            "Input: 原 谅 一 个 人 是 很 容 易 的 ， 但 再 次 信 任 ， 就 没 那 么 容 易 。 暖 一 颗 心 需 要 很 多 年 ， 凉 一 颗 心 只 要 一 瞬 间 。\n",
            "Predicted translation: tha thứ cho một người dễ dàng lắm nhưng để tin tưởng thêm một lần nữa thì lại chẳng đơn giản như vậy. hâm nóng một trái tim cần rất nhiều thời gian nhưng một trái tim đã trở nên nguội lạnh thì chỉ trong một khoảnh khắc mà thôi.\n",
            "tha thứ cho một người dễ dàng lắm nhưng để tin tưởng thêm một lần nữa thì lại chẳng đơn giản như vậy. hâm nóng một trái tim cần rất nhiều thời gian nhưng một trái tim đã trở nên nguội lạnh thì chỉ trong một khoảnh khắc mà thôi.\n",
            "tha thứ cho một người dễ dàng lắm nhưng để tin tưởng thêm một lần nữa thì lại chẳng đơn giản như vậy. hâm nóng một trái tim cần rất nhiều thời gian nhưng một trái tim đã trở nên nguội lạnh thì chỉ trong một khoảnh khắc mà thôi.\n",
            "1.0\n",
            "Input: 世 界 真 的 很 小 ， 好 像 一 转 身 ， 就 不 知 道 会 遇 见 谁 ； 世 界 真 的 很 大 ， 好 像 一 转 身 ， 就 不 知 道 谁 会 消 失 。\n",
            "Predicted translation: thế giới này thực sự nhỏ bé lắm. dường như chỉ cần sáu cái chớp mắt chẳng biết sẽ gặp phải ai. thế giới này thực sự rộng lớn lắm. dường như chỉ cần sau cái chớp mắt chẳng biết sẽ đánh mất ai.\n",
            "thế giới này thực sự nhỏ bé lắm. dường như chỉ cần sáu cái chớp mắt chẳng biết sẽ gặp phải ai. thế giới này thực sự rộng lớn lắm. dường như chỉ cần sau cái chớp mắt chẳng biết sẽ đánh mất ai.\n",
            "thế giới này thực sự nhỏ bé lắm. dường như chỉ cần sáu cái chớp mắt chẳng biết sẽ gặp phải ai. thế giới này thực sự rộng lớn lắm. dường như chỉ cần sau cái chớp mắt chẳng biết sẽ đánh mất ai.\n",
            "1.0\n",
            "Input: 人 生 就 是 一 场 漫 长 的 自 娱 自 乐 。 讨 别 人 欢 心 只 是 小 聪 明 ， 每 天 都 能 讨 到 自 己 的 欢 心 才 算 大 智 慧 。\n",
            "Predicted translation: đời người là một cuộc tiêu khiển tự tìm kiếm niềm vui. lấy lòng người khác chỉ là khôn vặt và mỗi ngày đều có thể tự làm mình hài lòng mới là trí thông minh thật sự.\n",
            "đời người là một cuộc tiêu khiển tự tìm kiếm niềm vui. lấy lòng người khác chỉ là khôn vặt và mỗi ngày đều có thể tự làm mình hài lòng mới là trí thông minh thật sự.\n",
            "đời người là một cuộc tiêu khiển tự tìm kiếm niềm vui. lấy lòng người khác chỉ là khôn vặt và mỗi ngày đều có thể tự làm mình hài lòng mới là trí thông minh thật sự.\n",
            "1.0\n",
            "Input: 每 个 人 的 性 格 中 ， 都 有 某 些 无 法 让 人 接 受 的 部 分 ， 再 美 好 的 人 也 一 样 。 所 以 ， 不 要 苛 求 别 人 ， 也 不 要 埋 怨 自 己 。\n",
            "Predicted translation: trong tính cách của mỗi người đều có một phần khiến người khác không thể chấp nhận nổi: ngay cả những người tốt đẹp nhất cũng như vậy. vì thế đừng quá khắt khe khó tính với người khác và cũng đừng tự trách bản thân mình.\n",
            "trong tính cách của mỗi người đều có một phần khiến người khác không thể chấp nhận nổi: ngay cả những người tốt đẹp nhất cũng như vậy. vì thế đừng quá khắt khe khó tính với người khác và cũng đừng tự trách bản thân mình.\n",
            "trong tính cách của mỗi người đều có một phần khiến người khác không thể chấp nhận nổi: ngay cả những người tốt đẹp nhất cũng như vậy. vì thế đừng quá khắt khe khó tính với người khác và cũng đừng tự trách bản thân mình.\n",
            "1.0\n",
            "Input: 再 大 的 伤 痛 ， 睡 一 觉 就 把 它 忘 了 。 背 着 昨 天 追 赶 明 天 ， 会 累 坏 了 每 一 个 当 下 。 边 走 边 忘 ， 才 能 感 受 到 每 一 个 迎 面 而 来 的 幸 福 。\n",
            "Predicted translation: nỗi đau dù lớn thế nào thì hãy cứ ngủ một giấc thật ngon rồi lãng quên nó đi. cứ mãi mang gánh nặng ngày hôm qua trên lưng mà đuổi theo ngày mai, bạn sẽ chẳng còn sức để tận hưởng ngày hôm nay nữa. vừa tiến về phía trước vừa quên đi quá khứ mới có thể đón nhận niềm vui hạnh phúc của mỗi ngày mới đang đến.\n",
            "nỗi đau dù lớn thế nào thì hãy cứ ngủ một giấc thật ngon rồi lãng quên nó đi. cứ mãi mang gánh nặng ngày hôm qua trên lưng mà đuổi theo ngày mai, bạn sẽ chẳng còn sức để tận hưởng ngày hôm nay nữa. vừa tiến về phía trước vừa quên đi quá khứ mới có thể đón nhận niềm vui hạnh phúc của mỗi ngày mới đang đến.\n",
            "nỗi đau dù lớn thế nào thì hãy cứ ngủ một giấc thật ngon rồi lãng quên nó đi. cứ mãi mang gánh nặng ngày hôm qua trên lưng mà đuổi theo ngày mai, bạn sẽ chẳng còn sức để tận hưởng ngày hôm nay nữa. vừa tiến về phía trước vừa quên đi quá khứ mới có thể đón nhận niềm vui hạnh phúc của mỗi ngày mới đang đến.\n",
            "1.0\n",
            "Input: 生 命 中 有 许 多 你 不 想 做 却 不 能 不 做 的 事 ， 这 就 是 责 任 ； 生 命 中 有 许 多 你 想 做 却 不 能 做 的 事 ， 这 就 是 命 运 。\n",
            "Predicted translation: trong cuộc sống có rất nhiều chuyện bạn không muốn làm nhưng không thể không làm, đó gọi là trách nhiệm. trong cuộc sống cũng có rất nhiều điều bạn muốn làm nhưng không thể làm. đó là số phận.\n",
            "trong cuộc sống có rất nhiều chuyện bạn không muốn làm nhưng không thể không làm, đó gọi là trách nhiệm. trong cuộc sống cũng có rất nhiều điều bạn muốn làm nhưng không thể làm. đó là số phận.\n",
            "trong cuộc sống có rất nhiều chuyện bạn không muốn làm nhưng không thể không làm, đó gọi là trách nhiệm. trong cuộc sống cũng có rất nhiều điều bạn muốn làm nhưng không thể làm. đó là số phận.\n",
            "1.0\n",
            "Input: 用 心 去 生 活 ， 别 以 他 人 的 眼 光 为 尺 度 ， 每 一 天 幸 福 就 好 。\n",
            "Predicted translation: hãy sống bằng cả trái tim này. đừng xem ánh mắt của người đời là thước đo cho cuộc sống và chỉ cần mỗi ngày bạn đều cảm thấy hạnh phúc là đủ.\n",
            "hãy sống bằng cả trái tim này. đừng xem ánh mắt của người đời là thước đo cho cuộc sống và chỉ cần mỗi ngày bạn đều cảm thấy hạnh phúc là đủ.\n",
            "hãy sống bằng cả trái tim này. đừng xem ánh mắt của người đời là thước đo cho cuộc sống và chỉ cần mỗi ngày bạn đều cảm thấy hạnh phúc là đủ.\n",
            "1.0\n",
            "Input: 任 何 时 候 都 可 以 开 始 做 自 己 想 做 的 事 ， 希 望 不 要 用 年 龄 和 其 他 东 西 来 束 缚 自 己 。 年 龄 从 来 不 是 界 限 ， 除 非 你 自 己 拿 来 为 难 自 己 。\n",
            "Predicted translation: bất cứ lúc nào cũng có thể bắt đầu làm những việc mình có thích, hy vọng bạn sẽ không dùng tuổi tác hay những yếu tố khác để tự trói buộc bản thân. từ trước đến nay tuổi tác không bao giờ là giới hạn để thực hiện một điều gì đó trừ khi bạn tự đưa nó ra để tự làm khó mình.\n",
            "bất cứ lúc nào cũng có thể bắt đầu làm những việc mình có thích, hy vọng bạn sẽ không dùng tuổi tác hay những yếu tố khác để tự trói buộc bản thân. từ trước đến nay tuổi tác không bao giờ là giới hạn để thực hiện một điều gì đó trừ khi bạn tự đưa nó ra để tự làm khó mình.\n",
            "bất cứ lúc nào cũng có thể bắt đầu làm những việc mình có thích, hy vọng bạn sẽ không dùng tuổi tác hay những yếu tố khác để tự trói buộc bản thân. từ trước đến nay tuổi tác không bao giờ là giới hạn để thực hiện một điều gì đó trừ khi bạn tự đưa nó ra để tự làm khó mình.\n",
            "1.0\n",
            "Input: 宁 愿 泡 起 来 被 绊 倒 无 数 次 ， 也 不 要 规 规 矩 矩 走 一 辈 子 。\n",
            "Predicted translation: thà rằng chạy thật nhanh mà vấp ngã vô số lần còn hơn đi theo khuôn phép quy củ cả một đời người.\n",
            "thà rằng chạy thật nhanh mà vấp ngã vô số lần còn hơn đi theo khuôn phép quy củ cả một đời người.\n",
            "thà rằng chạy thật nhanh mà vấp ngã vô số lần còn hơn đi theo khuôn phép quy củ cả một đời người.\n",
            "1.0\n",
            "Input: 除 了 你 自 己 ， 没 有 人 会 明 白 你 的 故 事 里 有 过 多 少 快 乐 或 伤 悲 ， 因 为 那 终 究 只 是 你 一 个 人 的 感 觉 。\n",
            "Predicted translation: hãy trải qua bản thân nữa rồi, đừng rửa được hay người khác, nếu không cố gắng giữ nhưng thực ra một cuộc sống của bạn không vừa luôn căn lòng giữ lấy và hãy tiếp tục sống của bạn.\n",
            "ngoại trừ bản thân bạn ra sẽ chẳng có ai hiểu được trong những câu chuyện của bạn có biết bao nhiêu niềm vui hay nỗi buồn bởi vì những cảm giác đó chỉ thuộc về một mình bạn mà thôi.\n",
            "hãy trải qua bản thân nữa rồi, đừng rửa được hay người khác, nếu không cố gắng giữ nhưng thực ra một cuộc sống của bạn không vừa luôn căn lòng giữ lấy và hãy tiếp tục sống của bạn.\n",
            "0.3103783957237059\n",
            "Input: 没 有 人 可 以 回 到 过 去 重 新 开 始 ， 但 谁 都 可 以 从 今 日 开 始 ， 书 写 一 个 全 然 不 同 的 结 局 。\n",
            "Predicted translation: không ai có thể quay ngược lại quá khứ để làm lại từ đầu nhưng ai cũng có thể bắt đầu từ hôm nay để viết nên một kết thúc hoàn toàn khác.\n",
            "không ai có thể quay ngược lại quá khứ để làm lại từ đầu nhưng ai cũng có thể bắt đầu từ hôm nay để viết nên một kết thúc hoàn toàn khác.\n",
            "không ai có thể quay ngược lại quá khứ để làm lại từ đầu nhưng ai cũng có thể bắt đầu từ hôm nay để viết nên một kết thúc hoàn toàn khác.\n",
            "1.0\n",
            "Input: 或 许 在 某 一 个 地 方 ， 会 有 另 外 一 个 我 。 做 着 我 不 敢 做 的 事 ， 过 着 我 想 要 的 生 活 。\n",
            "Predicted translation: có thể tại một nơi nào đó có một tôi khác. tôi đó sẽ làm những điều mà tôi không dám làm và sống một cuộc sống mà tôi hằng mong muốn.\n",
            "có thể tại một nơi nào đó có một tôi khác. tôi đó sẽ làm những điều mà tôi không dám làm và sống một cuộc sống mà tôi hằng mong muốn.\n",
            "có thể tại một nơi nào đó có một tôi khác. tôi đó sẽ làm những điều mà tôi không dám làm và sống một cuộc sống mà tôi hằng mong muốn.\n",
            "1.0\n",
            "Input: 人 一 辈 子 如 何 ， 其 实 取 决 于 几 次 重 要 的 选 择 ， 愿 你 能 做 对 那 几 次 重 要 的 选 择 ， 活 出 自 己 想 要 的 模 样 。\n",
            "Predicted translation: một đời người như thế nào sẽ được quyết định bởi một vài lựa chọn quan trọng. mong rằng bạn sẽ lựa chọn đúng những lần quan trọng đó và sống một cuộc sống như những gì mình mong muốn.\n",
            "một đời người như thế nào sẽ được quyết định bởi một vài lựa chọn quan trọng. mong rằng bạn sẽ lựa chọn đúng những lần quan trọng đó và sống một cuộc sống như những gì mình mong muốn.\n",
            "một đời người như thế nào sẽ được quyết định bởi một vài lựa chọn quan trọng. mong rằng bạn sẽ lựa chọn đúng những lần quan trọng đó và sống một cuộc sống như những gì mình mong muốn.\n",
            "1.0\n",
            "Input: 人 ， 永 远 不 会 珍 惜 三 种 人 ： 一 是 轻 易 得 到 的 ， 二 是 永 远 不 会 离 开 的 ， 三 是 那 个 一 直 对 你 很 好 的 。 但 是 ， 往 往 这 三 种 人 一 旦 离 开 就 永 远 不 会 再 回 来 。\n",
            "Predicted translation: con người, mãi mãi không bao giờ biết trân trọng ba nhóm người: một là những người dễ dàng có được, hay là những người không bao giờ rời bỏ ta và ba là những người luôn đối tốt với ta. thế nhưng một khi những người này đã bước đi thì vĩnh viễn sẽ không bao giờ quay lại bên ta nữa.\n",
            "con người, mãi mãi không bao giờ biết trân trọng ba nhóm người: một là những người dễ dàng có được, hay là những người không bao giờ rời bỏ ta và ba là những người luôn đối tốt với ta. thế nhưng một khi những người này đã bước đi thì vĩnh viễn sẽ không bao giờ quay lại bên ta nữa.\n",
            "con người, mãi mãi không bao giờ biết trân trọng ba nhóm người: một là những người dễ dàng có được, hay là những người không bao giờ rời bỏ ta và ba là những người luôn đối tốt với ta. thế nhưng một khi những người này đã bước đi thì vĩnh viễn sẽ không bao giờ quay lại bên ta nữa.\n",
            "1.0\n",
            "Input: 被 窝 很 舒 服 起 床 困 难 ， 那 就 放 下 手 机 早 点 睡 。 书 堆 得 多 不 知 看 哪 本 ， 那 就 拿 起 最 经 典 的 。 说 走 就 走 的 旅 行 下 不 了 决 心 ， 那 就 先 学 会 欣 赏 身 边 美 景 。 如 果 不 曾 开 始 ， 永 远 不 会 抵 达 。\n",
            "Predicted translation: chôn mình trong chăn thật thoải mái, thức dậy thật khó khăn, vì vậy hãy dứt khoát đặt điện thoại xuống và đi ngủ sớm. một chồng sách cao không biết nên đọc quyển nào thì hãy bắt đầu từ những cuốn kinh điển nhất. cuộc hành trình nói đi nhưng lại không hạ được quyết tâm. vậy thì hãy học cách tận hưởng những cảnh đẹp ngay bên mình đã. nếu như chưa từng bắt đầu thì vĩnh viễn sẽ không bao giờ đến đích.\n",
            "chôn mình trong chăn thật thoải mái, thức dậy thật khó khăn, vì vậy hãy dứt khoát đặt điện thoại xuống và đi ngủ sớm. một chồng sách cao không biết nên đọc quyển nào thì hãy bắt đầu từ những cuốn kinh điển nhất. cuộc hành trình nói đi là đi nhưng lại không hạ được quyết tâm. vậy thì hãy học cách tận hưởng những cảnh đẹp ngay bên mình đã. nếu như chưa từng bắt đầu thì vĩnh viễn sẽ không bao giờ đến đích.\n",
            "chôn mình trong chăn thật thoải mái, thức dậy thật khó khăn, vì vậy hãy dứt khoát đặt điện thoại xuống và đi ngủ sớm. một chồng sách cao không biết nên đọc quyển nào thì hãy bắt đầu từ những cuốn kinh điển nhất. cuộc hành trình nói đi nhưng lại không hạ được quyết tâm. vậy thì hãy học cách tận hưởng những cảnh đẹp ngay bên mình đã. nếu như chưa từng bắt đầu thì vĩnh viễn sẽ không bao giờ đến đích.\n",
            "0.9681698666771913\n",
            "Input: 正 值 青 春 年 华 的 我 们 ， 总 会 一 次 次 不 自 觉 望 向 远 方 ， 对 远 方 的 道 路 充 满 憧 憬 ， 尽 管 忽 隐 忽 现 ， 充 满 迷 茫 。 有 时 候 身 边 就 像 被 浓 雾 紧 紧 包 围 ， 那 种 迷 茫 和 无 助 只 有 自 己 能 懂 。 尽 管 有 点 孤 独 ， 尽 管 带 着 迷 茫 和 无 奈 ， 但 我 依 然 勇 敢 地 面 对 ， 因 为 这 就 是 我 的 青 春 ， 不 是 别 人 的 ， 只 属 于 我 的 。\n",
            "Predicted translation: tuổi trẻ chúng ta thường không tự chủ mà nhìn ngắm về phía xa\n",
            "tuổi trẻ chúng ta thường không tự chủ mà nhìn ngắm về phía xa, mang một khát khao mãnh liệt về con đường phía trước, cho dù là thoắt ẩn thoắt hiện. cho dù đầy mông lung mờ mịt. có những lúc tưởng như bốn bè xung quanh bị sương mù dày đặc bao lấy, cái cảm giác vô định mà mơ màng ấy chỉ có bản thân hiểu rõ. cho dù có cô độc, cho dù có mờ mịt, thấy bất lực, nhưng tôi vẫn muốn dũng cảm đối mặt, bởi đó là tuổi trẻ của tôi không phải của một ai khác. nó thuộc về tôi nó thuộc về tôi.\n",
            "tuổi trẻ chúng ta thường không tự chủ mà nhìn ngắm về phía xa\n",
            "0.0008383138045382134\n",
            "Input: 生 命 中 终 将 会 错 过 一 些 人 ， 我 们 应 该 感 谢 那 些 错 过 的 人 ， 他 们 让 我 们 明 白 了 幸 福 的 珍 贵 。 不 要 相 信 该 是 自 己 的 终 该 是 自 己 的 ， 不 去 争 取 不 去 把 握 的 话 ， 永 远 都 不 会 有 机 会 。\n",
            "Predicted translation: hãy tin rằng cuộc đời chúng ta không đối xử tĩnh rồi thì hãy tin lại được những nỗi khổ phải nếm trải, trái tim bạn phải làm, trái tim chúng ta luyện xuống, mà bạn lại được cùng mình muốn, mà là ai khác.\n",
            "trong cuộc sống sẽ có lúc ta bỏ lỡ mất một vài người nhưng chúng ta nên cảm ơn những người đó. họ giúp ta hiểu được giá trị trân quý của hạnh phúc. đừng tin rằng những cái gì nên là của mình đến cuối cùng sẽ thuộc về mình, nếu bạn không đi tranh giành nắm giữ thì vĩnh viễn sẽ không có cơ hội.\n",
            "hãy tin rằng cuộc đời chúng ta không đối xử tĩnh rồi thì hãy tin lại được những nỗi khổ phải nếm trải, trái tim bạn phải làm, trái tim chúng ta luyện xuống, mà bạn lại được cùng mình muốn, mà là ai khác.\n",
            "0.211495661804835\n",
            "Input: 人 最 强 大 的 时 候 ， 不 是 坚 持 的 时 候 ， 而 是 放 下 的 时 候 。 当 你 选 择 腾 空 双 手 ， 还 有 谁 能 从 你 手 中 夺 走 什 么 。\n",
            "Predicted translation: khi con người trở nên mạnh mẽ nhất không phải là lúc luôn kiên trì mà là lúc dũng cảm để từ bỏ một điều gì đó. khi bạn đã quyết định lựa chọn giờ cao đôi tay lên bầu trời, thì còn ai có thể cướp được cái gì từ trong tay bạn nữa.\n",
            "khi con người trở nên mạnh mẽ nhất không phải là lúc luôn kiên trì mà là lúc dũng cảm để từ bỏ một điều gì đó. khi bạn đã quyết định lựa chọn giờ cao đôi tay lên bầu trời, thì còn ai có thể cướp được cái gì từ trong tay bạn nữa.\n",
            "khi con người trở nên mạnh mẽ nhất không phải là lúc luôn kiên trì mà là lúc dũng cảm để từ bỏ một điều gì đó. khi bạn đã quyết định lựa chọn giờ cao đôi tay lên bầu trời, thì còn ai có thể cướp được cái gì từ trong tay bạn nữa.\n",
            "1.0\n",
            "Input: 路 可 以 回 头 看 ， 却 不 可 以 回 头 走 。 把 握 每 一 个 瞬 间 ， 珍 惜 每 一 次 拥 有 。 即 使 遇 到 匆 匆 离 开 的 人 ， 也 要 记 得 感 谢 他 曾 出 现 在 你 的 生 命 中 ， 因 为 他 也 是 你 精 彩 回 忆 的 一 部 分 。 人 生 ， 不 求 尽 如 人 意 ， 但 求 无 愧 于 心 。\n",
            "Predicted translation: cho dù anh ta có nói đầu cái đầu đi nhưng sẽ mang theo những khoảnh khắc cũng đang làm mọi khoảnh khắc sẽ đứng đến phía trước nhưng cũng phải chấp nhưng cuộc sống của tất cả mọi khoảnh khắc khác. nhưng cũng phải cảm ơn cuộc đời người ta đã đem hiện trong tương lai của anh ta đã làm mọi thứ đều có một phần của anh không cần cưỡng cầu trong tương lai của bạn. nhưng cũng phải quay lại mọi thứ đều như ý muốn, nhưng cũng không bao giờ làm gì hồ thẹn với lòng.\n",
            "những con đường đã đi qua có thể quay đầu nhìn lại nhưng không thể quay ngược để đi lại. bạn hãy làm chủ mọi khoảnh khắc và trân trọng mỗi lần sở hữu. cho dù gặp phải những người vội vã rời đi cũng phải cảm ơn anh ta đã từng xuất hiện trong cuộc đời bạn. anh ta cũng là một phần trong ký ức đầy màu sắc của bạn. đời người không cần cưỡng cầu mọi thứ đều như ý muốn, nhưng cũng đừng làm gì hồ thẹn với lòng.\n",
            "cho dù anh ta có nói đầu cái đầu đi nhưng sẽ mang theo những khoảnh khắc cũng đang làm mọi khoảnh khắc sẽ đứng đến phía trước nhưng cũng phải chấp nhưng cuộc sống của tất cả mọi khoảnh khắc khác. nhưng cũng phải cảm ơn cuộc đời người ta đã đem hiện trong tương lai của anh ta đã làm mọi thứ đều có một phần của anh không cần cưỡng cầu trong tương lai của bạn. nhưng cũng phải quay lại mọi thứ đều như ý muốn, nhưng cũng không bao giờ làm gì hồ thẹn với lòng.\n",
            "0.22487039050303984\n",
            "Input: 刻 意 去 找 的 东 西 ， 往 往 是 找 不 到 的 。 天 下 万 物 的 来 和 去 ， 都 有 它 的 时 间 。\n",
            "Predicted translation: những gì tận lực tìm kiếm thì lại chẳng bao giờ tìm được. vạn vật trên thế gian đến và đi đều có những thời điểm thích hợp của nó.\n",
            "những gì tận lực tìm kiếm thì lại chẳng bao giờ tìm được. vạn vật trên thế gian đến và đi đều có những thời điểm thích hợp của nó.\n",
            "những gì tận lực tìm kiếm thì lại chẳng bao giờ tìm được. vạn vật trên thế gian đến và đi đều có những thời điểm thích hợp của nó.\n",
            "1.0\n",
            "Input: 时 间 并 不 会 真 的 帮 我 们 解 决 问 题 ， 它 只 是 把 原 来 想 不 通 的 事 ， 变 得 不 那 么 重 要 了 。\n",
            "Predicted translation: thời gian không giúp ta giải quyết vấn đề gì cả, nó chỉ giúp ta biến những chuyện trước đây vốn nghĩ không thông trở nên không còn quan trọng nữa.\n",
            "thời gian không giúp ta giải quyết vấn đề gì cả, nó chỉ giúp ta biến những chuyện trước đây vốn nghĩ không thông trở nên không còn quan trọng nữa.\n",
            "thời gian không giúp ta giải quyết vấn đề gì cả, nó chỉ giúp ta biến những chuyện trước đây vốn nghĩ không thông trở nên không còn quan trọng nữa.\n",
            "1.0\n",
            "Input: 现 在 的 你 也 许 很 痛 苦 ， 等 过 阵 子 回 头 看 看 ， 你 会 发 现 其 实 那 都 不 算 事 。\n",
            "Predicted translation: có thể bạn của hiện tại rất đau buồn nhưng chỉ cần qua một thời gian rồi ngoảnh đầu nhìn lại, bạn sẽ phát hiện ra thực ra những chuyện đó chẳng có gì to tát cả.\n",
            "có thể bạn của hiện tại rất đau buồn nhưng chỉ cần qua một thời gian rồi ngoảnh đầu nhìn lại, bạn sẽ phát hiện ra thực ra những chuyện đó chẳng có gì to tát cả.\n",
            "có thể bạn của hiện tại rất đau buồn nhưng chỉ cần qua một thời gian rồi ngoảnh đầu nhìn lại, bạn sẽ phát hiện ra thực ra những chuyện đó chẳng có gì to tát cả.\n",
            "1.0\n",
            "Input: 拥 有 善 良 清 灵 的 心 ， 开 心 地 笑 ， 畅 快 地 虎 。 不 矫 揉 造 作 ， 不 工 于 心 计 ， 这 样 的 女 孩 刚 刚 好 。\n",
            "Predicted translation: sợ hữu một trái tim lương thiện, cười thật vui vẻ và khóc thật thoải mái. không phóng túng xa đọa, không mưu cầu tính toán, những người con gái như vậy thật tốt.\n",
            "sợ hữu một trái tim lương thiện, cười thật vui vẻ và khóc thật thoải mái. không phóng túng xa đọa, không mưu cầu tính toán, những người con gái như vậy thật tốt.\n",
            "sợ hữu một trái tim lương thiện, cười thật vui vẻ và khóc thật thoải mái. không phóng túng xa đọa, không mưu cầu tính toán, những người con gái như vậy thật tốt.\n",
            "1.0\n",
            "Input: 做 个 稳 妥 的 人 ， 不 要 高 估 两 年 内 的 自 己 ， 也 不 要 低 估 1 0 年 后 的 自 己 。\n",
            "Predicted translation: con người nhất định phải đi du lịch, không phải đi từ bỏ tốt hơn đi du lịch bỏ thị kiên trì tốt nhất. nhưng bác sĩ biết tốt đẹp nhất.\n",
            "hãy là một người vừa phải đúng mực để không đánh giá quá cao bản thân hai năm sau và cũng đừng đánh giá quá thấp bản thân 10 năm sau.\n",
            "con người nhất định phải đi du lịch, không phải đi từ bỏ tốt hơn đi du lịch bỏ thị kiên trì tốt nhất. nhưng bác sĩ biết tốt đẹp nhất.\n",
            "0.5577503997480662\n",
            "Input: 和 聪 明 人 交 流 ， 和 靠 谱 的 人 恋 爱 ， 和 积 极 的 人 共 事 ， 和 幽 默 的 人 遂 行 。 我 人 生 若 能 如 此 ， 就 是 最 大 的 幸 福 。\n",
            "Predicted translation: làm bạn cùng những người thông minh, yêu những người đáng tin cậy, làm việc cùng những người tích cực và đồng hành cùng những người hài hước. nếu đời người có thể làm được như vậy thì đó chính là niềm hạnh phúc vĩ đại nhất.\n",
            "làm bạn cùng những người thông minh, yêu những người đáng tin cậy, làm việc cùng những người tích cực và đồng hành cùng những người hài hước. nếu đời người có thể làm được như vậy thì đó chính là niềm hạnh phúc vĩ đại nhất.\n",
            "làm bạn cùng những người thông minh, yêu những người đáng tin cậy, làm việc cùng những người tích cực và đồng hành cùng những người hài hước. nếu đời người có thể làm được như vậy thì đó chính là niềm hạnh phúc vĩ đại nhất.\n",
            "1.0\n",
            "Input: 生 活 总 是 这 样 ， 不 能 叫 人 处 处 都 满 意 。 但 我 们 还 要 热 情 地 活 下 去 。 人 活 一 生 ， 值 得 爱 的 东 西 很 多 ， 不 要 因 为 一 个 不 满 意 ， 就 灰 心 。\n",
            "Predicted translation: cuộc sống là như vậy đấy: chúng ta không thể làm hài lòng tất cả mọi người. nhưng chúng ta vẫn phải tiếp tục sống vui vẻ yêu đời. con người ta sống cả cuộc đời này thì những thứ đáng để trân trọng yêu thương nhiều lắm, đừng vì một vài điều không vừa ý mà nản lòng.\n",
            "cuộc sống là như vậy đấy: chúng ta không thể làm hài lòng tất cả mọi người. nhưng chúng ta vẫn phải tiếp tục sống vui vẻ yêu đời. con người ta sống cả cuộc đời này thì những thứ đáng để trân trọng yêu thương nhiều lắm, đừng vì một vài điều không vừa ý mà nản lòng.\n",
            "cuộc sống là như vậy đấy: chúng ta không thể làm hài lòng tất cả mọi người. nhưng chúng ta vẫn phải tiếp tục sống vui vẻ yêu đời. con người ta sống cả cuộc đời này thì những thứ đáng để trân trọng yêu thương nhiều lắm, đừng vì một vài điều không vừa ý mà nản lòng.\n",
            "1.0\n",
            "Input: 生 命 如 此 短 暂 。 何 不 打 破 成 规 ， 原 谅 坏 一 点 ， 亲 吻 慢 一 点 ， 爱 德 真 一 点 ， 笑 得 疯 一 点 ， 并 且 只 要 是 让 自 己 笑 过 的 事 ， 就 永 远 不 会 后 悔 。\n",
            "Predicted translation: cuộc đời ngắn ngủi đến thế sao không phá vỡ các thói quen cũ đi, tha thứ cho nhau nhanh hơn, hôn chậm lại, yêu thương thật lòng hơn và cười một cách điên loạn hơn. chỉ cần là những chuyện đã từng khiến mình cười thì sẽ không bao giờ khiến bạn phải hối hận.\n",
            "cuộc đời ngắn ngủi đến thế sao không phá vỡ các thói quen cũ đi, tha thứ cho nhau nhanh hơn, hôn chậm lại, yêu thương thật lòng hơn và cười một cách điên loạn hơn. chỉ cần là những chuyện đã từng khiến mình cười thì sẽ không bao giờ khiến bạn phải hối hận.\n",
            "cuộc đời ngắn ngủi đến thế sao không phá vỡ các thói quen cũ đi, tha thứ cho nhau nhanh hơn, hôn chậm lại, yêu thương thật lòng hơn và cười một cách điên loạn hơn. chỉ cần là những chuyện đã từng khiến mình cười thì sẽ không bao giờ khiến bạn phải hối hận.\n",
            "1.0\n",
            "Input: 时 间 是 种 极 好 的 东 西 ， 原 谅 了 不 可 原 谅 的 ， 过 去 了 曾 经 过 不 去 的 ， 也 许 我 偶 尔 想 回 到 之 前 的 时 光 ， 但 我 知 道 人 始 终 要 学 会 向 前 看 。\n",
            "Predicted translation: lúc đến việt nam, tôi có muốn xuyên bắt đầu đến quá trình học tiếp, nhưng đã từng học một năm quá nhiều lời.\n",
            "thời gian thật là một điều kỳ diệu: nó giúp ta có thể tha thứ cho những điều tưởng như không thể tha thứ, giúp ta vượt qua những gì tưởng như không vượt qua được. thỉnh thoảng tôi lại muốn quay ngược thời gian trở về những phút giây đầu tiên nhưng tôi biết con người ta phải học cách luôn hướng về phía trước vì không có ai có thể quay ngược thời gian.\n",
            "lúc đến việt nam, tôi có muốn xuyên bắt đầu đến quá trình học tiếp, nhưng đã từng học một năm quá nhiều lời.\n",
            "0.08418802514825476\n",
            "Input: 感 谢 黑 夜 的 来 临 ， 我 知 道 今 天 不 论 有 多 失 败 ， 全 新 的 明 天 仍 然 等 待 我 来 证 明 自 己 。 明 天 又 是 新 的 一 天 。\n",
            "Predicted translation: cảm ơn màn đêm buông xuống cho tôi biết rằng dù ngày hôm nay có thất bại thảm hại đến mức nào, một ngày mai hoàn toàn mới vẫn đang đợi tôi đến chứng minh bản thân mình. ngày mai lại là một ngày mới tuyệt vời.\n",
            "cảm ơn màn đêm buông xuống cho tôi biết rằng dù ngày hôm nay có thất bại thảm hại đến mức nào, một ngày mai hoàn toàn mới vẫn đang đợi tôi đến chứng minh bản thân mình. ngày mai lại là một ngày mới tuyệt vời.\n",
            "cảm ơn màn đêm buông xuống cho tôi biết rằng dù ngày hôm nay có thất bại thảm hại đến mức nào, một ngày mai hoàn toàn mới vẫn đang đợi tôi đến chứng minh bản thân mình. ngày mai lại là một ngày mới tuyệt vời.\n",
            "1.0\n",
            "Input: 人 在 2 0 多 岁 的 时 候 ， 总 是 愿 意 相 信 一 句 话 ： 生 活 在 别 处 。 当 你 很 轻 易 地 放 弃 一 份 工 作 ， 很 轻 易 地 放 手 一 段 爱 情 ， 很 轻 易 地 舍 弃 一 个 朋 友 ， 都 是 因 为 这 种 相 信 。 可 惜 总 是 要 过 很 久 之 后 才 能 明 白 ， 这 世 上 并 不 存 在 传 说 中 的 \" 别 处 \" 。 你 所 拥 有 的 ， 不 过 是 你 手 上 的 这 些 。 而 你 兜 兜 转 转 最 终 得 到 的 ， 也 不 过 是 你 在 第 一 个 站 错 过 的 。\n",
            "Predicted translation: khi người ta 20 tuổi, người ta thường rất tin tưởng vào một câu nói: cuộc sống nằm ở nơi khác. khi bạn tùy tiện từ bỏ một công việc, dễ dàng vứt bỏ một đoạn tình, hay đơn giản cắt đứt quan hệ với một người bạn, tất cả đều là vì niềm tin đó. nhưng đáng tiếc phải mất một khoảng thời gian thật lâu bạn mới nhận ra rằng: thời gian cũng chẳng hề tồn tại truyền thuyết. nhưng đáng tiếc phải mất một hồi, tất cả, có tất cả, có điều tất cả đó chỉ là những gì ta đang nắm trong tay. nhưng đáng tin đó.\n",
            "khi người ta 20 tuổi, người ta thường rất tin tưởng vào một câu nói: cuộc sống nằm ở nơi khác. khi bạn tùy tiện từ bỏ một công việc, dễ dàng vứt bỏ một đoạn tình, hay đơn giản cắt đứt quan hệ với một người bạn, tất cả đều là vì niềm tin đó. nhưng đáng tiếc phải mất một khoảng thời gian thật lâu bạn mới nhận ra rằng: thời gian cũng chẳng hề tồn tại cái gọi là \"nơi khác\" trong truyền thuyết. bạn vốn đang có tất cả, có điều tất cả đó chỉ là những gì ta đang nắm trong tay. nhưng khi bạn loay hoay một hồi, tất cả những gì bạn có được chẳng qua cũng chỉ là những gì bạn đã đánh mất từ lâu rồi.\n",
            "khi người ta 20 tuổi, người ta thường rất tin tưởng vào một câu nói: cuộc sống nằm ở nơi khác. khi bạn tùy tiện từ bỏ một công việc, dễ dàng vứt bỏ một đoạn tình, hay đơn giản cắt đứt quan hệ với một người bạn, tất cả đều là vì niềm tin đó. nhưng đáng tiếc phải mất một khoảng thời gian thật lâu bạn mới nhận ra rằng: thời gian cũng chẳng hề tồn tại truyền thuyết. nhưng đáng tiếc phải mất một hồi, tất cả, có tất cả, có điều tất cả đó chỉ là những gì ta đang nắm trong tay. nhưng đáng tin đó.\n",
            "0.7091941550622919\n",
            "Input: 做 最 真 实 最 漂 亮 的 自 己 ， 依 心 而 行 ， 别 回 头 ， 别 四 顾 ， 别 管 别 人 说 什 么 。 比 不 上 你 的 ， 才 议 论 你 ； 比 你 强 的 ， 人 家 忙 着 赶 路 ， 根 本 不 会 多 看 你 一 眼 。\n",
            "Predicted translation: hãy sống chân thật và tốt đẹp với chính mình. hãy làm theo những gì con tim mách bảo, đừng quay đầu nhìn lại quá khứ, đừng nhìn ngó lung tung và đừng quan tâm người đời đang nói gì. những ai không bằng bạn mới dị nghị về bạn, còn những người tài giỏi hơn bạn thì người ta còn đang bận rộn công việc, căn bản chẳng thèm nhìn ngó đến bạn đâu.\n",
            "hãy sống chân thật và tốt đẹp với chính mình. hãy làm theo những gì con tim mách bảo, đừng quay đầu nhìn lại quá khứ, đừng nhìn ngó lung tung và đừng quan tâm người đời đang nói gì. những ai không bằng bạn mới dị nghị về bạn, còn những người tài giỏi hơn bạn thì người ta còn đang bận rộn công việc, căn bản chẳng thèm nhìn ngó đến bạn đâu.\n",
            "hãy sống chân thật và tốt đẹp với chính mình. hãy làm theo những gì con tim mách bảo, đừng quay đầu nhìn lại quá khứ, đừng nhìn ngó lung tung và đừng quan tâm người đời đang nói gì. những ai không bằng bạn mới dị nghị về bạn, còn những người tài giỏi hơn bạn thì người ta còn đang bận rộn công việc, căn bản chẳng thèm nhìn ngó đến bạn đâu.\n",
            "1.0\n",
            "Input: 生 活 如 水 ， 平 淡 最 美 。 人 生 之 路 ， 一 定 不 会 总 有 枝 繁 叶 茂 的 树 ， 鲜 艳 夺 目 的 花 朵 ， 蝶 飞 蜂 雾 的 美 好 景 色 ， 它 一 定 也 会 有 阻 挡 在 前 的 高 山 和 荒 凉 的 沙 漠 ； 一 定 不 会 总 有 阳 光 照 耀 下 缤 纷 的 色 彩 ， 也 一 定 会 有 阴 天 时 的 雾 霭 重 重 。\n",
            "Predicted translation: cuộc sống tựa như dòng nước\n",
            "cuộc sống tựa như dòng nước, cứ bình lặng là đẹp nhất. đời người nhất định sẽ có lúc gặp được những cảnh sắc tươi đẹp, cây cối cành lá um tùm, hoa thơm khoe sắc, ong bay bướm lượn. nhưng phải vượt qua được những chướng ngại vật núi cao hiểm trở hay sa mạc hoang lạnh mới đến được đó. một điều chắc chắn là sẽ không chỉ có mặt trời chiếu rọi cùng những tia nắng ấm áp rực rỡ mà nhất định còn có những ngày âm u sương mù dày đặc tối tăm.\n",
            "cuộc sống tựa như dòng nước\n",
            "1.6654731303827444e-07\n",
            "Input: 真 实 的 生 活 是 去 认 真 做 好 每 一 天 你 份 内 的 事 情 。 不 索 取 目 前 与 你 无 关 的 爱 与 远 景 。 不 去 妄 想 ， 不 在 其 中 自 我 沉 醉 。 不 伤 害 ， 不 与 自 己 和 他 人 为 敌 。 不 去 表 演 ， 也 不 相 信 他 人 的 表 演 。\n",
            "Predicted translation: một cuộc sống thực sự đó là: không đòi hỏi tình yêu hay cảnh vật xa xôi vốn chẳng thuộc về bạn. không mơ mộng hão huyền, không để bản thân chìm đắm trong những ảo tưởng đó, không làm hại ai không biến bản thân và người khác thành kẻ địch. không đi diễn trò và cũng không tin vào những trò diễn của người đời.\n",
            "một cuộc sống thực sự đó là: không đòi hỏi tình yêu hay cảnh vật xa xôi vốn chẳng thuộc về bạn. không mơ mộng hão huyền, không để bản thân chìm đắm trong những ảo tưởng đó, không làm hại ai không biến bản thân và người khác thành kẻ địch. không đi diễn trò và cũng không tin vào những trò diễn của người đời.\n",
            "một cuộc sống thực sự đó là: không đòi hỏi tình yêu hay cảnh vật xa xôi vốn chẳng thuộc về bạn. không mơ mộng hão huyền, không để bản thân chìm đắm trong những ảo tưởng đó, không làm hại ai không biến bản thân và người khác thành kẻ địch. không đi diễn trò và cũng không tin vào những trò diễn của người đời.\n",
            "1.0\n",
            "Input: 也 许 你 现 在 仍 然 是 一 个 人 下 班 ， 一 个 人 乘 地 铁 ， 一 个 人 上 楼 ， 一 个 人 吃 饭 ， 一 个 人 睡 觉 ， 一 个 人 发 呆 。 很 多 人 离 开 另 外 一 个 人 ， 就 没 有 了 自 己 。 而 你 却 一 个 人 ， 度 过 了 所 有 。\n",
            "Predicted translation: có thể bây giờ bạn chỉ có một mình tan tầm, một mình ngồi tàu điện ngầm, một mình lên lầu, một mình ăn cơm, một mình đi ngủ và một mình ngồi ngây ngốc. có một người khi đã rời xa một người khác đã chẳng còn là bạn thân mình nữa, còn bạn lại chỉ có một mình và bạn nên tự hào bạn vẫn luôn là bản thân mình.\n",
            "có thể bây giờ bạn chỉ có một mình tan tầm, một mình ngồi tàu điện ngầm, một mình lên lầu, một mình ăn cơm, một mình đi ngủ và một mình ngồi ngây ngốc. có rất nhiều người khi đã rời xa một người khác đã chẳng còn là bạn thân mình nữa, còn bạn lại chỉ có một mình và bạn nên tự hào bạn vẫn luôn là bản thân mình.\n",
            "có thể bây giờ bạn chỉ có một mình tan tầm, một mình ngồi tàu điện ngầm, một mình lên lầu, một mình ăn cơm, một mình đi ngủ và một mình ngồi ngây ngốc. có một người khi đã rời xa một người khác đã chẳng còn là bạn thân mình nữa, còn bạn lại chỉ có một mình và bạn nên tự hào bạn vẫn luôn là bản thân mình.\n",
            "0.9508402070088153\n",
            "Input: 时 间 不 能 减 轻 我 们 所 受 的 伤 害 ， 但 却 能 让 我 们 变 得 不 那 么 害 怕 伤 害 。 时 间 也 不 会 帮 我 们 解 决 问 题 ， 只 会 把 原 来 怎 么 也 想 不 通 的 问 题 ， 变 得 不 再 重 要 。\n",
            "Predicted translation: không phải tất cả những nỗ lực đều sẽ cho những bông hoa tuyệt đối chỉ cần được như thế nào cũng không được quyết định của chúng ta không phải là những gì thương quan trọng của mình. điều đáng thêm những gì đã không được như thế. trên con đường ta phải làm được chỉ cần thiết không phải nhìn nhận lại, thời gian sẽ không nản lòng.\n",
            "thời gian không thể xóa dịu hết những tổn thương của chúng ta nhưng lại khiến chúng ta trở nên không còn sợ hãi bị tổn thương nữa. thời gian cũng chẳng thể giúp chúng ta giải quyết vấn đề gì nhưng sẽ biến những vấn đề chúng ta không thể nghĩ thông trở nên không còn quan trọng nữa.\n",
            "không phải tất cả những nỗ lực đều sẽ cho những bông hoa tuyệt đối chỉ cần được như thế nào cũng không được quyết định của chúng ta không phải là những gì thương quan trọng của mình. điều đáng thêm những gì đã không được như thế. trên con đường ta phải làm được chỉ cần thiết không phải nhìn nhận lại, thời gian sẽ không nản lòng.\n",
            "0.15508664086378174\n",
            "Input: 迈 出 脚 步 去 你 之 前 不 敢 涉 足 的 地 方 ， 伸 出 臂 膀 句 去 拥 抱 过 去 不 敢 碰 触 的 领 地 ， 你 会 发 现 ， 原 来 生 活 不 只 有 那 一 点 儿 天 地 ， 你 可 以 让 自 己 过 得 更 好 ， 也 可 以 让 身 边 的 人 觉 得 和 你 在 一 起 充 满 着 希 望 。\n",
            "Predicted translation: bước đến những nơi trước đây bạn không dám đặt chân đến và vươn tay ôm lấy những lãnh địa trước đây bạn không dám chạm đến. khi đó bạn sẽ phát hiện ra: thì ra cuộc sống không chỉ nhỏ bé như vậy. bạn có thể khiến bản thân mình sống tốt hơn và cũng có thể khiến bạn cảm thấy, khi được ở bên bạn cuộc đời luôn tràn đầy hy vọng.\n",
            "bước đến những nơi trước đây bạn không dám đặt chân đến và vươn tay ôm lấy những lãnh địa trước đây bạn không dám chạm đến. khi đó bạn sẽ phát hiện ra: thì ra cuộc sống không chỉ nhỏ bé như vậy. bạn có thể khiến bản thân mình sống tốt hơn và cũng có thể khiến cho những người quen bạn cảm thấy, khi được ở bên bạn cuộc đời luôn tràn đầy hy vọng.\n",
            "bước đến những nơi trước đây bạn không dám đặt chân đến và vươn tay ôm lấy những lãnh địa trước đây bạn không dám chạm đến. khi đó bạn sẽ phát hiện ra: thì ra cuộc sống không chỉ nhỏ bé như vậy. bạn có thể khiến bản thân mình sống tốt hơn và cũng có thể khiến bạn cảm thấy, khi được ở bên bạn cuộc đời luôn tràn đầy hy vọng.\n",
            "0.9274298258765898\n",
            "Input: 如 果 你 感 到 委 屈 ， 证 明 你 还 有 底 线 ； 如 果 你 感 到 迷 茫 ， 证 明 你 还 有 追 求 ； 如 果 你 感 到 痛 苦 ， 证 明 你 还 有 力 气 ； 如 果 你 感 到 绝 望 ， 证 明 你 还 要 希 望 。 从 某 种 意 义 上 ， 你 永 远 都 不 会 被 打 倒 ， 因 为 你 还 有 你 。\n",
            "Predicted translation: nếu như bạn cảm thấy oan ức thì trạng sức lực\n",
            "nếu như bạn cảm thấy oan ức thì chứng tỏ bạn vẫn còn giới hạn. nếu như bạn cảm thấy mông lung lạc lối chứng tỏ bạn vẫn còn nhiều điều muốn theo đuổi. nếu như bạn cảm thấy đau khổ chứng tỏ bạn vẫn còn sức lực. nếu như bạn cảm thấy tuyệt vọng chứng tỏ bạn vẫn còn hy vọng. trên một tầng ý nghĩa nào đó, bạn vĩnh viễn sẽ không bị bất cứ điều gì đạp đổ bởi vì bạn vẫn còn bản thân mình.\n",
            "nếu như bạn cảm thấy oan ức thì trạng sức lực\n",
            "0.0005819577629612905\n",
            "Input: 你 羡 慕 别 人 生 病 了 有 那 么 多 人 关 心 ， 羡 慕 别 人 出 去 玩 有 人 陪 伴 ， 羡 慕 别 人 每 天 有 人 说 早 安 晚 安 ， 羡 慕 别 人 有 那 么 多 人 记 得 他 们 的 生 日 ， 羡 慕 别 人 每 个 节 日 都 有 人 祝 福 ， 而 以 为 自 己 什 么 都 没 有 。 其 实 ， 在 别 人 眼 里 ， 他 们 羡 慕 你 一 个 人 可 以 那 么 坚 强 ， 羡 慕 你 一 个 人 可 以 淡 定 从 容 。 你 羡 慕 别 人 ， 别 人 羡 慕 你 ， 然 后 各 自 生 活 。\n",
            "Predicted translation: bạn ngưỡng mộ người khác khi bị ốm có thật nhiều người quan tâm chăm sóc, ngưỡng mộ người khác khi bước chân ra ngoài chơi luôn có người bên cạnh, ngưỡng mộ người khác mỗi ngày sinh nhật, ngưỡng mộ người khác mỗi dịp mỗi dịp mỗi dịp mỗi dịp buổi sáng tốt lành hay chúc mừng, ngưỡng mộ bạn có một cuộc sống riêng và ngưỡng mộ bạn có thể điềm đạm ung dung. sự thật là mỗi ngày sinh nhật, ngưỡng mộ người khác được chúc hay yêu cạnh, ngưỡng mộ người khác thì người khác lại nhận ra trong mỗi dịp mừng, ngưỡng mộ người khác lại ngưỡng mộ người khác lại cố lời chào người khác lại nhận ra ngoài mỗi ngày sinh nhật.\n",
            "bạn ngưỡng mộ người khác khi bị ốm có thật nhiều người quan tâm chăm sóc, ngưỡng mộ người khác khi bước chân ra ngoài chơi luôn có người bên cạnh, ngưỡng mộ người khác mỗi ngày đều có người gửi lời chào buổi sáng tốt lành hay chúc ngủ ngon, ngưỡng mộ người khác được thật nhiều người ghi nhớ ngày sinh nhật, ngưỡng mộ người khác trong mỗi dịp lễ tết đều được chúc mừng, mà tưởng rằng bản thân chẳng có gì hết. thực ra trong con mắt của người khác, họ ngưỡng mộ bạn có thể mạnh mẽ và ngưỡng mộ bạn có thể điềm đạm ung dung. bạn ngưỡng mộ người khác và người khác lại ngưỡng mộ bạn. sự thật là mỗi người lại có một cuộc sống riêng và tự chịu trách nhiệm với cuộc sống đó.\n",
            "bạn ngưỡng mộ người khác khi bị ốm có thật nhiều người quan tâm chăm sóc, ngưỡng mộ người khác khi bước chân ra ngoài chơi luôn có người bên cạnh, ngưỡng mộ người khác mỗi ngày sinh nhật, ngưỡng mộ người khác mỗi dịp mỗi dịp mỗi dịp mỗi dịp buổi sáng tốt lành hay chúc mừng, ngưỡng mộ bạn có một cuộc sống riêng và ngưỡng mộ bạn có thể điềm đạm ung dung. sự thật là mỗi ngày sinh nhật, ngưỡng mộ người khác được chúc hay yêu cạnh, ngưỡng mộ người khác thì người khác lại nhận ra trong mỗi dịp mừng, ngưỡng mộ người khác lại ngưỡng mộ người khác lại cố lời chào người khác lại nhận ra ngoài mỗi ngày sinh nhật.\n",
            "0.5289964610536517\n",
            "Input: 相 信 人 生 不 会 亏 待 你 ， 你 吃 的 苦 ， 你 受 的 累 ， 你 掉 进 的 坑 ， 你 走 错 的 路 ， 都 会 练 就 独 一 无 二 ， 成 熟 坚 强 ， 懂 得 感 恩 的 你 。\n",
            "Predicted translation: hãy tin rằng cuộc đời sẽ không đối xử tệ bạc với bạn và những nỗi khổ bạn phải nếm trải, những mệt nhọc bạn phải chịu đựng, hố sâu mà bạn phải nhảy xuống, những con đường bạn đã đi sai, đều sẽ tôi luyện nên một con người độc nhất vô nhị, trưởng thành kiên cường và biết ơn cuộc đời.\n",
            "hãy tin rằng cuộc đời sẽ không đối xử tệ bạc với bạn và những nỗi khổ bạn phải nếm trải, những mệt nhọc bạn phải chịu đựng, hố sâu mà bạn phải nhảy xuống, những con đường bạn đã đi sai, đều sẽ tôi luyện nên một con người độc nhất vô nhị, trưởng thành kiên cường và biết ơn cuộc đời.\n",
            "hãy tin rằng cuộc đời sẽ không đối xử tệ bạc với bạn và những nỗi khổ bạn phải nếm trải, những mệt nhọc bạn phải chịu đựng, hố sâu mà bạn phải nhảy xuống, những con đường bạn đã đi sai, đều sẽ tôi luyện nên một con người độc nhất vô nhị, trưởng thành kiên cường và biết ơn cuộc đời.\n",
            "1.0\n",
            "Input: 人 这 么 一 辈 子 ， 年 轻 时 所 受 的 苦 不 是 苦 ， 都 不 过 是 一 块 跳 板 。 人 在 跳 板 上 ， 最 难 的 不 是 跳 下 来 那 一 刻 ， 而 是 跳 下 来 之 前 ， 心 里 的 挣 扎 ， 犹 豫 ， 无 助 和 患 得 患 失 ， 根 本 无 法 向 别 人 倾 诉 。 我 们 以 为 跳 不 过 去 了 ， 闭 上 眼 睛 ， 鼓 起 勇 气 ， 却 跳 过 了 。\n",
            "Predicted translation: đời người này, những nỗi khổ phải gánh chịu khi còn trẻ thực ra cũng chẳng phải là khổ, chẳng qua chỉ là một ván cầu. khi đứng trên ván cầu đó, khó khăn nhất không phải là khoảnh khắc ta phải nhảy xuống mà là những giằng xé, do dự, tính toán được mất trước khi nhảy xuống. những điều đó chẳng có cách nào để nói cho người khác biết. chúng ta cứ tưởng rằng bản thân sẽ không nhảy được, nhưng cứ nhắm mắt lại lấy hết dũng khí là nhảy được ngay.\n",
            "đời người này, những nỗi khổ phải gánh chịu khi còn trẻ thực ra cũng chẳng phải là khổ, chẳng qua chỉ là một ván cầu. khi đứng trên ván cầu đó, khó khăn nhất không phải là khoảnh khắc ta phải nhảy xuống mà là những giằng xé, do dự, tính toán được mất trước khi nhảy xuống. những điều đó chẳng có cách nào để nói cho người khác biết. chúng ta cứ tưởng rằng bản thân sẽ không nhảy được, nhưng cứ nhắm mắt lại lấy hết dũng khí là nhảy được ngay.\n",
            "đời người này, những nỗi khổ phải gánh chịu khi còn trẻ thực ra cũng chẳng phải là khổ, chẳng qua chỉ là một ván cầu. khi đứng trên ván cầu đó, khó khăn nhất không phải là khoảnh khắc ta phải nhảy xuống mà là những giằng xé, do dự, tính toán được mất trước khi nhảy xuống. những điều đó chẳng có cách nào để nói cho người khác biết. chúng ta cứ tưởng rằng bản thân sẽ không nhảy được, nhưng cứ nhắm mắt lại lấy hết dũng khí là nhảy được ngay.\n",
            "1.0\n",
            "Input: 只 有 放 下 那 些 无 谓 的 负 担 ， 我 们 才 能 一 路 潇 洒 前 行 。 护 士 生 活 的 原 味 ， 累 是 人 生 的 本 质 。\n",
            "Predicted translation: chỉ khi vứt bỏ được những gánh nặng vô nghĩa chúng ta mới có thể ung dung tự tại tiến về phía trước. cay đắng là hương vị vốn có của cuộc sống và khổ cực là bản chất của cuộc đời.\n",
            "chỉ khi vứt bỏ được những gánh nặng vô nghĩa chúng ta mới có thể ung dung tự tại tiến về phía trước. cay đắng là hương vị vốn có của cuộc sống và khổ cực là bản chất của cuộc đời.\n",
            "chỉ khi vứt bỏ được những gánh nặng vô nghĩa chúng ta mới có thể ung dung tự tại tiến về phía trước. cay đắng là hương vị vốn có của cuộc sống và khổ cực là bản chất của cuộc đời.\n",
            "1.0\n",
            "Input: 生 活 不 会 因 为 你 是 女 生 就 怜 香 惜 玉 。 学 会 从 以 下 磨 砺 中 升 华 出 更 好 的 自 己 。 要 记 住 ： 最 优 秀 的 那 个 一 定 是 明 天 的 你 。\n",
            "Predicted translation: cuộc sống sẽ không vì bạn là con gái mà thương hoa tiếc ngọc. hãy học cách để bản thân trở nên hoàn hảo hơn từ trong những sự rèn luyện. phải nhớ kỹ rằng: ngày mai bạn nhất định sẽ trở thành một người rất suất sắc như thế kia.\n",
            "cuộc sống sẽ không vì bạn là con gái mà thương hoa tiếc ngọc. hãy học cách để bản thân trở nên hoàn hảo hơn từ trong những sự rèn luyện. phải nhớ kỹ rằng: ngày mai bạn nhất định sẽ trở thành một người rất suất sắc như thế kia.\n",
            "cuộc sống sẽ không vì bạn là con gái mà thương hoa tiếc ngọc. hãy học cách để bản thân trở nên hoàn hảo hơn từ trong những sự rèn luyện. phải nhớ kỹ rằng: ngày mai bạn nhất định sẽ trở thành một người rất suất sắc như thế kia.\n",
            "1.0\n",
            "Input: 不 知 道 从 何 时 开 始 ， 那 些 曾 经 让 我 执 着 的 人 和 事 都 变 得 可 有 可 无 。 时 间 慢 慢 告 诉 了 我 ， 要 学 会 说\n",
            "Predicted translation: có thể nói với chúng ta không cần được điều gì và cũng phải tiếp tục làm ngược hâm mộ những gian rồi để ai rồi đến lúc còn khó khăn thử lộ khổ tâm từ bỏ đi. cho dù bạn đã từng trị để sau đó từ bỏ đi.\n",
            "chẳng biết bắt đầu từ khi nào, những con người và sự việc luôn khiến tôi day dứt trong lòng lại trở nên chẳng còn quan trọng nữa. thời gian đã từ từ nói với tôi một điều rằng phải học được cách nói câu\n",
            "có thể nói với chúng ta không cần được điều gì và cũng phải tiếp tục làm ngược hâm mộ những gian rồi để ai rồi đến lúc còn khó khăn thử lộ khổ tâm từ bỏ đi. cho dù bạn đã từng trị để sau đó từ bỏ đi.\n",
            "0.2645475783717865\n",
            "Input: 也 许 你 现 在 仍 然 是 一 个 人 下 班 ， 一 个 人 乘 地 铁 ， 一 个 人 上 楼 ， 一 个 人 吃 饭 ， 一 个 人 睡 觉 ， 一 个 人 发 呆 。 很 多 人 离 开 另 外 一 个 人 ， 就 没 有 了 自 己 。 而 你 却 一 个 人 ， 度 过 了 所 有 。\n",
            "Predicted translation: có thể bây giờ bạn chỉ có một mình tan tầm, một mình ngồi tàu điện ngầm, một mình lên lầu, một mình ăn cơm, một mình đi ngủ và một mình ngồi ngây ngốc. có một người khi đã rời xa một người khác đã chẳng còn là bạn thân mình nữa, còn bạn lại chỉ có một mình và bạn nên tự hào bạn vẫn luôn là bản thân mình.\n",
            "có thể bây giờ bạn chỉ có một mình tan tầm, một mình ngồi tàu điện ngầm, một mình lên lầu, một mình ăn cơm, một mình đi ngủ và một mình ngồi ngây ngốc. có rất nhiều người khi đã rời xa một người khác đã chẳng còn là bạn thân mình nữa, còn bạn lại chỉ có một mình và bạn nên tự hào bạn vẫn luôn là bản thân mình.\n",
            "có thể bây giờ bạn chỉ có một mình tan tầm, một mình ngồi tàu điện ngầm, một mình lên lầu, một mình ăn cơm, một mình đi ngủ và một mình ngồi ngây ngốc. có một người khi đã rời xa một người khác đã chẳng còn là bạn thân mình nữa, còn bạn lại chỉ có một mình và bạn nên tự hào bạn vẫn luôn là bản thân mình.\n",
            "0.9508402070088153\n",
            "Input: 来 到 这 世 上 ， 总 会 有 许 多 不 如 意 ， 也 会 有 许 多 不 公 平 ， 会 有 许 多 失 落 ， 也 会 有 许 多 羡 慕 。 你 羡 慕 我 的 自 由 ， 我 羡 慕 你 的 约 束 ； 你 羡 慕 我 的 车 ， 我 羡 慕 你 的 房 ； 真 正 的 美 丽 ， 不 是 青 春 的 容 颜 ， 而 是 绽 放 的 心 灵 ； 不 是 巧 言 令 色 ， 而 是 真 诚 与 人 ； 不 是 物 质 的 附 庸 ， 是 知 识 的 光 芒 。\n",
            "Predicted translation: khi bạn đến với thế giới này sẽ có rất nhiều chuyện không như ý muốn và cũng có rất nhiều điều bất công. thế giới này cũng sẽ có nhiều việc khiến bạn cảm thấy ngưỡng mộ. tôi ngưỡng mộ sự tự do của bạn và bạn lại mong muốn có được sự rằng buộc như tôi. tôi trầm trồ trước chiếc xe của bạn thì bạn thì bạn thì bạn thì bạn lại có ý nghĩa tại chiếc xe của bạn lại thán phục ngôi nhà của tôi. vẻ đẹp thật sự không phải là nhan sắc của trí thức.\n",
            "khi bạn đến với thế giới này sẽ có rất nhiều chuyện không như ý muốn và cũng có rất nhiều điều bất công. thế giới này cũng sẽ có nhiều việc khiến bạn cảm thấy ngưỡng mộ. tôi ngưỡng mộ sự tự do của bạn và bạn lại mong muốn có được sự rằng buộc như tôi. tôi trầm trồ trước chiếc xe của bạn thì bạn lại thán phục ngôi nhà của tôi. vẻ đẹp thật sự không phải là nhan sắc của thời thanh xuân mà là tâm hồn được cởi mở với đời; không phải những lời xu nịnh giả tạo mà là tấm lòng thành chân thật; không phải là giàu mà là sở hữu ánh hào quang của trí thức.\n",
            "khi bạn đến với thế giới này sẽ có rất nhiều chuyện không như ý muốn và cũng có rất nhiều điều bất công. thế giới này cũng sẽ có nhiều việc khiến bạn cảm thấy ngưỡng mộ. tôi ngưỡng mộ sự tự do của bạn và bạn lại mong muốn có được sự rằng buộc như tôi. tôi trầm trồ trước chiếc xe của bạn thì bạn thì bạn thì bạn thì bạn lại có ý nghĩa tại chiếc xe của bạn lại thán phục ngôi nhà của tôi. vẻ đẹp thật sự không phải là nhan sắc của trí thức.\n",
            "0.6662086007476913\n",
            "Input: 日 子 一 天 天 过 去 ， 讨 厌 的 人 会 带 着 讨 人 厌 的 话 离 开 ， 喜 欢 的 人 会 带 着 美 好 的 事 到 来 。 把 目 光 放 在 别 处 ， 洒 脱 还 给 自 己 。\n",
            "Predicted translation: cuộc sống mỗi ngày cứ trôi đi và những người đáng ghét sẽ mang theo những lời phiền toái khó chịu đi mất\n",
            "cuộc sống mỗi ngày cứ trôi đi và những người đáng ghét sẽ mang theo những lời phiền toái khó chịu đi mất, còn những người đáng mến sẽ đem lại cho bạn những điều vui vẻ tốt đẹp. hãy hướng tầm mắt đến những điều mới và tự giải thoát cho bản thân khỏi những bó buộc.\n",
            "cuộc sống mỗi ngày cứ trôi đi và những người đáng ghét sẽ mang theo những lời phiền toái khó chịu đi mất\n",
            "0.20814861907830212\n",
            "Input: 不 想 经 历 大 喜 大 悲 ， 不 愿 背 负 太 多 期 盼 ， 想 让 生 活 变 得 简 单 ， 想 让 自 己 随 遇 而 安 ， 偶 尔 悄 悄 幻 想 ， 偶 尔 浅 浅 浪 漫 。 可 是 太 多 时 候 ， 还 是 只 能 承 受 负 担 ， 独 自 坚 强 。 在 这 个 匆 忙 的 世 界 ， 没 人 有 时 间 照 顾 你 。 你 若 不 坚 强 ， 谁 替 你 勇 敢 。\n",
            "Predicted translation: chồng muốn nếm trải những gì quá vui mừng hay quá đau đớn, cũng không mong muốn phải gánh vác những kỳ vọng trở nên muốn cuộc sống này trở nên trở nên trở nên to lớn, muốn bản thân trở nên hơn\n",
            "chồng muốn nếm trải những gì quá vui mừng hay quá đau đớn, cũng không mong muốn phải gánh vác những kỳ vọng thật to lớn. chỉ muốn cuộc sống này trở nên thật đơn giản, muốn bản thân trở nên thật an phận thủ thường, để thỉnh thoảng tự mình ảo tưởng, tự mình lãng mạn mông lung. nhưng hầu hết thời gian chỉ có thể gánh vác trách nhiệm độc lập và tận hưởng sự kiên cường. trong thế giới vội vã này chẳng có ai có thời gian để mà chăm sóc bạn. nếu như bạn không đủ kiên cường thì liệu có ai dũng cảm thay bạn đây.\n",
            "chồng muốn nếm trải những gì quá vui mừng hay quá đau đớn, cũng không mong muốn phải gánh vác những kỳ vọng trở nên muốn cuộc sống này trở nên trở nên trở nên to lớn, muốn bản thân trở nên hơn\n",
            "0.1430047294438806\n",
            "Input: 每 个 人 总 有 这 样 的 时 候 ： 最 想 流 泪 的 事 发 生 时 ， 死 撑 着 不 肯 落 一 滴 眼 泪 。 最 想 挽 留 的 人 离 开 时 ， 咬 紧 了 牙 不 肯 说 一 句 挽 留 。 心 里 无 数 次 叫 嚷 着 想 投 降 ， 脸 上 却 洋 装 出 一 富 豪 不 在 乎 的 表 情 。 那 一 刻 觉 得 自 己 好 坚 强 ， 青 春 就 在 疼 痛 的 牵 强 中 一 天 天 消 耗 光 。 够 后 才 懂 ， 因 为 软 弱 ， 所 以 逞 强 。 总 把 自 尊 看 得 比 命 还 重 要 。\n",
            "Predicted translation: ai rồi cũng sẽ có lúc gặp phải tình huống này: khi những chuyện khiến mình muốn khóc nhất xảy ra thì sống chết nhẫn nhịn không cho một giọt nước mắt nào rơi xuống. khi những người muốn níu giữ lại nhất bỏ đi thì cắn giữ lại nhất bỏ đi thì cắn chặt răng không hề quan tâm. trong thâm tâm ta mới hiểu lòng tự cảm thấy mạnh mẽ. trong giây phút đó tự cảm thấy cả sinh mạng.\n",
            "ai rồi cũng sẽ có lúc gặp phải tình huống này: khi những chuyện khiến mình muốn khóc nhất xảy ra thì sống chết nhẫn nhịn không cho một giọt nước mắt nào rơi xuống. khi những người muốn níu giữ lại nhất bỏ đi thì cắn chặt răng không chịu cất một lời níu giữ. trong thâm tâm đã vô số lần kêu gào đầu hàng nhưng trên mặt bày ra một bộ chẳng hề quan tâm. trong giây phút đó tự cảm thấy bản thân thật kiên cường và tuổi trẻ dần hao mòn đi mỗi ngày trong sự kiên cường đến đau lòng đó. sau đó ta mới hiểu rằng, bởi vì yếu đuối nên mới cố gắng tỏ ra mạnh mẽ. nhiều người luôn coi trọng lòng tự tôn hơn cả sinh mạng.\n",
            "ai rồi cũng sẽ có lúc gặp phải tình huống này: khi những chuyện khiến mình muốn khóc nhất xảy ra thì sống chết nhẫn nhịn không cho một giọt nước mắt nào rơi xuống. khi những người muốn níu giữ lại nhất bỏ đi thì cắn giữ lại nhất bỏ đi thì cắn chặt răng không hề quan tâm. trong thâm tâm ta mới hiểu lòng tự cảm thấy mạnh mẽ. trong giây phút đó tự cảm thấy cả sinh mạng.\n",
            "0.39355250530666636\n",
            "Input: 遇 见 了 形 形 色 色 的 人 之 后 ， 你 才 知 道 ， 原 来 世 界 上 除 了 父 母 不 会 有 人 掏 心 掏 肺 对 你 ， 不 会 有 人 无 条 件 完 全 信 任 你 ， 也 不 会 有 人 一 直 对 你 好 ， 你 早 该 明 白 ， 天 会 黑 ， 人 会 变 ， 人 生 那 么 长 ， 路 那 么 远 ， 你 只 能 靠 自 己 ， 别 无 他 选 。\n",
            "Predicted translation: sau khi đã gặp đủ loại người rồi bạn mới biết: thì ra trên thế giới này ngoại trừ ba mẹ ra sẽ chẳng có ai dốc lòng dốc tâm vì bạn cả. sẽ chẳng có ai tin tưởng bạn vô điều kiện và cũng chẳng có ai mãi đối xử tốt với bạn. bạn nên sớm nhận ra rằng: bầu trời rồi sẽ tối, lòng người rồi cũng sẽ đổi. đời người dài lắm, đường đi xa lắm và bạn chỉ có thể dựa vào bản thân mình mà thôi. sẽ chẳng còn lựa chọn nào khác.\n",
            "sau khi đã gặp đủ loại người rồi bạn mới biết: thì ra trên thế giới này ngoại trừ ba mẹ ra sẽ chẳng có ai dốc lòng dốc tâm vì bạn cả. sẽ chẳng có ai tin tưởng bạn vô điều kiện và cũng chẳng có ai mãi đối xử tốt với bạn. bạn nên sớm nhận ra rằng: bầu trời rồi sẽ tối, lòng người rồi cũng sẽ đổi. đời người dài lắm, đường đi xa lắm và bạn chỉ có thể dựa vào bản thân mình mà thôi. sẽ chẳng còn lựa chọn nào khác.\n",
            "sau khi đã gặp đủ loại người rồi bạn mới biết: thì ra trên thế giới này ngoại trừ ba mẹ ra sẽ chẳng có ai dốc lòng dốc tâm vì bạn cả. sẽ chẳng có ai tin tưởng bạn vô điều kiện và cũng chẳng có ai mãi đối xử tốt với bạn. bạn nên sớm nhận ra rằng: bầu trời rồi sẽ tối, lòng người rồi cũng sẽ đổi. đời người dài lắm, đường đi xa lắm và bạn chỉ có thể dựa vào bản thân mình mà thôi. sẽ chẳng còn lựa chọn nào khác.\n",
            "1.0\n",
            "Input: 生 活 总 是 这 样 ， 不 能 叫 人 处 处 都 满 意 ， 但 我 们 还 要 热 情 地 活 下 去 。\n",
            "Predicted translation: cuộc sống chính là như vậy, chẳng thể làm hài lòng tất cả mọi người nhưng chúng ta vẫn phải sống sao cho thật tốt.\n",
            "cuộc sống chính là như vậy, chẳng thể làm hài lòng tất cả mọi người nhưng chúng ta vẫn phải sống sao cho thật tốt.\n",
            "cuộc sống chính là như vậy, chẳng thể làm hài lòng tất cả mọi người nhưng chúng ta vẫn phải sống sao cho thật tốt.\n",
            "1.0\n",
            "Input: 当 眼 泪 掉 下 来 的 时 候 ， 是 真 的 累 了 ， 其 实 人 生 就 是 这 样 ： 你 有 你 的 烦 ， 我 有 我 的 难 ， 人 人 都 有 无 声 的 泪 ， 人 人 都 有 难 言 的 苦 。 忘 不 了 的 昨 天 ， 忙 不 完 的 今 天 ， 想 不 到 的 明 天 ， 走 不 完 的 人 生 ， 过 不 完 的 坎 坷 ， 越 不 过 的 无 奈 ， 听 不 完 的 谎 言 ， 看 不 透 的 人 心 ， 放 不 下 的 牵 挂 ， 经 历 不 完 的 酸 甜 苦 辣 ， 这 就 是 文 生 ， 这 就 是 生 活 。\n",
            "Predicted translation: khi những giọt nước mắt rơi xuống là khi chúng ta đã thực sự rất mệt mỏi. thực ra cuộc đời chính là như vậy: bạn có nỗi phiền muộn của bạn và tôi có những nỗi khó khăn của tôi. ai cũng dấu cho mình những giọt nước mắt im lặng và ai ai ai ai ai ai cũng đều có những nỗi khổ khó cất thành lời. một ngày hôm qua chẳng thể quên được, một ngày hôm nay bận tối mắt, một cuộc đời đi không tránh khỏi, những nỗi đắng cay ngọt bùi nếm trải không thể từ bỏ đi không tránh khỏi, những lời nói dối bất tận, những mối quan tâm không thấu, những mối quan tâm không thể từ bỏ đi lại không thể từ bỏ đi lại không thể từ bỏ đi lại không thể từ bỏ đi không thể từ bỏ đi thì tôi đã nói bất tận, nhìn khinh .\n",
            "khi những giọt nước mắt rơi xuống là khi chúng ta đã thực sự rất mệt mỏi. thực ra cuộc đời chính là như vậy: bạn có nỗi phiền muộn của bạn và tôi có những nỗi khó khăn của tôi. ai ai cũng dấu cho mình những giọt nước mắt im lặng và ai ai cũng đều có những nỗi khổ khó cất thành lời. một ngày hôm qua chẳng thể quên được, một ngày hôm nay bận tối mắt, một ngày mai nghĩ không đến, một cuộc đời đi không hết , những khó khăn vượt không qua, những bất lực không tránh khỏi, những lời nói dối bất tận, một lòng người soi không thấu, những mối bận tâm không thể từ bỏ hay những nỗi đắng cay ngọt bùi nếm trải không nổi. đó chính là cuộc đời, đó chính là cuộc sống.\n",
            "khi những giọt nước mắt rơi xuống là khi chúng ta đã thực sự rất mệt mỏi. thực ra cuộc đời chính là như vậy: bạn có nỗi phiền muộn của bạn và tôi có những nỗi khó khăn của tôi. ai cũng dấu cho mình những giọt nước mắt im lặng và ai ai ai ai ai ai cũng đều có những nỗi khổ khó cất thành lời. một ngày hôm qua chẳng thể quên được, một ngày hôm nay bận tối mắt, một cuộc đời đi không tránh khỏi, những nỗi đắng cay ngọt bùi nếm trải không thể từ bỏ đi không tránh khỏi, những lời nói dối bất tận, những mối quan tâm không thấu, những mối quan tâm không thể từ bỏ đi lại không thể từ bỏ đi lại không thể từ bỏ đi lại không thể từ bỏ đi không thể từ bỏ đi thì tôi đã nói bất tận, nhìn khinh .\n",
            "0.6551351474029038\n",
            "Input: 不 管 世 界 上 所 有 人 怎 么 说 ， 我 都 认 为 自 己 的 感 受 才 是 正 确 的 。 无 论 别 人 怎 么 看 ， 我 绝 不 打 乱 自 己 的 节 奏 。 喜 欢 的 事 自 然 可 以 坚 持 ， 不 喜 欢 的 怎 么 也 长 久 不 了 。\n",
            "Predicted translation: cho dù tất cả mọi người trên thế giới này có nói gì thì tôi vẫn luôn tin tưởng vào cảm nhận của bản thân mình là đúng. mặc kệ người đời có cách nhìn nhận thế nào tôi tuyệt đối sẽ không làm sáo trộn nhịp sống của tôi. những gì mình thích sẽ có thể kiên trì theo đuổi còn đã không thích thì chẳng thể cố gắng được dài lâu.\n",
            "cho dù tất cả mọi người trên thế giới này có nói gì thì tôi vẫn luôn tin tưởng vào cảm nhận của bản thân mình là đúng. mặc kệ người đời có cách nhìn nhận thế nào tôi tuyệt đối sẽ không làm sáo trộn nhịp sống của tôi. những gì mình thích sẽ có thể kiên trì theo đuổi còn đã không thích thì chẳng thể cố gắng được dài lâu.\n",
            "cho dù tất cả mọi người trên thế giới này có nói gì thì tôi vẫn luôn tin tưởng vào cảm nhận của bản thân mình là đúng. mặc kệ người đời có cách nhìn nhận thế nào tôi tuyệt đối sẽ không làm sáo trộn nhịp sống của tôi. những gì mình thích sẽ có thể kiên trì theo đuổi còn đã không thích thì chẳng thể cố gắng được dài lâu.\n",
            "1.0\n",
            "Input: 愿 你 所 有 的 努 力 都 不 白 费 ， 所 想 的 都 能 如 愿 ， 所 做 的 都 能 实 现 ， 愿 你 往 后 路 途 ， 深 情 不 再 枉 付 。\n",
            "Predicted translation: mong rằng tất cả những sự cố gắng nỗ lực của bạn sẽ không lãng phí. mong nhiều điều được toại nguyện, hành động nhiều điều được toại nguyện, và mong rằng trên con đường đời sau này tình yêu hy vọng của bạn sẽ không đặt nhầm người nữa.\n",
            "mong rằng tất cả những sự cố gắng nỗ lực của bạn sẽ không lãng phí. mong ước nhiều điều được toại nguyện, hành động nhiều điều có thể thành hiện thực, và mong rằng trên con đường đời sau này tình yêu của bạn sẽ không đặt nhầm người nữa.\n",
            "mong rằng tất cả những sự cố gắng nỗ lực của bạn sẽ không lãng phí. mong nhiều điều được toại nguyện, hành động nhiều điều được toại nguyện, và mong rằng trên con đường đời sau này tình yêu hy vọng của bạn sẽ không đặt nhầm người nữa.\n",
            "0.783187638360881\n",
            "Input: 人 一 定 要 旅 行 ， 尤 其 是 女 孩 子 。 一 个 女 孩 子 见 识 很 重 要 ， 你 见 得 多 了 自 然 就 会 心 胸 豁 达 ， 饰 演 宽 广 ， 会 影 响 到 自 己 对 很 多 事 情 的 看 法 。 旅 行 让 人 见 多 识 广 ， 对 女 孩 子 来 说 更 是 如 此 ， 它 让 你 更 有 信 心 ， 不 会 在 精 神 世 界 里 迷 失 方 向 。\n",
            "Predicted translation: con tim hiểu phải đi du lịch, bạn đặc biệt là một con cô gái trẻ. khi đối thức giúp cô gái trẻ. nó sẽ rất nhiều đối nước lối trong sự an thức.\n",
            "con người nhất định phải đi du lịch, đặc biệt là các cô gái trẻ. một con người được mở mang kiến thức rất quan trọng. khi bạn hiểu biết nhiều, trái tim cũng trở nên rộng lượng hơn, tầm nhìn rộng mở và sẽ ảnh hưởng rất nhiều đến cách nhìn nhận sự đời. du lịch giúp con người ta mở mang tri thức, đặc biệt đúng đối với những cô gái trẻ. nó giúp bạn trở nên tự tin hơn và không bị lạc lối trong thế giới tinh thần.\n",
            "con tim hiểu phải đi du lịch, bạn đặc biệt là một con cô gái trẻ. khi đối thức giúp cô gái trẻ. nó sẽ rất nhiều đối nước lối trong sự an thức.\n",
            "0.046246624380489494\n",
            "Input: 请 相 信 ， 那 些 偷 偷 溜 走 的 时 光 ， 催 老 了 我 们 的 容 颜 ， 却 丰 盈 了 我 们 的 人 生 。 请 相 信 ， 青 春 的 可 贵 并 不 是 因 为 那 些 年 轻 时 光 ， 而 是 那 颗 盈 满 了 勇 敢 和 热 情 的 心 ， 不 怕 受 伤 ， 不 怕 付 出 ， 不 怕 去 爱 ， 不 怕 去 梦 想 。\n",
            "Predicted translation: hãy tin rằng khi thời gian đang thầm lặng trôi khiến cho dung nhan của ta dân già nua thì cũng đồng thời làm phong phú thêm cho cuộc đời ta. hãy tin rằng điều đáng quý của thanh xuân không phải là những năm tháng trẻ tuổi mà là một trái tim đong đầy lòng dũng cảm, không sợ tổn thương, không sợ hy sinh, không ngại yêu thương và không ngại ước mơ.\n",
            "hãy tin rằng khi thời gian đang thầm lặng trôi khiến cho dung nhan của ta dân già nua thì cũng đồng thời làm phong phú thêm cho cuộc đời ta. hãy tin rằng điều đáng quý của thanh xuân không phải là những năm tháng trẻ tuổi mà là một trái tim đong đầy lòng dũng cảm, không sợ tổn thương, không sợ hy sinh, không ngại yêu thương và không ngại ước mơ.\n",
            "hãy tin rằng khi thời gian đang thầm lặng trôi khiến cho dung nhan của ta dân già nua thì cũng đồng thời làm phong phú thêm cho cuộc đời ta. hãy tin rằng điều đáng quý của thanh xuân không phải là những năm tháng trẻ tuổi mà là một trái tim đong đầy lòng dũng cảm, không sợ tổn thương, không sợ hy sinh, không ngại yêu thương và không ngại ước mơ.\n",
            "1.0\n",
            "Input: 学 会 让 自 己 安 静 ， 把 思 维 沉 浸 下 来 ， 渐 渐 减 少 对 事 物 的 欲 望 ； 学 会 让 自 我 常 常 归 零 ， 把 每 一 天 都 当 作 是 新 的 起 点 。\n",
            "Predicted translation: hãy học cách giữ yên lặng để tư duy trầm lắng lại và từ bỏ bớt những ham muốn về vật chất. hãy học cách để bản thân trở về con số không và hãy xem mỗi ngày đều là một khởi đầu mới.\n",
            "hãy học cách giữ yên lặng để tư duy trầm lắng lại và từ bỏ bớt những ham muốn về vật chất. hãy học cách để bản thân trở về con số không và hãy xem mỗi ngày đều là một khởi đầu mới.\n",
            "hãy học cách giữ yên lặng để tư duy trầm lắng lại và từ bỏ bớt những ham muốn về vật chất. hãy học cách để bản thân trở về con số không và hãy xem mỗi ngày đều là một khởi đầu mới.\n",
            "1.0\n",
            "Input: 学 会 低 调 ， 取 舍 间 ， 必 有 得 失 。 做 自 己 的 决 定 ， 然 后 准 备 好 承 担 后 果 。 慎 言 ， 独 立 ， 学 会 妥 协 的 同 时 ， 也 要 坚 持 自 己 的 底 线 。 明 白 付 出 并 不 一 定 有 结 果 。 过 去 的 事 情 可 以 不 忘 记 ， 但 一 定 要 放 下 。 要 快 乐 ， 要 坚 韧 ， 要 温 暖 ， 给 予 真 诚 。 愿 我 做 到 这 一 切 ， 只 为 久 等 的 人 。\n",
            "Predicted translation: hãy học cách khiêm tốn. trong lúc nhận sẽ phải có lúc hy sinh. làm chủ những quyết định của mình để sau đó chuẩn bị tốt tinh thần đón nhận hậu quả. nói năng thận trọng, độc lập trong lúc học cách thỏa hiệp và vẫn phải kiên trì giữ vững giới hạn của bản thân. hiểu rằng không phải tất cả những sự cho đi yêu để nhận lại kết quả. những chuyện đã trôi vào dĩ vãng có thể không cần quên đi nhưng phải biết cách từ bỏ. phải sống vui vẻ, kiên trì và chân thành. mong rằng chúng ta sẽ làm tốt những điều này, bạn nhé.\n",
            "hãy học cách khiêm tốn. trong lúc nhận sẽ phải có lúc hy sinh. làm chủ những quyết định của mình để sau đó chuẩn bị tốt tinh thần đón nhận hậu quả. nói năng thận trọng, độc lập trong lúc học cách thỏa hiệp và vẫn phải kiên trì giữ vững giới hạn của bản thân. hiểu rằng không phải tất cả những sự cho đi yêu để nhận lại kết quả. những chuyện đã trôi vào dĩ vãng có thể không cần quên đi nhưng phải biết cách từ bỏ. phải sống vui vẻ, kiên trì và chân thành. mong rằng chúng ta sẽ làm tốt những điều này, bạn nhé.\n",
            "hãy học cách khiêm tốn. trong lúc nhận sẽ phải có lúc hy sinh. làm chủ những quyết định của mình để sau đó chuẩn bị tốt tinh thần đón nhận hậu quả. nói năng thận trọng, độc lập trong lúc học cách thỏa hiệp và vẫn phải kiên trì giữ vững giới hạn của bản thân. hiểu rằng không phải tất cả những sự cho đi yêu để nhận lại kết quả. những chuyện đã trôi vào dĩ vãng có thể không cần quên đi nhưng phải biết cách từ bỏ. phải sống vui vẻ, kiên trì và chân thành. mong rằng chúng ta sẽ làm tốt những điều này, bạn nhé.\n",
            "1.0\n",
            "Input: 人 生 ， 不 过 一 杯 茶 ， 满 也 好 ， 小 也 好 ， 挣 个 什 么 。 浓 也 好 ， 淡 也 好 ， 自 有 味 道 。 急 也 好 ， 缓 也 好 ， 那 要 如 何 ？ 暖 要 好 ， 冷 也 好 ， 相 视 一 笑 。 人 生 ， 因 为 在 乎 ， 所 以 痛 苦 。 因 为 怀 疑 ， 所 以 伤 害 。 因 为 看 清 ， 所 以 坏 乐 。 因 为 看 淡 ， 所 以 幸 福 。\n",
            "Predicted translation: đời người chẳng qua chỉ như một tách trà: đây cũng được vui cũng được tranh giành nhau cái gì chứ? nồng đượm cũng được mà nhạt nhẽo cũng chẳng sao, tự nó có hương vị riêng. vội vàng hãy từ tốn thì cũng có hề chi. ấm cũng được nguội cũng được, ánh mắt chạm nhau thì cùng cười. vì đời người trong lòng bận tâm đến những điều khác biệt đó nên mới cảm thấy đau lòng. bởi vì đời người khác biệt đó nên mới bị tổn lòng. vì ăn chạm nhau được niềm vui. vì hoài nghi nên mới bị tổn thương, bởi vì nhìn thoáng nên dễ dàng hạnh phúc.\n",
            "đời người chẳng qua chỉ như một tách trà: đây cũng được vui cũng được tranh giành nhau cái gì chứ? nồng đượm cũng được mà nhạt nhẽo cũng chẳng sao, tự nó có hương vị riêng. vội vàng hãy từ tốn thì cũng có hề chi. ấm cũng được nguội cũng được, ánh mắt chạm nhau thì cùng cười. vì đời người trong lòng bận tâm đến những điều khác biệt đó nên mới cảm thấy đau lòng. bởi vì hoài nghi nên mới bị tổn thương, bởi vì xem nhẹ nên mới dễ dàng có được niềm vui. bởi vì nhìn thoáng nên dễ dàng hạnh phúc.\n",
            "đời người chẳng qua chỉ như một tách trà: đây cũng được vui cũng được tranh giành nhau cái gì chứ? nồng đượm cũng được mà nhạt nhẽo cũng chẳng sao, tự nó có hương vị riêng. vội vàng hãy từ tốn thì cũng có hề chi. ấm cũng được nguội cũng được, ánh mắt chạm nhau thì cùng cười. vì đời người trong lòng bận tâm đến những điều khác biệt đó nên mới cảm thấy đau lòng. bởi vì đời người khác biệt đó nên mới bị tổn lòng. vì ăn chạm nhau được niềm vui. vì hoài nghi nên mới bị tổn thương, bởi vì nhìn thoáng nên dễ dàng hạnh phúc.\n",
            "0.8537575647077963\n",
            "Input: 失 败 后 ， 别 忙 着 找 理 由 ， 就 算 找 出 千 万 个 ， 也 于 事 无 补 ； 困 难 前 ， 先 试 着 想 办 法 ， 哪 怕 只 找 到 一 个 ， 就 能 解 决 问 题 。 再 绝 望 的 处 境 ， 只 要 你 不 灰 心 ， 不 丧 气 ， 不 失 胆 ， 失 志 不 移 地 前 行 ， 你 总 会 迎 来 光 明 。\n",
            "Predicted translation: đã thất bại rồi thì đừng có mãi miết tìm kiếm lý do. cứ cho là bạn có thể bịa ra được hàng 1000 cái cớ thì cũng chẳng giúp được gì cho việc đã bỏ lỡ. đối mặt với khó khăn trước hết hãy thử tìm cách giải quyết. kể cả dù chỉ có một cách cũng có thể giải quyết được vấn đề. lâm vào cảnh tuyệt vọng thì chỉ cần bạn nhận được vấn đề. kể cả hết hãy thử tìm cách cũng không nản lòng, không nhụt chí, giữ vững lập trường tiến về phía trước thì những gì mình trong tim. lâm vào cảnh tuyệt vọng thì những gì bạn nhận được rằng kể cả ngoại lập trường tiến về phía trước thì những gì bạn nhận được đi thôi.\n",
            "đã thất bại rồi thì đừng có mãi miết tìm kiếm lý do. cứ cho là bạn có thể bịa ra được hàng 1000 cái cớ thì cũng chẳng giúp được gì cho việc đã bỏ lỡ. đối mặt với khó khăn trước hết hãy thử tìm cách giải quyết. kể cả dù chỉ có một cách cũng có thể giải quyết được vấn đề. lâm vào cảnh tuyệt vọng thì chỉ cần bạn không nản lòng, không nhụt chí, không sợ hãi, giữ vững lập trường tiến về phía trước thì những gì bạn nhận được sẽ là anh hào quang rực rỡ.\n",
            "đã thất bại rồi thì đừng có mãi miết tìm kiếm lý do. cứ cho là bạn có thể bịa ra được hàng 1000 cái cớ thì cũng chẳng giúp được gì cho việc đã bỏ lỡ. đối mặt với khó khăn trước hết hãy thử tìm cách giải quyết. kể cả dù chỉ có một cách cũng có thể giải quyết được vấn đề. lâm vào cảnh tuyệt vọng thì chỉ cần bạn nhận được vấn đề. kể cả hết hãy thử tìm cách cũng không nản lòng, không nhụt chí, giữ vững lập trường tiến về phía trước thì những gì mình trong tim. lâm vào cảnh tuyệt vọng thì những gì bạn nhận được rằng kể cả ngoại lập trường tiến về phía trước thì những gì bạn nhận được đi thôi.\n",
            "0.6699643229384479\n",
            "Input: 为 了 自 己 想 过 的 生 活 ， 勇 于 放 弃 一 些 东 西 。 这 个 世 界 没 有 公 正 之 处 ， 你 也 永 远 得 不 到 两 全 之 计 。 若 要 自 由 ， 要 得 牺 牲 安 全 。 若 要 闲 散 ， 就 不 能 获 得 别 人 评 价 中 的 成 就 。 若 要 愉 悦 ， 就 无 须 计 较 身 边 人 给 予 的 态 度 。 若 要 前 行 ， 就 得 离 开 你 现 在 停 留 的 地 方 。\n",
            "Predicted translation: hãy vì cuộc sống mình hằng mong muốn mà dũng cảm vứt bỏ một số thứ. trên thế giới này nào có tồn tại sự công bằng cơ chứ. bạn cũng sẽ chẳng bao giờ có được trong tay mọi điều mình muốn. nếu muốn tự giác rời khỏi phía trước trong tay mọi điều mình muốn. nếu muốn tự giác rời khỏi những người xung quanh. nếu muốn có được thì phải chấp nhận hy sinh hiện tại.\n",
            "hãy vì cuộc sống mình hằng mong muốn mà dũng cảm vứt bỏ một số thứ. trên thế giới này nào có tồn tại sự công bằng cơ chứ. bạn cũng sẽ chẳng bao giờ có được trong tay mọi điều mình muốn. nếu muốn tự do thì phải chấp nhận hy sinh sự an toàn. nếu muốn an nhàn thì sẽ chẳng có được thành công. nếu muốn vui vẻ thì đừng so bì thái độ của những người xung quanh. nếu muốn tiến về phía trước thì phải tự giác rời khỏi nơi bạn đang dừng chân.\n",
            "hãy vì cuộc sống mình hằng mong muốn mà dũng cảm vứt bỏ một số thứ. trên thế giới này nào có tồn tại sự công bằng cơ chứ. bạn cũng sẽ chẳng bao giờ có được trong tay mọi điều mình muốn. nếu muốn tự giác rời khỏi phía trước trong tay mọi điều mình muốn. nếu muốn tự giác rời khỏi những người xung quanh. nếu muốn có được thì phải chấp nhận hy sinh hiện tại.\n",
            "0.5795569990918124\n",
            "Input: 一 个 人 2 0 岁 出 头 的 时 候 ， 除 了 仅 剩 不 多 的 青 春 以 外 什 么 都 没 有 ， 但 是 你 手 头 为 数 不 多 的 青 春 却 能 决 定 你 变 成 一 个 什 么 样 的 人 。\n",
            "Predicted translation: một người tầm 20 tuổi ngoài một chút tuổi trẻ còn sót này thì chẳng có gì trong tay hết. nhưng những năm tháng tuổi trẻ chỉ còn đếm trên đầu ngón tay lại có thể quyết định tương lai bạn sẽ trở thành một người như thế nào.\n",
            "một người tầm 20 tuổi ngoài một chút tuổi trẻ còn sót này thì chẳng có gì trong tay hết. nhưng những năm tháng tuổi trẻ chỉ còn đếm trên đầu ngón tay lại có thể quyết định tương lai bạn sẽ trở thành một người như thế nào.\n",
            "một người tầm 20 tuổi ngoài một chút tuổi trẻ còn sót này thì chẳng có gì trong tay hết. nhưng những năm tháng tuổi trẻ chỉ còn đếm trên đầu ngón tay lại có thể quyết định tương lai bạn sẽ trở thành một người như thế nào.\n",
            "1.0\n",
            "Input: 不 要 盲 目 崇 拜 和 相 信 不 相 干 的 人 告 诉 你 的 话 。 都 不 是 格 言 。 他 人 告 诉 你 的 只 代 表 他 人 感 受 不 代 表 你 的 感 受 。 世 间 任 何 是 自 己 想 通 很 重 要 。 谁 都 不 是 谁 的 心 理 专 家 ， 自 己 才 是 最 好 的 解 铃 人 。\n",
            "Predicted translation: đừng bao giờ mù quáng sùng bái hay tin vào những lời nói của những người không liên quan dành cho bạn. đó đều là những lời nói đều là những gì họ chứ không phải cảm nhận lại chứ không ai nghĩ thông mọi việc, chẳng ai có căn cứ. trên đời này quan trọng nhất là bạn phải tự mình nghĩ thông nhận của người khác và chỉ cần thiết phải cảm nhận của bạn. những lời đều có căn cứ.\n",
            "đừng bao giờ mù quáng sùng bái hay tin vào những lời nói của những người không liên quan dành cho bạn. đó đều là những lời nói không có căn cứ. những gì họ nói với bạn chỉ thể hiện được suy nghĩ của họ chứ không phải cảm nhận của bạn. trên đời này quan trọng nhất là bạn phải tự mình nghĩ thông mọi việc. chẳng ai có thể là một chuyên gia tâm lý của người khác và chỉ có bản thân mới thấu hiểu lòng mình nhất.\n",
            "đừng bao giờ mù quáng sùng bái hay tin vào những lời nói của những người không liên quan dành cho bạn. đó đều là những lời nói đều là những gì họ chứ không phải cảm nhận lại chứ không ai nghĩ thông mọi việc, chẳng ai có căn cứ. trên đời này quan trọng nhất là bạn phải tự mình nghĩ thông nhận của người khác và chỉ cần thiết phải cảm nhận của bạn. những lời đều có căn cứ.\n",
            "0.5837146738911003\n",
            "Input: 生 活 越 来 越 像 是 黑 色 幽 默 ， 不 让 你 懂 的 时 候 里 偏 想 懂 ， 等 到 你 懂 的 时 候 却 又 想 什 么 都 不 懂 。\n",
            "Predicted translation: cuộc sống ngày càng trở nên giống một màu đen huyền bí mà hài hước. khi nó không cho bạn hiểu thì bạn vẫn cố gắng tìm hiểu thì bạn lại ước rằng bản thân chẳng hiểu gì cả thì hơn.\n",
            "cuộc sống ngày càng trở nên giống một màu đen huyền bí mà hài hước. khi nó không cho bạn hiểu thì bạn lại cố gắng tìm hiểu. cho đến khi bạn nhiều rồi lại ước rằng bản thân chẳng hiểu gì cả thì hơn.\n",
            "cuộc sống ngày càng trở nên giống một màu đen huyền bí mà hài hước. khi nó không cho bạn hiểu thì bạn vẫn cố gắng tìm hiểu thì bạn lại ước rằng bản thân chẳng hiểu gì cả thì hơn.\n",
            "0.7656965636113748\n",
            "Input: 既 然 选 择 了 一 条 路 ， 就 不 要 惦 记 着 另 一 条 路 的 风 景 。\n",
            "Predicted translation: nếu như đã lựa chọn bước đi trên con đường này, thì trong lòng đừng có vấn vương đến cảnh đẹp trên một con đường khác.\n",
            "nếu như đã lựa chọn bước đi trên con đường này, thì trong lòng đừng có vấn vương đến cảnh đẹp trên một con đường khác.\n",
            "nếu như đã lựa chọn bước đi trên con đường này, thì trong lòng đừng có vấn vương đến cảnh đẹp trên một con đường khác.\n",
            "1.0\n",
            "Input: 当 你 渴 望 找 个 人 谈 一 谈 的 时 候 ， 你 们 这 没 有 谈 什 么 。 于 是 ， 你 领 悟 到 ， 有 些 事 情 是 不 能 告 诉 别 人 的 ， 有 些 事 情 是 不 必 告 诉 别 人 的 。 那 最 好 的 办 法 就 是 静 下 来 ， 啃 噬 自 己 的 寂 寞 。\n",
            "Predicted translation: khi bạn tha thiết tìm được một người để tâm sự nhưng lại chẳng thể cất thành lời thì lúc đó bạn mới nhận ra có những chuyện không thể nói cho người khác được và có những chuyện không cần thiết phải nói ra. cách giải quyết tốt nhất là bình tĩnh lại,tìm cách một mình tự cảm nhận nỗi cô đơn.\n",
            "khi bạn tha thiết tìm được một người để tâm sự nhưng lại chẳng thể cất thành lời thì lúc đó bạn mới nhận ra có những chuyện không thể nói cho người khác được và có những chuyện không cần thiết phải nói ra. cách giải quyết tốt nhất là bình tĩnh lại,tìm cách một mình tự cảm nhận nỗi cô đơn.\n",
            "khi bạn tha thiết tìm được một người để tâm sự nhưng lại chẳng thể cất thành lời thì lúc đó bạn mới nhận ra có những chuyện không thể nói cho người khác được và có những chuyện không cần thiết phải nói ra. cách giải quyết tốt nhất là bình tĩnh lại,tìm cách một mình tự cảm nhận nỗi cô đơn.\n",
            "1.0\n",
            "Input: 流 年 念 念 不 语 ， 却 让 人 口 口 相 传 ； 光 阴 默 默 不 闻 ， 却 知 晓 世 态 炎 凉 。 许 多 年 ， 或 许 在 潮 起 潮 落 里 ， 我 们 依 着 岁 月 的 深 情 ， 延 续 着 柴 米 油 盐 的 烟 火 ， 让 一 花 一 茶 的 日 子 ， 斑 驳 了 岁 月 的 光 晕 ， 褶 皱 了 浮 世 的 馨 香 ， 所 有 的 美 好 ， 才 从 此 在 生 活 里 显 现 。\n",
            "Predicted translation: tháng năm ám ảnh âm thầm chảy trôi mà lại khiến người đời thấy nhau truyền miệng. thời gian im lặng không hương sắc lại biết được nhân tình thế thái đổi thay. trong sự thịnh suy bất thường của nhiều năm, có lẽ chúng ta đã qua phụ thuộc vào mối thâm tình của thời gian mà duy trì ánh lửa hồng ấm áp, để cho những tháng ngày một hoa một trà, điểm sắc cho quầng sáng của mặt trời, nồng đậm hương thơm của cuộc đời. tất cả những điều tốt đẹp của cuộc sống mới dần dần dần dần dần dần dần dần dần dần dần dần dần dần dần dần dần dần dần dần dần dần dần dần dần dần dần dần dần hiện lên từ trời, nồng đậm sâu sắc cho quầng sáng của cuộc sống mới dần dần dần dần dần dần dần dần dần dần dần dần dần dần dần dần dần dần dần dần dần dần dần dần dần dần dần dần dần dần dần dần dần dần dần dần dần dần vô cùng những sự tăng sâu nhưng tôi được những sự nhìn cho quầng sáng cho quầng sáng cho quầng sáng của cuộc sống ở nơi này.\n",
            "tháng năm ám ảnh âm thầm chảy trôi mà lại khiến người đời thấy nhau truyền miệng. thời gian im lặng không hương sắc lại biết được nhân tình thế thái đổi thay. trong sự thịnh suy bất thường của nhiều năm, có lẽ chúng ta đã qua phụ thuộc vào mối thâm tình của thời gian mà duy trì ánh lửa hồng ấm áp, để cho những tháng ngày một hoa một trà, điểm sắc cho quầng sáng của mặt trời, nồng đậm hương thơm của cuộc đời. tất cả những điều tốt đẹp của cuộc sống mới dần dần hiện lên từ đó.\n",
            "tháng năm ám ảnh âm thầm chảy trôi mà lại khiến người đời thấy nhau truyền miệng. thời gian im lặng không hương sắc lại biết được nhân tình thế thái đổi thay. trong sự thịnh suy bất thường của nhiều năm, có lẽ chúng ta đã qua phụ thuộc vào mối thâm tình của thời gian mà duy trì ánh lửa hồng ấm áp, để cho những tháng ngày một hoa một trà, điểm sắc cho quầng sáng của mặt trời, nồng đậm hương thơm của cuộc đời. tất cả những điều tốt đẹp của cuộc sống mới dần dần dần dần dần dần dần dần dần dần dần dần dần dần dần dần dần dần dần dần dần dần dần dần dần dần dần dần dần hiện lên từ trời, nồng đậm sâu sắc cho quầng sáng của cuộc sống mới dần dần dần dần dần dần dần dần dần dần dần dần dần dần dần dần dần dần dần dần dần dần dần dần dần dần dần dần dần dần dần dần dần dần dần dần dần dần vô cùng những sự tăng sâu nhưng tôi được những sự nhìn cho quầng sáng cho quầng sáng cho quầng sáng của cuộc sống ở nơi này.\n",
            "0.49511261681976904\n",
            "Input: 别 太 善 良 了 ， 别 太 大 方 了 ， 也 别 太 能 干 了 ， 时 间 久 了 人 家 会 觉 得 ， 你 做 的 一 切 都 是 应 该 的 。 即 使 有 一 天 你 撑 不 住 ， 哭 了 累 了 ， 也 没 人 心 疼 你 。 因 为 在 他 们 眼 里 这 都 是 你 愿 意 的 。\n",
            "Predicted translation: đời người như một cuộc sống không chiếu lại chỉ và bản thân và chi. khi đã biết bao giờ biết được những gì đã biết tốt hơn, cho dù đừng cần như thế nào cũng hãy làm được quyết định cũng sẽ được sự cố gắng giành đựng những gì mình còn có rất nhiều đời của bản thân trở nên tốt mà thôi. khi hãy làm tốt hơn, nhưng đó còn có rất nhiều đời còn tốt mà thôi.\n",
            "đừng có quá tốt bụng, đừng có quá hào phóng cũng đừng quá giỏi giang, về lâu về dài người ta sẽ tưởng rằng tất cả những gì bạn làm là lẽ đương nhiên. cho đến một ngày bạn không chịu nổi mệt mỏi nữa mà khóc lên, lúc đó thì cũng sẽ chẳng có ai thương xót cho bạn đâu, bởi vì trong mắt họ mọi thứ đều là do bạn tự nguyện nhận lấy.\n",
            "đời người như một cuộc sống không chiếu lại chỉ và bản thân và chi. khi đã biết bao giờ biết được những gì đã biết tốt hơn, cho dù đừng cần như thế nào cũng hãy làm được quyết định cũng sẽ được sự cố gắng giành đựng những gì mình còn có rất nhiều đời của bản thân trở nên tốt mà thôi. khi hãy làm tốt hơn, nhưng đó còn có rất nhiều đời còn tốt mà thôi.\n",
            "0.26509024292235017\n",
            "Input: 人 生 就 是 一 个 充 满 遗 憾 的 过 程 。 有 些 事 ， 挺 一 挺 ， 就 过 去 了 ； 有 些 人 ， 狠 一 狠 ， 也 就 忘 记 了 ； 有 些 苦 ， 笑 一 笑 ， 就 冰 释 了 ； 有 颗 心 ， 伤 一 伤 ， 那 么 也 就 是 坚 强 了 。\n",
            "Predicted translation: đời người là một quá trình dài đong đầy những hối tiếc. có những việc chỉ nghe qua thôi cũng đã thành dĩ vãng. có những người hơi nhẫn tâm một chút cũng đã bị lãng quên. có những nỗi đau mà nửa nụ cười hiền có thể giải tỏa. có những trái tim trải qua một chút đau đớn đã trở nên kiên cường vô tận.\n",
            "đời người là một quá trình dài đong đầy những hối tiếc. có những việc chỉ nghe qua thôi cũng đã thành dĩ vãng. có những người hơi nhẫn tâm một chút cũng đã bị lãng quên. có những nỗi đau mà nửa nụ cười hiền có thể giải tỏa. có những trái tim trải qua một chút đau đớn đã trở nên kiên cường vô tận.\n",
            "đời người là một quá trình dài đong đầy những hối tiếc. có những việc chỉ nghe qua thôi cũng đã thành dĩ vãng. có những người hơi nhẫn tâm một chút cũng đã bị lãng quên. có những nỗi đau mà nửa nụ cười hiền có thể giải tỏa. có những trái tim trải qua một chút đau đớn đã trở nên kiên cường vô tận.\n",
            "1.0\n",
            "Input: 曾 经 笃 定 是 正 确 的 东 西 ， 其 实 未 必 是 对 的 ； 以 为 特 别 重 要 的 事 情 ， 也 没 有 想 象 中 那 样 重 要 ； 真 心 对 一 个 人 ， 可 能 他 们 并 不 在 意 你 的 好 。 人 生 多 是 事 与 愿 违 ， 不 要 随 便 对 谁 就 掏 心 掏 肺 ， 也 不 用 太 固 执 ， 没 有 什 么 是 不 会 改 变 的 。\n",
            "Predicted translation: có lẽ sẽ có rất nhiều điều quan trọng như vậy, chẳng thể làm đúng cả.\n",
            "những gì ta đã từng chắc chắn là đúng thực ra chưa chắc đã là như vậy. những việc tưởng vô cùng quan trọng cũng không cần thiết như ta tưởng tượng. thật lòng thật dạ với một người, có thể anh ta sẽ chẳng để tâm đến lòng tốt của bạn. đời người có rất nhiều chuyện chẳng thể như ý muốn, đừng tùy tiện dốc hết lòng hết dạ với một ai, cũng đừng quá cố chấp bởi không có gì là không thể thay đổi cả.\n",
            "có lẽ sẽ có rất nhiều điều quan trọng như vậy, chẳng thể làm đúng cả.\n",
            "0.003607920142383844\n",
            "Input: 每 天 五 个 小 时 ， 如 果 你 是 用 来 看 韩 剧 ， 浏 览 网 页 ， 聊 天 ， 七 年 后 ， 你 会 变 成 生 活 的 旁 观 者 ， 你 最 擅 长 的 就 是 \" 如 数 家 珍 \" 地 说 起 别 人 的 成 功 和 失 败 ， 却 在 自 己 身 上 找 不 到 任 何 可 说 的 东 西 。\n",
            "Predicted translation: năm tiếng mỗi ngày, nếu như bạn dùng khoảng thời gian đó để xem phim hàn quốc, để lên mạng, để tám chuyện, thì bẩy năm sau bạn sẽ trở thành người qua đường trong chính cuộc sống của mình. bạn giỏi nhất chính là đọc vanh vách những thành công hay thất bại của người khác nhưng lại chẳng có gì để nói về bản thân mình.\n",
            "năm tiếng mỗi ngày, nếu như bạn dùng khoảng thời gian đó để xem phim hàn quốc, để lên mạng, để tám chuyện, thì bẩy năm sau bạn sẽ trở thành người qua đường trong chính cuộc sống của mình. bạn giỏi nhất chính là đọc vanh vách những thành công hay thất bại của người khác nhưng lại chẳng có gì để nói về bản thân mình.\n",
            "năm tiếng mỗi ngày, nếu như bạn dùng khoảng thời gian đó để xem phim hàn quốc, để lên mạng, để tám chuyện, thì bẩy năm sau bạn sẽ trở thành người qua đường trong chính cuộc sống của mình. bạn giỏi nhất chính là đọc vanh vách những thành công hay thất bại của người khác nhưng lại chẳng có gì để nói về bản thân mình.\n",
            "1.0\n",
            "Input: 放 纵 自 己 的 欲 望 是 最 大 的 祸 害 ， 谈 论 别 人 的 隐 私 是 最 大 的 罪 恶 ， 不 知 自 己 过 失 是 最 大 的 病 痛 。\n",
            "Predicted translation: buông thả những dục vọng của bản thân là tai họa lớn nhất. bàn tán chuyện riêng tư của đời người là căn bệnh lớn nhất. bàn tán chuyện riêng tư của đời người là tội ác lớn nhất.\n",
            "buông thả những dục vọng của bản thân là tai họa lớn nhất. bàn tán chuyện riêng tư của đời người là tội ác lớn nhất. không tự nhận thức sai lầm của bản thân là căn bệnh lớn nhất.\n",
            "buông thả những dục vọng của bản thân là tai họa lớn nhất. bàn tán chuyện riêng tư của đời người là căn bệnh lớn nhất. bàn tán chuyện riêng tư của đời người là tội ác lớn nhất.\n",
            "0.7315416780753805\n",
            "Input: 人 生 最 困 难 的 不 是 努 力 ， 也 不 是 奋 斗 ， 而 是 做 出 正 确 的 抉 择 。 别 放 弃 ， 一 步 一 步 走 下 去 ， 别 让 机 会 从 眼 前 溜 走 。\n",
            "Predicted translation: điều khó làm nhất của đời người không phải là nỗ lực, cũng không phải là phấn đấu, mà lại là việc đưa ra sự lựa chọn đúng đắn. nhưng dù có chọn thế nào bạn hãy đừng từ bỏ cứ từng bước từng bước từng bước từng bước từng bước từng bước từng bước từng bước từng bước từng bước từng bước từng bước từng bước từng bước từng bước từng bước từng bước từng thông nên sống mà không thì đừng có chọn thế mà không ngừng nỗ lực mà không phải là chưa từng bước từng bước từng bước từng bước từng bước từng bước từng bước từng bước từng bước từng bước từng bước từng bước từng bước từng bước từng bước từng bước từng bước từng bước từng bước từng bước từng bước từng sống trước thì đừng để cơ hội vụt tắt ngay trước tầm sâu mà tắt mà tắt ngay trước tầm trước tầm trước tầm trước tầm trước tầm trước tầm trước tầm trước tầm trước tầm trước tầm trước tầm trước tầm trước tầm trước tầm trước tầm trước tầm trước tầm trước tầm trước tầm trước tầm trước tầm trước tầm trước tầm trước tầm trước tầm trước tầm trước tầm trước tầm trước tầm trước tầm trước tầm trước tầm trước tầm trước tầm trước tầm trước tầm trước tầm trước tầm trước tầm trước tầm trước tầm trước tầm trước tầm trước tầm trước tầm \n",
            "điều khó làm nhất của đời người không phải là nỗ lực, cũng không phải là phấn đấu, mà lại là việc đưa ra sự lựa chọn đúng đắn. nhưng dù có chọn thế nào bạn hãy đừng từ bỏ cứ từng bước từng bước tiến về phía trước và đừng để cơ hội vụt tắt ngay trước tầm mắt.\n",
            "điều khó làm nhất của đời người không phải là nỗ lực, cũng không phải là phấn đấu, mà lại là việc đưa ra sự lựa chọn đúng đắn. nhưng dù có chọn thế nào bạn hãy đừng từ bỏ cứ từng bước từng bước từng bước từng bước từng bước từng bước từng bước từng bước từng bước từng bước từng bước từng bước từng bước từng bước từng bước từng bước từng bước từng thông nên sống mà không thì đừng có chọn thế mà không ngừng nỗ lực mà không phải là chưa từng bước từng bước từng bước từng bước từng bước từng bước từng bước từng bước từng bước từng bước từng bước từng bước từng bước từng bước từng bước từng bước từng bước từng bước từng bước từng bước từng bước từng sống trước thì đừng để cơ hội vụt tắt ngay trước tầm sâu mà tắt mà tắt ngay trước tầm trước tầm trước tầm trước tầm trước tầm trước tầm trước tầm trước tầm trước tầm trước tầm trước tầm trước tầm trước tầm trước tầm trước tầm trước tầm trước tầm trước tầm trước tầm trước tầm trước tầm trước tầm trước tầm trước tầm trước tầm trước tầm trước tầm trước tầm trước tầm trước tầm trước tầm trước tầm trước tầm trước tầm trước tầm trước tầm trước tầm trước tầm trước tầm trước tầm trước tầm trước tầm trước tầm trước tầm trước tầm \n",
            "0.20849580724918654\n",
            "Input: 自 己 永 远 是 自 己 的 主 角 ， 不 要 总 在 别 人 的 戏 剧 里 充 当 着 配 角 。\n",
            "Predicted translation: bạn vĩnh viễn sẽ là vai chính trong cuộc đời của chính mình, đừng bao giờ chấp nhận đóng vai phụ cho bộ phim cuộc đời của người khác.\n",
            "bạn vĩnh viễn sẽ là vai chính trong cuộc đời của chính mình, đừng bao giờ chấp nhận đóng vai phụ cho bộ phim cuộc đời của người khác.\n",
            "bạn vĩnh viễn sẽ là vai chính trong cuộc đời của chính mình, đừng bao giờ chấp nhận đóng vai phụ cho bộ phim cuộc đời của người khác.\n",
            "1.0\n",
            "Input: 人 生 浮 常 ， 原 来 缘 去 自 有 它 的 定 数 ， 又 何 必 苦 苦 纠 缠 忘 不 掉 的 过 去 ， 释 怀 不 了 的 人 。 其 实 很 多 时 候 ， 我 们 一 个 转 弯 ， 便 会 忘 了 来 时 的 路 。\n",
            "Predicted translation: đời người vô thường, duyên đến duyên đi đều đã được định trước, hà cớ gì níu kéo một quá khứ, không thể quên một người, hay không thể buông tay. thực ra có rất nhiều lúc chúng ta chỉ cần rẽ ngang một cái, lập tức liền có thể quên mất con đường vừa đi qua.\n",
            "đời người vô thường, duyên đến duyên đi đều đã được định trước, hà cớ gì níu kéo một quá khứ, không thể quên một người, hay không thể buông tay. thực ra có rất nhiều lúc chúng ta chỉ cần rẽ ngang một cái, lập tức liền có thể quên mất con đường vừa đi qua.\n",
            "đời người vô thường, duyên đến duyên đi đều đã được định trước, hà cớ gì níu kéo một quá khứ, không thể quên một người, hay không thể buông tay. thực ra có rất nhiều lúc chúng ta chỉ cần rẽ ngang một cái, lập tức liền có thể quên mất con đường vừa đi qua.\n",
            "1.0\n",
            "Input: 有 时 候 人 就 是 这 样 ， 遇 到 再 大 的 事 自 己 忍 忍 就 过 去 了 ， 听 到 身 旁 的 人 一 句 安 慰 就 瞬 间 完 败 。 后 来 才 明 白 ， 怕 的 不 是 冷 漠 ， 怕 的 是 突 然 的 温 柔 ； 怕 的 不 是 自 己 吃 苦 ， 怕 的 是 身 边 的 人 为 你 难 过 ； 怕 的 不 是 孤 独 ， 怕 的 是 辜 负 。\n",
            "Predicted translation: có những lúc người ta sẽ thế này: gặp phải chuyện tày trời gì cũng một mình chịu nhịn cho qua nhưng chỉ cần thấy được một lời an ủi của người xung quanh thì trong khoảnh khắc sự mạnh mẽ đến sụp đổ. sau đó mới hiểu ra rằng: điều đáng sợ không phải là sự lạnh nhạt mà là sự quan tâm ấm áp đến bất ngờ. điều đáng sợ không phải bản thân mình chịu khổ mà là những người bên cạnh buồn lòng vì mình. điều đáng sợ không phải mình vô tội mà là bị người khác phụ lòng.\n",
            "có những lúc người ta sẽ thế này: gặp phải chuyện tày trời gì cũng một mình chịu nhịn cho qua nhưng chỉ cần thấy được một lời an ủi của người xung quanh thì trong khoảnh khắc sự mạnh mẽ đến sụp đổ. sau đó mới hiểu ra rằng: điều đáng sợ không phải là sự lạnh nhạt mà là sự quan tâm ấm áp đến bất ngờ. điều đáng sợ không phải bản thân mình chịu khổ mà là những người bên cạnh buồn lòng vì mình. điều đáng sợ không phải mình vô tội mà là bị người khác phụ lòng.\n",
            "có những lúc người ta sẽ thế này: gặp phải chuyện tày trời gì cũng một mình chịu nhịn cho qua nhưng chỉ cần thấy được một lời an ủi của người xung quanh thì trong khoảnh khắc sự mạnh mẽ đến sụp đổ. sau đó mới hiểu ra rằng: điều đáng sợ không phải là sự lạnh nhạt mà là sự quan tâm ấm áp đến bất ngờ. điều đáng sợ không phải bản thân mình chịu khổ mà là những người bên cạnh buồn lòng vì mình. điều đáng sợ không phải mình vô tội mà là bị người khác phụ lòng.\n",
            "1.0\n",
            "Input: 疲 倦 了 ， 心 累 了 ， 就 一 个 人 静 静 躺 着 ， 用 沉 默 代 替 一 切 ， 不 提 ， 不 问 。 难 过 了 ， 心 痛 了 ， 就 一 个 人 不 停 地 走 ， 用 沉 默 代 替 一 切 ， 不 哭 ， 卜 笑 。 人 生 的 每 条 路 都 很 难 走 ， 注 定 要 经 历 一 些 坎 坷 ， 不 可 以 强 求 任 何 人 来 陪 看 自 己 的 风 景 。\n",
            "Predicted translation: mệt mỏi rồi, yếu lòng rồi thì hãy một mình nằm dài trong yên lặng. hãy để sự im lặng nói thay tất cả, không đề cập, không hỏi han. buồn phiền rồi, đau lòng rồi, thì cứ một mình miệt mài bước đi. hãy để sự im lặng nói thay tất cả, không khóc cũng chẳng cười. mỗi con đường của cuộc đời đều rất khó đi. đã biết trước là sẽ phải nếm trải những thử thách nên bạn không thể cưỡng cầu bất kỳ người nào đến cùng mình ngắm nhìn phong cảnh.\n",
            "mệt mỏi rồi, yếu lòng rồi thì hãy một mình nằm dài trong yên lặng. hãy để sự im lặng nói thay tất cả, không đề cập, không hỏi han. buồn phiền rồi, đau lòng rồi, thì cứ một mình miệt mài bước đi. hãy để sự im lặng nói thay tất cả, không khóc cũng chẳng cười. mỗi con đường của cuộc đời đều rất khó đi. đã biết trước là sẽ phải nếm trải những thử thách nên bạn không thể cưỡng cầu bất kỳ người nào đến cùng mình ngắm nhìn phong cảnh.\n",
            "mệt mỏi rồi, yếu lòng rồi thì hãy một mình nằm dài trong yên lặng. hãy để sự im lặng nói thay tất cả, không đề cập, không hỏi han. buồn phiền rồi, đau lòng rồi, thì cứ một mình miệt mài bước đi. hãy để sự im lặng nói thay tất cả, không khóc cũng chẳng cười. mỗi con đường của cuộc đời đều rất khó đi. đã biết trước là sẽ phải nếm trải những thử thách nên bạn không thể cưỡng cầu bất kỳ người nào đến cùng mình ngắm nhìn phong cảnh.\n",
            "1.0\n",
            "Input: 一 个 人 最 好 的 生 活 状 态 ， 是 该 看 书 时 看 书 ， 该 玩 时 尽 情 玩 ， 看 见 优 秀 的 人 欣 赏 ， 看 到 落 魄 的 人 也 不 轻 视 ， 有 自 己 的 小 生 活 和 小 情 趣 ， 不 用 去 想 改 变 世 界 ， 努 力 去 活 出 自 己 。 没 人 爱 时 专 注 自 己 ， 有 人 爱 时 ， 有 能 力 拥 抱 彼 此 。\n",
            "Predicted translation: trạng thái cuộc sống của một con người ổn định nhất là khi cần đọc sách, cần chơi thì tán thưởng, đừng cố gắng cố gắng cố gắng cố gắng giữ chặt lấy bản thân mình giả mà hãy cố gắng nhận được người khác, nếu như bản thân mình giả tạo thì tán thưởng, đừng nghĩ xem thật chặt lấy bản thân mình cuộc sống được hãy cố gắng giữ chặt lấy bản thân mình mình mình mình mình mình thay vì thế mà lo lấy bản thân mình thay vì thế nhưng đừng nghĩ đến việc thay bản thân mình muốn được người muốn thay bản thân mình thay bản thân mình cuộc sống rằng mỗi ngày xong thì đừng nghĩ cố gắng giữ chặt lấy bản thân mình thay bản thân mình thay tất cả.\n",
            "trạng thái cuộc sống của một con người ổn định nhất là khi cần đọc sách thì đọc sách, cần chơi thì chơi hết mình, gặp được người tài giỏi thì tán thưởng, nhìn thấy người sa sút thì không coi thường và có riêng cho mình một cuộc sống nhỏ một thú vui nhỏ. đừng nghĩ đến việc thay đổi thế giới mà hãy cố gắng sống là chính mình, khi không có ai yêu thương thì tự chăm sóc lo lấy bản thân mình và khi đã có người thương hãy cố gắng giữ chặt lấy nhau.\n",
            "trạng thái cuộc sống của một con người ổn định nhất là khi cần đọc sách, cần chơi thì tán thưởng, đừng cố gắng cố gắng cố gắng cố gắng giữ chặt lấy bản thân mình giả mà hãy cố gắng nhận được người khác, nếu như bản thân mình giả tạo thì tán thưởng, đừng nghĩ xem thật chặt lấy bản thân mình cuộc sống được hãy cố gắng giữ chặt lấy bản thân mình mình mình mình mình mình thay vì thế mà lo lấy bản thân mình thay vì thế nhưng đừng nghĩ đến việc thay bản thân mình muốn được người muốn thay bản thân mình thay bản thân mình cuộc sống rằng mỗi ngày xong thì đừng nghĩ cố gắng giữ chặt lấy bản thân mình thay bản thân mình thay tất cả.\n",
            "0.24430116064209725\n",
            "Input: 在 短 暂 的 人 生 岁 月 中 ， 谁 都 会 碰 到 生 离 死 别 的 揪 心 事 。 伤 心 和 委 屈 的 时 候 ， 可 以 哭 ， 哭 完 洗 把 脸 ， 拍 拍 自 己 的 脸 ， 给 自 己 一 个 微 笑 ， 不 要 揉 眼 睛 ， 否 则 第 二 天 早 上 眼 睛 会 肿 。 好 好 生 活 ， 你 的 生 命 由 自 己 做 主 。\n",
            "Predicted translation: tròn những năm tháng ngắn ngủi của cuộc đời ai rồi cũng sẽ gặp phải những cuộc sinh ly tử biệt khiến lòng nặng trĩu. khi cảm thấy đau lòng và oan ức có thể khóc. hãy khóc, để khi khóc xong thì rửa lại mặt và vỗ nhẹ vào mặt mình, vẽ trên môi nụ cười. tuyệt đối đừng dụi mắt nếu không sáng sớm ngày hôm sau nó sẽ sưng lên mất. hãy sống thật tốt vì cuộc sống của bạn do bạn do bạn do bạn do bạn do bạn do bạn do nó sẽ sưng lên mất. tuyệt đối nhỏ lên mất. tuyệt đối nhỏ lên mất. hãy sống thật tốt vì cuộc sống thật tốt vì cuộc sống thật tốt chủ.\n",
            "tròn những năm tháng ngắn ngủi của cuộc đời ai rồi cũng sẽ gặp phải những cuộc sinh ly tử biệt khiến lòng nặng trĩu. khi cảm thấy đau lòng và oan ức có thể khóc. hãy khóc, để khi khóc xong thì rửa lại mặt và vỗ nhẹ vào mặt mình, vẽ trên môi nụ cười. tuyệt đối đừng dụi mắt nếu không sáng sớm ngày hôm sau nó sẽ sưng lên mất. hãy sống thật tốt vì cuộc sống của bạn do bạn làm chủ.\n",
            "tròn những năm tháng ngắn ngủi của cuộc đời ai rồi cũng sẽ gặp phải những cuộc sinh ly tử biệt khiến lòng nặng trĩu. khi cảm thấy đau lòng và oan ức có thể khóc. hãy khóc, để khi khóc xong thì rửa lại mặt và vỗ nhẹ vào mặt mình, vẽ trên môi nụ cười. tuyệt đối đừng dụi mắt nếu không sáng sớm ngày hôm sau nó sẽ sưng lên mất. hãy sống thật tốt vì cuộc sống của bạn do bạn do bạn do bạn do bạn do bạn do bạn do nó sẽ sưng lên mất. tuyệt đối nhỏ lên mất. tuyệt đối nhỏ lên mất. hãy sống thật tốt vì cuộc sống thật tốt vì cuộc sống thật tốt chủ.\n",
            "0.6726135031909806\n",
            "Input: 你 羡 慕 别 人 月 薪 几 万 ， 却 不 知 道 他 日 日 加 班 到 深 夜 的 辛 苦 。 你 羡 慕 别 人 说 走 就 走 到 处 游 玩 的 自 由 ， 却 不 知 道 他 为 这 份 自 由 放 弃 的 东 西 。 一 切 都 有 代 价 ， 无 论 财 富 ， 事 业 ， 爱 情 ， 还 是 自 由 。\n",
            "Predicted translation: bạn ngưỡng mộ người khác lương tháng vài chục triệu đồng mà không biết người ta mỗi ngày đều cực khổ tăng ca đến đêm khuya. bạn hâm mộ người khác nói đi liền đi, có thể tự do chu du khắp nơi mà không biết người ta đã phải từ bỏ những gì để có được sự tự do đó. tất cả mọi thứ đều có cái giá của nó bất kể là tiền tài sự nghiệp tình yêu hay kể cả sự tự do.\n",
            "bạn ngưỡng mộ người khác lương tháng vài chục triệu đồng mà không biết người ta mỗi ngày đều cực khổ tăng ca đến đêm khuya. bạn hâm mộ người khác nói đi liền đi, có thể tự do chu du khắp nơi mà không biết người ta đã phải từ bỏ những gì để có được sự tự do đó. tất cả mọi thứ đều có cái giá của nó bất kể là tiền tài sự nghiệp tình yêu hay kể cả sự tự do.\n",
            "bạn ngưỡng mộ người khác lương tháng vài chục triệu đồng mà không biết người ta mỗi ngày đều cực khổ tăng ca đến đêm khuya. bạn hâm mộ người khác nói đi liền đi, có thể tự do chu du khắp nơi mà không biết người ta đã phải từ bỏ những gì để có được sự tự do đó. tất cả mọi thứ đều có cái giá của nó bất kể là tiền tài sự nghiệp tình yêu hay kể cả sự tự do.\n",
            "1.0\n",
            "Input: 人 有 一 点 年 纪 总 是 好 的 ， 越 来 越 能 体 谅 他 人 生 活 的 不 易 ， 也 越 来 越 能 够 理 解 一 些 人 的 选 择 。 不 再 为 求 而 不 得 的 东 西 歇 斯 底 里 ， 也 不 再 为 那 些 与 自 己 的 真 实 人 生 并 无 太 多 关 系 的 人 事 交 接 。 好 的 坏 的 都 学 会 了 自 己 承 担 ， 见 识 了 人 生 的 残 酷 ， 也 坚 定 了 内 心 ， 怀 揣 着 年 轻 时 的 一 点 欲 望 和 憧 憬 ， 勇 敢 赶 路 ， 不 复 余 生 。\n",
            "Predicted translation: người ta khi có tuổi một chút sẽ biết cách suy nghĩ, dễ dàng thấu hiểu cho những khó khăn trong cuộc sống của người khác cũng càng ngày càng hiểu cho những sự lựa chọn của một số người. sẽ không đạt được những gì trong mình bản thân không vì không đạt được những gì tốt hơn ôm trong cuộc đời.\n",
            "người ta khi có tuổi một chút sẽ biết cách suy nghĩ, dễ dàng thấu hiểu cho những khó khăn trong cuộc sống của người khác cũng càng ngày càng hiểu cho những sự lựa chọn của một số người. sẽ không vì không đạt được những điều mong muốn mà phát cuồng phát ngộ, cũng sẽ không bận lòng quá nhiều đến những người những việc chẳng liên quan mật thiết đến bản thân. những gì tốt xấu cũng học cách tự mình gánh vác, hiểu được những khắc nghiệt của cuộc đời để vững tâm hơn ôm trong mình một chút thất vọng và hoài bão của tuổi trẻ, dũng cảm lên đường không phụ quãng thời gian còn lại của cuộc đời.\n",
            "người ta khi có tuổi một chút sẽ biết cách suy nghĩ, dễ dàng thấu hiểu cho những khó khăn trong cuộc sống của người khác cũng càng ngày càng hiểu cho những sự lựa chọn của một số người. sẽ không đạt được những gì trong mình bản thân không vì không đạt được những gì tốt hơn ôm trong cuộc đời.\n",
            "0.3013557629295633\n",
            "Input: 人 生 是 条 单 行 线 ， 所 有 的 错 过 ， 都 没 要 重 来 的 机 会 ， 别 在 畏 首 畏 尾 ， 别 让 命 运 处 处 皆 是 遗 憾 。\n",
            "Predicted translation: cuộc sống là một con đường một chiều, tất cả những sai lầm đều không có cơ hội để làm lại, đừng lo nghĩ quá nhiều và đừng để cuộc sống toàn những điều hối tiếc.\n",
            "cuộc sống là một con đường một chiều, tất cả những sai lầm đều không có cơ hội để làm lại, đừng lo nghĩ quá nhiều và đừng để cuộc sống toàn những điều hối tiếc.\n",
            "cuộc sống là một con đường một chiều, tất cả những sai lầm đều không có cơ hội để làm lại, đừng lo nghĩ quá nhiều và đừng để cuộc sống toàn những điều hối tiếc.\n",
            "1.0\n",
            "Input: 2 0 岁 的 时 候 ， 千 万 不 要 花 精 力 和 时 间 去 犹 豫 和 纠 结 什 么 选 择 是 最 好 的 ， 因 为 没 有 人 知 道 。 有 想 法 就 大 胆 地 去 尝 试 ， 感 受 不 同 的 生 活 ， 多 尝 试 工 作 类 型 ， 多 读 书 ， 多 旅 行 ， 多 谈 恋 爱 ， 多 结 交 朋 友 ， 把 这 些 该 交 的 学 费 都 交 了 ， 如 此 一 来 ， 3 0 岁 以 后 ， 你 才 有 可 能 从 容 不 迫 地 过 自 己 想 要 的 生 活 。\n",
            "Predicted translation: người ta khi nếm gian sẽ nếm gian đi nếm trải đầu cả lúc nếm gian thử năm nếm trải mới nằm nên phá hưởng cho không cần như vậy. khi bạn và cũng khi nghiệm của bạn trong tay nhưng chỉ cần như thế nào cũng có cách giải quyết định nhất định tự quyết định tranh trọng nhưng khi coi tiện nổi nữa. cho đến nơi nào đi thôi. khi bạn và cũng đừng cần như thế giới trọng cho đến nơi nào đi nữa thì sẽ trở nên tự tay bản thân đi du cơ hội hơn đến nơi nào đã từng cố gắng tự tay thì bạn phải tin thích lỡ mất hết hết bên bây giờ không cần quên đến nơi khác.\n",
            "những năm tháng tuổi 20 tuyệt đối đừng lãng phí thời gian và sức lực để do dự băn khoăn đâu mới là lựa chọn tốt nhất. chẳng ai biết được cả. nếu có ý tưởng gì thì hãy mạnh dạn thử nghiệm, trải nghiệm những cuộc sống khác nhau, những công việc khác nhau, đọc sách, du lịch, yêu đương, kết bạn nhiều hơn và trả hết học phí cần phải trả. cho đến sau tuổi 30 bạn mới có thể ung dung tự tại sống một cuộc sống mà mình mong muốn.\n",
            "người ta khi nếm gian sẽ nếm gian đi nếm trải đầu cả lúc nếm gian thử năm nếm trải mới nằm nên phá hưởng cho không cần như vậy. khi bạn và cũng khi nghiệm của bạn trong tay nhưng chỉ cần như thế nào cũng có cách giải quyết định nhất định tự quyết định tranh trọng nhưng khi coi tiện nổi nữa. cho đến nơi nào đi thôi. khi bạn và cũng đừng cần như thế giới trọng cho đến nơi nào đi nữa thì sẽ trở nên tự tay bản thân đi du cơ hội hơn đến nơi nào đã từng cố gắng tự tay thì bạn phải tin thích lỡ mất hết hết bên bây giờ không cần quên đến nơi khác.\n",
            "0.1903317572033394\n",
            "Input: 生 活 总 是 这 样 ， 不 能 叫 人 处 处 都 满 意 。 但 我 们 还 要 热 情 地 活 下 去 。 人 活 一 生 ， 值 得 爱 的 东 西 很 多 ， 不 要 因 为 一 个 不 满 意 ， 就 灰 心 。\n",
            "Predicted translation: cuộc sống là như vậy đấy: chúng ta không thể làm hài lòng tất cả mọi người. nhưng chúng ta vẫn phải tiếp tục sống vui vẻ yêu đời. con người ta sống cả cuộc đời này thì những thứ đáng để trân trọng yêu thương nhiều lắm, đừng vì một vài điều không vừa ý mà nản lòng.\n",
            "cuộc sống là như vậy đấy, không thể làm hài lòng tất cả mọi người. nhưng chúng ta vẫn phải tiếp tục sống vui vẻ yêu đời. con người ta sống cả một đời những thứ đáng để trân trọng yêu thương nhiều lắm đừng vì một vài điều không vừa ý mà vội nản lòng.\n",
            "cuộc sống là như vậy đấy: chúng ta không thể làm hài lòng tất cả mọi người. nhưng chúng ta vẫn phải tiếp tục sống vui vẻ yêu đời. con người ta sống cả cuộc đời này thì những thứ đáng để trân trọng yêu thương nhiều lắm, đừng vì một vài điều không vừa ý mà nản lòng.\n",
            "0.759190853240621\n",
            "Input: 怎 样 度 过 人 生 的 低 潮 期 ？ 好 好 睡 觉 ， 锻 炼 身 体 ， 无 论 何 时 好 的 体 魄 都 用 得 着 ； 和 知 心 的 朋 友 谈 天 ， 基 本 上 不 发 牢 骚 ， 主 要 是 回 忆 坏 乐 的 时 光 ； 多 读 书 ， 看 一 些 传 记 ， 增 长 知 识 ， 顺 带 还 可 瞧 瞧 别 人 倒 霉 的 时 候 是 怎 么 挺 过 去 的 ； 趁 机 做 家 务 ， 把 平 时 忙 碌 顾 不 上 的 活 儿 都 干 完 。\n",
            "Predicted translation: làm thế nào để vượt qua được thời kỳ tâm trạng khủng hoảng? hãy ngủ thật ngon và chăm chỉ tập thể thao. bất cứ lúc nào bạn cũng cần có một tâm trạng và thể lực tốt. tám chuyện thiên hạ cùng với người bạn tri kỷ nhưng đừng có cảm ràm oán thán mà chủ yếu hãy để cả hai cùng nhớ về khoảng thời gian vui vẻ. đọc nhiều sách hơn, nhìn ngắm những tác phẩm truyền kỳ, tích lũy kiến thức cho mình tiện thể xem xem xem xem xem xem xem xem xem xem xem xem xem xem xem xem xem xem xem xem xem xem xem xem xem xem xem xem xem xem xem xem xem xem xem xem xem xem xem xem xem xem xem xem xem xem xem xem xem xem xem xem xem xem xem xem xem xem việc nhà, tích lũy kiến thức thế nào, tích lũy kiến thức cho mình tiện thể vượt qua khoảng thời gian đen tối như thế nào, tích lũy kiến thức cho mình ngắm những thời gian đen tối như thế nào, làm cho mình tiện thể vượt qua khoảng thời gian đen tối như thế nào, quá bận rộn mà chẳng lo toan được.\n",
            "làm thế nào để vượt qua được thời kỳ tâm trạng khủng hoảng? hãy ngủ thật ngon và chăm chỉ tập thể thao. bất cứ lúc nào bạn cũng cần có một tâm trạng và thể lực tốt. tám chuyện thiên hạ cùng với người bạn tri kỷ nhưng đừng có cảm ràm oán thán mà chủ yếu hãy để cả hai cùng nhớ về khoảng thời gian vui vẻ. đọc nhiều sách hơn, nhìn ngắm những tác phẩm truyền kỳ, tích lũy kiến thức cho mình tiện thể xem xem người ta đã vượt qua khoảng thời gian đen tối như thế nào, tranh thủ thời gian làm việc nhà, làm cho xong những việc thường ngày vì quá bận rộn mà chẳng lo toan được.\n",
            "làm thế nào để vượt qua được thời kỳ tâm trạng khủng hoảng? hãy ngủ thật ngon và chăm chỉ tập thể thao. bất cứ lúc nào bạn cũng cần có một tâm trạng và thể lực tốt. tám chuyện thiên hạ cùng với người bạn tri kỷ nhưng đừng có cảm ràm oán thán mà chủ yếu hãy để cả hai cùng nhớ về khoảng thời gian vui vẻ. đọc nhiều sách hơn, nhìn ngắm những tác phẩm truyền kỳ, tích lũy kiến thức cho mình tiện thể xem xem xem xem xem xem xem xem xem xem xem xem xem xem xem xem xem xem xem xem xem xem xem xem xem xem xem xem xem xem xem xem xem xem xem xem xem xem xem xem xem xem xem xem xem xem xem xem xem xem xem xem xem xem xem xem xem xem việc nhà, tích lũy kiến thức thế nào, tích lũy kiến thức cho mình tiện thể vượt qua khoảng thời gian đen tối như thế nào, tích lũy kiến thức cho mình ngắm những thời gian đen tối như thế nào, làm cho mình tiện thể vượt qua khoảng thời gian đen tối như thế nào, quá bận rộn mà chẳng lo toan được.\n",
            "0.5099206329317107\n",
            "Input: 有 喜 有 悲 才 是 人 生 ， 有 苦 有 甜 才 是 生 活 。 无 论 是 繁 华 还 是 苍 凉 ， 看 过 的 风 景 就 不 要 太 留 恋 ， 毕 竟 你 不 前 行 生 活 还 要 前 行 。 再 大 的 伤 痛 ， 睡 一 觉 就 把 它 忘 了 。 背 着 昨 天 追 赶 明 天 ， 会 累 坏 了 每 一 个 当 下 。 边 走 边 忘 ， 才 能 感 受 到 每 一 个 迎 面 而 来 的 幸 福 。\n",
            "Predicted translation: có niềm vui có nỗi buồn mới là đời người. có đắng cay có ngọt bùi mới là cuộc sống. cho dù là sầm uất hay vắng vẻ thê lương những cảnh vật nào đã lướt qua thì không nên quá lưu luyến bị dịn bởi cho dù bạn không chịu tiến bước thì cuộc sống vẫn luôn không ngừng phát triển. nỗi đau có lớn thế nào hãy cứ ngủ một giấc thật ngon rồi lãng quên nó đi. cứ mãi mang gánh nặng ngày hôm qua trên lưng mà đuổi theo ngày mai thì bạn sẽ chẳng còn sức để tận hưởng ngày hôm nay nữa. vừa tiến về phía trước vừa quên đi quá khứ mới có thể đón nhận niềm hạnh phúc của mỗi ngày mới mang đến.\n",
            "có niềm vui có nỗi buồn mới là đời người. có đắng cay có ngọt bùi mới là cuộc sống. cho dù là sầm uất hay vắng vẻ thê lương những cảnh vật nào đã lướt qua thì không nên quá lưu luyến bị dịn bởi cho dù bạn không chịu tiến bước thì cuộc sống vẫn luôn không ngừng phát triển. nỗi đau có lớn thế nào hãy cứ ngủ một giấc thật ngon rồi lãng quên nó đi. cứ mãi mang gánh nặng ngày hôm qua trên lưng mà đuổi theo ngày mai thì bạn sẽ chẳng còn sức để tận hưởng ngày hôm nay nữa. vừa tiến về phía trước vừa quên đi quá khứ mới có thể đón nhận niềm hạnh phúc của mỗi ngày mới mang đến.\n",
            "có niềm vui có nỗi buồn mới là đời người. có đắng cay có ngọt bùi mới là cuộc sống. cho dù là sầm uất hay vắng vẻ thê lương những cảnh vật nào đã lướt qua thì không nên quá lưu luyến bị dịn bởi cho dù bạn không chịu tiến bước thì cuộc sống vẫn luôn không ngừng phát triển. nỗi đau có lớn thế nào hãy cứ ngủ một giấc thật ngon rồi lãng quên nó đi. cứ mãi mang gánh nặng ngày hôm qua trên lưng mà đuổi theo ngày mai thì bạn sẽ chẳng còn sức để tận hưởng ngày hôm nay nữa. vừa tiến về phía trước vừa quên đi quá khứ mới có thể đón nhận niềm hạnh phúc của mỗi ngày mới mang đến.\n",
            "1.0\n",
            "Input: 老 想 活 给 别 人 看 ， 难 怪 你 过 得 那 么 累 。 何 必 为 了 那 些 不 属 于 你 的 观 众 ， 去 演 绎 不 是 擅 长 的 人 生 ？\n",
            "Predicted translation: lúc nào cũng cố gắng sống cho người khác xem, chẳng trách bạn luôn mệt mỏi như vậy. hà tất gì phải vì những khán giả không trả tiền cho bạn mà diễn một cuộc sống giả tạo bản thân không hề mong muốn.\n",
            "lúc nào cũng cố gắng sống cho người khác xem, chẳng trách bạn luôn mệt mỏi như vậy. hà tất gì phải vì những khán giả không trả tiền cho bạn mà diễn một cuộc sống giả tạo bản thân không hề mong muốn.\n",
            "lúc nào cũng cố gắng sống cho người khác xem, chẳng trách bạn luôn mệt mỏi như vậy. hà tất gì phải vì những khán giả không trả tiền cho bạn mà diễn một cuộc sống giả tạo bản thân không hề mong muốn.\n",
            "1.0\n",
            "Input: 在 你 坚 持 不 住 的 时 候 ， 记 得 告 诉 自 己 ， 再 坚 持 一 下 。 无 论 心 情 怎 么 糟 糕 ， 都 不 要 打 破 生 活 原 有 的 规 律 ， 按 时 吃 饭 ， 按 时 睡 觉 。 每 一 个 今 天 ， 都 将 是 明 天 的 回 忆 ； 每 一 个 今 年 ， 都 将 是 明 年 的 故 事 。 3 6 5 天 ， 每 天 1 4 4 0 分 钟 ， 做 该 做 的 事 ， 见 想 见 的 人 ， 吃 好 吃 的 东 西 。\n",
            "Predicted translation: khi mà bạn không thể tiếp tục kiên trì nữa, hãy nhớ phải tự nói với bản thân cố gắng thêm một chút nữa. cho dù tâm trạng có tồi tệ như thế nào cũng không được phá vỡ những quy luật vốn có của cuộc sống: ăn cơm đúng giờ và đi ngủ đúng giấc. mỗi một ngày của hôm nay đều sẽ trở thành ký ức của ngày mai. mỗi một ngày của năm nay đều sẽ trở thành những câu chuyện của năm sau. 365 ngày 1440 phút hãy làm những việc cần làm gặp những những những những những những những những món ăn ngon.\n",
            "khi mà bạn không thể tiếp tục kiên trì nữa, hãy nhớ phải tự nói với bản thân cố gắng thêm một chút nữa. cho dù tâm trạng có tồi tệ như thế nào cũng không được phá vỡ những quy luật vốn có của cuộc sống: ăn cơm đúng giờ và đi ngủ đúng giấc. mỗi một ngày của hôm nay đều sẽ trở thành ký ức của ngày mai. mỗi một ngày của năm nay đều sẽ trở thành những câu chuyện của năm sau. 365 ngày mỗi ngày 1440 phút hãy làm những việc cần làm gặp những người muốn gặp và ăn những món ăn ngon.\n",
            "khi mà bạn không thể tiếp tục kiên trì nữa, hãy nhớ phải tự nói với bản thân cố gắng thêm một chút nữa. cho dù tâm trạng có tồi tệ như thế nào cũng không được phá vỡ những quy luật vốn có của cuộc sống: ăn cơm đúng giờ và đi ngủ đúng giấc. mỗi một ngày của hôm nay đều sẽ trở thành ký ức của ngày mai. mỗi một ngày của năm nay đều sẽ trở thành những câu chuyện của năm sau. 365 ngày 1440 phút hãy làm những việc cần làm gặp những những những những những những những những món ăn ngon.\n",
            "0.9144453223794788\n",
            "Input: 2 0 岁 那 年 买 得 起 那 十 年 买 不 起 的 玩 具 ， 可 却 没 了 当 初 那 般 期 待 感 ； 3 0 岁 那 年 有 勇 气 去 追 2 0 岁 那 年 不 敢 追 的 女 孩 ， 可 女 孩 早 已 为 人 妇 多 年 ； 4 0 岁 那 年 想 再 去 珍 惜 3 0 岁 那 年 该 珍 惜 的 朋 友 ， 可 却 已 经 疏 远 多 年 。 人 生 就 是 这 样 ， 错 过 了 就 再 也 回 不 来 了 。 有 些 事 ， 现 在 不 做 ， 以 后 再 也 不 会 做 了 。\n",
            "Predicted translation: năm 20 tuổi đã đủ khả năng mua được món đồ chơi mà lúc 10 tuổi hằng mong muốn nhưng đã chẳng còn cảm giác hào hứng mong đợi như lúc đầu nữa. năm ba mươi tuổi đã đủ dũng cảm để theo đuổi người con gái lúc 20 tuổi mình thích nhưng cô ấy đã trở thành người phụ nữ của người khác từ lâu. năm 40 tuổi muốn quay ngược lại thời gian trân trọng những người bạn của năm ba mươi tuổi nhưng mọi người đã dần trở nên xa lạ từ lúc nào. đời người chính là như vậy: cái gì đã lỡ mất thì không tài nào lấy lại được. có những chuyện nếu bây giờ không thực hiện thì không thực hiện thì không thực hiện thì không thực hiện thì không thực hiện thì không thực hiện thì không thực hiện thì không thực hiện thì không thực hiện thì không thực hiện nhưng bạn của năm ba mươi tuổi trẻ trở nên xa lạ từ lúc nào. đời người bạn của năm 40 tuổi nhưng bạn của năm ba mươi tuổi nhưng đời người bạn của năm 40 tuổi nhưng mọi người đã dần trở nên xa lạ từ lúc nào. đời người bạn của năm ba mươi tuổi nhưng mọi người đã dần trở nên xa lạ từ lúc bây giờ không thực hiện nhưng mọi người chính là như thế bây giờ không \n",
            "năm 20 tuổi đã đủ khả năng mua được món đồ chơi mà lúc 10 tuổi hằng mong muốn nhưng đã chẳng còn cảm giác hào hứng mong đợi như lúc đầu nữa. năm ba mươi tuổi đã đủ dũng cảm để theo đuổi người con gái lúc 20 tuổi mình thích nhưng cô ấy đã trở thành người phụ nữ của người khác từ lâu. năm 40 tuổi muốn quay ngược lại thời gian trân trọng những người bạn của năm ba mươi tuổi nhưng mọi người đã dần trở nên xa lạ từ lúc nào. đời người chính là như vậy: cái gì đã lỡ mất thì không tài nào lấy lại được. có những chuyện nếu bây giờ không thực hiện thì sẽ mãi mãi chẳng bao giờ làm được nữa.\n",
            "năm 20 tuổi đã đủ khả năng mua được món đồ chơi mà lúc 10 tuổi hằng mong muốn nhưng đã chẳng còn cảm giác hào hứng mong đợi như lúc đầu nữa. năm ba mươi tuổi đã đủ dũng cảm để theo đuổi người con gái lúc 20 tuổi mình thích nhưng cô ấy đã trở thành người phụ nữ của người khác từ lâu. năm 40 tuổi muốn quay ngược lại thời gian trân trọng những người bạn của năm ba mươi tuổi nhưng mọi người đã dần trở nên xa lạ từ lúc nào. đời người chính là như vậy: cái gì đã lỡ mất thì không tài nào lấy lại được. có những chuyện nếu bây giờ không thực hiện thì không thực hiện thì không thực hiện thì không thực hiện thì không thực hiện thì không thực hiện thì không thực hiện thì không thực hiện thì không thực hiện thì không thực hiện nhưng bạn của năm ba mươi tuổi trẻ trở nên xa lạ từ lúc nào. đời người bạn của năm 40 tuổi nhưng bạn của năm ba mươi tuổi nhưng đời người bạn của năm 40 tuổi nhưng mọi người đã dần trở nên xa lạ từ lúc nào. đời người bạn của năm ba mươi tuổi nhưng mọi người đã dần trở nên xa lạ từ lúc bây giờ không thực hiện nhưng mọi người chính là như thế bây giờ không \n",
            "0.5123913766586093\n",
            "Input: 人 生 这 部 大 戏 ， 一 旦 拉 开 序 幕 ， 不 管 你 如 何 怯 场 ， 都 得 演 到 戏 的 结 尾 。 戏 中 我 们 爱 犯 一 个 错 误 ， 就 是 总 把 希 望 寄 予 明 天 ， 却 常 常 做 过 了 今 天 。\n",
            "Predicted translation: bộ phim lớn nhất của đời người một khi đã mở màn, mặc kệ bạn có lung túng thế nào cũng phải cố gắng diễn cho thật tốt đến cuối cùng. trong bộ phim này chúng ta thường phạm phải một sai lầm: đó là luôn đầy hy vọng gửi gắm vào ngày mai mà để lỡ mất cơ hội của ngày hôm nay.\n",
            "bộ phim lớn nhất của đời người một khi đã mở màn, mặc kệ bạn có lung túng thế nào cũng phải cố gắng diễn cho thật tốt đến cuối cùng. trong bộ phim này chúng ta thường phạm phải một sai lầm: đó là luôn đầy hy vọng gửi gắm vào ngày mai mà để lỡ mất cơ hội của ngày hôm nay.\n",
            "bộ phim lớn nhất của đời người một khi đã mở màn, mặc kệ bạn có lung túng thế nào cũng phải cố gắng diễn cho thật tốt đến cuối cùng. trong bộ phim này chúng ta thường phạm phải một sai lầm: đó là luôn đầy hy vọng gửi gắm vào ngày mai mà để lỡ mất cơ hội của ngày hôm nay.\n",
            "1.0\n",
            "Input: 没 人 能 让 所 有 人 满 意 ， 所 以 让 你 自 己 和 中 意 的 人 满 意 就 可 以 了 。 你 所 判 定 的 一 切 ， 也 许 就 是 你 内 心 的 投 影 。 人 生 就 是 一 个 不 断 接 纳 和 抛 弃 的 过 程 ， 就 是 一 段 迎 接 冷 眼 嘲 笑 孤 独 前 行 的 旅 途 。\n",
            "Predicted translation: chẳng một ai có thể làm vừa lòng tất cả mọi người vì thế chỉ cần làm hài lòng bản thân và những người đã yêu quý là đủ. tất cả những gì bạn làm có thể chính là hình ảnh phản chiếu sâu trong trái tim. đời người là một quá trình không ngừng tiếp nhận và vứt bỏ. nó cũng chính là một con đường chỉ có bản thân một mình cô độc tiến bước và không ngừng phải nhận những cái nhìn khinh bỉ, những nụ cười mỉa mai của mọi người.\n",
            "chẳng một ai có thể làm vừa lòng tất cả mọi người vì thế chỉ cần làm hài lòng bản thân và những người đã yêu quý là đủ. tất cả những gì bạn làm có thể chính là hình ảnh phản chiếu sâu trong trái tim. đời người là một quá trình không ngừng tiếp nhận và vứt bỏ. nó cũng chính là một con đường chỉ có bản thân một mình cô độc tiến bước và không ngừng phải nhận những cái nhìn khinh bỉ, những nụ cười mỉa mai của mọi người.\n",
            "chẳng một ai có thể làm vừa lòng tất cả mọi người vì thế chỉ cần làm hài lòng bản thân và những người đã yêu quý là đủ. tất cả những gì bạn làm có thể chính là hình ảnh phản chiếu sâu trong trái tim. đời người là một quá trình không ngừng tiếp nhận và vứt bỏ. nó cũng chính là một con đường chỉ có bản thân một mình cô độc tiến bước và không ngừng phải nhận những cái nhìn khinh bỉ, những nụ cười mỉa mai của mọi người.\n",
            "1.0\n",
            "Input: 当 你 很 累 很 累 的 时 候 ， 你 应 该 闭 上 眼 睛 做 深 呼 吸 ， 告 诉 自 己 应 该 坚 持 得 住 ， 不 要 这 么 轻 易 地 否 定 自 己 ， 谁 说 你 没 有 好 的 未 来 ， 关 于 明 天 的 事 后 天 才 知 道 ， 在 一 切 变 好 之 前 ， 我 们 总 要 经 历 一 些 不 开 心 的 日 子 ， 不 要 因 为 一 点 瑕 疵 而 放 弃 一 段 坚 持 ， 即 使 没 有 人 为 你 鼓 掌 ， 也 要 优 雅 地 谢 幕 ， 感 谢 认 真 付 出 的 自 己 。\n",
            "Predicted translation: khi bạn cảm thấy thực sự rất mệt mỏi, hãy khép đôi mắt lại và hít thở sâu, tự nói với bản thân rằng phải tiếp tục cố gắng, đừng có dễ dàng phủ định bản thân như thế. ai nói rằng tương lai của bạn sẽ không tươi sáng, những chuyện của ngày mai thì có trời mới biết, trước khi mọi chuyện trở nên tốt đẹp, chúng ta vẫn phải trải qua một vài ngày tháng chẳng vui vẻ gì, đừng vì một vài điều nhỏ bé không vừa ý mà vứt bỏ cả một quãng thời gian đã từng kiên trì nỗ lực.\n",
            "khi bạn cảm thấy thực sự rất mệt mỏi thì hãy khép đôi mắt lại và hít thở sâu, tự nói với bản thân rằng phải tiếp tục cố gắng đừng có dễ dàng phủ định bản thân như thế. anh nói rằng tương lai của bạn sẽ không tươi sáng? những chuyện của ngày mai thì phải đi hôm sau mới biết được. khi mà mọi điều đang tốt đẹp, đôi khi chúng ta vẫn phải trải qua một vài ngày tháng chẳng vui vẻ gì. đừng vì một vài điều không vừa ý mà vứt bỏ một quãng thời gian đã từng kiên trì nỗ lực. cho dù chẳng có ai vỗ tay hay khen thưởng, bạn cũng phải tao nhã cúi chào tạm biệt khán giả: cảm ơn bản thân đã chăm chỉ cố gắng.\n",
            "khi bạn cảm thấy thực sự rất mệt mỏi, hãy khép đôi mắt lại và hít thở sâu, tự nói với bản thân rằng phải tiếp tục cố gắng, đừng có dễ dàng phủ định bản thân như thế. ai nói rằng tương lai của bạn sẽ không tươi sáng, những chuyện của ngày mai thì có trời mới biết, trước khi mọi chuyện trở nên tốt đẹp, chúng ta vẫn phải trải qua một vài ngày tháng chẳng vui vẻ gì, đừng vì một vài điều nhỏ bé không vừa ý mà vứt bỏ cả một quãng thời gian đã từng kiên trì nỗ lực.\n",
            "0.5197391342783969\n",
            "Input: 人 生 就 那 么 几 十 年 ， 走 好 自 己 的 路 就 要 有 自 己 的 思 考 ， 有 坚 定 的 意 志 ， 坚 持 自 己 的 信 念 ， 坚 持 自 己 的 追 求 ， 不 能 放 松 对 自 己 的 要 求 ， 更 不 能 糊 里 糊 涂 地 度 过 自 己 的 人 生 。 人 生 不 能 虚 度 ， 自 己 要 对 得 起 自 己 。\n",
            "Predicted translation: cuộc đời ngắn ngủi có mấy chục năm, bạn muốn đi cho hết con đường mình đã lựa chọn thì phải có suy nghĩ của riêng mình, mang trong mình một ý chí sắt đá, giữ vững niềm tin, kiên trì với những gì mình theo đuổi, không được phép dễ dãi với bản thân và càng không được phép sống ngây ngô hồ đồ cả một đời. không thể lãng phí cuộc sống, bản thân phải sống sao cho không hổ thẹn với lòng mình.\n",
            "cuộc đời ngắn ngủi có mấy chục năm, bạn muốn đi cho hết con đường mình đã lựa chọn thì phải có suy nghĩ của riêng mình, mang trong mình một ý chí sắt đá, giữ vững niềm tin, kiên trì với những gì mình theo đuổi, không được phép dễ dãi với bản thân và càng không được phép sống ngây ngô hồ đồ cả một đời. không thể lãng phí cuộc sống, bản thân phải sống sao cho không hổ thẹn với lòng mình.\n",
            "cuộc đời ngắn ngủi có mấy chục năm, bạn muốn đi cho hết con đường mình đã lựa chọn thì phải có suy nghĩ của riêng mình, mang trong mình một ý chí sắt đá, giữ vững niềm tin, kiên trì với những gì mình theo đuổi, không được phép dễ dãi với bản thân và càng không được phép sống ngây ngô hồ đồ cả một đời. không thể lãng phí cuộc sống, bản thân phải sống sao cho không hổ thẹn với lòng mình.\n",
            "1.0\n",
            "Input: 时 间 是 个 好 东 西 ， 让 我 们 知 道 日 久 见 人 心 ， 留 到 最 后 的 才 是 好 的 。 也 让 我 们 学 会 冷 暖 自 知 ， 更 懂 得 好 自 为 之 。\n",
            "Predicted translation: thời gian là một liều thuốc thử tốt giúp chúng ta nhận biết được lòng người và giúp chúng ta biết được những gì tốt đẹp nhất. thời gian cũng phải làm tốt những gì tốt đẹp nhất. thời gian cũng phải quá quan tâm đến bản thân và giúp chúng ta biết cách tự làm tốt những gì tốt những việc của mình, thời gian sẽ không cần thiết biết cách tự làm tốt những việc của mình.\n",
            "thời gian là một liều thuốc thử tốt giúp chúng ta nhận biết được lòng người và giúp chúng ta biết được những gì còn sót lại cuối cùng mới là những gì tốt đẹp nhất. thời gian cũng sẽ giúp chúng ta học được cách tự yêu thương quan tâm đến bản thân và giúp chúng ta biết cách tự làm tốt những việc của mình.\n",
            "thời gian là một liều thuốc thử tốt giúp chúng ta nhận biết được lòng người và giúp chúng ta biết được những gì tốt đẹp nhất. thời gian cũng phải làm tốt những gì tốt đẹp nhất. thời gian cũng phải quá quan tâm đến bản thân và giúp chúng ta biết cách tự làm tốt những gì tốt những việc của mình, thời gian sẽ không cần thiết biết cách tự làm tốt những việc của mình.\n",
            "0.5972854112393697\n",
            "Input: 怎 样 度 过 人 生 的 低 潮 期 ？ 好 好 睡 觉 ， 锻 炼 身 体 ， 无 论 何 时 好 的 体 魄 都 用 得 着 ； 和 知 心 的 朋 友 谈 天 ， 基 本 上 不 发 牢 骚 ， 主 要 是 回 忆 坏 乐 的 时 光 ； 多 读 书 ， 看 一 些 传 记 ， 增 长 知 识 ， 顺 带 还 可 瞧 瞧 别 人 倒 霉 的 时 候 是 怎 么 挺 过 去 的 ； 趁 机 做 家 务 ， 把 平 时 忙 碌 顾 不 上 的 活 儿 都 干 完 。\n",
            "Predicted translation: làm thế nào để vượt qua được thời kỳ tâm trạng khủng hoảng? hãy ngủ thật ngon và chăm chỉ tập thể thao. bất cứ lúc nào bạn cũng cần có một tâm trạng và thể lực tốt. tám chuyện thiên hạ cùng với người bạn tri kỷ nhưng đừng có cảm ràm oán thán mà chủ yếu hãy để cả hai cùng nhớ về khoảng thời gian vui vẻ. đọc nhiều sách hơn, nhìn ngắm những tác phẩm truyền kỳ, tích lũy kiến thức cho mình tiện thể xem xem xem xem xem xem xem xem xem xem xem xem xem xem xem xem xem xem xem xem xem xem xem xem xem xem xem xem xem xem xem xem xem xem xem xem xem xem xem xem xem xem xem xem xem xem xem xem xem xem xem xem xem xem xem xem xem xem việc nhà, tích lũy kiến thức thế nào, tích lũy kiến thức cho mình tiện thể vượt qua khoảng thời gian đen tối như thế nào, tích lũy kiến thức cho mình ngắm những thời gian đen tối như thế nào, làm cho mình tiện thể vượt qua khoảng thời gian đen tối như thế nào, quá bận rộn mà chẳng lo toan được.\n",
            "làm thế nào để vượt qua được thời kỳ tâm trạng khủng hoảng? hãy ngủ thật ngon và chăm chỉ tập thể thao. bất cứ lúc nào bạn cũng cần có một tâm trạng và thể lực tốt. tám chuyện thiên hạ cùng với người bạn tri kỷ nhưng đừng có cảm ràm oán thán mà chủ yếu hãy để cả hai cùng nhớ về khoảng thời gian vui vẻ. đọc nhiều sách hơn, nhìn ngắm những tác phẩm truyền kỳ, tích lũy kiến thức cho mình tiện thể xem xem người ta đã vượt qua khoảng thời gian đen tối như thế nào, tranh thủ thời gian làm việc nhà, làm cho xong những việc thường ngày vì quá bận rộn mà chẳng lo toan được.\n",
            "làm thế nào để vượt qua được thời kỳ tâm trạng khủng hoảng? hãy ngủ thật ngon và chăm chỉ tập thể thao. bất cứ lúc nào bạn cũng cần có một tâm trạng và thể lực tốt. tám chuyện thiên hạ cùng với người bạn tri kỷ nhưng đừng có cảm ràm oán thán mà chủ yếu hãy để cả hai cùng nhớ về khoảng thời gian vui vẻ. đọc nhiều sách hơn, nhìn ngắm những tác phẩm truyền kỳ, tích lũy kiến thức cho mình tiện thể xem xem xem xem xem xem xem xem xem xem xem xem xem xem xem xem xem xem xem xem xem xem xem xem xem xem xem xem xem xem xem xem xem xem xem xem xem xem xem xem xem xem xem xem xem xem xem xem xem xem xem xem xem xem xem xem xem xem việc nhà, tích lũy kiến thức thế nào, tích lũy kiến thức cho mình tiện thể vượt qua khoảng thời gian đen tối như thế nào, tích lũy kiến thức cho mình ngắm những thời gian đen tối như thế nào, làm cho mình tiện thể vượt qua khoảng thời gian đen tối như thế nào, quá bận rộn mà chẳng lo toan được.\n",
            "0.5099206329317107\n",
            "Input: 世 上 有 一 样 东 西 ， 比 任 何 别 东 西 都 更 忠 诚 于 你 ， 那 就 是 你 的 经 历 。 你 生 命 中 的 日 子 ， 你 在 其 中 遭 遇 的 人 和 事 ， 你 因 这 些 遭 遇 产 生 的 悲 欢 ， 感 受 和 思 考 ， 这 一 切 仅 仅 属 于 你 ， 不 可 能 转 让 给 任 何 别 人 ， 哪 怕 是 你 最 亲 近 的 人 。 这 是 你 最 珍 贵 的 财 富 。\n",
            "Predicted translation: chính sách thuộc ngược nhất, tất cả những người đều không thể quá quan tâm sang với bản thân và cũng càng thiết mà đồng hành tranh quý như một vài vô giao muốn.\n",
            "trên đời này có một thứ luôn trung thành với bạn hơn bất cứ cái gì khác. đó chính là những trải nghiệm của bạn. mỗi ngày trôi qua, những con người và những câu chuyện bạn gặp phải, những cảm xúc vui buồn, những suy nghĩ và cảm nhận mà những cuộc đời gặp gỡ đó mang lại, tất cả những điều này chỉ vỏn vẹn thuộc về một mình bạn, chúng không thể chuyển giao sang cho bất kỳ ai khác, cho dù đó có là người thân thiết gần gũi với bạn nhất. đó chính là tài sản quý giá nhất của cuộc đời bạn.\n",
            "chính sách thuộc ngược nhất, tất cả những người đều không thể quá quan tâm sang với bản thân và cũng càng thiết mà đồng hành tranh quý như một vài vô giao muốn.\n",
            "0.022023060341133337\n",
            "Input: 有 人 刻 薄 的 嘲 讽 你 ， 你 马 上 尖 酸 地 回 敬 他 ； 有 人 毫 无 理 由 地 看 不 起 你 ， 你 马 上 轻 蔑 地 鄙 视 他 ； 有 人 在 你 面 前 大 肆 炫 耀 ， 你 马 上 加 倍 证 明 你 更 厉 害 ； 有 人 对 你 冷 漠 忽 视 ， 你 马 上 对 他 冷 淡 疏 远 。 看 ， 你 讨 厌 的 那 些 人 ， 轻 易 就 把 你 变 成 你 自 己 最 讨 厌 的 那 种 样 子 。 这 才 是 \" 敌 人 \" 对 你 最 大 的 伤 害 。\n",
            "Predicted translation: có người cay nghiệt chế giễu, bạn lập tức chua ngoa đáp trả lại anh ta. có người vô duyên vô cớ xem thường bạn, bạn lập tức nhìn lại anh ta bằng ánh mắt khinh thường. có người trắng trợn khoe khoang trước mặt bạn, bạn lập tức vội vàng chứng minh bản thân giỏi hơn gấp mấy chục lần. lại có người lạnh nhạt thờ ơ với bạn, bạn cũng lập tức lãnh đạm xa lánh với anh ta. nhìn xem tất cả những người bạn ghét đã dễ dàng biến bạn ghét đã dễ dàng biến bạn trở thành những bộ dạng mà chính bản thân mình căm ghét nhất. đây mới là những vết thương đau đớn và tàn nhẫn nhất mà \"kẻ địch\" dành cho bạn.\n",
            "có người cay nghiệt chế giễu, bạn lập tức chua ngoa đáp trả lại anh ta. có người vô duyên vô cớ xem thường bạn, bạn lập tức nhìn lại anh ta bằng ánh mắt khinh thường. có người trắng trợn khoe khoang trước mặt bạn, bạn lập tức vội vàng chứng minh bản thân giỏi hơn gấp mấy chục lần. lại có người lạnh nhạt thờ ơ với bạn, bạn cũng lập tức lãnh đạm xa lánh với anh ta. nhìn xem tất cả những người bạn ghét đã dễ dàng biến bạn trở thành những bộ dạng mà chính bản thân mình căm ghét nhất. đây mới là những vết thương đau đớn và tàn nhẫn nhất mà \"kẻ địch\" dành cho bạn.\n",
            "có người cay nghiệt chế giễu, bạn lập tức chua ngoa đáp trả lại anh ta. có người vô duyên vô cớ xem thường bạn, bạn lập tức nhìn lại anh ta bằng ánh mắt khinh thường. có người trắng trợn khoe khoang trước mặt bạn, bạn lập tức vội vàng chứng minh bản thân giỏi hơn gấp mấy chục lần. lại có người lạnh nhạt thờ ơ với bạn, bạn cũng lập tức lãnh đạm xa lánh với anh ta. nhìn xem tất cả những người bạn ghét đã dễ dàng biến bạn ghét đã dễ dàng biến bạn trở thành những bộ dạng mà chính bản thân mình căm ghét nhất. đây mới là những vết thương đau đớn và tàn nhẫn nhất mà \"kẻ địch\" dành cho bạn.\n",
            "0.9536644158909482\n",
            "Input: 不 懂 得 感 恩 的 人 不 值 得 同 情 ， 不 懂 得 尊 重 的 人 不 值 得 信 任 ， 不 懂 得 珍 惜 的 人 不 值 得 付 出 ， 不 懂 得 宽 容 的 人 不 值 得 交 往 。\n",
            "Predicted translation: một người không biết cách cảm ơn không đáng để đồng cảm. một người không biết cách tôn trọng người khác thì không đáng để tín nhiệm. một người không biết cách trân trọng không đáng để hy sinh. một người không biết cách khoan dung không đáng để ta làm bạn.\n",
            "một người không biết cách cảm ơn không đáng để đồng cảm. một người không biết cách tôn trọng người khác thì không đáng để tín nhiệm. một người không biết cách trân trọng không đáng để hy sinh. một người không biết cách khoan dung không đáng để ta làm bạn.\n",
            "một người không biết cách cảm ơn không đáng để đồng cảm. một người không biết cách tôn trọng người khác thì không đáng để tín nhiệm. một người không biết cách trân trọng không đáng để hy sinh. một người không biết cách khoan dung không đáng để ta làm bạn.\n",
            "1.0\n",
            "Input: 人 生 百 年 ， 转 眼 成 空 。 喜 欢 了 就 努 力 ， 拥 有 了 就 珍 惜 ， 生 活 中 ， 很 多 时 候 我 们 都 要 有 耐 心 ， 生 活 中 的 苦 难 ， 它 让 我 们 学 会 了 承 受 ， 如 果 想 让 生 活 更 加 美 好 ， 也 让 自 己 更 加 美 好 的 生 活 ， 我 们 不 妨 就 把 生 活 看 作 是 一 滴 灵 动 的 水 。 就 像 它 一 样 ， 一 切 随 势 顺 缘 ， 尽 情 欢 畅 奔 流 。\n",
            "Predicted translation: đời người trăm năm có là chi, chẳng qua chỉ là một cái chớp mắt là thành hư không. nếu đã thích thì hãy cố gắng giành lấy và nếu đã nắm trong tay thì phải biết trân trọng. trong cuộc sống có rất nhiều lúc chúng ta phải kiên nhẫn, phải học được cách chịu đựng những nỗi khổ. nếu như muốn cuộc sống trở nên tốt đẹp hơn cũng như để bản thân sống một cách ý nghĩa hơn, cách tốt nhất là hãy sống cuộc sống cuộc sống cuộc sống cuộc sống cuộc sống cuộc sống cuộc sống cuộc sống cuộc sống cuộc sống cuộc sống cuộc sống cuộc sống cuộc sống cuộc sống cuộc sống cuộc sống cuộc sống cuộc sống cuộc sống cuộc sống cuộc sống cuộc sống cuộc sống cuộc sống cuộc sống cuộc sống cuộc sống cuộc sống cuộc sống cuộc sống cuộc sống cuộc sống cuộc sống cuộc sống cuộc sống cuộc sống cuộc sống cuộc sống cuộc sống cuộc sống cuộc sống cuộc sống cuộc sống cuộc sống cuộc sống cuộc sống cuộc sống cuộc sống cuộc sống một cách hơn cuộc sống cuộc sống cuộc sống cuộc sống một năm.\n",
            "đời người trăm năm có là chi, chẳng qua chỉ là một cái chớp mắt là thành hư không. nếu đã thích thì hãy cố gắng giành lấy và nếu đã nắm trong tay thì phải biết trân trọng. trong cuộc sống có rất nhiều lúc chúng ta phải kiên nhẫn, phải học được cách chịu đựng những nỗi khổ. nếu như muốn cuộc sống trở nên tốt đẹp hơn cũng như để bản thân sống một cách ý nghĩa hơn, cách tốt nhất là hãy sống cuộc sống như một giọt nước tràn đầy thông minh.\n",
            "đời người trăm năm có là chi, chẳng qua chỉ là một cái chớp mắt là thành hư không. nếu đã thích thì hãy cố gắng giành lấy và nếu đã nắm trong tay thì phải biết trân trọng. trong cuộc sống có rất nhiều lúc chúng ta phải kiên nhẫn, phải học được cách chịu đựng những nỗi khổ. nếu như muốn cuộc sống trở nên tốt đẹp hơn cũng như để bản thân sống một cách ý nghĩa hơn, cách tốt nhất là hãy sống cuộc sống cuộc sống cuộc sống cuộc sống cuộc sống cuộc sống cuộc sống cuộc sống cuộc sống cuộc sống cuộc sống cuộc sống cuộc sống cuộc sống cuộc sống cuộc sống cuộc sống cuộc sống cuộc sống cuộc sống cuộc sống cuộc sống cuộc sống cuộc sống cuộc sống cuộc sống cuộc sống cuộc sống cuộc sống cuộc sống cuộc sống cuộc sống cuộc sống cuộc sống cuộc sống cuộc sống cuộc sống cuộc sống cuộc sống cuộc sống cuộc sống cuộc sống cuộc sống cuộc sống cuộc sống cuộc sống cuộc sống cuộc sống cuộc sống cuộc sống một cách hơn cuộc sống cuộc sống cuộc sống cuộc sống một năm.\n",
            "0.44201000441075416\n",
            "Input: 也 许 你 的 工 作 不 够 好 ， 也 许 你 正 处 在 困 境 中 ， 也 许 你 被 情 所 弃 。 不 论 什 么 原 因 ， 请 你 在 出 门 时 ， 一 定 要 把 自 己 打 扮 得 清 清 爽 爽 ， 漂 漂 亮 亮 ， 昂 起 头 挺 起 胸 ， 面 带 微 笑 ， 从 容 自 若 地 面 对 生 活 。 只 要 你 自 己 真 正 撑 起 来 了 ， 别 人 是 压 不 垮 你 的 。\n",
            "Predicted translation: có thể công việc bạn đang làm không đủ tốt, có thể bạn đang lâm vào cảnh khốn khó, hoặc có thể bạn bị tình yêu chối bỏ. cho dù vì lý do gì, xin bạn khi bước chân ra khỏi nhà: nhất định phải trang điểm cho bản thân sao cho thật xinh đẹp, thật khoan khoái, ngẩng cao đầu, ưỡn ngực kiêu hãnh, đôi môi luôn nở nụ cười xinh và ung dung tự tại đối mặt với cuộc sống. nếu như bạn thật sự có thể chống đỡ được thì cũng sẽ không có ai có thể vùi dập bạn.\n",
            "có thể công việc bạn đang làm không đủ tốt, có thể bạn đang lâm vào cảnh khốn khó, hoặc có thể bạn bị tình yêu chối bỏ. cho dù vì lý do gì, xin bạn khi bước chân ra khỏi nhà: nhất định phải trang điểm cho bản thân sao cho thật xinh đẹp, thật khoan khoái, ngẩng cao đầu, ưỡn ngực kiêu hãnh, đôi môi luôn nở nụ cười xinh và ung dung tự tại đối mặt với cuộc sống. nếu như bạn thật sự có thể chống đỡ được thì cũng sẽ không có ai có thể vùi dập bạn.\n",
            "có thể công việc bạn đang làm không đủ tốt, có thể bạn đang lâm vào cảnh khốn khó, hoặc có thể bạn bị tình yêu chối bỏ. cho dù vì lý do gì, xin bạn khi bước chân ra khỏi nhà: nhất định phải trang điểm cho bản thân sao cho thật xinh đẹp, thật khoan khoái, ngẩng cao đầu, ưỡn ngực kiêu hãnh, đôi môi luôn nở nụ cười xinh và ung dung tự tại đối mặt với cuộc sống. nếu như bạn thật sự có thể chống đỡ được thì cũng sẽ không có ai có thể vùi dập bạn.\n",
            "1.0\n",
            "Input: 生 命 最 有 趣 的 部 分 ， 正 是 它 没 有 剧 本 ， 没 有 彩 排 ， 不 能 重 来 。 生 命 最 有 分 量 的 部 分 ， 正 是 我 们 要 做 自 己 ， 承 担 所 有 的 责 任 。\n",
            "Predicted translation: trong cuộc sống có rất nhiều chuyện không phải làm nhưng không phải không làm hài lòng nhưng chúng ta phát suy nghĩ tự mình để khổ nhất. ai không vừa ngón bánh lớp bản thân không đủ tốt nhất của tôi. ai không đủ tốt đẹp nhất.\n",
            "điều thú vị của cuộc sống chính là việc nó không có kịch bản được viết trước, cũng không có những buổi diễn tập. điều quan trọng nhất là không ai có thể quay ngược lại thời gian. giá trị lớn nhất của cuộc sống chính là ở việc chúng ta phải sống là chính mình và buộc phải có trách nhiệm với tất cả mọi việc.\n",
            "trong cuộc sống có rất nhiều chuyện không phải làm nhưng không phải không làm hài lòng nhưng chúng ta phát suy nghĩ tự mình để khổ nhất. ai không vừa ngón bánh lớp bản thân không đủ tốt nhất của tôi. ai không đủ tốt đẹp nhất.\n",
            "0.25296481677756094\n",
            "Input: 你 曾 剪 下 自 己 的 一 段 青 春 时 光 ， 用 来 奋 不 顾 身 地 朝 着 一 个 目 标 狂 奔 ， 那 勇 敢 的 模 样 ， 任 何 时 候 想 起 来 都 觉 得 骄 傲 。 像 夏 日 里 热 烈 的 太 阳 ， 像 原 野 里 自 由 的 风 ， 像 从 不 曾 跌 倒 一 样 。 你 永 远 深 信 ， 有 些 东 西 ， 冬 天 从 你 身 边 带 走 了 ， 春 天 会 还 给 你 。\n",
            "Predicted translation: bạn đã từng cắt bỏ cả một quãng thời gian của tuổi trẻ, nỗ lực quên mình điên cuồng hướng về một mục tiêu, sự dũng cảm đó, bất cứ khi nào nhớ lại cũng sẽ khiến ta tự hào. như ánh mặt trời dữ dội của ngày hè, như những cơn gió tự do trên đồng cỏ dại, như trước này chưa bao giờ té ngã. bạn phải tin tưởng rằng, có những thứ mùa đông đã mang đi, mùa xuân sẽ mang đến trả lại bạn.\n",
            "bạn đã từng cắt bỏ cả một quãng thời gian của tuổi trẻ, nỗ lực quên mình điên cuồng hướng về một mục tiêu, sự dũng cảm đó, bất cứ khi nào nhớ lại cũng sẽ khiến ta tự hào. như ánh mặt trời dữ dội của ngày hè, như những cơn gió tự do trên đồng cỏ dại, như trước này chưa bao giờ té ngã. bạn phải tin tưởng rằng, có những thứ mùa đông đã mang đi, mùa xuân sẽ mang đến trả lại bạn.\n",
            "bạn đã từng cắt bỏ cả một quãng thời gian của tuổi trẻ, nỗ lực quên mình điên cuồng hướng về một mục tiêu, sự dũng cảm đó, bất cứ khi nào nhớ lại cũng sẽ khiến ta tự hào. như ánh mặt trời dữ dội của ngày hè, như những cơn gió tự do trên đồng cỏ dại, như trước này chưa bao giờ té ngã. bạn phải tin tưởng rằng, có những thứ mùa đông đã mang đi, mùa xuân sẽ mang đến trả lại bạn.\n",
            "1.0\n",
            "Input: 对 于 那 些 想 要 一 步 登 天 的 人 来 说 ， 与 其 等 待 一 个 缥 缈 的 机 会 ， 一 个 不 知 何 时 到 来 的 贵 人 ， 不 如 干 脆 做 些 青 春 时 该 做 的 事 情 ， 在 不 断 自 我 丰 富 与 强 大 中 ， 你 会 发 现 ， 自 己 也 就 变 成 了 那 个 人 生 中 最 大 的 机 会 和 贵 人 。\n",
            "Predicted translation: hãy để làm chủ lấy tuổi trẻ của mình và biết cách vô cùng bạn và tâm tốt đẹp nhất. điều đáng nhất trên ngày đều không bao giờ sợ nhất định sẽ được sẽ trở thành điều quan tâm cho phép còn thích đi sẽ trở nên xa nhưng tôi cảm thấy khổ.\n",
            "đối với những người muốn một bước lên trời thay vì kiên nhẫn chờ đợi một cơ hội mơ hồ xa săm, mong ngóng một quí nhân không biết khi nào mới xuất hiện, chi bằng tự bản thân mình cố gắng thực hiện những điều mà tuổi trẻ nên làm. trong quá trình không ngừng tự hoàn thiện bản thân trở nên mạnh mẽ, bạn sẽ phát hiện chính bạn đã trở thành cơ hội và quý nhân lớn nhất trong cuộc đời của người khác.\n",
            "hãy để làm chủ lấy tuổi trẻ của mình và biết cách vô cùng bạn và tâm tốt đẹp nhất. điều đáng nhất trên ngày đều không bao giờ sợ nhất định sẽ được sẽ trở thành điều quan tâm cho phép còn thích đi sẽ trở nên xa nhưng tôi cảm thấy khổ.\n",
            "0.1953173029180725\n",
            "Input: 青 春 终 究 会 飞 走 ， 我 们 也 一 定 会 逐 渐 衰 老 ， 但 年 轻 时 我 们 对 待 年 轻 的 态 度 ， 则 会 决 定 未 来 我 们 会 走 上 一 条 什 么 样 的 路 。 把 青 春 和 美 丽 作 为 博 得 幸 福 筹 码 的 ， 终 究 会 因 为 年 老 色 衰 而 失 去 幸 福 ， 而 将 青 春 作 为 一 场 修 炼 的 ， 人 生 的 积 淀 却 会 随 着 时 间 的 流 逝 而 逐 渐 深 厚 。\n",
            "Predicted translation: hãy để chúng ta dẫn vẫn vì cuộc đời của mình đi nếm trải, hãy để rồi rất tin bao mồ viễn lớn sâu trong lớp học.\n",
            "thanh xuân rồi cũng sẽ rời bỏ ta mà bay đi mất. chúng ta ai rồi cũng sẽ phải ra đi nhưng thái độ đối xử với tuổi trẻ của ta như thế nào sẽ quyết định tương lai ta bước đi trên con đường tương ứng như thế. nếu coi thanh xuân như những thẻ bài đi đánh cược lấy hạnh phúc thì sớm muộn gì cũng sẽ vì tuổi già sức yếu mà đánh lỡ mất nó. hãy xem tuổi trẻ như một quá trình luyện tập trường kỳ chỉ có những tích luỹ của đời người mới giúp bạn dần trở nên dày dạn theo thời gian.\n",
            "hãy để chúng ta dẫn vẫn vì cuộc đời của mình đi nếm trải, hãy để rồi rất tin bao mồ viễn lớn sâu trong lớp học.\n",
            "0.015105489779755095\n",
            "Input: 日 子 不 是 用 来 将 就 的 ， 你 表 现 得 越 卑 微 ， 一 些 幸 福 的 东 西 就 会 离 你 越 远 。 除 了 你 自 己 ， 没 有 人 会 明 白 你 的 故 事 里 有 过 多 少 快 乐 或 伤 悲 ， 因 为 那 终 究 只 是 你 一 个 人 的 感 觉 。\n",
            "Predicted translation: cho dù bạn trời lên mãi đi du trải qua những nỗi cũng sẽ có rất nhiều cửa hàng. trên thế giới này sẽ có lúc bạn sẽ có một trái vọng bạn cảm thấy tràn mong muốn thì cũng có một trái tim tự an ủi của bạn đến cuối cùng bạn đến cuối cùng bạn cũng phải tự an ủi và mỗi ngày càng thích đi thôi. ngược lại ngồi sự tự do trong trái tim mình, nhưng tôi cũng sẽ chẳng có một ngày tháng nhưng tôi cũng chẳng có một ngày càng tràn đầy thôi.\n",
            "cuộc sống không phải để tạm bợ và bạn càng thể hiện bản thân kém cỏi hạnh phúc sẽ nghiễm nhiên càng xa rời tầm tay. ngoài bản thân bạn ra sẽ chẳng có một ai khác hiểu được trong những câu chuyện của bạn có biết bao niềm vui hay nỗi buồn bởi vì đó chỉ là những cảm xúc của riêng mình bạn mà thôi.\n",
            "cho dù bạn trời lên mãi đi du trải qua những nỗi cũng sẽ có rất nhiều cửa hàng. trên thế giới này sẽ có lúc bạn sẽ có một trái vọng bạn cảm thấy tràn mong muốn thì cũng có một trái tim tự an ủi của bạn đến cuối cùng bạn đến cuối cùng bạn cũng phải tự an ủi và mỗi ngày càng thích đi thôi. ngược lại ngồi sự tự do trong trái tim mình, nhưng tôi cũng sẽ chẳng có một ngày tháng nhưng tôi cũng chẳng có một ngày càng tràn đầy thôi.\n",
            "0.03647992495671781\n",
            "Input: 世 上 有 一 样 东 西 ， 比 任 何 别 东 西 都 更 忠 诚 于 你 ， 那 就 是 你 的 经 历 。 你 生 命 中 的 日 子 ， 你 在 其 中 遭 遇 的 人 和 事 ， 你 因 这 些 遭 遇 产 生 的 悲 欢 ， 感 受 和 思 考 ， 这 一 切 仅 仅 属 于 你 ， 不 可 能 转 让 给 任 何 别 人 ， 哪 怕 是 你 最 亲 近 的 人 。 这 是 你 最 珍 贵 的 财 富 。\n",
            "Predicted translation: chính sách thuộc ngược nhất, tất cả những người đều không thể quá quan tâm sang với bản thân và cũng càng thiết mà đồng hành tranh quý như một vài vô giao muốn.\n",
            "trên đời này có một thứ luôn trung thành với bạn hơn bất cứ cái gì khác. đó chính là những trải nghiệm của bạn. mỗi ngày trôi qua, những con người và những câu chuyện bạn gặp phải, những cảm xúc vui buồn, những suy nghĩ và cảm nhận mà những cuộc đời gặp gỡ đó mang lại, tất cả những điều này chỉ vỏn vẹn thuộc về một mình bạn, chúng không thể chuyển giao sang cho bất kỳ ai khác, cho dù đó có là người thân thiết gần gũi với bạn nhất. đó chính là tài sản quý giá nhất của cuộc đời bạn.\n",
            "chính sách thuộc ngược nhất, tất cả những người đều không thể quá quan tâm sang với bản thân và cũng càng thiết mà đồng hành tranh quý như một vài vô giao muốn.\n",
            "0.022023060341133337\n",
            "Input: 让 我 们 好 好 地 把 握 住 青 春 ， 学 那 穿 云 破 雾 的 海 燕 去 搏 击 风 雨 ， 学 那 高 大 挺 拔 的 青 松 去 颈 霜 傲 雪 。 只 有 如 此 ， 才 能 在 自 己 的 青 春 史 上 写 下 无 怨 无 悔 的 一 页 。 不 要 怕 输 ， 青 春 是 永 远 不 服 输 的 ， 只 要 你 肯 努 力 ， 梦 想 终 会 实 现 。\n",
            "Predicted translation: hãy để chúng ta làm chủ lấy tuổi trẻ của mình và học theo những cánh chim hải âu tung bay trên mây, phá tan sương mù, đối đầu với những sóng gió, học theo những thân tùng cao lớn, thẳng đứng vững vàng trong gió mà chẳng hề run sợ. chỉ có như thế mới có thể viết nên những trang sử không hối hận của tuổi thanh xuân.\n",
            "hãy để chúng ta làm chủ lấy tuổi trẻ của mình và học theo những cánh chim hải âu tung bay trên mây, phá tan sương mù, đối đầu với những sóng gió, học theo những thân tùng cao lớn, thẳng đứng vững vàng trong gió mà chẳng hề run sợ. chỉ có như thế mới có thể viết nên những trang sử không hối hận của tuổi thanh xuân. đừng sợ thua cuộc, thanh xuân vĩnh viễn không bao giờ chịu thua cả, chỉ cần bạn cố gắng sẽ có ngày thực hiện được ước mơ.\n",
            "hãy để chúng ta làm chủ lấy tuổi trẻ của mình và học theo những cánh chim hải âu tung bay trên mây, phá tan sương mù, đối đầu với những sóng gió, học theo những thân tùng cao lớn, thẳng đứng vững vàng trong gió mà chẳng hề run sợ. chỉ có như thế mới có thể viết nên những trang sử không hối hận của tuổi thanh xuân.\n",
            "0.6799647735788938\n",
            "Input: 人 生 的 过 程 必 然 坎 坷 ， 可 是 经 历 本 身 必 然 让 你 变 得 更 好 。 哪 怕 结 果 不 如 预 想 的 ， 也 有 其 发 生 的 必 然 性 原 因 。 可 以 肯 定 的 是 ， 它 一 定 会 比 你 本 来 想 的 更 好 ， 更 恰 当 ， 也 许 当 时 的 你 还 不 懂 得 ， 但 当 你 到 达 终 点 时 终 究 会 明 白 一 切 都 是 有 意 义 的 。 只 有 历 经 最 严 酷 的 考 验 ， 才 看 得 到 最 极 致 的 风 景 。\n",
            "Predicted translation: đời người nhất định sẽ gặp phải những khó khăn thử thách nhưng phải nếm trải mới khiến bản thân trở nên tốt hơn. cho dù kết quả có không như ý muốn thì những gì xảy ra đều có nguyên nhân của nó. cho đến đều có nguyên nhân của nó. một đời chắc chắn đó là: anh ta sẽ tốt hơn so với những gì bạn nghĩ. có ý nghĩa riêng của nó. có thể cần định chắc chắn chỉ khi bạn đến khi bạn hiểu ra tất cả mọi điều đều có ý nghĩa riêng của nó. có ý nghĩa riêng của nó. có ý nghĩa riêng của nó. có ý nghĩa riêng của nó. có ý nghĩa riêng trời nhất mới hiểu nhưng cho đến khi vượt qua những gì bạn hiểu nhưng cho đến khi bạn hiểu nhưng cho đến được điểm tiện phong cảnh tươi đẹp nhất.\n",
            "đời người nhất định sẽ gặp phải những khó khăn thử thách nhưng phải nếm trải mới khiến bản thân trở nên tốt hơn. cho dù kết quả có không như ý muốn thì những gì xảy ra đều có nguyên nhân của nó. một điều có thể cần định chắc chắn đó là: anh ta sẽ tốt hơn và xứng đáng hơn so với những gì bạn nghĩ. có thể lúc đó bạn vẫn không hiểu nhưng cho đến khi bạn đến được điểm cuối cùng bạn sẽ hiểu ra tất cả mọi điều đều có ý nghĩa riêng của nó. chỉ khi vượt qua những thử thách khắc nghiệt nhất mới có thể ngắm nhìn phong cảnh tươi đẹp nhất.\n",
            "đời người nhất định sẽ gặp phải những khó khăn thử thách nhưng phải nếm trải mới khiến bản thân trở nên tốt hơn. cho dù kết quả có không như ý muốn thì những gì xảy ra đều có nguyên nhân của nó. cho đến đều có nguyên nhân của nó. một đời chắc chắn đó là: anh ta sẽ tốt hơn so với những gì bạn nghĩ. có ý nghĩa riêng của nó. có thể cần định chắc chắn chỉ khi bạn đến khi bạn hiểu ra tất cả mọi điều đều có ý nghĩa riêng của nó. có ý nghĩa riêng của nó. có ý nghĩa riêng của nó. có ý nghĩa riêng của nó. có ý nghĩa riêng trời nhất mới hiểu nhưng cho đến khi vượt qua những gì bạn hiểu nhưng cho đến khi bạn hiểu nhưng cho đến được điểm tiện phong cảnh tươi đẹp nhất.\n",
            "0.5694856442026355\n",
            "Input: 每 个 人 都 有 自 己 的 活 法 ， 你 没 必 要 去 羡 慕 别 人 的 生 活 。 有 的 人 表 面 风 光 ， 暗 地 里 却 不 知 流 了 多 少 眼 泪 ； 有 的 人 看 似 生 活 窘 迫 ， 实 际 上 人 家 可 能 过 得 潇 洒 快 活 。 你 根 本 不 知 道 别 人 在 用 怎 样 的 生 活 方 式 生 存 着 ， 收 回 羡 慕 别 人 的 目 光 ， 反 观 内 心 。 自 己 喜 欢 的 日 子 ， 就 是 最 美 的 日 子 。\n",
            "Predicted translation: mỗi người đều có một cách sống riêng và bạn không việc gì phải hâm mộ cuộc sống của người khác. có những người ngoài mặt thì cười nói vui vẻ nhưng trong lòng không biết đã âm thầm rơi bao nhiêu nước mắt. cũng có những người cuộc sống có vẻ rất khó khăn nhưng thực tế người ta lại có thể sống tự tại. bạn căn bản không thể ép được người khác sống bằng cách thức như thế nào, hãy thu lại ánh mắt ngưỡng mộ người khác mà tự nhìn nhận lại bản thân, những ngày tháng mà bản thân yêu nhưng thực tế người khác mà bản thân yêu thích chính mình là những ngày tháng tươi đẹp nhất.\n",
            "mỗi người đều có một cách sống riêng và bạn không việc gì phải hâm mộ cuộc sống của người khác. có những người ngoài mặt thì cười nói vui vẻ nhưng trong lòng không biết đã âm thầm rơi bao nhiêu nước mắt. cũng có những người cuộc sống có vẻ rất khó khăn nhưng thực tế người ta lại có thể sống tự nhiên tự tại. bạn căn bản không thể ép được người khác sống bằng cách thức như thế nào, hãy thu lại ánh mắt ngưỡng mộ người khác mà tự nhìn nhận lại bản thân, những ngày tháng mà bản thân yêu thích chính mình là những ngày tháng tươi đẹp nhất.\n",
            "mỗi người đều có một cách sống riêng và bạn không việc gì phải hâm mộ cuộc sống của người khác. có những người ngoài mặt thì cười nói vui vẻ nhưng trong lòng không biết đã âm thầm rơi bao nhiêu nước mắt. cũng có những người cuộc sống có vẻ rất khó khăn nhưng thực tế người ta lại có thể sống tự tại. bạn căn bản không thể ép được người khác sống bằng cách thức như thế nào, hãy thu lại ánh mắt ngưỡng mộ người khác mà tự nhìn nhận lại bản thân, những ngày tháng mà bản thân yêu nhưng thực tế người khác mà bản thân yêu thích chính mình là những ngày tháng tươi đẹp nhất.\n",
            "0.9203125628910127\n",
            "Input: 自 己 想 要 的 东 西 ， 要 么 奋 力 直 追 ， 要 么 干 脆 放 弃 。 别 总 是 逢 人 就 喋 喋 不 休 地 表 决 心 或 者 哀 怨 不 断 ， 做 别 人 茶 余 饭 后 的 笑 点 。\n",
            "Predicted translation: cho dù tất cả mọi người như thế giới thủ lắm. dù có cố gắng kiên trì nhận ra, như ý muốn đi qua mỗi ngày mai bạn sẽ chẳng bao giờ làm được người khác đến cuối cùng này. nhưng cho đến cuối cùng bạn sẽ luôn cố gắng tự do bất cứ khoảng dậy, nhưng hãy sống tốt đẹp của bạn sẽ luôn cố gắng tự trách lòng. nhưng hãy để luôn tự giác sống của mỗi ngày cố gắng tự giác sống của nó. nhưng trong năm sau. cho mình. hãy để bạn có một quãng thời gian sẽ luôn cố gắng biết rằng: cuộc đời của đến nơi nhưng thực hiện tại.\n",
            "phàm là những gì bản thân muốn có hoặc cố gắng nỗ lực mà đạt được hoặc dứt khoát từ bỏ. đừng mỗi khi gặp người khác lại thao thao bất tuyệt thể hiện sự quyết tâm hoặc than vãn không ngừng để rồi làm trò cười mua vui cho người khác lúc rảnh rỗi.\n",
            "cho dù tất cả mọi người như thế giới thủ lắm. dù có cố gắng kiên trì nhận ra, như ý muốn đi qua mỗi ngày mai bạn sẽ chẳng bao giờ làm được người khác đến cuối cùng này. nhưng cho đến cuối cùng bạn sẽ luôn cố gắng tự do bất cứ khoảng dậy, nhưng hãy sống tốt đẹp của bạn sẽ luôn cố gắng tự trách lòng. nhưng hãy để luôn tự giác sống của mỗi ngày cố gắng tự giác sống của nó. nhưng trong năm sau. cho mình. hãy để bạn có một quãng thời gian sẽ luôn cố gắng biết rằng: cuộc đời của đến nơi nhưng thực hiện tại.\n",
            "0.21404276396247654\n",
            "Input: 有 时 候 唯 有 痛 上 这 么 一 把 ， 紧 张 那 么 一 回 ， 才 能 促 使 我 们 战 胜 内 心 的 惰 性 ， 有 动 力 不 断 改 正 和 完 善 。\n",
            "Predicted translation: có những lúc phải thấy đau đớn, thấy căng thẳng mới có thể thúc giục bản thân chiến thắng bệnh lười từ trong máu, mới có động lực dữ dội để không ngừng sửa đổi và hoàn thiện bản thân.\n",
            "có những lúc phải thấy đau đớn, thấy căng thẳng mới có thể thúc giục bản thân chiến thắng bệnh lười từ trong máu, mới có động lực dữ dội để không ngừng sửa đổi và hoàn thiện bản thân.\n",
            "có những lúc phải thấy đau đớn, thấy căng thẳng mới có thể thúc giục bản thân chiến thắng bệnh lười từ trong máu, mới có động lực dữ dội để không ngừng sửa đổi và hoàn thiện bản thân.\n",
            "1.0\n",
            "Input: 时 间 真 好 ， 验 证 了 人 心 ， 见 证 了 人 性 ， 懂 得 了 真 的 ， 明 白 了 假 的 ， 没 有 解 不 开 的 难 题 ， 只 有 解 不 开 的 心 结 。 没 有 过 不 去 的 经 历 ， 只 有 走 不 出 的 自 己 。 一 开 始 你 总 是 担 心 会 失 去 谁 ， 可 你 却 忘 了 问 ， 又 有 谁 会 害 怕 失 去 你 ？ 人 生 ， 努 力 了 ， 珍 惜 了 ， 问 心 无 愧 ， 如 此 ， 甚 好 。\n",
            "Predicted translation: thời gian thật hay, có thể kiểm chứng được lòng người, nhìn thấu tính cách, hiểu được cái gì là thật và nhận ra cái gì là giả dối. không có những vấn đề không thể giải quyết chỉ có những nút thắt trong tim không thể gỡ bỏ. không có trải nghiệm nào không vượt qua mà chỉ có bản thân không tìm được lối thoát. khi bắt đầu bạn luôn lo lắng sẽ mất đi ai đó nhưng bạn đã quên mất việc tự hỏi liệu rằng có ai sợ bỏ lỡ mất bạn. đời người một khi đã từng cố gắng, đã từng cố gắng, đã từng cố gắng, đã từng cố gắng, đã từng cố gắng, đã từng cố gắng, đã từng cố gắng, đã từng cố gắng, đã từng cố gắng, đã từng cố gắng, đã từng cố gắng, đã từng cố gắng, bạn nhỉ.\n",
            "thời gian thật hay, có thể kiểm chứng được lòng người, nhìn thấu tính cách, hiểu được cái gì là thật và nhận ra cái gì là giả dối. không có những vấn đề không thể giải quyết chỉ có những nút thắt trong tim không thể gỡ bỏ. không có trải nghiệm nào không vượt qua mà chỉ có bản thân không tìm được lối thoát. khi bắt đầu bạn luôn lo lắng sẽ mất đi ai đó nhưng bạn đã quên mất việc tự hỏi liệu rằng có ai sợ bỏ lỡ mất bạn. đời người một khi đã từng cố gắng, đã từng trân trọng thì có gì phải hổ thẹn với lòng bạn nhỉ.\n",
            "thời gian thật hay, có thể kiểm chứng được lòng người, nhìn thấu tính cách, hiểu được cái gì là thật và nhận ra cái gì là giả dối. không có những vấn đề không thể giải quyết chỉ có những nút thắt trong tim không thể gỡ bỏ. không có trải nghiệm nào không vượt qua mà chỉ có bản thân không tìm được lối thoát. khi bắt đầu bạn luôn lo lắng sẽ mất đi ai đó nhưng bạn đã quên mất việc tự hỏi liệu rằng có ai sợ bỏ lỡ mất bạn. đời người một khi đã từng cố gắng, đã từng cố gắng, đã từng cố gắng, đã từng cố gắng, đã từng cố gắng, đã từng cố gắng, đã từng cố gắng, đã từng cố gắng, đã từng cố gắng, đã từng cố gắng, đã từng cố gắng, đã từng cố gắng, bạn nhỉ.\n",
            "0.7086567069610149\n",
            "Input: 人 生 是 一 场 孤 旅 。 你 就 是 你 ， 世 上 再 没 有 第 二 个 。 世 上 只 有 相 似 的 人 ， 没 有 完 全 相 同 的 人 。 不 要 祈 求 太 多 ， 更 不 要 依 赖 ， 因 为 即 使 是 你 的 影 子 ， 也 会 消 失 在 黑 暗 中 。 除 了 你 ， 没 人 能 走 完 你 想 走 的 路 。\n",
            "Predicted translation: đời người như một cuộc hành trình cô độc. bạn cũng là bạn và sẽ chẳng có một bạn thứ hai đến thế giới này. trên đời này chỉ có những người giống nhau một phần, không có những người hoàn toàn giống hệt nhau, đừng có đòi hỏi quá nhiều và càng không được dựa dẫm vào người khác, bởi vì ngay cả cái bóng của bạn cũng sẽ chẳng có ai có ai có thể đi cùng bạn đến tận cuối con đường. nhưng chỉ có ai có ai có ai có thể đi cùng bạn ra thì cô gái của bạn đến tận cuối con đường.\n",
            "đời người như một cuộc hành trình cô độc. bạn cũng là bạn và sẽ chẳng có một bạn thứ hai đến thế giới này. trên đời này chỉ có những người giống nhau một phần, không có những người hoàn toàn giống hệt nhau, đừng có đòi hỏi quá nhiều và càng không được dựa dẫm vào người khác, bởi vì ngay cả cái bóng của bạn cũng sẽ phải biến mất trong đêm tối, ngoài bạn ra sẽ chẳng có ai có thể đi cùng bạn đến tận cuối con đường.\n",
            "đời người như một cuộc hành trình cô độc. bạn cũng là bạn và sẽ chẳng có một bạn thứ hai đến thế giới này. trên đời này chỉ có những người giống nhau một phần, không có những người hoàn toàn giống hệt nhau, đừng có đòi hỏi quá nhiều và càng không được dựa dẫm vào người khác, bởi vì ngay cả cái bóng của bạn cũng sẽ chẳng có ai có ai có thể đi cùng bạn đến tận cuối con đường. nhưng chỉ có ai có ai có ai có thể đi cùng bạn ra thì cô gái của bạn đến tận cuối con đường.\n",
            "0.7577665456329327\n",
            "Input: 如 果 你 不 快 乐 ， 那 就 出 去 走 走 。 世 界 这 么 大 ， 风 景 很 美 ， 机 会 很 多 ， 当 阳 光 穿 过 树 林 ， 折 射 出 绚 烂 的 彩 虹 ， 你 会 惊 叹 生 活 的 美 好 。\n",
            "Predicted translation: nếu như bạn cảm thấy không vui thì hãy bước chân ra khỏi cửa nhà đi dạo cho thư thái. thế giới này rộng lớn lắm, phong cảnh ngoài kia đẹp biết bao nhiêu và cơ hội dành cho bạn còn rất nhiều. khi ánh mặt trời xuyên qua từng kẽ lá, khúc xạ thành ánh cầu vồng rực rỡ, tôi cả là bạn sẽ kinh ngạc thốt lên trước về đẹp của cuộc sống này.\n",
            "nếu như bạn cảm thấy không vui thì hãy bước chân ra khỏi cửa nhà đi dạo cho thư thái. thế giới này rộng lớn lắm, phong cảnh ngoài kia đẹp biết bao nhiêu và cơ hội dành cho bạn còn rất nhiều. khi ánh mặt trời xuyên qua từng kẽ lá, khúc xạ thành ánh cầu vồng rực rỡ, tôi cả là bạn sẽ kinh ngạc thốt lên trước về đẹp của cuộc sống này.\n",
            "nếu như bạn cảm thấy không vui thì hãy bước chân ra khỏi cửa nhà đi dạo cho thư thái. thế giới này rộng lớn lắm, phong cảnh ngoài kia đẹp biết bao nhiêu và cơ hội dành cho bạn còn rất nhiều. khi ánh mặt trời xuyên qua từng kẽ lá, khúc xạ thành ánh cầu vồng rực rỡ, tôi cả là bạn sẽ kinh ngạc thốt lên trước về đẹp của cuộc sống này.\n",
            "1.0\n",
            "Input: 当 你 想 不 出 任 何 理 由 继 续 的 时 候 ， 你 就 得 想 出 一 个 重 新 开 始 的 理 由 。\n",
            "Predicted translation: bạn muốn lãng phí thời gian thì chúng ta về nhà đi, đừng dùng hay không được đóng cảnh với khó tục cố gắng theo đuổi bạn. hãy để trước mình nào đã từng giây trước mình muốn, bạn phải luôn kiên trì cố gắng đi, bạn đã từng dị tại.\n",
            "khi mà bạn không có lý do nào để tiếp tục kiên trì thì bạn nhất định phải nghĩ ra một lý do để làm lại từ đầu.\n",
            "bạn muốn lãng phí thời gian thì chúng ta về nhà đi, đừng dùng hay không được đóng cảnh với khó tục cố gắng theo đuổi bạn. hãy để trước mình nào đã từng giây trước mình muốn, bạn phải luôn kiên trì cố gắng đi, bạn đã từng dị tại.\n",
            "0.2502447384232383\n",
            "Input: 不 要 浪 费 时 间 追 忆 失 去 的 东 西 ， 你 得 朝 前 看 ， 因 为 生 命 不 会 走 回 头 路 。\n",
            "Predicted translation: đừng lãng phí thời gian để mà nhớ nhung mãi về những gì đã mất đi, bạn phải luôn nhìn về phía trước bởi đừng ngừng cố gắng đi, những gì đã từng thông nên đi ngược để bạn đã từng thông về phía trước bởi vì cuộc sống không phải đi ngược lại con đường cũ.\n",
            "đừng lãng phí thời gian để mà nhớ nhung mãi về những gì đã mất đi, bạn phải luôn nhìn về phía trước bởi vì cuộc sống không phải đi ngược lại con đường cũ.\n",
            "đừng lãng phí thời gian để mà nhớ nhung mãi về những gì đã mất đi, bạn phải luôn nhìn về phía trước bởi đừng ngừng cố gắng đi, những gì đã từng thông nên đi ngược để bạn đã từng thông về phía trước bởi vì cuộc sống không phải đi ngược lại con đường cũ.\n",
            "0.6033896923618269\n",
            "Input: 本 事 不 大 ， 脾 气 就 不 要 太 大 ， 否 则 你 会 很 麻 烦 ； 能 力 不 大 ， 欲 望 就 不 要 太 大 ， 否 则 你 会 很 痛 苦 。\n",
            "Predicted translation: bản lĩnh không đủ lớn thì tính khí cũng không được quá nóng nảy, nếu không bạn sẽ trở nên rất phiền phức; năng lực không có thì ham muốn không được quá lớn, nếu không thì bạn sẽ cảm thấy rất đau khổ.\n",
            "bản lĩnh không đủ lớn thì tính khí cũng không được quá nóng nảy, nếu không bạn sẽ trở nên rất phiền phức; năng lực không có thì ham muốn không được quá lớn, nếu không thì bạn sẽ cảm thấy rất đau khổ.\n",
            "bản lĩnh không đủ lớn thì tính khí cũng không được quá nóng nảy, nếu không bạn sẽ trở nên rất phiền phức; năng lực không có thì ham muốn không được quá lớn, nếu không thì bạn sẽ cảm thấy rất đau khổ.\n",
            "1.0\n",
            "Input: 趁 着 年 轻 ， 你 需 要 多 笑 一 些 苦 ， 然 后 才 会 真 正 谦 恭 。 不 然 ， 你 那 自 以 为 是 的 聪 明 和 藐 视 一 切 的 优 越 感 迟 早 要 毁 了 你 。\n",
            "Predicted translation: hãy tranh thủ lúc còn trẻ đi trải nghiệm, trải qua những thử thách mới biết cách khiêm tốn, nếu không bạn cứ ảo tưởng bản thân thông minh mà coi thường mọi thứ, cứ ảo tưởng đi rồi sự ảo tưởng đó sớm muộn cũng sẽ hủy hoại bạn.\n",
            "hãy tranh thủ lúc còn trẻ đi trải nghiệm, trải qua những thử thách mới biết cách khiêm tốn, nếu không bạn cứ ảo tưởng bản thân thông minh mà coi thường mọi thứ, cứ ảo tưởng đi rồi sự ảo tưởng đó sớm muộn cũng sẽ hủy hoại bạn.\n",
            "hãy tranh thủ lúc còn trẻ đi trải nghiệm, trải qua những thử thách mới biết cách khiêm tốn, nếu không bạn cứ ảo tưởng bản thân thông minh mà coi thường mọi thứ, cứ ảo tưởng đi rồi sự ảo tưởng đó sớm muộn cũng sẽ hủy hoại bạn.\n",
            "1.0\n",
            "Input: 命 运 如 一 壶 翻 滚 的 沸 水 ， 我 们 是 一 撮 生 命 的 清 茶 。 没 有 水 的 浸 泡 ， 茶 只 能 蜷 伏 一 隅 ； 没 有 命 运 的 冲 刷 ， 人 生 只 会 索 然 寡 味 。 茶 在 沉 浮 之 中 散 发 出 馥 郁 的 清 香 ， 生 命 在 挫 折 之 中 绽 放 出 礼 赞 的 光 芒 。\n",
            "Predicted translation: số phận tựa như một ấm nước đang sôi cuồn cuộn mà chúng ta là một cốc nước trà xanh. không có nước sôi để pha trà xanh mãi chỉ nằm trong một góc. khi ngâm mình trong nước nóng thì trà xanh mới tỏa ra hương thơm nồng nàn quyến rũ, chính vì những lúc khó khăn thử thách cuộc sống mới tỏa ra ánh hào quang đáng ngưỡng mộ.\n",
            "số phận tựa như một ấm nước đang sôi cuồn cuộn mà chúng ta là một cốc nước trà xanh. không có nước sôi để pha trà thì cốc trà xanh mãi chỉ nằm trong một góc. khi ngâm mình trong nước nóng thì trà xanh mới tỏa ra hương thơm nồng nàn quyến rũ, chính vì những lúc khó khăn thử thách cuộc sống mới tỏa ra ánh hào quang đáng ngưỡng mộ.\n",
            "số phận tựa như một ấm nước đang sôi cuồn cuộn mà chúng ta là một cốc nước trà xanh. không có nước sôi để pha trà xanh mãi chỉ nằm trong một góc. khi ngâm mình trong nước nóng thì trà xanh mới tỏa ra hương thơm nồng nàn quyến rũ, chính vì những lúc khó khăn thử thách cuộc sống mới tỏa ra ánh hào quang đáng ngưỡng mộ.\n",
            "0.9480325311379979\n",
            "Input: 真 正 长 得 漂 亮 的 人 很 少 发 自 拍 ， 真 正 有 钱 的 人 基 本 不 怎 么 炫 富 ， 真 正 恩 爱 的 情 侣 用 不 着 怎 样 秀 恩 爱 发 截 图 ， 真 正 玩 得 愉 快 的 时 候 是 没 有 多 少 时 间 传 照 片 的 ， 真 正 过 得 精 彩 的 人 并 不 需 要 刻 意 地 向 别 人 去 炫 耀 自 己 的 生 活 。\n",
            "Predicted translation: một người con gái thật sự xinh đẹp sẽ rất hiếm chụp ảnh tự sướng; một người thật sự giàu có sẽ chẳng bao giờ tự mình huênh hoang về bản thân; một đôi tình nhân thật sự yêu nhau chẳng việc gì giả vờ âu yếm trước mặt người khác; khi bạn đang cùng bạn bè chơi đùa vui vẻ thì làm gì có thời gian để mà chụp ảnh khoe khoang; một người sống thực sự ý nghĩa không cần thiết phải cố ý chứng tỏ bản thân trước mặt người khác.\n",
            "một người con gái thật sự xinh đẹp sẽ rất hiếm chụp ảnh tự sướng; một người thật sự giàu có sẽ chẳng bao giờ tự mình huênh hoang về bản thân; một đôi tình nhân thật sự yêu nhau chẳng việc gì giả vờ âu yếm trước mặt người khác; khi bạn đang cùng bạn bè chơi đùa vui vẻ thì làm gì có thời gian để mà chụp ảnh khoe khoang; một người sống thực sự ý nghĩa không cần thiết phải cố ý chứng tỏ bản thân trước mặt người khác.\n",
            "một người con gái thật sự xinh đẹp sẽ rất hiếm chụp ảnh tự sướng; một người thật sự giàu có sẽ chẳng bao giờ tự mình huênh hoang về bản thân; một đôi tình nhân thật sự yêu nhau chẳng việc gì giả vờ âu yếm trước mặt người khác; khi bạn đang cùng bạn bè chơi đùa vui vẻ thì làm gì có thời gian để mà chụp ảnh khoe khoang; một người sống thực sự ý nghĩa không cần thiết phải cố ý chứng tỏ bản thân trước mặt người khác.\n",
            "1.0\n",
            "Input: 本 事 不 大 ， 脾 气 就 不 要 太 大 ， 否 则 你 会 很 麻 烦 ； 能 力 不 大 ， 欲 望 就 不 要 太 大 ， 否 则 你 会 很 痛 苦 。\n",
            "Predicted translation: bản lĩnh không đủ lớn thì tính khí cũng không được quá nóng nảy, nếu không bạn sẽ trở nên rất phiền phức; năng lực không có thì ham muốn không được quá lớn, nếu không thì bạn sẽ cảm thấy rất đau khổ.\n",
            "bản lĩnh không đủ lớn thì tính khí cũng không được quá nóng nảy, nếu không bạn sẽ trở nên rất phiền phức; năng lực không có thì ham muốn không được quá lớn, nếu không thì bạn sẽ cảm thấy rất đau khổ.\n",
            "bản lĩnh không đủ lớn thì tính khí cũng không được quá nóng nảy, nếu không bạn sẽ trở nên rất phiền phức; năng lực không có thì ham muốn không được quá lớn, nếu không thì bạn sẽ cảm thấy rất đau khổ.\n",
            "1.0\n",
            "Input: 你 好 ！\n",
            "Predicted translation: chào bạn!\n",
            "chào bạn!\n",
            "chào bạn!\n",
            "1.0\n",
            "Input: 你 好 吗 ？\n",
            "Predicted translation: bạn khỏe không?\n",
            "bạn khỏe không?\n",
            "bạn khỏe không?\n",
            "1.0\n",
            "Input: 你 爸 爸 妈 妈 身 体 好 吗 ？\n",
            "Predicted translation: sức khỏe bố mẹ bạn tốt không?\n",
            "sức khỏe bố mẹ bạn tốt không?\n",
            "sức khỏe bố mẹ bạn tốt không?\n",
            "1.0\n",
            "Input: 我 爸 爸 妈 妈 身 体 都 很 好 。\n",
            "Predicted translation: sức khỏe bố mẹ tôi đều rất tốt.\n",
            "sức khỏe bố mẹ tôi đều rất tốt.\n",
            "sức khỏe bố mẹ tôi đều rất tốt.\n",
            "1.0\n",
            "Input: 今 天 你 的 工 作 忙 吗 ？\n",
            "Predicted translation: hôm nay công việc của bạn bận không?\n",
            "hôm nay công việc của bạn bận không?\n",
            "hôm nay công việc của bạn bận không?\n",
            "1.0\n",
            "Input: 今 天 我 的 工 作 不 太 忙 。\n",
            "Predicted translation: hôm nay công việc của tôi không bận lắm.\n",
            "hôm nay công việc của tôi không bận lắm.\n",
            "hôm nay công việc của tôi không bận lắm.\n",
            "1.0\n",
            "Input: 明 天 你 哥 哥 忙 吗 ？\n",
            "Predicted translation: ngày mai anh trai bạn bận không?\n",
            "ngày mai anh trai bạn bận không?\n",
            "ngày mai anh trai bạn bận không?\n",
            "1.0\n",
            "Input: 明 天 我 哥 哥 很 忙 。\n",
            "Predicted translation: ngày mai tôi rất bận\n",
            "ngày mai anh trai tôi rất bận.\n",
            "ngày mai tôi rất bận\n",
            "0.5330859115179258\n",
            "Input: 昨 天 你 的 姐 姐 去 哪 儿 ？\n",
            "Predicted translation: hôm qua chị gái bạn đi đâu?\n",
            "hôm qua chị gái bạn đi đâu?\n",
            "hôm qua chị gái bạn đi đâu?\n",
            "1.0\n",
            "Input: 昨 天 我 的 姐 姐 去 老 师 家 。\n",
            "Predicted translation: hôm qua chị gái tôi đến nhà cô giáo.\n",
            "hôm qua chị gái tôi đến nhà cô giáo.\n",
            "hôm qua chị gái tôi đến nhà cô giáo.\n",
            "1.0\n",
            "Input: 你 的 姐 姐 去 老 师 家 做 什 么 ？\n",
            "Predicted translation: chị gái bạn đến nhà cô giáo làm gì?\n",
            "chị gái bạn đến nhà cô giáo làm gì?\n",
            "chị gái bạn đến nhà cô giáo làm gì?\n",
            "1.0\n",
            "Input: 我 的 姐 姐 去 老 师 家 学 习 汉 语 。\n",
            "Predicted translation: chị gái tôi đến nhà cô giáo học tiếng trung.\n",
            "chị gái tôi đến nhà cô giáo học tiếng trung.\n",
            "chị gái tôi đến nhà cô giáo học tiếng trung.\n",
            "1.0\n",
            "Input: 你 老 师 的 家 在 哪 儿 ？\n",
            "Predicted translation: nhà cô giáo bạn ở đâu?\n",
            "nhà cô giáo bạn ở đâu?\n",
            "nhà cô giáo bạn ở đâu?\n",
            "1.0\n",
            "Input: 我 老 师 的 家 在 学 校 。\n",
            "Predicted translation: nhà cô giáo tôi ở trường học.\n",
            "nhà cô giáo tôi ở trường học.\n",
            "nhà cô giáo tôi ở trường học.\n",
            "1.0\n",
            "Input: 你 的 学 校 在 哪 儿 ？\n",
            "Predicted translation: trường học của bạn ở đâu.\n",
            "trường học của bạn ở đâu.\n",
            "trường học của bạn ở đâu.\n",
            "1.0\n",
            "Input: 我 的 学 校 在 河 内 。\n",
            "Predicted translation: trường học của tôi ở hà nội.\n",
            "trường học của tôi ở hà nội.\n",
            "trường học của tôi ở hà nội.\n",
            "1.0\n",
            "Input: 今 天 星 期 几 ？\n",
            "Predicted translation: hôm nay thứ mấy?\n",
            "hôm nay thứ mấy?\n",
            "hôm nay thứ mấy?\n",
            "1.0\n",
            "Input: 今 天 星 期 一 。\n",
            "Predicted translation: hôm nay thứ hai.\n",
            "hôm nay thứ hai.\n",
            "hôm nay thứ hai.\n",
            "1.0\n",
            "Input: 明 天 星 期 几 ？\n",
            "Predicted translation: ngày mai thứ mấy?\n",
            "ngày mai thứ mấy?\n",
            "ngày mai thứ mấy?\n",
            "1.0\n",
            "Input: 明 天 星 期 二 。\n",
            "Predicted translation: ngày mai thứ ba.\n",
            "ngày mai thứ ba.\n",
            "ngày mai thứ ba.\n",
            "1.0\n",
            "Input: 昨 天 星 期 几 ？\n",
            "Predicted translation: hôm qua thứ mấy?\n",
            "hôm qua thứ mấy?\n",
            "hôm qua thứ mấy?\n",
            "1.0\n",
            "Input: 昨 天 星 期 天 。\n",
            "Predicted translation: hôm qua chủ nhật.\n",
            "hôm qua chủ nhật.\n",
            "hôm qua chủ nhật.\n",
            "1.0\n",
            "Input: 星 期 天 你 做 什 么 ？\n",
            "Predicted translation: chủ nhật bạn làm gì?\n",
            "chủ nhật bạn làm gì?\n",
            "chủ nhật bạn làm gì?\n",
            "1.0\n",
            "Input: 星 期 天 我 在 家 看 电 视 。\n",
            "Predicted translation: chủ nhật tôi ở nhà xem tivi.\n",
            "chủ nhật tôi ở nhà xem tivi.\n",
            "chủ nhật tôi ở nhà xem tivi.\n",
            "1.0\n",
            "Input: 星 期 天 我 也 在 家 看 电 视 。\n",
            "Predicted translation: chủ nhật tôi cũng ở nhà xem tivi.\n",
            "chủ nhật tôi cũng ở nhà xem tivi.\n",
            "chủ nhật tôi cũng ở nhà xem tivi.\n",
            "1.0\n",
            "Input: 星 期 天 我 们 都 在 家 看 电 视 。\n",
            "Predicted translation: chủ nhật chúng tôi đều ở nhà xem tivi.\n",
            "chủ nhật chúng tôi đều ở nhà xem tivi.\n",
            "chủ nhật chúng tôi đều ở nhà xem tivi.\n",
            "1.0\n",
            "Input: 明 天 我 去 邮 局 寄 信 ， 你 去 吗 ？\n",
            "Predicted translation: ngày mai tôi đến bưu điện gửi thư, bạn đi không?\n",
            "ngày mai tôi đến bưu điện gửi thư, bạn đi không?\n",
            "ngày mai tôi đến bưu điện gửi thư, bạn đi không?\n",
            "1.0\n",
            "Input: 明 天 我 不 去 邮 局 寄 信 。\n",
            "Predicted translation: ngày mai tôi không đến bưu điện gửi thư.\n",
            "ngày mai tôi không đến bưu điện gửi thư.\n",
            "ngày mai tôi không đến bưu điện gửi thư.\n",
            "1.0\n",
            "Input: 明 天 我 去 银 行 取 钱 。\n",
            "Predicted translation: ngày mai tôi đến ngân hàng rút tiền.\n",
            "ngày mai tôi đến ngân hàng rút tiền.\n",
            "ngày mai tôi đến ngân hàng rút tiền.\n",
            "1.0\n",
            "Input: 明 天 我 不 去 银 行 取 钱 。\n",
            "Predicted translation: ngày mai tôi không đến ngân hàng rút tiền.\n",
            "ngày mai tôi không đến ngân hàng rút tiền.\n",
            "ngày mai tôi không đến ngân hàng rút tiền.\n",
            "1.0\n",
            "Input: 明 天 我 去 北 京 ， 你 去 吗 ？\n",
            "Predicted translation: ngày mai tôi đi bắc kinh, bạn đi không?\n",
            "ngày mai tôi đi bắc kinh, bạn đi không?\n",
            "ngày mai tôi đi bắc kinh, bạn đi không?\n",
            "1.0\n",
            "Input: 明 天 我 不 去 北 京 ， 我 去 天 安 门 。\n",
            "Predicted translation: ngày mai tôi không đi bắc kinh, tôi đi thiên an môn.\n",
            "ngày mai tôi không đi bắc kinh, tôi đi thiên an môn.\n",
            "ngày mai tôi không đi bắc kinh, tôi đi thiên an môn.\n",
            "1.0\n",
            "Input: 天 安 门 在 哪 儿 ？\n",
            "Predicted translation: thiên an môn ở đâu?\n",
            "thiên an môn ở đâu?\n",
            "thiên an môn ở đâu?\n",
            "1.0\n",
            "Input: 天 安 门 在 中 国 。\n",
            "Predicted translation: thiên an môn ở trung quốc.\n",
            "thiên an môn ở trung quốc.\n",
            "thiên an môn ở trung quốc.\n",
            "1.0\n",
            "Input: 你 知 道 中 国 在 哪 儿 吗 ？\n",
            "Predicted translation: bạn biết trung quốc ở đâu không?\n",
            "bạn biết trung quốc ở đâu không?\n",
            "bạn biết trung quốc ở đâu không?\n",
            "1.0\n",
            "Input: 我 不 知 道 中 国 在 哪 儿 。\n",
            "Predicted translation: tôi không biết trung quốc ở đâu.\n",
            "tôi không biết trung quốc ở đâu.\n",
            "tôi không biết trung quốc ở đâu.\n",
            "1.0\n",
            "Input: 星 期 六 我 在 家 学 习 。\n",
            "Predicted translation: thứ bẩy tôi ở nhà học bài.\n",
            "thứ bẩy tôi ở nhà học bài.\n",
            "thứ bẩy tôi ở nhà học bài.\n",
            "1.0\n",
            "Input: 星 期 六 我 要 去 学 校 学 习 英 语 。\n",
            "Predicted translation: thứ bẩy tôi muốn đến trường học học tiếng anh.\n",
            "thứ bẩy tôi muốn đến trường học học tiếng anh.\n",
            "thứ bẩy tôi muốn đến trường học học tiếng anh.\n",
            "1.0\n",
            "Input: 你 认 识 那 个 人 吗 ？ 他 是 谁 ？\n",
            "Predicted translation: bạn quen biết người kia không? ông ta là ai?\n",
            "bạn quen biết người kia không? ông ta là ai?\n",
            "bạn quen biết người kia không? ông ta là ai?\n",
            "1.0\n",
            "Input: 我 不 知 道 他 是 谁 。\n",
            "Predicted translation: tôi không biết ông ta là ai.\n",
            "tôi không biết ông ta là ai.\n",
            "tôi không biết ông ta là ai.\n",
            "1.0\n",
            "Input: 他 是 我 爸 爸 的 朋 友 ， 他 是 大 夫 。\n",
            "Predicted translation: ông ta là bạn của bố tôi, ông ta là bác sỹ.\n",
            "ông ta là bạn của bố tôi, ông ta là bác sỹ.\n",
            "ông ta là bạn của bố tôi, ông ta là bác sỹ.\n",
            "1.0\n",
            "Input: 他 是 大 夫 吗 ？\n",
            "Predicted translation: ông ta là bác sỹ à?\n",
            "ông ta là bác sỹ à?\n",
            "ông ta là bác sỹ à?\n",
            "1.0\n",
            "Input: 对 ， 他 是 我 的 大 夫 。\n",
            "Predicted translation: phải, ông ta là bác sỹ của tôi.\n",
            "phải, ông ta là bác sỹ của tôi.\n",
            "phải, ông ta là bác sỹ của tôi.\n",
            "1.0\n",
            "Input: 你 的 妹 妹 做 什 么 工 作 ？\n",
            "Predicted translation: em gái bạn làm nghề gì?\n",
            "em gái bạn làm nghề gì?\n",
            "em gái bạn làm nghề gì?\n",
            "1.0\n",
            "Input: 我 的 妹 妹 是 学 生 。\n",
            "Predicted translation: em gái tôi là học sinh.\n",
            "em gái tôi là học sinh.\n",
            "em gái tôi là học sinh.\n",
            "1.0\n",
            "Input: 你 的 妹 妹 是 越 南 留 学 生 吗 ？\n",
            "Predicted translation: em gái bạn là lưu học sinh việt nam phải không?\n",
            "em gái bạn là lưu học sinh việt nam phải\n",
            "em gái bạn là lưu học sinh việt nam phải không?\n",
            "0.8931539818068694\n",
            "Input: 对 ， 我 的 妹 妹 是 越 南 留 学 生 。\n",
            "Predicted translation: đúng, em gái tôi là lưu học sinh việt nam.\n",
            "đúng, em gái tôi là lưu học sinh việt nam.\n",
            "đúng, em gái tôi là lưu học sinh việt nam.\n",
            "1.0\n",
            "Input: 你 的 妹 妹 也 是 越 南 留 学 生 吗 ？\n",
            "Predicted translation: em gái của bạn cũng là lưu học sinh việt nam phải không?\n",
            "em gái của bạn cũng là lưu học sinh việt nam phải không?\n",
            "em gái của bạn cũng là lưu học sinh việt nam phải không?\n",
            "1.0\n",
            "Input: 是 ， 他 们 都 是 越 南 留 学 生 。\n",
            "Predicted translation: phải, bọn họ đều là lưu học sinh việt nam.\n",
            "phải, bọn họ đều là lưu học sinh việt nam.\n",
            "phải, bọn họ đều là lưu học sinh việt nam.\n",
            "1.0\n",
            "Input: 我 叫 阿 武 。\n",
            "Predicted translation: tôi tên là vũ.\n",
            "tôi tên là vũ.\n",
            "tôi tên là vũ.\n",
            "1.0\n",
            "Input: 我 今 年 二 十 岁 。\n",
            "Predicted translation: năm nay tôi 20 tuổi.\n",
            "năm nay tôi 20 tuổi.\n",
            "năm nay tôi 20 tuổi.\n",
            "1.0\n",
            "Input: 我 是 汉 语 老 师 。\n",
            "Predicted translation: tôi là giáo viên tiếng trung.\n",
            "tôi là giáo viên tiếng trung.\n",
            "tôi là giáo viên tiếng trung.\n",
            "1.0\n",
            "Input: 我 的 办 公 室 在 学 校 。\n",
            "Predicted translation: văn phòng của tôi ở trường học.\n",
            "văn phòng của tôi ở trường học.\n",
            "văn phòng của tôi ở trường học.\n",
            "1.0\n",
            "Input: 我 住 在 这 个 楼 。\n",
            "Predicted translation: tôi sống ở tòa nhà này .\n",
            "tôi sống ở tòa nhà này .\n",
            "tôi sống ở tòa nhà này .\n",
            "1.0\n",
            "Input: 我 的 房 间 号 是 八 零 八 。\n",
            "Predicted translation: số phòng của tôi là 808.\n",
            "số phòng của tôi là 808.\n",
            "số phòng của tôi là 808.\n",
            "1.0\n",
            "Input: 我 的 哥 哥 是 大 夫 。\n",
            "Predicted translation: anh trai tôi là bác sỹ.\n",
            "anh trai tôi là bác sỹ.\n",
            "anh trai tôi là bác sỹ.\n",
            "1.0\n",
            "Input: 我 的 妹 妹 是 大 学 生 。\n",
            "Predicted translation: em gái tôi là sinh viên.\n",
            "em gái tôi là sinh viên.\n",
            "em gái tôi là sinh viên.\n",
            "1.0\n",
            "Input: 我 的 弟 弟 是 留 学 生 。\n",
            "Predicted translation: em trai tôi là lưu học sinh.\n",
            "em trai tôi là lưu học sinh.\n",
            "em trai tôi là lưu học sinh.\n",
            "1.0\n",
            "Input: 我 认 识 你 的 女 老 师 。\n",
            "Predicted translation: tôi quen biết cô giáo của bạn.\n",
            "tôi quen biết cô giáo của bạn.\n",
            "tôi quen biết cô giáo của bạn.\n",
            "1.0\n",
            "Input: 你 的 老 师 是 英 语 老 师 。\n",
            "Predicted translation: cô giáo của bạn là giáo viên tiếng anh.\n",
            "cô giáo của bạn là giáo viên tiếng anh.\n",
            "cô giáo của bạn là giáo viên tiếng anh.\n",
            "1.0\n",
            "Input: 今 天 我 的 工 作 很 忙 。\n",
            "Predicted translation: hôm nay công việc của tôi rất mệt.\n",
            "hôm nay công việc của tôi rất mệt.\n",
            "hôm nay công việc của tôi rất mệt.\n",
            "1.0\n",
            "Input: 我 要 回 家 休 息 。\n",
            "Predicted translation: tôi muốn về nhà nghỉ ngơi.\n",
            "tôi muốn về nhà nghỉ ngơi.\n",
            "tôi muốn về nhà nghỉ ngơi.\n",
            "1.0\n",
            "Input: 我 妹 妹 的 工 作 也 很 忙 。\n",
            "Predicted translation: em gái tôi không làm việc ở lớp tôi.\n",
            "công việc của em gái tôi cũng rất bận.\n",
            "em gái tôi không làm việc ở lớp tôi.\n",
            "0.3549481056010053\n",
            "Input: 我 的 弟 弟 也 要 去 银 行 换 钱 。\n",
            "Predicted translation: em trai tôi cũng muốn đến ngân hàng rút tiền.\n",
            "em trai tôi cũng muốn đến ngân hàng rút tiền.\n",
            "em trai tôi cũng muốn đến ngân hàng rút tiền.\n",
            "1.0\n",
            "Input: 明 天 上 午 我 们 都 去 银 行 换 钱 。\n",
            "Predicted translation: sáng ngày mai chúng tôi đều đến ngân hàng đổi tiền.\n",
            "sáng ngày mai chúng tôi đều đến ngân hàng đổi tiền.\n",
            "sáng ngày mai chúng tôi đều đến ngân hàng đổi tiền.\n",
            "1.0\n",
            "Input: 我 们 要 换 八 千 人 民 币 。\n",
            "Predicted translation: chúng tôi muốn đổi 8000 nhân dân tệ.\n",
            "chúng tôi muốn đổi 8000 nhân dân tệ.\n",
            "chúng tôi muốn đổi 8000 nhân dân tệ.\n",
            "1.0\n",
            "Input: 我 的 朋 友 要 换 三 千 美 元 。\n",
            "Predicted translation: bạn của tôi muốn đổi 3000 đô mỹ.\n",
            "bạn của tôi muốn đổi 3000 đô mỹ.\n",
            "bạn của tôi muốn đổi 3000 đô mỹ.\n",
            "1.0\n",
            "Input: 今 天 下 午 我 们 还 去 邮 局 寄 信 。\n",
            "Predicted translation: chiều hôm nay chúng tôi còn đến bưu điện gửi thư .\n",
            "chiều hôm nay chúng tôi còn đến bưu điện gửi thư .\n",
            "chiều hôm nay chúng tôi còn đến bưu điện gửi thư .\n",
            "1.0\n",
            "Input: 我 给 我 的 妈 妈 寄 信 。 他 们 都 很 好 。\n",
            "Predicted translation: mẹ tôi đều rất tốt, muốn ôm thông khỏe.\n",
            "tôi gửi thư cho mẹ của tôi. họ đều rất khỏe.\n",
            "mẹ tôi đều rất tốt, muốn ôm thông khỏe.\n",
            "0.41105458056789007\n",
            "Input: 星 期 日 我 们 去 商 店 买 水 果 。\n",
            "Predicted translation: chủ nhật chúng tôi đến cửa hàng mua hoa quả.\n",
            "chủ nhật chúng tôi đến cửa hàng mua hoa quả.\n",
            "chủ nhật chúng tôi đến cửa hàng mua hoa quả.\n",
            "1.0\n",
            "Input: 我 的 妈 妈 要 买 两 斤 苹 果 。\n",
            "Predicted translation: mẹ tôi muốn mua hai cân táo.\n",
            "mẹ tôi muốn mua hai cân táo.\n",
            "mẹ tôi muốn mua hai cân táo.\n",
            "1.0\n",
            "Input: 苹 果 一 斤 多 少 钱 ？\n",
            "Predicted translation: táo một cân bao nhiêu tiền?\n",
            "táo một cân bao nhiêu tiền?\n",
            "táo một cân bao nhiêu tiền?\n",
            "1.0\n",
            "Input: 苹 果 一 斤 八 块 钱 。\n",
            "Predicted translation: táo một cân là 8 tệ.\n",
            "táo một cân là 8 tệ.\n",
            "táo một cân là 8 tệ.\n",
            "1.0\n",
            "Input: 你 要 买 几 斤 苹 果 ？\n",
            "Predicted translation: bạn muốn mua mấy cân táo?\n",
            "bạn muốn mua mấy cân táo?\n",
            "bạn muốn mua mấy cân táo?\n",
            "1.0\n",
            "Input: 我 要 买 四 斤 苹 果 。 四 斤 苹 果 是 六 十 块 钱 。\n",
            "Predicted translation: tôi muốn mua 4 cân táo.\n",
            "tôi muốn mua 4 cân táo. 4 cân táo là 60 tệ.\n",
            "tôi muốn mua 4 cân táo.\n",
            "0.36787944117144233\n",
            "Input: 你 还 要 买 别 的 吗 ？\n",
            "Predicted translation: bạn còn muốn mua cái khác không?\n",
            "bạn còn muốn mua cái khác không?\n",
            "bạn còn muốn mua cái khác không?\n",
            "1.0\n",
            "Input: 我 还 要 买 橘 子 。 橘 子 一 斤 多 少 钱 ？\n",
            "Predicted translation: tôi còn muốn mua quýt. quýt 1 cân bao nhiêu tiền?\n",
            "tôi còn muốn mua quýt. quýt 1 cân bao nhiêu tiền?\n",
            "tôi còn muốn mua quýt. quýt 1 cân bao nhiêu tiền?\n",
            "1.0\n",
            "Input: 橘 子 一 斤 是 九 块 钱 。\n",
            "Predicted translation: một cân quýt là 9 tệ.\n",
            "một cân quýt là 9 tệ.\n",
            "một cân quýt là 9 tệ.\n",
            "1.0\n",
            "Input: 你 要 买 几 斤 橘 子 ？\n",
            "Predicted translation: bạn muốn mua mấy cân quýt?\n",
            "bạn muốn mua mấy cân quýt?\n",
            "bạn muốn mua mấy cân quýt?\n",
            "1.0\n",
            "Input: 我 要 买 五 斤 橘 子 。\n",
            "Predicted translation: tôi muốn mua 5 cân quýt.\n",
            "tôi muốn mua 5 cân quýt.\n",
            "tôi muốn mua 5 cân quýt.\n",
            "1.0\n",
            "Input: 五 斤 橘 子 是 八 十 块 钱 。\n",
            "Predicted translation: 5 cân quýt là 80 tệ.\n",
            "5 cân quýt là 80 tệ.\n",
            "5 cân quýt là 80 tệ.\n",
            "1.0\n",
            "Input: 一 共 多 少 钱 ？\n",
            "Predicted translation: tổng cộng hết bao nhiêu tiền?\n",
            "tổng cộng hết bao nhiêu tiền?\n",
            "tổng cộng hết bao nhiêu tiền?\n",
            "1.0\n",
            "Input: 一 共 八 百 九 十 块 钱 。\n",
            "Predicted translation: tổng cộng hết 890 tệ.\n",
            "tổng cộng hết 890 tệ.\n",
            "tổng cộng hết 890 tệ.\n",
            "1.0\n",
            "Input: 你 给 我 一 千 块 钱 吧 。\n",
            "Predicted translation: bạn đưa cho tôi 1000 tệ đi.\n",
            "bạn đưa cho tôi 1000 tệ đi.\n",
            "bạn đưa cho tôi 1000 tệ đi.\n",
            "1.0\n",
            "Input: 我 没 有 一 千 块 钱 。\n",
            "Predicted translation: tôi không có 1000 tệ.\n",
            "tôi không có 1000 tệ.\n",
            "tôi không có 1000 tệ.\n",
            "1.0\n",
            "Input: 那 你 给 我 三 千 块 钱 也 可 以 。\n",
            "Predicted translation: vậy bạn đưa cho tôi 3000 tệ cũng được.\n",
            "vậy bạn đưa cho tôi 3000 tệ cũng được.\n",
            "vậy bạn đưa cho tôi 3000 tệ cũng được.\n",
            "1.0\n",
            "Input: 这 是 你 的 三 千 人 民 币 。\n",
            "Predicted translation: đây là 3000 nhân dân tệ.\n",
            "đây là 3000 nhân dân tệ.\n",
            "đây là 3000 nhân dân tệ.\n",
            "1.0\n",
            "Input: 我 找 你 五 块 钱 。\n",
            "Predicted translation: tôi trả lại bạn 5 tệ tiền thừa.\n",
            "tôi trả lại bạn 5 tệ tiền thừa.\n",
            "tôi trả lại bạn 5 tệ tiền thừa.\n",
            "1.0\n",
            "Input: 这 是 什 么 ？\n",
            "Predicted translation: đây là cái gì?\n",
            "đây là cái gì?\n",
            "đây là cái gì?\n",
            "1.0\n",
            "Input: 这 是 书 。\n",
            "Predicted translation: đây là sách.\n",
            "đây là sách.\n",
            "đây là sách.\n",
            "1.0\n",
            "Input: 这 是 什 么 书 ？\n",
            "Predicted translation: đây là sách gì?\n",
            "đây là sách gì?\n",
            "đây là sách gì?\n",
            "1.0\n",
            "Input: 这 是 汉 语 书 。\n",
            "Predicted translation: đây là sách tiếng trung.\n",
            "đây là sách tiếng trung.\n",
            "đây là sách tiếng trung.\n",
            "1.0\n",
            "Input: 这 是 谁 的 汉 语 书 ？\n",
            "Predicted translation: đây là sách tiếng trung của ai?\n",
            "đây là sách tiếng trung của ai?\n",
            "đây là sách tiếng trung của ai?\n",
            "1.0\n",
            "Input: 这 是 我 的 汉 语 书 。\n",
            "Predicted translation: đây là sách tiếng trung của tôi.\n",
            "đây là sách tiếng trung của tôi.\n",
            "đây là sách tiếng trung của tôi.\n",
            "1.0\n",
            "Input: 这 是 我 的 老 师 的 汉 语 书 。\n",
            "Predicted translation: đây là sách tiếng trung của cô giáo của tôi.\n",
            "đây là sách tiếng trung của cô giáo của tôi.\n",
            "đây là sách tiếng trung của cô giáo của tôi.\n",
            "1.0\n",
            "Input: 那 是 什 么 ？\n",
            "Predicted translation: kia là cái gì?\n",
            "kia là cái gì?\n",
            "kia là cái gì?\n",
            "1.0\n",
            "Input: 那 是 杂 志 。\n",
            "Predicted translation: kia là tạp chí tiếng anh?\n",
            "kia là tạp chí.\n",
            "kia là tạp chí tiếng anh?\n",
            "0.4728708045015879\n",
            "Input: 那 是 什 么 杂 志 ？\n",
            "Predicted translation: kia là tạp chí gì?\n",
            "kia là tạp chí gì?\n",
            "kia là tạp chí gì?\n",
            "1.0\n",
            "Input: 那 是 英 文 杂 志 。\n",
            "Predicted translation: kia là tạp chí tiếng anh?\n",
            "kia là tạp chí tiếng anh?\n",
            "kia là tạp chí tiếng anh?\n",
            "1.0\n",
            "Input: 那 是 谁 的 英 文 杂 志 ？\n",
            "Predicted translation: kia là tạp chí tiếng anh của ai?\n",
            "kia là tạp chí tiếng anh của ai?\n",
            "kia là tạp chí tiếng anh của ai?\n",
            "1.0\n",
            "Input: 那 是 我 的 英 文 杂 志 。\n",
            "Predicted translation: kia là tạp chí tiếng anh của tôi.\n",
            "kia là tạp chí tiếng anh của tôi.\n",
            "kia là tạp chí tiếng anh của tôi.\n",
            "1.0\n",
            "Input: 那 是 我 的 老 师 的 英 文 杂 志 。\n",
            "Predicted translation: kia là tạp chí tiếng anh của cô giáo của tôi.\n",
            "kia là tạp chí tiếng anh của cô giáo của tôi.\n",
            "kia là tạp chí tiếng anh của cô giáo của tôi.\n",
            "1.0\n",
            "Input: 这 是 我 的 朋 友 的 英 语 书 。\n",
            "Predicted translation: đây là sách tiếng anh của bạn của tôi.\n",
            "đây là sách tiếng anh của bạn của tôi.\n",
            "đây là sách tiếng anh của bạn của tôi.\n",
            "1.0\n",
            "Input: 今 天 中 午 你 们 要 去 哪 儿 吃 饭 ？\n",
            "Predicted translation: buổi trưa hôm nay các bạn muốn đi đâu ăn cơm?\n",
            "buổi trưa hôm nay các bạn muốn đi đâu ăn cơm?\n",
            "buổi trưa hôm nay các bạn muốn đi đâu ăn cơm?\n",
            "1.0\n",
            "Input: 今 天 中 午 我 要 去 食 堂 吃 饭 。\n",
            "Predicted translation: buổi trưa hôm nay chúng tôi muốn đến nhà ăn ăn cơm.\n",
            "buổi trưa hôm nay chúng tôi muốn đến nhà ăn ăn cơm.\n",
            "buổi trưa hôm nay chúng tôi muốn đến nhà ăn ăn cơm.\n",
            "1.0\n",
            "Input: 你 们 要 吃 什 么 ？\n",
            "Predicted translation: các bạn muốn ăn gì?\n",
            "các bạn muốn ăn gì?\n",
            "các bạn muốn ăn gì?\n",
            "1.0\n",
            "Input: 我 们 要 吃 八 个 馒 头 。\n",
            "Predicted translation: chúng tôi muốn ăn 8 chiếc bánh bàn thầu.\n",
            "chúng tôi muốn ăn 8 chiếc bánh bàn thầu.\n",
            "chúng tôi muốn ăn 8 chiếc bánh bàn thầu.\n",
            "1.0\n",
            "Input: 你 们 要 喝 什 么 ？\n",
            "Predicted translation: các bạn muốn uống gì?\n",
            "các bạn muốn uống gì?\n",
            "các bạn muốn uống gì?\n",
            "1.0\n",
            "Input: 我 们 要 喝 汤 。\n",
            "Predicted translation: chúng tôi muốn uống canh.\n",
            "chúng tôi muốn uống canh.\n",
            "chúng tôi muốn uống canh.\n",
            "1.0\n",
            "Input: 你 们 要 喝 什 么 汤 ？\n",
            "Predicted translation: các bạn muốn uống gì?\n",
            "các bạn muốn uống canh gì?\n",
            "các bạn muốn uống gì?\n",
            "0.5789300674674098\n",
            "Input: 我 们 要 喝 鸡 蛋 汤 。\n",
            "Predicted translation: chúng tôi muốn uống canh trứng gà.\n",
            "chúng tôi muốn uống canh trứng gà.\n",
            "chúng tôi muốn uống canh trứng gà.\n",
            "1.0\n",
            "Input: 你 们 要 喝 几 碗 鸡 蛋 汤 ？\n",
            "Predicted translation: các bạn muốn uống mấy bát canh trứng gà?\n",
            "các bạn muốn uống mấy bát canh trứng gà?\n",
            "các bạn muốn uống mấy bát canh trứng gà?\n",
            "1.0\n",
            "Input: 我 们 要 喝 一 碗 鸡 蛋 汤 。\n",
            "Predicted translation: tôi muốn uống 1 bát canh trứng gà.\n",
            "tôi muốn uống 1 bát canh trứng gà.\n",
            "tôi muốn uống 1 bát canh trứng gà.\n",
            "1.0\n",
            "Input: 你 们 要 喝 酒 吗 ？\n",
            "Predicted translation: các bạn uống rượu không?\n",
            "các bạn uống rượu không?\n",
            "các bạn uống rượu không?\n",
            "1.0\n",
            "Input: 我 们 不 喝 酒 。\n",
            "Predicted translation: chúng tôi không uống rượu.\n",
            "chúng tôi không uống rượu.\n",
            "chúng tôi không uống rượu.\n",
            "1.0\n",
            "Input: 我 们 要 喝 啤 酒 。\n",
            "Predicted translation: chúng tôi muốn uống bia.\n",
            "chúng tôi muốn uống bia.\n",
            "chúng tôi muốn uống bia.\n",
            "1.0\n",
            "Input: 这 些 是 什 么 ？\n",
            "Predicted translation: những cái này là cái gì?\n",
            "những cái này là gì?\n",
            "những cái này là cái gì?\n",
            "0.537284965911771\n",
            "Input: 这 些 是 包 子 、 饺 子 和 面 条 。\n",
            "Predicted translation: những cái này là bánh bao, xùi cảo và mỳ sợi.\n",
            "những cái này là bánh bao, xùi cảo và mỳ sợi.\n",
            "những cái này là bánh bao, xùi cảo và mỳ sợi.\n",
            "1.0\n",
            "Input: 那 些 是 什 么 ？\n",
            "Predicted translation: những cái kia là gì?\n",
            "những cái kia là gì?\n",
            "những cái kia là gì?\n",
            "1.0\n",
            "Input: 那 些 是 我 的 英 语 书 。\n",
            "Predicted translation: những cái kia là sách tiếng anh của tôi.\n",
            "những cái kia là sách tiếng anh của tôi.\n",
            "những cái kia là sách tiếng anh của tôi.\n",
            "1.0\n",
            "Input: 你 姓 什 么 ？\n",
            "Predicted translation: bạn họ gì?\n",
            "bạn họ gì?\n",
            "bạn họ gì?\n",
            "1.0\n",
            "Input: 你 叫 什 么 名 字 ?\n",
            "Predicted translation: bạn tên là gì?\n",
            "bạn tên là gì?\n",
            "bạn tên là gì?\n",
            "1.0\n",
            "Input: 你 是 哪 国 人 ？\n",
            "Predicted translation: bạn là người nước nào?\n",
            "bạn là người nước nào?\n",
            "bạn là người nước nào?\n",
            "1.0\n",
            "Input: 我 是 越 南 人 。\n",
            "Predicted translation: tôi là người việt nam.\n",
            "tôi là người việt nam.\n",
            "tôi là người việt nam.\n",
            "1.0\n",
            "Input: 她 是 哪 国 人 ？\n",
            "Predicted translation: cô ta là người nước nào?\n",
            "cô ta là người nước nào?\n",
            "cô ta là người nước nào?\n",
            "1.0\n",
            "Input: 她 是 美 国 人 。\n",
            "Predicted translation: cô ta là người nước mỹ.\n",
            "cô ta là người nước mỹ.\n",
            "cô ta là người nước mỹ.\n",
            "1.0\n",
            "Input: 你 们 都 是 留 学 生 吗 ？\n",
            "Predicted translation: các bạn đều là lưu học sinh phải không?\n",
            "các bạn đều là lưu học sinh phải không?\n",
            "các bạn đều là lưu học sinh phải không?\n",
            "1.0\n",
            "Input: 我 们 都 是 越 南 留 学 生 。\n",
            "Predicted translation: chúng tôi đều là lưu học sinh việt nam.\n",
            "chúng tôi đều là lưu học sinh việt nam.\n",
            "chúng tôi đều là lưu học sinh việt nam.\n",
            "1.0\n",
            "Input: 你 们 学 习 什 么 ？\n",
            "Predicted translation: các bạn học cái gì?\n",
            "các bạn học cái gì?\n",
            "các bạn học cái gì?\n",
            "1.0\n",
            "Input: 我 们 都 在 汉 语 中 心 学 习 汉 语 。\n",
            "Predicted translation: tất cả chúng ta đều học tiếng trung tại trung tâm tiếng trung.\n",
            "chúng tôi đều học tiếng trung tại trung tâm tiếng trung\n",
            "tất cả chúng ta đều học tiếng trung tại trung tâm tiếng trung.\n",
            "0.5760844201603896\n",
            "Input: 汉 语 难 吗 ？\n",
            "Predicted translation: tiếng trung khó không?\n",
            "tiếng trung khó không?\n",
            "tiếng trung khó không?\n",
            "1.0\n",
            "Input: 汉 语 不 太 难 。\n",
            "Predicted translation: tiếng trung không khó lắm.\n",
            "tiếng trung không khó lắm.\n",
            "tiếng trung không khó lắm.\n",
            "1.0\n",
            "Input: 汉 字 很 难 ， 发 音 不 太 难 。\n",
            "Predicted translation: chữ hán rất khó\n",
            "chữ hán rất khó, phát âm không khó lắm.\n",
            "chữ hán rất khó\n",
            "0.21769656876473278\n",
            "Input: 我 爸 爸 要 买 三 斤 橘 子 。\n",
            "Predicted translation: bố tôi muốn mua ba cân quýt.\n",
            "bố tôi muốn mua ba cân quýt.\n",
            "bố tôi muốn mua ba cân quýt.\n",
            "1.0\n",
            "Input: 一 共 二 百 五 十 块 钱 。\n",
            "Predicted translation: tổng cộng hết 250 tệ.\n",
            "tổng cộng hết 250 tệ.\n",
            "tổng cộng hết 250 tệ.\n",
            "1.0\n",
            "Input: 今 天 我 们 都 很 累 。\n",
            "Predicted translation: hôm nay chúng tôi đều rất mệt.\n",
            "hôm nay chúng tôi đều rất mệt.\n",
            "hôm nay chúng tôi đều rất mệt.\n",
            "1.0\n",
            "Input: 我 们 都 很 高 兴 。\n",
            "Predicted translation: chúng tôi đều rất vui.\n",
            "chúng tôi đều rất vui.\n",
            "chúng tôi đều rất vui.\n",
            "1.0\n",
            "Input: 明 天 我 们 去 你 的 办 公 室 。\n",
            "Predicted translation: ngày mai chúng tôi đến văn phòng làm việc của bạn.\n",
            "ngày mai chúng tôi đến văn phòng làm việc của bạn.\n",
            "ngày mai chúng tôi đến văn phòng làm việc của bạn.\n",
            "1.0\n",
            "Input: 你 的 学 校 在 越 南 吗 ？\n",
            "Predicted translation: trường học của bạn ở việt nam phải không?\n",
            "trường học của bạn ở việt nam phải không?\n",
            "trường học của bạn ở việt nam phải không?\n",
            "1.0\n",
            "Input: 我 的 学 校 在 那 儿 。\n",
            "Predicted translation: trường học tôi ở đàng kia.\n",
            "trường học tôi ở đàng kia.\n",
            "trường học tôi ở đàng kia.\n",
            "1.0\n",
            "Input: 你 的 女 老 师 是 汉 语 老 师 吗 ？\n",
            "Predicted translation: cô giáo của bạn là giáo viên tiếng trung phải không?\n",
            "cô giáo của bạn là giáo viên tiếng trung phải không?\n",
            "cô giáo của bạn là giáo viên tiếng trung phải không?\n",
            "1.0\n",
            "Input: 我 的 女 老 师 是 英 语 老 师 。\n",
            "Predicted translation: cô giáo của tôi là giáo viên tiếng anh.\n",
            "cô giáo của tôi là giáo viên tiếng anh.\n",
            "cô giáo của tôi là giáo viên tiếng anh.\n",
            "1.0\n",
            "Input: 我 的 女 老 师 是 英 语 老 师 。\n",
            "Predicted translation: cô giáo của tôi là giáo viên tiếng anh.\n",
            "cô giáo của tôi là giáo viên tiếng anh.\n",
            "cô giáo của tôi là giáo viên tiếng anh.\n",
            "1.0\n",
            "Input: 你 知 道 你 的 女 老 师 住 在 哪 儿 吗 ？\n",
            "Predicted translation: bạn biết cô giáo bạn sống ở đâu không?\n",
            "bạn biết cô giáo bạn sống ở đâu không?\n",
            "bạn biết cô giáo bạn sống ở đâu không?\n",
            "1.0\n",
            "Input: 我 不 知 道 我 的 女 老 师 住 在 哪 儿 。\n",
            "Predicted translation: tôi không biết cô giáo tôi sống ở đâu?\n",
            "tôi không biết cô giáo tôi sống ở đâu?\n",
            "tôi không biết cô giáo tôi sống ở đâu?\n",
            "1.0\n",
            "Input: 你 的 女 老 师 住 在 这 个 楼 吗 ？\n",
            "Predicted translation: cô giáo bạn sống ở tòa nhà này phải không?\n",
            "cô giáo bạn sống ở tòa nhà này phải không?\n",
            "cô giáo bạn sống ở tòa nhà này phải không?\n",
            "1.0\n",
            "Input: 我 的 女 老 师 住 在 那 个 楼 。\n",
            "Predicted translation: cô giáo tôi sống ở tòa nhà kia.\n",
            "cô giáo tôi sống ở tòa nhà kia.\n",
            "cô giáo tôi sống ở tòa nhà kia.\n",
            "1.0\n",
            "Input: 你 的 女 老 师 的 房 间 号 是 多 少 ？\n",
            "Predicted translation: số phòng của cô giáo bạn là bao nhiêu?\n",
            "số phòng của cô giáo bạn là bao nhiêu?\n",
            "số phòng của cô giáo bạn là bao nhiêu?\n",
            "1.0\n",
            "Input: 我 的 女 老 师 的 房 间 号 是 九 九 九 。\n",
            "Predicted translation: số phòng của cô giáo tôi là 999.\n",
            "số phòng của cô giáo tôi là 999.\n",
            "số phòng của cô giáo tôi là 999.\n",
            "1.0\n",
            "Input: 你 知 道 你 的 女 老 师 的 手 机 号 是 多 少 吗 ？\n",
            "Predicted translation: bạn biết số di động của cô giáo bạn là bao nhiêu không?\n",
            "bạn biết số di động của cô giáo bạn là bao nhiêu không?\n",
            "bạn biết số di động của cô giáo bạn là bao nhiêu không?\n",
            "1.0\n",
            "Input: 我 不 知 道 我 的 女 老 师 的 手 机 号 是 多 少 。\n",
            "Predicted translation: tôi không biết số di động của cô giáo tôi là bao nhiêu.\n",
            "tôi không biết số di động của cô giáo tôi là bao nhiêu\n",
            "tôi không biết số di động của cô giáo tôi là bao nhiêu.\n",
            "0.912167909070388\n",
            "Input: 你 的 女 老 师 今 年 多 大 了 ？\n",
            "Predicted translation: cô giáo của bạn năm nay bao nhiêu tuổi rồi?\n",
            "cô giáo của bạn năm nay bao nhiêu tuổi rồi?\n",
            "cô giáo của bạn năm nay bao nhiêu tuổi rồi?\n",
            "1.0\n",
            "Input: 我 的 女 老 师 今 年 二 十 岁 了 。\n",
            "Predicted translation: năm nay cô giáo tôi 20 tuổi rồi.\n",
            "năm nay cô giáo tôi 20 tuổi rồi.\n",
            "năm nay cô giáo tôi 20 tuổi rồi.\n",
            "1.0\n",
            "Input: 你 的 女 老 师 的 办 公 室 在 哪 儿 ？\n",
            "Predicted translation: văn phòng của cô giáo bạn ở đâu?\n",
            "văn phòng của cô giáo bạn ở đâu?\n",
            "văn phòng của cô giáo bạn ở đâu?\n",
            "1.0\n",
            "Input: 我 的 女 老 师 的 办 公 室 在 我 的 家 。\n",
            "Predicted translation: văn phòng của cô giáo tôi ở nhà tôi.\n",
            "văn phòng của cô giáo tôi ở nhà tôi.\n",
            "văn phòng của cô giáo tôi ở nhà tôi.\n",
            "1.0\n",
            "Input: 你 的 家 在 哪 儿 ？\n",
            "Predicted translation: nhà bạn ở đâu?\n",
            "nhà bạn ở đâu?\n",
            "nhà bạn ở đâu?\n",
            "1.0\n",
            "Input: 我 的 家 在 越 南 。 你 住 在 哪 儿 / 你 住 哪 儿 / 你 在 哪 儿 住 ？\n",
            "Predicted translation: nhà tôi ở việt nam\n",
            "nhà tôi ở việt nam. bạn sống ở đâu?\n",
            "nhà tôi ở việt nam\n",
            "0.3004843884984905\n",
            "Input: 我 住 在 你 哥 哥 的 家 。\n",
            "Predicted translation: tôi sống ở nhà của anh trai bạn.\n",
            "tôi sống ở nhà của anh trai bạn.\n",
            "tôi sống ở nhà của anh trai bạn.\n",
            "1.0\n",
            "Input: 你 住 在 这 个 楼 吗 ？\n",
            "Predicted translation: bạn sống ở tòa nhà này phải không?\n",
            "bạn sống ở tòa nhà này phải không?\n",
            "bạn sống ở tòa nhà này phải không?\n",
            "1.0\n",
            "Input: 我 的 女 朋 友 的 房 间 号 是 九 零 八 。\n",
            "Predicted translation: số phòng của bạn gái tôi là 908.\n",
            "số phòng của bạn gái tôi là 908.\n",
            "số phòng của bạn gái tôi là 908.\n",
            "1.0\n",
            "Input: 我 的 哥 哥 知 道 她 的 朋 友 住 在 哪 儿 。\n",
            "Predicted translation: anh trai tôi biết bạn của cô ấy sống ở đâu.\n",
            "anh trai tôi biết bạn của cô ta sống ở đâu\n",
            "anh trai tôi biết bạn của cô ấy sống ở đâu.\n",
            "0.6315552371794037\n",
            "Input: 你 的 哥 哥 有 手 机 号 吗 ？\n",
            "Predicted translation: anh trai bạn có điện thoại di động không?\n",
            "anh trai bạn có điện thoại di động không?\n",
            "anh trai bạn có điện thoại di động không?\n",
            "1.0\n",
            "Input: 我 的 哥 哥 有 手 机 。\n",
            "Predicted translation: anh trai tôi có điện thoại di động.\n",
            "anh trai tôi có điện thoại di động.\n",
            "anh trai tôi có điện thoại di động.\n",
            "1.0\n",
            "Input: 你 的 哥 哥 的 手 机 号 是 多 少 ？\n",
            "Predicted translation: số điện thoại di động của anh trai bạn là bao nhiêu?\n",
            "số điện thoại di động của anh trai bạn là bao nhiêu?\n",
            "số điện thoại di động của anh trai bạn là bao nhiêu?\n",
            "1.0\n",
            "Input: 我 的 哥 哥 的 手 机 号 是 六 六 六 八 八 八 九 九 九\n",
            "Predicted translation: số điện thoại di động của anh trai tôi là 666.888.999.\n",
            "số điện thoại di động của anh trai tôi là 666.888.999.\n",
            "số điện thoại di động của anh trai tôi là 666.888.999.\n",
            "1.0\n",
            "Input: 我 很 喜 欢 你 的 哥 哥 的 手 机 号 。\n",
            "Predicted translation: tôi rất thích số điện thoại di động của anh trai bạn.\n",
            "tôi rất thích số điện thoại di động của anh trai bạn.\n",
            "tôi rất thích số điện thoại di động của anh trai bạn.\n",
            "1.0\n",
            "Input: 你 的 哥 哥 的 手 机 号 很 好 看 。\n",
            "Predicted translation: số di động của anh trai bạn rất đẹp.\n",
            "số di động của anh trai bạn rất đẹp.\n",
            "số di động của anh trai bạn rất đẹp.\n",
            "1.0\n",
            "Input: 你 哥 哥 在 哪 儿 买 这 个 手 机 号 ？\n",
            "Predicted translation: anh trai bạn mua số di động này ở đâu?\n",
            "anh trai bạn mua số di động này ở đâu?\n",
            "anh trai bạn mua số di động này ở đâu?\n",
            "1.0\n",
            "Input: 我 哥 哥 在 卖 手 机 商 店 买 这 个 手 机 号 。\n",
            "Predicted translation: anh trai tôi là số di động của bạn.\n",
            "anh trai tôi mua ở cửa hàng bán điện thoại di động.\n",
            "anh trai tôi là số di động của bạn.\n",
            "0.2543314312919721\n",
            "Input: 多 少 钱 ？\n",
            "Predicted translation: bao nhiêu tiền?\n",
            "bao nhiêu tiền?\n",
            "bao nhiêu tiền?\n",
            "1.0\n",
            "Input: 一 千 人 民 币 。\n",
            "Predicted translation: 1000 nhân dân tệ.\n",
            "1000 nhân dân tệ.\n",
            "1000 nhân dân tệ.\n",
            "1.0\n",
            "Input: 太 贵 了 ， 一 百 人 民 币 吧 。\n",
            "Predicted translation: đắt quá, 100 nhân dân tệ thôi.\n",
            "đắt quá, 100 nhân dân tệ thôi.\n",
            "đắt quá, 100 nhân dân tệ thôi.\n",
            "1.0\n",
            "Input: 一 百 人 民 币 太 少 了 ， 我 不 卖 给 你 。\n",
            "Predicted translation: bạn có thể cho tôi hết quá, một nghìn tệ nhé.\n",
            "100 nhân dân tệ ít quá, tôi không bán cho bạn.\n",
            "bạn có thể cho tôi hết quá, một nghìn tệ nhé.\n",
            "0.7765453555044466\n",
            "Input: 那 一 百 零 一 人 民 币 吧 ， 行 吗 ？\n",
            "Predicted translation: vậy 101 nhân dân tệ nhé, được không?\n",
            "vậy 101 nhân dân tệ nhé, được không?\n",
            "vậy 101 nhân dân tệ nhé, được không?\n",
            "1.0\n",
            "Input: 好 吧 ， 这 是 你 的 手 机 号 。\n",
            "Predicted translation: ok, đây là số di động của bạn.\n",
            "ok, đây là số di động của bạn.\n",
            "ok, đây là số di động của bạn.\n",
            "1.0\n",
            "Input: 明 天 是 你 的 姐 姐 的 生 日 吗 ？\n",
            "Predicted translation: ngày mai là sinh nhật của chị gái bạn phải không?\n",
            "ngày mai là sinh nhật của chị gái bạn phải không?\n",
            "ngày mai là sinh nhật của chị gái bạn phải không?\n",
            "1.0\n",
            "Input: 明 天 不 是 我 的 姐 姐 的 生 日 。\n",
            "Predicted translation: ngày mai không phải là sinh nhật của chị gái tôi.\n",
            "ngày mai không phải là sinh nhật của chị gái tôi.\n",
            "ngày mai không phải là sinh nhật của chị gái tôi.\n",
            "1.0\n",
            "Input: 明 天 是 我 的 妹 妹 的 生 日 。\n",
            "Predicted translation: ngày mai là sinh nhật của em gái bạn.\n",
            "ngày mai là sinh nhật của em gái bạn.\n",
            "ngày mai là sinh nhật của em gái bạn.\n",
            "1.0\n",
            "Input: 对 啊 ， 明 天 你 来 我 家 吧 。\n",
            "Predicted translation: đúng rồi, ngày mai bạn tới nhà tôi nhé.\n",
            "đúng rồi, ngày mai bạn tới nhà tôi nhé.\n",
            "đúng rồi, ngày mai bạn tới nhà tôi nhé.\n",
            "1.0\n",
            "Input: 我 不 知 道 你 的 家 在 哪 儿 。\n",
            "Predicted translation: tôi không biết nhà bạn ở đâu.\n",
            "tôi không biết nhà bạn ở đâu.\n",
            "tôi không biết nhà bạn ở đâu.\n",
            "1.0\n",
            "Input: 我 的 家 在 那 儿 呢 。\n",
            "Predicted translation: nhà tôi ở đàng kia kìa.\n",
            "nhà tôi ở đàng kia kìa.\n",
            "nhà tôi ở đàng kia kìa.\n",
            "1.0\n",
            "Input: 你 家 有 几 个 人 ？\n",
            "Predicted translation: nhà bạn có mấy người?\n",
            "nhà bạn có mấy người?\n",
            "nhà bạn có mấy người?\n",
            "1.0\n",
            "Input: 我 家 有 四 个 人 ， 他 们 是 我 爸 爸 、 妈 妈 、 妹 妹 和 我 。\n",
            "Predicted translation: nhà tôi có 4 người,họ là bố mẹ tôi,em gái tôi và tôi.\n",
            "nhà tôi có 4 người, họ là bố mẹ tôi, em gái tôi và tôi.\n",
            "nhà tôi có 4 người,họ là bố mẹ tôi,em gái tôi và tôi.\n",
            "0.40801564071026\n",
            "Input: 你 的 爸 爸 是 大 夫 吗 ？\n",
            "Predicted translation: bố bạn là bác sỹ phải không?\n",
            "bố bạn là bác sỹ phải không?\n",
            "bố bạn là bác sỹ phải không?\n",
            "1.0\n",
            "Input: 我 爸 爸 是 大 夫 。\n",
            "Predicted translation: bố tôi là bác sỹ.\n",
            "bố tôi là bác sỹ.\n",
            "bố tôi là bác sỹ.\n",
            "1.0\n",
            "Input: 你 妈 妈 呢 ？\n",
            "Predicted translation: thế còn mẹ bạn?\n",
            "thế còn mẹ bạn?\n",
            "thế còn mẹ bạn?\n",
            "1.0\n",
            "Input: 我 妈 妈 是 营 业 员 。\n",
            "Predicted translation: mẹ tôi là nhân viên giao dịch.\n",
            "mẹ tôi là nhân viên giao dịch.\n",
            "mẹ tôi là nhân viên giao dịch.\n",
            "1.0\n",
            "Input: 你 的 妹 妹 作 什 么 工 作 ？\n",
            "Predicted translation: em gái bạn làm công việc gì?\n",
            "em gái bạn làm công việc gì?\n",
            "em gái bạn làm công việc gì?\n",
            "1.0\n",
            "Input: 我 的 妹 妹 是 护 士 。\n",
            "Predicted translation: em gái tôi là y tá.\n",
            "em gái tôi là y tá.\n",
            "em gái tôi là y tá.\n",
            "1.0\n",
            "Input: 你 的 妹 妹 今 年 多 大 了 ？\n",
            "Predicted translation: em gái bạn năm nay bao nhiêu tuổi rồi?\n",
            "em gái bạn năm nay bao nhiêu tuổi rồi?\n",
            "em gái bạn năm nay bao nhiêu tuổi rồi?\n",
            "1.0\n",
            "Input: 我 的 妹 妹 今 年 二 十 岁 。\n",
            "Predicted translation: em gái tôi năm nay 20 tuổi.\n",
            "em gái tôi năm nay 20 tuổi.\n",
            "em gái tôi năm nay 20 tuổi.\n",
            "1.0\n",
            "Input: 你 的 妹 妹 读 什 么 大 学 ？\n",
            "Predicted translation: em gái bạn học trường đại học gì?\n",
            "em gái bạn học trường đại học gì?\n",
            "em gái bạn học trường đại học gì?\n",
            "1.0\n",
            "Input: 我 的 妹 妹 在 河 内 大 学 学 习 。\n",
            "Predicted translation: em gái tôi học trường đại học hà nội.\n",
            "em gái tôi học trường đại học hà nội.\n",
            "em gái tôi học trường đại học hà nội.\n",
            "1.0\n",
            "Input: 河 内 大 学 在 哪 儿 ？\n",
            "Predicted translation: trường đại học hà nội ở đâu?\n",
            "trường đại học hà nội ở đâu?\n",
            "trường đại học hà nội ở đâu?\n",
            "1.0\n",
            "Input: 我 不 知 道 河 内 大 学 在 哪 儿 。\n",
            "Predicted translation: tôi không biết trường đó ở đâu.\n",
            "tôi không biết trường đó ở đâu.\n",
            "tôi không biết trường đó ở đâu.\n",
            "1.0\n",
            "Input: 河 内 大 学 在 河 内 。\n",
            "Predicted translation: trường đại học hà nội ở hà nội.\n",
            "trường đại học hà nội ở hà nội.\n",
            "trường đại học hà nội ở hà nội.\n",
            "1.0\n",
            "Input: 我 先 给 你 们 介 绍 一 下 儿 ， 这 位 是 我 大 学 教 授 ， 这 位 是 我 学 校 校 长 。\n",
            "Predicted translation: tôi giới thiệu cho các bạn một chút, vị này là học sinh mới của chúng ta, cũng là bạn cùng phòng của tôi.\n",
            "tôi xin được giới thiệu cho các bạn trước chút, vị này là giáo sư trường tôi, vị này là hiệu trưởng trường tôi.\n",
            "tôi giới thiệu cho các bạn một chút, vị này là học sinh mới của chúng ta, cũng là bạn cùng phòng của tôi.\n",
            "0.26512298021756175\n",
            "Input: 她 是 我 的 秘 书 ， 她 是 美 国 人 。\n",
            "Predicted translation: cô ta là thư ký của tôi, cô ta là người nước mỹ.\n",
            "cô ta là thư ký của tôi, cô ta là người nước mỹ.\n",
            "cô ta là thư ký của tôi, cô ta là người nước mỹ.\n",
            "1.0\n",
            "Input: 欢 迎 你 们 来 我 家 。\n",
            "Predicted translation: chào mừng các bạn tới nhà tôi.\n",
            "chào mừng các bạn tới nhà tôi.\n",
            "chào mừng các bạn tới nhà tôi.\n",
            "1.0\n",
            "Input: 他 们 俩 都 是 美 国 留 学 生 。\n",
            "Predicted translation: hai bọn họ đều là lưu học sinh nước mỹ.\n",
            "hai bọn họ đều là lưu học sinh nước mỹ.\n",
            "hai bọn họ đều là lưu học sinh nước mỹ.\n",
            "1.0\n",
            "Input: 你 们 在 哪 儿 学 习 汉 语 ？\n",
            "Predicted translation: các bạn học tiếng trung ở đâu?\n",
            "các bạn học tiếng trung ở đâu?\n",
            "các bạn học tiếng trung ở đâu?\n",
            "1.0\n",
            "Input: 我 们 在 北 京 语 言 大 学 学 习 汉 语 。\n",
            "Predicted translation: chúng tôi học tiếng trung ở trường đại học ngôn ngữ bắc kinh.\n",
            "chúng tôi học tiếng trung ở trường đại học ngôn ngữ bắc kinh.\n",
            "chúng tôi học tiếng trung ở trường đại học ngôn ngữ bắc kinh.\n",
            "1.0\n",
            "Input: 你 们 的 老 师 怎 么 样 ？\n",
            "Predicted translation: cô giáo của các bạn thế nào?\n",
            "cô giáo của các bạn thế nào?\n",
            "cô giáo của các bạn thế nào?\n",
            "1.0\n",
            "Input: 你 觉 得 学 汉 语 难 吗 ？\n",
            "Predicted translation: bạn cảm thấy học tiếng trung khó không?\n",
            "bạn cảm thấy học tiếng trung khó không?\n",
            "bạn cảm thấy học tiếng trung khó không?\n",
            "1.0\n",
            "Input: 我 觉 得 语 法 很 难 ， 听 和 说 也 比 较 容 易 ， 但 是 读 和 写 很 难 。\n",
            "Predicted translation: tôi cảm thấy ngữ pháp rất khó, nghe và nói cũng tương đối dễ, nhưng mà đọc và viết rất khó.\n",
            "tôi cảm thấy ngữ pháp rất khó, nghe và nói cũng tương đối dễ, nhưng mà đọc và viết rất khó.\n",
            "tôi cảm thấy ngữ pháp rất khó, nghe và nói cũng tương đối dễ, nhưng mà đọc và viết rất khó.\n",
            "1.0\n",
            "Input: 我 给 你 们 介 绍 一 下 儿 ， 这 位 是 我 们 的 新 同 学 ， 也 是 我 的 舍 友 。\n",
            "Predicted translation: tôi giới thiệu cho các bạn một chút, vị này là học sinh mới của chúng ta, cũng là bạn cùng phòng của tôi.\n",
            "tôi giới thiệu cho các bạn một chút, vị này là học sinh mới của chúng ta, cũng là bạn cùng phòng của tôi.\n",
            "tôi giới thiệu cho các bạn một chút, vị này là học sinh mới của chúng ta, cũng là bạn cùng phòng của tôi.\n",
            "1.0\n",
            "Input: 你 们 在 哪 个 班 学 习 汉 语 ？\n",
            "Predicted translation: các bạn học tiếng trung ở lớp nào?\n",
            "các bạn học tiếng trung ở lớp nào?\n",
            "các bạn học tiếng trung ở lớp nào?\n",
            "1.0\n",
            "Input: 我 们 在 九 九 九 班 学 习 汉 语 。\n",
            "Predicted translation: chúng tôi học tiếng trung ở lớp 999.\n",
            "chúng tôi học tiếng trung ở lớp 999.\n",
            "chúng tôi học tiếng trung ở lớp 999.\n",
            "1.0\n",
            "Input: 你 们 的 老 师 是 谁 ？\n",
            "Predicted translation: giáo viên của các bạn là ai?\n",
            "giáo viên của các bạn là ai?\n",
            "giáo viên của các bạn là ai?\n",
            "1.0\n",
            "Input: 我 们 的 老 师 是 英 国 人 。\n",
            "Predicted translation: giáo viên của chúng tôi là người nước anh.\n",
            "giáo viên của chúng tôi là người nước anh.\n",
            "giáo viên của chúng tôi là người nước anh.\n",
            "1.0\n",
            "Input: 你 有 箱 子 吗 ？\n",
            "Predicted translation: bạn có vali không?\n",
            "bạn có vali không?\n",
            "bạn có vali không?\n",
            "1.0\n",
            "Input: 我 没 有 箱 子 。\n",
            "Predicted translation: tôi không có vali.\n",
            "tôi không có vali.\n",
            "tôi không có vali.\n",
            "1.0\n",
            "Input: 你 有 几 个 箱 子 ？\n",
            "Predicted translation: bạn có mấy chiếc vali?\n",
            "bạn có mấy chiếc vali?\n",
            "bạn có mấy chiếc vali?\n",
            "1.0\n",
            "Input: 我 有 两 个 箱 子 。\n",
            "Predicted translation: tôi có 2 chiếc vali.\n",
            "tôi có 2 chiếc vali.\n",
            "tôi có 2 chiếc vali.\n",
            "1.0\n",
            "Input: 你 的 箱 子 是 什 么 颜 色 的 ？\n",
            "Predicted translation: vali của bạn mầu gì?\n",
            "vali của bạn mầu gì?\n",
            "vali của bạn mầu gì?\n",
            "1.0\n",
            "Input: 我 的 箱 子 是 黑 色 的 ， 我 的 箱 子 在 那 儿 呢 。\n",
            "Predicted translation: vali của tôi màu đen\n",
            "vali của tôi màu đen, vali của tôi ở đàng kia kìa.\n",
            "vali của tôi màu đen\n",
            "0.16490932887256968\n",
            "Input: 你 的 箱 子 重 吗 ？\n",
            "Predicted translation: vali của bạn nặng không?\n",
            "vali của bạn nặng không?\n",
            "vali của bạn nặng không?\n",
            "1.0\n",
            "Input: 我 的 箱 子 不 太 重 ， 很 轻 的 。\n",
            "Predicted translation: vali của tôi không nặng lắm\n",
            "vali của tôi không nặng lắm, rất nhẹ.\n",
            "vali của tôi không nặng lắm\n",
            "0.5444460596606694\n",
            "Input: 请 问 ， 这 是 什 么 ？\n",
            "Predicted translation: xin hỏi, đây là cái gì?\n",
            "xin hỏi, đây là cái gì?\n",
            "xin hỏi, đây là cái gì?\n",
            "1.0\n",
            "Input: 这 是 中 药 ， 这 是 西 药 。\n",
            "Predicted translation: đây là thuốc bắc, đây là thuốc tây.\n",
            "đây là thuốc bắc, đây là thuốc tây.\n",
            "đây là thuốc bắc, đây là thuốc tây.\n",
            "1.0\n",
            "Input: 你 要 吃 什 么 药 ?\n",
            "Predicted translation: bạn muốn uống thuốc gì?\n",
            "bạn muốn uống thuốc gì?\n",
            "bạn muốn uống thuốc gì?\n",
            "1.0\n",
            "Input: 我 要 吃 中 药 和 西 药 。\n",
            "Predicted translation: tôi muốn uống thuốc bắc và thuốc tây.\n",
            "tôi muốn uống thuốc bắc và thuốc tây.\n",
            "tôi muốn uống thuốc bắc và thuốc tây.\n",
            "1.0\n",
            "Input: 这 些 是 什 么 ？\n",
            "Predicted translation: những cái này là cái gì?\n",
            "những cái này là cái gì?\n",
            "những cái này là cái gì?\n",
            "1.0\n",
            "Input: 这 些 是 日 用 品 、 衣 服 、 雨 伞 和 香 水 。\n",
            "Predicted translation: những cái này là đồ dùng hàng ngày, quần áo, ô che mưa và nước hoa.\n",
            "những cái này là đồ dùng hàng ngày, quần áo, ô che mưa và nước hoa.\n",
            "những cái này là đồ dùng hàng ngày, quần áo, ô che mưa và nước hoa.\n",
            "1.0\n",
            "Input: 我 的 箱 子 很 重 。 你 的 箱 子 重 不 重 ？\n",
            "Predicted translation: chiếc vali của tôi rất nặng. chiếc của bạn nặng hay không nặng?\n",
            "chiếc vali của tôi rất nặng. chiếc của bạn nặng hay không nặng?\n",
            "chiếc vali của tôi rất nặng. chiếc của bạn nặng hay không nặng?\n",
            "1.0\n",
            "Input: 这 个 黑 色 的 很 重 ， 那 个 红 色 的 比 较 轻 。\n",
            "Predicted translation: cái mầu đen này rất nặng, cái màu đỏ kia tương đối nhẹ.\n",
            "cái mầu đen này rất nặng, cái màu đỏ kia tương đối nhẹ.\n",
            "cái mầu đen này rất nặng, cái màu đỏ kia tương đối nhẹ.\n",
            "1.0\n",
            "Input: 你 的 箱 子 是 新 的 还 是 旧 的 ？\n",
            "Predicted translation: vali của bạn là chiếc mới hay là chiếc cũ?\n",
            "vali của bạn là chiếc mới hay là chiếc cũ?\n",
            "vali của bạn là chiếc mới hay là chiếc cũ?\n",
            "1.0\n",
            "Input: 我 的 箱 子 是 新 的 ， 你 的 是 旧 的 。\n",
            "Predicted translation: vali của tôi là chiếc mới\n",
            "vali của tôi là chiếc mới, của bạn là chiếc cũ.\n",
            "vali của tôi là chiếc mới\n",
            "0.3302232277439296\n",
            "Input: 先 生 ， 这 些 白 色 的 是 什 么 东 西 ？\n",
            "Predicted translation: thưa ông, những cái mầu trắng này là đồ gì vậy?\n",
            "thưa ông, những cái mầu trắng này là đồ gì vậy?\n",
            "thưa ông, những cái mầu trắng này là đồ gì vậy?\n",
            "1.0\n",
            "Input: 这 些 白 色 的 是 西 药 。\n",
            "Predicted translation: những cái mầu trắng này là thuốc tây.\n",
            "những cái mầu trắng này là thuốc tây.\n",
            "những cái mầu trắng này là thuốc tây.\n",
            "1.0\n",
            "Input: 这 种 药 很 贵 的 。 你 要 吃 点 儿 吗 ？\n",
            "Predicted translation: thuốc này rất đắt tiền đó, ông muốn uống chút không?\n",
            "thuốc này rất đắt tiền đó, ông muốn uống chút không?\n",
            "thuốc này rất đắt tiền đó, ông muốn uống chút không?\n",
            "1.0\n",
            "Input: 好 久 不 见 你 了 。 你 最 近 怎 么 样 ？\n",
            "Predicted translation: lâu ngày không gặp bạn, dạo này bạn thế nào?\n",
            "lâu ngày không gặp bạn, dạo này bạn thế nào?\n",
            "lâu ngày không gặp bạn, dạo này bạn thế nào?\n",
            "1.0\n",
            "Input: 我 很 好 ， 谢 谢 。 最 近 你 的 工 作 忙 不 忙 ？\n",
            "Predicted translation: tôi rất khỏe, cảm ơn. dạo này công việc bạn bận hay không bận?\n",
            "tôi rất khỏe, cảm ơn. dạo này công việc bạn bận hay không bận?\n",
            "tôi rất khỏe, cảm ơn. dạo này công việc bạn bận hay không bận?\n",
            "1.0\n",
            "Input: 你 要 喝 点 儿 什 么 吗 ？\n",
            "Predicted translation: bạn muốn uống chút gì không?\n",
            "bạn muốn uống chút gì không?\n",
            "bạn muốn uống chút gì không?\n",
            "1.0\n",
            "Input: 你 要 喝 咖 啡 还 是 喝 茶 ？\n",
            "Predicted translation: bạn muốn uống trà hay là café?\n",
            "bạn muốn uống trà hay là café?\n",
            "bạn muốn uống trà hay là café?\n",
            "1.0\n",
            "Input: 我 要 喝 点 儿 热 茶 。\n",
            "Predicted translation: tôi muốn uống chút trà nóng.\n",
            "tôi muốn uống chút trà nóng.\n",
            "tôi muốn uống chút trà nóng.\n",
            "1.0\n",
            "Input: 你 的 车 是 什 么 颜 色 的 ？\n",
            "Predicted translation: xe của bạn mầu gì?\n",
            "xe của bạn mầu gì?\n",
            "xe của bạn mầu gì?\n",
            "1.0\n",
            "Input: 我 的 车 是 黑 色 的 。\n",
            "Predicted translation: xe của tôi mầu đen\n",
            "xe của tôi mầu đen.\n",
            "xe của tôi mầu đen\n",
            "0.668740304976422\n",
            "Input: 你 的 车 是 新 的 还 是 旧 的 ？\n",
            "Predicted translation: xe của bạn mới hay cũ?\n",
            "xe của bạn mới hay cũ?\n",
            "xe của bạn mới hay cũ?\n",
            "1.0\n",
            "Input: 我 的 车 是 新 的 。\n",
            "Predicted translation: xe của tôi là chiếc mới.\n",
            "xe của tôi là chiếc mới.\n",
            "xe của tôi là chiếc mới.\n",
            "1.0\n",
            "Input: 那 辆 黑 色 的 是 你 的 车 吗 ？\n",
            "Predicted translation: chiếc xe mầu đen kia là của bạn phải không?\n",
            "chiếc xe mầu đen kia là của bạn phải không?\n",
            "chiếc xe mầu đen kia là của bạn phải không?\n",
            "1.0\n",
            "Input: 我 是 这 个 公 司 的 经 理 ， 她 是 我 的 秘 书 。\n",
            "Predicted translation: tôi là giám đốc của công ty này, cô ta là thư ký của tôi.\n",
            "tôi là giám đốc của công ty này, cô ta là thư ký của tôi.\n",
            "tôi là giám đốc của công ty này, cô ta là thư ký của tôi.\n",
            "1.0\n",
            "Input: 我 有 两 辆 摩 托 车 ， 三 辆 汽 车 和 一 辆 自 行 车 。\n",
            "Predicted translation: tôi có hai chiếc xe máy, 3 chiếc oto và một chiếc xe đạp.\n",
            "tôi có hai chiếc xe máy, 3 chiếc oto và một chiếc xe đạp.\n",
            "tôi có hai chiếc xe máy, 3 chiếc oto và một chiếc xe đạp.\n",
            "1.0\n",
            "Input: 你 知 道 我 的 自 行 车 在 哪 儿 吗 ？\n",
            "Predicted translation: bạn biết xe đạp của tôi ở đâu không?\n",
            "bạn biết xe đạp của tôi ở đâu không?\n",
            "bạn biết xe đạp của tôi ở đâu không?\n",
            "1.0\n",
            "Input: 这 是 我 全 家 的 照 片 。 你 有 姐 姐 吗 ？\n",
            "Predicted translation: đây là ảnh của cả gia đình tôi. bạn có chị gái không?\n",
            "đây là ảnh của cả gia đình tôi. bạn có chị gái không?\n",
            "đây là ảnh của cả gia đình tôi. bạn có chị gái không?\n",
            "1.0\n",
            "Input: 我 没 有 姐 姐 ， 我 只 有 一 个 妹 妹 。\n",
            "Predicted translation: tôi không có chị gái, tôi không có một em gái.\n",
            "tôi không có chị gái, tôi chỉ có một em gái.\n",
            "tôi không có chị gái, tôi không có một em gái.\n",
            "0.7016879391277372\n",
            "Input: 我 的 妈 妈 是 大 夫 ， 我 的 妹 妹 是 护 士 ， 我 的 爸 爸 是 经 理 ， 我 是 学 生 。\n",
            "Predicted translation: mẹ tôi là bác sỹ, em gái tôi là y tá, em gái tôi là y tá, em gái tôi là học sinh.\n",
            "mẹ tôi là bác sỹ, em gái tôi là y tá, bố tôi là giám đốc, tôi là học sinh.\n",
            "mẹ tôi là bác sỹ, em gái tôi là y tá, em gái tôi là y tá, em gái tôi là học sinh.\n",
            "0.57703623574782\n",
            "Input: 你 们 的 是 一 家 什 么 公 司 ？\n",
            "Predicted translation: công ty các bạn là công ty gì?\n",
            "công ty các bạn là công ty gì?\n",
            "công ty các bạn là công ty gì?\n",
            "1.0\n",
            "Input: 我 们 的 公 司 是 外 贸 公 司 。\n",
            "Predicted translation: công ty chúng tôi là công ty thương mại quốc tế.\n",
            "công ty chúng tôi là công ty thương mại quốc tế.\n",
            "công ty chúng tôi là công ty thương mại quốc tế.\n",
            "1.0\n",
            "Input: 你 们 的 公 司 有 大 概 多 少 个 职 员 ？\n",
            "Predicted translation: công ty các bạn có bao nhiêu nhân viên?\n",
            "công ty các bạn có bao nhiêu nhân viên?\n",
            "công ty các bạn có bao nhiêu nhân viên?\n",
            "1.0\n",
            "Input: 我 们 的 公 司 有 大 概 一 百 五 十 个 职 员 。\n",
            "Predicted translation: công ty chúng tôi có khoảng 150 nhân viên.\n",
            "công ty chúng tôi có khoảng 150 nhân viên.\n",
            "công ty chúng tôi có khoảng 150 nhân viên.\n",
            "1.0\n",
            "Input: 你 是 她 的 职 员 吗 ？\n",
            "Predicted translation: bạn là nhân viên của cô ta phải không?\n",
            "bạn là nhân viên của cô ta phải không?\n",
            "bạn là nhân viên của cô ta phải không?\n",
            "1.0\n",
            "Input: 她 是 你 的 秘 书 吗 ？\n",
            "Predicted translation: cô ta là thư ký của bạn phải không?\n",
            "cô ta là thư ký của bạn phải không?\n",
            "cô ta là thư ký của bạn phải không?\n",
            "1.0\n",
            "Input: 你 的 哥 哥 结 婚 了 吗 ？\n",
            "Predicted translation: anh trai bạn đã kết hôn chưa?\n",
            "anh trai bạn đã kết hôn chưa?\n",
            "anh trai bạn đã kết hôn chưa?\n",
            "1.0\n",
            "Input: 你 家 有 几 个 孩 子 了 ？\n",
            "Predicted translation: nhà bạn có mấy nhóc rồi?\n",
            "nhà bạn có mấy nhóc rồi?\n",
            "nhà bạn có mấy nhóc rồi?\n",
            "1.0\n",
            "Input: 我 家 有 两 个 孩 子 ， 老 大 是 女 的 ， 老 二 是 男 的 。\n",
            "Predicted translation: nhà tôi có hai đứa, đứa lớn là con gái, đứa thứ hai là con trai.\n",
            "nhà tôi có hai đứa, đứa lớn là con gái, đứa thứ hai là con trai.\n",
            "nhà tôi có hai đứa, đứa lớn là con gái, đứa thứ hai là con trai.\n",
            "1.0\n",
            "Input: 你 的 哥 哥 是 银 行 职 员 吗 ？\n",
            "Predicted translation: anh trai bạn là nhân viên ngân hàng phải không?\n",
            "anh trai bạn là nhân viên ngân hàng phải không?\n",
            "anh trai bạn là nhân viên ngân hàng phải không?\n",
            "1.0\n",
            "Input: 我 的 哥 哥 不 是 银 行 职 员 ， 我 的 姐 姐 是 银 行 职 员 。\n",
            "Predicted translation: anh trai tôi không phải là nhân viên ngân hàng, chị gái tôi là nhân viên ngân hàng.\n",
            "anh trai tôi không phải là nhân viên ngân hàng, chị gái tôi là nhân viên ngân hàng.\n",
            "anh trai tôi không phải là nhân viên ngân hàng, chị gái tôi là nhân viên ngân hàng.\n",
            "1.0\n",
            "Input: 你 的 妹 妹 是 老 师 还 是 护 士 ？\n",
            "Predicted translation: em gái bạn là giáo viên hay là y tá?\n",
            "em gái bạn là giáo viên hay là y tá?\n",
            "em gái bạn là giáo viên hay là y tá?\n",
            "1.0\n",
            "Input: 我 的 妹 妹 是 护 士 。\n",
            "Predicted translation: em gái tôi là y tá.\n",
            "em gái tôi là y tá.\n",
            "em gái tôi là y tá.\n",
            "1.0\n",
            "Input: 你 的 妹 妹 在 哪 儿 工 作 ？\n",
            "Predicted translation: em gái bạn làm việc ở đâu?\n",
            "em gái bạn làm việc ở đâu?\n",
            "em gái bạn làm việc ở đâu?\n",
            "1.0\n",
            "0.8325250989408719\n"
          ],
          "name": "stdout"
        }
      ]
    },
    {
      "cell_type": "code",
      "metadata": {
        "id": "Z3N6qLbDgDIN",
        "outputId": "f254cf86-0b0d-49be-e679-fb7cee66bc87",
        "colab": {
          "base_uri": "https://localhost:8080/"
        }
      },
      "source": [
        "print(scores/num)"
      ],
      "execution_count": 113,
      "outputs": [
        {
          "output_type": "stream",
          "text": [
            "0.09180098778605363\n"
          ],
          "name": "stdout"
        }
      ]
    }
  ]
}